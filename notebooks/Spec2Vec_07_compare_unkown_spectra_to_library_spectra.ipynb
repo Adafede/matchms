{
 "cells": [
  {
   "cell_type": "markdown",
   "metadata": {},
   "source": [
    "# Spec2Vec - Find similar compounds for unknown substances\n",
    "One very important use case for a spectral similariy measure is libarary matching.  \n",
    "This means matching previously unseen/unknown spectra to known, annotated sepctra in a larger library."
   ]
  },
  {
   "cell_type": "code",
   "execution_count": 1,
   "metadata": {},
   "outputs": [],
   "source": [
    "# Locations\n",
    "ROOT = \"C:\\\\OneDrive - Netherlands eScience Center\\\\Project_Wageningen_iOMEGA\"\n",
    "PATH_SPEC2VEC = ROOT + \"\\\\Spec2Vec\\\\code\\\\\"\n",
    "PATH_MS_DATA = ROOT + \"\\\\Data\\\\GNPS_all\\\\\"\n",
    "PATH_SAVE_MODEL = ROOT + \"\\\\Spec2Vec\\\\models_trained\\\\\"\n",
    "PATH_COMPUTED = ROOT + \"\\\\Spec2Vec\\\\computed_results\\\\\"\n",
    "PATH_OUTPUT = ROOT + \"\\\\Spec2Vec\\\\output_plots\\\\\""
   ]
  },
  {
   "cell_type": "code",
   "execution_count": 2,
   "metadata": {},
   "outputs": [],
   "source": [
    "import numpy as np\n",
    "import sys\n",
    "sys.path.insert(0, PATH_SPEC2VEC)"
   ]
  },
  {
   "cell_type": "code",
   "execution_count": 3,
   "metadata": {},
   "outputs": [],
   "source": [
    "import helper_functions as functions\n",
    "import MS_functions\n",
    "import MS_similarity_classical as MS_sim_classic\n",
    "from similarity_measure import SimilarityMeasures\n",
    "from plotting_functions import plot_precentile\n",
    "\n",
    "from scipy import spatial"
   ]
  },
  {
   "cell_type": "markdown",
   "metadata": {},
   "source": [
    "### Load filtered allGNPS_positive dataset OR:  Import& filter allGNPS_positive dataset"
   ]
  },
  {
   "cell_type": "code",
   "execution_count": 4,
   "metadata": {},
   "outputs": [
    {
     "name": "stdout",
     "output_type": "stream",
     "text": [
      "Spectra json file found and loaded.\n"
     ]
    }
   ],
   "source": [
    "file_json = PATH_MS_DATA + \"allGNPS_positive_minmax_10_1000_2dec_exp08_191115.json\"\n",
    "file_mgf = ROOT + \"\\\\Data\\\\GNPS_all\\\\\" + \"allGNPS_positive_191106.mgf\"\n",
    "\n",
    "spectra, spectra_dict, MS_documents, MS_documents_intensity, spectra_metadata = MS_functions.load_MGF_data(file_mgf = file_mgf,\n",
    "                                                           file_json = file_json,\n",
    "                                                           num_decimals = 2,\n",
    "                                                           min_frag = 0.0, max_frag = 1000.0,\n",
    "                                                           min_loss = 5.0, max_loss = 500.0,\n",
    "                                                           min_intensity_perc = 0,\n",
    "                                                           exp_intensity_filter = 0.8,\n",
    "                                                           min_keep_peaks_0 = 10,\n",
    "                                                           min_keep_peaks_per_mz = 20/200,\n",
    "                                                           min_peaks = 10,\n",
    "                                                           max_peaks = 1000,\n",
    "                                                           peak_loss_words = ['peak_', 'loss_'])"
   ]
  },
  {
   "cell_type": "markdown",
   "metadata": {},
   "source": [
    "### Inspect spectra metadata"
   ]
  },
  {
   "cell_type": "code",
   "execution_count": 5,
   "metadata": {},
   "outputs": [
    {
     "data": {
      "text/html": [
       "<div>\n",
       "<style scoped>\n",
       "    .dataframe tbody tr th:only-of-type {\n",
       "        vertical-align: middle;\n",
       "    }\n",
       "\n",
       "    .dataframe tbody tr th {\n",
       "        vertical-align: top;\n",
       "    }\n",
       "\n",
       "    .dataframe thead th {\n",
       "        text-align: right;\n",
       "    }\n",
       "</style>\n",
       "<table border=\"1\" class=\"dataframe\">\n",
       "  <thead>\n",
       "    <tr style=\"text-align: right;\">\n",
       "      <th></th>\n",
       "      <th>doc_ID</th>\n",
       "      <th>gnps_ID</th>\n",
       "      <th>name</th>\n",
       "      <th>title</th>\n",
       "      <th>precursor_mz</th>\n",
       "      <th>num_peaks_losses</th>\n",
       "      <th>inchi</th>\n",
       "      <th>inchikey</th>\n",
       "      <th>smiles</th>\n",
       "      <th>charge</th>\n",
       "    </tr>\n",
       "  </thead>\n",
       "  <tbody>\n",
       "    <tr>\n",
       "      <th>0</th>\n",
       "      <td>0</td>\n",
       "      <td>CCMSLIB00005435503</td>\n",
       "      <td>chenodeoxycholic acid M-H2O+H</td>\n",
       "      <td>NaN</td>\n",
       "      <td>375.290</td>\n",
       "      <td>93</td>\n",
       "      <td>\"InChI=1S/C24H40O4/c1-14(4-7-21(27)28)17-5-6-1...</td>\n",
       "      <td>RUDATBOHQWOJDD-GYHJSIKNSA-N</td>\n",
       "      <td>C[C@H](CCC(=O)O)[C@H]1CC[C@@H]2[C@@]1(CC[C@H]3...</td>\n",
       "      <td>1</td>\n",
       "    </tr>\n",
       "    <tr>\n",
       "      <th>1</th>\n",
       "      <td>1</td>\n",
       "      <td>CCMSLIB00005435504</td>\n",
       "      <td>chenodeoxycholic acid 2M+H</td>\n",
       "      <td>NaN</td>\n",
       "      <td>785.593</td>\n",
       "      <td>101</td>\n",
       "      <td>\"InChI=1S/C24H40O4/c1-14(4-7-21(27)28)17-5-6-1...</td>\n",
       "      <td>RUDATBOHQWOJDD-PODLAYBOSA-N</td>\n",
       "      <td>C[C@H](CCC(=O)O)[C@H]1CC[C@@H]2[C@@]1(CC[C@H]3...</td>\n",
       "      <td>1</td>\n",
       "    </tr>\n",
       "    <tr>\n",
       "      <th>2</th>\n",
       "      <td>2</td>\n",
       "      <td>CCMSLIB00005435505</td>\n",
       "      <td>chenodeoxycholic acid 2M+Na</td>\n",
       "      <td>NaN</td>\n",
       "      <td>807.575</td>\n",
       "      <td>21</td>\n",
       "      <td>\"InChI=1S/C24H40O4/c1-14(4-7-21(27)28)17-5-6-1...</td>\n",
       "      <td>RUDATBOHQWOJDD-PODLAYBOSA-N</td>\n",
       "      <td>C[C@H](CCC(=O)O)[C@H]1CC[C@@H]2[C@@]1(CC[C@H]3...</td>\n",
       "      <td>1</td>\n",
       "    </tr>\n",
       "    <tr>\n",
       "      <th>3</th>\n",
       "      <td>3</td>\n",
       "      <td>CCMSLIB00005435506</td>\n",
       "      <td>cholic acid M+Na</td>\n",
       "      <td>NaN</td>\n",
       "      <td>431.277</td>\n",
       "      <td>35</td>\n",
       "      <td>\"InChI=1S/C24H40O5/c1-13(4-7-21(28)29)16-5-6-1...</td>\n",
       "      <td>BHQCQFFYRZLCQQ-IHELEQLESA-N</td>\n",
       "      <td>C[C@H](CCC(=O)O)[C@H]1CC[C@@H]2[C@@]1([C@H](C[...</td>\n",
       "      <td>1</td>\n",
       "    </tr>\n",
       "    <tr>\n",
       "      <th>4</th>\n",
       "      <td>4</td>\n",
       "      <td>CCMSLIB00005435507</td>\n",
       "      <td>deoxycholic acid M-H2O+H</td>\n",
       "      <td>NaN</td>\n",
       "      <td>375.289</td>\n",
       "      <td>157</td>\n",
       "      <td>\"InChI=1S/C24H40O4/c1-14(4-9-22(27)28)18-7-8-1...</td>\n",
       "      <td>KXGVEGMKQFWNSR-BKAWJTANSA-N</td>\n",
       "      <td>C[C@H](CCC(=O)O)[C@H]1CC[C@@H]2[C@@]1([C@H](C[...</td>\n",
       "      <td>1</td>\n",
       "    </tr>\n",
       "  </tbody>\n",
       "</table>\n",
       "</div>"
      ],
      "text/plain": [
       "   doc_ID             gnps_ID                           name title  \\\n",
       "0       0  CCMSLIB00005435503  chenodeoxycholic acid M-H2O+H   NaN   \n",
       "1       1  CCMSLIB00005435504     chenodeoxycholic acid 2M+H   NaN   \n",
       "2       2  CCMSLIB00005435505    chenodeoxycholic acid 2M+Na   NaN   \n",
       "3       3  CCMSLIB00005435506               cholic acid M+Na   NaN   \n",
       "4       4  CCMSLIB00005435507       deoxycholic acid M-H2O+H   NaN   \n",
       "\n",
       "   precursor_mz  num_peaks_losses  \\\n",
       "0       375.290                93   \n",
       "1       785.593               101   \n",
       "2       807.575                21   \n",
       "3       431.277                35   \n",
       "4       375.289               157   \n",
       "\n",
       "                                               inchi  \\\n",
       "0  \"InChI=1S/C24H40O4/c1-14(4-7-21(27)28)17-5-6-1...   \n",
       "1  \"InChI=1S/C24H40O4/c1-14(4-7-21(27)28)17-5-6-1...   \n",
       "2  \"InChI=1S/C24H40O4/c1-14(4-7-21(27)28)17-5-6-1...   \n",
       "3  \"InChI=1S/C24H40O5/c1-13(4-7-21(28)29)16-5-6-1...   \n",
       "4  \"InChI=1S/C24H40O4/c1-14(4-9-22(27)28)18-7-8-1...   \n",
       "\n",
       "                      inchikey  \\\n",
       "0  RUDATBOHQWOJDD-GYHJSIKNSA-N   \n",
       "1  RUDATBOHQWOJDD-PODLAYBOSA-N   \n",
       "2  RUDATBOHQWOJDD-PODLAYBOSA-N   \n",
       "3  BHQCQFFYRZLCQQ-IHELEQLESA-N   \n",
       "4  KXGVEGMKQFWNSR-BKAWJTANSA-N   \n",
       "\n",
       "                                              smiles  charge  \n",
       "0  C[C@H](CCC(=O)O)[C@H]1CC[C@@H]2[C@@]1(CC[C@H]3...       1  \n",
       "1  C[C@H](CCC(=O)O)[C@H]1CC[C@@H]2[C@@]1(CC[C@H]3...       1  \n",
       "2  C[C@H](CCC(=O)O)[C@H]1CC[C@@H]2[C@@]1(CC[C@H]3...       1  \n",
       "3  C[C@H](CCC(=O)O)[C@H]1CC[C@@H]2[C@@]1([C@H](C[...       1  \n",
       "4  C[C@H](CCC(=O)O)[C@H]1CC[C@@H]2[C@@]1([C@H](C[...       1  "
      ]
     },
     "execution_count": 5,
     "metadata": {},
     "output_type": "execute_result"
    }
   ],
   "source": [
    "spectra_metadata.head()"
   ]
  },
  {
   "cell_type": "markdown",
   "metadata": {},
   "source": [
    "### Count inchikey occurences"
   ]
  },
  {
   "cell_type": "code",
   "execution_count": 6,
   "metadata": {},
   "outputs": [
    {
     "data": {
      "text/plain": [
       "(50195,)"
      ]
     },
     "execution_count": 6,
     "metadata": {},
     "output_type": "execute_result"
    }
   ],
   "source": [
    "inchikeys_pd = spectra_metadata['inchikey'][spectra_metadata['inchikey'].notnull()]\n",
    "inchikeys_pd.shape"
   ]
  },
  {
   "cell_type": "code",
   "execution_count": 7,
   "metadata": {},
   "outputs": [
    {
     "data": {
      "text/plain": [
       "90216    CCQDWIRWKWIUKK\n",
       "90217    RPVIQWDFJPYNJM\n",
       "90218    BXEZTCOKOLHMKY\n",
       "90219    BXEZTCOKOLHMKY\n",
       "90220    PVXPPJIGRGXGCY\n",
       "90221    ATEFPOUAMCWAQS\n",
       "90222    ILEDWLMCKZNDJK\n",
       "90223    ILEDWLMCKZNDJK\n",
       "90224    NCJNNMWJQIKYLO\n",
       "90225    LNCLTICCQWMCNS\n",
       "Name: inchikey, dtype: object"
      ]
     },
     "execution_count": 7,
     "metadata": {},
     "output_type": "execute_result"
    }
   ],
   "source": [
    "inchikeys_pd.str[:14][-10:]"
   ]
  },
  {
   "cell_type": "markdown",
   "metadata": {},
   "source": [
    "### Get unique inchikeys (first 14 letters)"
   ]
  },
  {
   "cell_type": "code",
   "execution_count": 8,
   "metadata": {},
   "outputs": [
    {
     "data": {
      "text/plain": [
       "(11011,)"
      ]
     },
     "execution_count": 8,
     "metadata": {},
     "output_type": "execute_result"
    }
   ],
   "source": [
    "unique_inchikeys = inchikeys_pd.str[:14].unique()\n",
    "unique_inchikeys.shape"
   ]
  },
  {
   "cell_type": "code",
   "execution_count": 9,
   "metadata": {},
   "outputs": [
    {
     "data": {
      "text/plain": [
       "0    RUDATBOHQWOJDD\n",
       "1    RUDATBOHQWOJDD\n",
       "2    RUDATBOHQWOJDD\n",
       "3    BHQCQFFYRZLCQQ\n",
       "4    KXGVEGMKQFWNSR\n",
       "Name: inchikey, dtype: object"
      ]
     },
     "execution_count": 9,
     "metadata": {},
     "output_type": "execute_result"
    }
   ],
   "source": [
    "inchikeys_pd.str[:14].head()"
   ]
  },
  {
   "cell_type": "markdown",
   "metadata": {},
   "source": [
    "### Randomly select 500 different inchikeys"
   ]
  },
  {
   "cell_type": "code",
   "execution_count": 10,
   "metadata": {},
   "outputs": [
    {
     "data": {
      "text/plain": [
       "array(['BQYJATMQXGBDHF', 'LOVMOOUQHWMIHZ', 'VAFNMNRKDDAKRM',\n",
       "       'VQQVWGVXDIPORV', 'LUJVUUWNAPIQQI', 'HJBUYKZTEBZNSH',\n",
       "       'ZSJOCPIPUNPVFO', 'YXTROGRGRSPWKL', 'UOUFYEQUUCSLPP',\n",
       "       'XOXHILFPRYWFOD', 'QFWCWMZSCXWBAK', 'QKEXQELISPDIMT',\n",
       "       'OTXNTMVVOOBZCV', 'CUKXSBOAIJILRY', 'RSGRSUVVCYUKLM',\n",
       "       'GSDSWSVVBLHKDQ', 'SITDJJDXDVFCAP', 'ZWJINEZUASEZBH',\n",
       "       'RAGFPHFDFVNLCG', 'LETBAZLAGJPEIM', 'PJSKCCANFAFYHW',\n",
       "       'VARCUXZWTHLZBR', 'TYNBQERPUSLOCV', 'VUFDXOACUHDTLI',\n",
       "       'JDVVGAQPNNXQDW'], dtype=object)"
      ]
     },
     "execution_count": 10,
     "metadata": {},
     "output_type": "execute_result"
    }
   ],
   "source": [
    "num_spectra = 200\n",
    "\n",
    "np.random.seed(42) # to make it reproducible\n",
    "selected_inchikeys = np.random.choice(unique_inchikeys, num_spectra, replace=False)\n",
    "selected_inchikeys[:25]"
   ]
  },
  {
   "cell_type": "markdown",
   "metadata": {},
   "source": [
    "### Pick ALL spectra for each of the chosen inchikeys"
   ]
  },
  {
   "cell_type": "code",
   "execution_count": 11,
   "metadata": {},
   "outputs": [],
   "source": [
    "selected_spectra = []\n",
    "\n",
    "for inchikey in selected_inchikeys:\n",
    "    matches = inchikeys_pd[inchikeys_pd.str[:14] == inchikey].index.values\n",
    "    selected_spectra.extend(matches)"
   ]
  },
  {
   "cell_type": "code",
   "execution_count": 12,
   "metadata": {},
   "outputs": [
    {
     "name": "stdout",
     "output_type": "stream",
     "text": [
      "994 spectra were found with inchikeys from selected_inchikeys list.\n"
     ]
    }
   ],
   "source": [
    "print(len(selected_spectra), \"spectra were found with inchikeys from selected_inchikeys list.\")"
   ]
  },
  {
   "cell_type": "code",
   "execution_count": 13,
   "metadata": {
    "scrolled": true
   },
   "outputs": [
    {
     "data": {
      "text/html": [
       "<div>\n",
       "<style scoped>\n",
       "    .dataframe tbody tr th:only-of-type {\n",
       "        vertical-align: middle;\n",
       "    }\n",
       "\n",
       "    .dataframe tbody tr th {\n",
       "        vertical-align: top;\n",
       "    }\n",
       "\n",
       "    .dataframe thead th {\n",
       "        text-align: right;\n",
       "    }\n",
       "</style>\n",
       "<table border=\"1\" class=\"dataframe\">\n",
       "  <thead>\n",
       "    <tr style=\"text-align: right;\">\n",
       "      <th></th>\n",
       "      <th>gnps_ID</th>\n",
       "      <th>inchikey</th>\n",
       "    </tr>\n",
       "  </thead>\n",
       "  <tbody>\n",
       "    <tr>\n",
       "      <th>403</th>\n",
       "      <td>CCMSLIB00000579905</td>\n",
       "      <td>BQYJATMQXGBDHF-UHFFFAOYSA-N</td>\n",
       "    </tr>\n",
       "    <tr>\n",
       "      <th>1095</th>\n",
       "      <td>CCMSLIB00001058615</td>\n",
       "      <td>BQYJATMQXGBDHF-UHFFFAOYSA-N</td>\n",
       "    </tr>\n",
       "    <tr>\n",
       "      <th>1349</th>\n",
       "      <td>CCMSLIB00001058900</td>\n",
       "      <td>BQYJATMQXGBDHF-UHFFFAOYSA-N</td>\n",
       "    </tr>\n",
       "    <tr>\n",
       "      <th>1484</th>\n",
       "      <td>CCMSLIB00001059051</td>\n",
       "      <td>BQYJATMQXGBDHF-UHFFFAOYSA-N</td>\n",
       "    </tr>\n",
       "    <tr>\n",
       "      <th>26777</th>\n",
       "      <td>CCMSLIB00000212313</td>\n",
       "      <td>BQYJATMQXGBDHF-UHFFFAOYSA-N</td>\n",
       "    </tr>\n",
       "    <tr>\n",
       "      <th>26778</th>\n",
       "      <td>CCMSLIB00000212317</td>\n",
       "      <td>BQYJATMQXGBDHF-UHFFFAOYSA-N</td>\n",
       "    </tr>\n",
       "    <tr>\n",
       "      <th>26779</th>\n",
       "      <td>CCMSLIB00000212319</td>\n",
       "      <td>BQYJATMQXGBDHF-UHFFFAOYSA-N</td>\n",
       "    </tr>\n",
       "    <tr>\n",
       "      <th>26780</th>\n",
       "      <td>CCMSLIB00000212321</td>\n",
       "      <td>BQYJATMQXGBDHF-UHFFFAOYSA-N</td>\n",
       "    </tr>\n",
       "    <tr>\n",
       "      <th>26781</th>\n",
       "      <td>CCMSLIB00000212323</td>\n",
       "      <td>BQYJATMQXGBDHF-UHFFFAOYSA-N</td>\n",
       "    </tr>\n",
       "    <tr>\n",
       "      <th>26782</th>\n",
       "      <td>CCMSLIB00000212325</td>\n",
       "      <td>BQYJATMQXGBDHF-UHFFFAOYSA-N</td>\n",
       "    </tr>\n",
       "  </tbody>\n",
       "</table>\n",
       "</div>"
      ],
      "text/plain": [
       "                  gnps_ID                     inchikey\n",
       "403    CCMSLIB00000579905  BQYJATMQXGBDHF-UHFFFAOYSA-N\n",
       "1095   CCMSLIB00001058615  BQYJATMQXGBDHF-UHFFFAOYSA-N\n",
       "1349   CCMSLIB00001058900  BQYJATMQXGBDHF-UHFFFAOYSA-N\n",
       "1484   CCMSLIB00001059051  BQYJATMQXGBDHF-UHFFFAOYSA-N\n",
       "26777  CCMSLIB00000212313  BQYJATMQXGBDHF-UHFFFAOYSA-N\n",
       "26778  CCMSLIB00000212317  BQYJATMQXGBDHF-UHFFFAOYSA-N\n",
       "26779  CCMSLIB00000212319  BQYJATMQXGBDHF-UHFFFAOYSA-N\n",
       "26780  CCMSLIB00000212321  BQYJATMQXGBDHF-UHFFFAOYSA-N\n",
       "26781  CCMSLIB00000212323  BQYJATMQXGBDHF-UHFFFAOYSA-N\n",
       "26782  CCMSLIB00000212325  BQYJATMQXGBDHF-UHFFFAOYSA-N"
      ]
     },
     "execution_count": 13,
     "metadata": {},
     "output_type": "execute_result"
    }
   ],
   "source": [
    "# Show gnps IDs for selected spectra\n",
    "spectra_metadata[[\"gnps_ID\", \"inchikey\"]].loc[selected_spectra][:10]"
   ]
  },
  {
   "cell_type": "markdown",
   "metadata": {},
   "source": [
    "### Show number of occurences of all selected inchikeys"
   ]
  },
  {
   "cell_type": "code",
   "execution_count": 14,
   "metadata": {},
   "outputs": [
    {
     "data": {
      "text/plain": [
       "Text(0, 0.5, 'Number of inchikeys with respective number of occurences')"
      ]
     },
     "execution_count": 14,
     "metadata": {},
     "output_type": "execute_result"
    },
    {
     "data": {
      "image/png": "[encoded data removed]",
      "text/plain": [
       "<Figure size 864x432 with 1 Axes>"
      ]
     },
     "metadata": {
      "needs_background": "light"
     },
     "output_type": "display_data"
    }
   ],
   "source": [
    "from matplotlib import pyplot as plt\n",
    "plt.figure(figsize=(12,6))\n",
    "plt.hist(inchikeys_pd.str[:14][selected_spectra].value_counts(), 45)\n",
    "plt.xlabel('Number of occurences of inchikey')\n",
    "plt.ylabel('Number of inchikeys with respective number of occurences')"
   ]
  },
  {
   "cell_type": "markdown",
   "metadata": {},
   "source": [
    "## Train new Spec2Vec model on dataset without the selected spectra\n",
    "The aim here is to test how much Spec2Vec can potentially reveal about entirely unknown compounds. This means all spectra with identical inchikeys were removed, and the Spec2Vec model does not see them during training."
   ]
  },
  {
   "cell_type": "code",
   "execution_count": 36,
   "metadata": {},
   "outputs": [
    {
     "name": "stdout",
     "output_type": "stream",
     "text": [
      "Modified corpus consists of 89232 documents.\n",
      "\n",
      "\n",
      "Preprocess documents...\n",
      "Number of unique words:  145568\n",
      "\n",
      "\n",
      "No saved word2vec model found with given filename!\n",
      "Calculating new word2vec model...\n",
      " Epoch 1 of 15.Change in loss after epoch 1: 6965052.0\n",
      " Epoch 2 of 15.Change in loss after epoch 2: 4970318.0\n",
      " Epoch 3 of 15.Change in loss after epoch 3: 4495444.0\n",
      " Epoch 4 of 15.Change in loss after epoch 4: 3737214.0\n",
      " Epoch 5 of 15.Change in loss after epoch 5: 3556258.0\n",
      " Epoch 6 of 15.Change in loss after epoch 6: 3440130.0\n",
      " Epoch 7 of 15.Change in loss after epoch 7: 3270988.0\n",
      " Epoch 8 of 15.Change in loss after epoch 8: 3154664.0\n",
      " Epoch 9 of 15.Change in loss after epoch 9: 1914572.0\n",
      " Epoch 10 of 15.Change in loss after epoch 10: 1871908.0\n",
      "Saving model with name: C:\\OneDrive - Netherlands eScience Center\\Project_Wageningen_iOMEGA\\Spec2Vec\\models_trained\\S2V_allGNPS_pos_unknownmatching_d300_w500_neg5_minmax10_1000_dec2_exp08_iter_10.model\n",
      " Epoch 11 of 15.Change in loss after epoch 11: 1832752.0\n",
      " Epoch 12 of 15.Change in loss after epoch 12: 1796928.0\n",
      " Epoch 13 of 15.Change in loss after epoch 13: 1785484.0\n",
      " Epoch 14 of 15.Change in loss after epoch 14: 1759572.0\n",
      " Epoch 15 of 15.Change in loss after epoch 15: 1695748.0\n",
      "Saving model with name: C:\\OneDrive - Netherlands eScience Center\\Project_Wageningen_iOMEGA\\Spec2Vec\\models_trained\\S2V_allGNPS_pos_unknownmatching_d300_w500_neg5_minmax10_1000_dec2_exp08_iter_15.model\n",
      "\n",
      "\n",
      "Learning rate droped from 0.025 to 0.021250703223058994\n"
     ]
    }
   ],
   "source": [
    "# Remove selected spectra from corpus\n",
    "MS_docs_removedpart = [MS_documents[x] for x in range(len(MS_documents)) if x not in selected_spectra]\n",
    "MS_docs_intensity_removedpart = [MS_documents_intensity[x] for x in range(len(MS_documents)) if x not in selected_spectra]   \n",
    "print(\"Modified corpus consists of\", len(MS_docs_removedpart), \"documents.\")\n",
    "\n",
    "MS_library = SimilarityMeasures(MS_docs_removedpart, MS_docs_intensity_removedpart)\n",
    "MS_library.preprocess_documents(1, min_frequency = 2, create_stopwords = False)\n",
    "print(\"Number of unique words: \", len(MS_library.dictionary))\n",
    "\n",
    "# Train new model based on reduced corpus\n",
    "file_model_word2vec = PATH_SAVE_MODEL + 'S2V_allGNPS_pos_unknownmatching_d300_w500_neg5_minmax10_1000_dec2_exp08.model'\n",
    "MS_library.build_model_word2vec(file_model_word2vec, sg=0, negative=5, size=300, window=500, \n",
    "                             min_count=1, workers=4, iterations= [10,5], \n",
    "                             use_stored_model=True)\n",
    "print(\"Learning rate droped from\", MS_measure.model_word2vec.alpha, \"to\", MS_measure.model_word2vec.min_alpha_yet_reached)"
   ]
  },
  {
   "cell_type": "code",
   "execution_count": 15,
   "metadata": {},
   "outputs": [
    {
     "name": "stdout",
     "output_type": "stream",
     "text": [
      "Modified corpus consists of 89232 documents.\n",
      "Preprocess documents...\n",
      "Number of unique words:  145568\n",
      "Load stored word2vec model ...\n"
     ]
    }
   ],
   "source": [
    "# or load pretrained\n",
    "MS_docs_removedpart = [MS_documents[x] for x in range(len(MS_documents)) if x not in selected_spectra]\n",
    "MS_docs_intensity_removedpart = [MS_documents_intensity[x] for x in range(len(MS_documents)) if x not in selected_spectra]   \n",
    "print(\"Modified corpus consists of\", len(MS_docs_removedpart), \"documents.\")\n",
    "\n",
    "MS_library = SimilarityMeasures(MS_docs_removedpart, MS_docs_intensity_removedpart)\n",
    "MS_library.preprocess_documents(1, min_frequency = 2, create_stopwords = False)\n",
    "print(\"Number of unique words: \", len(MS_library.dictionary))\n",
    "\n",
    "# Train new model based on reduced corpus\n",
    "file_model_word2vec = PATH_SAVE_MODEL + 'S2V_allGNPS_pos_unknownmatching_d300_w500_neg5_minmax10_1000_dec2_exp08_iter_15.model'\n",
    "MS_library.build_model_word2vec(file_model_word2vec, sg=0, negative=5, size=300, window=500, \n",
    "                             min_count=1, workers=4, iterations= [10,5], \n",
    "                             use_stored_model=True)"
   ]
  },
  {
   "cell_type": "markdown",
   "metadata": {},
   "source": [
    "## Calculate Spec2Vec spectra vectors for all library spectra\n",
    "This step will calculate the Spec2Vec vectors for all library spectra to later do comparisons with."
   ]
  },
  {
   "cell_type": "code",
   "execution_count": 16,
   "metadata": {},
   "outputs": [
    {
     "name": "stdout",
     "output_type": "stream",
     "text": [
      "All 'words' of the given documents were found in the trained word2vec model.\n",
      "  Calculated centroid vectors for  89232  of  89232  documents.ocuments. 89232  documents. 89232  documents. Calculated centroid vectors for  3380  of  89232  documents. 89232  documents.4280  of  89232  documents.  documents.5540  of  89232  documents. of  89232  documents.6150  of  89232  documents. 89232  documents.8380  of  89232  documents. of  89232  documents. Calculated centroid vectors for  8710  of  89232  documents.  of  89232  documents. 89232  documents.89232  documents.  of  89232  documents.10580  of  89232  documents.11450  of  89232  documents.  of  89232  documents. Calculated centroid vectors for  11730  of  89232  documents.13450  of  89232  documents.89232  documents. of  89232  documents. documents. of  89232  documents. 89232  documents.17610  of  89232  documents. 89232  documents.  of  89232  documents. 89232  documents. Calculated centroid vectors for  20550  of  89232  documents. of  89232  documents. 89232  documents.  documents.27590  of  89232  documents. of  89232  documents. of  89232  documents.35970  of  89232  documents.36130  of  89232  documents.  of  89232  documents.36360  of  89232  documents. of  89232  documents.89232  documents. 89232  documents.  of  89232  documents.  documents. 89232  documents.  of  89232  documents. of  89232  documents.  documents. 89232  documents.40540  of  89232  documents. of  89232  documents.40890  of  89232  documents.41930  of  89232  documents.  documents.  documents. 89232  documents. documents. 44170  of  89232  documents. Calculated centroid vectors for  45040  of  89232  documents.  of  89232  documents.  documents.46020  of  89232  documents. 89232  documents. Calculated centroid vectors for  47970  of  89232  documents. Calculated centroid vectors for  48110  of  89232  documents.48380  of  89232  documents.  of  89232  documents.89232  documents.89232  documents.  documents.89232  documents. Calculated centroid vectors for  50490  of  89232  documents. of  89232  documents. Calculated centroid vectors for  50560  of  89232  documents.89232  documents. documents.  documents. Calculated centroid vectors for  51950  of  89232  documents. of  89232  documents. Calculated centroid vectors for  52270  of  89232  documents. of  89232  documents. Calculated centroid vectors for  52600  of  89232  documents. Calculated centroid vectors for  53480  of  89232  documents. Calculated centroid vectors for  53700  of  89232  documents. Calculated centroid vectors for  53890  of  89232  documents.  documents. documents. documents. Calculated centroid vectors for  54620  of  89232  documents. of  89232  documents.  of  89232  documents. documents.89232  documents. of  89232  documents. of  89232  documents. documents. of  89232  documents.89232  documents.89232  documents.58830  of  89232  documents. of  89232  documents.  of  89232  documents. Calculated centroid vectors for  59660  of  89232  documents.60060  of  89232  documents. 89232  documents. Calculated centroid vectors for  60570  of  89232  documents. documents. documents. 89232  documents.  documents. Calculated centroid vectors for  65510  of  89232  documents. of  89232  documents. of  89232  documents. documents.  of  89232  documents. of  89232  documents.  documents. documents.  of  89232  documents.  documents.  of  89232  documents. Calculated centroid vectors for  69940  of  89232  documents. 70420  of  89232  documents.89232  documents. Calculated centroid vectors for  71020  of  89232  documents. Calculated centroid vectors for  71330  of  89232  documents. Calculated centroid vectors for  71560  of  89232  documents. Calculated centroid vectors for  73280  of  89232  documents. documents. documents. 89232  documents. of  89232  documents. of  89232  documents. Calculated centroid vectors for  76180  of  89232  documents. documents. Calculated centroid vectors for  79290  of  89232  documents. Calculated centroid vectors for  79520  of  89232  documents.  of  89232  documents. of  89232  documents. Calculated centroid vectors for  80650  of  89232  documents.81080  of  89232  documents. Calculated centroid vectors for  81180  of  89232  documents. of  89232  documents. 89232  documents.81760  of  89232  documents. Calculated centroid vectors for  82350  of  89232  documents. Calculated centroid vectors for  82630  of  89232  documents.  of  89232  documents. of  89232  documents. 89232  documents.84320  of  89232  documents. Calculated centroid vectors for  85380  of  89232  documents.85480  of  89232  documents. Calculated centroid vectors for  86770  of  89232  documents.87180  of  89232  documents. of  89232  documents."
     ]
    }
   ],
   "source": [
    "MS_library.get_vectors_centroid(method = 'ignore', \n",
    "                                 tfidf_weighted = False, \n",
    "                                 weighting_power = 0.5, \n",
    "                                 tfidf_model = None,\n",
    "                                 extra_epochs = 1)"
   ]
  },
  {
   "cell_type": "code",
   "execution_count": 17,
   "metadata": {},
   "outputs": [
    {
     "data": {
      "text/plain": [
       "89232"
      ]
     },
     "execution_count": 17,
     "metadata": {},
     "output_type": "execute_result"
    }
   ],
   "source": [
    "MS_library.vectors_centroid.shape[0]"
   ]
  },
  {
   "cell_type": "markdown",
   "metadata": {},
   "source": [
    "### Save MS_library object (including all computed S2V spectra vectors)"
   ]
  },
  {
   "cell_type": "code",
   "execution_count": 18,
   "metadata": {},
   "outputs": [],
   "source": [
    "MS_library.save(PATH_COMPUTED + 'unkown_spectra_search_191202.obj')"
   ]
  },
  {
   "cell_type": "markdown",
   "metadata": {},
   "source": [
    "### ... or load already built MS_library object:"
   ]
  },
  {
   "cell_type": "code",
   "execution_count": 15,
   "metadata": {},
   "outputs": [],
   "source": [
    "MS_library = SimilarityMeasures([])\n",
    "MS_library.load(PATH_COMPUTED + 'unkown_spectra_search_191202.obj')"
   ]
  },
  {
   "cell_type": "markdown",
   "metadata": {},
   "source": [
    "### Select metadata for library spectra"
   ]
  },
  {
   "cell_type": "code",
   "execution_count": 16,
   "metadata": {},
   "outputs": [
    {
     "data": {
      "text/plain": [
       "(89232, 10)"
      ]
     },
     "execution_count": 16,
     "metadata": {},
     "output_type": "execute_result"
    }
   ],
   "source": [
    "library_spectra_IDs = [x for x in range(len(spectra)) if x not in selected_spectra]\n",
    "library_spectra_metadata = spectra_metadata.loc[library_spectra_IDs]\n",
    "\n",
    "library_spectra_metadata.shape"
   ]
  },
  {
   "cell_type": "code",
   "execution_count": 17,
   "metadata": {},
   "outputs": [
    {
     "data": {
      "text/plain": [
       "(994, 89232)"
      ]
     },
     "execution_count": 17,
     "metadata": {},
     "output_type": "execute_result"
    }
   ],
   "source": [
    "spectra_unknown = [spectra[x] for x in selected_spectra]\n",
    "spectra_library = [spectra[x] for x in range(len(spectra)) if x not in selected_spectra]\n",
    "len(spectra_unknown), len(spectra_library)"
   ]
  },
  {
   "cell_type": "code",
   "execution_count": 18,
   "metadata": {},
   "outputs": [],
   "source": [
    "from MS_library_search import library_matching, vectorize_spectra"
   ]
  },
  {
   "cell_type": "code",
   "execution_count": 19,
   "metadata": {},
   "outputs": [
    {
     "name": "stdout",
     "output_type": "stream",
     "text": [
      "  Created documents for  994  of  994  spectra. 700  of  994  spectra.\n",
      " ----------------------------------------\n",
      "Not all 'words' of the given documents are present in the trained word2vec model!\n",
      "33  out of  55496  'words' were not found in the word2vec model.\n",
      "'Words'missing in the pretrained word2vec model will be ignored.\n",
      "Removing missing 'words' from corpus...\n",
      "----- Deriving Spec2Vec spectra vectors -----\n",
      "  Calculated Spec2Vec spectra vectors for  994  of  994  documents."
     ]
    }
   ],
   "source": [
    "spectra_vectors = vectorize_spectra(spectra_unknown,\n",
    "                                      MS_library,\n",
    "                                      num_decimals = 2,\n",
    "                                      min_loss = 5.0, \n",
    "                                      max_loss = 500.0,\n",
    "                                      peak_loss_words = ['peak_', 'loss_'],\n",
    "                                      weighting_power = 0.5)"
   ]
  },
  {
   "cell_type": "code",
   "execution_count": 20,
   "metadata": {},
   "outputs": [
    {
     "data": {
      "text/plain": [
       "((994, 300), (89232, 300))"
      ]
     },
     "execution_count": 20,
     "metadata": {},
     "output_type": "execute_result"
    }
   ],
   "source": [
    "spectra_vectors[:,:].shape, MS_library.vectors_centroid.shape"
   ]
  },
  {
   "cell_type": "code",
   "execution_count": 21,
   "metadata": {},
   "outputs": [
    {
     "name": "stdout",
     "output_type": "stream",
     "text": [
      "Spec2Vec spectra vectors found for library data.\n"
     ]
    }
   ],
   "source": [
    "found_matches = library_matching(spectra_unknown, \n",
    "                                  spectra_library,\n",
    "                                  library_spectra_metadata, \n",
    "                                  MS_library, \n",
    "                                  top_n = 10,\n",
    "                                  mz_ppm = [2, 10, 20],\n",
    "                                  spectra_vectors = spectra_vectors,\n",
    "                                  ignore_non_annotated = True,\n",
    "                                  cosine_tol = 0.05)"
   ]
  },
  {
   "cell_type": "code",
   "execution_count": 22,
   "metadata": {},
   "outputs": [
    {
     "data": {
      "text/html": [
       "<div>\n",
       "<style scoped>\n",
       "    .dataframe tbody tr th:only-of-type {\n",
       "        vertical-align: middle;\n",
       "    }\n",
       "\n",
       "    .dataframe tbody tr th {\n",
       "        vertical-align: top;\n",
       "    }\n",
       "\n",
       "    .dataframe thead th {\n",
       "        text-align: right;\n",
       "    }\n",
       "</style>\n",
       "<table border=\"1\" class=\"dataframe\">\n",
       "  <thead>\n",
       "    <tr style=\"text-align: right;\">\n",
       "      <th></th>\n",
       "      <th>spectra_ID</th>\n",
       "      <th>mass_match_20ppm</th>\n",
       "      <th>S2V_top_n</th>\n",
       "      <th>S2V_similarity</th>\n",
       "      <th>inchikey_match</th>\n",
       "      <th>mass_match_10ppm</th>\n",
       "      <th>mass_match_2ppm</th>\n",
       "      <th>cosine_score</th>\n",
       "      <th>cosine_matches</th>\n",
       "      <th>modcosine_score</th>\n",
       "      <th>modcosine_matches</th>\n",
       "    </tr>\n",
       "  </thead>\n",
       "  <tbody>\n",
       "    <tr>\n",
       "      <th>0</th>\n",
       "      <td>27799</td>\n",
       "      <td>1</td>\n",
       "      <td>0</td>\n",
       "      <td>0.529763</td>\n",
       "      <td>0</td>\n",
       "      <td>1</td>\n",
       "      <td>1</td>\n",
       "      <td>0.000868</td>\n",
       "      <td>1</td>\n",
       "      <td>0.000868</td>\n",
       "      <td>1</td>\n",
       "    </tr>\n",
       "    <tr>\n",
       "      <th>1</th>\n",
       "      <td>27800</td>\n",
       "      <td>1</td>\n",
       "      <td>0</td>\n",
       "      <td>0.487407</td>\n",
       "      <td>0</td>\n",
       "      <td>1</td>\n",
       "      <td>1</td>\n",
       "      <td>0.001939</td>\n",
       "      <td>3</td>\n",
       "      <td>0.001939</td>\n",
       "      <td>3</td>\n",
       "    </tr>\n",
       "    <tr>\n",
       "      <th>2</th>\n",
       "      <td>27801</td>\n",
       "      <td>1</td>\n",
       "      <td>0</td>\n",
       "      <td>0.532826</td>\n",
       "      <td>0</td>\n",
       "      <td>1</td>\n",
       "      <td>1</td>\n",
       "      <td>0.000391</td>\n",
       "      <td>1</td>\n",
       "      <td>0.000391</td>\n",
       "      <td>1</td>\n",
       "    </tr>\n",
       "    <tr>\n",
       "      <th>3</th>\n",
       "      <td>27802</td>\n",
       "      <td>1</td>\n",
       "      <td>0</td>\n",
       "      <td>0.606895</td>\n",
       "      <td>0</td>\n",
       "      <td>1</td>\n",
       "      <td>1</td>\n",
       "      <td>0.000000</td>\n",
       "      <td>0</td>\n",
       "      <td>0.000000</td>\n",
       "      <td>0</td>\n",
       "    </tr>\n",
       "    <tr>\n",
       "      <th>4</th>\n",
       "      <td>29326</td>\n",
       "      <td>1</td>\n",
       "      <td>0</td>\n",
       "      <td>0.540196</td>\n",
       "      <td>0</td>\n",
       "      <td>1</td>\n",
       "      <td>1</td>\n",
       "      <td>0.001668</td>\n",
       "      <td>2</td>\n",
       "      <td>0.001668</td>\n",
       "      <td>2</td>\n",
       "    </tr>\n",
       "    <tr>\n",
       "      <th>5</th>\n",
       "      <td>29327</td>\n",
       "      <td>1</td>\n",
       "      <td>0</td>\n",
       "      <td>0.593158</td>\n",
       "      <td>0</td>\n",
       "      <td>1</td>\n",
       "      <td>1</td>\n",
       "      <td>0.000000</td>\n",
       "      <td>0</td>\n",
       "      <td>0.000000</td>\n",
       "      <td>0</td>\n",
       "    </tr>\n",
       "    <tr>\n",
       "      <th>6</th>\n",
       "      <td>29328</td>\n",
       "      <td>1</td>\n",
       "      <td>0</td>\n",
       "      <td>0.608804</td>\n",
       "      <td>0</td>\n",
       "      <td>1</td>\n",
       "      <td>1</td>\n",
       "      <td>0.020428</td>\n",
       "      <td>3</td>\n",
       "      <td>0.020428</td>\n",
       "      <td>3</td>\n",
       "    </tr>\n",
       "    <tr>\n",
       "      <th>7</th>\n",
       "      <td>29329</td>\n",
       "      <td>1</td>\n",
       "      <td>0</td>\n",
       "      <td>0.614740</td>\n",
       "      <td>0</td>\n",
       "      <td>1</td>\n",
       "      <td>1</td>\n",
       "      <td>0.122249</td>\n",
       "      <td>1</td>\n",
       "      <td>0.122249</td>\n",
       "      <td>1</td>\n",
       "    </tr>\n",
       "    <tr>\n",
       "      <th>8</th>\n",
       "      <td>32294</td>\n",
       "      <td>1</td>\n",
       "      <td>0</td>\n",
       "      <td>0.088468</td>\n",
       "      <td>0</td>\n",
       "      <td>1</td>\n",
       "      <td>1</td>\n",
       "      <td>0.000038</td>\n",
       "      <td>1</td>\n",
       "      <td>0.000038</td>\n",
       "      <td>1</td>\n",
       "    </tr>\n",
       "    <tr>\n",
       "      <th>9</th>\n",
       "      <td>28858</td>\n",
       "      <td>0</td>\n",
       "      <td>1</td>\n",
       "      <td>0.780471</td>\n",
       "      <td>0</td>\n",
       "      <td>0</td>\n",
       "      <td>0</td>\n",
       "      <td>0.022819</td>\n",
       "      <td>3</td>\n",
       "      <td>0.022819</td>\n",
       "      <td>3</td>\n",
       "    </tr>\n",
       "    <tr>\n",
       "      <th>10</th>\n",
       "      <td>28753</td>\n",
       "      <td>0</td>\n",
       "      <td>1</td>\n",
       "      <td>0.720565</td>\n",
       "      <td>0</td>\n",
       "      <td>0</td>\n",
       "      <td>0</td>\n",
       "      <td>0.011540</td>\n",
       "      <td>1</td>\n",
       "      <td>0.011540</td>\n",
       "      <td>1</td>\n",
       "    </tr>\n",
       "    <tr>\n",
       "      <th>11</th>\n",
       "      <td>28545</td>\n",
       "      <td>0</td>\n",
       "      <td>1</td>\n",
       "      <td>0.718255</td>\n",
       "      <td>0</td>\n",
       "      <td>0</td>\n",
       "      <td>0</td>\n",
       "      <td>0.115099</td>\n",
       "      <td>4</td>\n",
       "      <td>0.115099</td>\n",
       "      <td>4</td>\n",
       "    </tr>\n",
       "    <tr>\n",
       "      <th>12</th>\n",
       "      <td>28752</td>\n",
       "      <td>0</td>\n",
       "      <td>1</td>\n",
       "      <td>0.712252</td>\n",
       "      <td>0</td>\n",
       "      <td>0</td>\n",
       "      <td>0</td>\n",
       "      <td>0.000000</td>\n",
       "      <td>0</td>\n",
       "      <td>0.000000</td>\n",
       "      <td>0</td>\n",
       "    </tr>\n",
       "    <tr>\n",
       "      <th>13</th>\n",
       "      <td>28947</td>\n",
       "      <td>0</td>\n",
       "      <td>1</td>\n",
       "      <td>0.706513</td>\n",
       "      <td>0</td>\n",
       "      <td>0</td>\n",
       "      <td>0</td>\n",
       "      <td>0.019983</td>\n",
       "      <td>2</td>\n",
       "      <td>0.024470</td>\n",
       "      <td>3</td>\n",
       "    </tr>\n",
       "    <tr>\n",
       "      <th>14</th>\n",
       "      <td>28857</td>\n",
       "      <td>0</td>\n",
       "      <td>1</td>\n",
       "      <td>0.705619</td>\n",
       "      <td>0</td>\n",
       "      <td>0</td>\n",
       "      <td>0</td>\n",
       "      <td>0.002288</td>\n",
       "      <td>3</td>\n",
       "      <td>0.002288</td>\n",
       "      <td>3</td>\n",
       "    </tr>\n",
       "    <tr>\n",
       "      <th>15</th>\n",
       "      <td>29252</td>\n",
       "      <td>0</td>\n",
       "      <td>1</td>\n",
       "      <td>0.703420</td>\n",
       "      <td>0</td>\n",
       "      <td>0</td>\n",
       "      <td>0</td>\n",
       "      <td>0.238369</td>\n",
       "      <td>2</td>\n",
       "      <td>0.306956</td>\n",
       "      <td>4</td>\n",
       "    </tr>\n",
       "    <tr>\n",
       "      <th>16</th>\n",
       "      <td>28649</td>\n",
       "      <td>0</td>\n",
       "      <td>1</td>\n",
       "      <td>0.702473</td>\n",
       "      <td>0</td>\n",
       "      <td>0</td>\n",
       "      <td>0</td>\n",
       "      <td>0.039125</td>\n",
       "      <td>2</td>\n",
       "      <td>0.041265</td>\n",
       "      <td>3</td>\n",
       "    </tr>\n",
       "    <tr>\n",
       "      <th>17</th>\n",
       "      <td>29034</td>\n",
       "      <td>0</td>\n",
       "      <td>1</td>\n",
       "      <td>0.702169</td>\n",
       "      <td>0</td>\n",
       "      <td>0</td>\n",
       "      <td>0</td>\n",
       "      <td>0.016479</td>\n",
       "      <td>1</td>\n",
       "      <td>0.039199</td>\n",
       "      <td>3</td>\n",
       "    </tr>\n",
       "    <tr>\n",
       "      <th>18</th>\n",
       "      <td>29069</td>\n",
       "      <td>0</td>\n",
       "      <td>1</td>\n",
       "      <td>0.701592</td>\n",
       "      <td>0</td>\n",
       "      <td>0</td>\n",
       "      <td>0</td>\n",
       "      <td>0.084227</td>\n",
       "      <td>2</td>\n",
       "      <td>0.084788</td>\n",
       "      <td>3</td>\n",
       "    </tr>\n",
       "  </tbody>\n",
       "</table>\n",
       "</div>"
      ],
      "text/plain": [
       "    spectra_ID  mass_match_20ppm  S2V_top_n  S2V_similarity  inchikey_match  \\\n",
       "0        27799                 1          0        0.529763               0   \n",
       "1        27800                 1          0        0.487407               0   \n",
       "2        27801                 1          0        0.532826               0   \n",
       "3        27802                 1          0        0.606895               0   \n",
       "4        29326                 1          0        0.540196               0   \n",
       "5        29327                 1          0        0.593158               0   \n",
       "6        29328                 1          0        0.608804               0   \n",
       "7        29329                 1          0        0.614740               0   \n",
       "8        32294                 1          0        0.088468               0   \n",
       "9        28858                 0          1        0.780471               0   \n",
       "10       28753                 0          1        0.720565               0   \n",
       "11       28545                 0          1        0.718255               0   \n",
       "12       28752                 0          1        0.712252               0   \n",
       "13       28947                 0          1        0.706513               0   \n",
       "14       28857                 0          1        0.705619               0   \n",
       "15       29252                 0          1        0.703420               0   \n",
       "16       28649                 0          1        0.702473               0   \n",
       "17       29034                 0          1        0.702169               0   \n",
       "18       29069                 0          1        0.701592               0   \n",
       "\n",
       "    mass_match_10ppm  mass_match_2ppm  cosine_score  cosine_matches  \\\n",
       "0                  1                1      0.000868               1   \n",
       "1                  1                1      0.001939               3   \n",
       "2                  1                1      0.000391               1   \n",
       "3                  1                1      0.000000               0   \n",
       "4                  1                1      0.001668               2   \n",
       "5                  1                1      0.000000               0   \n",
       "6                  1                1      0.020428               3   \n",
       "7                  1                1      0.122249               1   \n",
       "8                  1                1      0.000038               1   \n",
       "9                  0                0      0.022819               3   \n",
       "10                 0                0      0.011540               1   \n",
       "11                 0                0      0.115099               4   \n",
       "12                 0                0      0.000000               0   \n",
       "13                 0                0      0.019983               2   \n",
       "14                 0                0      0.002288               3   \n",
       "15                 0                0      0.238369               2   \n",
       "16                 0                0      0.039125               2   \n",
       "17                 0                0      0.016479               1   \n",
       "18                 0                0      0.084227               2   \n",
       "\n",
       "    modcosine_score  modcosine_matches  \n",
       "0          0.000868                  1  \n",
       "1          0.001939                  3  \n",
       "2          0.000391                  1  \n",
       "3          0.000000                  0  \n",
       "4          0.001668                  2  \n",
       "5          0.000000                  0  \n",
       "6          0.020428                  3  \n",
       "7          0.122249                  1  \n",
       "8          0.000038                  1  \n",
       "9          0.022819                  3  \n",
       "10         0.011540                  1  \n",
       "11         0.115099                  4  \n",
       "12         0.000000                  0  \n",
       "13         0.024470                  3  \n",
       "14         0.002288                  3  \n",
       "15         0.306956                  4  \n",
       "16         0.041265                  3  \n",
       "17         0.039199                  3  \n",
       "18         0.084788                  3  "
      ]
     },
     "execution_count": 22,
     "metadata": {},
     "output_type": "execute_result"
    }
   ],
   "source": [
    "found_matches[120]"
   ]
  },
  {
   "cell_type": "code",
   "execution_count": 24,
   "metadata": {},
   "outputs": [
    {
     "data": {
      "text/plain": [
       "['BMKQPAJRQUUYGC-UHFFFAOYSA-N',\n",
       " 'BMKQPAJRQUUYGC-UHFFFAOYSA-N',\n",
       " 'BMKQPAJRQUUYGC-UHFFFAOYSA-N',\n",
       " 'DDNPCXHBFYJXBJ-UHFFFAOYSA-N',\n",
       " 'DDNPCXHBFYJXBJ-UHFFFAOYSA-N',\n",
       " 'DDNPCXHBFYJXBJ-UHFFFAOYSA-N']"
      ]
     },
     "execution_count": 24,
     "metadata": {},
     "output_type": "execute_result"
    }
   ],
   "source": [
    "ID = 20#80\n",
    "\n",
    "match_IDs = found_matches[ID][found_matches[ID]['mass_match_10ppm']==1]['spectra_ID'].values.tolist()\n",
    "[spectra_library[x].inchikey for x in match_IDs]"
   ]
  },
  {
   "cell_type": "markdown",
   "metadata": {},
   "source": [
    "## Collect all top-10 matches based on Spec2Vec similarity"
   ]
  },
  {
   "cell_type": "code",
   "execution_count": 23,
   "metadata": {},
   "outputs": [
    {
     "name": "stdout",
     "output_type": "stream",
     "text": [
      "No proper molecule generated for spectrum 4\n",
      "Problem with molecule from spectrum 4\n",
      "No proper molecule generated for spectrum 0\n",
      "No proper molecule generated for spectrum 1\n",
      "No proper molecule generated for spectrum 2\n",
      "Problem with molecule from spectrum 0\n",
      "Problem with molecule from spectrum 1\n",
      "Problem with molecule from spectrum 2\n",
      "No proper molecule generated for spectrum 2\n",
      "No proper molecule generated for spectrum 3\n",
      "Problem with molecule from spectrum 2\n",
      "Problem with molecule from spectrum 3\n",
      "No proper molecule generated for spectrum 7\n",
      "No proper molecule generated for spectrum 9\n",
      "Problem with molecule from spectrum 7\n",
      "Problem with molecule from spectrum 9\n"
     ]
    }
   ],
   "source": [
    "mol_sim_matches_s2v = []\n",
    "\n",
    "for ID in range(len(spectra_unknown)):\n",
    "    match_IDs = found_matches[ID][found_matches[ID]['S2V_top_n']==1]['spectra_ID'].values.tolist()\n",
    "    if len(match_IDs) > 0:\n",
    "        fingerprint_query, _ = MS_functions.get_mol_fingerprints([spectra_unknown[ID]], \n",
    "                                                                 method = \"morgan3\", \n",
    "                                                                 nBits = 2048,\n",
    "                                                                 print_progress = False)\n",
    "        fingerprint_matches, _ = MS_functions.get_mol_fingerprints([spectra_library[x] for x in match_IDs], \n",
    "                                                                 method = \"morgan3\", \n",
    "                                                                 nBits = 2048,\n",
    "                                                                 print_progress = False)\n",
    "\n",
    "        # calculate similarities\n",
    "        Mtest = MS_sim_classic.mol_sim_matrix(fingerprint_query,\n",
    "                                               fingerprint_matches,\n",
    "                                               method = 'cosine',\n",
    "                                               filename = None,\n",
    "                                               max_size = 1000,\n",
    "                                               print_progress = False)\n",
    "\n",
    "        mol_sim_matches_s2v.append(Mtest)"
   ]
  },
  {
   "cell_type": "code",
   "execution_count": 24,
   "metadata": {},
   "outputs": [
    {
     "data": {
      "text/plain": [
       "array([[0.40653258, 0.39013282, 0.36704279, 0.35853271, 0.34964608,\n",
       "        0.34487717, 0.34230918, 0.32629297, 0.32689526, 0.32723325]])"
      ]
     },
     "execution_count": 24,
     "metadata": {},
     "output_type": "execute_result"
    }
   ],
   "source": [
    "mol_sim_matches_s2v_arr = np.array(mol_sim_matches_s2v)\n",
    "np.mean(np.nan_to_num(mol_sim_matches_s2v_arr), axis = 0)"
   ]
  },
  {
   "cell_type": "code",
   "execution_count": 25,
   "metadata": {},
   "outputs": [
    {
     "name": "stderr",
     "output_type": "stream",
     "text": [
      "C:\\Users\\FlorianHuber\\Anaconda3\\envs\\SeSiMe\\lib\\site-packages\\numpy\\lib\\histograms.py:754: RuntimeWarning: invalid value encountered in greater_equal\n",
      "  keep = (tmp_a >= first_edge)\n",
      "C:\\Users\\FlorianHuber\\Anaconda3\\envs\\SeSiMe\\lib\\site-packages\\numpy\\lib\\histograms.py:755: RuntimeWarning: invalid value encountered in less_equal\n",
      "  keep &= (tmp_a <= last_edge)\n"
     ]
    },
    {
     "data": {
      "text/plain": [
       "(array([14., 37., 80., 97., 88., 80., 43., 46., 61., 35., 32., 21., 28.,\n",
       "        29., 21., 18., 20., 44., 58., 12., 24., 54.,  7., 13., 31.]),\n",
       " array([0.  , 0.04, 0.08, 0.12, 0.16, 0.2 , 0.24, 0.28, 0.32, 0.36, 0.4 ,\n",
       "        0.44, 0.48, 0.52, 0.56, 0.6 , 0.64, 0.68, 0.72, 0.76, 0.8 , 0.84,\n",
       "        0.88, 0.92, 0.96, 1.  ]),\n",
       " <a list of 25 Patch objects>)"
      ]
     },
     "execution_count": 25,
     "metadata": {},
     "output_type": "execute_result"
    },
    {
     "data": {
      "image/png": "[encoded data removed]",
      "text/plain": [
       "<Figure size 432x288 with 1 Axes>"
      ]
     },
     "metadata": {
      "needs_background": "light"
     },
     "output_type": "display_data"
    }
   ],
   "source": [
    "plt.hist(mol_sim_matches_s2v_arr[:,0,0], 25)"
   ]
  },
  {
   "cell_type": "markdown",
   "metadata": {},
   "source": [
    "## Use precursor mz to search similar spectra"
   ]
  },
  {
   "cell_type": "code",
   "execution_count": 101,
   "metadata": {},
   "outputs": [
    {
     "name": "stdout",
     "output_type": "stream",
     "text": [
      "No proper molecule generated for spectrum 3\n",
      "No proper molecule generated for spectrum 4\n",
      "No proper molecule generated for spectrum 5\n",
      "No proper molecule generated for spectrum 6\n",
      "Problem with molecule from spectrum 3\n",
      "Problem with molecule from spectrum 4\n",
      "Problem with molecule from spectrum 5\n",
      "Problem with molecule from spectrum 6\n"
     ]
    }
   ],
   "source": [
    "mol_sim_matches_mass = []\n",
    "\n",
    "for ID in range(len(spectra_unknown)):\n",
    "    match_IDs = found_matches[ID][found_matches[ID]['mass_match_10ppm']==1]['spectra_ID'].values.tolist()\n",
    "    if len(match_IDs) > 0:\n",
    "        fingerprint_query, _ = MS_functions.get_mol_fingerprints([spectra_unknown[ID]], \n",
    "                                                                 method = \"daylight\", #morgan3\", \n",
    "                                                                 nBits = 2048,\n",
    "                                                                 print_progress = False)\n",
    "        fingerprint_matches, _ = MS_functions.get_mol_fingerprints([spectra_library[x] for x in match_IDs], \n",
    "                                                                 method = \"daylight\", #morgan3\",  \n",
    "                                                                 nBits = 2048,\n",
    "                                                                 print_progress = False)\n",
    "\n",
    "        # calculate similarities\n",
    "        Mtest = MS_sim_classic.mol_sim_matrix(fingerprint_query,\n",
    "                                               fingerprint_matches,\n",
    "                                               method = 'jaccard',\n",
    "                                               filename = None,\n",
    "                                               max_size = 1000,\n",
    "                                               print_progress = False)\n",
    "\n",
    "        mol_sim_matches_mass.append(Mtest)"
   ]
  },
  {
   "cell_type": "code",
   "execution_count": 102,
   "metadata": {},
   "outputs": [
    {
     "name": "stdout",
     "output_type": "stream",
     "text": [
      "Found matches for 617 spectra out of 994 spectra in total.\n"
     ]
    }
   ],
   "source": [
    "print(\"Found matches for\", len(mol_sim_matches_mass), \"spectra out of\", len(spectra_unknown), \"spectra in total.\")"
   ]
  },
  {
   "cell_type": "code",
   "execution_count": 103,
   "metadata": {},
   "outputs": [
    {
     "data": {
      "text/plain": [
       "array([0.46958705, 0.4591534 , 0.46448891, 0.47239599, 0.45815543,\n",
       "       0.48435784, 0.51347674, 0.48661704, 0.47868342, 0.48633372])"
      ]
     },
     "execution_count": 103,
     "metadata": {},
     "output_type": "execute_result"
    }
   ],
   "source": [
    "mol_sim_matches_mass_mean = np.zeros((10))\n",
    "mol_sim_matches_mass_counts = np.zeros((10))\n",
    "top1_lst = []\n",
    "\n",
    "for matches in mol_sim_matches_mass:\n",
    "    matches = np.nan_to_num(matches[0])\n",
    "    high = min(len(matches),10)\n",
    "    if high > 0:\n",
    "        top1_lst.append(matches[0])\n",
    "        mol_sim_matches_mass_mean[:high] = mol_sim_matches_mass_mean[:high] + np.array(matches[:high])\n",
    "        mol_sim_matches_mass_counts[:high] = mol_sim_matches_mass_counts[:high] + np.ones(high)\n",
    "\n",
    "mol_sim_matches_mass_arr1 = np.array(top1_lst)    \n",
    "    \n",
    "mol_sim_matches_mass_mean/mol_sim_matches_mass_counts"
   ]
  },
  {
   "cell_type": "code",
   "execution_count": 164,
   "metadata": {},
   "outputs": [
    {
     "data": {
      "text/plain": [
       "Text(0, 0.5, 'number of matches')"
      ]
     },
     "execution_count": 164,
     "metadata": {},
     "output_type": "execute_result"
    },
    {
     "data": {
      "image/png": "[encoded data removed]",
      "text/plain": [
       "<Figure size 648x432 with 1 Axes>"
      ]
     },
     "metadata": {},
     "output_type": "display_data"
    }
   ],
   "source": [
    "plt.style.use('ggplot')\n",
    "plt.figure(figsize=(9,6))\n",
    "plt.hist(mol_sim_matches_mass_arr1, 25)\n",
    "plt.xlabel('molecular similarity (rdkit-2048 fingerprint --> jaccard score)')\n",
    "plt.ylabel('number of matches')"
   ]
  },
  {
   "cell_type": "markdown",
   "metadata": {},
   "source": [
    "## Same for morgan3 fingerprints and cosine similarity"
   ]
  },
  {
   "cell_type": "code",
   "execution_count": 32,
   "metadata": {},
   "outputs": [
    {
     "data": {
      "text/plain": [
       "(array([ 44.,  69., 116.,  64.,  63.,  16.,  25.,  10.,  30.,  21.,  29.,\n",
       "          8.,   1.,   9.,   1.,   9.,   6.,  47.,  18.,   0.,   2.,   3.,\n",
       "          1.,   9.,  16.]),\n",
       " array([0.06745406, 0.10432808, 0.1412021 , 0.17807612, 0.21495013,\n",
       "        0.25182415, 0.28869817, 0.32557219, 0.3624462 , 0.39932022,\n",
       "        0.43619424, 0.47306826, 0.50994228, 0.54681629, 0.58369031,\n",
       "        0.62056433, 0.65743835, 0.69431236, 0.73118638, 0.7680604 ,\n",
       "        0.80493442, 0.84180843, 0.87868245, 0.91555647, 0.95243049,\n",
       "        0.98930451]),\n",
       " <a list of 25 Patch objects>)"
      ]
     },
     "execution_count": 32,
     "metadata": {},
     "output_type": "execute_result"
    },
    {
     "data": {
      "image/png": "[encoded data removed]",
      "text/plain": [
       "<Figure size 432x288 with 1 Axes>"
      ]
     },
     "metadata": {
      "needs_background": "light"
     },
     "output_type": "display_data"
    }
   ],
   "source": [
    "plt.hist(mol_sim_matches_mass_arr1, 25)"
   ]
  },
  {
   "cell_type": "markdown",
   "metadata": {},
   "source": [
    "## Search for both mass and S2V score"
   ]
  },
  {
   "cell_type": "code",
   "execution_count": 106,
   "metadata": {},
   "outputs": [
    {
     "name": "stdout",
     "output_type": "stream",
     "text": [
      "No proper molecule generated for spectrum 0\n",
      "No proper molecule generated for spectrum 1\n",
      "No proper molecule generated for spectrum 2\n",
      "Problem with molecule from spectrum 0\n",
      "Problem with molecule from spectrum 1\n",
      "Problem with molecule from spectrum 2\n"
     ]
    }
   ],
   "source": [
    "mol_sim_matches_mass_s2vmodcos = []\n",
    "\n",
    "for ID in range(len(spectra_unknown)):\n",
    "    match_IDs = found_matches[ID][((found_matches[ID]['mass_match_10ppm']==1)\n",
    "                                 & (found_matches[ID]['modcosine_score'] > 0.5))\n",
    "                                 | ((found_matches[ID]['S2V_top_n']==1)\n",
    "                                  & (found_matches[ID]['S2V_similarity'] > 0.6))]['spectra_ID'].values.tolist()\n",
    "    if len(match_IDs) > 0:\n",
    "        fingerprint_query, _ = MS_functions.get_mol_fingerprints([spectra_unknown[ID]], \n",
    "                                                                 method = \"daylight\", #morgan3\", \n",
    "                                                                 nBits = 2048,\n",
    "                                                                 print_progress = False)\n",
    "        fingerprint_matches, _ = MS_functions.get_mol_fingerprints([spectra_library[x] for x in match_IDs], \n",
    "                                                                 method = \"daylight\", #morgan3\",  \n",
    "                                                                 nBits = 2048,\n",
    "                                                                 print_progress = False)\n",
    "\n",
    "        # calculate similarities\n",
    "        Mtest = MS_sim_classic.mol_sim_matrix(fingerprint_query,\n",
    "                                               fingerprint_matches,\n",
    "                                               method = 'jaccard',\n",
    "                                               filename = None,\n",
    "                                               max_size = 1000,\n",
    "                                               print_progress = False)\n",
    "\n",
    "        mol_sim_matches_mass_s2vmodcos.append(Mtest)"
   ]
  },
  {
   "cell_type": "code",
   "execution_count": 110,
   "metadata": {},
   "outputs": [
    {
     "data": {
      "text/plain": [
       "array([0.55602125, 0.54701678, 0.51963064, 0.50768641, 0.50288268,\n",
       "       0.50292098, 0.49342038, 0.47766954, 0.46776428, 0.48075081])"
      ]
     },
     "execution_count": 110,
     "metadata": {},
     "output_type": "execute_result"
    }
   ],
   "source": [
    "mol_sim_matches_mass_s2vmodcos_mean = np.zeros((10))\n",
    "mol_sim_matches_mass_s2vmodcos_counts = np.zeros((10))\n",
    "top1_lst = []\n",
    "\n",
    "for matches in mol_sim_matches_mass_s2vmodcos:\n",
    "    matches = np.nan_to_num(matches[0])\n",
    "    high = min(len(matches),10)\n",
    "    if high > 0:\n",
    "        top1_lst.append(matches[0])\n",
    "        mol_sim_matches_mass_s2vmodcos_mean[:high] = mol_sim_matches_mass_s2vmodcos_mean[:high] + np.array(matches[:high])\n",
    "        mol_sim_matches_mass_s2vmodcos_counts[:high] = mol_sim_matches_mass_s2vmodcos_counts[:high] + np.ones(high)\n",
    "\n",
    "mol_sim_matches_mass_s2vmodcos_arr1 = np.array(top1_lst)    \n",
    "    \n",
    "mol_sim_matches_mass_s2vmodcos_mean/mol_sim_matches_mass_s2vmodcos_counts"
   ]
  },
  {
   "cell_type": "code",
   "execution_count": 111,
   "metadata": {},
   "outputs": [
    {
     "data": {
      "text/plain": [
       "(array([ 10.,  22.,  36.,  53.,  31.,  24.,  29.,  18.,  41.,  29.,  15.,\n",
       "         16.,  29.,  16.,  15.,  12.,  21.,  24.,  15.,  39.,  10.,  10.,\n",
       "         37.,  62., 107.]),\n",
       " array([0.  , 0.04, 0.08, 0.12, 0.16, 0.2 , 0.24, 0.28, 0.32, 0.36, 0.4 ,\n",
       "        0.44, 0.48, 0.52, 0.56, 0.6 , 0.64, 0.68, 0.72, 0.76, 0.8 , 0.84,\n",
       "        0.88, 0.92, 0.96, 1.  ]),\n",
       " <a list of 25 Patch objects>)"
      ]
     },
     "execution_count": 111,
     "metadata": {},
     "output_type": "execute_result"
    },
    {
     "data": {
      "image/png": "[encoded data removed]",
      "text/plain": [
       "<Figure size 432x288 with 1 Axes>"
      ]
     },
     "metadata": {
      "needs_background": "light"
     },
     "output_type": "display_data"
    }
   ],
   "source": [
    "plt.hist(mol_sim_matches_mass_s2vmodcos_arr1, 25)"
   ]
  },
  {
   "cell_type": "markdown",
   "metadata": {},
   "source": [
    "## Search based on S2V only"
   ]
  },
  {
   "cell_type": "code",
   "execution_count": 152,
   "metadata": {},
   "outputs": [
    {
     "name": "stdout",
     "output_type": "stream",
     "text": [
      "No proper molecule generated for spectrum 0\n",
      "No proper molecule generated for spectrum 1\n",
      "No proper molecule generated for spectrum 2\n",
      "Problem with molecule from spectrum 0\n",
      "Problem with molecule from spectrum 1\n",
      "Problem with molecule from spectrum 2\n"
     ]
    }
   ],
   "source": [
    "mol_sim_matches_s2v_thres = []\n",
    "\n",
    "for ID in range(len(spectra_unknown)):\n",
    "    match_IDs = found_matches[ID][(found_matches[ID]['S2V_top_n']==1)\n",
    "                                  & (found_matches[ID]['S2V_similarity'] > 0.6)]['spectra_ID'].values.tolist()\n",
    "    if len(match_IDs) > 0:\n",
    "        fingerprint_query, _ = MS_functions.get_mol_fingerprints([spectra_unknown[ID]], \n",
    "                                                                 method = \"daylight\", #morgan3\", \n",
    "                                                                 nBits = 2048,\n",
    "                                                                 print_progress = False)\n",
    "        fingerprint_matches, _ = MS_functions.get_mol_fingerprints([spectra_library[x] for x in match_IDs], \n",
    "                                                                 method = \"daylight\", #morgan3\",  \n",
    "                                                                 nBits = 2048,\n",
    "                                                                 print_progress = False)\n",
    "\n",
    "        # calculate similarities\n",
    "        Mtest = MS_sim_classic.mol_sim_matrix(fingerprint_query,\n",
    "                                               fingerprint_matches,\n",
    "                                               method = 'jaccard',\n",
    "                                               filename = None,\n",
    "                                               max_size = 1000,\n",
    "                                               print_progress = False)\n",
    "\n",
    "        mol_sim_matches_s2v_thres.append(Mtest)"
   ]
  },
  {
   "cell_type": "code",
   "execution_count": 153,
   "metadata": {},
   "outputs": [
    {
     "name": "stdout",
     "output_type": "stream",
     "text": [
      "Found matches for 699 spectra out of 994 spectra in total.\n"
     ]
    }
   ],
   "source": [
    "print(\"Found matches for\", len(mol_sim_matches_s2v_thres), \"spectra out of\", len(spectra_unknown), \"spectra in total.\")"
   ]
  },
  {
   "cell_type": "code",
   "execution_count": 154,
   "metadata": {},
   "outputs": [
    {
     "name": "stdout",
     "output_type": "stream",
     "text": [
      "Mean molecular similarity: 0.5494145527725738\n"
     ]
    }
   ],
   "source": [
    "print(\"Mean molecular similarity:\", np.mean([x[0][0] for x in mol_sim_matches_s2v_thres]))"
   ]
  },
  {
   "cell_type": "code",
   "execution_count": 161,
   "metadata": {},
   "outputs": [
    {
     "data": {
      "text/plain": [
       "Text(0, 0.5, 'number of matches')"
      ]
     },
     "execution_count": 161,
     "metadata": {},
     "output_type": "execute_result"
    },
    {
     "data": {
      "image/png": "[encoded data removed]",
      "text/plain": [
       "<Figure size 648x432 with 1 Axes>"
      ]
     },
     "metadata": {},
     "output_type": "display_data"
    }
   ],
   "source": [
    "plt.style.use('ggplot')\n",
    "plt.figure(figsize=(9,6))\n",
    "plt.hist(np.array([x[0][0] for x in mol_sim_matches_s2v_thres]), 25)\n",
    "plt.xlabel('molecular similarity (rdkit-2048 fingerprint --> jaccard score)')\n",
    "plt.ylabel('number of matches')"
   ]
  },
  {
   "cell_type": "markdown",
   "metadata": {},
   "source": [
    "## Search including S2V and mod.cosine scores"
   ]
  },
  {
   "cell_type": "code",
   "execution_count": 97,
   "metadata": {},
   "outputs": [],
   "source": [
    "mol_sim_matches_s2v_thres = []\n",
    "\n",
    "for ID in range(len(spectra_unknown)):\n",
    "    match_IDs = found_matches[ID][(found_matches[ID]['S2V_top_n']==1)\n",
    "                                  & (found_matches[ID]['S2V_similarity'] > 0.5)\n",
    "                                  & (found_matches[ID]['modcosine_score'] > 0.5)]['spectra_ID'].values.tolist()\n",
    "    if len(match_IDs) > 0:\n",
    "        fingerprint_query, _ = MS_functions.get_mol_fingerprints([spectra_unknown[ID]], \n",
    "                                                                 method = \"daylight\", #morgan3\", \n",
    "                                                                 nBits = 2048,\n",
    "                                                                 print_progress = False)\n",
    "        fingerprint_matches, _ = MS_functions.get_mol_fingerprints([spectra_library[x] for x in match_IDs], \n",
    "                                                                 method = \"daylight\", #morgan3\",  \n",
    "                                                                 nBits = 2048,\n",
    "                                                                 print_progress = False)\n",
    "\n",
    "        # calculate similarities\n",
    "        Mtest = MS_sim_classic.mol_sim_matrix(fingerprint_query,\n",
    "                                               fingerprint_matches,\n",
    "                                               method = 'jaccard',\n",
    "                                               filename = None,\n",
    "                                               max_size = 1000,\n",
    "                                               print_progress = False)\n",
    "\n",
    "        mol_sim_matches_s2v_thres.append(Mtest)"
   ]
  },
  {
   "cell_type": "code",
   "execution_count": 98,
   "metadata": {},
   "outputs": [
    {
     "name": "stdout",
     "output_type": "stream",
     "text": [
      "Found matches for 704 spectra out of 994 spectra in total.\n"
     ]
    }
   ],
   "source": [
    "print(\"Found matches for\", len(mol_sim_matches_s2v_thres), \"spectra out of\", len(spectra_unknown), \"spectra in total.\")"
   ]
  },
  {
   "cell_type": "code",
   "execution_count": 99,
   "metadata": {},
   "outputs": [
    {
     "name": "stdout",
     "output_type": "stream",
     "text": [
      "Mean molecular similarity: 0.5683074272641239\n"
     ]
    }
   ],
   "source": [
    "print(\"Mean molecular similarity:\", np.mean([x[0][0] for x in mol_sim_matches_s2v_thres]))"
   ]
  },
  {
   "cell_type": "code",
   "execution_count": 100,
   "metadata": {},
   "outputs": [
    {
     "data": {
      "text/plain": [
       "(array([ 7., 24., 32., 38., 23., 23., 26., 37., 36., 28., 13., 18., 34.,\n",
       "        16., 17., 12., 20., 28., 24., 27.,  5., 17., 34., 69., 96.]),\n",
       " array([0.00704225, 0.04676056, 0.08647887, 0.12619718, 0.16591549,\n",
       "        0.2056338 , 0.24535211, 0.28507042, 0.32478873, 0.36450704,\n",
       "        0.40422535, 0.44394366, 0.48366197, 0.52338028, 0.56309859,\n",
       "        0.6028169 , 0.64253521, 0.68225352, 0.72197183, 0.76169014,\n",
       "        0.80140845, 0.84112676, 0.88084507, 0.92056338, 0.96028169,\n",
       "        1.        ]),\n",
       " <a list of 25 Patch objects>)"
      ]
     },
     "execution_count": 100,
     "metadata": {},
     "output_type": "execute_result"
    },
    {
     "data": {
      "image/png": "[encoded data removed]",
      "text/plain": [
       "<Figure size 432x288 with 1 Axes>"
      ]
     },
     "metadata": {
      "needs_background": "light"
     },
     "output_type": "display_data"
    }
   ],
   "source": [
    "plt.hist(np.array([x[0][0] for x in mol_sim_matches_s2v_thres]), 25)"
   ]
  },
  {
   "cell_type": "markdown",
   "metadata": {},
   "source": [
    "## Same search but compared to morgan3 fingerprints + cosine similarity"
   ]
  },
  {
   "cell_type": "code",
   "execution_count": 38,
   "metadata": {},
   "outputs": [
    {
     "data": {
      "text/plain": [
       "(array([ 8., 20., 32., 55., 50., 46., 30., 37., 51., 27., 19., 18., 19.,\n",
       "        22., 19., 18., 18., 34., 54., 17., 20., 47.,  7., 12., 24.]),\n",
       " array([0.  , 0.04, 0.08, 0.12, 0.16, 0.2 , 0.24, 0.28, 0.32, 0.36, 0.4 ,\n",
       "        0.44, 0.48, 0.52, 0.56, 0.6 , 0.64, 0.68, 0.72, 0.76, 0.8 , 0.84,\n",
       "        0.88, 0.92, 0.96, 1.  ]),\n",
       " <a list of 25 Patch objects>)"
      ]
     },
     "execution_count": 38,
     "metadata": {},
     "output_type": "execute_result"
    },
    {
     "data": {
      "image/png": "[encoded data removed]",
      "text/plain": [
       "<Figure size 432x288 with 1 Axes>"
      ]
     },
     "metadata": {
      "needs_background": "light"
     },
     "output_type": "display_data"
    }
   ],
   "source": [
    "plt.hist(np.array([x[0][0] for x in mol_sim_matches_s2v_thres]), 25)"
   ]
  },
  {
   "cell_type": "code",
   "execution_count": 39,
   "metadata": {},
   "outputs": [
    {
     "data": {
      "text/plain": [
       "[29762]"
      ]
     },
     "execution_count": 39,
     "metadata": {},
     "output_type": "execute_result"
    }
   ],
   "source": [
    "ID = 80\n",
    "match_IDs = found_matches[ID][(found_matches[ID]['S2V_top_n']==1)\n",
    "                                  & (found_matches[ID]['S2V_similarity'] > 0.5)\n",
    "                                  & (found_matches[ID]['modcosine_score'] > 0.5)]['spectra_ID'].values.tolist()\n",
    "match_IDs"
   ]
  },
  {
   "cell_type": "code",
   "execution_count": 41,
   "metadata": {},
   "outputs": [
    {
     "name": "stdout",
     "output_type": "stream",
     "text": [
      "Query spectra ---------------- \n",
      " SMILES: [H][C@]1(CC(/C=C/C)=CN21)C(O)NC3=C(O)C(C)=C(O[C@@H]4O[C@@H](C)[C@H](NC)[C@@](C)(O)[C@H]4O)C=C3C2=O \n",
      " INCHIKEY: RAGFPHFDFVNLCG-OKNUHWCXSA-N \n",
      " TITLE: Sibiromycin hemiaminal\n",
      "Proposed similar spectra ---------------- \n",
      " SMILES: [H][C@]1(CC(CCCC)CN21)C(O)NC3=C(O)C(C)=C(O[C@@H]4O[C@@H](C)[C@H](NC)[C@@](C)(O)[C@H]4O)C=C3C2=O \n",
      " INCHIKEY: YWAXVDLXUXRDHL-NLUDKXEPSA-N \n",
      " TITLE: Sibiromycin-494 hemiaminal\n"
     ]
    }
   ],
   "source": [
    "ID = 100\n",
    "\n",
    "match_IDs = found_matches[ID][(found_matches[ID]['S2V_top_n']==1)\n",
    "                                  & (found_matches[ID]['S2V_similarity'] > 0.5)\n",
    "                                  & (found_matches[ID]['modcosine_score'] > 0.5)]['spectra_ID'].values.tolist()\n",
    "if len(match_IDs) > 0:\n",
    "    print(\"Query spectra ----------------\", '\\n',\n",
    "          \"SMILES:\", spectra_unknown[ID].smiles, '\\n',\n",
    "          \"INCHIKEY:\", spectra_unknown[ID].inchikey, '\\n',\n",
    "          \"TITLE:\", spectra_unknown[ID].metadata['title'])\n",
    "    print(\"Proposed similar spectra ----------------\", '\\n',\n",
    "          \"SMILES:\", spectra[library_spectra_metadata.iloc[match_IDs].index[0]].smiles, '\\n',\n",
    "          \"INCHIKEY:\", spectra[library_spectra_metadata.iloc[match_IDs].index[0]].inchikey, '\\n',\n",
    "         \"TITLE:\", spectra[library_spectra_metadata.iloc[match_IDs].index[0]].metadata['title'])"
   ]
  },
  {
   "cell_type": "code",
   "execution_count": 42,
   "metadata": {},
   "outputs": [
    {
     "name": "stdout",
     "output_type": "stream",
     "text": [
      "Query spectra ---------------- \n",
      " SMILES: CC(=CCCC(C)([C@H]1CC[C@]2(C)[C@@H]1[C@@H](CC1[C@@]3(C)CC[C@@H](C(C)(C)[C@@H]3CC[C@@]21C)O[C@H]1[C@@H]([C@H]([C@@H]([C@@H](CO)O1)O)O)O[C@H]1[C@@H]([C@H]([C@@H]([C@@H](CO)O1)O)O)O)O)O)C \n",
      " INCHIKEY: RWXIFXNRCLMQCD-XXYKJBRESA-N \n",
      " TITLE: (2S,3R,4S,5S,6R)-2-[(2R,3R,4S,5S,6R)-4,5-dihydroxy-2-[[(3S,5R,8R,10R,12R,13R,14R,17S)-12-hydroxy-17-(2-hydroxy-6-methylhept-5-en-2-yl)-4,4,8,10,14-pentamethyl-2,3,5,6,7,9,11,12,13,15,16,17-dodecahydro-1H-cyclopenta[a]phenanthren-3-yl]oxy]-6-(hydroxymethyl)oxan-3-yl]oxy-6-(hydroxymethyl)oxane-3,4,5-triol\n",
      "Proposed similar spectra ---------------- \n",
      " SMILES: CC(=CCC[C@@](C)([C@H]1CC[C@]2(C)[C@@H]1[C@@H](CC1[C@@]3(C)CC[C@@H](C(C)(C)[C@@H]3[C@H](C[C@@]21C)O[C@H]1[C@@H]([C@H]([C@@H]([C@@H](CO)O1)O)O)O[C@H]1[C@@H]([C@H]([C@@H]([C@@H](CO)O1)O)O)O)O)O)O)C \n",
      " INCHIKEY: UZIOUZHBUYLDHW-KIOKIGKZSA-N \n",
      " TITLE: (2S,3R,4S,5S,6R)-2-[(2R,3R,4S,5S,6R)-2-[[(3S,5R,6S,8R,10R,12R,13R,14R,17S)-3,12-dihydroxy-17-[(2S)-2-hydroxy-6-methylhept-5-en-2-yl]-4,4,8,10,14-pentamethyl-2,3,5,6,7,9,11,12,13,15,16,17-dodecahydro-1H-cyclopenta[a]phenanthren-6-yl]oxy]-4,5-dihydroxy-6-(hydroxymethyl)oxan-3-yl]oxy-6-(hydroxymethyl)oxane-3,4,5-triol\n"
     ]
    }
   ],
   "source": [
    "ID = 140\n",
    "\n",
    "match_IDs = found_matches[ID][(found_matches[ID]['S2V_top_n']==1)\n",
    "                                  & (found_matches[ID]['S2V_similarity'] > 0.5)\n",
    "                                  & (found_matches[ID]['modcosine_score'] > 0.5)]['spectra_ID'].values.tolist()\n",
    "if len(match_IDs) > 0:\n",
    "    print(\"Query spectra ----------------\", '\\n',\n",
    "          \"SMILES:\", spectra_unknown[ID].smiles, '\\n',\n",
    "          \"INCHIKEY:\", spectra_unknown[ID].inchikey, '\\n',\n",
    "          \"TITLE:\", spectra_unknown[ID].metadata['title'])\n",
    "    print(\"Proposed similar spectra ----------------\", '\\n',\n",
    "          \"SMILES:\", spectra[library_spectra_metadata.iloc[match_IDs].index[0]].smiles, '\\n',\n",
    "          \"INCHIKEY:\", spectra[library_spectra_metadata.iloc[match_IDs].index[0]].inchikey, '\\n',\n",
    "         \"TITLE:\", spectra[library_spectra_metadata.iloc[match_IDs].index[0]].metadata['title'])\n"
   ]
  },
  {
   "cell_type": "markdown",
   "metadata": {},
   "source": [
    "## Inspect results"
   ]
  },
  {
   "cell_type": "code",
   "execution_count": 23,
   "metadata": {},
   "outputs": [],
   "source": [
    "from rdkit import Chem\n",
    "from rdkit.Chem import Draw"
   ]
  },
  {
   "cell_type": "code",
   "execution_count": 42,
   "metadata": {},
   "outputs": [
    {
     "name": "stdout",
     "output_type": "stream",
     "text": [
      "Scour processed file \"draw_mols2.svg\" in 31 ms: 6530/9757 bytes new/orig -> 66.9%\n"
     ]
    }
   ],
   "source": [
    "#!scour -i draw_mols2.svg -o draw_mols2corr.svg"
   ]
  },
  {
   "cell_type": "code",
   "execution_count": 24,
   "metadata": {},
   "outputs": [],
   "source": [
    "from IPython.display import SVG, display\n",
    "\n",
    "def plot_molecule(smiles_lst):\n",
    "    if not isinstance(smiles_lst, list):\n",
    "        smiles_lst = [smiles_lst]\n",
    "    for smiles in smiles_lst:\n",
    "        filename = \"draw_mols_temp.svg\"\n",
    "        mol = Chem.MolFromSmiles(smiles)\n",
    "        Draw.MolToFile(mol, filename)\n",
    "        !scour -i draw_mols_temp.svg -o draw_mols_temp_corr.svg\n",
    "\n",
    "        display(SVG(filename='draw_mols_temp_corr.svg'))"
   ]
  },
  {
   "cell_type": "code",
   "execution_count": 57,
   "metadata": {},
   "outputs": [
    {
     "name": "stdout",
     "output_type": "stream",
     "text": [
      "Scour processed file \"draw_mols_temp.svg\" in 31 ms: 6530/9757 bytes new/orig -> 66.9%\n"
     ]
    },
    {
     "data": {
      "image/svg+xml": [
       "<svg baseProfile=\"full\" height=\"300px\" space=\"preserve\" version=\"1.1\" width=\"300px\" xmlns=\"http://www.w3.org/2000/svg\">\n",
       " <polygon fill=\"#fff\" points=\"0 0 300 0 300 300 0 300\" stroke-width=\"0\"/>\n",
       " <g>\n",
       "  <text fill=\"rgb(0,0,255)\" font-family=\"helvetica\" font-size=\"7\" x=\"111.19\" y=\"140.68\">N</text>\n",
       " </g>\n",
       " <g>\n",
       "  <text fill=\"rgb(255,0,0)\" font-family=\"helvetica\" font-size=\"7\" x=\"67.89\" y=\"185.56\">HO</text>\n",
       " </g>\n",
       " <g>\n",
       "  <text fill=\"rgb(0,0,255)\" font-family=\"helvetica\" font-size=\"7\" x=\"110.38\" y=\"190.36\">NH</text>\n",
       " </g>\n",
       " <g>\n",
       "  <text fill=\"rgb(255,0,0)\" font-family=\"helvetica\" font-size=\"7\" x=\"128.91\" y=\"224.02\">HO</text>\n",
       " </g>\n",
       " <g>\n",
       "  <text fill=\"rgb(255,0,0)\" font-family=\"helvetica\" font-size=\"7\" x=\"198.04\" y=\"181.91\">O</text>\n",
       " </g>\n",
       " <g>\n",
       "  <text fill=\"rgb(255,0,0)\" font-family=\"helvetica\" font-size=\"7\" x=\"230.04\" y=\"160.85\">O</text>\n",
       " </g>\n",
       " <g>\n",
       "  <text fill=\"rgb(0,0,255)\" font-family=\"helvetica\" font-size=\"7\" x=\"237.91\" y=\"102.85\">NH</text>\n",
       " </g>\n",
       " <g>\n",
       "  <text fill=\"rgb(255,0,0)\" font-family=\"helvetica\" font-size=\"7\" x=\"208.38\" y=\"101.94\">OH</text>\n",
       " </g>\n",
       " <g>\n",
       "  <text fill=\"rgb(255,0,0)\" font-family=\"helvetica\" font-size=\"7\" x=\"168.57\" y=\"144.96\">HO</text>\n",
       " </g>\n",
       " <g>\n",
       "  <text fill=\"rgb(255,0,0)\" font-family=\"helvetica\" font-size=\"7\" x=\"146.53\" y=\"128.89\">O</text>\n",
       " </g>\n",
       " <line stroke=\"#000\" x1=\"96.2\" x2=\"96.2\" y1=\"149.98\" y2=\"149.98\"/>\n",
       " <line stroke=\"#000\" x1=\"93.26\" x2=\"92.61\" y1=\"147.27\" y2=\"148.23\"/>\n",
       " <line stroke=\"#000\" x1=\"90.33\" x2=\"89.01\" y1=\"144.55\" y2=\"146.48\"/>\n",
       " <line stroke=\"#000\" x1=\"87.39\" x2=\"85.42\" y1=\"141.84\" y2=\"144.72\"/>\n",
       " <line stroke=\"#000\" x1=\"84.45\" x2=\"81.82\" y1=\"139.13\" y2=\"142.97\"/>\n",
       " <line stroke=\"#000\" x1=\"81.51\" x2=\"78.23\" y1=\"136.41\" y2=\"141.22\"/>\n",
       " <line stroke=\"#000\" x1=\"79.78\" x2=\"76.11\" y1=\"134.82\" y2=\"140.19\"/>\n",
       " <line stroke=\"#000\" x1=\"77.95\" x2=\"84.18\" y1=\"137.5\" y2=\"116.28\"/>\n",
       " <line stroke=\"#000\" x1=\"84.18\" x2=\"70.67\" y1=\"116.28\" y2=\"98.77\"/>\n",
       " <line stroke=\"#000\" x1=\"70.67\" x2=\"48.75\" y1=\"98.77\" y2=\"101.71\"/>\n",
       " <line stroke=\"#000\" x1=\"67.9\" x2=\"50.37\" y1=\"94.77\" y2=\"97.12\"/>\n",
       " <line stroke=\"#000\" x1=\"48.75\" x2=\"35.25\" y1=\"101.71\" y2=\"84.2\"/>\n",
       " <line stroke=\"#000\" x1=\"84.18\" x2=\"106.28\" y1=\"116.28\" y2=\"115.65\"/>\n",
       " <line stroke=\"#000\" x1=\"86.51\" x2=\"104.19\" y1=\"120.56\" y2=\"120.05\"/>\n",
       " <line stroke=\"#000\" x1=\"106.28\" x2=\"108.95\" y1=\"115.65\" y2=\"123.12\"/>\n",
       " <line stroke=\"#00f\" x1=\"108.95\" x2=\"111.61\" y1=\"123.12\" y2=\"130.6\"/>\n",
       " <line stroke=\"#000\" x1=\"96.2\" x2=\"95.84\" y1=\"149.98\" y2=\"172.09\"/>\n",
       " <line stroke=\"#000\" x1=\"95.84\" x2=\"87.96\" y1=\"172.09\" y2=\"175.73\"/>\n",
       " <line stroke=\"#f00\" x1=\"87.96\" x2=\"80.07\" y1=\"175.73\" y2=\"179.37\"/>\n",
       " <line stroke=\"#000\" x1=\"95.84\" x2=\"102.27\" y1=\"172.09\" y2=\"177.39\"/>\n",
       " <line stroke=\"#00f\" x1=\"102.27\" x2=\"108.7\" y1=\"177.39\" y2=\"182.69\"/>\n",
       " <line stroke=\"#00f\" x1=\"122.17\" x2=\"128.35\" y1=\"184.2\" y2=\"182.9\"/>\n",
       " <line stroke=\"#000\" x1=\"128.35\" x2=\"134.54\" y1=\"182.9\" y2=\"181.59\"/>\n",
       " <line stroke=\"#000\" x1=\"134.54\" x2=\"146.7\" y1=\"181.59\" y2=\"200.06\"/>\n",
       " <line stroke=\"#000\" x1=\"139.38\" x2=\"149.11\" y1=\"181.05\" y2=\"195.83\"/>\n",
       " <line stroke=\"#000\" x1=\"146.7\" x2=\"143.22\" y1=\"200.06\" y2=\"207\"/>\n",
       " <line stroke=\"#f00\" x1=\"143.22\" x2=\"139.73\" y1=\"207\" y2=\"213.94\"/>\n",
       " <line stroke=\"#000\" x1=\"146.7\" x2=\"168.77\" y1=\"200.06\" y2=\"198.76\"/>\n",
       " <line stroke=\"#000\" x1=\"168.77\" x2=\"180.93\" y1=\"198.76\" y2=\"217.23\"/>\n",
       " <line stroke=\"#000\" x1=\"168.77\" x2=\"178.69\" y1=\"198.76\" y2=\"179\"/>\n",
       " <line stroke=\"#000\" x1=\"165.89\" x2=\"173.82\" y1=\"194.84\" y2=\"179.03\"/>\n",
       " <line stroke=\"#000\" x1=\"178.69\" x2=\"187.53\" y1=\"179\" y2=\"178.48\"/>\n",
       " <line stroke=\"#f00\" x1=\"187.53\" x2=\"196.36\" y1=\"178.48\" y2=\"177.96\"/>\n",
       " <polygon points=\"210.68 157.94 200.81 170.37 206.62 173.28\" stroke-width=\"0\"/>\n",
       " <line stroke=\"#000\" x1=\"210.68\" x2=\"219.52\" y1=\"157.94\" y2=\"157.42\"/>\n",
       " <line stroke=\"#f00\" x1=\"219.52\" x2=\"228.36\" y1=\"157.42\" y2=\"156.9\"/>\n",
       " <line stroke=\"#f00\" x1=\"235.71\" x2=\"239.19\" y1=\"150.77\" y2=\"143.82\"/>\n",
       " <line stroke=\"#000\" x1=\"239.19\" x2=\"242.67\" y1=\"143.82\" y2=\"136.88\"/>\n",
       " <line stroke=\"#000\" x1=\"242.67\" x2=\"242.67\" y1=\"136.88\" y2=\"136.88\"/>\n",
       " <line stroke=\"#000\" x1=\"246.66\" x2=\"246.59\" y1=\"137.23\" y2=\"136.07\"/>\n",
       " <line stroke=\"#000\" x1=\"250.64\" x2=\"250.51\" y1=\"137.58\" y2=\"135.26\"/>\n",
       " <line stroke=\"#000\" x1=\"254.63\" x2=\"254.42\" y1=\"137.93\" y2=\"134.44\"/>\n",
       " <line stroke=\"#000\" x1=\"258.61\" x2=\"258.34\" y1=\"138.28\" y2=\"133.63\"/>\n",
       " <line stroke=\"#000\" x1=\"262.6\" x2=\"262.26\" y1=\"138.63\" y2=\"132.82\"/>\n",
       " <line stroke=\"#000\" x1=\"264.94\" x2=\"264.56\" y1=\"138.83\" y2=\"132.34\"/>\n",
       " <line stroke=\"#000\" x1=\"242.67\" x2=\"230.52\" y1=\"136.88\" y2=\"118.41\"/>\n",
       " <polygon points=\"230.52 118.41 240.39 105.99 234.58 103.07\" stroke-width=\"0\"/>\n",
       " <line stroke=\"#00f\" x1=\"236.56\" x2=\"232.42\" y1=\"92.77\" y2=\"86.47\"/>\n",
       " <line stroke=\"#000\" x1=\"232.42\" x2=\"228.27\" y1=\"86.47\" y2=\"80.18\"/>\n",
       " <line stroke=\"#000\" x1=\"230.52\" x2=\"208.44\" y1=\"118.41\" y2=\"119.71\"/>\n",
       " <polygon points=\"208.44 119.71 188.19 110.26 186.32 116.49\" stroke-width=\"0\"/>\n",
       " <line stroke=\"#000\" x1=\"208.44\" x2=\"209.38\" y1=\"119.71\" y2=\"111.66\"/>\n",
       " <line stroke=\"#f00\" x1=\"209.38\" x2=\"210.32\" y1=\"111.66\" y2=\"103.62\"/>\n",
       " <line stroke=\"#000\" x1=\"208.44\" x2=\"198.52\" y1=\"119.71\" y2=\"139.47\"/>\n",
       " <line stroke=\"#000\" x1=\"198.52\" x2=\"198.52\" y1=\"139.47\" y2=\"139.47\"/>\n",
       " <line stroke=\"#000\" x1=\"194.55\" x2=\"194.64\" y1=\"138.98\" y2=\"140.42\"/>\n",
       " <line stroke=\"#000\" x1=\"190.58\" x2=\"190.75\" y1=\"138.5\" y2=\"141.37\"/>\n",
       " <line stroke=\"#000\" x1=\"186.61\" x2=\"186.87\" y1=\"138.01\" y2=\"142.31\"/>\n",
       " <line stroke=\"#000\" x1=\"182.64\" x2=\"182.98\" y1=\"137.52\" y2=\"143.26\"/>\n",
       " <line stroke=\"#000\" x1=\"180.56\" x2=\"180.95\" y1=\"137.27\" y2=\"143.76\"/>\n",
       " <line stroke=\"#000\" x1=\"178.69\" x2=\"166.53\" y1=\"179\" y2=\"160.53\"/>\n",
       " <line stroke=\"#000\" x1=\"166.53\" x2=\"144.46\" y1=\"160.53\" y2=\"161.82\"/>\n",
       " <line stroke=\"#000\" x1=\"164.58\" x2=\"146.92\" y1=\"164.99\" y2=\"166.02\"/>\n",
       " <line stroke=\"#000\" x1=\"144.46\" x2=\"135.19\" y1=\"161.82\" y2=\"141.75\"/>\n",
       " <line stroke=\"#000\" x1=\"136.86\" x2=\"141.69\" y1=\"143.13\" y2=\"137.27\"/>\n",
       " <line stroke=\"#f00\" x1=\"141.69\" x2=\"146.52\" y1=\"137.27\" y2=\"131.41\"/>\n",
       " <line stroke=\"#000\" x1=\"133.52\" x2=\"138.35\" y1=\"140.37\" y2=\"134.51\"/>\n",
       " <line stroke=\"#f00\" x1=\"138.35\" x2=\"143.18\" y1=\"134.51\" y2=\"128.65\"/>\n",
       " <line stroke=\"#00f\" x1=\"109.51\" x2=\"102.85\" y1=\"139.72\" y2=\"144.85\"/>\n",
       " <line stroke=\"#000\" x1=\"102.85\" x2=\"96.2\" y1=\"144.85\" y2=\"149.98\"/>\n",
       " <line stroke=\"#000\" x1=\"135.19\" x2=\"126.55\" y1=\"141.75\" y2=\"139.63\"/>\n",
       " <line stroke=\"#00f\" x1=\"126.55\" x2=\"117.92\" y1=\"139.63\" y2=\"137.51\"/>\n",
       " <line stroke=\"#000\" x1=\"144.46\" x2=\"134.54\" y1=\"161.82\" y2=\"181.59\"/>\n",
       " <line stroke=\"#000\" x1=\"198.52\" x2=\"210.68\" y1=\"139.47\" y2=\"157.94\"/>\n",
       "</svg>"
      ],
      "text/plain": [
       "<IPython.core.display.SVG object>"
      ]
     },
     "metadata": {},
     "output_type": "display_data"
    }
   ],
   "source": [
    "plot_molecule(\"[H][C@]1(CC(/C=C/C)=CN21)C(O)NC3=C(O)C(C)=C(O[C@@H]4O[C@@H](C)[C@H](NC)[C@@](C)(O)[C@H]4O)C=C3C2=O\")"
   ]
  },
  {
   "cell_type": "code",
   "execution_count": 35,
   "metadata": {},
   "outputs": [
    {
     "data": {
      "text/plain": [
       "46865"
      ]
     },
     "execution_count": 35,
     "metadata": {},
     "output_type": "execute_result"
    }
   ],
   "source": [
    "library_spectra_metadata.iloc[matchID][0]"
   ]
  },
  {
   "cell_type": "code",
   "execution_count": 56,
   "metadata": {},
   "outputs": [
    {
     "data": {
      "text/plain": [
       "[5157]"
      ]
     },
     "execution_count": 56,
     "metadata": {},
     "output_type": "execute_result"
    }
   ],
   "source": [
    "match_IDs"
   ]
  },
  {
   "cell_type": "markdown",
   "metadata": {},
   "source": [
    "# Display potentially similar compounds to unknown spectra"
   ]
  },
  {
   "cell_type": "code",
   "execution_count": 168,
   "metadata": {
    "scrolled": false
   },
   "outputs": [
    {
     "name": "stdout",
     "output_type": "stream",
     "text": [
      "--------------------------------------------------------------------------------\n",
      "QUERY SPECTRUM  ----------------------------------------------------------------\n",
      "SMILES: CC1CC(O)C(O)C2=CC(=O)C3(OC3C12C)C(=C)COC(=O)C(O)C(O)CO\n",
      "INCHIKEY: KHZIUQMHAJNNKW-UHFFFAOYSA-N\n",
      "--> MOLECULE:\n",
      "Scour processed file \"draw_mols_temp.svg\" in 55 ms: 4498/6619 bytes new/orig -> 68.0%\n"
     ]
    },
    {
     "data": {
      "image/svg+xml": [
       "<svg baseProfile=\"full\" height=\"300px\" space=\"preserve\" version=\"1.1\" width=\"300px\" xmlns=\"http://www.w3.org/2000/svg\">\n",
       " <polygon fill=\"#fff\" points=\"0 0 300 0 300 300 0 300\" stroke-width=\"0\"/>\n",
       " <g>\n",
       "  <text fill=\"rgb(255,0,0)\" font-family=\"helvetica\" font-size=\"7\" x=\"27.38\" y=\"117.34\">HO</text>\n",
       " </g>\n",
       " <g>\n",
       "  <text fill=\"rgb(255,0,0)\" font-family=\"helvetica\" font-size=\"7\" x=\"75.09\" y=\"106.54\">OH</text>\n",
       " </g>\n",
       " <g>\n",
       "  <text fill=\"rgb(255,0,0)\" font-family=\"helvetica\" font-size=\"7\" x=\"142.10\" y=\"148.20\">O</text>\n",
       " </g>\n",
       " <g>\n",
       "  <text fill=\"rgb(255,0,0)\" font-family=\"helvetica\" font-size=\"7\" x=\"108.99\" y=\"195.78\">O</text>\n",
       " </g>\n",
       " <g>\n",
       "  <text fill=\"rgb(255,0,0)\" font-family=\"helvetica\" font-size=\"7\" x=\"172.79\" y=\"171.27\">O</text>\n",
       " </g>\n",
       " <g>\n",
       "  <text fill=\"rgb(255,0,0)\" font-family=\"helvetica\" font-size=\"7\" x=\"183.08\" y=\"134.75\">O</text>\n",
       " </g>\n",
       " <g>\n",
       "  <text fill=\"rgb(255,0,0)\" font-family=\"helvetica\" font-size=\"7\" x=\"215.06\" y=\"183.15\">OH</text>\n",
       " </g>\n",
       " <g>\n",
       "  <text fill=\"rgb(255,0,0)\" font-family=\"helvetica\" font-size=\"7\" x=\"214.70\" y=\"125.40\">HO</text>\n",
       " </g>\n",
       " <g>\n",
       "  <text fill=\"rgb(255,0,0)\" font-family=\"helvetica\" font-size=\"7\" x=\"262.12\" y=\"137.27\">OH</text>\n",
       " </g>\n",
       " <line stroke=\"#000\" x1=\"53.96\" x2=\"59.9\" y1=\"186.69\" y2=\"165.6\"/>\n",
       " <line stroke=\"#000\" x1=\"59.9\" x2=\"44.6\" y1=\"165.6\" y2=\"149.92\"/>\n",
       " <line stroke=\"#000\" x1=\"44.6\" x2=\"50.54\" y1=\"149.92\" y2=\"128.83\"/>\n",
       " <line stroke=\"#000\" x1=\"50.54\" x2=\"45.05\" y1=\"128.83\" y2=\"123.19\"/>\n",
       " <line stroke=\"#f00\" x1=\"45.05\" x2=\"39.55\" y1=\"123.19\" y2=\"117.56\"/>\n",
       " <line stroke=\"#000\" x1=\"50.54\" x2=\"71.77\" y1=\"128.83\" y2=\"123.43\"/>\n",
       " <line stroke=\"#000\" x1=\"71.77\" x2=\"73.92\" y1=\"123.43\" y2=\"115.82\"/>\n",
       " <line stroke=\"#f00\" x1=\"73.92\" x2=\"76.06\" y1=\"115.82\" y2=\"108.22\"/>\n",
       " <line stroke=\"#000\" x1=\"71.77\" x2=\"87.07\" y1=\"123.43\" y2=\"139.11\"/>\n",
       " <line stroke=\"#000\" x1=\"87.07\" x2=\"108.3\" y1=\"139.11\" y2=\"133.71\"/>\n",
       " <line stroke=\"#000\" x1=\"90.25\" x2=\"107.23\" y1=\"142.74\" y2=\"138.42\"/>\n",
       " <line stroke=\"#000\" x1=\"108.3\" x2=\"123.59\" y1=\"133.71\" y2=\"149.4\"/>\n",
       " <line stroke=\"#000\" x1=\"124.12\" x2=\"132.54\" y1=\"151.48\" y2=\"149.34\"/>\n",
       " <line stroke=\"#f00\" x1=\"132.54\" x2=\"140.95\" y1=\"149.34\" y2=\"147.2\"/>\n",
       " <line stroke=\"#000\" x1=\"123.06\" x2=\"131.48\" y1=\"147.32\" y2=\"145.18\"/>\n",
       " <line stroke=\"#f00\" x1=\"131.48\" x2=\"139.89\" y1=\"145.18\" y2=\"143.04\"/>\n",
       " <line stroke=\"#000\" x1=\"123.59\" x2=\"117.65\" y1=\"149.4\" y2=\"170.49\"/>\n",
       " <line stroke=\"#000\" x1=\"117.65\" x2=\"115.51\" y1=\"170.49\" y2=\"178.09\"/>\n",
       " <line stroke=\"#f00\" x1=\"115.51\" x2=\"113.37\" y1=\"178.09\" y2=\"185.7\"/>\n",
       " <line stroke=\"#f00\" x1=\"107.31\" x2=\"101.87\" y1=\"187.06\" y2=\"181.47\"/>\n",
       " <line stroke=\"#000\" x1=\"101.87\" x2=\"96.42\" y1=\"181.47\" y2=\"175.89\"/>\n",
       " <line stroke=\"#000\" x1=\"96.42\" x2=\"81.13\" y1=\"175.89\" y2=\"160.2\"/>\n",
       " <line stroke=\"#000\" x1=\"81.13\" x2=\"75.19\" y1=\"160.2\" y2=\"181.29\"/>\n",
       " <line stroke=\"#000\" x1=\"117.65\" x2=\"138.74\" y1=\"170.49\" y2=\"176.43\"/>\n",
       " <line stroke=\"#000\" x1=\"136.66\" x2=\"142.06\" y1=\"176.96\" y2=\"198.19\"/>\n",
       " <line stroke=\"#000\" x1=\"140.82\" x2=\"146.22\" y1=\"175.9\" y2=\"197.13\"/>\n",
       " <line stroke=\"#000\" x1=\"138.74\" x2=\"154.43\" y1=\"176.43\" y2=\"161.14\"/>\n",
       " <line stroke=\"#000\" x1=\"154.43\" x2=\"162.77\" y1=\"161.14\" y2=\"163.48\"/>\n",
       " <line stroke=\"#f00\" x1=\"162.77\" x2=\"171.11\" y1=\"163.48\" y2=\"165.83\"/>\n",
       " <line stroke=\"#f00\" x1=\"179.92\" x2=\"185.56\" y1=\"162.78\" y2=\"157.28\"/>\n",
       " <line stroke=\"#000\" x1=\"185.56\" x2=\"191.2\" y1=\"157.28\" y2=\"151.78\"/>\n",
       " <line stroke=\"#000\" x1=\"193.28\" x2=\"191.33\" y1=\"151.25\" y2=\"143.58\"/>\n",
       " <line stroke=\"#f00\" x1=\"191.33\" x2=\"189.38\" y1=\"143.58\" y2=\"135.9\"/>\n",
       " <line stroke=\"#000\" x1=\"189.12\" x2=\"187.17\" y1=\"152.31\" y2=\"144.64\"/>\n",
       " <line stroke=\"#f00\" x1=\"187.17\" x2=\"185.21\" y1=\"144.64\" y2=\"136.96\"/>\n",
       " <line stroke=\"#000\" x1=\"191.2\" x2=\"212.29\" y1=\"151.78\" y2=\"157.72\"/>\n",
       " <line stroke=\"#000\" x1=\"212.29\" x2=\"214.24\" y1=\"157.72\" y2=\"165.4\"/>\n",
       " <line stroke=\"#f00\" x1=\"214.24\" x2=\"216.19\" y1=\"165.4\" y2=\"173.07\"/>\n",
       " <line stroke=\"#000\" x1=\"212.29\" x2=\"227.98\" y1=\"157.72\" y2=\"142.43\"/>\n",
       " <line stroke=\"#000\" x1=\"227.98\" x2=\"226.02\" y1=\"142.43\" y2=\"134.75\"/>\n",
       " <line stroke=\"#f00\" x1=\"226.02\" x2=\"224.07\" y1=\"134.75\" y2=\"127.08\"/>\n",
       " <line stroke=\"#000\" x1=\"227.98\" x2=\"249.06\" y1=\"142.43\" y2=\"148.37\"/>\n",
       " <line stroke=\"#000\" x1=\"249.06\" x2=\"254.75\" y1=\"148.37\" y2=\"142.82\"/>\n",
       " <line stroke=\"#f00\" x1=\"254.75\" x2=\"260.44\" y1=\"142.82\" y2=\"137.27\"/>\n",
       " <line stroke=\"#000\" x1=\"81.13\" x2=\"59.9\" y1=\"160.2\" y2=\"165.6\"/>\n",
       " <line stroke=\"#000\" x1=\"81.13\" x2=\"87.07\" y1=\"160.2\" y2=\"139.11\"/>\n",
       " <line stroke=\"#000\" x1=\"96.42\" x2=\"117.65\" y1=\"175.89\" y2=\"170.49\"/>\n",
       "</svg>"
      ],
      "text/plain": [
       "<IPython.core.display.SVG object>"
      ]
     },
     "metadata": {},
     "output_type": "display_data"
    },
    {
     "name": "stdout",
     "output_type": "stream",
     "text": [
      "--------------------------------------------------------------------------------\n",
      "SUGGESTED SIMILAR SPECTRA ------------------------------------------------------\n",
      "SMILES: CC1CC(O)C(O)\\C2=C\\C(=O)C3(OC3C12C)C(=C)COC(=O)C(O)C(O)CN\n",
      "INCHIKEY: HUOHZWBSCYBQDH-UHFFFAOYSA-N\n",
      "--> Spec2Vec similarity score: 0.6561463478562505\n",
      "--> Modified cosine score: 0.7051147902769654\n",
      "With ground truth --> actual molecular similarity: 0.9730483271375465\n",
      "--> MOLECULES:\n",
      "Scour processed file \"draw_mols_temp.svg\" in 66 ms: 4497/6620 bytes new/orig -> 67.9%\n"
     ]
    },
    {
     "data": {
      "image/svg+xml": [
       "<svg baseProfile=\"full\" height=\"300px\" space=\"preserve\" version=\"1.1\" width=\"300px\" xmlns=\"http://www.w3.org/2000/svg\">\n",
       " <polygon fill=\"#fff\" points=\"0 0 300 0 300 300 0 300\" stroke-width=\"0\"/>\n",
       " <g>\n",
       "  <text fill=\"rgb(255,0,0)\" font-family=\"helvetica\" font-size=\"7\" x=\"27.38\" y=\"117.34\">HO</text>\n",
       " </g>\n",
       " <g>\n",
       "  <text fill=\"rgb(255,0,0)\" font-family=\"helvetica\" font-size=\"7\" x=\"75.09\" y=\"106.54\">OH</text>\n",
       " </g>\n",
       " <g>\n",
       "  <text fill=\"rgb(255,0,0)\" font-family=\"helvetica\" font-size=\"7\" x=\"142.10\" y=\"148.20\">O</text>\n",
       " </g>\n",
       " <g>\n",
       "  <text fill=\"rgb(255,0,0)\" font-family=\"helvetica\" font-size=\"7\" x=\"108.99\" y=\"195.78\">O</text>\n",
       " </g>\n",
       " <g>\n",
       "  <text fill=\"rgb(255,0,0)\" font-family=\"helvetica\" font-size=\"7\" x=\"172.79\" y=\"171.27\">O</text>\n",
       " </g>\n",
       " <g>\n",
       "  <text fill=\"rgb(255,0,0)\" font-family=\"helvetica\" font-size=\"7\" x=\"183.08\" y=\"134.75\">O</text>\n",
       " </g>\n",
       " <g>\n",
       "  <text fill=\"rgb(255,0,0)\" font-family=\"helvetica\" font-size=\"7\" x=\"215.06\" y=\"183.15\">OH</text>\n",
       " </g>\n",
       " <g>\n",
       "  <text fill=\"rgb(255,0,0)\" font-family=\"helvetica\" font-size=\"7\" x=\"214.70\" y=\"125.40\">HO</text>\n",
       " </g>\n",
       " <g>\n",
       "  <text fill=\"rgb(0,0,255)\" font-family=\"helvetica\" font-size=\"7\" x=\"262.42\" y=\"137.27\">NH2</text>\n",
       " </g>\n",
       " <line stroke=\"#000\" x1=\"53.96\" x2=\"59.9\" y1=\"186.69\" y2=\"165.6\"/>\n",
       " <line stroke=\"#000\" x1=\"59.9\" x2=\"44.6\" y1=\"165.6\" y2=\"149.92\"/>\n",
       " <line stroke=\"#000\" x1=\"44.6\" x2=\"50.54\" y1=\"149.92\" y2=\"128.83\"/>\n",
       " <line stroke=\"#000\" x1=\"50.54\" x2=\"45.05\" y1=\"128.83\" y2=\"123.19\"/>\n",
       " <line stroke=\"#f00\" x1=\"45.05\" x2=\"39.55\" y1=\"123.19\" y2=\"117.56\"/>\n",
       " <line stroke=\"#000\" x1=\"50.54\" x2=\"71.77\" y1=\"128.83\" y2=\"123.43\"/>\n",
       " <line stroke=\"#000\" x1=\"71.77\" x2=\"73.92\" y1=\"123.43\" y2=\"115.82\"/>\n",
       " <line stroke=\"#f00\" x1=\"73.92\" x2=\"76.06\" y1=\"115.82\" y2=\"108.22\"/>\n",
       " <line stroke=\"#000\" x1=\"71.77\" x2=\"87.07\" y1=\"123.43\" y2=\"139.11\"/>\n",
       " <line stroke=\"#000\" x1=\"87.07\" x2=\"108.3\" y1=\"139.11\" y2=\"133.71\"/>\n",
       " <line stroke=\"#000\" x1=\"90.25\" x2=\"107.23\" y1=\"142.74\" y2=\"138.42\"/>\n",
       " <line stroke=\"#000\" x1=\"108.3\" x2=\"123.59\" y1=\"133.71\" y2=\"149.4\"/>\n",
       " <line stroke=\"#000\" x1=\"124.12\" x2=\"132.54\" y1=\"151.48\" y2=\"149.34\"/>\n",
       " <line stroke=\"#f00\" x1=\"132.54\" x2=\"140.95\" y1=\"149.34\" y2=\"147.2\"/>\n",
       " <line stroke=\"#000\" x1=\"123.06\" x2=\"131.48\" y1=\"147.32\" y2=\"145.18\"/>\n",
       " <line stroke=\"#f00\" x1=\"131.48\" x2=\"139.89\" y1=\"145.18\" y2=\"143.04\"/>\n",
       " <line stroke=\"#000\" x1=\"123.59\" x2=\"117.65\" y1=\"149.4\" y2=\"170.49\"/>\n",
       " <line stroke=\"#000\" x1=\"117.65\" x2=\"115.51\" y1=\"170.49\" y2=\"178.09\"/>\n",
       " <line stroke=\"#f00\" x1=\"115.51\" x2=\"113.37\" y1=\"178.09\" y2=\"185.7\"/>\n",
       " <line stroke=\"#f00\" x1=\"107.31\" x2=\"101.87\" y1=\"187.06\" y2=\"181.47\"/>\n",
       " <line stroke=\"#000\" x1=\"101.87\" x2=\"96.42\" y1=\"181.47\" y2=\"175.89\"/>\n",
       " <line stroke=\"#000\" x1=\"96.42\" x2=\"81.13\" y1=\"175.89\" y2=\"160.2\"/>\n",
       " <line stroke=\"#000\" x1=\"81.13\" x2=\"75.19\" y1=\"160.2\" y2=\"181.29\"/>\n",
       " <line stroke=\"#000\" x1=\"117.65\" x2=\"138.74\" y1=\"170.49\" y2=\"176.43\"/>\n",
       " <line stroke=\"#000\" x1=\"136.66\" x2=\"142.06\" y1=\"176.96\" y2=\"198.19\"/>\n",
       " <line stroke=\"#000\" x1=\"140.82\" x2=\"146.22\" y1=\"175.9\" y2=\"197.13\"/>\n",
       " <line stroke=\"#000\" x1=\"138.74\" x2=\"154.43\" y1=\"176.43\" y2=\"161.14\"/>\n",
       " <line stroke=\"#000\" x1=\"154.43\" x2=\"162.77\" y1=\"161.14\" y2=\"163.48\"/>\n",
       " <line stroke=\"#f00\" x1=\"162.77\" x2=\"171.11\" y1=\"163.48\" y2=\"165.83\"/>\n",
       " <line stroke=\"#f00\" x1=\"179.92\" x2=\"185.56\" y1=\"162.78\" y2=\"157.28\"/>\n",
       " <line stroke=\"#000\" x1=\"185.56\" x2=\"191.2\" y1=\"157.28\" y2=\"151.78\"/>\n",
       " <line stroke=\"#000\" x1=\"193.28\" x2=\"191.33\" y1=\"151.25\" y2=\"143.58\"/>\n",
       " <line stroke=\"#f00\" x1=\"191.33\" x2=\"189.38\" y1=\"143.58\" y2=\"135.9\"/>\n",
       " <line stroke=\"#000\" x1=\"189.12\" x2=\"187.17\" y1=\"152.31\" y2=\"144.64\"/>\n",
       " <line stroke=\"#f00\" x1=\"187.17\" x2=\"185.21\" y1=\"144.64\" y2=\"136.96\"/>\n",
       " <line stroke=\"#000\" x1=\"191.2\" x2=\"212.29\" y1=\"151.78\" y2=\"157.72\"/>\n",
       " <line stroke=\"#000\" x1=\"212.29\" x2=\"214.24\" y1=\"157.72\" y2=\"165.4\"/>\n",
       " <line stroke=\"#f00\" x1=\"214.24\" x2=\"216.19\" y1=\"165.4\" y2=\"173.07\"/>\n",
       " <line stroke=\"#000\" x1=\"212.29\" x2=\"227.98\" y1=\"157.72\" y2=\"142.43\"/>\n",
       " <line stroke=\"#000\" x1=\"227.98\" x2=\"226.02\" y1=\"142.43\" y2=\"134.75\"/>\n",
       " <line stroke=\"#f00\" x1=\"226.02\" x2=\"224.07\" y1=\"134.75\" y2=\"127.08\"/>\n",
       " <line stroke=\"#000\" x1=\"227.98\" x2=\"249.06\" y1=\"142.43\" y2=\"148.37\"/>\n",
       " <line stroke=\"#000\" x1=\"249.06\" x2=\"254.9\" y1=\"148.37\" y2=\"142.68\"/>\n",
       " <line stroke=\"#00f\" x1=\"254.9\" x2=\"260.74\" y1=\"142.68\" y2=\"136.99\"/>\n",
       " <line stroke=\"#000\" x1=\"81.13\" x2=\"59.9\" y1=\"160.2\" y2=\"165.6\"/>\n",
       " <line stroke=\"#000\" x1=\"81.13\" x2=\"87.07\" y1=\"160.2\" y2=\"139.11\"/>\n",
       " <line stroke=\"#000\" x1=\"96.42\" x2=\"117.65\" y1=\"175.89\" y2=\"170.49\"/>\n",
       "</svg>"
      ],
      "text/plain": [
       "<IPython.core.display.SVG object>"
      ]
     },
     "metadata": {},
     "output_type": "display_data"
    },
    {
     "name": "stdout",
     "output_type": "stream",
     "text": [
      "--------------------------------------------------------------------------------\n",
      "SUGGESTED SIMILAR SPECTRA ------------------------------------------------------\n",
      "SMILES: CC1CC(O)C(O)\\C2=C\\C(=O)C3(OC3C12C)C(=C)CO\n",
      "INCHIKEY: CMSNWOFIEFOALE-UHFFFAOYSA-N\n",
      "--> Spec2Vec similarity score: 0.6079081097794929\n",
      "--> Modified cosine score: 0.6310513352136342\n",
      "With ground truth --> actual molecular similarity: 0.9090909090909091\n",
      "--> MOLECULES:\n",
      "Scour processed file \"draw_mols_temp.svg\" in 44 ms: 3031/4497 bytes new/orig -> 67.4%\n"
     ]
    },
    {
     "data": {
      "image/svg+xml": [
       "<svg baseProfile=\"full\" height=\"300px\" space=\"preserve\" version=\"1.1\" width=\"300px\" xmlns=\"http://www.w3.org/2000/svg\">\n",
       " <polygon fill=\"#fff\" points=\"0 0 300 0 300 300 0 300\" stroke-width=\"0\"/>\n",
       " <g>\n",
       "  <text fill=\"rgb(255,0,0)\" font-family=\"helvetica\" font-size=\"10.5\" x=\"23.44\" y=\"127.99\">HO</text>\n",
       " </g>\n",
       " <g>\n",
       "  <text fill=\"rgb(255,0,0)\" font-family=\"helvetica\" font-size=\"10.5\" x=\"78.28\" y=\"89.63\">HO</text>\n",
       " </g>\n",
       " <g>\n",
       "  <text fill=\"rgb(255,0,0)\" font-family=\"helvetica\" font-size=\"10.5\" x=\"204.37\" y=\"112.92\">O</text>\n",
       " </g>\n",
       " <g>\n",
       "  <text fill=\"rgb(255,0,0)\" font-family=\"helvetica\" font-size=\"10.5\" x=\"182.75\" y=\"198.77\">O</text>\n",
       " </g>\n",
       " <g>\n",
       "  <text fill=\"rgb(255,0,0)\" font-family=\"helvetica\" font-size=\"10.5\" x=\"260.81\" y=\"129.32\">OH</text>\n",
       " </g>\n",
       " <line stroke=\"#000\" x1=\"101.68\" x2=\"98.78\" y1=\"216.66\" y2=\"183.33\"/>\n",
       " <line stroke=\"#000\" x1=\"98.78\" x2=\"68.46\" y1=\"183.33\" y2=\"169.18\"/>\n",
       " <line stroke=\"#000\" x1=\"68.46\" x2=\"65.57\" y1=\"169.18\" y2=\"135.84\"/>\n",
       " <line stroke=\"#000\" x1=\"65.57\" x2=\"53.64\" y1=\"135.84\" y2=\"130.27\"/>\n",
       " <line stroke=\"#f00\" x1=\"53.64\" x2=\"41.71\" y1=\"130.27\" y2=\"124.7\"/>\n",
       " <line stroke=\"#000\" x1=\"65.57\" x2=\"92.98\" y1=\"135.84\" y2=\"116.67\"/>\n",
       " <line stroke=\"#000\" x1=\"92.98\" x2=\"91.92\" y1=\"116.67\" y2=\"104.41\"/>\n",
       " <line stroke=\"#f00\" x1=\"91.92\" x2=\"90.85\" y1=\"104.41\" y2=\"92.15\"/>\n",
       " <line stroke=\"#000\" x1=\"92.98\" x2=\"123.3\" y1=\"116.67\" y2=\"130.82\"/>\n",
       " <line stroke=\"#000\" x1=\"123.3\" x2=\"150.72\" y1=\"130.82\" y2=\"111.65\"/>\n",
       " <line stroke=\"#000\" x1=\"129.8\" x2=\"151.73\" y1=\"134.28\" y2=\"118.94\"/>\n",
       " <line stroke=\"#000\" x1=\"150.72\" x2=\"181.03\" y1=\"111.65\" y2=\"125.8\"/>\n",
       " <line stroke=\"#000\" x1=\"182.91\" x2=\"193.32\" y1=\"128.49\" y2=\"121.21\"/>\n",
       " <line stroke=\"#f00\" x1=\"193.32\" x2=\"203.73\" y1=\"121.21\" y2=\"113.93\"/>\n",
       " <line stroke=\"#000\" x1=\"179.15\" x2=\"189.56\" y1=\"123.12\" y2=\"115.84\"/>\n",
       " <line stroke=\"#f00\" x1=\"189.56\" x2=\"199.97\" y1=\"115.84\" y2=\"108.56\"/>\n",
       " <line stroke=\"#000\" x1=\"181.03\" x2=\"183.93\" y1=\"125.8\" y2=\"159.14\"/>\n",
       " <line stroke=\"#000\" x1=\"183.93\" x2=\"185\" y1=\"159.14\" y2=\"171.39\"/>\n",
       " <line stroke=\"#f00\" x1=\"185\" x2=\"186.06\" y1=\"171.39\" y2=\"183.65\"/>\n",
       " <line stroke=\"#f00\" x1=\"180.23\" x2=\"168.37\" y1=\"189.38\" y2=\"183.85\"/>\n",
       " <line stroke=\"#000\" x1=\"168.37\" x2=\"156.51\" y1=\"183.85\" y2=\"178.31\"/>\n",
       " <line stroke=\"#000\" x1=\"156.51\" x2=\"126.2\" y1=\"178.31\" y2=\"164.16\"/>\n",
       " <line stroke=\"#000\" x1=\"126.2\" x2=\"129.1\" y1=\"164.16\" y2=\"197.49\"/>\n",
       " <line stroke=\"#000\" x1=\"183.93\" x2=\"217.26\" y1=\"159.14\" y2=\"156.24\"/>\n",
       " <line stroke=\"#000\" x1=\"214.57\" x2=\"233.75\" y1=\"158.12\" y2=\"185.53\"/>\n",
       " <line stroke=\"#000\" x1=\"219.95\" x2=\"239.13\" y1=\"154.36\" y2=\"181.77\"/>\n",
       " <line stroke=\"#000\" x1=\"217.26\" x2=\"231.42\" y1=\"156.24\" y2=\"125.92\"/>\n",
       " <line stroke=\"#000\" x1=\"231.42\" x2=\"244.86\" y1=\"125.92\" y2=\"124.75\"/>\n",
       " <line stroke=\"#f00\" x1=\"244.86\" x2=\"258.29\" y1=\"124.75\" y2=\"123.58\"/>\n",
       " <line stroke=\"#000\" x1=\"126.2\" x2=\"98.78\" y1=\"164.16\" y2=\"183.33\"/>\n",
       " <line stroke=\"#000\" x1=\"126.2\" x2=\"123.3\" y1=\"164.16\" y2=\"130.82\"/>\n",
       " <line stroke=\"#000\" x1=\"156.51\" x2=\"183.93\" y1=\"178.31\" y2=\"159.14\"/>\n",
       "</svg>"
      ],
      "text/plain": [
       "<IPython.core.display.SVG object>"
      ]
     },
     "metadata": {},
     "output_type": "display_data"
    }
   ],
   "source": [
    "ID = 500\n",
    "#positive 100, 140, 500, 800, 40, 90, 175/180, 225, 350\n",
    "#'negative' 20, 80, 160  (small molecules: 190)\n",
    "#somewhat revealing: 170, 200\n",
    "\n",
    "\"\"\"selected_matches = found_matches[ID][(found_matches[ID]['S2V_top_n']==1)\n",
    "                                  & (found_matches[ID]['S2V_similarity'] > 0.5)\n",
    "                                  & (found_matches[ID]['modcosine_score'] > 0.5)]\"\"\"\n",
    "\"\"\"selected_matches = found_matches[ID][((found_matches[ID]['mass_match_10ppm']==1)\n",
    "                                 & (found_matches[ID]['modcosine_score'] > 0.5))\n",
    "                                 | ((found_matches[ID]['S2V_top_n']==1)\n",
    "                                  & (found_matches[ID]['S2V_similarity'] > 0.6))]\"\"\"\n",
    "selected_matches = found_matches[ID][(found_matches[ID]['S2V_top_n']==1)\n",
    "                                  & (found_matches[ID]['S2V_similarity'] > 0.6)]\n",
    "\n",
    "match_IDs = selected_matches['spectra_ID'].values.tolist()\n",
    "match_S2V_scores = selected_matches['S2V_similarity'].values.tolist()\n",
    "match_modcos_scores = selected_matches['modcosine_score'].values.tolist()\n",
    "\n",
    "if len(match_IDs) > 0:\n",
    "    smiles = spectra_unknown[ID].smiles\n",
    "    \n",
    "    print(40 * '--')\n",
    "    print('QUERY SPECTRUM  ' + 32 * '--')\n",
    "    print(\"SMILES:\", smiles)\n",
    "    print(\"INCHIKEY:\", spectra_unknown[ID].inchikey)\n",
    "    print('--> MOLECULE:')\n",
    "    plot_molecule(smiles)\n",
    "    \n",
    "        \n",
    "    fingerprint_query, _ = MS_functions.get_mol_fingerprints([spectra_unknown[ID]], \n",
    "                                                                 method = \"daylight\", #morgan3\", \n",
    "                                                                 nBits = 2048,\n",
    "                                                                 print_progress = False)\n",
    "    fingerprint_matches, _ = MS_functions.get_mol_fingerprints([spectra_library[x] for x in match_IDs], \n",
    "                                                                 method = \"daylight\", #morgan3\",\n",
    "                                                                 nBits = 2048,\n",
    "                                                                 print_progress = False)\n",
    "    \n",
    "    # Calculate molecular similarities\n",
    "    Mtest = MS_sim_classic.mol_sim_matrix(fingerprint_query,\n",
    "                                           fingerprint_matches,\n",
    "                                           method = 'jaccard',\n",
    "                                           filename = None,\n",
    "                                           max_size = 1000,\n",
    "                                           print_progress = False)\n",
    "    \n",
    "    for i, matchID in enumerate(match_IDs):\n",
    "        library_ID = library_spectra_metadata.iloc[matchID][0]\n",
    "        smiles = spectra[library_ID].smiles\n",
    "\n",
    "        print(40 * '--')\n",
    "        print('SUGGESTED SIMILAR SPECTRA ' + 27 * '--')\n",
    "        print(\"SMILES:\", smiles)\n",
    "        print(\"INCHIKEY:\", spectra[library_ID].inchikey)\n",
    "        print(\"--> Spec2Vec similarity score:\", match_S2V_scores[i])\n",
    "        print(\"--> Modified cosine score:\", match_modcos_scores[i])\n",
    "        print(\"With ground truth --> actual molecular similarity:\", Mtest[0][i])\n",
    "        print('--> MOLECULES:')\n",
    "        plot_molecule(smiles)\n",
    "else:\n",
    "    print('No matches found with given search criteria!')"
   ]
  },
  {
   "cell_type": "code",
   "execution_count": null,
   "metadata": {},
   "outputs": [],
   "source": []
  },
  {
   "cell_type": "code",
   "execution_count": null,
   "metadata": {},
   "outputs": [],
   "source": []
  },
  {
   "cell_type": "code",
   "execution_count": 38,
   "metadata": {},
   "outputs": [],
   "source": [
    "filename = \"draw_mols_temp.svg\"\n",
    "\n",
    "mol = Chem.MolFromSmiles(\"[H][C@]1(CC(/C=C/C)=CN21)C(O)NC3=C(O)C(C)=C(O[C@@H]4O[C@@H](C)[C@H](NC)[C@@](C)(O)[C@H]4O)C=C3C2=O\")\n",
    "\n",
    "#Draw.MolToMPL(mol, size=(100, 100), kekulize=True, wedgeBonds=True, imageType=None, fitImage=True)\n",
    "Draw.MolToFile(mol, filename)\n",
    "!scour -i draw_mols_temp.svg -o draw_mols_temp_corr.svg\n",
    "\n",
    "SVG(filename='draw_mols_temp_corr.svg')"
   ]
  },
  {
   "cell_type": "code",
   "execution_count": 29,
   "metadata": {},
   "outputs": [
    {
     "data": {
      "image/svg+xml": [
       "<?xml version=\"1.0\" encoding=\"iso-8859-1\"?>\r\n",
       "<svg:svg version=\"1.1\" baseProfile=\"full\"\r\n",
       "        xmlns:svg=\"http://www.w3.org/2000/svg\"\r\n",
       "        xmlns:xlink=\"http://www.w3.org/1999/xlink\"\r\n",
       "        xml:space=\"preserve\" width=\"300px\" height=\"300px\" >\r\n",
       "<svg:polygon fill=\"rgb(255,255,255)\" stroke=\"none\" stroke-width=\"0\" points=\"0.00,0.00 300.00,0.00 300.00,300.00 0.00,300.00 0.00,0.00\"></svg:polygon>\r\n",
       "<svg:g>  <svg:text font-family=\"helvetica\"   font-size=\"7.00\" fill=\"rgb(0,0,255)\" x=\"111.19\" y=\"140.68\">N</svg:text>\r\n",
       "</svg:g><svg:g>  <svg:text font-family=\"helvetica\"   font-size=\"7.00\" fill=\"rgb(255,0,0)\" x=\"67.89\" y=\"185.56\">HO</svg:text>\r\n",
       "</svg:g><svg:g>  <svg:text font-family=\"helvetica\"   font-size=\"7.00\" fill=\"rgb(0,0,255)\" x=\"110.38\" y=\"190.36\">NH</svg:text>\r\n",
       "</svg:g><svg:g>  <svg:text font-family=\"helvetica\"   font-size=\"7.00\" fill=\"rgb(255,0,0)\" x=\"128.91\" y=\"224.02\">HO</svg:text>\r\n",
       "</svg:g><svg:g>  <svg:text font-family=\"helvetica\"   font-size=\"7.00\" fill=\"rgb(255,0,0)\" x=\"198.04\" y=\"181.91\">O</svg:text>\r\n",
       "</svg:g><svg:g>  <svg:text font-family=\"helvetica\"   font-size=\"7.00\" fill=\"rgb(255,0,0)\" x=\"230.04\" y=\"160.85\">O</svg:text>\r\n",
       "</svg:g><svg:g>  <svg:text font-family=\"helvetica\"   font-size=\"7.00\" fill=\"rgb(0,0,255)\" x=\"237.91\" y=\"102.85\">NH</svg:text>\r\n",
       "</svg:g><svg:g>  <svg:text font-family=\"helvetica\"   font-size=\"7.00\" fill=\"rgb(255,0,0)\" x=\"208.38\" y=\"101.94\">OH</svg:text>\r\n",
       "</svg:g><svg:g>  <svg:text font-family=\"helvetica\"   font-size=\"7.00\" fill=\"rgb(255,0,0)\" x=\"168.57\" y=\"144.96\">HO</svg:text>\r\n",
       "</svg:g><svg:g>  <svg:text font-family=\"helvetica\"   font-size=\"7.00\" fill=\"rgb(255,0,0)\" x=\"146.53\" y=\"128.89\">O</svg:text>\r\n",
       "</svg:g><svg:line x1=\"96.20\" y1=\"149.98\" x2=\"96.20\" y2=\"149.98\" stroke=\"rgb(0,0,0)\" stroke-width=\"1\"></svg:line>\r\n",
       "<svg:line x1=\"93.26\" y1=\"147.27\" x2=\"92.61\" y2=\"148.23\" stroke=\"rgb(0,0,0)\" stroke-width=\"1\"></svg:line>\r\n",
       "<svg:line x1=\"90.33\" y1=\"144.55\" x2=\"89.01\" y2=\"146.48\" stroke=\"rgb(0,0,0)\" stroke-width=\"1\"></svg:line>\r\n",
       "<svg:line x1=\"87.39\" y1=\"141.84\" x2=\"85.42\" y2=\"144.72\" stroke=\"rgb(0,0,0)\" stroke-width=\"1\"></svg:line>\r\n",
       "<svg:line x1=\"84.45\" y1=\"139.13\" x2=\"81.82\" y2=\"142.97\" stroke=\"rgb(0,0,0)\" stroke-width=\"1\"></svg:line>\r\n",
       "<svg:line x1=\"81.51\" y1=\"136.41\" x2=\"78.23\" y2=\"141.22\" stroke=\"rgb(0,0,0)\" stroke-width=\"1\"></svg:line>\r\n",
       "<svg:line x1=\"79.78\" y1=\"134.82\" x2=\"76.11\" y2=\"140.19\" stroke=\"rgb(0,0,0)\" stroke-width=\"1\"></svg:line>\r\n",
       "<svg:line x1=\"77.95\" y1=\"137.50\" x2=\"84.18\" y2=\"116.28\" stroke=\"rgb(0,0,0)\" stroke-width=\"1\"></svg:line>\r\n",
       "<svg:line x1=\"84.18\" y1=\"116.28\" x2=\"70.67\" y2=\"98.77\" stroke=\"rgb(0,0,0)\" stroke-width=\"1\"></svg:line>\r\n",
       "<svg:line x1=\"70.67\" y1=\"98.77\" x2=\"48.75\" y2=\"101.71\" stroke=\"rgb(0,0,0)\" stroke-width=\"1\"></svg:line>\r\n",
       "<svg:line x1=\"67.90\" y1=\"94.77\" x2=\"50.37\" y2=\"97.12\" stroke=\"rgb(0,0,0)\" stroke-width=\"1\"></svg:line>\r\n",
       "<svg:line x1=\"48.75\" y1=\"101.71\" x2=\"35.25\" y2=\"84.20\" stroke=\"rgb(0,0,0)\" stroke-width=\"1\"></svg:line>\r\n",
       "<svg:line x1=\"84.18\" y1=\"116.28\" x2=\"106.28\" y2=\"115.65\" stroke=\"rgb(0,0,0)\" stroke-width=\"1\"></svg:line>\r\n",
       "<svg:line x1=\"86.51\" y1=\"120.56\" x2=\"104.19\" y2=\"120.05\" stroke=\"rgb(0,0,0)\" stroke-width=\"1\"></svg:line>\r\n",
       "<svg:line x1=\"106.28\" y1=\"115.65\" x2=\"108.95\" y2=\"123.12\" stroke=\"rgb(0,0,0)\" stroke-width=\"1\"></svg:line>\r\n",
       "<svg:line x1=\"108.95\" y1=\"123.12\" x2=\"111.61\" y2=\"130.60\" stroke=\"rgb(0,0,255)\" stroke-width=\"1\"></svg:line>\r\n",
       "<svg:line x1=\"96.20\" y1=\"149.98\" x2=\"95.84\" y2=\"172.09\" stroke=\"rgb(0,0,0)\" stroke-width=\"1\"></svg:line>\r\n",
       "<svg:line x1=\"95.84\" y1=\"172.09\" x2=\"87.96\" y2=\"175.73\" stroke=\"rgb(0,0,0)\" stroke-width=\"1\"></svg:line>\r\n",
       "<svg:line x1=\"87.96\" y1=\"175.73\" x2=\"80.07\" y2=\"179.37\" stroke=\"rgb(255,0,0)\" stroke-width=\"1\"></svg:line>\r\n",
       "<svg:line x1=\"95.84\" y1=\"172.09\" x2=\"102.27\" y2=\"177.39\" stroke=\"rgb(0,0,0)\" stroke-width=\"1\"></svg:line>\r\n",
       "<svg:line x1=\"102.27\" y1=\"177.39\" x2=\"108.70\" y2=\"182.69\" stroke=\"rgb(0,0,255)\" stroke-width=\"1\"></svg:line>\r\n",
       "<svg:line x1=\"122.17\" y1=\"184.20\" x2=\"128.35\" y2=\"182.90\" stroke=\"rgb(0,0,255)\" stroke-width=\"1\"></svg:line>\r\n",
       "<svg:line x1=\"128.35\" y1=\"182.90\" x2=\"134.54\" y2=\"181.59\" stroke=\"rgb(0,0,0)\" stroke-width=\"1\"></svg:line>\r\n",
       "<svg:line x1=\"134.54\" y1=\"181.59\" x2=\"146.70\" y2=\"200.06\" stroke=\"rgb(0,0,0)\" stroke-width=\"1\"></svg:line>\r\n",
       "<svg:line x1=\"139.38\" y1=\"181.05\" x2=\"149.11\" y2=\"195.83\" stroke=\"rgb(0,0,0)\" stroke-width=\"1\"></svg:line>\r\n",
       "<svg:line x1=\"146.70\" y1=\"200.06\" x2=\"143.22\" y2=\"207.00\" stroke=\"rgb(0,0,0)\" stroke-width=\"1\"></svg:line>\r\n",
       "<svg:line x1=\"143.22\" y1=\"207.00\" x2=\"139.73\" y2=\"213.94\" stroke=\"rgb(255,0,0)\" stroke-width=\"1\"></svg:line>\r\n",
       "<svg:line x1=\"146.70\" y1=\"200.06\" x2=\"168.77\" y2=\"198.76\" stroke=\"rgb(0,0,0)\" stroke-width=\"1\"></svg:line>\r\n",
       "<svg:line x1=\"168.77\" y1=\"198.76\" x2=\"180.93\" y2=\"217.23\" stroke=\"rgb(0,0,0)\" stroke-width=\"1\"></svg:line>\r\n",
       "<svg:line x1=\"168.77\" y1=\"198.76\" x2=\"178.69\" y2=\"179.00\" stroke=\"rgb(0,0,0)\" stroke-width=\"1\"></svg:line>\r\n",
       "<svg:line x1=\"165.89\" y1=\"194.84\" x2=\"173.82\" y2=\"179.03\" stroke=\"rgb(0,0,0)\" stroke-width=\"1\"></svg:line>\r\n",
       "<svg:line x1=\"178.69\" y1=\"179.00\" x2=\"187.53\" y2=\"178.48\" stroke=\"rgb(0,0,0)\" stroke-width=\"1\"></svg:line>\r\n",
       "<svg:line x1=\"187.53\" y1=\"178.48\" x2=\"196.36\" y2=\"177.96\" stroke=\"rgb(255,0,0)\" stroke-width=\"1\"></svg:line>\r\n",
       "<svg:polygon fill=\"rgb(0,0,0)\" stroke=\"none\" stroke-width=\"0\" points=\"210.68,157.94 200.81,170.37 206.62,173.28 210.68,157.94\"></svg:polygon>\r\n",
       "<svg:line x1=\"210.68\" y1=\"157.94\" x2=\"219.52\" y2=\"157.42\" stroke=\"rgb(0,0,0)\" stroke-width=\"1\"></svg:line>\r\n",
       "<svg:line x1=\"219.52\" y1=\"157.42\" x2=\"228.36\" y2=\"156.90\" stroke=\"rgb(255,0,0)\" stroke-width=\"1\"></svg:line>\r\n",
       "<svg:line x1=\"235.71\" y1=\"150.77\" x2=\"239.19\" y2=\"143.82\" stroke=\"rgb(255,0,0)\" stroke-width=\"1\"></svg:line>\r\n",
       "<svg:line x1=\"239.19\" y1=\"143.82\" x2=\"242.67\" y2=\"136.88\" stroke=\"rgb(0,0,0)\" stroke-width=\"1\"></svg:line>\r\n",
       "<svg:line x1=\"242.67\" y1=\"136.88\" x2=\"242.67\" y2=\"136.88\" stroke=\"rgb(0,0,0)\" stroke-width=\"1\"></svg:line>\r\n",
       "<svg:line x1=\"246.66\" y1=\"137.23\" x2=\"246.59\" y2=\"136.07\" stroke=\"rgb(0,0,0)\" stroke-width=\"1\"></svg:line>\r\n",
       "<svg:line x1=\"250.64\" y1=\"137.58\" x2=\"250.51\" y2=\"135.26\" stroke=\"rgb(0,0,0)\" stroke-width=\"1\"></svg:line>\r\n",
       "<svg:line x1=\"254.63\" y1=\"137.93\" x2=\"254.42\" y2=\"134.44\" stroke=\"rgb(0,0,0)\" stroke-width=\"1\"></svg:line>\r\n",
       "<svg:line x1=\"258.61\" y1=\"138.28\" x2=\"258.34\" y2=\"133.63\" stroke=\"rgb(0,0,0)\" stroke-width=\"1\"></svg:line>\r\n",
       "<svg:line x1=\"262.60\" y1=\"138.63\" x2=\"262.26\" y2=\"132.82\" stroke=\"rgb(0,0,0)\" stroke-width=\"1\"></svg:line>\r\n",
       "<svg:line x1=\"264.94\" y1=\"138.83\" x2=\"264.56\" y2=\"132.34\" stroke=\"rgb(0,0,0)\" stroke-width=\"1\"></svg:line>\r\n",
       "<svg:line x1=\"242.67\" y1=\"136.88\" x2=\"230.52\" y2=\"118.41\" stroke=\"rgb(0,0,0)\" stroke-width=\"1\"></svg:line>\r\n",
       "<svg:polygon fill=\"rgb(0,0,0)\" stroke=\"none\" stroke-width=\"0\" points=\"230.52,118.41 240.39,105.99 234.58,103.07 230.52,118.41\"></svg:polygon>\r\n",
       "<svg:line x1=\"236.56\" y1=\"92.77\" x2=\"232.42\" y2=\"86.47\" stroke=\"rgb(0,0,255)\" stroke-width=\"1\"></svg:line>\r\n",
       "<svg:line x1=\"232.42\" y1=\"86.47\" x2=\"228.27\" y2=\"80.18\" stroke=\"rgb(0,0,0)\" stroke-width=\"1\"></svg:line>\r\n",
       "<svg:line x1=\"230.52\" y1=\"118.41\" x2=\"208.44\" y2=\"119.71\" stroke=\"rgb(0,0,0)\" stroke-width=\"1\"></svg:line>\r\n",
       "<svg:polygon fill=\"rgb(0,0,0)\" stroke=\"none\" stroke-width=\"0\" points=\"208.44,119.71 188.19,110.26 186.32,116.49 208.44,119.71\"></svg:polygon>\r\n",
       "<svg:line x1=\"208.44\" y1=\"119.71\" x2=\"209.38\" y2=\"111.66\" stroke=\"rgb(0,0,0)\" stroke-width=\"1\"></svg:line>\r\n",
       "<svg:line x1=\"209.38\" y1=\"111.66\" x2=\"210.32\" y2=\"103.62\" stroke=\"rgb(255,0,0)\" stroke-width=\"1\"></svg:line>\r\n",
       "<svg:line x1=\"208.44\" y1=\"119.71\" x2=\"198.52\" y2=\"139.47\" stroke=\"rgb(0,0,0)\" stroke-width=\"1\"></svg:line>\r\n",
       "<svg:line x1=\"198.52\" y1=\"139.47\" x2=\"198.52\" y2=\"139.47\" stroke=\"rgb(0,0,0)\" stroke-width=\"1\"></svg:line>\r\n",
       "<svg:line x1=\"194.55\" y1=\"138.98\" x2=\"194.64\" y2=\"140.42\" stroke=\"rgb(0,0,0)\" stroke-width=\"1\"></svg:line>\r\n",
       "<svg:line x1=\"190.58\" y1=\"138.50\" x2=\"190.75\" y2=\"141.37\" stroke=\"rgb(0,0,0)\" stroke-width=\"1\"></svg:line>\r\n",
       "<svg:line x1=\"186.61\" y1=\"138.01\" x2=\"186.87\" y2=\"142.31\" stroke=\"rgb(0,0,0)\" stroke-width=\"1\"></svg:line>\r\n",
       "<svg:line x1=\"182.64\" y1=\"137.52\" x2=\"182.98\" y2=\"143.26\" stroke=\"rgb(0,0,0)\" stroke-width=\"1\"></svg:line>\r\n",
       "<svg:line x1=\"180.56\" y1=\"137.27\" x2=\"180.95\" y2=\"143.76\" stroke=\"rgb(0,0,0)\" stroke-width=\"1\"></svg:line>\r\n",
       "<svg:line x1=\"178.69\" y1=\"179.00\" x2=\"166.53\" y2=\"160.53\" stroke=\"rgb(0,0,0)\" stroke-width=\"1\"></svg:line>\r\n",
       "<svg:line x1=\"166.53\" y1=\"160.53\" x2=\"144.46\" y2=\"161.82\" stroke=\"rgb(0,0,0)\" stroke-width=\"1\"></svg:line>\r\n",
       "<svg:line x1=\"164.58\" y1=\"164.99\" x2=\"146.92\" y2=\"166.02\" stroke=\"rgb(0,0,0)\" stroke-width=\"1\"></svg:line>\r\n",
       "<svg:line x1=\"144.46\" y1=\"161.82\" x2=\"135.19\" y2=\"141.75\" stroke=\"rgb(0,0,0)\" stroke-width=\"1\"></svg:line>\r\n",
       "<svg:line x1=\"136.86\" y1=\"143.13\" x2=\"141.69\" y2=\"137.27\" stroke=\"rgb(0,0,0)\" stroke-width=\"1\"></svg:line>\r\n",
       "<svg:line x1=\"141.69\" y1=\"137.27\" x2=\"146.52\" y2=\"131.41\" stroke=\"rgb(255,0,0)\" stroke-width=\"1\"></svg:line>\r\n",
       "<svg:line x1=\"133.52\" y1=\"140.37\" x2=\"138.35\" y2=\"134.51\" stroke=\"rgb(0,0,0)\" stroke-width=\"1\"></svg:line>\r\n",
       "<svg:line x1=\"138.35\" y1=\"134.51\" x2=\"143.18\" y2=\"128.65\" stroke=\"rgb(255,0,0)\" stroke-width=\"1\"></svg:line>\r\n",
       "<svg:line x1=\"109.51\" y1=\"139.72\" x2=\"102.85\" y2=\"144.85\" stroke=\"rgb(0,0,255)\" stroke-width=\"1\"></svg:line>\r\n",
       "<svg:line x1=\"102.85\" y1=\"144.85\" x2=\"96.20\" y2=\"149.98\" stroke=\"rgb(0,0,0)\" stroke-width=\"1\"></svg:line>\r\n",
       "<svg:line x1=\"135.19\" y1=\"141.75\" x2=\"126.55\" y2=\"139.63\" stroke=\"rgb(0,0,0)\" stroke-width=\"1\"></svg:line>\r\n",
       "<svg:line x1=\"126.55\" y1=\"139.63\" x2=\"117.92\" y2=\"137.51\" stroke=\"rgb(0,0,255)\" stroke-width=\"1\"></svg:line>\r\n",
       "<svg:line x1=\"144.46\" y1=\"161.82\" x2=\"134.54\" y2=\"181.59\" stroke=\"rgb(0,0,0)\" stroke-width=\"1\"></svg:line>\r\n",
       "<svg:line x1=\"198.52\" y1=\"139.47\" x2=\"210.68\" y2=\"157.94\" stroke=\"rgb(0,0,0)\" stroke-width=\"1\"></svg:line>\r\n",
       "</svg:svg>"
      ],
      "text/plain": [
       "<IPython.core.display.SVG object>"
      ]
     },
     "execution_count": 29,
     "metadata": {},
     "output_type": "execute_result"
    }
   ],
   "source": [
    "from IPython.core.display import SVG\n",
    "SVG(filename=PATH_OUTPUT + \"draw_mols.svg\")"
   ]
  },
  {
   "cell_type": "code",
   "execution_count": 19,
   "metadata": {
    "scrolled": true
   },
   "outputs": [
    {
     "data": {
      "image/svg+xml": [
       "<?xml version=\"1.0\" encoding=\"iso-8859-1\"?>\r\n",
       "<svg:svg version=\"1.1\" baseProfile=\"full\"\r\n",
       "        xmlns:svg=\"http://www.w3.org/2000/svg\"\r\n",
       "        xmlns:xlink=\"http://www.w3.org/1999/xlink\"\r\n",
       "        xml:space=\"preserve\" width=\"300px\" height=\"300px\" >\r\n",
       "<svg:polygon fill=\"rgb(255,255,255)\" stroke=\"none\" stroke-width=\"0\" points=\"0.00,0.00 300.00,0.00 300.00,300.00 0.00,300.00 0.00,0.00\"></svg:polygon>\r\n",
       "<svg:g>  <svg:text font-family=\"helvetica\"   font-size=\"7.00\" fill=\"rgb(0,0,255)\" x=\"111.19\" y=\"140.68\">N</svg:text>\r\n",
       "</svg:g><svg:g>  <svg:text font-family=\"helvetica\"   font-size=\"7.00\" fill=\"rgb(255,0,0)\" x=\"67.89\" y=\"185.56\">HO</svg:text>\r\n",
       "</svg:g><svg:g>  <svg:text font-family=\"helvetica\"   font-size=\"7.00\" fill=\"rgb(0,0,255)\" x=\"110.38\" y=\"190.36\">NH</svg:text>\r\n",
       "</svg:g><svg:g>  <svg:text font-family=\"helvetica\"   font-size=\"7.00\" fill=\"rgb(255,0,0)\" x=\"128.91\" y=\"224.02\">HO</svg:text>\r\n",
       "</svg:g><svg:g>  <svg:text font-family=\"helvetica\"   font-size=\"7.00\" fill=\"rgb(255,0,0)\" x=\"198.04\" y=\"181.91\">O</svg:text>\r\n",
       "</svg:g><svg:g>  <svg:text font-family=\"helvetica\"   font-size=\"7.00\" fill=\"rgb(255,0,0)\" x=\"230.04\" y=\"160.85\">O</svg:text>\r\n",
       "</svg:g><svg:g>  <svg:text font-family=\"helvetica\"   font-size=\"7.00\" fill=\"rgb(0,0,255)\" x=\"237.91\" y=\"102.85\">NH</svg:text>\r\n",
       "</svg:g><svg:g>  <svg:text font-family=\"helvetica\"   font-size=\"7.00\" fill=\"rgb(255,0,0)\" x=\"208.38\" y=\"101.94\">OH</svg:text>\r\n",
       "</svg:g><svg:g>  <svg:text font-family=\"helvetica\"   font-size=\"7.00\" fill=\"rgb(255,0,0)\" x=\"168.57\" y=\"144.96\">HO</svg:text>\r\n",
       "</svg:g><svg:g>  <svg:text font-family=\"helvetica\"   font-size=\"7.00\" fill=\"rgb(255,0,0)\" x=\"146.53\" y=\"128.89\">O</svg:text>\r\n",
       "</svg:g><svg:line x1=\"96.20\" y1=\"149.98\" x2=\"96.20\" y2=\"149.98\" stroke=\"rgb(0,0,0)\" stroke-width=\"1\"></svg:line>\r\n",
       "<svg:line x1=\"93.26\" y1=\"147.27\" x2=\"92.61\" y2=\"148.23\" stroke=\"rgb(0,0,0)\" stroke-width=\"1\"></svg:line>\r\n",
       "<svg:line x1=\"90.33\" y1=\"144.55\" x2=\"89.01\" y2=\"146.48\" stroke=\"rgb(0,0,0)\" stroke-width=\"1\"></svg:line>\r\n",
       "<svg:line x1=\"87.39\" y1=\"141.84\" x2=\"85.42\" y2=\"144.72\" stroke=\"rgb(0,0,0)\" stroke-width=\"1\"></svg:line>\r\n",
       "<svg:line x1=\"84.45\" y1=\"139.13\" x2=\"81.82\" y2=\"142.97\" stroke=\"rgb(0,0,0)\" stroke-width=\"1\"></svg:line>\r\n",
       "<svg:line x1=\"81.51\" y1=\"136.41\" x2=\"78.23\" y2=\"141.22\" stroke=\"rgb(0,0,0)\" stroke-width=\"1\"></svg:line>\r\n",
       "<svg:line x1=\"79.78\" y1=\"134.82\" x2=\"76.11\" y2=\"140.19\" stroke=\"rgb(0,0,0)\" stroke-width=\"1\"></svg:line>\r\n",
       "<svg:line x1=\"77.95\" y1=\"137.50\" x2=\"84.18\" y2=\"116.28\" stroke=\"rgb(0,0,0)\" stroke-width=\"1\"></svg:line>\r\n",
       "<svg:line x1=\"84.18\" y1=\"116.28\" x2=\"70.67\" y2=\"98.77\" stroke=\"rgb(0,0,0)\" stroke-width=\"1\"></svg:line>\r\n",
       "<svg:line x1=\"70.67\" y1=\"98.77\" x2=\"48.75\" y2=\"101.71\" stroke=\"rgb(0,0,0)\" stroke-width=\"1\"></svg:line>\r\n",
       "<svg:line x1=\"67.90\" y1=\"94.77\" x2=\"50.37\" y2=\"97.12\" stroke=\"rgb(0,0,0)\" stroke-width=\"1\"></svg:line>\r\n",
       "<svg:line x1=\"48.75\" y1=\"101.71\" x2=\"35.25\" y2=\"84.20\" stroke=\"rgb(0,0,0)\" stroke-width=\"1\"></svg:line>\r\n",
       "<svg:line x1=\"84.18\" y1=\"116.28\" x2=\"106.28\" y2=\"115.65\" stroke=\"rgb(0,0,0)\" stroke-width=\"1\"></svg:line>\r\n",
       "<svg:line x1=\"86.51\" y1=\"120.56\" x2=\"104.19\" y2=\"120.05\" stroke=\"rgb(0,0,0)\" stroke-width=\"1\"></svg:line>\r\n",
       "<svg:line x1=\"106.28\" y1=\"115.65\" x2=\"108.95\" y2=\"123.12\" stroke=\"rgb(0,0,0)\" stroke-width=\"1\"></svg:line>\r\n",
       "<svg:line x1=\"108.95\" y1=\"123.12\" x2=\"111.61\" y2=\"130.60\" stroke=\"rgb(0,0,255)\" stroke-width=\"1\"></svg:line>\r\n",
       "<svg:line x1=\"96.20\" y1=\"149.98\" x2=\"95.84\" y2=\"172.09\" stroke=\"rgb(0,0,0)\" stroke-width=\"1\"></svg:line>\r\n",
       "<svg:line x1=\"95.84\" y1=\"172.09\" x2=\"87.96\" y2=\"175.73\" stroke=\"rgb(0,0,0)\" stroke-width=\"1\"></svg:line>\r\n",
       "<svg:line x1=\"87.96\" y1=\"175.73\" x2=\"80.07\" y2=\"179.37\" stroke=\"rgb(255,0,0)\" stroke-width=\"1\"></svg:line>\r\n",
       "<svg:line x1=\"95.84\" y1=\"172.09\" x2=\"102.27\" y2=\"177.39\" stroke=\"rgb(0,0,0)\" stroke-width=\"1\"></svg:line>\r\n",
       "<svg:line x1=\"102.27\" y1=\"177.39\" x2=\"108.70\" y2=\"182.69\" stroke=\"rgb(0,0,255)\" stroke-width=\"1\"></svg:line>\r\n",
       "<svg:line x1=\"122.17\" y1=\"184.20\" x2=\"128.35\" y2=\"182.90\" stroke=\"rgb(0,0,255)\" stroke-width=\"1\"></svg:line>\r\n",
       "<svg:line x1=\"128.35\" y1=\"182.90\" x2=\"134.54\" y2=\"181.59\" stroke=\"rgb(0,0,0)\" stroke-width=\"1\"></svg:line>\r\n",
       "<svg:line x1=\"134.54\" y1=\"181.59\" x2=\"146.70\" y2=\"200.06\" stroke=\"rgb(0,0,0)\" stroke-width=\"1\"></svg:line>\r\n",
       "<svg:line x1=\"139.38\" y1=\"181.05\" x2=\"149.11\" y2=\"195.83\" stroke=\"rgb(0,0,0)\" stroke-width=\"1\"></svg:line>\r\n",
       "<svg:line x1=\"146.70\" y1=\"200.06\" x2=\"143.22\" y2=\"207.00\" stroke=\"rgb(0,0,0)\" stroke-width=\"1\"></svg:line>\r\n",
       "<svg:line x1=\"143.22\" y1=\"207.00\" x2=\"139.73\" y2=\"213.94\" stroke=\"rgb(255,0,0)\" stroke-width=\"1\"></svg:line>\r\n",
       "<svg:line x1=\"146.70\" y1=\"200.06\" x2=\"168.77\" y2=\"198.76\" stroke=\"rgb(0,0,0)\" stroke-width=\"1\"></svg:line>\r\n",
       "<svg:line x1=\"168.77\" y1=\"198.76\" x2=\"180.93\" y2=\"217.23\" stroke=\"rgb(0,0,0)\" stroke-width=\"1\"></svg:line>\r\n",
       "<svg:line x1=\"168.77\" y1=\"198.76\" x2=\"178.69\" y2=\"179.00\" stroke=\"rgb(0,0,0)\" stroke-width=\"1\"></svg:line>\r\n",
       "<svg:line x1=\"165.89\" y1=\"194.84\" x2=\"173.82\" y2=\"179.03\" stroke=\"rgb(0,0,0)\" stroke-width=\"1\"></svg:line>\r\n",
       "<svg:line x1=\"178.69\" y1=\"179.00\" x2=\"187.53\" y2=\"178.48\" stroke=\"rgb(0,0,0)\" stroke-width=\"1\"></svg:line>\r\n",
       "<svg:line x1=\"187.53\" y1=\"178.48\" x2=\"196.36\" y2=\"177.96\" stroke=\"rgb(255,0,0)\" stroke-width=\"1\"></svg:line>\r\n",
       "<svg:polygon fill=\"rgb(0,0,0)\" stroke=\"none\" stroke-width=\"0\" points=\"210.68,157.94 200.81,170.37 206.62,173.28 210.68,157.94\"></svg:polygon>\r\n",
       "<svg:line x1=\"210.68\" y1=\"157.94\" x2=\"219.52\" y2=\"157.42\" stroke=\"rgb(0,0,0)\" stroke-width=\"1\"></svg:line>\r\n",
       "<svg:line x1=\"219.52\" y1=\"157.42\" x2=\"228.36\" y2=\"156.90\" stroke=\"rgb(255,0,0)\" stroke-width=\"1\"></svg:line>\r\n",
       "<svg:line x1=\"235.71\" y1=\"150.77\" x2=\"239.19\" y2=\"143.82\" stroke=\"rgb(255,0,0)\" stroke-width=\"1\"></svg:line>\r\n",
       "<svg:line x1=\"239.19\" y1=\"143.82\" x2=\"242.67\" y2=\"136.88\" stroke=\"rgb(0,0,0)\" stroke-width=\"1\"></svg:line>\r\n",
       "<svg:line x1=\"242.67\" y1=\"136.88\" x2=\"242.67\" y2=\"136.88\" stroke=\"rgb(0,0,0)\" stroke-width=\"1\"></svg:line>\r\n",
       "<svg:line x1=\"246.66\" y1=\"137.23\" x2=\"246.59\" y2=\"136.07\" stroke=\"rgb(0,0,0)\" stroke-width=\"1\"></svg:line>\r\n",
       "<svg:line x1=\"250.64\" y1=\"137.58\" x2=\"250.51\" y2=\"135.26\" stroke=\"rgb(0,0,0)\" stroke-width=\"1\"></svg:line>\r\n",
       "<svg:line x1=\"254.63\" y1=\"137.93\" x2=\"254.42\" y2=\"134.44\" stroke=\"rgb(0,0,0)\" stroke-width=\"1\"></svg:line>\r\n",
       "<svg:line x1=\"258.61\" y1=\"138.28\" x2=\"258.34\" y2=\"133.63\" stroke=\"rgb(0,0,0)\" stroke-width=\"1\"></svg:line>\r\n",
       "<svg:line x1=\"262.60\" y1=\"138.63\" x2=\"262.26\" y2=\"132.82\" stroke=\"rgb(0,0,0)\" stroke-width=\"1\"></svg:line>\r\n",
       "<svg:line x1=\"264.94\" y1=\"138.83\" x2=\"264.56\" y2=\"132.34\" stroke=\"rgb(0,0,0)\" stroke-width=\"1\"></svg:line>\r\n",
       "<svg:line x1=\"242.67\" y1=\"136.88\" x2=\"230.52\" y2=\"118.41\" stroke=\"rgb(0,0,0)\" stroke-width=\"1\"></svg:line>\r\n",
       "<svg:polygon fill=\"rgb(0,0,0)\" stroke=\"none\" stroke-width=\"0\" points=\"230.52,118.41 240.39,105.99 234.58,103.07 230.52,118.41\"></svg:polygon>\r\n",
       "<svg:line x1=\"236.56\" y1=\"92.77\" x2=\"232.42\" y2=\"86.47\" stroke=\"rgb(0,0,255)\" stroke-width=\"1\"></svg:line>\r\n",
       "<svg:line x1=\"232.42\" y1=\"86.47\" x2=\"228.27\" y2=\"80.18\" stroke=\"rgb(0,0,0)\" stroke-width=\"1\"></svg:line>\r\n",
       "<svg:line x1=\"230.52\" y1=\"118.41\" x2=\"208.44\" y2=\"119.71\" stroke=\"rgb(0,0,0)\" stroke-width=\"1\"></svg:line>\r\n",
       "<svg:polygon fill=\"rgb(0,0,0)\" stroke=\"none\" stroke-width=\"0\" points=\"208.44,119.71 188.19,110.26 186.32,116.49 208.44,119.71\"></svg:polygon>\r\n",
       "<svg:line x1=\"208.44\" y1=\"119.71\" x2=\"209.38\" y2=\"111.66\" stroke=\"rgb(0,0,0)\" stroke-width=\"1\"></svg:line>\r\n",
       "<svg:line x1=\"209.38\" y1=\"111.66\" x2=\"210.32\" y2=\"103.62\" stroke=\"rgb(255,0,0)\" stroke-width=\"1\"></svg:line>\r\n",
       "<svg:line x1=\"208.44\" y1=\"119.71\" x2=\"198.52\" y2=\"139.47\" stroke=\"rgb(0,0,0)\" stroke-width=\"1\"></svg:line>\r\n",
       "<svg:line x1=\"198.52\" y1=\"139.47\" x2=\"198.52\" y2=\"139.47\" stroke=\"rgb(0,0,0)\" stroke-width=\"1\"></svg:line>\r\n",
       "<svg:line x1=\"194.55\" y1=\"138.98\" x2=\"194.64\" y2=\"140.42\" stroke=\"rgb(0,0,0)\" stroke-width=\"1\"></svg:line>\r\n",
       "<svg:line x1=\"190.58\" y1=\"138.50\" x2=\"190.75\" y2=\"141.37\" stroke=\"rgb(0,0,0)\" stroke-width=\"1\"></svg:line>\r\n",
       "<svg:line x1=\"186.61\" y1=\"138.01\" x2=\"186.87\" y2=\"142.31\" stroke=\"rgb(0,0,0)\" stroke-width=\"1\"></svg:line>\r\n",
       "<svg:line x1=\"182.64\" y1=\"137.52\" x2=\"182.98\" y2=\"143.26\" stroke=\"rgb(0,0,0)\" stroke-width=\"1\"></svg:line>\r\n",
       "<svg:line x1=\"180.56\" y1=\"137.27\" x2=\"180.95\" y2=\"143.76\" stroke=\"rgb(0,0,0)\" stroke-width=\"1\"></svg:line>\r\n",
       "<svg:line x1=\"178.69\" y1=\"179.00\" x2=\"166.53\" y2=\"160.53\" stroke=\"rgb(0,0,0)\" stroke-width=\"1\"></svg:line>\r\n",
       "<svg:line x1=\"166.53\" y1=\"160.53\" x2=\"144.46\" y2=\"161.82\" stroke=\"rgb(0,0,0)\" stroke-width=\"1\"></svg:line>\r\n",
       "<svg:line x1=\"164.58\" y1=\"164.99\" x2=\"146.92\" y2=\"166.02\" stroke=\"rgb(0,0,0)\" stroke-width=\"1\"></svg:line>\r\n",
       "<svg:line x1=\"144.46\" y1=\"161.82\" x2=\"135.19\" y2=\"141.75\" stroke=\"rgb(0,0,0)\" stroke-width=\"1\"></svg:line>\r\n",
       "<svg:line x1=\"136.86\" y1=\"143.13\" x2=\"141.69\" y2=\"137.27\" stroke=\"rgb(0,0,0)\" stroke-width=\"1\"></svg:line>\r\n",
       "<svg:line x1=\"141.69\" y1=\"137.27\" x2=\"146.52\" y2=\"131.41\" stroke=\"rgb(255,0,0)\" stroke-width=\"1\"></svg:line>\r\n",
       "<svg:line x1=\"133.52\" y1=\"140.37\" x2=\"138.35\" y2=\"134.51\" stroke=\"rgb(0,0,0)\" stroke-width=\"1\"></svg:line>\r\n",
       "<svg:line x1=\"138.35\" y1=\"134.51\" x2=\"143.18\" y2=\"128.65\" stroke=\"rgb(255,0,0)\" stroke-width=\"1\"></svg:line>\r\n",
       "<svg:line x1=\"109.51\" y1=\"139.72\" x2=\"102.85\" y2=\"144.85\" stroke=\"rgb(0,0,255)\" stroke-width=\"1\"></svg:line>\r\n",
       "<svg:line x1=\"102.85\" y1=\"144.85\" x2=\"96.20\" y2=\"149.98\" stroke=\"rgb(0,0,0)\" stroke-width=\"1\"></svg:line>\r\n",
       "<svg:line x1=\"135.19\" y1=\"141.75\" x2=\"126.55\" y2=\"139.63\" stroke=\"rgb(0,0,0)\" stroke-width=\"1\"></svg:line>\r\n",
       "<svg:line x1=\"126.55\" y1=\"139.63\" x2=\"117.92\" y2=\"137.51\" stroke=\"rgb(0,0,255)\" stroke-width=\"1\"></svg:line>\r\n",
       "<svg:line x1=\"144.46\" y1=\"161.82\" x2=\"134.54\" y2=\"181.59\" stroke=\"rgb(0,0,0)\" stroke-width=\"1\"></svg:line>\r\n",
       "<svg:line x1=\"198.52\" y1=\"139.47\" x2=\"210.68\" y2=\"157.94\" stroke=\"rgb(0,0,0)\" stroke-width=\"1\"></svg:line>\r\n",
       "</svg:svg>"
      ],
      "text/plain": [
       "<IPython.core.display.SVG object>"
      ]
     },
     "metadata": {},
     "output_type": "display_data"
    }
   ],
   "source": [
    "from IPython.display import SVG, display\n",
    "def show_svg(file):\n",
    "    display(SVG(filename = file))\n",
    "    \n",
    "show_svg(filename)"
   ]
  },
  {
   "cell_type": "code",
   "execution_count": null,
   "metadata": {},
   "outputs": [],
   "source": []
  },
  {
   "cell_type": "markdown",
   "metadata": {},
   "source": [
    "## Quick test about merging fingerprints... probably won't work"
   ]
  },
  {
   "cell_type": "code",
   "execution_count": 126,
   "metadata": {},
   "outputs": [
    {
     "data": {
      "text/plain": [
       "[377, 85, 85, 85, 255, 255, 169, 169]"
      ]
     },
     "execution_count": 126,
     "metadata": {},
     "output_type": "execute_result"
    }
   ],
   "source": [
    "[np.sum(x) for x in fingerprint_matches]"
   ]
  },
  {
   "cell_type": "code",
   "execution_count": 141,
   "metadata": {},
   "outputs": [
    {
     "data": {
      "text/plain": [
       "array([0.3, 0.4, 0.2, 0.3, 0. , 0.6, 0.1, 0.3, 0.4, 0.3, 0.2, 0.3, 0.6,\n",
       "       0. , 0. , 0.2, 0.2, 0.1, 0.1, 0.2, 0.1, 0. , 0.1, 0.2, 0.8, 0.3,\n",
       "       0.1, 0.3, 0.3, 0.2, 0.2, 0. , 0.3, 0. , 0. , 0.4, 0. , 0.1, 0.2,\n",
       "       0.2, 0.2, 0.5, 0.1, 0.1, 0.2, 0. , 0.2, 0.5, 0.2, 0.3, 0.4, 0. ,\n",
       "       0.2, 0.1, 0.1, 0. , 0.4, 0. , 0.6, 0.4, 0. , 0.2, 0.2, 0.2, 0.3,\n",
       "       0.2, 0.5, 0.2, 0.5, 0.4, 0.2, 0.4, 0.3, 0. , 0. , 0.3, 0.1, 0.2,\n",
       "       0. , 0.4])"
      ]
     },
     "execution_count": 141,
     "metadata": {},
     "output_type": "execute_result"
    }
   ],
   "source": [
    "fingerprint_merged = np.mean(fingerprint_matches, axis =0)\n",
    "fingerprint_merged[:80]"
   ]
  },
  {
   "cell_type": "code",
   "execution_count": 142,
   "metadata": {},
   "outputs": [
    {
     "data": {
      "text/plain": [
       "[1380, 803, 503, 251]"
      ]
     },
     "execution_count": 142,
     "metadata": {},
     "output_type": "execute_result"
    }
   ],
   "source": [
    "[np.sum(fingerprint_merged>x) for x in [0.1, 0.2, 0.3, 0.4]]"
   ]
  },
  {
   "cell_type": "code",
   "execution_count": 143,
   "metadata": {},
   "outputs": [
    {
     "data": {
      "text/plain": [
       "0.2946666666666667"
      ]
     },
     "execution_count": 143,
     "metadata": {},
     "output_type": "execute_result"
    }
   ],
   "source": [
    "np.mean(fingerprint_merged[fingerprint_merged>0])"
   ]
  },
  {
   "cell_type": "code",
   "execution_count": 148,
   "metadata": {},
   "outputs": [
    {
     "data": {
      "text/plain": [
       "array([1, 1, 0, 1, 0, 1, 0, 1, 1, 1, 0, 1, 1, 0, 0, 0, 0, 0, 0, 0, 0, 0,\n",
       "       0, 0, 1, 1, 0, 1, 1, 0, 0, 0, 1, 0, 0, 1, 0, 0, 0, 0, 0, 1, 0, 0,\n",
       "       0, 0, 0, 1, 0, 1, 1, 0, 0, 0, 0, 0, 1, 0, 1, 1, 0, 0, 0, 0, 1, 0,\n",
       "       1, 0, 1, 1, 0, 1, 1, 0, 0, 1, 0, 0, 0, 1])"
      ]
     },
     "execution_count": 148,
     "metadata": {},
     "output_type": "execute_result"
    }
   ],
   "source": [
    "fingerprint_merged_bit = 1*(fingerprint_merged > 0.2)\n",
    "fingerprint_merged_bit[:80]"
   ]
  },
  {
   "cell_type": "code",
   "execution_count": 149,
   "metadata": {},
   "outputs": [
    {
     "data": {
      "text/plain": [
       "array([[0.15462869, 0.15432649]])"
      ]
     },
     "execution_count": 149,
     "metadata": {},
     "output_type": "execute_result"
    }
   ],
   "source": [
    "MS_sim_classic.mol_sim_matrix(fingerprint_query,\n",
    "                                           [fingerprint_merged_bit, fingerprint_matches[0]],\n",
    "                                           method = 'jaccard',\n",
    "                                           filename = None,\n",
    "                                           max_size = 1000,\n",
    "                                           print_progress = False)"
   ]
  }
 ],
 "metadata": {
  "kernelspec": {
   "display_name": "Python 3",
   "language": "python",
   "name": "python3"
  },
  "language_info": {
   "codemirror_mode": {
    "name": "ipython",
    "version": 3
   },
   "file_extension": ".py",
   "mimetype": "text/x-python",
   "name": "python",
   "nbconvert_exporter": "python",
   "pygments_lexer": "ipython3",
   "version": "3.6.8"
  }
 },
 "nbformat": 4,
 "nbformat_minor": 2
}
