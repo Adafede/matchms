{
 "cells": [
  {
   "cell_type": "markdown",
   "metadata": {},
   "source": [
    "# Spec2Vec - Find similar compounds for unknown substances\n",
    "One very important use case for a spectral similariy measure is libarary matching.  \n",
    "This means matching previously unseen/unknown spectra to known, annotated sepctra in a larger library."
   ]
  },
  {
   "cell_type": "code",
   "execution_count": 1,
   "metadata": {},
   "outputs": [],
   "source": [
    "# Locations\n",
    "ROOT = \"C:\\\\OneDrive - Netherlands eScience Center\\\\Project_Wageningen_iOMEGA\"\n",
    "PATH_SPEC2VEC = ROOT + \"\\\\Spec2Vec\\\\code\\\\\"\n",
    "PATH_MS_DATA = ROOT + \"\\\\Data\\\\GNPS_all\\\\\"\n",
    "PATH_SAVE_MODEL = ROOT + \"\\\\Spec2Vec\\\\models_trained\\\\\"\n",
    "PATH_COMPUTED = ROOT + \"\\\\Spec2Vec\\\\computed_results\\\\\"\n",
    "PATH_OUTPUT = ROOT + \"\\\\Spec2Vec\\\\output_plots\\\\\""
   ]
  },
  {
   "cell_type": "code",
   "execution_count": 2,
   "metadata": {},
   "outputs": [],
   "source": [
    "import numpy as np\n",
    "import sys\n",
    "sys.path.insert(0, PATH_SPEC2VEC)"
   ]
  },
  {
   "cell_type": "code",
   "execution_count": 3,
   "metadata": {},
   "outputs": [],
   "source": [
    "import helper_functions as functions\n",
    "import MS_functions\n",
    "import MS_similarity_classical as MS_sim_classic\n",
    "from similarity_measure import SimilarityMeasures\n",
    "from plotting_functions import plot_precentile\n",
    "\n",
    "from scipy import spatial"
   ]
  },
  {
   "cell_type": "markdown",
   "metadata": {},
   "source": [
    "### Load filtered allGNPS_positive dataset OR:  Import& filter allGNPS_positive dataset"
   ]
  },
  {
   "cell_type": "code",
   "execution_count": 4,
   "metadata": {},
   "outputs": [
    {
     "name": "stdout",
     "output_type": "stream",
     "text": [
      "Spectra json file found and loaded.\n"
     ]
    }
   ],
   "source": [
    "file_json = PATH_MS_DATA + \"allGNPS_positive_minmax_10_1000_2dec_exp08_191115.json\"\n",
    "file_mgf = ROOT + \"\\\\Data\\\\GNPS_all\\\\\" + \"allGNPS_positive_191106.mgf\"\n",
    "\n",
    "spectra, spectra_dict, MS_documents, MS_documents_intensity, spectra_metadata = MS_functions.load_MGF_data(file_mgf = file_mgf,\n",
    "                                                           file_json = file_json,\n",
    "                                                           num_decimals = 2,\n",
    "                                                           min_frag = 0.0, max_frag = 1000.0,\n",
    "                                                           min_loss = 5.0, max_loss = 500.0,\n",
    "                                                           min_intensity_perc = 0,\n",
    "                                                           exp_intensity_filter = 0.8,\n",
    "                                                           min_keep_peaks_0 = 10,\n",
    "                                                           min_keep_peaks_per_mz = 20/200,\n",
    "                                                           min_peaks = 10,\n",
    "                                                           max_peaks = 1000,\n",
    "                                                           peak_loss_words = ['peak_', 'loss_'])"
   ]
  },
  {
   "cell_type": "markdown",
   "metadata": {},
   "source": [
    "### Inspect spectra metadata"
   ]
  },
  {
   "cell_type": "code",
   "execution_count": 5,
   "metadata": {},
   "outputs": [
    {
     "data": {
      "text/html": [
       "<div>\n",
       "<style scoped>\n",
       "    .dataframe tbody tr th:only-of-type {\n",
       "        vertical-align: middle;\n",
       "    }\n",
       "\n",
       "    .dataframe tbody tr th {\n",
       "        vertical-align: top;\n",
       "    }\n",
       "\n",
       "    .dataframe thead th {\n",
       "        text-align: right;\n",
       "    }\n",
       "</style>\n",
       "<table border=\"1\" class=\"dataframe\">\n",
       "  <thead>\n",
       "    <tr style=\"text-align: right;\">\n",
       "      <th></th>\n",
       "      <th>doc_ID</th>\n",
       "      <th>gnps_ID</th>\n",
       "      <th>name</th>\n",
       "      <th>title</th>\n",
       "      <th>precursor_mz</th>\n",
       "      <th>num_peaks_losses</th>\n",
       "      <th>inchi</th>\n",
       "      <th>inchikey</th>\n",
       "      <th>smiles</th>\n",
       "      <th>charge</th>\n",
       "    </tr>\n",
       "  </thead>\n",
       "  <tbody>\n",
       "    <tr>\n",
       "      <th>0</th>\n",
       "      <td>0</td>\n",
       "      <td>CCMSLIB00005435503</td>\n",
       "      <td>chenodeoxycholic acid M-H2O+H</td>\n",
       "      <td>NaN</td>\n",
       "      <td>375.290</td>\n",
       "      <td>93</td>\n",
       "      <td>\"InChI=1S/C24H40O4/c1-14(4-7-21(27)28)17-5-6-1...</td>\n",
       "      <td>RUDATBOHQWOJDD-GYHJSIKNSA-N</td>\n",
       "      <td>C[C@H](CCC(=O)O)[C@H]1CC[C@@H]2[C@@]1(CC[C@H]3...</td>\n",
       "      <td>1</td>\n",
       "    </tr>\n",
       "    <tr>\n",
       "      <th>1</th>\n",
       "      <td>1</td>\n",
       "      <td>CCMSLIB00005435504</td>\n",
       "      <td>chenodeoxycholic acid 2M+H</td>\n",
       "      <td>NaN</td>\n",
       "      <td>785.593</td>\n",
       "      <td>101</td>\n",
       "      <td>\"InChI=1S/C24H40O4/c1-14(4-7-21(27)28)17-5-6-1...</td>\n",
       "      <td>RUDATBOHQWOJDD-PODLAYBOSA-N</td>\n",
       "      <td>C[C@H](CCC(=O)O)[C@H]1CC[C@@H]2[C@@]1(CC[C@H]3...</td>\n",
       "      <td>1</td>\n",
       "    </tr>\n",
       "    <tr>\n",
       "      <th>2</th>\n",
       "      <td>2</td>\n",
       "      <td>CCMSLIB00005435505</td>\n",
       "      <td>chenodeoxycholic acid 2M+Na</td>\n",
       "      <td>NaN</td>\n",
       "      <td>807.575</td>\n",
       "      <td>21</td>\n",
       "      <td>\"InChI=1S/C24H40O4/c1-14(4-7-21(27)28)17-5-6-1...</td>\n",
       "      <td>RUDATBOHQWOJDD-PODLAYBOSA-N</td>\n",
       "      <td>C[C@H](CCC(=O)O)[C@H]1CC[C@@H]2[C@@]1(CC[C@H]3...</td>\n",
       "      <td>1</td>\n",
       "    </tr>\n",
       "    <tr>\n",
       "      <th>3</th>\n",
       "      <td>3</td>\n",
       "      <td>CCMSLIB00005435506</td>\n",
       "      <td>cholic acid M+Na</td>\n",
       "      <td>NaN</td>\n",
       "      <td>431.277</td>\n",
       "      <td>35</td>\n",
       "      <td>\"InChI=1S/C24H40O5/c1-13(4-7-21(28)29)16-5-6-1...</td>\n",
       "      <td>BHQCQFFYRZLCQQ-IHELEQLESA-N</td>\n",
       "      <td>C[C@H](CCC(=O)O)[C@H]1CC[C@@H]2[C@@]1([C@H](C[...</td>\n",
       "      <td>1</td>\n",
       "    </tr>\n",
       "    <tr>\n",
       "      <th>4</th>\n",
       "      <td>4</td>\n",
       "      <td>CCMSLIB00005435507</td>\n",
       "      <td>deoxycholic acid M-H2O+H</td>\n",
       "      <td>NaN</td>\n",
       "      <td>375.289</td>\n",
       "      <td>157</td>\n",
       "      <td>\"InChI=1S/C24H40O4/c1-14(4-9-22(27)28)18-7-8-1...</td>\n",
       "      <td>KXGVEGMKQFWNSR-BKAWJTANSA-N</td>\n",
       "      <td>C[C@H](CCC(=O)O)[C@H]1CC[C@@H]2[C@@]1([C@H](C[...</td>\n",
       "      <td>1</td>\n",
       "    </tr>\n",
       "  </tbody>\n",
       "</table>\n",
       "</div>"
      ],
      "text/plain": [
       "   doc_ID             gnps_ID                           name title  \\\n",
       "0       0  CCMSLIB00005435503  chenodeoxycholic acid M-H2O+H   NaN   \n",
       "1       1  CCMSLIB00005435504     chenodeoxycholic acid 2M+H   NaN   \n",
       "2       2  CCMSLIB00005435505    chenodeoxycholic acid 2M+Na   NaN   \n",
       "3       3  CCMSLIB00005435506               cholic acid M+Na   NaN   \n",
       "4       4  CCMSLIB00005435507       deoxycholic acid M-H2O+H   NaN   \n",
       "\n",
       "   precursor_mz  num_peaks_losses  \\\n",
       "0       375.290                93   \n",
       "1       785.593               101   \n",
       "2       807.575                21   \n",
       "3       431.277                35   \n",
       "4       375.289               157   \n",
       "\n",
       "                                               inchi  \\\n",
       "0  \"InChI=1S/C24H40O4/c1-14(4-7-21(27)28)17-5-6-1...   \n",
       "1  \"InChI=1S/C24H40O4/c1-14(4-7-21(27)28)17-5-6-1...   \n",
       "2  \"InChI=1S/C24H40O4/c1-14(4-7-21(27)28)17-5-6-1...   \n",
       "3  \"InChI=1S/C24H40O5/c1-13(4-7-21(28)29)16-5-6-1...   \n",
       "4  \"InChI=1S/C24H40O4/c1-14(4-9-22(27)28)18-7-8-1...   \n",
       "\n",
       "                      inchikey  \\\n",
       "0  RUDATBOHQWOJDD-GYHJSIKNSA-N   \n",
       "1  RUDATBOHQWOJDD-PODLAYBOSA-N   \n",
       "2  RUDATBOHQWOJDD-PODLAYBOSA-N   \n",
       "3  BHQCQFFYRZLCQQ-IHELEQLESA-N   \n",
       "4  KXGVEGMKQFWNSR-BKAWJTANSA-N   \n",
       "\n",
       "                                              smiles  charge  \n",
       "0  C[C@H](CCC(=O)O)[C@H]1CC[C@@H]2[C@@]1(CC[C@H]3...       1  \n",
       "1  C[C@H](CCC(=O)O)[C@H]1CC[C@@H]2[C@@]1(CC[C@H]3...       1  \n",
       "2  C[C@H](CCC(=O)O)[C@H]1CC[C@@H]2[C@@]1(CC[C@H]3...       1  \n",
       "3  C[C@H](CCC(=O)O)[C@H]1CC[C@@H]2[C@@]1([C@H](C[...       1  \n",
       "4  C[C@H](CCC(=O)O)[C@H]1CC[C@@H]2[C@@]1([C@H](C[...       1  "
      ]
     },
     "execution_count": 5,
     "metadata": {},
     "output_type": "execute_result"
    }
   ],
   "source": [
    "spectra_metadata.head()"
   ]
  },
  {
   "cell_type": "markdown",
   "metadata": {},
   "source": [
    "### Count inchikey occurences"
   ]
  },
  {
   "cell_type": "code",
   "execution_count": 6,
   "metadata": {},
   "outputs": [
    {
     "data": {
      "text/plain": [
       "(50195,)"
      ]
     },
     "execution_count": 6,
     "metadata": {},
     "output_type": "execute_result"
    }
   ],
   "source": [
    "inchikeys_pd = spectra_metadata['inchikey'][spectra_metadata['inchikey'].notnull()]\n",
    "inchikeys_pd.shape"
   ]
  },
  {
   "cell_type": "code",
   "execution_count": 7,
   "metadata": {},
   "outputs": [
    {
     "data": {
      "text/plain": [
       "90216    CCQDWIRWKWIUKK\n",
       "90217    RPVIQWDFJPYNJM\n",
       "90218    BXEZTCOKOLHMKY\n",
       "90219    BXEZTCOKOLHMKY\n",
       "90220    PVXPPJIGRGXGCY\n",
       "90221    ATEFPOUAMCWAQS\n",
       "90222    ILEDWLMCKZNDJK\n",
       "90223    ILEDWLMCKZNDJK\n",
       "90224    NCJNNMWJQIKYLO\n",
       "90225    LNCLTICCQWMCNS\n",
       "Name: inchikey, dtype: object"
      ]
     },
     "execution_count": 7,
     "metadata": {},
     "output_type": "execute_result"
    }
   ],
   "source": [
    "inchikeys_pd.str[:14][-10:]"
   ]
  },
  {
   "cell_type": "markdown",
   "metadata": {},
   "source": [
    "### Get unique inchikeys (first 14 letters)"
   ]
  },
  {
   "cell_type": "code",
   "execution_count": 8,
   "metadata": {},
   "outputs": [
    {
     "data": {
      "text/plain": [
       "(11011,)"
      ]
     },
     "execution_count": 8,
     "metadata": {},
     "output_type": "execute_result"
    }
   ],
   "source": [
    "unique_inchikeys = inchikeys_pd.str[:14].unique()\n",
    "unique_inchikeys.shape"
   ]
  },
  {
   "cell_type": "code",
   "execution_count": 9,
   "metadata": {},
   "outputs": [
    {
     "data": {
      "text/plain": [
       "0    RUDATBOHQWOJDD\n",
       "1    RUDATBOHQWOJDD\n",
       "2    RUDATBOHQWOJDD\n",
       "3    BHQCQFFYRZLCQQ\n",
       "4    KXGVEGMKQFWNSR\n",
       "Name: inchikey, dtype: object"
      ]
     },
     "execution_count": 9,
     "metadata": {},
     "output_type": "execute_result"
    }
   ],
   "source": [
    "inchikeys_pd.str[:14].head()"
   ]
  },
  {
   "cell_type": "markdown",
   "metadata": {},
   "source": [
    "### Randomly select 500 different inchikeys"
   ]
  },
  {
   "cell_type": "code",
   "execution_count": 10,
   "metadata": {},
   "outputs": [
    {
     "data": {
      "text/plain": [
       "array(['BQYJATMQXGBDHF', 'LOVMOOUQHWMIHZ', 'VAFNMNRKDDAKRM',\n",
       "       'VQQVWGVXDIPORV', 'LUJVUUWNAPIQQI', 'HJBUYKZTEBZNSH',\n",
       "       'ZSJOCPIPUNPVFO', 'YXTROGRGRSPWKL', 'UOUFYEQUUCSLPP',\n",
       "       'XOXHILFPRYWFOD', 'QFWCWMZSCXWBAK', 'QKEXQELISPDIMT',\n",
       "       'OTXNTMVVOOBZCV', 'CUKXSBOAIJILRY', 'RSGRSUVVCYUKLM',\n",
       "       'GSDSWSVVBLHKDQ', 'SITDJJDXDVFCAP', 'ZWJINEZUASEZBH',\n",
       "       'RAGFPHFDFVNLCG', 'LETBAZLAGJPEIM', 'PJSKCCANFAFYHW',\n",
       "       'VARCUXZWTHLZBR', 'TYNBQERPUSLOCV', 'VUFDXOACUHDTLI',\n",
       "       'JDVVGAQPNNXQDW'], dtype=object)"
      ]
     },
     "execution_count": 10,
     "metadata": {},
     "output_type": "execute_result"
    }
   ],
   "source": [
    "num_spectra = 200\n",
    "\n",
    "np.random.seed(42) # to make it reproducible\n",
    "selected_inchikeys = np.random.choice(unique_inchikeys, num_spectra, replace=False)\n",
    "selected_inchikeys[:25]"
   ]
  },
  {
   "cell_type": "markdown",
   "metadata": {},
   "source": [
    "### Pick ALL spectra for each of the chosen inchikeys"
   ]
  },
  {
   "cell_type": "code",
   "execution_count": 11,
   "metadata": {},
   "outputs": [],
   "source": [
    "selected_spectra = []\n",
    "\n",
    "for inchikey in selected_inchikeys:\n",
    "    matches = inchikeys_pd[inchikeys_pd.str[:14] == inchikey].index.values\n",
    "    selected_spectra.extend(matches)"
   ]
  },
  {
   "cell_type": "code",
   "execution_count": 12,
   "metadata": {},
   "outputs": [
    {
     "name": "stdout",
     "output_type": "stream",
     "text": [
      "994 spectra were found with inchikeys from selected_inchikeys list.\n"
     ]
    }
   ],
   "source": [
    "print(len(selected_spectra), \"spectra were found with inchikeys from selected_inchikeys list.\")"
   ]
  },
  {
   "cell_type": "code",
   "execution_count": 13,
   "metadata": {
    "scrolled": true
   },
   "outputs": [
    {
     "data": {
      "text/html": [
       "<div>\n",
       "<style scoped>\n",
       "    .dataframe tbody tr th:only-of-type {\n",
       "        vertical-align: middle;\n",
       "    }\n",
       "\n",
       "    .dataframe tbody tr th {\n",
       "        vertical-align: top;\n",
       "    }\n",
       "\n",
       "    .dataframe thead th {\n",
       "        text-align: right;\n",
       "    }\n",
       "</style>\n",
       "<table border=\"1\" class=\"dataframe\">\n",
       "  <thead>\n",
       "    <tr style=\"text-align: right;\">\n",
       "      <th></th>\n",
       "      <th>gnps_ID</th>\n",
       "      <th>inchikey</th>\n",
       "    </tr>\n",
       "  </thead>\n",
       "  <tbody>\n",
       "    <tr>\n",
       "      <th>403</th>\n",
       "      <td>CCMSLIB00000579905</td>\n",
       "      <td>BQYJATMQXGBDHF-UHFFFAOYSA-N</td>\n",
       "    </tr>\n",
       "    <tr>\n",
       "      <th>1095</th>\n",
       "      <td>CCMSLIB00001058615</td>\n",
       "      <td>BQYJATMQXGBDHF-UHFFFAOYSA-N</td>\n",
       "    </tr>\n",
       "    <tr>\n",
       "      <th>1349</th>\n",
       "      <td>CCMSLIB00001058900</td>\n",
       "      <td>BQYJATMQXGBDHF-UHFFFAOYSA-N</td>\n",
       "    </tr>\n",
       "    <tr>\n",
       "      <th>1484</th>\n",
       "      <td>CCMSLIB00001059051</td>\n",
       "      <td>BQYJATMQXGBDHF-UHFFFAOYSA-N</td>\n",
       "    </tr>\n",
       "    <tr>\n",
       "      <th>26777</th>\n",
       "      <td>CCMSLIB00000212313</td>\n",
       "      <td>BQYJATMQXGBDHF-UHFFFAOYSA-N</td>\n",
       "    </tr>\n",
       "    <tr>\n",
       "      <th>26778</th>\n",
       "      <td>CCMSLIB00000212317</td>\n",
       "      <td>BQYJATMQXGBDHF-UHFFFAOYSA-N</td>\n",
       "    </tr>\n",
       "    <tr>\n",
       "      <th>26779</th>\n",
       "      <td>CCMSLIB00000212319</td>\n",
       "      <td>BQYJATMQXGBDHF-UHFFFAOYSA-N</td>\n",
       "    </tr>\n",
       "    <tr>\n",
       "      <th>26780</th>\n",
       "      <td>CCMSLIB00000212321</td>\n",
       "      <td>BQYJATMQXGBDHF-UHFFFAOYSA-N</td>\n",
       "    </tr>\n",
       "    <tr>\n",
       "      <th>26781</th>\n",
       "      <td>CCMSLIB00000212323</td>\n",
       "      <td>BQYJATMQXGBDHF-UHFFFAOYSA-N</td>\n",
       "    </tr>\n",
       "    <tr>\n",
       "      <th>26782</th>\n",
       "      <td>CCMSLIB00000212325</td>\n",
       "      <td>BQYJATMQXGBDHF-UHFFFAOYSA-N</td>\n",
       "    </tr>\n",
       "  </tbody>\n",
       "</table>\n",
       "</div>"
      ],
      "text/plain": [
       "                  gnps_ID                     inchikey\n",
       "403    CCMSLIB00000579905  BQYJATMQXGBDHF-UHFFFAOYSA-N\n",
       "1095   CCMSLIB00001058615  BQYJATMQXGBDHF-UHFFFAOYSA-N\n",
       "1349   CCMSLIB00001058900  BQYJATMQXGBDHF-UHFFFAOYSA-N\n",
       "1484   CCMSLIB00001059051  BQYJATMQXGBDHF-UHFFFAOYSA-N\n",
       "26777  CCMSLIB00000212313  BQYJATMQXGBDHF-UHFFFAOYSA-N\n",
       "26778  CCMSLIB00000212317  BQYJATMQXGBDHF-UHFFFAOYSA-N\n",
       "26779  CCMSLIB00000212319  BQYJATMQXGBDHF-UHFFFAOYSA-N\n",
       "26780  CCMSLIB00000212321  BQYJATMQXGBDHF-UHFFFAOYSA-N\n",
       "26781  CCMSLIB00000212323  BQYJATMQXGBDHF-UHFFFAOYSA-N\n",
       "26782  CCMSLIB00000212325  BQYJATMQXGBDHF-UHFFFAOYSA-N"
      ]
     },
     "execution_count": 13,
     "metadata": {},
     "output_type": "execute_result"
    }
   ],
   "source": [
    "# Show gnps IDs for selected spectra\n",
    "spectra_metadata[[\"gnps_ID\", \"inchikey\"]].loc[selected_spectra][:10]"
   ]
  },
  {
   "cell_type": "markdown",
   "metadata": {},
   "source": [
    "### Show number of occurences of all selected inchikeys"
   ]
  },
  {
   "cell_type": "code",
   "execution_count": 14,
   "metadata": {},
   "outputs": [
    {
     "data": {
      "text/plain": [
       "Text(0, 0.5, 'Number of inchikeys with respective number of occurences')"
      ]
     },
     "execution_count": 14,
     "metadata": {},
     "output_type": "execute_result"
    },
    {
     "data": {
      "image/png": "[encoded data removed]",
      "text/plain": [
       "<Figure size 864x432 with 1 Axes>"
      ]
     },
     "metadata": {
      "needs_background": "light"
     },
     "output_type": "display_data"
    }
   ],
   "source": [
    "from matplotlib import pyplot as plt\n",
    "plt.figure(figsize=(12,6))\n",
    "plt.hist(inchikeys_pd.str[:14][selected_spectra].value_counts(), 45)\n",
    "plt.xlabel('Number of occurences of inchikey')\n",
    "plt.ylabel('Number of inchikeys with respective number of occurences')"
   ]
  },
  {
   "cell_type": "markdown",
   "metadata": {},
   "source": [
    "## Train new Spec2Vec model on dataset without the selected spectra\n",
    "The aim here is to test how much Spec2Vec can potentially reveal about entirely unknown compounds. This means all spectra with identical inchikeys were removed, and the Spec2Vec model does not see them during training."
   ]
  },
  {
   "cell_type": "code",
   "execution_count": 36,
   "metadata": {},
   "outputs": [
    {
     "name": "stdout",
     "output_type": "stream",
     "text": [
      "Modified corpus consists of 89232 documents.\n",
      "\n",
      "\n",
      "Preprocess documents...\n",
      "Number of unique words:  145568\n",
      "\n",
      "\n",
      "No saved word2vec model found with given filename!\n",
      "Calculating new word2vec model...\n",
      " Epoch 1 of 15.Change in loss after epoch 1: 6965052.0\n",
      " Epoch 2 of 15.Change in loss after epoch 2: 4970318.0\n",
      " Epoch 3 of 15.Change in loss after epoch 3: 4495444.0\n",
      " Epoch 4 of 15.Change in loss after epoch 4: 3737214.0\n",
      " Epoch 5 of 15.Change in loss after epoch 5: 3556258.0\n",
      " Epoch 6 of 15.Change in loss after epoch 6: 3440130.0\n",
      " Epoch 7 of 15.Change in loss after epoch 7: 3270988.0\n",
      " Epoch 8 of 15.Change in loss after epoch 8: 3154664.0\n",
      " Epoch 9 of 15.Change in loss after epoch 9: 1914572.0\n",
      " Epoch 10 of 15.Change in loss after epoch 10: 1871908.0\n",
      "Saving model with name: C:\\OneDrive - Netherlands eScience Center\\Project_Wageningen_iOMEGA\\Spec2Vec\\models_trained\\S2V_allGNPS_pos_unknownmatching_d300_w500_neg5_minmax10_1000_dec2_exp08_iter_10.model\n",
      " Epoch 11 of 15.Change in loss after epoch 11: 1832752.0\n",
      " Epoch 12 of 15.Change in loss after epoch 12: 1796928.0\n",
      " Epoch 13 of 15.Change in loss after epoch 13: 1785484.0\n",
      " Epoch 14 of 15.Change in loss after epoch 14: 1759572.0\n",
      " Epoch 15 of 15.Change in loss after epoch 15: 1695748.0\n",
      "Saving model with name: C:\\OneDrive - Netherlands eScience Center\\Project_Wageningen_iOMEGA\\Spec2Vec\\models_trained\\S2V_allGNPS_pos_unknownmatching_d300_w500_neg5_minmax10_1000_dec2_exp08_iter_15.model\n",
      "\n",
      "\n",
      "Learning rate droped from 0.025 to 0.021250703223058994\n"
     ]
    }
   ],
   "source": [
    "# Remove selected spectra from corpus\n",
    "MS_docs_removedpart = [MS_documents[x] for x in range(len(MS_documents)) if x not in selected_spectra]\n",
    "MS_docs_intensity_removedpart = [MS_documents_intensity[x] for x in range(len(MS_documents)) if x not in selected_spectra]   \n",
    "print(\"Modified corpus consists of\", len(MS_docs_removedpart), \"documents.\")\n",
    "\n",
    "MS_library = SimilarityMeasures(MS_docs_removedpart, MS_docs_intensity_removedpart)\n",
    "MS_library.preprocess_documents(1, min_frequency = 2, create_stopwords = False)\n",
    "print(\"Number of unique words: \", len(MS_library.dictionary))\n",
    "\n",
    "# Train new model based on reduced corpus\n",
    "file_model_word2vec = PATH_SAVE_MODEL + 'S2V_allGNPS_pos_unknownmatching_d300_w500_neg5_minmax10_1000_dec2_exp08.model'\n",
    "MS_library.build_model_word2vec(file_model_word2vec, sg=0, negative=5, size=300, window=500, \n",
    "                             min_count=1, workers=4, iterations= [10,5], \n",
    "                             use_stored_model=True)\n",
    "print(\"Learning rate droped from\", MS_measure.model_word2vec.alpha, \"to\", MS_measure.model_word2vec.min_alpha_yet_reached)"
   ]
  },
  {
   "cell_type": "code",
   "execution_count": 15,
   "metadata": {},
   "outputs": [
    {
     "name": "stdout",
     "output_type": "stream",
     "text": [
      "Modified corpus consists of 89232 documents.\n",
      "Preprocess documents...\n",
      "Number of unique words:  145568\n",
      "Load stored word2vec model ...\n"
     ]
    }
   ],
   "source": [
    "# or load pretrained\n",
    "MS_docs_removedpart = [MS_documents[x] for x in range(len(MS_documents)) if x not in selected_spectra]\n",
    "MS_docs_intensity_removedpart = [MS_documents_intensity[x] for x in range(len(MS_documents)) if x not in selected_spectra]   \n",
    "print(\"Modified corpus consists of\", len(MS_docs_removedpart), \"documents.\")\n",
    "\n",
    "MS_library = SimilarityMeasures(MS_docs_removedpart, MS_docs_intensity_removedpart)\n",
    "MS_library.preprocess_documents(1, min_frequency = 2, create_stopwords = False)\n",
    "print(\"Number of unique words: \", len(MS_library.dictionary))\n",
    "\n",
    "# Train new model based on reduced corpus\n",
    "file_model_word2vec = PATH_SAVE_MODEL + 'S2V_allGNPS_pos_unknownmatching_d300_w500_neg5_minmax10_1000_dec2_exp08_iter_15.model'\n",
    "MS_library.build_model_word2vec(file_model_word2vec, sg=0, negative=5, size=300, window=500, \n",
    "                             min_count=1, workers=4, iterations= [10,5], \n",
    "                             use_stored_model=True)"
   ]
  },
  {
   "cell_type": "markdown",
   "metadata": {},
   "source": [
    "## Calculate Spec2Vec spectra vectors for all library spectra\n",
    "This step will calculate the Spec2Vec vectors for all library spectra to later do comparisons with."
   ]
  },
  {
   "cell_type": "code",
   "execution_count": 16,
   "metadata": {},
   "outputs": [
    {
     "name": "stdout",
     "output_type": "stream",
     "text": [
      "All 'words' of the given documents were found in the trained word2vec model.\n",
      "  Calculated centroid vectors for  89232  of  89232  documents.ocuments. 89232  documents. 89232  documents. Calculated centroid vectors for  3380  of  89232  documents. 89232  documents.4280  of  89232  documents.  documents.5540  of  89232  documents. of  89232  documents.6150  of  89232  documents. 89232  documents.8380  of  89232  documents. of  89232  documents. Calculated centroid vectors for  8710  of  89232  documents.  of  89232  documents. 89232  documents.89232  documents.  of  89232  documents.10580  of  89232  documents.11450  of  89232  documents.  of  89232  documents. Calculated centroid vectors for  11730  of  89232  documents.13450  of  89232  documents.89232  documents. of  89232  documents. documents. of  89232  documents. 89232  documents.17610  of  89232  documents. 89232  documents.  of  89232  documents. 89232  documents. Calculated centroid vectors for  20550  of  89232  documents. of  89232  documents. 89232  documents.  documents.27590  of  89232  documents. of  89232  documents. of  89232  documents.35970  of  89232  documents.36130  of  89232  documents.  of  89232  documents.36360  of  89232  documents. of  89232  documents.89232  documents. 89232  documents.  of  89232  documents.  documents. 89232  documents.  of  89232  documents. of  89232  documents.  documents. 89232  documents.40540  of  89232  documents. of  89232  documents.40890  of  89232  documents.41930  of  89232  documents.  documents.  documents. 89232  documents. documents. 44170  of  89232  documents. Calculated centroid vectors for  45040  of  89232  documents.  of  89232  documents.  documents.46020  of  89232  documents. 89232  documents. Calculated centroid vectors for  47970  of  89232  documents. Calculated centroid vectors for  48110  of  89232  documents.48380  of  89232  documents.  of  89232  documents.89232  documents.89232  documents.  documents.89232  documents. Calculated centroid vectors for  50490  of  89232  documents. of  89232  documents. Calculated centroid vectors for  50560  of  89232  documents.89232  documents. documents.  documents. Calculated centroid vectors for  51950  of  89232  documents. of  89232  documents. Calculated centroid vectors for  52270  of  89232  documents. of  89232  documents. Calculated centroid vectors for  52600  of  89232  documents. Calculated centroid vectors for  53480  of  89232  documents. Calculated centroid vectors for  53700  of  89232  documents. Calculated centroid vectors for  53890  of  89232  documents.  documents. documents. documents. Calculated centroid vectors for  54620  of  89232  documents. of  89232  documents.  of  89232  documents. documents.89232  documents. of  89232  documents. of  89232  documents. documents. of  89232  documents.89232  documents.89232  documents.58830  of  89232  documents. of  89232  documents.  of  89232  documents. Calculated centroid vectors for  59660  of  89232  documents.60060  of  89232  documents. 89232  documents. Calculated centroid vectors for  60570  of  89232  documents. documents. documents. 89232  documents.  documents. Calculated centroid vectors for  65510  of  89232  documents. of  89232  documents. of  89232  documents. documents.  of  89232  documents. of  89232  documents.  documents. documents.  of  89232  documents.  documents.  of  89232  documents. Calculated centroid vectors for  69940  of  89232  documents. 70420  of  89232  documents.89232  documents. Calculated centroid vectors for  71020  of  89232  documents. Calculated centroid vectors for  71330  of  89232  documents. Calculated centroid vectors for  71560  of  89232  documents. Calculated centroid vectors for  73280  of  89232  documents. documents. documents. 89232  documents. of  89232  documents. of  89232  documents. Calculated centroid vectors for  76180  of  89232  documents. documents. Calculated centroid vectors for  79290  of  89232  documents. Calculated centroid vectors for  79520  of  89232  documents.  of  89232  documents. of  89232  documents. Calculated centroid vectors for  80650  of  89232  documents.81080  of  89232  documents. Calculated centroid vectors for  81180  of  89232  documents. of  89232  documents. 89232  documents.81760  of  89232  documents. Calculated centroid vectors for  82350  of  89232  documents. Calculated centroid vectors for  82630  of  89232  documents.  of  89232  documents. of  89232  documents. 89232  documents.84320  of  89232  documents. Calculated centroid vectors for  85380  of  89232  documents.85480  of  89232  documents. Calculated centroid vectors for  86770  of  89232  documents.87180  of  89232  documents. of  89232  documents."
     ]
    }
   ],
   "source": [
    "MS_library.get_vectors_centroid(method = 'ignore', \n",
    "                                 tfidf_weighted = False, \n",
    "                                 weighting_power = 0.5, \n",
    "                                 tfidf_model = None,\n",
    "                                 extra_epochs = 1)"
   ]
  },
  {
   "cell_type": "code",
   "execution_count": 17,
   "metadata": {},
   "outputs": [
    {
     "data": {
      "text/plain": [
       "89232"
      ]
     },
     "execution_count": 17,
     "metadata": {},
     "output_type": "execute_result"
    }
   ],
   "source": [
    "MS_library.vectors_centroid.shape[0]"
   ]
  },
  {
   "cell_type": "markdown",
   "metadata": {},
   "source": [
    "### Save MS_library object (including all computed S2V spectra vectors)"
   ]
  },
  {
   "cell_type": "code",
   "execution_count": 18,
   "metadata": {},
   "outputs": [],
   "source": [
    "MS_library.save(PATH_COMPUTED + 'unkown_spectra_search_191202.obj')"
   ]
  },
  {
   "cell_type": "markdown",
   "metadata": {},
   "source": [
    "### ... or load already built MS_library object:"
   ]
  },
  {
   "cell_type": "code",
   "execution_count": 15,
   "metadata": {},
   "outputs": [],
   "source": [
    "MS_library = SimilarityMeasures([])\n",
    "MS_library.load(PATH_COMPUTED + 'unkown_spectra_search_191202.obj')"
   ]
  },
  {
   "cell_type": "markdown",
   "metadata": {},
   "source": [
    "### Select metadata for library spectra"
   ]
  },
  {
   "cell_type": "code",
   "execution_count": 16,
   "metadata": {},
   "outputs": [
    {
     "data": {
      "text/plain": [
       "(89232, 10)"
      ]
     },
     "execution_count": 16,
     "metadata": {},
     "output_type": "execute_result"
    }
   ],
   "source": [
    "library_spectra_IDs = [x for x in range(len(spectra)) if x not in selected_spectra]\n",
    "library_spectra_metadata = spectra_metadata.loc[library_spectra_IDs]\n",
    "\n",
    "library_spectra_metadata.shape"
   ]
  },
  {
   "cell_type": "code",
   "execution_count": 17,
   "metadata": {},
   "outputs": [
    {
     "data": {
      "text/plain": [
       "(994, 89232)"
      ]
     },
     "execution_count": 17,
     "metadata": {},
     "output_type": "execute_result"
    }
   ],
   "source": [
    "spectra_unknown = [spectra[x] for x in selected_spectra]\n",
    "spectra_library = [spectra[x] for x in range(len(spectra)) if x not in selected_spectra]\n",
    "len(spectra_unknown), len(spectra_library)"
   ]
  },
  {
   "cell_type": "code",
   "execution_count": 18,
   "metadata": {},
   "outputs": [],
   "source": [
    "from MS_library_search import library_matching, vectorize_spectra"
   ]
  },
  {
   "cell_type": "code",
   "execution_count": 19,
   "metadata": {},
   "outputs": [
    {
     "name": "stdout",
     "output_type": "stream",
     "text": [
      "  Created documents for  994  of  994  spectra. 700  of  994  spectra.\n",
      " ----------------------------------------\n",
      "Not all 'words' of the given documents are present in the trained word2vec model!\n",
      "33  out of  55496  'words' were not found in the word2vec model.\n",
      "'Words'missing in the pretrained word2vec model will be ignored.\n",
      "Removing missing 'words' from corpus...\n",
      "----- Deriving Spec2Vec spectra vectors -----\n",
      "  Calculated Spec2Vec spectra vectors for  994  of  994  documents."
     ]
    }
   ],
   "source": [
    "spectra_vectors = vectorize_spectra(spectra_unknown,\n",
    "                                      MS_library,\n",
    "                                      num_decimals = 2,\n",
    "                                      min_loss = 5.0, \n",
    "                                      max_loss = 500.0,\n",
    "                                      peak_loss_words = ['peak_', 'loss_'],\n",
    "                                      weighting_power = 0.5)"
   ]
  },
  {
   "cell_type": "code",
   "execution_count": 20,
   "metadata": {},
   "outputs": [
    {
     "data": {
      "text/plain": [
       "((994, 300), (89232, 300))"
      ]
     },
     "execution_count": 20,
     "metadata": {},
     "output_type": "execute_result"
    }
   ],
   "source": [
    "spectra_vectors[:,:].shape, MS_library.vectors_centroid.shape"
   ]
  },
  {
   "cell_type": "code",
   "execution_count": 21,
   "metadata": {},
   "outputs": [
    {
     "name": "stdout",
     "output_type": "stream",
     "text": [
      "Spec2Vec spectra vectors found for library data.\n"
     ]
    }
   ],
   "source": [
    "found_matches = library_matching(spectra_unknown, \n",
    "                                  spectra_library,\n",
    "                                  library_spectra_metadata, \n",
    "                                  MS_library, \n",
    "                                  top_n = 10,\n",
    "                                  mz_ppm = [2, 10, 20],\n",
    "                                  spectra_vectors = spectra_vectors,\n",
    "                                  ignore_non_annotated = True,\n",
    "                                  cosine_tol = 0.05)"
   ]
  },
  {
   "cell_type": "code",
   "execution_count": 22,
   "metadata": {},
   "outputs": [
    {
     "data": {
      "text/html": [
       "<div>\n",
       "<style scoped>\n",
       "    .dataframe tbody tr th:only-of-type {\n",
       "        vertical-align: middle;\n",
       "    }\n",
       "\n",
       "    .dataframe tbody tr th {\n",
       "        vertical-align: top;\n",
       "    }\n",
       "\n",
       "    .dataframe thead th {\n",
       "        text-align: right;\n",
       "    }\n",
       "</style>\n",
       "<table border=\"1\" class=\"dataframe\">\n",
       "  <thead>\n",
       "    <tr style=\"text-align: right;\">\n",
       "      <th></th>\n",
       "      <th>spectra_ID</th>\n",
       "      <th>mass_match_20ppm</th>\n",
       "      <th>S2V_top_n</th>\n",
       "      <th>S2V_similarity</th>\n",
       "      <th>inchikey_match</th>\n",
       "      <th>mass_match_10ppm</th>\n",
       "      <th>mass_match_2ppm</th>\n",
       "      <th>cosine_score</th>\n",
       "      <th>cosine_matches</th>\n",
       "      <th>modcosine_score</th>\n",
       "      <th>modcosine_matches</th>\n",
       "    </tr>\n",
       "  </thead>\n",
       "  <tbody>\n",
       "    <tr>\n",
       "      <th>0</th>\n",
       "      <td>27799</td>\n",
       "      <td>1</td>\n",
       "      <td>0</td>\n",
       "      <td>0.529763</td>\n",
       "      <td>0</td>\n",
       "      <td>1</td>\n",
       "      <td>1</td>\n",
       "      <td>0.000868</td>\n",
       "      <td>1</td>\n",
       "      <td>0.000868</td>\n",
       "      <td>1</td>\n",
       "    </tr>\n",
       "    <tr>\n",
       "      <th>1</th>\n",
       "      <td>27800</td>\n",
       "      <td>1</td>\n",
       "      <td>0</td>\n",
       "      <td>0.487407</td>\n",
       "      <td>0</td>\n",
       "      <td>1</td>\n",
       "      <td>1</td>\n",
       "      <td>0.001939</td>\n",
       "      <td>3</td>\n",
       "      <td>0.001939</td>\n",
       "      <td>3</td>\n",
       "    </tr>\n",
       "    <tr>\n",
       "      <th>2</th>\n",
       "      <td>27801</td>\n",
       "      <td>1</td>\n",
       "      <td>0</td>\n",
       "      <td>0.532826</td>\n",
       "      <td>0</td>\n",
       "      <td>1</td>\n",
       "      <td>1</td>\n",
       "      <td>0.000391</td>\n",
       "      <td>1</td>\n",
       "      <td>0.000391</td>\n",
       "      <td>1</td>\n",
       "    </tr>\n",
       "    <tr>\n",
       "      <th>3</th>\n",
       "      <td>27802</td>\n",
       "      <td>1</td>\n",
       "      <td>0</td>\n",
       "      <td>0.606895</td>\n",
       "      <td>0</td>\n",
       "      <td>1</td>\n",
       "      <td>1</td>\n",
       "      <td>0.000000</td>\n",
       "      <td>0</td>\n",
       "      <td>0.000000</td>\n",
       "      <td>0</td>\n",
       "    </tr>\n",
       "    <tr>\n",
       "      <th>4</th>\n",
       "      <td>29326</td>\n",
       "      <td>1</td>\n",
       "      <td>0</td>\n",
       "      <td>0.540196</td>\n",
       "      <td>0</td>\n",
       "      <td>1</td>\n",
       "      <td>1</td>\n",
       "      <td>0.001668</td>\n",
       "      <td>2</td>\n",
       "      <td>0.001668</td>\n",
       "      <td>2</td>\n",
       "    </tr>\n",
       "    <tr>\n",
       "      <th>5</th>\n",
       "      <td>29327</td>\n",
       "      <td>1</td>\n",
       "      <td>0</td>\n",
       "      <td>0.593158</td>\n",
       "      <td>0</td>\n",
       "      <td>1</td>\n",
       "      <td>1</td>\n",
       "      <td>0.000000</td>\n",
       "      <td>0</td>\n",
       "      <td>0.000000</td>\n",
       "      <td>0</td>\n",
       "    </tr>\n",
       "    <tr>\n",
       "      <th>6</th>\n",
       "      <td>29328</td>\n",
       "      <td>1</td>\n",
       "      <td>0</td>\n",
       "      <td>0.608804</td>\n",
       "      <td>0</td>\n",
       "      <td>1</td>\n",
       "      <td>1</td>\n",
       "      <td>0.020428</td>\n",
       "      <td>3</td>\n",
       "      <td>0.020428</td>\n",
       "      <td>3</td>\n",
       "    </tr>\n",
       "    <tr>\n",
       "      <th>7</th>\n",
       "      <td>29329</td>\n",
       "      <td>1</td>\n",
       "      <td>0</td>\n",
       "      <td>0.614740</td>\n",
       "      <td>0</td>\n",
       "      <td>1</td>\n",
       "      <td>1</td>\n",
       "      <td>0.122249</td>\n",
       "      <td>1</td>\n",
       "      <td>0.122249</td>\n",
       "      <td>1</td>\n",
       "    </tr>\n",
       "    <tr>\n",
       "      <th>8</th>\n",
       "      <td>32294</td>\n",
       "      <td>1</td>\n",
       "      <td>0</td>\n",
       "      <td>0.088468</td>\n",
       "      <td>0</td>\n",
       "      <td>1</td>\n",
       "      <td>1</td>\n",
       "      <td>0.000038</td>\n",
       "      <td>1</td>\n",
       "      <td>0.000038</td>\n",
       "      <td>1</td>\n",
       "    </tr>\n",
       "    <tr>\n",
       "      <th>9</th>\n",
       "      <td>28858</td>\n",
       "      <td>0</td>\n",
       "      <td>1</td>\n",
       "      <td>0.780471</td>\n",
       "      <td>0</td>\n",
       "      <td>0</td>\n",
       "      <td>0</td>\n",
       "      <td>0.022819</td>\n",
       "      <td>3</td>\n",
       "      <td>0.022819</td>\n",
       "      <td>3</td>\n",
       "    </tr>\n",
       "    <tr>\n",
       "      <th>10</th>\n",
       "      <td>28753</td>\n",
       "      <td>0</td>\n",
       "      <td>1</td>\n",
       "      <td>0.720565</td>\n",
       "      <td>0</td>\n",
       "      <td>0</td>\n",
       "      <td>0</td>\n",
       "      <td>0.011540</td>\n",
       "      <td>1</td>\n",
       "      <td>0.011540</td>\n",
       "      <td>1</td>\n",
       "    </tr>\n",
       "    <tr>\n",
       "      <th>11</th>\n",
       "      <td>28545</td>\n",
       "      <td>0</td>\n",
       "      <td>1</td>\n",
       "      <td>0.718255</td>\n",
       "      <td>0</td>\n",
       "      <td>0</td>\n",
       "      <td>0</td>\n",
       "      <td>0.115099</td>\n",
       "      <td>4</td>\n",
       "      <td>0.115099</td>\n",
       "      <td>4</td>\n",
       "    </tr>\n",
       "    <tr>\n",
       "      <th>12</th>\n",
       "      <td>28752</td>\n",
       "      <td>0</td>\n",
       "      <td>1</td>\n",
       "      <td>0.712252</td>\n",
       "      <td>0</td>\n",
       "      <td>0</td>\n",
       "      <td>0</td>\n",
       "      <td>0.000000</td>\n",
       "      <td>0</td>\n",
       "      <td>0.000000</td>\n",
       "      <td>0</td>\n",
       "    </tr>\n",
       "    <tr>\n",
       "      <th>13</th>\n",
       "      <td>28947</td>\n",
       "      <td>0</td>\n",
       "      <td>1</td>\n",
       "      <td>0.706513</td>\n",
       "      <td>0</td>\n",
       "      <td>0</td>\n",
       "      <td>0</td>\n",
       "      <td>0.019983</td>\n",
       "      <td>2</td>\n",
       "      <td>0.024470</td>\n",
       "      <td>3</td>\n",
       "    </tr>\n",
       "    <tr>\n",
       "      <th>14</th>\n",
       "      <td>28857</td>\n",
       "      <td>0</td>\n",
       "      <td>1</td>\n",
       "      <td>0.705619</td>\n",
       "      <td>0</td>\n",
       "      <td>0</td>\n",
       "      <td>0</td>\n",
       "      <td>0.002288</td>\n",
       "      <td>3</td>\n",
       "      <td>0.002288</td>\n",
       "      <td>3</td>\n",
       "    </tr>\n",
       "    <tr>\n",
       "      <th>15</th>\n",
       "      <td>29252</td>\n",
       "      <td>0</td>\n",
       "      <td>1</td>\n",
       "      <td>0.703420</td>\n",
       "      <td>0</td>\n",
       "      <td>0</td>\n",
       "      <td>0</td>\n",
       "      <td>0.238369</td>\n",
       "      <td>2</td>\n",
       "      <td>0.306956</td>\n",
       "      <td>4</td>\n",
       "    </tr>\n",
       "    <tr>\n",
       "      <th>16</th>\n",
       "      <td>28649</td>\n",
       "      <td>0</td>\n",
       "      <td>1</td>\n",
       "      <td>0.702473</td>\n",
       "      <td>0</td>\n",
       "      <td>0</td>\n",
       "      <td>0</td>\n",
       "      <td>0.039125</td>\n",
       "      <td>2</td>\n",
       "      <td>0.041265</td>\n",
       "      <td>3</td>\n",
       "    </tr>\n",
       "    <tr>\n",
       "      <th>17</th>\n",
       "      <td>29034</td>\n",
       "      <td>0</td>\n",
       "      <td>1</td>\n",
       "      <td>0.702169</td>\n",
       "      <td>0</td>\n",
       "      <td>0</td>\n",
       "      <td>0</td>\n",
       "      <td>0.016479</td>\n",
       "      <td>1</td>\n",
       "      <td>0.039199</td>\n",
       "      <td>3</td>\n",
       "    </tr>\n",
       "    <tr>\n",
       "      <th>18</th>\n",
       "      <td>29069</td>\n",
       "      <td>0</td>\n",
       "      <td>1</td>\n",
       "      <td>0.701592</td>\n",
       "      <td>0</td>\n",
       "      <td>0</td>\n",
       "      <td>0</td>\n",
       "      <td>0.084227</td>\n",
       "      <td>2</td>\n",
       "      <td>0.084788</td>\n",
       "      <td>3</td>\n",
       "    </tr>\n",
       "  </tbody>\n",
       "</table>\n",
       "</div>"
      ],
      "text/plain": [
       "    spectra_ID  mass_match_20ppm  S2V_top_n  S2V_similarity  inchikey_match  \\\n",
       "0        27799                 1          0        0.529763               0   \n",
       "1        27800                 1          0        0.487407               0   \n",
       "2        27801                 1          0        0.532826               0   \n",
       "3        27802                 1          0        0.606895               0   \n",
       "4        29326                 1          0        0.540196               0   \n",
       "5        29327                 1          0        0.593158               0   \n",
       "6        29328                 1          0        0.608804               0   \n",
       "7        29329                 1          0        0.614740               0   \n",
       "8        32294                 1          0        0.088468               0   \n",
       "9        28858                 0          1        0.780471               0   \n",
       "10       28753                 0          1        0.720565               0   \n",
       "11       28545                 0          1        0.718255               0   \n",
       "12       28752                 0          1        0.712252               0   \n",
       "13       28947                 0          1        0.706513               0   \n",
       "14       28857                 0          1        0.705619               0   \n",
       "15       29252                 0          1        0.703420               0   \n",
       "16       28649                 0          1        0.702473               0   \n",
       "17       29034                 0          1        0.702169               0   \n",
       "18       29069                 0          1        0.701592               0   \n",
       "\n",
       "    mass_match_10ppm  mass_match_2ppm  cosine_score  cosine_matches  \\\n",
       "0                  1                1      0.000868               1   \n",
       "1                  1                1      0.001939               3   \n",
       "2                  1                1      0.000391               1   \n",
       "3                  1                1      0.000000               0   \n",
       "4                  1                1      0.001668               2   \n",
       "5                  1                1      0.000000               0   \n",
       "6                  1                1      0.020428               3   \n",
       "7                  1                1      0.122249               1   \n",
       "8                  1                1      0.000038               1   \n",
       "9                  0                0      0.022819               3   \n",
       "10                 0                0      0.011540               1   \n",
       "11                 0                0      0.115099               4   \n",
       "12                 0                0      0.000000               0   \n",
       "13                 0                0      0.019983               2   \n",
       "14                 0                0      0.002288               3   \n",
       "15                 0                0      0.238369               2   \n",
       "16                 0                0      0.039125               2   \n",
       "17                 0                0      0.016479               1   \n",
       "18                 0                0      0.084227               2   \n",
       "\n",
       "    modcosine_score  modcosine_matches  \n",
       "0          0.000868                  1  \n",
       "1          0.001939                  3  \n",
       "2          0.000391                  1  \n",
       "3          0.000000                  0  \n",
       "4          0.001668                  2  \n",
       "5          0.000000                  0  \n",
       "6          0.020428                  3  \n",
       "7          0.122249                  1  \n",
       "8          0.000038                  1  \n",
       "9          0.022819                  3  \n",
       "10         0.011540                  1  \n",
       "11         0.115099                  4  \n",
       "12         0.000000                  0  \n",
       "13         0.024470                  3  \n",
       "14         0.002288                  3  \n",
       "15         0.306956                  4  \n",
       "16         0.041265                  3  \n",
       "17         0.039199                  3  \n",
       "18         0.084788                  3  "
      ]
     },
     "execution_count": 22,
     "metadata": {},
     "output_type": "execute_result"
    }
   ],
   "source": [
    "found_matches[120]"
   ]
  },
  {
   "cell_type": "code",
   "execution_count": 24,
   "metadata": {},
   "outputs": [
    {
     "data": {
      "text/plain": [
       "['BMKQPAJRQUUYGC-UHFFFAOYSA-N',\n",
       " 'BMKQPAJRQUUYGC-UHFFFAOYSA-N',\n",
       " 'BMKQPAJRQUUYGC-UHFFFAOYSA-N',\n",
       " 'DDNPCXHBFYJXBJ-UHFFFAOYSA-N',\n",
       " 'DDNPCXHBFYJXBJ-UHFFFAOYSA-N',\n",
       " 'DDNPCXHBFYJXBJ-UHFFFAOYSA-N']"
      ]
     },
     "execution_count": 24,
     "metadata": {},
     "output_type": "execute_result"
    }
   ],
   "source": [
    "ID = 20#80\n",
    "\n",
    "match_IDs = found_matches[ID][found_matches[ID]['mass_match_10ppm']==1]['spectra_ID'].values.tolist()\n",
    "[spectra_library[x].inchikey for x in match_IDs]"
   ]
  },
  {
   "cell_type": "code",
   "execution_count": 59,
   "metadata": {},
   "outputs": [
    {
     "name": "stdout",
     "output_type": "stream",
     "text": [
      "mass matching\n",
      "---- (1) Generating RDkit molecules from inchi or smiles...\n",
      "---- (2) Generating fingerprints from molecules...\n",
      "---- (1) Generating RDkit molecules from inchi or smiles...\n",
      "---- (2) Generating fingerprints from molecules...\n",
      "\r",
      " Calculated submatrix 1 out of 1----------------------------------------\n",
      "Succesfully calculated matrix containing all-vs-all molecular similarity values.\n",
      "[[0.2074131  0.22222832 0.1694113  0.20184778 0.16806139 0.16296743\n",
      "  0.12738595 0.16058822 0.08956222 0.14969624 0.14969624 0.1694113\n",
      "  0.1694113  0.1694113  0.20184778 0.20184778 0.20184778 0.18190172\n",
      "  0.18190172 0.18190172 0.16296743 0.16296743 0.16296743]]\n",
      "\n",
      "\n",
      "Spec2Vec matching\n",
      "---- (1) Generating RDkit molecules from inchi or smiles...\n",
      "---- (2) Generating fingerprints from molecules...\n",
      "---- (1) Generating RDkit molecules from inchi or smiles...\n",
      "---- (2) Generating fingerprints from molecules...\n",
      "\r",
      " Calculated submatrix 1 out of 1----------------------------------------\n",
      "Succesfully calculated matrix containing all-vs-all molecular similarity values.\n",
      "[[0.50520718 0.48507125 0.45834925 0.45834925 0.38810293 0.45834925\n",
      "  0.37896191 0.13812278 0.45834925 0.19870653]]\n",
      "\n",
      "\n",
      "Spec2Vec + mod.cosine matching\n",
      "---- (1) Generating RDkit molecules from inchi or smiles...\n",
      "---- (2) Generating fingerprints from molecules...\n",
      "---- (1) Generating RDkit molecules from inchi or smiles...\n",
      "---- (2) Generating fingerprints from molecules...\n",
      "\r",
      " Calculated submatrix 1 out of 1----------------------------------------\n",
      "Succesfully calculated matrix containing all-vs-all molecular similarity values.\n",
      "[[0.45834925 0.45834925 0.45834925 0.45834925 0.48507125 0.50520718\n",
      "  0.19870653 0.37896191 0.13812278 0.38810293]]\n"
     ]
    }
   ],
   "source": [
    "ID = 90\n",
    "\n",
    "print(\"mass matching\")\n",
    "\n",
    "match_IDs = found_matches[ID][found_matches[ID]['mass_match_20ppm']==1]['spectra_ID'].values.tolist()\n",
    "if len(match_IDs) > 0:\n",
    "    fingerprint_query, _ = MS_functions.get_mol_fingerprints([spectra_unknown[ID]], method = \"morgan3\", nBits = 2048)\n",
    "    fingerprint_matches, _ = MS_functions.get_mol_fingerprints([spectra_library[x] for x in match_IDs], method = \"morgan3\", nBits = 2048)\n",
    "\n",
    "    # calculate similarities\n",
    "    Mtest = MS_sim_classic.mol_sim_matrix(fingerprint_query,\n",
    "                       fingerprint_matches,\n",
    "                       method = 'cosine',\n",
    "                       filename = None,\n",
    "                       max_size = 1000)\n",
    "\n",
    "    print(Mtest)\n",
    "    \n",
    "    \n",
    "print('\\n')\n",
    "print(\"Spec2Vec matching\")\n",
    "\n",
    "match_IDs = found_matches[ID][found_matches[ID]['S2V_top_n']==1]['spectra_ID'].values.tolist()\n",
    "if len(match_IDs) > 0:\n",
    "    fingerprint_query, _ = MS_functions.get_mol_fingerprints([spectra_unknown[ID]], method = \"morgan3\", nBits = 2048)\n",
    "    fingerprint_matches, _ = MS_functions.get_mol_fingerprints([spectra_library[x] for x in match_IDs], method = \"morgan3\", nBits = 2048)\n",
    "\n",
    "    # calculate similarities\n",
    "    Mtest = MS_sim_classic.mol_sim_matrix(fingerprint_query,\n",
    "                       fingerprint_matches,\n",
    "                       method = 'cosine',\n",
    "                       filename = None,\n",
    "                       max_size = 1000)\n",
    "\n",
    "    print(Mtest)\n",
    "    \n",
    "    \n",
    "print('\\n')\n",
    "print(\"Spec2Vec + mod.cosine matching\")\n",
    "\n",
    "match_IDs = found_matches[ID][found_matches[ID]['S2V_top_n']==1].sort_values(by=['cosine_score', 'modcosine_score'], ascending=False)['spectra_ID'].values.tolist()\n",
    "if len(match_IDs) > 0:\n",
    "    fingerprint_query, _ = MS_functions.get_mol_fingerprints([spectra_unknown[ID]], method = \"morgan3\", nBits = 2048)\n",
    "    fingerprint_matches, _ = MS_functions.get_mol_fingerprints([spectra_library[x] for x in match_IDs], method = \"morgan3\", nBits = 2048)\n",
    "\n",
    "    # calculate similarities\n",
    "    Mtest = MS_sim_classic.mol_sim_matrix(fingerprint_query,\n",
    "                       fingerprint_matches,\n",
    "                       method = 'cosine',\n",
    "                       filename = None,\n",
    "                       max_size = 1000)\n",
    "\n",
    "    print(Mtest)"
   ]
  },
  {
   "cell_type": "markdown",
   "metadata": {},
   "source": [
    "## Collect all top-10 matches based on Spec2Vec similarity"
   ]
  },
  {
   "cell_type": "code",
   "execution_count": 23,
   "metadata": {},
   "outputs": [
    {
     "name": "stdout",
     "output_type": "stream",
     "text": [
      "No proper molecule generated for spectrum 4\n",
      "Problem with molecule from spectrum 4\n",
      "No proper molecule generated for spectrum 0\n",
      "No proper molecule generated for spectrum 1\n",
      "No proper molecule generated for spectrum 2\n",
      "Problem with molecule from spectrum 0\n",
      "Problem with molecule from spectrum 1\n",
      "Problem with molecule from spectrum 2\n",
      "No proper molecule generated for spectrum 2\n",
      "No proper molecule generated for spectrum 3\n",
      "Problem with molecule from spectrum 2\n",
      "Problem with molecule from spectrum 3\n",
      "No proper molecule generated for spectrum 7\n",
      "No proper molecule generated for spectrum 9\n",
      "Problem with molecule from spectrum 7\n",
      "Problem with molecule from spectrum 9\n"
     ]
    }
   ],
   "source": [
    "mol_sim_matches_s2v = []\n",
    "\n",
    "for ID in range(len(spectra_unknown)):\n",
    "    match_IDs = found_matches[ID][found_matches[ID]['S2V_top_n']==1]['spectra_ID'].values.tolist()\n",
    "    if len(match_IDs) > 0:\n",
    "        fingerprint_query, _ = MS_functions.get_mol_fingerprints([spectra_unknown[ID]], \n",
    "                                                                 method = \"morgan3\", \n",
    "                                                                 nBits = 2048,\n",
    "                                                                 print_progress = False)\n",
    "        fingerprint_matches, _ = MS_functions.get_mol_fingerprints([spectra_library[x] for x in match_IDs], \n",
    "                                                                 method = \"morgan3\", \n",
    "                                                                 nBits = 2048,\n",
    "                                                                 print_progress = False)\n",
    "\n",
    "        # calculate similarities\n",
    "        Mtest = MS_sim_classic.mol_sim_matrix(fingerprint_query,\n",
    "                                               fingerprint_matches,\n",
    "                                               method = 'cosine',\n",
    "                                               filename = None,\n",
    "                                               max_size = 1000,\n",
    "                                               print_progress = False)\n",
    "\n",
    "        mol_sim_matches_s2v.append(Mtest)"
   ]
  },
  {
   "cell_type": "code",
   "execution_count": 24,
   "metadata": {},
   "outputs": [
    {
     "data": {
      "text/plain": [
       "array([[0.40653258, 0.39013282, 0.36704279, 0.35853271, 0.34964608,\n",
       "        0.34487717, 0.34230918, 0.32629297, 0.32689526, 0.32723325]])"
      ]
     },
     "execution_count": 24,
     "metadata": {},
     "output_type": "execute_result"
    }
   ],
   "source": [
    "mol_sim_matches_s2v_arr = np.array(mol_sim_matches_s2v)\n",
    "np.mean(np.nan_to_num(mol_sim_matches_s2v_arr), axis = 0)"
   ]
  },
  {
   "cell_type": "code",
   "execution_count": 25,
   "metadata": {},
   "outputs": [
    {
     "name": "stderr",
     "output_type": "stream",
     "text": [
      "C:\\Users\\FlorianHuber\\Anaconda3\\envs\\SeSiMe\\lib\\site-packages\\numpy\\lib\\histograms.py:754: RuntimeWarning: invalid value encountered in greater_equal\n",
      "  keep = (tmp_a >= first_edge)\n",
      "C:\\Users\\FlorianHuber\\Anaconda3\\envs\\SeSiMe\\lib\\site-packages\\numpy\\lib\\histograms.py:755: RuntimeWarning: invalid value encountered in less_equal\n",
      "  keep &= (tmp_a <= last_edge)\n"
     ]
    },
    {
     "data": {
      "text/plain": [
       "(array([14., 37., 80., 97., 88., 80., 43., 46., 61., 35., 32., 21., 28.,\n",
       "        29., 21., 18., 20., 44., 58., 12., 24., 54.,  7., 13., 31.]),\n",
       " array([0.  , 0.04, 0.08, 0.12, 0.16, 0.2 , 0.24, 0.28, 0.32, 0.36, 0.4 ,\n",
       "        0.44, 0.48, 0.52, 0.56, 0.6 , 0.64, 0.68, 0.72, 0.76, 0.8 , 0.84,\n",
       "        0.88, 0.92, 0.96, 1.  ]),\n",
       " <a list of 25 Patch objects>)"
      ]
     },
     "execution_count": 25,
     "metadata": {},
     "output_type": "execute_result"
    },
    {
     "data": {
      "image/png": "[encoded data removed]",
      "text/plain": [
       "<Figure size 432x288 with 1 Axes>"
      ]
     },
     "metadata": {
      "needs_background": "light"
     },
     "output_type": "display_data"
    }
   ],
   "source": [
    "plt.hist(mol_sim_matches_s2v_arr[:,0,0], 25)"
   ]
  },
  {
   "cell_type": "markdown",
   "metadata": {},
   "source": [
    "## Use precursor mz to search similar spectra"
   ]
  },
  {
   "cell_type": "code",
   "execution_count": 101,
   "metadata": {},
   "outputs": [
    {
     "name": "stdout",
     "output_type": "stream",
     "text": [
      "No proper molecule generated for spectrum 3\n",
      "No proper molecule generated for spectrum 4\n",
      "No proper molecule generated for spectrum 5\n",
      "No proper molecule generated for spectrum 6\n",
      "Problem with molecule from spectrum 3\n",
      "Problem with molecule from spectrum 4\n",
      "Problem with molecule from spectrum 5\n",
      "Problem with molecule from spectrum 6\n"
     ]
    }
   ],
   "source": [
    "mol_sim_matches_mass = []\n",
    "\n",
    "for ID in range(len(spectra_unknown)):\n",
    "    match_IDs = found_matches[ID][found_matches[ID]['mass_match_10ppm']==1]['spectra_ID'].values.tolist()\n",
    "    if len(match_IDs) > 0:\n",
    "        fingerprint_query, _ = MS_functions.get_mol_fingerprints([spectra_unknown[ID]], \n",
    "                                                                 method = \"daylight\", #morgan3\", \n",
    "                                                                 nBits = 2048,\n",
    "                                                                 print_progress = False)\n",
    "        fingerprint_matches, _ = MS_functions.get_mol_fingerprints([spectra_library[x] for x in match_IDs], \n",
    "                                                                 method = \"daylight\", #morgan3\",  \n",
    "                                                                 nBits = 2048,\n",
    "                                                                 print_progress = False)\n",
    "\n",
    "        # calculate similarities\n",
    "        Mtest = MS_sim_classic.mol_sim_matrix(fingerprint_query,\n",
    "                                               fingerprint_matches,\n",
    "                                               method = 'jaccard',\n",
    "                                               filename = None,\n",
    "                                               max_size = 1000,\n",
    "                                               print_progress = False)\n",
    "\n",
    "        mol_sim_matches_mass.append(Mtest)"
   ]
  },
  {
   "cell_type": "code",
   "execution_count": 102,
   "metadata": {},
   "outputs": [
    {
     "name": "stdout",
     "output_type": "stream",
     "text": [
      "Found matches for 617 spectra out of 994 spectra in total.\n"
     ]
    }
   ],
   "source": [
    "print(\"Found matches for\", len(mol_sim_matches_mass), \"spectra out of\", len(spectra_unknown), \"spectra in total.\")"
   ]
  },
  {
   "cell_type": "code",
   "execution_count": 103,
   "metadata": {},
   "outputs": [
    {
     "data": {
      "text/plain": [
       "array([0.46958705, 0.4591534 , 0.46448891, 0.47239599, 0.45815543,\n",
       "       0.48435784, 0.51347674, 0.48661704, 0.47868342, 0.48633372])"
      ]
     },
     "execution_count": 103,
     "metadata": {},
     "output_type": "execute_result"
    }
   ],
   "source": [
    "mol_sim_matches_mass_mean = np.zeros((10))\n",
    "mol_sim_matches_mass_counts = np.zeros((10))\n",
    "top1_lst = []\n",
    "\n",
    "for matches in mol_sim_matches_mass:\n",
    "    matches = np.nan_to_num(matches[0])\n",
    "    high = min(len(matches),10)\n",
    "    if high > 0:\n",
    "        top1_lst.append(matches[0])\n",
    "        mol_sim_matches_mass_mean[:high] = mol_sim_matches_mass_mean[:high] + np.array(matches[:high])\n",
    "        mol_sim_matches_mass_counts[:high] = mol_sim_matches_mass_counts[:high] + np.ones(high)\n",
    "\n",
    "mol_sim_matches_mass_arr1 = np.array(top1_lst)    \n",
    "    \n",
    "mol_sim_matches_mass_mean/mol_sim_matches_mass_counts"
   ]
  },
  {
   "cell_type": "code",
   "execution_count": 104,
   "metadata": {},
   "outputs": [
    {
     "data": {
      "text/plain": [
       "(array([ 3., 10., 49., 26., 29., 31., 70., 39., 54., 26., 28., 25.,  6.,\n",
       "        22., 18.,  8., 26., 11.,  9., 12., 12.,  0.,  3., 36., 64.]),\n",
       " array([0.0212766 , 0.06042553, 0.09957447, 0.1387234 , 0.17787234,\n",
       "        0.21702128, 0.25617021, 0.29531915, 0.33446809, 0.37361702,\n",
       "        0.41276596, 0.45191489, 0.49106383, 0.53021277, 0.5693617 ,\n",
       "        0.60851064, 0.64765957, 0.68680851, 0.72595745, 0.76510638,\n",
       "        0.80425532, 0.84340426, 0.88255319, 0.92170213, 0.96085106,\n",
       "        1.        ]),\n",
       " <a list of 25 Patch objects>)"
      ]
     },
     "execution_count": 104,
     "metadata": {},
     "output_type": "execute_result"
    },
    {
     "data": {
      "image/png": "[encoded data removed]",
      "text/plain": [
       "<Figure size 432x288 with 1 Axes>"
      ]
     },
     "metadata": {
      "needs_background": "light"
     },
     "output_type": "display_data"
    }
   ],
   "source": [
    "plt.hist(mol_sim_matches_mass_arr1, 25)"
   ]
  },
  {
   "cell_type": "markdown",
   "metadata": {},
   "source": [
    "## Same for morgan3 fingerprints and cosine similarity"
   ]
  },
  {
   "cell_type": "code",
   "execution_count": 32,
   "metadata": {},
   "outputs": [
    {
     "data": {
      "text/plain": [
       "(array([ 44.,  69., 116.,  64.,  63.,  16.,  25.,  10.,  30.,  21.,  29.,\n",
       "          8.,   1.,   9.,   1.,   9.,   6.,  47.,  18.,   0.,   2.,   3.,\n",
       "          1.,   9.,  16.]),\n",
       " array([0.06745406, 0.10432808, 0.1412021 , 0.17807612, 0.21495013,\n",
       "        0.25182415, 0.28869817, 0.32557219, 0.3624462 , 0.39932022,\n",
       "        0.43619424, 0.47306826, 0.50994228, 0.54681629, 0.58369031,\n",
       "        0.62056433, 0.65743835, 0.69431236, 0.73118638, 0.7680604 ,\n",
       "        0.80493442, 0.84180843, 0.87868245, 0.91555647, 0.95243049,\n",
       "        0.98930451]),\n",
       " <a list of 25 Patch objects>)"
      ]
     },
     "execution_count": 32,
     "metadata": {},
     "output_type": "execute_result"
    },
    {
     "data": {
      "image/png": "[encoded data removed]",
      "text/plain": [
       "<Figure size 432x288 with 1 Axes>"
      ]
     },
     "metadata": {
      "needs_background": "light"
     },
     "output_type": "display_data"
    }
   ],
   "source": [
    "plt.hist(mol_sim_matches_mass_arr1, 25)"
   ]
  },
  {
   "cell_type": "markdown",
   "metadata": {},
   "source": [
    "## Search for both mass and S2V score"
   ]
  },
  {
   "cell_type": "code",
   "execution_count": 106,
   "metadata": {},
   "outputs": [
    {
     "name": "stdout",
     "output_type": "stream",
     "text": [
      "No proper molecule generated for spectrum 0\n",
      "No proper molecule generated for spectrum 1\n",
      "No proper molecule generated for spectrum 2\n",
      "Problem with molecule from spectrum 0\n",
      "Problem with molecule from spectrum 1\n",
      "Problem with molecule from spectrum 2\n"
     ]
    }
   ],
   "source": [
    "mol_sim_matches_mass_s2vmodcos = []\n",
    "\n",
    "for ID in range(len(spectra_unknown)):\n",
    "    match_IDs = found_matches[ID][((found_matches[ID]['mass_match_10ppm']==1)\n",
    "                                 & (found_matches[ID]['modcosine_score'] > 0.5))\n",
    "                                 | ((found_matches[ID]['S2V_top_n']==1)\n",
    "                                  & (found_matches[ID]['S2V_similarity'] > 0.6))]['spectra_ID'].values.tolist()\n",
    "    if len(match_IDs) > 0:\n",
    "        fingerprint_query, _ = MS_functions.get_mol_fingerprints([spectra_unknown[ID]], \n",
    "                                                                 method = \"daylight\", #morgan3\", \n",
    "                                                                 nBits = 2048,\n",
    "                                                                 print_progress = False)\n",
    "        fingerprint_matches, _ = MS_functions.get_mol_fingerprints([spectra_library[x] for x in match_IDs], \n",
    "                                                                 method = \"daylight\", #morgan3\",  \n",
    "                                                                 nBits = 2048,\n",
    "                                                                 print_progress = False)\n",
    "\n",
    "        # calculate similarities\n",
    "        Mtest = MS_sim_classic.mol_sim_matrix(fingerprint_query,\n",
    "                                               fingerprint_matches,\n",
    "                                               method = 'jaccard',\n",
    "                                               filename = None,\n",
    "                                               max_size = 1000,\n",
    "                                               print_progress = False)\n",
    "\n",
    "        mol_sim_matches_mass_s2vmodcos.append(Mtest)"
   ]
  },
  {
   "cell_type": "code",
   "execution_count": 110,
   "metadata": {},
   "outputs": [
    {
     "data": {
      "text/plain": [
       "array([0.55602125, 0.54701678, 0.51963064, 0.50768641, 0.50288268,\n",
       "       0.50292098, 0.49342038, 0.47766954, 0.46776428, 0.48075081])"
      ]
     },
     "execution_count": 110,
     "metadata": {},
     "output_type": "execute_result"
    }
   ],
   "source": [
    "mol_sim_matches_mass_s2vmodcos_mean = np.zeros((10))\n",
    "mol_sim_matches_mass_s2vmodcos_counts = np.zeros((10))\n",
    "top1_lst = []\n",
    "\n",
    "for matches in mol_sim_matches_mass_s2vmodcos:\n",
    "    matches = np.nan_to_num(matches[0])\n",
    "    high = min(len(matches),10)\n",
    "    if high > 0:\n",
    "        top1_lst.append(matches[0])\n",
    "        mol_sim_matches_mass_s2vmodcos_mean[:high] = mol_sim_matches_mass_s2vmodcos_mean[:high] + np.array(matches[:high])\n",
    "        mol_sim_matches_mass_s2vmodcos_counts[:high] = mol_sim_matches_mass_s2vmodcos_counts[:high] + np.ones(high)\n",
    "\n",
    "mol_sim_matches_mass_s2vmodcos_arr1 = np.array(top1_lst)    \n",
    "    \n",
    "mol_sim_matches_mass_s2vmodcos_mean/mol_sim_matches_mass_s2vmodcos_counts"
   ]
  },
  {
   "cell_type": "code",
   "execution_count": 111,
   "metadata": {},
   "outputs": [
    {
     "data": {
      "text/plain": [
       "(array([ 10.,  22.,  36.,  53.,  31.,  24.,  29.,  18.,  41.,  29.,  15.,\n",
       "         16.,  29.,  16.,  15.,  12.,  21.,  24.,  15.,  39.,  10.,  10.,\n",
       "         37.,  62., 107.]),\n",
       " array([0.  , 0.04, 0.08, 0.12, 0.16, 0.2 , 0.24, 0.28, 0.32, 0.36, 0.4 ,\n",
       "        0.44, 0.48, 0.52, 0.56, 0.6 , 0.64, 0.68, 0.72, 0.76, 0.8 , 0.84,\n",
       "        0.88, 0.92, 0.96, 1.  ]),\n",
       " <a list of 25 Patch objects>)"
      ]
     },
     "execution_count": 111,
     "metadata": {},
     "output_type": "execute_result"
    },
    {
     "data": {
      "image/png": "[encoded data removed]",
      "text/plain": [
       "<Figure size 432x288 with 1 Axes>"
      ]
     },
     "metadata": {
      "needs_background": "light"
     },
     "output_type": "display_data"
    }
   ],
   "source": [
    "plt.hist(mol_sim_matches_mass_s2vmodcos_arr1, 25)"
   ]
  },
  {
   "cell_type": "markdown",
   "metadata": {},
   "source": [
    "## Search based on S2V only"
   ]
  },
  {
   "cell_type": "code",
   "execution_count": 152,
   "metadata": {},
   "outputs": [
    {
     "name": "stdout",
     "output_type": "stream",
     "text": [
      "No proper molecule generated for spectrum 0\n",
      "No proper molecule generated for spectrum 1\n",
      "No proper molecule generated for spectrum 2\n",
      "Problem with molecule from spectrum 0\n",
      "Problem with molecule from spectrum 1\n",
      "Problem with molecule from spectrum 2\n"
     ]
    }
   ],
   "source": [
    "mol_sim_matches_s2v_thres = []\n",
    "\n",
    "for ID in range(len(spectra_unknown)):\n",
    "    match_IDs = found_matches[ID][(found_matches[ID]['S2V_top_n']==1)\n",
    "                                  & (found_matches[ID]['S2V_similarity'] > 0.6)]['spectra_ID'].values.tolist()\n",
    "    if len(match_IDs) > 0:\n",
    "        fingerprint_query, _ = MS_functions.get_mol_fingerprints([spectra_unknown[ID]], \n",
    "                                                                 method = \"daylight\", #morgan3\", \n",
    "                                                                 nBits = 2048,\n",
    "                                                                 print_progress = False)\n",
    "        fingerprint_matches, _ = MS_functions.get_mol_fingerprints([spectra_library[x] for x in match_IDs], \n",
    "                                                                 method = \"daylight\", #morgan3\",  \n",
    "                                                                 nBits = 2048,\n",
    "                                                                 print_progress = False)\n",
    "\n",
    "        # calculate similarities\n",
    "        Mtest = MS_sim_classic.mol_sim_matrix(fingerprint_query,\n",
    "                                               fingerprint_matches,\n",
    "                                               method = 'jaccard',\n",
    "                                               filename = None,\n",
    "                                               max_size = 1000,\n",
    "                                               print_progress = False)\n",
    "\n",
    "        mol_sim_matches_s2v_thres.append(Mtest)"
   ]
  },
  {
   "cell_type": "code",
   "execution_count": 153,
   "metadata": {},
   "outputs": [
    {
     "name": "stdout",
     "output_type": "stream",
     "text": [
      "Found matches for 699 spectra out of 994 spectra in total.\n"
     ]
    }
   ],
   "source": [
    "print(\"Found matches for\", len(mol_sim_matches_s2v_thres), \"spectra out of\", len(spectra_unknown), \"spectra in total.\")"
   ]
  },
  {
   "cell_type": "code",
   "execution_count": 154,
   "metadata": {},
   "outputs": [
    {
     "name": "stdout",
     "output_type": "stream",
     "text": [
      "Mean molecular similarity: 0.5494145527725738\n"
     ]
    }
   ],
   "source": [
    "print(\"Mean molecular similarity:\", np.mean([x[0][0] for x in mol_sim_matches_s2v_thres]))"
   ]
  },
  {
   "cell_type": "code",
   "execution_count": 155,
   "metadata": {},
   "outputs": [
    {
     "data": {
      "text/plain": [
       "(array([10., 23., 36., 51., 33., 21., 29., 19., 40., 25., 15., 14., 34.,\n",
       "        12., 16., 12., 19., 24., 15., 38.,  9., 12., 38., 58., 96.]),\n",
       " array([0.  , 0.04, 0.08, 0.12, 0.16, 0.2 , 0.24, 0.28, 0.32, 0.36, 0.4 ,\n",
       "        0.44, 0.48, 0.52, 0.56, 0.6 , 0.64, 0.68, 0.72, 0.76, 0.8 , 0.84,\n",
       "        0.88, 0.92, 0.96, 1.  ]),\n",
       " <a list of 25 Patch objects>)"
      ]
     },
     "execution_count": 155,
     "metadata": {},
     "output_type": "execute_result"
    },
    {
     "data": {
      "image/png": "[encoded data removed]",
      "text/plain": [
       "<Figure size 432x288 with 1 Axes>"
      ]
     },
     "metadata": {
      "needs_background": "light"
     },
     "output_type": "display_data"
    }
   ],
   "source": [
    "plt.hist(np.array([x[0][0] for x in mol_sim_matches_s2v_thres]), 25)"
   ]
  },
  {
   "cell_type": "markdown",
   "metadata": {},
   "source": [
    "## Search including S2V and mod.cosine scores"
   ]
  },
  {
   "cell_type": "code",
   "execution_count": 97,
   "metadata": {},
   "outputs": [],
   "source": [
    "mol_sim_matches_s2v_thres = []\n",
    "\n",
    "for ID in range(len(spectra_unknown)):\n",
    "    match_IDs = found_matches[ID][(found_matches[ID]['S2V_top_n']==1)\n",
    "                                  & (found_matches[ID]['S2V_similarity'] > 0.5)\n",
    "                                  & (found_matches[ID]['modcosine_score'] > 0.5)]['spectra_ID'].values.tolist()\n",
    "    if len(match_IDs) > 0:\n",
    "        fingerprint_query, _ = MS_functions.get_mol_fingerprints([spectra_unknown[ID]], \n",
    "                                                                 method = \"daylight\", #morgan3\", \n",
    "                                                                 nBits = 2048,\n",
    "                                                                 print_progress = False)\n",
    "        fingerprint_matches, _ = MS_functions.get_mol_fingerprints([spectra_library[x] for x in match_IDs], \n",
    "                                                                 method = \"daylight\", #morgan3\",  \n",
    "                                                                 nBits = 2048,\n",
    "                                                                 print_progress = False)\n",
    "\n",
    "        # calculate similarities\n",
    "        Mtest = MS_sim_classic.mol_sim_matrix(fingerprint_query,\n",
    "                                               fingerprint_matches,\n",
    "                                               method = 'jaccard',\n",
    "                                               filename = None,\n",
    "                                               max_size = 1000,\n",
    "                                               print_progress = False)\n",
    "\n",
    "        mol_sim_matches_s2v_thres.append(Mtest)"
   ]
  },
  {
   "cell_type": "code",
   "execution_count": 98,
   "metadata": {},
   "outputs": [
    {
     "name": "stdout",
     "output_type": "stream",
     "text": [
      "Found matches for 704 spectra out of 994 spectra in total.\n"
     ]
    }
   ],
   "source": [
    "print(\"Found matches for\", len(mol_sim_matches_s2v_thres), \"spectra out of\", len(spectra_unknown), \"spectra in total.\")"
   ]
  },
  {
   "cell_type": "code",
   "execution_count": 99,
   "metadata": {},
   "outputs": [
    {
     "name": "stdout",
     "output_type": "stream",
     "text": [
      "Mean molecular similarity: 0.5683074272641239\n"
     ]
    }
   ],
   "source": [
    "print(\"Mean molecular similarity:\", np.mean([x[0][0] for x in mol_sim_matches_s2v_thres]))"
   ]
  },
  {
   "cell_type": "code",
   "execution_count": 100,
   "metadata": {},
   "outputs": [
    {
     "data": {
      "text/plain": [
       "(array([ 7., 24., 32., 38., 23., 23., 26., 37., 36., 28., 13., 18., 34.,\n",
       "        16., 17., 12., 20., 28., 24., 27.,  5., 17., 34., 69., 96.]),\n",
       " array([0.00704225, 0.04676056, 0.08647887, 0.12619718, 0.16591549,\n",
       "        0.2056338 , 0.24535211, 0.28507042, 0.32478873, 0.36450704,\n",
       "        0.40422535, 0.44394366, 0.48366197, 0.52338028, 0.56309859,\n",
       "        0.6028169 , 0.64253521, 0.68225352, 0.72197183, 0.76169014,\n",
       "        0.80140845, 0.84112676, 0.88084507, 0.92056338, 0.96028169,\n",
       "        1.        ]),\n",
       " <a list of 25 Patch objects>)"
      ]
     },
     "execution_count": 100,
     "metadata": {},
     "output_type": "execute_result"
    },
    {
     "data": {
      "image/png": "[encoded data removed]",
      "text/plain": [
       "<Figure size 432x288 with 1 Axes>"
      ]
     },
     "metadata": {
      "needs_background": "light"
     },
     "output_type": "display_data"
    }
   ],
   "source": [
    "plt.hist(np.array([x[0][0] for x in mol_sim_matches_s2v_thres]), 25)"
   ]
  },
  {
   "cell_type": "markdown",
   "metadata": {},
   "source": [
    "## Same search but compared to morgan3 fingerprints + cosine similarity"
   ]
  },
  {
   "cell_type": "code",
   "execution_count": 38,
   "metadata": {},
   "outputs": [
    {
     "data": {
      "text/plain": [
       "(array([ 8., 20., 32., 55., 50., 46., 30., 37., 51., 27., 19., 18., 19.,\n",
       "        22., 19., 18., 18., 34., 54., 17., 20., 47.,  7., 12., 24.]),\n",
       " array([0.  , 0.04, 0.08, 0.12, 0.16, 0.2 , 0.24, 0.28, 0.32, 0.36, 0.4 ,\n",
       "        0.44, 0.48, 0.52, 0.56, 0.6 , 0.64, 0.68, 0.72, 0.76, 0.8 , 0.84,\n",
       "        0.88, 0.92, 0.96, 1.  ]),\n",
       " <a list of 25 Patch objects>)"
      ]
     },
     "execution_count": 38,
     "metadata": {},
     "output_type": "execute_result"
    },
    {
     "data": {
      "image/png": "[encoded data removed]",
      "text/plain": [
       "<Figure size 432x288 with 1 Axes>"
      ]
     },
     "metadata": {
      "needs_background": "light"
     },
     "output_type": "display_data"
    }
   ],
   "source": [
    "plt.hist(np.array([x[0][0] for x in mol_sim_matches_s2v_thres]), 25)"
   ]
  },
  {
   "cell_type": "code",
   "execution_count": 39,
   "metadata": {},
   "outputs": [
    {
     "data": {
      "text/plain": [
       "[29762]"
      ]
     },
     "execution_count": 39,
     "metadata": {},
     "output_type": "execute_result"
    }
   ],
   "source": [
    "ID = 80\n",
    "match_IDs = found_matches[ID][(found_matches[ID]['S2V_top_n']==1)\n",
    "                                  & (found_matches[ID]['S2V_similarity'] > 0.5)\n",
    "                                  & (found_matches[ID]['modcosine_score'] > 0.5)]['spectra_ID'].values.tolist()\n",
    "match_IDs"
   ]
  },
  {
   "cell_type": "code",
   "execution_count": 41,
   "metadata": {},
   "outputs": [
    {
     "name": "stdout",
     "output_type": "stream",
     "text": [
      "Query spectra ---------------- \n",
      " SMILES: [H][C@]1(CC(/C=C/C)=CN21)C(O)NC3=C(O)C(C)=C(O[C@@H]4O[C@@H](C)[C@H](NC)[C@@](C)(O)[C@H]4O)C=C3C2=O \n",
      " INCHIKEY: RAGFPHFDFVNLCG-OKNUHWCXSA-N \n",
      " TITLE: Sibiromycin hemiaminal\n",
      "Proposed similar spectra ---------------- \n",
      " SMILES: [H][C@]1(CC(CCCC)CN21)C(O)NC3=C(O)C(C)=C(O[C@@H]4O[C@@H](C)[C@H](NC)[C@@](C)(O)[C@H]4O)C=C3C2=O \n",
      " INCHIKEY: YWAXVDLXUXRDHL-NLUDKXEPSA-N \n",
      " TITLE: Sibiromycin-494 hemiaminal\n"
     ]
    }
   ],
   "source": [
    "ID = 100\n",
    "\n",
    "match_IDs = found_matches[ID][(found_matches[ID]['S2V_top_n']==1)\n",
    "                                  & (found_matches[ID]['S2V_similarity'] > 0.5)\n",
    "                                  & (found_matches[ID]['modcosine_score'] > 0.5)]['spectra_ID'].values.tolist()\n",
    "if len(match_IDs) > 0:\n",
    "    print(\"Query spectra ----------------\", '\\n',\n",
    "          \"SMILES:\", spectra_unknown[ID].smiles, '\\n',\n",
    "          \"INCHIKEY:\", spectra_unknown[ID].inchikey, '\\n',\n",
    "          \"TITLE:\", spectra_unknown[ID].metadata['title'])\n",
    "    print(\"Proposed similar spectra ----------------\", '\\n',\n",
    "          \"SMILES:\", spectra[library_spectra_metadata.iloc[match_IDs].index[0]].smiles, '\\n',\n",
    "          \"INCHIKEY:\", spectra[library_spectra_metadata.iloc[match_IDs].index[0]].inchikey, '\\n',\n",
    "         \"TITLE:\", spectra[library_spectra_metadata.iloc[match_IDs].index[0]].metadata['title'])"
   ]
  },
  {
   "cell_type": "code",
   "execution_count": 42,
   "metadata": {},
   "outputs": [
    {
     "name": "stdout",
     "output_type": "stream",
     "text": [
      "Query spectra ---------------- \n",
      " SMILES: CC(=CCCC(C)([C@H]1CC[C@]2(C)[C@@H]1[C@@H](CC1[C@@]3(C)CC[C@@H](C(C)(C)[C@@H]3CC[C@@]21C)O[C@H]1[C@@H]([C@H]([C@@H]([C@@H](CO)O1)O)O)O[C@H]1[C@@H]([C@H]([C@@H]([C@@H](CO)O1)O)O)O)O)O)C \n",
      " INCHIKEY: RWXIFXNRCLMQCD-XXYKJBRESA-N \n",
      " TITLE: (2S,3R,4S,5S,6R)-2-[(2R,3R,4S,5S,6R)-4,5-dihydroxy-2-[[(3S,5R,8R,10R,12R,13R,14R,17S)-12-hydroxy-17-(2-hydroxy-6-methylhept-5-en-2-yl)-4,4,8,10,14-pentamethyl-2,3,5,6,7,9,11,12,13,15,16,17-dodecahydro-1H-cyclopenta[a]phenanthren-3-yl]oxy]-6-(hydroxymethyl)oxan-3-yl]oxy-6-(hydroxymethyl)oxane-3,4,5-triol\n",
      "Proposed similar spectra ---------------- \n",
      " SMILES: CC(=CCC[C@@](C)([C@H]1CC[C@]2(C)[C@@H]1[C@@H](CC1[C@@]3(C)CC[C@@H](C(C)(C)[C@@H]3[C@H](C[C@@]21C)O[C@H]1[C@@H]([C@H]([C@@H]([C@@H](CO)O1)O)O)O[C@H]1[C@@H]([C@H]([C@@H]([C@@H](CO)O1)O)O)O)O)O)O)C \n",
      " INCHIKEY: UZIOUZHBUYLDHW-KIOKIGKZSA-N \n",
      " TITLE: (2S,3R,4S,5S,6R)-2-[(2R,3R,4S,5S,6R)-2-[[(3S,5R,6S,8R,10R,12R,13R,14R,17S)-3,12-dihydroxy-17-[(2S)-2-hydroxy-6-methylhept-5-en-2-yl]-4,4,8,10,14-pentamethyl-2,3,5,6,7,9,11,12,13,15,16,17-dodecahydro-1H-cyclopenta[a]phenanthren-6-yl]oxy]-4,5-dihydroxy-6-(hydroxymethyl)oxan-3-yl]oxy-6-(hydroxymethyl)oxane-3,4,5-triol\n"
     ]
    }
   ],
   "source": [
    "ID = 140\n",
    "\n",
    "match_IDs = found_matches[ID][(found_matches[ID]['S2V_top_n']==1)\n",
    "                                  & (found_matches[ID]['S2V_similarity'] > 0.5)\n",
    "                                  & (found_matches[ID]['modcosine_score'] > 0.5)]['spectra_ID'].values.tolist()\n",
    "if len(match_IDs) > 0:\n",
    "    print(\"Query spectra ----------------\", '\\n',\n",
    "          \"SMILES:\", spectra_unknown[ID].smiles, '\\n',\n",
    "          \"INCHIKEY:\", spectra_unknown[ID].inchikey, '\\n',\n",
    "          \"TITLE:\", spectra_unknown[ID].metadata['title'])\n",
    "    print(\"Proposed similar spectra ----------------\", '\\n',\n",
    "          \"SMILES:\", spectra[library_spectra_metadata.iloc[match_IDs].index[0]].smiles, '\\n',\n",
    "          \"INCHIKEY:\", spectra[library_spectra_metadata.iloc[match_IDs].index[0]].inchikey, '\\n',\n",
    "         \"TITLE:\", spectra[library_spectra_metadata.iloc[match_IDs].index[0]].metadata['title'])\n"
   ]
  },
  {
   "cell_type": "markdown",
   "metadata": {},
   "source": [
    "## Inspect results"
   ]
  },
  {
   "cell_type": "code",
   "execution_count": 23,
   "metadata": {},
   "outputs": [],
   "source": [
    "from rdkit import Chem\n",
    "from rdkit.Chem import Draw"
   ]
  },
  {
   "cell_type": "code",
   "execution_count": 42,
   "metadata": {},
   "outputs": [
    {
     "name": "stdout",
     "output_type": "stream",
     "text": [
      "Scour processed file \"draw_mols2.svg\" in 31 ms: 6530/9757 bytes new/orig -> 66.9%\n"
     ]
    }
   ],
   "source": [
    "#!scour -i draw_mols2.svg -o draw_mols2corr.svg"
   ]
  },
  {
   "cell_type": "code",
   "execution_count": 24,
   "metadata": {},
   "outputs": [],
   "source": [
    "from IPython.display import SVG, display\n",
    "\n",
    "def plot_molecule(smiles_lst):\n",
    "    if not isinstance(smiles_lst, list):\n",
    "        smiles_lst = [smiles_lst]\n",
    "    for smiles in smiles_lst:\n",
    "        filename = \"draw_mols_temp.svg\"\n",
    "        mol = Chem.MolFromSmiles(smiles)\n",
    "        Draw.MolToFile(mol, filename)\n",
    "        !scour -i draw_mols_temp.svg -o draw_mols_temp_corr.svg\n",
    "\n",
    "        display(SVG(filename='draw_mols_temp_corr.svg'))"
   ]
  },
  {
   "cell_type": "code",
   "execution_count": 57,
   "metadata": {},
   "outputs": [
    {
     "name": "stdout",
     "output_type": "stream",
     "text": [
      "Scour processed file \"draw_mols_temp.svg\" in 31 ms: 6530/9757 bytes new/orig -> 66.9%\n"
     ]
    },
    {
     "data": {
      "image/svg+xml": [
       "<svg baseProfile=\"full\" height=\"300px\" space=\"preserve\" version=\"1.1\" width=\"300px\" xmlns=\"http://www.w3.org/2000/svg\">\n",
       " <polygon fill=\"#fff\" points=\"0 0 300 0 300 300 0 300\" stroke-width=\"0\"/>\n",
       " <g>\n",
       "  <text fill=\"rgb(0,0,255)\" font-family=\"helvetica\" font-size=\"7\" x=\"111.19\" y=\"140.68\">N</text>\n",
       " </g>\n",
       " <g>\n",
       "  <text fill=\"rgb(255,0,0)\" font-family=\"helvetica\" font-size=\"7\" x=\"67.89\" y=\"185.56\">HO</text>\n",
       " </g>\n",
       " <g>\n",
       "  <text fill=\"rgb(0,0,255)\" font-family=\"helvetica\" font-size=\"7\" x=\"110.38\" y=\"190.36\">NH</text>\n",
       " </g>\n",
       " <g>\n",
       "  <text fill=\"rgb(255,0,0)\" font-family=\"helvetica\" font-size=\"7\" x=\"128.91\" y=\"224.02\">HO</text>\n",
       " </g>\n",
       " <g>\n",
       "  <text fill=\"rgb(255,0,0)\" font-family=\"helvetica\" font-size=\"7\" x=\"198.04\" y=\"181.91\">O</text>\n",
       " </g>\n",
       " <g>\n",
       "  <text fill=\"rgb(255,0,0)\" font-family=\"helvetica\" font-size=\"7\" x=\"230.04\" y=\"160.85\">O</text>\n",
       " </g>\n",
       " <g>\n",
       "  <text fill=\"rgb(0,0,255)\" font-family=\"helvetica\" font-size=\"7\" x=\"237.91\" y=\"102.85\">NH</text>\n",
       " </g>\n",
       " <g>\n",
       "  <text fill=\"rgb(255,0,0)\" font-family=\"helvetica\" font-size=\"7\" x=\"208.38\" y=\"101.94\">OH</text>\n",
       " </g>\n",
       " <g>\n",
       "  <text fill=\"rgb(255,0,0)\" font-family=\"helvetica\" font-size=\"7\" x=\"168.57\" y=\"144.96\">HO</text>\n",
       " </g>\n",
       " <g>\n",
       "  <text fill=\"rgb(255,0,0)\" font-family=\"helvetica\" font-size=\"7\" x=\"146.53\" y=\"128.89\">O</text>\n",
       " </g>\n",
       " <line stroke=\"#000\" x1=\"96.2\" x2=\"96.2\" y1=\"149.98\" y2=\"149.98\"/>\n",
       " <line stroke=\"#000\" x1=\"93.26\" x2=\"92.61\" y1=\"147.27\" y2=\"148.23\"/>\n",
       " <line stroke=\"#000\" x1=\"90.33\" x2=\"89.01\" y1=\"144.55\" y2=\"146.48\"/>\n",
       " <line stroke=\"#000\" x1=\"87.39\" x2=\"85.42\" y1=\"141.84\" y2=\"144.72\"/>\n",
       " <line stroke=\"#000\" x1=\"84.45\" x2=\"81.82\" y1=\"139.13\" y2=\"142.97\"/>\n",
       " <line stroke=\"#000\" x1=\"81.51\" x2=\"78.23\" y1=\"136.41\" y2=\"141.22\"/>\n",
       " <line stroke=\"#000\" x1=\"79.78\" x2=\"76.11\" y1=\"134.82\" y2=\"140.19\"/>\n",
       " <line stroke=\"#000\" x1=\"77.95\" x2=\"84.18\" y1=\"137.5\" y2=\"116.28\"/>\n",
       " <line stroke=\"#000\" x1=\"84.18\" x2=\"70.67\" y1=\"116.28\" y2=\"98.77\"/>\n",
       " <line stroke=\"#000\" x1=\"70.67\" x2=\"48.75\" y1=\"98.77\" y2=\"101.71\"/>\n",
       " <line stroke=\"#000\" x1=\"67.9\" x2=\"50.37\" y1=\"94.77\" y2=\"97.12\"/>\n",
       " <line stroke=\"#000\" x1=\"48.75\" x2=\"35.25\" y1=\"101.71\" y2=\"84.2\"/>\n",
       " <line stroke=\"#000\" x1=\"84.18\" x2=\"106.28\" y1=\"116.28\" y2=\"115.65\"/>\n",
       " <line stroke=\"#000\" x1=\"86.51\" x2=\"104.19\" y1=\"120.56\" y2=\"120.05\"/>\n",
       " <line stroke=\"#000\" x1=\"106.28\" x2=\"108.95\" y1=\"115.65\" y2=\"123.12\"/>\n",
       " <line stroke=\"#00f\" x1=\"108.95\" x2=\"111.61\" y1=\"123.12\" y2=\"130.6\"/>\n",
       " <line stroke=\"#000\" x1=\"96.2\" x2=\"95.84\" y1=\"149.98\" y2=\"172.09\"/>\n",
       " <line stroke=\"#000\" x1=\"95.84\" x2=\"87.96\" y1=\"172.09\" y2=\"175.73\"/>\n",
       " <line stroke=\"#f00\" x1=\"87.96\" x2=\"80.07\" y1=\"175.73\" y2=\"179.37\"/>\n",
       " <line stroke=\"#000\" x1=\"95.84\" x2=\"102.27\" y1=\"172.09\" y2=\"177.39\"/>\n",
       " <line stroke=\"#00f\" x1=\"102.27\" x2=\"108.7\" y1=\"177.39\" y2=\"182.69\"/>\n",
       " <line stroke=\"#00f\" x1=\"122.17\" x2=\"128.35\" y1=\"184.2\" y2=\"182.9\"/>\n",
       " <line stroke=\"#000\" x1=\"128.35\" x2=\"134.54\" y1=\"182.9\" y2=\"181.59\"/>\n",
       " <line stroke=\"#000\" x1=\"134.54\" x2=\"146.7\" y1=\"181.59\" y2=\"200.06\"/>\n",
       " <line stroke=\"#000\" x1=\"139.38\" x2=\"149.11\" y1=\"181.05\" y2=\"195.83\"/>\n",
       " <line stroke=\"#000\" x1=\"146.7\" x2=\"143.22\" y1=\"200.06\" y2=\"207\"/>\n",
       " <line stroke=\"#f00\" x1=\"143.22\" x2=\"139.73\" y1=\"207\" y2=\"213.94\"/>\n",
       " <line stroke=\"#000\" x1=\"146.7\" x2=\"168.77\" y1=\"200.06\" y2=\"198.76\"/>\n",
       " <line stroke=\"#000\" x1=\"168.77\" x2=\"180.93\" y1=\"198.76\" y2=\"217.23\"/>\n",
       " <line stroke=\"#000\" x1=\"168.77\" x2=\"178.69\" y1=\"198.76\" y2=\"179\"/>\n",
       " <line stroke=\"#000\" x1=\"165.89\" x2=\"173.82\" y1=\"194.84\" y2=\"179.03\"/>\n",
       " <line stroke=\"#000\" x1=\"178.69\" x2=\"187.53\" y1=\"179\" y2=\"178.48\"/>\n",
       " <line stroke=\"#f00\" x1=\"187.53\" x2=\"196.36\" y1=\"178.48\" y2=\"177.96\"/>\n",
       " <polygon points=\"210.68 157.94 200.81 170.37 206.62 173.28\" stroke-width=\"0\"/>\n",
       " <line stroke=\"#000\" x1=\"210.68\" x2=\"219.52\" y1=\"157.94\" y2=\"157.42\"/>\n",
       " <line stroke=\"#f00\" x1=\"219.52\" x2=\"228.36\" y1=\"157.42\" y2=\"156.9\"/>\n",
       " <line stroke=\"#f00\" x1=\"235.71\" x2=\"239.19\" y1=\"150.77\" y2=\"143.82\"/>\n",
       " <line stroke=\"#000\" x1=\"239.19\" x2=\"242.67\" y1=\"143.82\" y2=\"136.88\"/>\n",
       " <line stroke=\"#000\" x1=\"242.67\" x2=\"242.67\" y1=\"136.88\" y2=\"136.88\"/>\n",
       " <line stroke=\"#000\" x1=\"246.66\" x2=\"246.59\" y1=\"137.23\" y2=\"136.07\"/>\n",
       " <line stroke=\"#000\" x1=\"250.64\" x2=\"250.51\" y1=\"137.58\" y2=\"135.26\"/>\n",
       " <line stroke=\"#000\" x1=\"254.63\" x2=\"254.42\" y1=\"137.93\" y2=\"134.44\"/>\n",
       " <line stroke=\"#000\" x1=\"258.61\" x2=\"258.34\" y1=\"138.28\" y2=\"133.63\"/>\n",
       " <line stroke=\"#000\" x1=\"262.6\" x2=\"262.26\" y1=\"138.63\" y2=\"132.82\"/>\n",
       " <line stroke=\"#000\" x1=\"264.94\" x2=\"264.56\" y1=\"138.83\" y2=\"132.34\"/>\n",
       " <line stroke=\"#000\" x1=\"242.67\" x2=\"230.52\" y1=\"136.88\" y2=\"118.41\"/>\n",
       " <polygon points=\"230.52 118.41 240.39 105.99 234.58 103.07\" stroke-width=\"0\"/>\n",
       " <line stroke=\"#00f\" x1=\"236.56\" x2=\"232.42\" y1=\"92.77\" y2=\"86.47\"/>\n",
       " <line stroke=\"#000\" x1=\"232.42\" x2=\"228.27\" y1=\"86.47\" y2=\"80.18\"/>\n",
       " <line stroke=\"#000\" x1=\"230.52\" x2=\"208.44\" y1=\"118.41\" y2=\"119.71\"/>\n",
       " <polygon points=\"208.44 119.71 188.19 110.26 186.32 116.49\" stroke-width=\"0\"/>\n",
       " <line stroke=\"#000\" x1=\"208.44\" x2=\"209.38\" y1=\"119.71\" y2=\"111.66\"/>\n",
       " <line stroke=\"#f00\" x1=\"209.38\" x2=\"210.32\" y1=\"111.66\" y2=\"103.62\"/>\n",
       " <line stroke=\"#000\" x1=\"208.44\" x2=\"198.52\" y1=\"119.71\" y2=\"139.47\"/>\n",
       " <line stroke=\"#000\" x1=\"198.52\" x2=\"198.52\" y1=\"139.47\" y2=\"139.47\"/>\n",
       " <line stroke=\"#000\" x1=\"194.55\" x2=\"194.64\" y1=\"138.98\" y2=\"140.42\"/>\n",
       " <line stroke=\"#000\" x1=\"190.58\" x2=\"190.75\" y1=\"138.5\" y2=\"141.37\"/>\n",
       " <line stroke=\"#000\" x1=\"186.61\" x2=\"186.87\" y1=\"138.01\" y2=\"142.31\"/>\n",
       " <line stroke=\"#000\" x1=\"182.64\" x2=\"182.98\" y1=\"137.52\" y2=\"143.26\"/>\n",
       " <line stroke=\"#000\" x1=\"180.56\" x2=\"180.95\" y1=\"137.27\" y2=\"143.76\"/>\n",
       " <line stroke=\"#000\" x1=\"178.69\" x2=\"166.53\" y1=\"179\" y2=\"160.53\"/>\n",
       " <line stroke=\"#000\" x1=\"166.53\" x2=\"144.46\" y1=\"160.53\" y2=\"161.82\"/>\n",
       " <line stroke=\"#000\" x1=\"164.58\" x2=\"146.92\" y1=\"164.99\" y2=\"166.02\"/>\n",
       " <line stroke=\"#000\" x1=\"144.46\" x2=\"135.19\" y1=\"161.82\" y2=\"141.75\"/>\n",
       " <line stroke=\"#000\" x1=\"136.86\" x2=\"141.69\" y1=\"143.13\" y2=\"137.27\"/>\n",
       " <line stroke=\"#f00\" x1=\"141.69\" x2=\"146.52\" y1=\"137.27\" y2=\"131.41\"/>\n",
       " <line stroke=\"#000\" x1=\"133.52\" x2=\"138.35\" y1=\"140.37\" y2=\"134.51\"/>\n",
       " <line stroke=\"#f00\" x1=\"138.35\" x2=\"143.18\" y1=\"134.51\" y2=\"128.65\"/>\n",
       " <line stroke=\"#00f\" x1=\"109.51\" x2=\"102.85\" y1=\"139.72\" y2=\"144.85\"/>\n",
       " <line stroke=\"#000\" x1=\"102.85\" x2=\"96.2\" y1=\"144.85\" y2=\"149.98\"/>\n",
       " <line stroke=\"#000\" x1=\"135.19\" x2=\"126.55\" y1=\"141.75\" y2=\"139.63\"/>\n",
       " <line stroke=\"#00f\" x1=\"126.55\" x2=\"117.92\" y1=\"139.63\" y2=\"137.51\"/>\n",
       " <line stroke=\"#000\" x1=\"144.46\" x2=\"134.54\" y1=\"161.82\" y2=\"181.59\"/>\n",
       " <line stroke=\"#000\" x1=\"198.52\" x2=\"210.68\" y1=\"139.47\" y2=\"157.94\"/>\n",
       "</svg>"
      ],
      "text/plain": [
       "<IPython.core.display.SVG object>"
      ]
     },
     "metadata": {},
     "output_type": "display_data"
    }
   ],
   "source": [
    "plot_molecule(\"[H][C@]1(CC(/C=C/C)=CN21)C(O)NC3=C(O)C(C)=C(O[C@@H]4O[C@@H](C)[C@H](NC)[C@@](C)(O)[C@H]4O)C=C3C2=O\")"
   ]
  },
  {
   "cell_type": "code",
   "execution_count": 35,
   "metadata": {},
   "outputs": [
    {
     "data": {
      "text/plain": [
       "46865"
      ]
     },
     "execution_count": 35,
     "metadata": {},
     "output_type": "execute_result"
    }
   ],
   "source": [
    "library_spectra_metadata.iloc[matchID][0]"
   ]
  },
  {
   "cell_type": "code",
   "execution_count": 56,
   "metadata": {},
   "outputs": [
    {
     "data": {
      "text/plain": [
       "[5157]"
      ]
     },
     "execution_count": 56,
     "metadata": {},
     "output_type": "execute_result"
    }
   ],
   "source": [
    "match_IDs"
   ]
  },
  {
   "cell_type": "markdown",
   "metadata": {},
   "source": [
    "# Display potentially similar compounds to unknown spectra"
   ]
  },
  {
   "cell_type": "code",
   "execution_count": 157,
   "metadata": {
    "scrolled": false
   },
   "outputs": [
    {
     "name": "stdout",
     "output_type": "stream",
     "text": [
      "--------------------------------------------------------------------------------\n",
      "QUERY SPECTRUM  ----------------------------------------------------------------\n",
      "SMILES: COc1cc(cc(c1O)OC)/C=C\\1/C(=O)c2c(cc(cc2O1)O)O\n",
      "INCHIKEY: LOVMOOUQHWMIHZ-RZNTYIFUSA-N\n",
      "--> MOLECULE:\n",
      "Scour processed file \"draw_mols_temp.svg\" in 47 ms: 4173/6153 bytes new/orig -> 67.8%\n"
     ]
    },
    {
     "data": {
      "image/svg+xml": [
       "<svg baseProfile=\"full\" height=\"300px\" space=\"preserve\" version=\"1.1\" width=\"300px\" xmlns=\"http://www.w3.org/2000/svg\">\n",
       " <polygon fill=\"#fff\" points=\"0 0 300 0 300 300 0 300\" stroke-width=\"0\"/>\n",
       " <g>\n",
       "  <text fill=\"rgb(255,0,0)\" font-family=\"helvetica\" font-size=\"8.53\" x=\"106.47\" y=\"105.51\">O</text>\n",
       " </g>\n",
       " <g>\n",
       "  <text fill=\"rgb(255,0,0)\" font-family=\"helvetica\" font-size=\"8.53\" x=\"51.56\" y=\"129.91\">HO</text>\n",
       " </g>\n",
       " <g>\n",
       "  <text fill=\"rgb(255,0,0)\" font-family=\"helvetica\" font-size=\"8.53\" x=\"54.65\" y=\"184.22\">O</text>\n",
       " </g>\n",
       " <g>\n",
       "  <text fill=\"rgb(255,0,0)\" font-family=\"helvetica\" font-size=\"8.53\" x=\"201.29\" y=\"216.93\">O</text>\n",
       " </g>\n",
       " <g>\n",
       "  <text fill=\"rgb(255,0,0)\" font-family=\"helvetica\" font-size=\"8.53\" x=\"177.46\" y=\"150.70\">O</text>\n",
       " </g>\n",
       " <g>\n",
       "  <text fill=\"rgb(255,0,0)\" font-family=\"helvetica\" font-size=\"8.53\" x=\"261.55\" y=\"102.75\">OH</text>\n",
       " </g>\n",
       " <g>\n",
       "  <text fill=\"rgb(255,0,0)\" font-family=\"helvetica\" font-size=\"8.53\" x=\"256.04\" y=\"196.83\">OH</text>\n",
       " </g>\n",
       " <line stroke=\"#000\" x1=\"134.1\" x2=\"124.63\" y1=\"88.19\" y2=\"92.94\"/>\n",
       " <line stroke=\"#f00\" x1=\"124.63\" x2=\"115.15\" y1=\"92.94\" y2=\"97.7\"/>\n",
       " <line stroke=\"#f00\" x1=\"109.37\" x2=\"108.78\" y1=\"107.56\" y2=\"117.55\"/>\n",
       " <line stroke=\"#000\" x1=\"108.78\" x2=\"108.19\" y1=\"117.55\" y2=\"127.55\"/>\n",
       " <line stroke=\"#000\" x1=\"108.19\" x2=\"130.92\" y1=\"127.55\" y2=\"142.5\"/>\n",
       " <line stroke=\"#000\" x1=\"107.53\" x2=\"125.71\" y1=\"133.5\" y2=\"145.46\"/>\n",
       " <line stroke=\"#000\" x1=\"130.92\" x2=\"129.33\" y1=\"142.5\" y2=\"169.66\"/>\n",
       " <line stroke=\"#000\" x1=\"129.33\" x2=\"105.01\" y1=\"169.66\" y2=\"181.86\"/>\n",
       " <line stroke=\"#000\" x1=\"124.5\" x2=\"105.05\" y1=\"166.11\" y2=\"175.87\"/>\n",
       " <line stroke=\"#000\" x1=\"105.01\" x2=\"82.29\" y1=\"181.86\" y2=\"166.9\"/>\n",
       " <line stroke=\"#000\" x1=\"82.29\" x2=\"83.88\" y1=\"166.9\" y2=\"139.75\"/>\n",
       " <line stroke=\"#000\" x1=\"87.77\" x2=\"89.04\" y1=\"164.5\" y2=\"142.77\"/>\n",
       " <line stroke=\"#000\" x1=\"83.88\" x2=\"75.14\" y1=\"139.75\" y2=\"133.99\"/>\n",
       " <line stroke=\"#f00\" x1=\"75.14\" x2=\"66.41\" y1=\"133.99\" y2=\"128.24\"/>\n",
       " <line stroke=\"#000\" x1=\"82.29\" x2=\"72.81\" y1=\"166.9\" y2=\"171.66\"/>\n",
       " <line stroke=\"#f00\" x1=\"72.81\" x2=\"63.34\" y1=\"171.66\" y2=\"176.41\"/>\n",
       " <line stroke=\"#f00\" x1=\"52.6\" x2=\"43.93\" y1=\"175.57\" y2=\"169.86\"/>\n",
       " <line stroke=\"#000\" x1=\"43.93\" x2=\"35.25\" y1=\"169.86\" y2=\"164.15\"/>\n",
       " <line stroke=\"#000\" x1=\"129.33\" x2=\"152.05\" y1=\"169.66\" y2=\"184.62\"/>\n",
       " <line stroke=\"#000\" x1=\"152.05\" x2=\"176.36\" y1=\"184.62\" y2=\"172.42\"/>\n",
       " <line stroke=\"#000\" x1=\"156.87\" x2=\"176.32\" y1=\"188.16\" y2=\"178.4\"/>\n",
       " <line stroke=\"#000\" x1=\"176.36\" x2=\"200.52\" y1=\"172.42\" y2=\"184.92\"/>\n",
       " <line stroke=\"#000\" x1=\"197.89\" x2=\"199.39\" y1=\"185.32\" y2=\"195.18\"/>\n",
       " <line stroke=\"#f00\" x1=\"199.39\" x2=\"200.89\" y1=\"195.18\" y2=\"205.04\"/>\n",
       " <line stroke=\"#000\" x1=\"203.16\" x2=\"204.66\" y1=\"184.52\" y2=\"194.38\"/>\n",
       " <line stroke=\"#f00\" x1=\"204.66\" x2=\"206.16\" y1=\"194.38\" y2=\"204.24\"/>\n",
       " <line stroke=\"#000\" x1=\"200.52\" x2=\"219.88\" y1=\"184.92\" y2=\"165.8\"/>\n",
       " <line stroke=\"#000\" x1=\"219.88\" x2=\"247.04\" y1=\"165.8\" y2=\"167.39\"/>\n",
       " <line stroke=\"#000\" x1=\"222.91\" x2=\"244.63\" y1=\"160.63\" y2=\"161.91\"/>\n",
       " <line stroke=\"#000\" x1=\"247.04\" x2=\"261.99\" y1=\"167.39\" y2=\"144.67\"/>\n",
       " <line stroke=\"#000\" x1=\"261.99\" x2=\"249.79\" y1=\"144.67\" y2=\"120.35\"/>\n",
       " <line stroke=\"#000\" x1=\"256.01\" x2=\"246.25\" y1=\"144.63\" y2=\"125.18\"/>\n",
       " <line stroke=\"#000\" x1=\"249.79\" x2=\"222.64\" y1=\"120.35\" y2=\"118.76\"/>\n",
       " <line stroke=\"#000\" x1=\"222.64\" x2=\"207.68\" y1=\"118.76\" y2=\"141.49\"/>\n",
       " <line stroke=\"#000\" x1=\"225.6\" x2=\"213.63\" y1=\"123.97\" y2=\"142.15\"/>\n",
       " <line stroke=\"#000\" x1=\"207.68\" x2=\"196.92\" y1=\"141.49\" y2=\"143.12\"/>\n",
       " <line stroke=\"#f00\" x1=\"196.92\" x2=\"186.15\" y1=\"143.12\" y2=\"144.76\"/>\n",
       " <line stroke=\"#000\" x1=\"249.79\" x2=\"254.91\" y1=\"120.35\" y2=\"112.58\"/>\n",
       " <line stroke=\"#f00\" x1=\"254.91\" x2=\"260.03\" y1=\"112.58\" y2=\"104.8\"/>\n",
       " <line stroke=\"#000\" x1=\"247.04\" x2=\"251.34\" y1=\"167.39\" y2=\"175.96\"/>\n",
       " <line stroke=\"#f00\" x1=\"251.34\" x2=\"255.64\" y1=\"175.96\" y2=\"184.54\"/>\n",
       " <line stroke=\"#000\" x1=\"83.88\" x2=\"108.19\" y1=\"139.75\" y2=\"127.55\"/>\n",
       " <line stroke=\"#000\" x1=\"176.36\" x2=\"177.98\" y1=\"172.42\" y2=\"162.58\"/>\n",
       " <line stroke=\"#f00\" x1=\"177.98\" x2=\"179.6\" y1=\"162.58\" y2=\"152.74\"/>\n",
       " <line stroke=\"#000\" x1=\"207.68\" x2=\"219.88\" y1=\"141.49\" y2=\"165.8\"/>\n",
       "</svg>"
      ],
      "text/plain": [
       "<IPython.core.display.SVG object>"
      ]
     },
     "metadata": {},
     "output_type": "display_data"
    },
    {
     "name": "stdout",
     "output_type": "stream",
     "text": [
      "--------------------------------------------------------------------------------\n",
      "SUGGESTED SIMILAR SPECTRA ------------------------------------------------------\n",
      "SMILES: COc1cc2C[C@@H](CO)[C@H](CO)[C@@H](c3ccc(c(c3)O)O)c2cc1O\n",
      "INCHIKEY: GQLVRVYXAHDDLB-PJFSTRORSA-N\n",
      "--> Spec2Vec similarity score: 0.8279304477261606\n",
      "--> Modified cosine score: 0.9501519909360046\n",
      "With ground truth --> actual molecular similarity: 0.32010353753235543\n",
      "--> MOLECULES:\n",
      "Scour processed file \"draw_mols_temp.svg\" in 31 ms: 4282/6414 bytes new/orig -> 66.8%\n"
     ]
    },
    {
     "data": {
      "image/svg+xml": [
       "<svg baseProfile=\"full\" height=\"300px\" space=\"preserve\" version=\"1.1\" width=\"300px\" xmlns=\"http://www.w3.org/2000/svg\">\n",
       " <polygon fill=\"#fff\" points=\"0 0 300 0 300 300 0 300\" stroke-width=\"0\"/>\n",
       " <g>\n",
       "  <text fill=\"rgb(255,0,0)\" font-family=\"helvetica\" font-size=\"9.07\" x=\"53.48\" y=\"197.15\">O</text>\n",
       " </g>\n",
       " <g>\n",
       "  <text fill=\"rgb(255,0,0)\" font-family=\"helvetica\" font-size=\"9.07\" x=\"179.95\" y=\"74.80\">OH</text>\n",
       " </g>\n",
       " <g>\n",
       "  <text fill=\"rgb(255,0,0)\" font-family=\"helvetica\" font-size=\"9.07\" x=\"201.71\" y=\"93.85\">OH</text>\n",
       " </g>\n",
       " <g>\n",
       "  <text fill=\"rgb(255,0,0)\" font-family=\"helvetica\" font-size=\"9.07\" x=\"261.35\" y=\"179.36\">OH</text>\n",
       " </g>\n",
       " <g>\n",
       "  <text fill=\"rgb(255,0,0)\" font-family=\"helvetica\" font-size=\"9.07\" x=\"250.11\" y=\"236.08\">OH</text>\n",
       " </g>\n",
       " <g>\n",
       "  <text fill=\"rgb(255,0,0)\" font-family=\"helvetica\" font-size=\"9.07\" x=\"90.31\" y=\"235.25\">HO</text>\n",
       " </g>\n",
       " <line stroke=\"#000\" x1=\"35.25\" x2=\"43.27\" y1=\"172.66\" y2=\"179.69\"/>\n",
       " <line stroke=\"#f00\" x1=\"43.27\" x2=\"51.3\" y1=\"179.69\" y2=\"186.72\"/>\n",
       " <line stroke=\"#f00\" x1=\"62.71\" x2=\"73.54\" y1=\"189.77\" y2=\"186.08\"/>\n",
       " <line stroke=\"#000\" x1=\"73.54\" x2=\"84.38\" y1=\"186.08\" y2=\"182.4\"/>\n",
       " <line stroke=\"#000\" x1=\"84.38\" x2=\"90\" y1=\"182.4\" y2=\"154.03\"/>\n",
       " <line stroke=\"#000\" x1=\"90.5\" x2=\"95\" y1=\"180.66\" y2=\"157.97\"/>\n",
       " <line stroke=\"#000\" x1=\"90\" x2=\"117.37\" y1=\"154.03\" y2=\"144.72\"/>\n",
       " <line stroke=\"#000\" x1=\"117.37\" x2=\"122.99\" y1=\"144.72\" y2=\"116.35\"/>\n",
       " <line stroke=\"#000\" x1=\"122.99\" x2=\"150.36\" y1=\"116.35\" y2=\"107.04\"/>\n",
       " <polygon points=\"150.36 107.04 160.15 79.5 151.81 77.85\" stroke-width=\"0\"/>\n",
       " <line stroke=\"#000\" x1=\"155.98\" x2=\"166.88\" y1=\"78.67\" y2=\"74.97\"/>\n",
       " <line stroke=\"#f00\" x1=\"166.88\" x2=\"177.77\" y1=\"74.97\" y2=\"71.26\"/>\n",
       " <line stroke=\"#000\" x1=\"150.36\" x2=\"172.11\" y1=\"107.04\" y2=\"126.09\"/>\n",
       " <line stroke=\"#000\" x1=\"172.11\" x2=\"172.11\" y1=\"126.09\" y2=\"126.09\"/>\n",
       " <line stroke=\"#000\" x1=\"176.05\" x2=\"175.67\" y1=\"125.36\" y2=\"124.26\"/>\n",
       " <line stroke=\"#000\" x1=\"179.98\" x2=\"179.23\" y1=\"124.64\" y2=\"122.43\"/>\n",
       " <line stroke=\"#000\" x1=\"183.92\" x2=\"182.79\" y1=\"123.91\" y2=\"120.61\"/>\n",
       " <line stroke=\"#000\" x1=\"187.85\" x2=\"186.35\" y1=\"123.19\" y2=\"118.78\"/>\n",
       " <line stroke=\"#000\" x1=\"191.78\" x2=\"189.91\" y1=\"122.47\" y2=\"116.96\"/>\n",
       " <line stroke=\"#000\" x1=\"195.72\" x2=\"193.47\" y1=\"121.74\" y2=\"115.13\"/>\n",
       " <line stroke=\"#000\" x1=\"199.65\" x2=\"197.03\" y1=\"121.02\" y2=\"113.3\"/>\n",
       " <line stroke=\"#000\" x1=\"200.86\" x2=\"198.12\" y1=\"120.8\" y2=\"112.74\"/>\n",
       " <line stroke=\"#000\" x1=\"199.49\" x2=\"201.54\" y1=\"116.77\" y2=\"106.4\"/>\n",
       " <line stroke=\"#f00\" x1=\"201.54\" x2=\"203.6\" y1=\"106.4\" y2=\"96.03\"/>\n",
       " <line stroke=\"#000\" x1=\"172.11\" x2=\"166.5\" y1=\"126.09\" y2=\"154.45\"/>\n",
       " <polygon points=\"166.5 154.45 185.45 176.7 191.05 170.3\" stroke-width=\"0\"/>\n",
       " <line stroke=\"#000\" x1=\"188.25\" x2=\"182.63\" y1=\"173.5\" y2=\"201.86\"/>\n",
       " <line stroke=\"#000\" x1=\"193.25\" x2=\"188.75\" y1=\"177.44\" y2=\"200.13\"/>\n",
       " <line stroke=\"#000\" x1=\"182.63\" x2=\"204.39\" y1=\"201.86\" y2=\"220.91\"/>\n",
       " <line stroke=\"#000\" x1=\"204.39\" x2=\"231.76\" y1=\"220.91\" y2=\"211.59\"/>\n",
       " <line stroke=\"#000\" x1=\"205.3\" x2=\"227.19\" y1=\"214.61\" y2=\"207.16\"/>\n",
       " <line stroke=\"#000\" x1=\"231.76\" x2=\"237.38\" y1=\"211.59\" y2=\"183.23\"/>\n",
       " <line stroke=\"#000\" x1=\"237.38\" x2=\"215.62\" y1=\"183.23\" y2=\"164.18\"/>\n",
       " <line stroke=\"#000\" x1=\"231.47\" x2=\"214.06\" y1=\"185.59\" y2=\"170.35\"/>\n",
       " <line stroke=\"#000\" x1=\"237.38\" x2=\"248.27\" y1=\"183.23\" y2=\"179.52\"/>\n",
       " <line stroke=\"#f00\" x1=\"248.27\" x2=\"259.17\" y1=\"179.52\" y2=\"175.81\"/>\n",
       " <line stroke=\"#000\" x1=\"231.76\" x2=\"239.85\" y1=\"211.59\" y2=\"218.67\"/>\n",
       " <line stroke=\"#f00\" x1=\"239.85\" x2=\"247.93\" y1=\"218.67\" y2=\"225.76\"/>\n",
       " <line stroke=\"#000\" x1=\"166.5\" x2=\"139.12\" y1=\"154.45\" y2=\"163.77\"/>\n",
       " <line stroke=\"#000\" x1=\"139.12\" x2=\"133.5\" y1=\"163.77\" y2=\"192.13\"/>\n",
       " <line stroke=\"#000\" x1=\"133.5\" x2=\"106.13\" y1=\"192.13\" y2=\"201.44\"/>\n",
       " <line stroke=\"#000\" x1=\"128.94\" x2=\"107.04\" y1=\"187.69\" y2=\"195.15\"/>\n",
       " <line stroke=\"#000\" x1=\"106.13\" x2=\"104.08\" y1=\"201.44\" y2=\"211.82\"/>\n",
       " <line stroke=\"#f00\" x1=\"104.08\" x2=\"102.02\" y1=\"211.82\" y2=\"222.19\"/>\n",
       " <line stroke=\"#000\" x1=\"106.13\" x2=\"84.38\" y1=\"201.44\" y2=\"182.4\"/>\n",
       " <line stroke=\"#000\" x1=\"139.12\" x2=\"117.37\" y1=\"163.77\" y2=\"144.72\"/>\n",
       " <line stroke=\"#000\" x1=\"133.21\" x2=\"115.81\" y1=\"166.13\" y2=\"150.89\"/>\n",
       " <line stroke=\"#000\" x1=\"215.62\" x2=\"188.25\" y1=\"164.18\" y2=\"173.5\"/>\n",
       "</svg>"
      ],
      "text/plain": [
       "<IPython.core.display.SVG object>"
      ]
     },
     "metadata": {},
     "output_type": "display_data"
    },
    {
     "name": "stdout",
     "output_type": "stream",
     "text": [
      "--------------------------------------------------------------------------------\n",
      "SUGGESTED SIMILAR SPECTRA ------------------------------------------------------\n",
      "SMILES: CC1CCC2(C(=CC(=O)CC2C21CC(c1ccoc1)OC2=O)C)O\n",
      "INCHIKEY: DLHZVTVUHATYAU-UHFFFAOYSA-N\n",
      "--> Spec2Vec similarity score: 0.6981935128620363\n",
      "--> Modified cosine score: 0.5324175795916624\n",
      "With ground truth --> actual molecular similarity: 0.2944960686204432\n",
      "--> MOLECULES:\n",
      "Scour processed file \"draw_mols_temp.svg\" in 62 ms: 3648/5452 bytes new/orig -> 66.9%\n"
     ]
    },
    {
     "data": {
      "image/svg+xml": [
       "<svg baseProfile=\"full\" height=\"300px\" space=\"preserve\" version=\"1.1\" width=\"300px\" xmlns=\"http://www.w3.org/2000/svg\">\n",
       " <polygon fill=\"#fff\" points=\"0 0 300 0 300 300 0 300\" stroke-width=\"0\"/>\n",
       " <g>\n",
       "  <text fill=\"rgb(255,0,0)\" font-family=\"helvetica\" font-size=\"10.54\" x=\"154.18\" y=\"243.19\">O</text>\n",
       " </g>\n",
       " <g>\n",
       "  <text fill=\"rgb(255,0,0)\" font-family=\"helvetica\" font-size=\"10.54\" x=\"31.15\" y=\"166.46\">O</text>\n",
       " </g>\n",
       " <g>\n",
       "  <text fill=\"rgb(255,0,0)\" font-family=\"helvetica\" font-size=\"10.54\" x=\"117.13\" y=\"105.22\">O</text>\n",
       " </g>\n",
       " <g>\n",
       "  <text fill=\"rgb(255,0,0)\" font-family=\"helvetica\" font-size=\"10.54\" x=\"158.94\" y=\"69.45\">O</text>\n",
       " </g>\n",
       " <g>\n",
       "  <text fill=\"rgb(255,0,0)\" font-family=\"helvetica\" font-size=\"10.54\" x=\"247.23\" y=\"165.46\">OH</text>\n",
       " </g>\n",
       " <line stroke=\"#000\" x1=\"181.9\" x2=\"190.65\" y1=\"65.11\" y2=\"94.05\"/>\n",
       " <line stroke=\"#000\" x1=\"190.65\" x2=\"224.05\" y1=\"94.05\" y2=\"97.67\"/>\n",
       " <line stroke=\"#000\" x1=\"224.05\" x2=\"237.62\" y1=\"97.67\" y2=\"128.4\"/>\n",
       " <line stroke=\"#000\" x1=\"237.62\" x2=\"217.78\" y1=\"128.4\" y2=\"155.52\"/>\n",
       " <line stroke=\"#000\" x1=\"217.78\" x2=\"231.35\" y1=\"155.52\" y2=\"186.26\"/>\n",
       " <line stroke=\"#000\" x1=\"231.35\" x2=\"211.51\" y1=\"186.26\" y2=\"213.37\"/>\n",
       " <line stroke=\"#000\" x1=\"224.05\" x2=\"208.18\" y1=\"185.08\" y2=\"206.77\"/>\n",
       " <line stroke=\"#000\" x1=\"211.51\" x2=\"178.11\" y1=\"213.37\" y2=\"209.75\"/>\n",
       " <line stroke=\"#000\" x1=\"175.45\" x2=\"168.78\" y1=\"207.81\" y2=\"216.94\"/>\n",
       " <line stroke=\"#f00\" x1=\"168.78\" x2=\"162.1\" y1=\"216.94\" y2=\"226.07\"/>\n",
       " <line stroke=\"#000\" x1=\"180.77\" x2=\"174.09\" y1=\"211.7\" y2=\"220.83\"/>\n",
       " <line stroke=\"#f00\" x1=\"174.09\" x2=\"167.41\" y1=\"220.83\" y2=\"229.96\"/>\n",
       " <line stroke=\"#000\" x1=\"178.11\" x2=\"164.55\" y1=\"209.75\" y2=\"179.02\"/>\n",
       " <line stroke=\"#000\" x1=\"164.55\" x2=\"184.38\" y1=\"179.02\" y2=\"151.9\"/>\n",
       " <line stroke=\"#000\" x1=\"184.38\" x2=\"170.82\" y1=\"151.9\" y2=\"121.17\"/>\n",
       " <line stroke=\"#000\" x1=\"170.82\" x2=\"148.26\" y1=\"121.17\" y2=\"146.06\"/>\n",
       " <line stroke=\"#000\" x1=\"148.26\" x2=\"117.61\" y1=\"146.06\" y2=\"132.3\"/>\n",
       " <line stroke=\"#000\" x1=\"117.61\" x2=\"88.46\" y1=\"132.3\" y2=\"149\"/>\n",
       " <line stroke=\"#000\" x1=\"88.46\" x2=\"84.84\" y1=\"149\" y2=\"182.4\"/>\n",
       " <line stroke=\"#000\" x1=\"84.84\" x2=\"51.95\" y1=\"182.4\" y2=\"189.28\"/>\n",
       " <line stroke=\"#000\" x1=\"80.2\" x2=\"53.89\" y1=\"176.64\" y2=\"182.15\"/>\n",
       " <line stroke=\"#000\" x1=\"51.95\" x2=\"46.14\" y1=\"189.28\" y2=\"179.13\"/>\n",
       " <line stroke=\"#f00\" x1=\"46.14\" x2=\"40.32\" y1=\"179.13\" y2=\"168.99\"/>\n",
       " <line stroke=\"#f00\" x1=\"41.88\" x2=\"49.85\" y1=\"152.82\" y2=\"144.03\"/>\n",
       " <line stroke=\"#000\" x1=\"49.85\" x2=\"57.81\" y1=\"144.03\" y2=\"135.24\"/>\n",
       " <line stroke=\"#000\" x1=\"117.61\" x2=\"118.94\" y1=\"132.3\" y2=\"120.02\"/>\n",
       " <line stroke=\"#f00\" x1=\"118.94\" x2=\"120.27\" y1=\"120.02\" y2=\"107.75\"/>\n",
       " <line stroke=\"#f00\" x1=\"127.86\" x2=\"140.98\" y1=\"97.51\" y2=\"94.76\"/>\n",
       " <line stroke=\"#000\" x1=\"140.98\" x2=\"154.11\" y1=\"94.76\" y2=\"92.02\"/>\n",
       " <line stroke=\"#000\" x1=\"157.26\" x2=\"160.36\" y1=\"92.99\" y2=\"82.97\"/>\n",
       " <line stroke=\"#f00\" x1=\"160.36\" x2=\"163.45\" y1=\"82.97\" y2=\"72.96\"/>\n",
       " <line stroke=\"#000\" x1=\"150.96\" x2=\"154.06\" y1=\"91.04\" y2=\"81.03\"/>\n",
       " <line stroke=\"#f00\" x1=\"154.06\" x2=\"157.16\" y1=\"81.03\" y2=\"71.01\"/>\n",
       " <line stroke=\"#000\" x1=\"231.35\" x2=\"264.75\" y1=\"186.26\" y2=\"189.88\"/>\n",
       " <line stroke=\"#000\" x1=\"217.78\" x2=\"231.24\" y1=\"155.52\" y2=\"156.98\"/>\n",
       " <line stroke=\"#f00\" x1=\"231.24\" x2=\"244.7\" y1=\"156.98\" y2=\"158.44\"/>\n",
       " <line stroke=\"#000\" x1=\"170.82\" x2=\"190.65\" y1=\"121.17\" y2=\"94.05\"/>\n",
       " <line stroke=\"#000\" x1=\"57.81\" x2=\"88.46\" y1=\"135.24\" y2=\"149\"/>\n",
       " <line stroke=\"#000\" x1=\"58.18\" x2=\"82.69\" y1=\"142.62\" y2=\"153.63\"/>\n",
       " <line stroke=\"#000\" x1=\"184.38\" x2=\"217.78\" y1=\"151.9\" y2=\"155.52\"/>\n",
       " <line stroke=\"#000\" x1=\"154.11\" x2=\"170.82\" y1=\"92.02\" y2=\"121.17\"/>\n",
       "</svg>"
      ],
      "text/plain": [
       "<IPython.core.display.SVG object>"
      ]
     },
     "metadata": {},
     "output_type": "display_data"
    },
    {
     "name": "stdout",
     "output_type": "stream",
     "text": [
      "--------------------------------------------------------------------------------\n",
      "SUGGESTED SIMILAR SPECTRA ------------------------------------------------------\n",
      "SMILES: CC1CCC2(C(=CC(=O)CC2C21CC(c1ccoc1)OC2=O)C)O\n",
      "INCHIKEY: DLHZVTVUHATYAU-UHFFFAOYSA-N\n",
      "--> Spec2Vec similarity score: 0.6948527401338489\n",
      "--> Modified cosine score: 0.2674537541501296\n",
      "With ground truth --> actual molecular similarity: 0.2944960686204432\n",
      "--> MOLECULES:\n",
      "Scour processed file \"draw_mols_temp.svg\" in 47 ms: 3648/5452 bytes new/orig -> 66.9%\n"
     ]
    },
    {
     "data": {
      "image/svg+xml": [
       "<svg baseProfile=\"full\" height=\"300px\" space=\"preserve\" version=\"1.1\" width=\"300px\" xmlns=\"http://www.w3.org/2000/svg\">\n",
       " <polygon fill=\"#fff\" points=\"0 0 300 0 300 300 0 300\" stroke-width=\"0\"/>\n",
       " <g>\n",
       "  <text fill=\"rgb(255,0,0)\" font-family=\"helvetica\" font-size=\"10.54\" x=\"154.18\" y=\"243.19\">O</text>\n",
       " </g>\n",
       " <g>\n",
       "  <text fill=\"rgb(255,0,0)\" font-family=\"helvetica\" font-size=\"10.54\" x=\"31.15\" y=\"166.46\">O</text>\n",
       " </g>\n",
       " <g>\n",
       "  <text fill=\"rgb(255,0,0)\" font-family=\"helvetica\" font-size=\"10.54\" x=\"117.13\" y=\"105.22\">O</text>\n",
       " </g>\n",
       " <g>\n",
       "  <text fill=\"rgb(255,0,0)\" font-family=\"helvetica\" font-size=\"10.54\" x=\"158.94\" y=\"69.45\">O</text>\n",
       " </g>\n",
       " <g>\n",
       "  <text fill=\"rgb(255,0,0)\" font-family=\"helvetica\" font-size=\"10.54\" x=\"247.23\" y=\"165.46\">OH</text>\n",
       " </g>\n",
       " <line stroke=\"#000\" x1=\"181.9\" x2=\"190.65\" y1=\"65.11\" y2=\"94.05\"/>\n",
       " <line stroke=\"#000\" x1=\"190.65\" x2=\"224.05\" y1=\"94.05\" y2=\"97.67\"/>\n",
       " <line stroke=\"#000\" x1=\"224.05\" x2=\"237.62\" y1=\"97.67\" y2=\"128.4\"/>\n",
       " <line stroke=\"#000\" x1=\"237.62\" x2=\"217.78\" y1=\"128.4\" y2=\"155.52\"/>\n",
       " <line stroke=\"#000\" x1=\"217.78\" x2=\"231.35\" y1=\"155.52\" y2=\"186.26\"/>\n",
       " <line stroke=\"#000\" x1=\"231.35\" x2=\"211.51\" y1=\"186.26\" y2=\"213.37\"/>\n",
       " <line stroke=\"#000\" x1=\"224.05\" x2=\"208.18\" y1=\"185.08\" y2=\"206.77\"/>\n",
       " <line stroke=\"#000\" x1=\"211.51\" x2=\"178.11\" y1=\"213.37\" y2=\"209.75\"/>\n",
       " <line stroke=\"#000\" x1=\"175.45\" x2=\"168.78\" y1=\"207.81\" y2=\"216.94\"/>\n",
       " <line stroke=\"#f00\" x1=\"168.78\" x2=\"162.1\" y1=\"216.94\" y2=\"226.07\"/>\n",
       " <line stroke=\"#000\" x1=\"180.77\" x2=\"174.09\" y1=\"211.7\" y2=\"220.83\"/>\n",
       " <line stroke=\"#f00\" x1=\"174.09\" x2=\"167.41\" y1=\"220.83\" y2=\"229.96\"/>\n",
       " <line stroke=\"#000\" x1=\"178.11\" x2=\"164.55\" y1=\"209.75\" y2=\"179.02\"/>\n",
       " <line stroke=\"#000\" x1=\"164.55\" x2=\"184.38\" y1=\"179.02\" y2=\"151.9\"/>\n",
       " <line stroke=\"#000\" x1=\"184.38\" x2=\"170.82\" y1=\"151.9\" y2=\"121.17\"/>\n",
       " <line stroke=\"#000\" x1=\"170.82\" x2=\"148.26\" y1=\"121.17\" y2=\"146.06\"/>\n",
       " <line stroke=\"#000\" x1=\"148.26\" x2=\"117.61\" y1=\"146.06\" y2=\"132.3\"/>\n",
       " <line stroke=\"#000\" x1=\"117.61\" x2=\"88.46\" y1=\"132.3\" y2=\"149\"/>\n",
       " <line stroke=\"#000\" x1=\"88.46\" x2=\"84.84\" y1=\"149\" y2=\"182.4\"/>\n",
       " <line stroke=\"#000\" x1=\"84.84\" x2=\"51.95\" y1=\"182.4\" y2=\"189.28\"/>\n",
       " <line stroke=\"#000\" x1=\"80.2\" x2=\"53.89\" y1=\"176.64\" y2=\"182.15\"/>\n",
       " <line stroke=\"#000\" x1=\"51.95\" x2=\"46.14\" y1=\"189.28\" y2=\"179.13\"/>\n",
       " <line stroke=\"#f00\" x1=\"46.14\" x2=\"40.32\" y1=\"179.13\" y2=\"168.99\"/>\n",
       " <line stroke=\"#f00\" x1=\"41.88\" x2=\"49.85\" y1=\"152.82\" y2=\"144.03\"/>\n",
       " <line stroke=\"#000\" x1=\"49.85\" x2=\"57.81\" y1=\"144.03\" y2=\"135.24\"/>\n",
       " <line stroke=\"#000\" x1=\"117.61\" x2=\"118.94\" y1=\"132.3\" y2=\"120.02\"/>\n",
       " <line stroke=\"#f00\" x1=\"118.94\" x2=\"120.27\" y1=\"120.02\" y2=\"107.75\"/>\n",
       " <line stroke=\"#f00\" x1=\"127.86\" x2=\"140.98\" y1=\"97.51\" y2=\"94.76\"/>\n",
       " <line stroke=\"#000\" x1=\"140.98\" x2=\"154.11\" y1=\"94.76\" y2=\"92.02\"/>\n",
       " <line stroke=\"#000\" x1=\"157.26\" x2=\"160.36\" y1=\"92.99\" y2=\"82.97\"/>\n",
       " <line stroke=\"#f00\" x1=\"160.36\" x2=\"163.45\" y1=\"82.97\" y2=\"72.96\"/>\n",
       " <line stroke=\"#000\" x1=\"150.96\" x2=\"154.06\" y1=\"91.04\" y2=\"81.03\"/>\n",
       " <line stroke=\"#f00\" x1=\"154.06\" x2=\"157.16\" y1=\"81.03\" y2=\"71.01\"/>\n",
       " <line stroke=\"#000\" x1=\"231.35\" x2=\"264.75\" y1=\"186.26\" y2=\"189.88\"/>\n",
       " <line stroke=\"#000\" x1=\"217.78\" x2=\"231.24\" y1=\"155.52\" y2=\"156.98\"/>\n",
       " <line stroke=\"#f00\" x1=\"231.24\" x2=\"244.7\" y1=\"156.98\" y2=\"158.44\"/>\n",
       " <line stroke=\"#000\" x1=\"170.82\" x2=\"190.65\" y1=\"121.17\" y2=\"94.05\"/>\n",
       " <line stroke=\"#000\" x1=\"57.81\" x2=\"88.46\" y1=\"135.24\" y2=\"149\"/>\n",
       " <line stroke=\"#000\" x1=\"58.18\" x2=\"82.69\" y1=\"142.62\" y2=\"153.63\"/>\n",
       " <line stroke=\"#000\" x1=\"184.38\" x2=\"217.78\" y1=\"151.9\" y2=\"155.52\"/>\n",
       " <line stroke=\"#000\" x1=\"154.11\" x2=\"170.82\" y1=\"92.02\" y2=\"121.17\"/>\n",
       "</svg>"
      ],
      "text/plain": [
       "<IPython.core.display.SVG object>"
      ]
     },
     "metadata": {},
     "output_type": "display_data"
    },
    {
     "name": "stdout",
     "output_type": "stream",
     "text": [
      "--------------------------------------------------------------------------------\n",
      "SUGGESTED SIMILAR SPECTRA ------------------------------------------------------\n",
      "SMILES: C(C)(C1)(C(C(C)CCCC(C)C)4)C(CC4)C(C2)C(C(C)(C3)C([H])(CC(C3)=O)C2)C1\n",
      "INCHIKEY: PESKGJQREUXSRR-UHFFFAOYSA-N\n",
      "--> Spec2Vec similarity score: 0.6948441543506305\n",
      "--> Modified cosine score: 0.2508694110979728\n",
      "With ground truth --> actual molecular similarity: 0.06600660066006603\n",
      "--> MOLECULES:\n",
      "Scour processed file \"draw_mols_temp.svg\" in 16 ms: 2727/4196 bytes new/orig -> 65.0%\n"
     ]
    },
    {
     "data": {
      "image/svg+xml": [
       "<svg baseProfile=\"full\" height=\"300px\" space=\"preserve\" version=\"1.1\" width=\"300px\" xmlns=\"http://www.w3.org/2000/svg\">\n",
       " <polygon fill=\"#fff\" points=\"0 0 300 0 300 300 0 300\" stroke-width=\"0\"/>\n",
       " <g>\n",
       "  <text fill=\"rgb(255,0,0)\" font-family=\"helvetica\" font-size=\"7\" x=\"262.03\" y=\"187.34\">O</text>\n",
       " </g>\n",
       " <line stroke=\"#000\" x1=\"142.14\" x2=\"122.99\" y1=\"130.21\" y2=\"141.56\"/>\n",
       " <line stroke=\"#000\" x1=\"142.14\" x2=\"144.72\" y1=\"130.21\" y2=\"152.32\"/>\n",
       " <line stroke=\"#000\" x1=\"142.14\" x2=\"123.98\" y1=\"130.21\" y2=\"117.34\"/>\n",
       " <line stroke=\"#000\" x1=\"123.98\" x2=\"102.9\" y1=\"117.34\" y2=\"124.46\"/>\n",
       " <line stroke=\"#000\" x1=\"102.9\" x2=\"86.19\" y1=\"124.46\" y2=\"109.75\"/>\n",
       " <line stroke=\"#000\" x1=\"102.9\" x2=\"98.52\" y1=\"124.46\" y2=\"146.28\"/>\n",
       " <line stroke=\"#000\" x1=\"98.52\" x2=\"77.43\" y1=\"146.28\" y2=\"153.4\"/>\n",
       " <line stroke=\"#000\" x1=\"77.43\" x2=\"73.05\" y1=\"153.4\" y2=\"175.22\"/>\n",
       " <line stroke=\"#000\" x1=\"73.05\" x2=\"51.96\" y1=\"175.22\" y2=\"182.34\"/>\n",
       " <line stroke=\"#000\" x1=\"51.96\" x2=\"47.58\" y1=\"182.34\" y2=\"204.16\"/>\n",
       " <line stroke=\"#000\" x1=\"51.96\" x2=\"35.25\" y1=\"182.34\" y2=\"167.63\"/>\n",
       " <line stroke=\"#000\" x1=\"142.14\" x2=\"160\" y1=\"130.21\" y2=\"116.93\"/>\n",
       " <line stroke=\"#000\" x1=\"160\" x2=\"152.88\" y1=\"116.93\" y2=\"95.84\"/>\n",
       " <line stroke=\"#000\" x1=\"152.88\" x2=\"130.62\" y1=\"95.84\" y2=\"96.09\"/>\n",
       " <line stroke=\"#000\" x1=\"160\" x2=\"180.43\" y1=\"116.93\" y2=\"125.75\"/>\n",
       " <line stroke=\"#000\" x1=\"180.43\" x2=\"198.29\" y1=\"125.75\" y2=\"112.46\"/>\n",
       " <line stroke=\"#000\" x1=\"180.43\" x2=\"183.01\" y1=\"125.75\" y2=\"147.86\"/>\n",
       " <line stroke=\"#000\" x1=\"183.01\" x2=\"203.44\" y1=\"147.86\" y2=\"156.68\"/>\n",
       " <line stroke=\"#000\" x1=\"203.44\" x2=\"185.59\" y1=\"156.68\" y2=\"169.96\"/>\n",
       " <line stroke=\"#000\" x1=\"203.44\" x2=\"206.02\" y1=\"156.68\" y2=\"178.78\"/>\n",
       " <line stroke=\"#000\" x1=\"203.44\" x2=\"221.3\" y1=\"156.68\" y2=\"143.39\"/>\n",
       " <line stroke=\"#000\" x1=\"221.3\" x2=\"241.74\" y1=\"143.39\" y2=\"152.21\"/>\n",
       " <line stroke=\"#000\" x1=\"241.74\" x2=\"244.31\" y1=\"152.21\" y2=\"174.32\"/>\n",
       " <line stroke=\"#000\" x1=\"244.31\" x2=\"226.46\" y1=\"174.32\" y2=\"187.61\"/>\n",
       " <line stroke=\"#000\" x1=\"243.45\" x2=\"251.47\" y1=\"176.32\" y2=\"179.78\"/>\n",
       " <line stroke=\"#f00\" x1=\"251.47\" x2=\"259.48\" y1=\"179.78\" y2=\"183.24\"/>\n",
       " <line stroke=\"#000\" x1=\"245.18\" x2=\"253.2\" y1=\"172.31\" y2=\"175.77\"/>\n",
       " <line stroke=\"#f00\" x1=\"253.2\" x2=\"261.21\" y1=\"175.77\" y2=\"179.23\"/>\n",
       " <line stroke=\"#000\" x1=\"221.3\" x2=\"218.72\" y1=\"143.39\" y2=\"121.28\"/>\n",
       " <line stroke=\"#000\" x1=\"183.01\" x2=\"165.15\" y1=\"147.86\" y2=\"161.14\"/>\n",
       " <line stroke=\"#000\" x1=\"165.15\" x2=\"144.72\" y1=\"161.14\" y2=\"152.32\"/>\n",
       " <line stroke=\"#000\" x1=\"218.72\" x2=\"198.29\" y1=\"121.28\" y2=\"112.46\"/>\n",
       " <line stroke=\"#000\" x1=\"226.46\" x2=\"206.02\" y1=\"187.61\" y2=\"178.78\"/>\n",
       " <line stroke=\"#000\" x1=\"130.62\" x2=\"123.98\" y1=\"96.09\" y2=\"117.34\"/>\n",
       "</svg>"
      ],
      "text/plain": [
       "<IPython.core.display.SVG object>"
      ]
     },
     "metadata": {},
     "output_type": "display_data"
    },
    {
     "name": "stdout",
     "output_type": "stream",
     "text": [
      "--------------------------------------------------------------------------------\n",
      "SUGGESTED SIMILAR SPECTRA ------------------------------------------------------\n",
      "SMILES: COc1cc2C[C@@H](CO)[C@H](CO)[C@@H](c3ccc(c(c3)O)O)c2cc1O\n",
      "INCHIKEY: GQLVRVYXAHDDLB-PJFSTRORSA-N\n",
      "--> Spec2Vec similarity score: 0.6744952050717139\n",
      "--> Modified cosine score: 0.8898666018701152\n",
      "With ground truth --> actual molecular similarity: 0.32010353753235543\n",
      "--> MOLECULES:\n",
      "Scour processed file \"draw_mols_temp.svg\" in 31 ms: 4282/6414 bytes new/orig -> 66.8%\n"
     ]
    },
    {
     "data": {
      "image/svg+xml": [
       "<svg baseProfile=\"full\" height=\"300px\" space=\"preserve\" version=\"1.1\" width=\"300px\" xmlns=\"http://www.w3.org/2000/svg\">\n",
       " <polygon fill=\"#fff\" points=\"0 0 300 0 300 300 0 300\" stroke-width=\"0\"/>\n",
       " <g>\n",
       "  <text fill=\"rgb(255,0,0)\" font-family=\"helvetica\" font-size=\"9.07\" x=\"53.48\" y=\"197.15\">O</text>\n",
       " </g>\n",
       " <g>\n",
       "  <text fill=\"rgb(255,0,0)\" font-family=\"helvetica\" font-size=\"9.07\" x=\"179.95\" y=\"74.80\">OH</text>\n",
       " </g>\n",
       " <g>\n",
       "  <text fill=\"rgb(255,0,0)\" font-family=\"helvetica\" font-size=\"9.07\" x=\"201.71\" y=\"93.85\">OH</text>\n",
       " </g>\n",
       " <g>\n",
       "  <text fill=\"rgb(255,0,0)\" font-family=\"helvetica\" font-size=\"9.07\" x=\"261.35\" y=\"179.36\">OH</text>\n",
       " </g>\n",
       " <g>\n",
       "  <text fill=\"rgb(255,0,0)\" font-family=\"helvetica\" font-size=\"9.07\" x=\"250.11\" y=\"236.08\">OH</text>\n",
       " </g>\n",
       " <g>\n",
       "  <text fill=\"rgb(255,0,0)\" font-family=\"helvetica\" font-size=\"9.07\" x=\"90.31\" y=\"235.25\">HO</text>\n",
       " </g>\n",
       " <line stroke=\"#000\" x1=\"35.25\" x2=\"43.27\" y1=\"172.66\" y2=\"179.69\"/>\n",
       " <line stroke=\"#f00\" x1=\"43.27\" x2=\"51.3\" y1=\"179.69\" y2=\"186.72\"/>\n",
       " <line stroke=\"#f00\" x1=\"62.71\" x2=\"73.54\" y1=\"189.77\" y2=\"186.08\"/>\n",
       " <line stroke=\"#000\" x1=\"73.54\" x2=\"84.38\" y1=\"186.08\" y2=\"182.4\"/>\n",
       " <line stroke=\"#000\" x1=\"84.38\" x2=\"90\" y1=\"182.4\" y2=\"154.03\"/>\n",
       " <line stroke=\"#000\" x1=\"90.5\" x2=\"95\" y1=\"180.66\" y2=\"157.97\"/>\n",
       " <line stroke=\"#000\" x1=\"90\" x2=\"117.37\" y1=\"154.03\" y2=\"144.72\"/>\n",
       " <line stroke=\"#000\" x1=\"117.37\" x2=\"122.99\" y1=\"144.72\" y2=\"116.35\"/>\n",
       " <line stroke=\"#000\" x1=\"122.99\" x2=\"150.36\" y1=\"116.35\" y2=\"107.04\"/>\n",
       " <polygon points=\"150.36 107.04 160.15 79.5 151.81 77.85\" stroke-width=\"0\"/>\n",
       " <line stroke=\"#000\" x1=\"155.98\" x2=\"166.88\" y1=\"78.67\" y2=\"74.97\"/>\n",
       " <line stroke=\"#f00\" x1=\"166.88\" x2=\"177.77\" y1=\"74.97\" y2=\"71.26\"/>\n",
       " <line stroke=\"#000\" x1=\"150.36\" x2=\"172.11\" y1=\"107.04\" y2=\"126.09\"/>\n",
       " <line stroke=\"#000\" x1=\"172.11\" x2=\"172.11\" y1=\"126.09\" y2=\"126.09\"/>\n",
       " <line stroke=\"#000\" x1=\"176.05\" x2=\"175.67\" y1=\"125.36\" y2=\"124.26\"/>\n",
       " <line stroke=\"#000\" x1=\"179.98\" x2=\"179.23\" y1=\"124.64\" y2=\"122.43\"/>\n",
       " <line stroke=\"#000\" x1=\"183.92\" x2=\"182.79\" y1=\"123.91\" y2=\"120.61\"/>\n",
       " <line stroke=\"#000\" x1=\"187.85\" x2=\"186.35\" y1=\"123.19\" y2=\"118.78\"/>\n",
       " <line stroke=\"#000\" x1=\"191.78\" x2=\"189.91\" y1=\"122.47\" y2=\"116.96\"/>\n",
       " <line stroke=\"#000\" x1=\"195.72\" x2=\"193.47\" y1=\"121.74\" y2=\"115.13\"/>\n",
       " <line stroke=\"#000\" x1=\"199.65\" x2=\"197.03\" y1=\"121.02\" y2=\"113.3\"/>\n",
       " <line stroke=\"#000\" x1=\"200.86\" x2=\"198.12\" y1=\"120.8\" y2=\"112.74\"/>\n",
       " <line stroke=\"#000\" x1=\"199.49\" x2=\"201.54\" y1=\"116.77\" y2=\"106.4\"/>\n",
       " <line stroke=\"#f00\" x1=\"201.54\" x2=\"203.6\" y1=\"106.4\" y2=\"96.03\"/>\n",
       " <line stroke=\"#000\" x1=\"172.11\" x2=\"166.5\" y1=\"126.09\" y2=\"154.45\"/>\n",
       " <polygon points=\"166.5 154.45 185.45 176.7 191.05 170.3\" stroke-width=\"0\"/>\n",
       " <line stroke=\"#000\" x1=\"188.25\" x2=\"182.63\" y1=\"173.5\" y2=\"201.86\"/>\n",
       " <line stroke=\"#000\" x1=\"193.25\" x2=\"188.75\" y1=\"177.44\" y2=\"200.13\"/>\n",
       " <line stroke=\"#000\" x1=\"182.63\" x2=\"204.39\" y1=\"201.86\" y2=\"220.91\"/>\n",
       " <line stroke=\"#000\" x1=\"204.39\" x2=\"231.76\" y1=\"220.91\" y2=\"211.59\"/>\n",
       " <line stroke=\"#000\" x1=\"205.3\" x2=\"227.19\" y1=\"214.61\" y2=\"207.16\"/>\n",
       " <line stroke=\"#000\" x1=\"231.76\" x2=\"237.38\" y1=\"211.59\" y2=\"183.23\"/>\n",
       " <line stroke=\"#000\" x1=\"237.38\" x2=\"215.62\" y1=\"183.23\" y2=\"164.18\"/>\n",
       " <line stroke=\"#000\" x1=\"231.47\" x2=\"214.06\" y1=\"185.59\" y2=\"170.35\"/>\n",
       " <line stroke=\"#000\" x1=\"237.38\" x2=\"248.27\" y1=\"183.23\" y2=\"179.52\"/>\n",
       " <line stroke=\"#f00\" x1=\"248.27\" x2=\"259.17\" y1=\"179.52\" y2=\"175.81\"/>\n",
       " <line stroke=\"#000\" x1=\"231.76\" x2=\"239.85\" y1=\"211.59\" y2=\"218.67\"/>\n",
       " <line stroke=\"#f00\" x1=\"239.85\" x2=\"247.93\" y1=\"218.67\" y2=\"225.76\"/>\n",
       " <line stroke=\"#000\" x1=\"166.5\" x2=\"139.12\" y1=\"154.45\" y2=\"163.77\"/>\n",
       " <line stroke=\"#000\" x1=\"139.12\" x2=\"133.5\" y1=\"163.77\" y2=\"192.13\"/>\n",
       " <line stroke=\"#000\" x1=\"133.5\" x2=\"106.13\" y1=\"192.13\" y2=\"201.44\"/>\n",
       " <line stroke=\"#000\" x1=\"128.94\" x2=\"107.04\" y1=\"187.69\" y2=\"195.15\"/>\n",
       " <line stroke=\"#000\" x1=\"106.13\" x2=\"104.08\" y1=\"201.44\" y2=\"211.82\"/>\n",
       " <line stroke=\"#f00\" x1=\"104.08\" x2=\"102.02\" y1=\"211.82\" y2=\"222.19\"/>\n",
       " <line stroke=\"#000\" x1=\"106.13\" x2=\"84.38\" y1=\"201.44\" y2=\"182.4\"/>\n",
       " <line stroke=\"#000\" x1=\"139.12\" x2=\"117.37\" y1=\"163.77\" y2=\"144.72\"/>\n",
       " <line stroke=\"#000\" x1=\"133.21\" x2=\"115.81\" y1=\"166.13\" y2=\"150.89\"/>\n",
       " <line stroke=\"#000\" x1=\"215.62\" x2=\"188.25\" y1=\"164.18\" y2=\"173.5\"/>\n",
       "</svg>"
      ],
      "text/plain": [
       "<IPython.core.display.SVG object>"
      ]
     },
     "metadata": {},
     "output_type": "display_data"
    },
    {
     "name": "stdout",
     "output_type": "stream",
     "text": [
      "--------------------------------------------------------------------------------\n",
      "SUGGESTED SIMILAR SPECTRA ------------------------------------------------------\n",
      "SMILES: C1=CO[C@H]([C@@H]2C(=C[C@H]([C@H]12)O)CO)O[C@H]1[C@@H]([C@H]([C@@H]([C@@H](CO)O1)O)O)O\n",
      "INCHIKEY: RJWJHRPNHPHBRN-FKVJWERZSA-N\n",
      "--> Spec2Vec similarity score: 0.6711158175417126\n",
      "--> Modified cosine score: 0.8381711914189244\n",
      "With ground truth --> actual molecular similarity: 0.23776758409785936\n",
      "--> MOLECULES:\n",
      "Scour processed file \"draw_mols_temp.svg\" in 63 ms: 6173/9205 bytes new/orig -> 67.1%\n"
     ]
    },
    {
     "data": {
      "image/svg+xml": [
       "<svg baseProfile=\"full\" height=\"300px\" space=\"preserve\" version=\"1.1\" width=\"300px\" xmlns=\"http://www.w3.org/2000/svg\">\n",
       " <polygon fill=\"#fff\" points=\"0 0 300 0 300 300 0 300\" stroke-width=\"0\"/>\n",
       " <g>\n",
       "  <text fill=\"rgb(255,0,0)\" font-family=\"helvetica\" font-size=\"9.01\" x=\"153.80\" y=\"189.67\">O</text>\n",
       " </g>\n",
       " <g>\n",
       "  <text fill=\"rgb(255,0,0)\" font-family=\"helvetica\" font-size=\"9.01\" x=\"261.37\" y=\"182.91\">OH</text>\n",
       " </g>\n",
       " <g>\n",
       "  <text fill=\"rgb(255,0,0)\" font-family=\"helvetica\" font-size=\"9.01\" x=\"212.93\" y=\"83.42\">OH</text>\n",
       " </g>\n",
       " <g>\n",
       "  <text fill=\"rgb(255,0,0)\" font-family=\"helvetica\" font-size=\"9.01\" x=\"144.60\" y=\"140.80\">O</text>\n",
       " </g>\n",
       " <g>\n",
       "  <text fill=\"rgb(255,0,0)\" font-family=\"helvetica\" font-size=\"9.01\" x=\"88.00\" y=\"227.38\">OH</text>\n",
       " </g>\n",
       " <g>\n",
       "  <text fill=\"rgb(255,0,0)\" font-family=\"helvetica\" font-size=\"9.01\" x=\"106.88\" y=\"173.20\">O</text>\n",
       " </g>\n",
       " <g>\n",
       "  <text fill=\"rgb(255,0,0)\" font-family=\"helvetica\" font-size=\"9.01\" x=\"25.12\" y=\"162.05\">HO</text>\n",
       " </g>\n",
       " <g>\n",
       "  <text fill=\"rgb(255,0,0)\" font-family=\"helvetica\" font-size=\"9.01\" x=\"44.13\" y=\"107.87\">HO</text>\n",
       " </g>\n",
       " <g>\n",
       "  <text fill=\"rgb(255,0,0)\" font-family=\"helvetica\" font-size=\"9.01\" x=\"107.31\" y=\"97.25\">OH</text>\n",
       " </g>\n",
       " <line stroke=\"#000\" x1=\"204.23\" x2=\"176.02\" y1=\"200.73\" y2=\"206.04\"/>\n",
       " <line stroke=\"#000\" x1=\"200.37\" x2=\"177.79\" y1=\"195.73\" y2=\"199.98\"/>\n",
       " <line stroke=\"#000\" x1=\"176.02\" x2=\"169.49\" y1=\"206.04\" y2=\"198.45\"/>\n",
       " <line stroke=\"#f00\" x1=\"169.49\" x2=\"162.97\" y1=\"198.45\" y2=\"190.86\"/>\n",
       " <line stroke=\"#f00\" x1=\"159.96\" x2=\"163.39\" y1=\"176.7\" y2=\"166.94\"/>\n",
       " <line stroke=\"#000\" x1=\"163.39\" x2=\"166.81\" y1=\"166.94\" y2=\"157.17\"/>\n",
       " <line stroke=\"#000\" x1=\"166.81\" x2=\"195.03\" y1=\"157.17\" y2=\"151.86\"/>\n",
       " <line stroke=\"#000\" x1=\"195.03\" x2=\"195.03\" y1=\"151.86\" y2=\"151.86\"/>\n",
       " <line stroke=\"#000\" x1=\"197.58\" x2=\"196.59\" y1=\"148.78\" y2=\"148.18\"/>\n",
       " <line stroke=\"#000\" x1=\"200.14\" x2=\"198.15\" y1=\"145.71\" y2=\"144.5\"/>\n",
       " <line stroke=\"#000\" x1=\"202.69\" x2=\"199.71\" y1=\"142.63\" y2=\"140.81\"/>\n",
       " <line stroke=\"#000\" x1=\"205.25\" x2=\"201.27\" y1=\"139.55\" y2=\"137.13\"/>\n",
       " <line stroke=\"#000\" x1=\"207.8\" x2=\"202.83\" y1=\"136.47\" y2=\"133.45\"/>\n",
       " <line stroke=\"#000\" x1=\"210.36\" x2=\"204.39\" y1=\"133.4\" y2=\"129.76\"/>\n",
       " <line stroke=\"#000\" x1=\"212.91\" x2=\"205.95\" y1=\"130.32\" y2=\"126.08\"/>\n",
       " <line stroke=\"#000\" x1=\"213.56\" x2=\"206.35\" y1=\"129.54\" y2=\"125.14\"/>\n",
       " <line stroke=\"#000\" x1=\"209.96\" x2=\"237.89\" y1=\"127.34\" y2=\"133.96\"/>\n",
       " <line stroke=\"#000\" x1=\"211.45\" x2=\"233.8\" y1=\"133.48\" y2=\"138.78\"/>\n",
       " <line stroke=\"#000\" x1=\"237.89\" x2=\"240.23\" y1=\"133.96\" y2=\"162.58\"/>\n",
       " <line stroke=\"#000\" x1=\"240.23\" x2=\"213.74\" y1=\"162.58\" y2=\"173.64\"/>\n",
       " <polygon points=\"240.23 162.58 257.01 177.74 261.41 170.53\" stroke-width=\"0\"/>\n",
       " <line stroke=\"#000\" x1=\"209.96\" x2=\"198.9\" y1=\"127.34\" y2=\"100.85\"/>\n",
       " <line stroke=\"#000\" x1=\"198.9\" x2=\"204.83\" y1=\"100.85\" y2=\"93.06\"/>\n",
       " <line stroke=\"#f00\" x1=\"204.83\" x2=\"210.77\" y1=\"93.06\" y2=\"85.28\"/>\n",
       " <polygon points=\"166.81 157.17 156.97 139.24 150.57 144.74\" stroke-width=\"0\"/>\n",
       " <line stroke=\"#000\" x1=\"119.89\" x2=\"119.89\" y1=\"140.71\" y2=\"140.71\"/>\n",
       " <line stroke=\"#000\" x1=\"123.89\" x2=\"123.62\" y1=\"140.69\" y2=\"139.27\"/>\n",
       " <line stroke=\"#000\" x1=\"127.89\" x2=\"127.36\" y1=\"140.68\" y2=\"137.83\"/>\n",
       " <line stroke=\"#000\" x1=\"131.89\" x2=\"131.09\" y1=\"140.66\" y2=\"136.39\"/>\n",
       " <line stroke=\"#000\" x1=\"135.89\" x2=\"134.82\" y1=\"140.64\" y2=\"134.95\"/>\n",
       " <line stroke=\"#000\" x1=\"139.89\" x2=\"138.55\" y1=\"140.63\" y2=\"133.51\"/>\n",
       " <line stroke=\"#000\" x1=\"143.22\" x2=\"141.66\" y1=\"140.61\" y2=\"132.31\"/>\n",
       " <line stroke=\"#000\" x1=\"119.89\" x2=\"101.18\" y1=\"140.71\" y2=\"118.93\"/>\n",
       " <line stroke=\"#000\" x1=\"101.18\" x2=\"72.97\" y1=\"118.93\" y2=\"124.24\"/>\n",
       " <line stroke=\"#000\" x1=\"72.97\" x2=\"63.46\" y1=\"124.24\" y2=\"151.33\"/>\n",
       " <line stroke=\"#000\" x1=\"63.46\" x2=\"82.17\" y1=\"151.33\" y2=\"173.11\"/>\n",
       " <line stroke=\"#000\" x1=\"82.17\" x2=\"82.17\" y1=\"173.11\" y2=\"173.11\"/>\n",
       " <line stroke=\"#000\" x1=\"80.31\" x2=\"81.41\" y1=\"176.65\" y2=\"177.04\"/>\n",
       " <line stroke=\"#000\" x1=\"78.45\" x2=\"80.65\" y1=\"180.19\" y2=\"180.97\"/>\n",
       " <line stroke=\"#000\" x1=\"76.59\" x2=\"79.89\" y1=\"183.74\" y2=\"184.89\"/>\n",
       " <line stroke=\"#000\" x1=\"74.73\" x2=\"79.13\" y1=\"187.28\" y2=\"188.82\"/>\n",
       " <line stroke=\"#000\" x1=\"72.87\" x2=\"78.37\" y1=\"190.82\" y2=\"192.75\"/>\n",
       " <line stroke=\"#000\" x1=\"71.01\" x2=\"77.6\" y1=\"194.36\" y2=\"196.67\"/>\n",
       " <line stroke=\"#000\" x1=\"69.16\" x2=\"76.84\" y1=\"197.9\" y2=\"200.6\"/>\n",
       " <line stroke=\"#000\" x1=\"68.68\" x2=\"76.65\" y1=\"198.8\" y2=\"201.6\"/>\n",
       " <line stroke=\"#000\" x1=\"72.67\" x2=\"79.25\" y1=\"200.2\" y2=\"207.87\"/>\n",
       " <line stroke=\"#f00\" x1=\"79.25\" x2=\"85.83\" y1=\"207.87\" y2=\"215.53\"/>\n",
       " <line stroke=\"#000\" x1=\"82.17\" x2=\"93.45\" y1=\"173.11\" y2=\"170.99\"/>\n",
       " <line stroke=\"#f00\" x1=\"93.45\" x2=\"104.72\" y1=\"170.99\" y2=\"168.87\"/>\n",
       " <polygon points=\"63.46 151.33 40.01 151.45 41.57 159.75\" stroke-width=\"0\"/>\n",
       " <line stroke=\"#000\" x1=\"72.97\" x2=\"72.97\" y1=\"124.24\" y2=\"124.24\"/>\n",
       " <line stroke=\"#000\" x1=\"71.04\" x2=\"69.8\" y1=\"120.74\" y2=\"121.81\"/>\n",
       " <line stroke=\"#000\" x1=\"69.11\" x2=\"66.63\" y1=\"117.24\" y2=\"119.37\"/>\n",
       " <line stroke=\"#000\" x1=\"67.18\" x2=\"63.45\" y1=\"113.73\" y2=\"116.93\"/>\n",
       " <line stroke=\"#000\" x1=\"65.25\" x2=\"60.28\" y1=\"110.23\" y2=\"114.5\"/>\n",
       " <line stroke=\"#000\" x1=\"63.32\" x2=\"57.11\" y1=\"106.73\" y2=\"112.06\"/>\n",
       " <line stroke=\"#000\" x1=\"63\" x2=\"56.6\" y1=\"106.16\" y2=\"111.67\"/>\n",
       " <polygon points=\"101.18 118.93 112.02 100.8 104.05 98.01\" stroke-width=\"0\"/>\n",
       " <line stroke=\"#000\" x1=\"213.74\" x2=\"213.74\" y1=\"173.64\" y2=\"173.64\"/>\n",
       " <line stroke=\"#000\" x1=\"211.88\" x2=\"212.97\" y1=\"177.18\" y2=\"177.57\"/>\n",
       " <line stroke=\"#000\" x1=\"210.02\" x2=\"212.21\" y1=\"180.72\" y2=\"181.49\"/>\n",
       " <line stroke=\"#000\" x1=\"208.16\" x2=\"211.45\" y1=\"184.26\" y2=\"185.42\"/>\n",
       " <line stroke=\"#000\" x1=\"206.3\" x2=\"210.69\" y1=\"187.81\" y2=\"189.35\"/>\n",
       " <line stroke=\"#000\" x1=\"204.44\" x2=\"209.93\" y1=\"191.35\" y2=\"193.27\"/>\n",
       " <line stroke=\"#000\" x1=\"202.58\" x2=\"209.17\" y1=\"194.89\" y2=\"197.2\"/>\n",
       " <line stroke=\"#000\" x1=\"200.72\" x2=\"208.41\" y1=\"198.43\" y2=\"201.13\"/>\n",
       " <line stroke=\"#000\" x1=\"200.25\" x2=\"208.21\" y1=\"199.33\" y2=\"202.13\"/>\n",
       " <line stroke=\"#f00\" x1=\"113.04\" x2=\"116.47\" y1=\"160.23\" y2=\"150.47\"/>\n",
       " <line stroke=\"#000\" x1=\"116.47\" x2=\"119.89\" y1=\"150.47\" y2=\"140.71\"/>\n",
       " <line stroke=\"#000\" x1=\"213.74\" x2=\"195.03\" y1=\"173.64\" y2=\"151.86\"/>\n",
       "</svg>"
      ],
      "text/plain": [
       "<IPython.core.display.SVG object>"
      ]
     },
     "metadata": {},
     "output_type": "display_data"
    },
    {
     "name": "stdout",
     "output_type": "stream",
     "text": [
      "--------------------------------------------------------------------------------\n",
      "SUGGESTED SIMILAR SPECTRA ------------------------------------------------------\n",
      "SMILES: COc1cc(cc(c1OC)OC)O[C@H]1[C@@H]([C@H]([C@@H]([C@@H](CO)O1)O)O)O\n",
      "INCHIKEY: NBLLRWANAFOKON-ZHZXCYKASA-N\n",
      "--> Spec2Vec similarity score: 0.6650198636082323\n",
      "--> Modified cosine score: 0.743400008815389\n",
      "With ground truth --> actual molecular similarity: 0.2922535211267606\n",
      "--> MOLECULES:\n",
      "Scour processed file \"draw_mols_temp.svg\" in 31 ms: 5301/7839 bytes new/orig -> 67.6%\n"
     ]
    },
    {
     "data": {
      "image/svg+xml": [
       "<svg baseProfile=\"full\" height=\"300px\" space=\"preserve\" version=\"1.1\" width=\"300px\" xmlns=\"http://www.w3.org/2000/svg\">\n",
       " <polygon fill=\"#fff\" points=\"0 0 300 0 300 300 0 300\" stroke-width=\"0\"/>\n",
       " <g>\n",
       "  <text fill=\"rgb(255,0,0)\" font-family=\"helvetica\" font-size=\"9.05\" x=\"233.23\" y=\"192.30\">O</text>\n",
       " </g>\n",
       " <g>\n",
       "  <text fill=\"rgb(255,0,0)\" font-family=\"helvetica\" font-size=\"9.05\" x=\"237.32\" y=\"134.72\">O</text>\n",
       " </g>\n",
       " <g>\n",
       "  <text fill=\"rgb(255,0,0)\" font-family=\"helvetica\" font-size=\"9.05\" x=\"189.49\" y=\"102.40\">O</text>\n",
       " </g>\n",
       " <g>\n",
       "  <text fill=\"rgb(255,0,0)\" font-family=\"helvetica\" font-size=\"9.05\" x=\"133.50\" y=\"185.23\">O</text>\n",
       " </g>\n",
       " <g>\n",
       "  <text fill=\"rgb(255,0,0)\" font-family=\"helvetica\" font-size=\"9.05\" x=\"25.06\" y=\"206.95\">HO</text>\n",
       " </g>\n",
       " <g>\n",
       "  <text fill=\"rgb(255,0,0)\" font-family=\"helvetica\" font-size=\"9.05\" x=\"83.63\" y=\"181.70\">O</text>\n",
       " </g>\n",
       " <g>\n",
       "  <text fill=\"rgb(255,0,0)\" font-family=\"helvetica\" font-size=\"9.05\" x=\"31.19\" y=\"120.58\">HO</text>\n",
       " </g>\n",
       " <g>\n",
       "  <text fill=\"rgb(255,0,0)\" font-family=\"helvetica\" font-size=\"9.05\" x=\"89.89\" y=\"95.33\">OH</text>\n",
       " </g>\n",
       " <g>\n",
       "  <text fill=\"rgb(255,0,0)\" font-family=\"helvetica\" font-size=\"9.05\" x=\"137.71\" y=\"127.65\">OH</text>\n",
       " </g>\n",
       " <line stroke=\"#000\" x1=\"234.71\" x2=\"235.46\" y1=\"215.66\" y2=\"205.07\"/>\n",
       " <line stroke=\"#f00\" x1=\"235.46\" x2=\"236.22\" y1=\"205.07\" y2=\"194.48\"/>\n",
       " <line stroke=\"#f00\" x1=\"231.06\" x2=\"221.95\" y1=\"183.02\" y2=\"176.87\"/>\n",
       " <line stroke=\"#000\" x1=\"221.95\" x2=\"212.84\" y1=\"176.87\" y2=\"170.71\"/>\n",
       " <line stroke=\"#000\" x1=\"212.84\" x2=\"186.89\" y1=\"170.71\" y2=\"183.34\"/>\n",
       " <line stroke=\"#000\" x1=\"207.77\" x2=\"187.01\" y1=\"166.88\" y2=\"176.98\"/>\n",
       " <line stroke=\"#000\" x1=\"186.89\" x2=\"162.98\" y1=\"183.34\" y2=\"167.17\"/>\n",
       " <line stroke=\"#000\" x1=\"162.98\" x2=\"165.02\" y1=\"167.17\" y2=\"138.38\"/>\n",
       " <line stroke=\"#000\" x1=\"168.83\" x2=\"170.46\" y1=\"164.69\" y2=\"141.66\"/>\n",
       " <line stroke=\"#000\" x1=\"165.02\" x2=\"190.97\" y1=\"138.38\" y2=\"125.76\"/>\n",
       " <line stroke=\"#000\" x1=\"190.97\" x2=\"214.88\" y1=\"125.76\" y2=\"141.92\"/>\n",
       " <line stroke=\"#000\" x1=\"190.19\" x2=\"209.32\" y1=\"132.06\" y2=\"144.99\"/>\n",
       " <line stroke=\"#000\" x1=\"214.88\" x2=\"225.01\" y1=\"141.92\" y2=\"136.99\"/>\n",
       " <line stroke=\"#f00\" x1=\"225.01\" x2=\"235.14\" y1=\"136.99\" y2=\"132.06\"/>\n",
       " <line stroke=\"#f00\" x1=\"246.53\" x2=\"255.64\" y1=\"133.14\" y2=\"139.3\"/>\n",
       " <line stroke=\"#000\" x1=\"255.64\" x2=\"264.75\" y1=\"139.3\" y2=\"145.45\"/>\n",
       " <line stroke=\"#000\" x1=\"190.97\" x2=\"191.72\" y1=\"125.76\" y2=\"115.16\"/>\n",
       " <line stroke=\"#f00\" x1=\"191.72\" x2=\"192.47\" y1=\"115.16\" y2=\"104.57\"/>\n",
       " <line stroke=\"#f00\" x1=\"198.71\" x2=\"208.84\" y1=\"94.19\" y2=\"89.27\"/>\n",
       " <line stroke=\"#000\" x1=\"208.84\" x2=\"218.97\" y1=\"89.27\" y2=\"84.34\"/>\n",
       " <line stroke=\"#000\" x1=\"162.98\" x2=\"152.85\" y1=\"167.17\" y2=\"172.1\"/>\n",
       " <line stroke=\"#f00\" x1=\"152.85\" x2=\"142.72\" y1=\"172.1\" y2=\"177.03\"/>\n",
       " <line stroke=\"#000\" x1=\"113.11\" x2=\"113.11\" y1=\"163.64\" y2=\"163.64\"/>\n",
       " <line stroke=\"#000\" x1=\"115.94\" x2=\"116.79\" y1=\"166.46\" y2=\"165.21\"/>\n",
       " <line stroke=\"#000\" x1=\"118.77\" x2=\"120.47\" y1=\"169.29\" y2=\"166.78\"/>\n",
       " <line stroke=\"#000\" x1=\"121.6\" x2=\"124.15\" y1=\"172.12\" y2=\"168.35\"/>\n",
       " <line stroke=\"#000\" x1=\"124.43\" x2=\"127.82\" y1=\"174.95\" y2=\"169.92\"/>\n",
       " <line stroke=\"#000\" x1=\"127.26\" x2=\"131.5\" y1=\"177.77\" y2=\"171.49\"/>\n",
       " <line stroke=\"#000\" x1=\"128.95\" x2=\"133.7\" y1=\"179.47\" y2=\"172.43\"/>\n",
       " <line stroke=\"#000\" x1=\"113.11\" x2=\"115.15\" y1=\"163.64\" y2=\"134.85\"/>\n",
       " <line stroke=\"#000\" x1=\"115.15\" x2=\"91.24\" y1=\"134.85\" y2=\"118.68\"/>\n",
       " <line stroke=\"#000\" x1=\"91.24\" x2=\"65.29\" y1=\"118.68\" y2=\"131.31\"/>\n",
       " <line stroke=\"#000\" x1=\"65.29\" x2=\"63.24\" y1=\"131.31\" y2=\"160.1\"/>\n",
       " <line stroke=\"#000\" x1=\"63.24\" x2=\"63.24\" y1=\"160.1\" y2=\"160.1\"/>\n",
       " <line stroke=\"#000\" x1=\"59.43\" x2=\"59.94\" y1=\"161.31\" y2=\"162.36\"/>\n",
       " <line stroke=\"#000\" x1=\"55.62\" x2=\"56.64\" y1=\"162.52\" y2=\"164.61\"/>\n",
       " <line stroke=\"#000\" x1=\"51.81\" x2=\"53.33\" y1=\"163.73\" y2=\"166.87\"/>\n",
       " <line stroke=\"#000\" x1=\"47.99\" x2=\"50.03\" y1=\"164.93\" y2=\"169.12\"/>\n",
       " <line stroke=\"#000\" x1=\"44.18\" x2=\"46.72\" y1=\"166.14\" y2=\"171.38\"/>\n",
       " <line stroke=\"#000\" x1=\"40.37\" x2=\"43.42\" y1=\"167.35\" y2=\"173.63\"/>\n",
       " <line stroke=\"#000\" x1=\"36.55\" x2=\"40.12\" y1=\"168.56\" y2=\"175.88\"/>\n",
       " <line stroke=\"#000\" x1=\"35.43\" x2=\"39.15\" y1=\"168.91\" y2=\"176.55\"/>\n",
       " <line stroke=\"#000\" x1=\"37.29\" x2=\"36.54\" y1=\"172.73\" y2=\"183.32\"/>\n",
       " <line stroke=\"#f00\" x1=\"36.54\" x2=\"35.79\" y1=\"183.32\" y2=\"193.91\"/>\n",
       " <line stroke=\"#000\" x1=\"63.24\" x2=\"72.35\" y1=\"160.1\" y2=\"166.26\"/>\n",
       " <line stroke=\"#f00\" x1=\"72.35\" x2=\"81.46\" y1=\"166.26\" y2=\"172.41\"/>\n",
       " <polygon points=\"65.29 131.31 49.32 115.4 44.57 122.43\" stroke-width=\"0\"/>\n",
       " <line stroke=\"#000\" x1=\"91.24\" x2=\"91.24\" y1=\"118.68\" y2=\"118.68\"/>\n",
       " <line stroke=\"#000\" x1=\"92.3\" x2=\"90.74\" y1=\"114.83\" y2=\"114.72\"/>\n",
       " <line stroke=\"#000\" x1=\"93.36\" x2=\"90.23\" y1=\"110.97\" y2=\"110.75\"/>\n",
       " <line stroke=\"#000\" x1=\"94.42\" x2=\"89.73\" y1=\"107.11\" y2=\"106.78\"/>\n",
       " <line stroke=\"#000\" x1=\"95.48\" x2=\"89.22\" y1=\"103.26\" y2=\"102.81\"/>\n",
       " <line stroke=\"#000\" x1=\"96.54\" x2=\"88.72\" y1=\"99.4\" y2=\"98.84\"/>\n",
       " <line stroke=\"#000\" x1=\"96.98\" x2=\"88.51\" y1=\"97.8\" y2=\"97.2\"/>\n",
       " <polygon points=\"115.15 134.85 137.39 128.75 133.68 121.11\" stroke-width=\"0\"/>\n",
       " <line stroke=\"#000\" x1=\"214.88\" x2=\"212.84\" y1=\"141.92\" y2=\"170.71\"/>\n",
       " <line stroke=\"#f00\" x1=\"92.85\" x2=\"102.98\" y1=\"173.49\" y2=\"168.57\"/>\n",
       " <line stroke=\"#000\" x1=\"102.98\" x2=\"113.11\" y1=\"168.57\" y2=\"163.64\"/>\n",
       "</svg>"
      ],
      "text/plain": [
       "<IPython.core.display.SVG object>"
      ]
     },
     "metadata": {},
     "output_type": "display_data"
    },
    {
     "name": "stdout",
     "output_type": "stream",
     "text": [
      "--------------------------------------------------------------------------------\n",
      "SUGGESTED SIMILAR SPECTRA ------------------------------------------------------\n",
      "SMILES: C/C(=C/c1ccc(c(c1)OC)O)/C(C)Cc1ccc(c(c1)OC)O\n",
      "INCHIKEY: OPAORDVBZRVVNQ-LCYFTJDESA-N\n",
      "--> Spec2Vec similarity score: 0.6416072566380038\n",
      "--> Modified cosine score: 0.915607772777351\n",
      "With ground truth --> actual molecular similarity: 0.35432230522945574\n",
      "--> MOLECULES:\n",
      "Scour processed file \"draw_mols_temp.svg\" in 31 ms: 3333/4999 bytes new/orig -> 66.7%\n"
     ]
    },
    {
     "data": {
      "image/svg+xml": [
       "<svg baseProfile=\"full\" height=\"300px\" space=\"preserve\" version=\"1.1\" width=\"300px\" xmlns=\"http://www.w3.org/2000/svg\">\n",
       " <polygon fill=\"#fff\" points=\"0 0 300 0 300 300 0 300\" stroke-width=\"0\"/>\n",
       " <g>\n",
       "  <text fill=\"rgb(255,0,0)\" font-family=\"helvetica\" font-size=\"9.24\" x=\"58.87\" y=\"98.37\">O</text>\n",
       " </g>\n",
       " <g>\n",
       "  <text fill=\"rgb(255,0,0)\" font-family=\"helvetica\" font-size=\"9.24\" x=\"113.43\" y=\"75.86\">OH</text>\n",
       " </g>\n",
       " <g>\n",
       "  <text fill=\"rgb(255,0,0)\" font-family=\"helvetica\" font-size=\"9.24\" x=\"214.45\" y=\"89.24\">O</text>\n",
       " </g>\n",
       " <g>\n",
       "  <text fill=\"rgb(255,0,0)\" font-family=\"helvetica\" font-size=\"9.24\" x=\"261.29\" y=\"125.12\">OH</text>\n",
       " </g>\n",
       " <line stroke=\"#000\" x1=\"120.95\" x2=\"124.81\" y1=\"234.25\" y2=\"205.05\"/>\n",
       " <line stroke=\"#000\" x1=\"124.81\" x2=\"101.45\" y1=\"205.05\" y2=\"187.11\"/>\n",
       " <line stroke=\"#000\" x1=\"125.99\" x2=\"107.31\" y1=\"198.68\" y2=\"184.32\"/>\n",
       " <line stroke=\"#000\" x1=\"101.45\" x2=\"105.31\" y1=\"187.11\" y2=\"157.91\"/>\n",
       " <line stroke=\"#000\" x1=\"105.31\" x2=\"132.53\" y1=\"157.91\" y2=\"146.66\"/>\n",
       " <line stroke=\"#000\" x1=\"105.83\" x2=\"127.6\" y1=\"151.45\" y2=\"142.45\"/>\n",
       " <line stroke=\"#000\" x1=\"132.53\" x2=\"136.39\" y1=\"146.66\" y2=\"117.46\"/>\n",
       " <line stroke=\"#000\" x1=\"136.39\" x2=\"113.04\" y1=\"117.46\" y2=\"99.52\"/>\n",
       " <line stroke=\"#000\" x1=\"130.54\" x2=\"111.85\" y1=\"120.24\" y2=\"105.89\"/>\n",
       " <line stroke=\"#000\" x1=\"113.04\" x2=\"85.82\" y1=\"99.52\" y2=\"110.77\"/>\n",
       " <line stroke=\"#000\" x1=\"85.82\" x2=\"81.96\" y1=\"110.77\" y2=\"139.97\"/>\n",
       " <line stroke=\"#000\" x1=\"91.16\" x2=\"88.07\" y1=\"114.45\" y2=\"137.81\"/>\n",
       " <line stroke=\"#000\" x1=\"85.82\" x2=\"77.05\" y1=\"110.77\" y2=\"104.03\"/>\n",
       " <line stroke=\"#f00\" x1=\"77.05\" x2=\"68.28\" y1=\"104.03\" y2=\"97.29\"/>\n",
       " <line stroke=\"#f00\" x1=\"56.65\" x2=\"45.95\" y1=\"95.23\" y2=\"99.66\"/>\n",
       " <line stroke=\"#000\" x1=\"45.95\" x2=\"35.25\" y1=\"99.66\" y2=\"104.08\"/>\n",
       " <line stroke=\"#000\" x1=\"113.04\" x2=\"114.45\" y1=\"99.52\" y2=\"88.8\"/>\n",
       " <line stroke=\"#f00\" x1=\"114.45\" x2=\"115.87\" y1=\"88.8\" y2=\"78.08\"/>\n",
       " <line stroke=\"#000\" x1=\"124.81\" x2=\"152.02\" y1=\"205.05\" y2=\"193.8\"/>\n",
       " <line stroke=\"#000\" x1=\"152.02\" x2=\"175.38\" y1=\"193.8\" y2=\"211.74\"/>\n",
       " <line stroke=\"#000\" x1=\"152.02\" x2=\"155.89\" y1=\"193.8\" y2=\"164.6\"/>\n",
       " <line stroke=\"#000\" x1=\"155.89\" x2=\"183.1\" y1=\"164.6\" y2=\"153.34\"/>\n",
       " <line stroke=\"#000\" x1=\"183.1\" x2=\"206.46\" y1=\"153.34\" y2=\"171.29\"/>\n",
       " <line stroke=\"#000\" x1=\"188.96\" x2=\"207.64\" y1=\"150.56\" y2=\"164.91\"/>\n",
       " <line stroke=\"#000\" x1=\"206.46\" x2=\"233.67\" y1=\"171.29\" y2=\"160.03\"/>\n",
       " <line stroke=\"#000\" x1=\"233.67\" x2=\"237.53\" y1=\"160.03\" y2=\"130.83\"/>\n",
       " <line stroke=\"#000\" x1=\"228.33\" x2=\"231.42\" y1=\"156.35\" y2=\"133\"/>\n",
       " <line stroke=\"#000\" x1=\"237.53\" x2=\"214.18\" y1=\"130.83\" y2=\"112.89\"/>\n",
       " <line stroke=\"#000\" x1=\"214.18\" x2=\"186.96\" y1=\"112.89\" y2=\"124.15\"/>\n",
       " <line stroke=\"#000\" x1=\"213.66\" x2=\"191.89\" y1=\"119.35\" y2=\"128.36\"/>\n",
       " <line stroke=\"#000\" x1=\"214.18\" x2=\"215.6\" y1=\"112.89\" y2=\"102.17\"/>\n",
       " <line stroke=\"#f00\" x1=\"215.6\" x2=\"217.01\" y1=\"102.17\" y2=\"91.46\"/>\n",
       " <line stroke=\"#f00\" x1=\"212.23\" x2=\"203.46\" y1=\"79.23\" y2=\"72.49\"/>\n",
       " <line stroke=\"#000\" x1=\"203.46\" x2=\"194.69\" y1=\"72.49\" y2=\"65.75\"/>\n",
       " <line stroke=\"#000\" x1=\"237.53\" x2=\"248.3\" y1=\"130.83\" y2=\"126.38\"/>\n",
       " <line stroke=\"#f00\" x1=\"248.3\" x2=\"259.07\" y1=\"126.38\" y2=\"121.93\"/>\n",
       " <line stroke=\"#000\" x1=\"81.96\" x2=\"105.31\" y1=\"139.97\" y2=\"157.91\"/>\n",
       " <line stroke=\"#000\" x1=\"186.96\" x2=\"183.1\" y1=\"124.15\" y2=\"153.34\"/>\n",
       "</svg>"
      ],
      "text/plain": [
       "<IPython.core.display.SVG object>"
      ]
     },
     "metadata": {},
     "output_type": "display_data"
    },
    {
     "name": "stdout",
     "output_type": "stream",
     "text": [
      "--------------------------------------------------------------------------------\n",
      "SUGGESTED SIMILAR SPECTRA ------------------------------------------------------\n",
      "SMILES: C=C(C)C(=O)OC1CC2(C)C(=O)C=C(C(=C)CC3C1C(=C)C(=O)O3)O2\n",
      "INCHIKEY: FDLLEBFMOIHMNM-UHFFFAOYSA-N\n",
      "--> Spec2Vec similarity score: 0.6376122531007257\n",
      "--> Modified cosine score: 0.39666667298735203\n",
      "With ground truth --> actual molecular similarity: 0.24712643678160917\n",
      "--> MOLECULES:\n",
      "Scour processed file \"draw_mols_temp.svg\" in 31 ms: 4104/6116 bytes new/orig -> 67.1%\n"
     ]
    },
    {
     "data": {
      "image/svg+xml": [
       "<svg baseProfile=\"full\" height=\"300px\" space=\"preserve\" version=\"1.1\" width=\"300px\" xmlns=\"http://www.w3.org/2000/svg\">\n",
       " <polygon fill=\"#fff\" points=\"0 0 300 0 300 300 0 300\" stroke-width=\"0\"/>\n",
       " <g>\n",
       "  <text fill=\"rgb(255,0,0)\" font-family=\"helvetica\" font-size=\"10.71\" x=\"189.35\" y=\"223.28\">O</text>\n",
       " </g>\n",
       " <g>\n",
       "  <text fill=\"rgb(255,0,0)\" font-family=\"helvetica\" font-size=\"10.71\" x=\"192.40\" y=\"164.24\">O</text>\n",
       " </g>\n",
       " <g>\n",
       "  <text fill=\"rgb(255,0,0)\" font-family=\"helvetica\" font-size=\"10.71\" x=\"89.89\" y=\"265.02\">O</text>\n",
       " </g>\n",
       " <g>\n",
       "  <text fill=\"rgb(255,0,0)\" font-family=\"helvetica\" font-size=\"10.71\" x=\"181.13\" y=\"47.83\">O</text>\n",
       " </g>\n",
       " <g>\n",
       "  <text fill=\"rgb(255,0,0)\" font-family=\"helvetica\" font-size=\"10.71\" x=\"128.47\" y=\"78.29\">O</text>\n",
       " </g>\n",
       " <g>\n",
       "  <text fill=\"rgb(255,0,0)\" font-family=\"helvetica\" font-size=\"10.71\" x=\"102.33\" y=\"177.57\">O</text>\n",
       " </g>\n",
       " <line stroke=\"#000\" x1=\"264.68\" x2=\"249.16\" y1=\"218.86\" y2=\"188.45\"/>\n",
       " <line stroke=\"#000\" x1=\"258.72\" x2=\"243.2\" y1=\"221.9\" y2=\"191.5\"/>\n",
       " <line stroke=\"#000\" x1=\"246.18\" x2=\"264.75\" y1=\"189.98\" y2=\"161.33\"/>\n",
       " <line stroke=\"#000\" x1=\"246.18\" x2=\"212.09\" y1=\"189.98\" y2=\"188.21\"/>\n",
       " <line stroke=\"#000\" x1=\"209.28\" x2=\"202.91\" y1=\"186.39\" y2=\"196.22\"/>\n",
       " <line stroke=\"#f00\" x1=\"202.91\" x2=\"196.54\" y1=\"196.22\" y2=\"206.04\"/>\n",
       " <line stroke=\"#000\" x1=\"214.9\" x2=\"208.53\" y1=\"190.04\" y2=\"199.86\"/>\n",
       " <line stroke=\"#f00\" x1=\"208.53\" x2=\"202.16\" y1=\"199.86\" y2=\"209.68\"/>\n",
       " <line stroke=\"#000\" x1=\"212.09\" x2=\"206.62\" y1=\"188.21\" y2=\"177.51\"/>\n",
       " <line stroke=\"#f00\" x1=\"206.62\" x2=\"201.16\" y1=\"177.51\" y2=\"166.81\"/>\n",
       " <line stroke=\"#f00\" x1=\"189.83\" x2=\"176.15\" y1=\"157.46\" y2=\"156.76\"/>\n",
       " <line stroke=\"#000\" x1=\"176.15\" x2=\"162.47\" y1=\"156.76\" y2=\"156.05\"/>\n",
       " <line stroke=\"#000\" x1=\"162.47\" x2=\"149.16\" y1=\"156.05\" y2=\"187.48\"/>\n",
       " <line stroke=\"#000\" x1=\"149.16\" x2=\"118.76\" y1=\"187.48\" y2=\"203\"/>\n",
       " <line stroke=\"#000\" x1=\"118.76\" x2=\"151.74\" y1=\"203\" y2=\"211.81\"/>\n",
       " <line stroke=\"#000\" x1=\"118.76\" x2=\"92.24\" y1=\"203\" y2=\"224.51\"/>\n",
       " <line stroke=\"#000\" x1=\"88.9\" x2=\"89.57\" y1=\"224.68\" y2=\"237.23\"/>\n",
       " <line stroke=\"#f00\" x1=\"89.57\" x2=\"90.23\" y1=\"237.23\" y2=\"249.78\"/>\n",
       " <line stroke=\"#000\" x1=\"95.58\" x2=\"96.25\" y1=\"224.33\" y2=\"236.88\"/>\n",
       " <line stroke=\"#f00\" x1=\"96.25\" x2=\"96.92\" y1=\"236.88\" y2=\"249.42\"/>\n",
       " <line stroke=\"#000\" x1=\"92.24\" x2=\"63.6\" y1=\"224.51\" y2=\"205.94\"/>\n",
       " <line stroke=\"#000\" x1=\"63.6\" x2=\"72.41\" y1=\"205.94\" y2=\"172.96\"/>\n",
       " <line stroke=\"#000\" x1=\"70.95\" x2=\"77.99\" y1=\"204.37\" y2=\"177.98\"/>\n",
       " <line stroke=\"#000\" x1=\"72.41\" x2=\"66.68\" y1=\"172.96\" y2=\"134.01\"/>\n",
       " <line stroke=\"#000\" x1=\"67.99\" x2=\"36.56\" y1=\"130.93\" y2=\"117.61\"/>\n",
       " <line stroke=\"#000\" x1=\"65.38\" x2=\"33.94\" y1=\"137.09\" y2=\"123.78\"/>\n",
       " <line stroke=\"#000\" x1=\"66.68\" x2=\"89.95\" y1=\"134.01\" y2=\"109.03\"/>\n",
       " <line stroke=\"#000\" x1=\"89.95\" x2=\"123.83\" y1=\"109.03\" y2=\"104.84\"/>\n",
       " <line stroke=\"#000\" x1=\"123.83\" x2=\"152.47\" y1=\"104.84\" y2=\"123.41\"/>\n",
       " <line stroke=\"#000\" x1=\"152.47\" x2=\"178.98\" y1=\"123.41\" y2=\"101.91\"/>\n",
       " <line stroke=\"#000\" x1=\"178.12\" x2=\"211.1\" y1=\"105.14\" y2=\"113.95\"/>\n",
       " <line stroke=\"#000\" x1=\"179.85\" x2=\"212.83\" y1=\"98.67\" y2=\"107.49\"/>\n",
       " <line stroke=\"#000\" x1=\"178.98\" x2=\"166.72\" y1=\"101.91\" y2=\"70.05\"/>\n",
       " <line stroke=\"#000\" x1=\"169.53\" x2=\"175.9\" y1=\"71.87\" y2=\"62.04\"/>\n",
       " <line stroke=\"#f00\" x1=\"175.9\" x2=\"182.27\" y1=\"62.04\" y2=\"52.22\"/>\n",
       " <line stroke=\"#000\" x1=\"163.92\" x2=\"170.29\" y1=\"68.23\" y2=\"58.4\"/>\n",
       " <line stroke=\"#f00\" x1=\"170.29\" x2=\"176.65\" y1=\"58.4\" y2=\"48.58\"/>\n",
       " <line stroke=\"#000\" x1=\"166.72\" x2=\"153.05\" y1=\"70.05\" y2=\"70.77\"/>\n",
       " <line stroke=\"#f00\" x1=\"153.05\" x2=\"139.37\" y1=\"70.77\" y2=\"71.5\"/>\n",
       " <line stroke=\"#000\" x1=\"72.41\" x2=\"86.09\" y1=\"172.96\" y2=\"172.23\"/>\n",
       " <line stroke=\"#f00\" x1=\"86.09\" x2=\"99.76\" y1=\"172.23\" y2=\"171.5\"/>\n",
       " <line stroke=\"#000\" x1=\"152.47\" x2=\"162.47\" y1=\"123.41\" y2=\"156.05\"/>\n",
       " <line stroke=\"#f00\" x1=\"109.96\" x2=\"114.36\" y1=\"180.14\" y2=\"191.57\"/>\n",
       " <line stroke=\"#000\" x1=\"114.36\" x2=\"118.76\" y1=\"191.57\" y2=\"203\"/>\n",
       " <line stroke=\"#f00\" x1=\"130.23\" x2=\"127.03\" y1=\"80.86\" y2=\"92.85\"/>\n",
       " <line stroke=\"#000\" x1=\"127.03\" x2=\"123.83\" y1=\"92.85\" y2=\"104.84\"/>\n",
       "</svg>"
      ],
      "text/plain": [
       "<IPython.core.display.SVG object>"
      ]
     },
     "metadata": {},
     "output_type": "display_data"
    },
    {
     "name": "stdout",
     "output_type": "stream",
     "text": [
      "--------------------------------------------------------------------------------\n",
      "SUGGESTED SIMILAR SPECTRA ------------------------------------------------------\n",
      "SMILES: C=C1C[C@]23C[C@H]1CC[C@H]2[C@]12C=C[C@@H]([C@@](C)([C@H]1[C@@H]3C(=O)O)C(=O)O2)O\n",
      "INCHIKEY: SEEGHKWOBVVBTQ-UKJRIFTCSA-N\n",
      "--> Spec2Vec similarity score: 0.634271845534639\n",
      "--> Modified cosine score: 0.4868577300195115\n",
      "With ground truth --> actual molecular similarity: 0.24489795918367352\n",
      "--> MOLECULES:\n",
      "Scour processed file \"draw_mols_temp.svg\" in 47 ms: 6110/9272 bytes new/orig -> 65.9%\n"
     ]
    },
    {
     "data": {
      "image/svg+xml": [
       "<svg baseProfile=\"full\" height=\"300px\" space=\"preserve\" version=\"1.1\" width=\"300px\" xmlns=\"http://www.w3.org/2000/svg\">\n",
       " <polygon fill=\"#fff\" points=\"0 0 300 0 300 300 0 300\" stroke-width=\"0\"/>\n",
       " <g>\n",
       "  <text fill=\"rgb(255,0,0)\" font-family=\"helvetica\" font-size=\"10.78\" x=\"107.03\" y=\"92.98\">O</text>\n",
       " </g>\n",
       " <g>\n",
       "  <text fill=\"rgb(255,0,0)\" font-family=\"helvetica\" font-size=\"10.78\" x=\"159.07\" y=\"89.57\">OH</text>\n",
       " </g>\n",
       " <g>\n",
       "  <text fill=\"rgb(255,0,0)\" font-family=\"helvetica\" font-size=\"10.78\" x=\"170.22\" y=\"107.94\">O</text>\n",
       " </g>\n",
       " <g>\n",
       "  <text fill=\"rgb(255,0,0)\" font-family=\"helvetica\" font-size=\"10.78\" x=\"148.02\" y=\"160.56\">O</text>\n",
       " </g>\n",
       " <g>\n",
       "  <text fill=\"rgb(255,0,0)\" font-family=\"helvetica\" font-size=\"10.78\" x=\"260.71\" y=\"164.84\">OH</text>\n",
       " </g>\n",
       " <line stroke=\"#000\" x1=\"33.48\" x2=\"62.7\" y1=\"129.46\" y2=\"147.55\"/>\n",
       " <line stroke=\"#000\" x1=\"37.02\" x2=\"66.24\" y1=\"123.73\" y2=\"141.82\"/>\n",
       " <line stroke=\"#000\" x1=\"64.47\" x2=\"96.28\" y1=\"144.69\" y2=\"131.68\"/>\n",
       " <polygon points=\"118.48 157.92 100.14 128.42 92.42 134.95\" stroke-width=\"0\"/>\n",
       " <line stroke=\"#000\" x1=\"118.48\" x2=\"84.43\" y1=\"157.92\" y2=\"153.28\"/>\n",
       " <line stroke=\"#000\" x1=\"84.43\" x2=\"63.38\" y1=\"153.28\" y2=\"180.44\"/>\n",
       " <polygon points=\"63.38 180.44 71.71 214.17 81.06 210.34\" stroke-width=\"0\"/>\n",
       " <line stroke=\"#000\" x1=\"76.38\" x2=\"110.44\" y1=\"212.26\" y2=\"216.9\"/>\n",
       " <line stroke=\"#000\" x1=\"131.48\" x2=\"131.48\" y1=\"189.73\" y2=\"189.73\"/>\n",
       " <line stroke=\"#000\" x1=\"128.6\" x2=\"129.52\" y1=\"192.5\" y2=\"193.22\"/>\n",
       " <line stroke=\"#000\" x1=\"125.72\" x2=\"127.56\" y1=\"195.28\" y2=\"196.7\"/>\n",
       " <line stroke=\"#000\" x1=\"122.83\" x2=\"125.59\" y1=\"198.05\" y2=\"200.19\"/>\n",
       " <line stroke=\"#000\" x1=\"119.95\" x2=\"123.63\" y1=\"200.82\" y2=\"203.67\"/>\n",
       " <line stroke=\"#000\" x1=\"117.07\" x2=\"121.67\" y1=\"203.59\" y2=\"207.16\"/>\n",
       " <line stroke=\"#000\" x1=\"114.18\" x2=\"119.7\" y1=\"206.36\" y2=\"210.64\"/>\n",
       " <line stroke=\"#000\" x1=\"111.3\" x2=\"117.74\" y1=\"209.14\" y2=\"214.13\"/>\n",
       " <line stroke=\"#000\" x1=\"108.41\" x2=\"115.78\" y1=\"211.91\" y2=\"217.61\"/>\n",
       " <line stroke=\"#000\" x1=\"106.44\" x2=\"114.43\" y1=\"213.81\" y2=\"220\"/>\n",
       " <line stroke=\"#000\" x1=\"131.48\" x2=\"165.76\" y1=\"189.73\" y2=\"187.2\"/>\n",
       " <line stroke=\"#000\" x1=\"165.76\" x2=\"165.76\" y1=\"187.2\" y2=\"187.2\"/>\n",
       " <line stroke=\"#000\" x1=\"168.21\" x2=\"169.02\" y1=\"190.35\" y2=\"189.51\"/>\n",
       " <line stroke=\"#000\" x1=\"170.67\" x2=\"172.28\" y1=\"193.51\" y2=\"191.83\"/>\n",
       " <line stroke=\"#000\" x1=\"173.12\" x2=\"175.54\" y1=\"196.67\" y2=\"194.15\"/>\n",
       " <line stroke=\"#000\" x1=\"175.58\" x2=\"178.8\" y1=\"199.83\" y2=\"196.46\"/>\n",
       " <line stroke=\"#000\" x1=\"178.04\" x2=\"182.06\" y1=\"202.98\" y2=\"198.78\"/>\n",
       " <line stroke=\"#000\" x1=\"180.49\" x2=\"185.32\" y1=\"206.14\" y2=\"201.1\"/>\n",
       " <line stroke=\"#000\" x1=\"182.95\" x2=\"188.58\" y1=\"209.3\" y2=\"203.42\"/>\n",
       " <line stroke=\"#000\" x1=\"185.4\" x2=\"191.84\" y1=\"212.46\" y2=\"205.73\"/>\n",
       " <line stroke=\"#000\" x1=\"187.08\" x2=\"194.07\" y1=\"214.62\" y2=\"207.32\"/>\n",
       " <line stroke=\"#000\" x1=\"190.58\" x2=\"223.57\" y1=\"210.97\" y2=\"201.36\"/>\n",
       " <line stroke=\"#000\" x1=\"191.99\" x2=\"218.39\" y1=\"203.54\" y2=\"195.85\"/>\n",
       " <line stroke=\"#000\" x1=\"223.57\" x2=\"231.75\" y1=\"201.36\" y2=\"167.98\"/>\n",
       " <line stroke=\"#000\" x1=\"231.75\" x2=\"206.93\" y1=\"167.98\" y2=\"144.21\"/>\n",
       " <line stroke=\"#000\" x1=\"206.93\" x2=\"206.93\" y1=\"144.21\" y2=\"144.21\"/>\n",
       " <line stroke=\"#000\" x1=\"208.44\" x2=\"207.31\" y1=\"140.5\" y2=\"140.22\"/>\n",
       " <line stroke=\"#000\" x1=\"209.95\" x2=\"207.69\" y1=\"136.8\" y2=\"136.24\"/>\n",
       " <line stroke=\"#000\" x1=\"211.45\" x2=\"208.06\" y1=\"133.09\" y2=\"132.26\"/>\n",
       " <line stroke=\"#000\" x1=\"212.96\" x2=\"208.44\" y1=\"129.39\" y2=\"128.28\"/>\n",
       " <line stroke=\"#000\" x1=\"214.47\" x2=\"208.82\" y1=\"125.68\" y2=\"124.3\"/>\n",
       " <line stroke=\"#000\" x1=\"215.98\" x2=\"209.19\" y1=\"121.98\" y2=\"120.31\"/>\n",
       " <line stroke=\"#000\" x1=\"217.48\" x2=\"209.57\" y1=\"118.27\" y2=\"116.33\"/>\n",
       " <line stroke=\"#000\" x1=\"218.99\" x2=\"209.94\" y1=\"114.56\" y2=\"112.35\"/>\n",
       " <line stroke=\"#000\" x1=\"220.02\" x2=\"210.2\" y1=\"112.03\" y2=\"109.62\"/>\n",
       " <line stroke=\"#000\" x1=\"206.93\" x2=\"173.94\" y1=\"144.21\" y2=\"153.81\"/>\n",
       " <line stroke=\"#000\" x1=\"173.94\" x2=\"173.94\" y1=\"153.81\" y2=\"153.81\"/>\n",
       " <line stroke=\"#000\" x1=\"170.88\" x2=\"170.27\" y1=\"151.24\" y2=\"152.23\"/>\n",
       " <line stroke=\"#000\" x1=\"167.82\" x2=\"166.59\" y1=\"148.66\" y2=\"150.64\"/>\n",
       " <line stroke=\"#000\" x1=\"164.76\" x2=\"162.92\" y1=\"146.08\" y2=\"149.05\"/>\n",
       " <line stroke=\"#000\" x1=\"161.7\" x2=\"159.25\" y1=\"143.5\" y2=\"147.46\"/>\n",
       " <line stroke=\"#000\" x1=\"158.64\" x2=\"155.58\" y1=\"140.92\" y2=\"145.87\"/>\n",
       " <line stroke=\"#000\" x1=\"155.59\" x2=\"151.91\" y1=\"138.35\" y2=\"144.28\"/>\n",
       " <line stroke=\"#000\" x1=\"152.53\" x2=\"148.24\" y1=\"135.77\" y2=\"142.69\"/>\n",
       " <line stroke=\"#000\" x1=\"149.47\" x2=\"144.57\" y1=\"133.19\" y2=\"141.11\"/>\n",
       " <line stroke=\"#000\" x1=\"147.38\" x2=\"142.06\" y1=\"131.43\" y2=\"140.02\"/>\n",
       " <polygon points=\"144.72 135.72 147.22 101.08 137.14 101.82\" stroke-width=\"0\"/>\n",
       " <line stroke=\"#000\" x1=\"143.64\" x2=\"131.56\" y1=\"98.41\" y2=\"92.58\"/>\n",
       " <line stroke=\"#f00\" x1=\"131.56\" x2=\"119.48\" y1=\"92.58\" y2=\"86.75\"/>\n",
       " <line stroke=\"#000\" x1=\"140.71\" x2=\"128.63\" y1=\"104.48\" y2=\"98.65\"/>\n",
       " <line stroke=\"#f00\" x1=\"128.63\" x2=\"116.55\" y1=\"98.65\" y2=\"92.82\"/>\n",
       " <line stroke=\"#000\" x1=\"142.18\" x2=\"149.33\" y1=\"101.45\" y2=\"95.18\"/>\n",
       " <line stroke=\"#f00\" x1=\"149.33\" x2=\"156.48\" y1=\"95.18\" y2=\"88.91\"/>\n",
       " <line stroke=\"#000\" x1=\"206.93\" x2=\"175.98\" y1=\"144.21\" y2=\"129.27\"/>\n",
       " <line stroke=\"#000\" x1=\"179.35\" x2=\"178.82\" y1=\"129.08\" y2=\"119.71\"/>\n",
       " <line stroke=\"#f00\" x1=\"178.82\" x2=\"178.29\" y1=\"119.71\" y2=\"110.34\"/>\n",
       " <line stroke=\"#000\" x1=\"172.62\" x2=\"172.09\" y1=\"129.46\" y2=\"120.09\"/>\n",
       " <line stroke=\"#f00\" x1=\"172.09\" x2=\"171.56\" y1=\"120.09\" y2=\"110.72\"/>\n",
       " <line stroke=\"#000\" x1=\"175.98\" x2=\"167.49\" y1=\"129.27\" y2=\"138.14\"/>\n",
       " <line stroke=\"#f00\" x1=\"167.49\" x2=\"158.99\" y1=\"138.14\" y2=\"147.01\"/>\n",
       " <polygon points=\"231.75 167.98 259.53 165.15 256.71 155.45\" stroke-width=\"0\"/>\n",
       " <line stroke=\"#000\" x1=\"63.38\" x2=\"64.47\" y1=\"180.44\" y2=\"144.69\"/>\n",
       " <line stroke=\"#000\" x1=\"173.94\" x2=\"165.76\" y1=\"153.81\" y2=\"187.2\"/>\n",
       " <line stroke=\"#000\" x1=\"131.48\" x2=\"118.48\" y1=\"189.73\" y2=\"157.92\"/>\n",
       " <line stroke=\"#f00\" x1=\"155.92\" x2=\"160.84\" y1=\"163.14\" y2=\"175.17\"/>\n",
       " <line stroke=\"#000\" x1=\"160.84\" x2=\"165.76\" y1=\"175.17\" y2=\"187.2\"/>\n",
       " <line stroke=\"#000\" x1=\"144.72\" x2=\"118.48\" y1=\"135.72\" y2=\"157.92\"/>\n",
       "</svg>"
      ],
      "text/plain": [
       "<IPython.core.display.SVG object>"
      ]
     },
     "metadata": {},
     "output_type": "display_data"
    }
   ],
   "source": [
    "ID = 20\n",
    "#positive 100, 140, 500, 800, 40, 90, 175/180, 225, 350\n",
    "#'negative' 20, 80, 160  (small molecules: 190)\n",
    "#somewhat revealing: 170, 200\n",
    "\n",
    "\"\"\"selected_matches = found_matches[ID][(found_matches[ID]['S2V_top_n']==1)\n",
    "                                  & (found_matches[ID]['S2V_similarity'] > 0.5)\n",
    "                                  & (found_matches[ID]['modcosine_score'] > 0.5)]\"\"\"\n",
    "\"\"\"selected_matches = found_matches[ID][((found_matches[ID]['mass_match_10ppm']==1)\n",
    "                                 & (found_matches[ID]['modcosine_score'] > 0.5))\n",
    "                                 | ((found_matches[ID]['S2V_top_n']==1)\n",
    "                                  & (found_matches[ID]['S2V_similarity'] > 0.6))]\"\"\"\n",
    "selected_matches = found_matches[ID][(found_matches[ID]['S2V_top_n']==1)\n",
    "                                  & (found_matches[ID]['S2V_similarity'] > 0.6)]\n",
    "\n",
    "match_IDs = selected_matches['spectra_ID'].values.tolist()\n",
    "match_S2V_scores = selected_matches['S2V_similarity'].values.tolist()\n",
    "match_modcos_scores = selected_matches['modcosine_score'].values.tolist()\n",
    "\n",
    "if len(match_IDs) > 0:\n",
    "    smiles = spectra_unknown[ID].smiles\n",
    "    \n",
    "    print(40 * '--')\n",
    "    print('QUERY SPECTRUM  ' + 32 * '--')\n",
    "    print(\"SMILES:\", smiles)\n",
    "    print(\"INCHIKEY:\", spectra_unknown[ID].inchikey)\n",
    "    print('--> MOLECULE:')\n",
    "    plot_molecule(smiles)\n",
    "    \n",
    "        \n",
    "    fingerprint_query, _ = MS_functions.get_mol_fingerprints([spectra_unknown[ID]], \n",
    "                                                                 method = \"daylight\", #morgan3\", \n",
    "                                                                 nBits = 2048,\n",
    "                                                                 print_progress = False)\n",
    "    fingerprint_matches, _ = MS_functions.get_mol_fingerprints([spectra_library[x] for x in match_IDs], \n",
    "                                                                 method = \"daylight\", #morgan3\",\n",
    "                                                                 nBits = 2048,\n",
    "                                                                 print_progress = False)\n",
    "    \n",
    "    # Calculate molecular similarities\n",
    "    Mtest = MS_sim_classic.mol_sim_matrix(fingerprint_query,\n",
    "                                           fingerprint_matches,\n",
    "                                           method = 'jaccard',\n",
    "                                           filename = None,\n",
    "                                           max_size = 1000,\n",
    "                                           print_progress = False)\n",
    "    \n",
    "    for i, matchID in enumerate(match_IDs):\n",
    "        library_ID = library_spectra_metadata.iloc[matchID][0]\n",
    "        smiles = spectra[library_ID].smiles\n",
    "\n",
    "        print(40 * '--')\n",
    "        print('SUGGESTED SIMILAR SPECTRA ' + 27 * '--')\n",
    "        print(\"SMILES:\", smiles)\n",
    "        print(\"INCHIKEY:\", spectra[library_ID].inchikey)\n",
    "        print(\"--> Spec2Vec similarity score:\", match_S2V_scores[i])\n",
    "        print(\"--> Modified cosine score:\", match_modcos_scores[i])\n",
    "        print(\"With ground truth --> actual molecular similarity:\", Mtest[0][i])\n",
    "        print('--> MOLECULES:')\n",
    "        plot_molecule(smiles)\n",
    "else:\n",
    "    print('No matches found with given search criteria!')"
   ]
  },
  {
   "cell_type": "code",
   "execution_count": null,
   "metadata": {},
   "outputs": [],
   "source": []
  },
  {
   "cell_type": "code",
   "execution_count": null,
   "metadata": {},
   "outputs": [],
   "source": []
  },
  {
   "cell_type": "code",
   "execution_count": 38,
   "metadata": {},
   "outputs": [],
   "source": [
    "filename = \"draw_mols_temp.svg\"\n",
    "\n",
    "mol = Chem.MolFromSmiles(\"[H][C@]1(CC(/C=C/C)=CN21)C(O)NC3=C(O)C(C)=C(O[C@@H]4O[C@@H](C)[C@H](NC)[C@@](C)(O)[C@H]4O)C=C3C2=O\")\n",
    "\n",
    "#Draw.MolToMPL(mol, size=(100, 100), kekulize=True, wedgeBonds=True, imageType=None, fitImage=True)\n",
    "Draw.MolToFile(mol, filename)\n",
    "!scour -i draw_mols_temp.svg -o draw_mols_temp_corr.svg\n",
    "\n",
    "SVG(filename='draw_mols_temp_corr.svg')"
   ]
  },
  {
   "cell_type": "code",
   "execution_count": 29,
   "metadata": {},
   "outputs": [
    {
     "data": {
      "image/svg+xml": [
       "<?xml version=\"1.0\" encoding=\"iso-8859-1\"?>\r\n",
       "<svg:svg version=\"1.1\" baseProfile=\"full\"\r\n",
       "        xmlns:svg=\"http://www.w3.org/2000/svg\"\r\n",
       "        xmlns:xlink=\"http://www.w3.org/1999/xlink\"\r\n",
       "        xml:space=\"preserve\" width=\"300px\" height=\"300px\" >\r\n",
       "<svg:polygon fill=\"rgb(255,255,255)\" stroke=\"none\" stroke-width=\"0\" points=\"0.00,0.00 300.00,0.00 300.00,300.00 0.00,300.00 0.00,0.00\"></svg:polygon>\r\n",
       "<svg:g>  <svg:text font-family=\"helvetica\"   font-size=\"7.00\" fill=\"rgb(0,0,255)\" x=\"111.19\" y=\"140.68\">N</svg:text>\r\n",
       "</svg:g><svg:g>  <svg:text font-family=\"helvetica\"   font-size=\"7.00\" fill=\"rgb(255,0,0)\" x=\"67.89\" y=\"185.56\">HO</svg:text>\r\n",
       "</svg:g><svg:g>  <svg:text font-family=\"helvetica\"   font-size=\"7.00\" fill=\"rgb(0,0,255)\" x=\"110.38\" y=\"190.36\">NH</svg:text>\r\n",
       "</svg:g><svg:g>  <svg:text font-family=\"helvetica\"   font-size=\"7.00\" fill=\"rgb(255,0,0)\" x=\"128.91\" y=\"224.02\">HO</svg:text>\r\n",
       "</svg:g><svg:g>  <svg:text font-family=\"helvetica\"   font-size=\"7.00\" fill=\"rgb(255,0,0)\" x=\"198.04\" y=\"181.91\">O</svg:text>\r\n",
       "</svg:g><svg:g>  <svg:text font-family=\"helvetica\"   font-size=\"7.00\" fill=\"rgb(255,0,0)\" x=\"230.04\" y=\"160.85\">O</svg:text>\r\n",
       "</svg:g><svg:g>  <svg:text font-family=\"helvetica\"   font-size=\"7.00\" fill=\"rgb(0,0,255)\" x=\"237.91\" y=\"102.85\">NH</svg:text>\r\n",
       "</svg:g><svg:g>  <svg:text font-family=\"helvetica\"   font-size=\"7.00\" fill=\"rgb(255,0,0)\" x=\"208.38\" y=\"101.94\">OH</svg:text>\r\n",
       "</svg:g><svg:g>  <svg:text font-family=\"helvetica\"   font-size=\"7.00\" fill=\"rgb(255,0,0)\" x=\"168.57\" y=\"144.96\">HO</svg:text>\r\n",
       "</svg:g><svg:g>  <svg:text font-family=\"helvetica\"   font-size=\"7.00\" fill=\"rgb(255,0,0)\" x=\"146.53\" y=\"128.89\">O</svg:text>\r\n",
       "</svg:g><svg:line x1=\"96.20\" y1=\"149.98\" x2=\"96.20\" y2=\"149.98\" stroke=\"rgb(0,0,0)\" stroke-width=\"1\"></svg:line>\r\n",
       "<svg:line x1=\"93.26\" y1=\"147.27\" x2=\"92.61\" y2=\"148.23\" stroke=\"rgb(0,0,0)\" stroke-width=\"1\"></svg:line>\r\n",
       "<svg:line x1=\"90.33\" y1=\"144.55\" x2=\"89.01\" y2=\"146.48\" stroke=\"rgb(0,0,0)\" stroke-width=\"1\"></svg:line>\r\n",
       "<svg:line x1=\"87.39\" y1=\"141.84\" x2=\"85.42\" y2=\"144.72\" stroke=\"rgb(0,0,0)\" stroke-width=\"1\"></svg:line>\r\n",
       "<svg:line x1=\"84.45\" y1=\"139.13\" x2=\"81.82\" y2=\"142.97\" stroke=\"rgb(0,0,0)\" stroke-width=\"1\"></svg:line>\r\n",
       "<svg:line x1=\"81.51\" y1=\"136.41\" x2=\"78.23\" y2=\"141.22\" stroke=\"rgb(0,0,0)\" stroke-width=\"1\"></svg:line>\r\n",
       "<svg:line x1=\"79.78\" y1=\"134.82\" x2=\"76.11\" y2=\"140.19\" stroke=\"rgb(0,0,0)\" stroke-width=\"1\"></svg:line>\r\n",
       "<svg:line x1=\"77.95\" y1=\"137.50\" x2=\"84.18\" y2=\"116.28\" stroke=\"rgb(0,0,0)\" stroke-width=\"1\"></svg:line>\r\n",
       "<svg:line x1=\"84.18\" y1=\"116.28\" x2=\"70.67\" y2=\"98.77\" stroke=\"rgb(0,0,0)\" stroke-width=\"1\"></svg:line>\r\n",
       "<svg:line x1=\"70.67\" y1=\"98.77\" x2=\"48.75\" y2=\"101.71\" stroke=\"rgb(0,0,0)\" stroke-width=\"1\"></svg:line>\r\n",
       "<svg:line x1=\"67.90\" y1=\"94.77\" x2=\"50.37\" y2=\"97.12\" stroke=\"rgb(0,0,0)\" stroke-width=\"1\"></svg:line>\r\n",
       "<svg:line x1=\"48.75\" y1=\"101.71\" x2=\"35.25\" y2=\"84.20\" stroke=\"rgb(0,0,0)\" stroke-width=\"1\"></svg:line>\r\n",
       "<svg:line x1=\"84.18\" y1=\"116.28\" x2=\"106.28\" y2=\"115.65\" stroke=\"rgb(0,0,0)\" stroke-width=\"1\"></svg:line>\r\n",
       "<svg:line x1=\"86.51\" y1=\"120.56\" x2=\"104.19\" y2=\"120.05\" stroke=\"rgb(0,0,0)\" stroke-width=\"1\"></svg:line>\r\n",
       "<svg:line x1=\"106.28\" y1=\"115.65\" x2=\"108.95\" y2=\"123.12\" stroke=\"rgb(0,0,0)\" stroke-width=\"1\"></svg:line>\r\n",
       "<svg:line x1=\"108.95\" y1=\"123.12\" x2=\"111.61\" y2=\"130.60\" stroke=\"rgb(0,0,255)\" stroke-width=\"1\"></svg:line>\r\n",
       "<svg:line x1=\"96.20\" y1=\"149.98\" x2=\"95.84\" y2=\"172.09\" stroke=\"rgb(0,0,0)\" stroke-width=\"1\"></svg:line>\r\n",
       "<svg:line x1=\"95.84\" y1=\"172.09\" x2=\"87.96\" y2=\"175.73\" stroke=\"rgb(0,0,0)\" stroke-width=\"1\"></svg:line>\r\n",
       "<svg:line x1=\"87.96\" y1=\"175.73\" x2=\"80.07\" y2=\"179.37\" stroke=\"rgb(255,0,0)\" stroke-width=\"1\"></svg:line>\r\n",
       "<svg:line x1=\"95.84\" y1=\"172.09\" x2=\"102.27\" y2=\"177.39\" stroke=\"rgb(0,0,0)\" stroke-width=\"1\"></svg:line>\r\n",
       "<svg:line x1=\"102.27\" y1=\"177.39\" x2=\"108.70\" y2=\"182.69\" stroke=\"rgb(0,0,255)\" stroke-width=\"1\"></svg:line>\r\n",
       "<svg:line x1=\"122.17\" y1=\"184.20\" x2=\"128.35\" y2=\"182.90\" stroke=\"rgb(0,0,255)\" stroke-width=\"1\"></svg:line>\r\n",
       "<svg:line x1=\"128.35\" y1=\"182.90\" x2=\"134.54\" y2=\"181.59\" stroke=\"rgb(0,0,0)\" stroke-width=\"1\"></svg:line>\r\n",
       "<svg:line x1=\"134.54\" y1=\"181.59\" x2=\"146.70\" y2=\"200.06\" stroke=\"rgb(0,0,0)\" stroke-width=\"1\"></svg:line>\r\n",
       "<svg:line x1=\"139.38\" y1=\"181.05\" x2=\"149.11\" y2=\"195.83\" stroke=\"rgb(0,0,0)\" stroke-width=\"1\"></svg:line>\r\n",
       "<svg:line x1=\"146.70\" y1=\"200.06\" x2=\"143.22\" y2=\"207.00\" stroke=\"rgb(0,0,0)\" stroke-width=\"1\"></svg:line>\r\n",
       "<svg:line x1=\"143.22\" y1=\"207.00\" x2=\"139.73\" y2=\"213.94\" stroke=\"rgb(255,0,0)\" stroke-width=\"1\"></svg:line>\r\n",
       "<svg:line x1=\"146.70\" y1=\"200.06\" x2=\"168.77\" y2=\"198.76\" stroke=\"rgb(0,0,0)\" stroke-width=\"1\"></svg:line>\r\n",
       "<svg:line x1=\"168.77\" y1=\"198.76\" x2=\"180.93\" y2=\"217.23\" stroke=\"rgb(0,0,0)\" stroke-width=\"1\"></svg:line>\r\n",
       "<svg:line x1=\"168.77\" y1=\"198.76\" x2=\"178.69\" y2=\"179.00\" stroke=\"rgb(0,0,0)\" stroke-width=\"1\"></svg:line>\r\n",
       "<svg:line x1=\"165.89\" y1=\"194.84\" x2=\"173.82\" y2=\"179.03\" stroke=\"rgb(0,0,0)\" stroke-width=\"1\"></svg:line>\r\n",
       "<svg:line x1=\"178.69\" y1=\"179.00\" x2=\"187.53\" y2=\"178.48\" stroke=\"rgb(0,0,0)\" stroke-width=\"1\"></svg:line>\r\n",
       "<svg:line x1=\"187.53\" y1=\"178.48\" x2=\"196.36\" y2=\"177.96\" stroke=\"rgb(255,0,0)\" stroke-width=\"1\"></svg:line>\r\n",
       "<svg:polygon fill=\"rgb(0,0,0)\" stroke=\"none\" stroke-width=\"0\" points=\"210.68,157.94 200.81,170.37 206.62,173.28 210.68,157.94\"></svg:polygon>\r\n",
       "<svg:line x1=\"210.68\" y1=\"157.94\" x2=\"219.52\" y2=\"157.42\" stroke=\"rgb(0,0,0)\" stroke-width=\"1\"></svg:line>\r\n",
       "<svg:line x1=\"219.52\" y1=\"157.42\" x2=\"228.36\" y2=\"156.90\" stroke=\"rgb(255,0,0)\" stroke-width=\"1\"></svg:line>\r\n",
       "<svg:line x1=\"235.71\" y1=\"150.77\" x2=\"239.19\" y2=\"143.82\" stroke=\"rgb(255,0,0)\" stroke-width=\"1\"></svg:line>\r\n",
       "<svg:line x1=\"239.19\" y1=\"143.82\" x2=\"242.67\" y2=\"136.88\" stroke=\"rgb(0,0,0)\" stroke-width=\"1\"></svg:line>\r\n",
       "<svg:line x1=\"242.67\" y1=\"136.88\" x2=\"242.67\" y2=\"136.88\" stroke=\"rgb(0,0,0)\" stroke-width=\"1\"></svg:line>\r\n",
       "<svg:line x1=\"246.66\" y1=\"137.23\" x2=\"246.59\" y2=\"136.07\" stroke=\"rgb(0,0,0)\" stroke-width=\"1\"></svg:line>\r\n",
       "<svg:line x1=\"250.64\" y1=\"137.58\" x2=\"250.51\" y2=\"135.26\" stroke=\"rgb(0,0,0)\" stroke-width=\"1\"></svg:line>\r\n",
       "<svg:line x1=\"254.63\" y1=\"137.93\" x2=\"254.42\" y2=\"134.44\" stroke=\"rgb(0,0,0)\" stroke-width=\"1\"></svg:line>\r\n",
       "<svg:line x1=\"258.61\" y1=\"138.28\" x2=\"258.34\" y2=\"133.63\" stroke=\"rgb(0,0,0)\" stroke-width=\"1\"></svg:line>\r\n",
       "<svg:line x1=\"262.60\" y1=\"138.63\" x2=\"262.26\" y2=\"132.82\" stroke=\"rgb(0,0,0)\" stroke-width=\"1\"></svg:line>\r\n",
       "<svg:line x1=\"264.94\" y1=\"138.83\" x2=\"264.56\" y2=\"132.34\" stroke=\"rgb(0,0,0)\" stroke-width=\"1\"></svg:line>\r\n",
       "<svg:line x1=\"242.67\" y1=\"136.88\" x2=\"230.52\" y2=\"118.41\" stroke=\"rgb(0,0,0)\" stroke-width=\"1\"></svg:line>\r\n",
       "<svg:polygon fill=\"rgb(0,0,0)\" stroke=\"none\" stroke-width=\"0\" points=\"230.52,118.41 240.39,105.99 234.58,103.07 230.52,118.41\"></svg:polygon>\r\n",
       "<svg:line x1=\"236.56\" y1=\"92.77\" x2=\"232.42\" y2=\"86.47\" stroke=\"rgb(0,0,255)\" stroke-width=\"1\"></svg:line>\r\n",
       "<svg:line x1=\"232.42\" y1=\"86.47\" x2=\"228.27\" y2=\"80.18\" stroke=\"rgb(0,0,0)\" stroke-width=\"1\"></svg:line>\r\n",
       "<svg:line x1=\"230.52\" y1=\"118.41\" x2=\"208.44\" y2=\"119.71\" stroke=\"rgb(0,0,0)\" stroke-width=\"1\"></svg:line>\r\n",
       "<svg:polygon fill=\"rgb(0,0,0)\" stroke=\"none\" stroke-width=\"0\" points=\"208.44,119.71 188.19,110.26 186.32,116.49 208.44,119.71\"></svg:polygon>\r\n",
       "<svg:line x1=\"208.44\" y1=\"119.71\" x2=\"209.38\" y2=\"111.66\" stroke=\"rgb(0,0,0)\" stroke-width=\"1\"></svg:line>\r\n",
       "<svg:line x1=\"209.38\" y1=\"111.66\" x2=\"210.32\" y2=\"103.62\" stroke=\"rgb(255,0,0)\" stroke-width=\"1\"></svg:line>\r\n",
       "<svg:line x1=\"208.44\" y1=\"119.71\" x2=\"198.52\" y2=\"139.47\" stroke=\"rgb(0,0,0)\" stroke-width=\"1\"></svg:line>\r\n",
       "<svg:line x1=\"198.52\" y1=\"139.47\" x2=\"198.52\" y2=\"139.47\" stroke=\"rgb(0,0,0)\" stroke-width=\"1\"></svg:line>\r\n",
       "<svg:line x1=\"194.55\" y1=\"138.98\" x2=\"194.64\" y2=\"140.42\" stroke=\"rgb(0,0,0)\" stroke-width=\"1\"></svg:line>\r\n",
       "<svg:line x1=\"190.58\" y1=\"138.50\" x2=\"190.75\" y2=\"141.37\" stroke=\"rgb(0,0,0)\" stroke-width=\"1\"></svg:line>\r\n",
       "<svg:line x1=\"186.61\" y1=\"138.01\" x2=\"186.87\" y2=\"142.31\" stroke=\"rgb(0,0,0)\" stroke-width=\"1\"></svg:line>\r\n",
       "<svg:line x1=\"182.64\" y1=\"137.52\" x2=\"182.98\" y2=\"143.26\" stroke=\"rgb(0,0,0)\" stroke-width=\"1\"></svg:line>\r\n",
       "<svg:line x1=\"180.56\" y1=\"137.27\" x2=\"180.95\" y2=\"143.76\" stroke=\"rgb(0,0,0)\" stroke-width=\"1\"></svg:line>\r\n",
       "<svg:line x1=\"178.69\" y1=\"179.00\" x2=\"166.53\" y2=\"160.53\" stroke=\"rgb(0,0,0)\" stroke-width=\"1\"></svg:line>\r\n",
       "<svg:line x1=\"166.53\" y1=\"160.53\" x2=\"144.46\" y2=\"161.82\" stroke=\"rgb(0,0,0)\" stroke-width=\"1\"></svg:line>\r\n",
       "<svg:line x1=\"164.58\" y1=\"164.99\" x2=\"146.92\" y2=\"166.02\" stroke=\"rgb(0,0,0)\" stroke-width=\"1\"></svg:line>\r\n",
       "<svg:line x1=\"144.46\" y1=\"161.82\" x2=\"135.19\" y2=\"141.75\" stroke=\"rgb(0,0,0)\" stroke-width=\"1\"></svg:line>\r\n",
       "<svg:line x1=\"136.86\" y1=\"143.13\" x2=\"141.69\" y2=\"137.27\" stroke=\"rgb(0,0,0)\" stroke-width=\"1\"></svg:line>\r\n",
       "<svg:line x1=\"141.69\" y1=\"137.27\" x2=\"146.52\" y2=\"131.41\" stroke=\"rgb(255,0,0)\" stroke-width=\"1\"></svg:line>\r\n",
       "<svg:line x1=\"133.52\" y1=\"140.37\" x2=\"138.35\" y2=\"134.51\" stroke=\"rgb(0,0,0)\" stroke-width=\"1\"></svg:line>\r\n",
       "<svg:line x1=\"138.35\" y1=\"134.51\" x2=\"143.18\" y2=\"128.65\" stroke=\"rgb(255,0,0)\" stroke-width=\"1\"></svg:line>\r\n",
       "<svg:line x1=\"109.51\" y1=\"139.72\" x2=\"102.85\" y2=\"144.85\" stroke=\"rgb(0,0,255)\" stroke-width=\"1\"></svg:line>\r\n",
       "<svg:line x1=\"102.85\" y1=\"144.85\" x2=\"96.20\" y2=\"149.98\" stroke=\"rgb(0,0,0)\" stroke-width=\"1\"></svg:line>\r\n",
       "<svg:line x1=\"135.19\" y1=\"141.75\" x2=\"126.55\" y2=\"139.63\" stroke=\"rgb(0,0,0)\" stroke-width=\"1\"></svg:line>\r\n",
       "<svg:line x1=\"126.55\" y1=\"139.63\" x2=\"117.92\" y2=\"137.51\" stroke=\"rgb(0,0,255)\" stroke-width=\"1\"></svg:line>\r\n",
       "<svg:line x1=\"144.46\" y1=\"161.82\" x2=\"134.54\" y2=\"181.59\" stroke=\"rgb(0,0,0)\" stroke-width=\"1\"></svg:line>\r\n",
       "<svg:line x1=\"198.52\" y1=\"139.47\" x2=\"210.68\" y2=\"157.94\" stroke=\"rgb(0,0,0)\" stroke-width=\"1\"></svg:line>\r\n",
       "</svg:svg>"
      ],
      "text/plain": [
       "<IPython.core.display.SVG object>"
      ]
     },
     "execution_count": 29,
     "metadata": {},
     "output_type": "execute_result"
    }
   ],
   "source": [
    "from IPython.core.display import SVG\n",
    "SVG(filename=PATH_OUTPUT + \"draw_mols.svg\")"
   ]
  },
  {
   "cell_type": "code",
   "execution_count": 19,
   "metadata": {
    "scrolled": true
   },
   "outputs": [
    {
     "data": {
      "image/svg+xml": [
       "<?xml version=\"1.0\" encoding=\"iso-8859-1\"?>\r\n",
       "<svg:svg version=\"1.1\" baseProfile=\"full\"\r\n",
       "        xmlns:svg=\"http://www.w3.org/2000/svg\"\r\n",
       "        xmlns:xlink=\"http://www.w3.org/1999/xlink\"\r\n",
       "        xml:space=\"preserve\" width=\"300px\" height=\"300px\" >\r\n",
       "<svg:polygon fill=\"rgb(255,255,255)\" stroke=\"none\" stroke-width=\"0\" points=\"0.00,0.00 300.00,0.00 300.00,300.00 0.00,300.00 0.00,0.00\"></svg:polygon>\r\n",
       "<svg:g>  <svg:text font-family=\"helvetica\"   font-size=\"7.00\" fill=\"rgb(0,0,255)\" x=\"111.19\" y=\"140.68\">N</svg:text>\r\n",
       "</svg:g><svg:g>  <svg:text font-family=\"helvetica\"   font-size=\"7.00\" fill=\"rgb(255,0,0)\" x=\"67.89\" y=\"185.56\">HO</svg:text>\r\n",
       "</svg:g><svg:g>  <svg:text font-family=\"helvetica\"   font-size=\"7.00\" fill=\"rgb(0,0,255)\" x=\"110.38\" y=\"190.36\">NH</svg:text>\r\n",
       "</svg:g><svg:g>  <svg:text font-family=\"helvetica\"   font-size=\"7.00\" fill=\"rgb(255,0,0)\" x=\"128.91\" y=\"224.02\">HO</svg:text>\r\n",
       "</svg:g><svg:g>  <svg:text font-family=\"helvetica\"   font-size=\"7.00\" fill=\"rgb(255,0,0)\" x=\"198.04\" y=\"181.91\">O</svg:text>\r\n",
       "</svg:g><svg:g>  <svg:text font-family=\"helvetica\"   font-size=\"7.00\" fill=\"rgb(255,0,0)\" x=\"230.04\" y=\"160.85\">O</svg:text>\r\n",
       "</svg:g><svg:g>  <svg:text font-family=\"helvetica\"   font-size=\"7.00\" fill=\"rgb(0,0,255)\" x=\"237.91\" y=\"102.85\">NH</svg:text>\r\n",
       "</svg:g><svg:g>  <svg:text font-family=\"helvetica\"   font-size=\"7.00\" fill=\"rgb(255,0,0)\" x=\"208.38\" y=\"101.94\">OH</svg:text>\r\n",
       "</svg:g><svg:g>  <svg:text font-family=\"helvetica\"   font-size=\"7.00\" fill=\"rgb(255,0,0)\" x=\"168.57\" y=\"144.96\">HO</svg:text>\r\n",
       "</svg:g><svg:g>  <svg:text font-family=\"helvetica\"   font-size=\"7.00\" fill=\"rgb(255,0,0)\" x=\"146.53\" y=\"128.89\">O</svg:text>\r\n",
       "</svg:g><svg:line x1=\"96.20\" y1=\"149.98\" x2=\"96.20\" y2=\"149.98\" stroke=\"rgb(0,0,0)\" stroke-width=\"1\"></svg:line>\r\n",
       "<svg:line x1=\"93.26\" y1=\"147.27\" x2=\"92.61\" y2=\"148.23\" stroke=\"rgb(0,0,0)\" stroke-width=\"1\"></svg:line>\r\n",
       "<svg:line x1=\"90.33\" y1=\"144.55\" x2=\"89.01\" y2=\"146.48\" stroke=\"rgb(0,0,0)\" stroke-width=\"1\"></svg:line>\r\n",
       "<svg:line x1=\"87.39\" y1=\"141.84\" x2=\"85.42\" y2=\"144.72\" stroke=\"rgb(0,0,0)\" stroke-width=\"1\"></svg:line>\r\n",
       "<svg:line x1=\"84.45\" y1=\"139.13\" x2=\"81.82\" y2=\"142.97\" stroke=\"rgb(0,0,0)\" stroke-width=\"1\"></svg:line>\r\n",
       "<svg:line x1=\"81.51\" y1=\"136.41\" x2=\"78.23\" y2=\"141.22\" stroke=\"rgb(0,0,0)\" stroke-width=\"1\"></svg:line>\r\n",
       "<svg:line x1=\"79.78\" y1=\"134.82\" x2=\"76.11\" y2=\"140.19\" stroke=\"rgb(0,0,0)\" stroke-width=\"1\"></svg:line>\r\n",
       "<svg:line x1=\"77.95\" y1=\"137.50\" x2=\"84.18\" y2=\"116.28\" stroke=\"rgb(0,0,0)\" stroke-width=\"1\"></svg:line>\r\n",
       "<svg:line x1=\"84.18\" y1=\"116.28\" x2=\"70.67\" y2=\"98.77\" stroke=\"rgb(0,0,0)\" stroke-width=\"1\"></svg:line>\r\n",
       "<svg:line x1=\"70.67\" y1=\"98.77\" x2=\"48.75\" y2=\"101.71\" stroke=\"rgb(0,0,0)\" stroke-width=\"1\"></svg:line>\r\n",
       "<svg:line x1=\"67.90\" y1=\"94.77\" x2=\"50.37\" y2=\"97.12\" stroke=\"rgb(0,0,0)\" stroke-width=\"1\"></svg:line>\r\n",
       "<svg:line x1=\"48.75\" y1=\"101.71\" x2=\"35.25\" y2=\"84.20\" stroke=\"rgb(0,0,0)\" stroke-width=\"1\"></svg:line>\r\n",
       "<svg:line x1=\"84.18\" y1=\"116.28\" x2=\"106.28\" y2=\"115.65\" stroke=\"rgb(0,0,0)\" stroke-width=\"1\"></svg:line>\r\n",
       "<svg:line x1=\"86.51\" y1=\"120.56\" x2=\"104.19\" y2=\"120.05\" stroke=\"rgb(0,0,0)\" stroke-width=\"1\"></svg:line>\r\n",
       "<svg:line x1=\"106.28\" y1=\"115.65\" x2=\"108.95\" y2=\"123.12\" stroke=\"rgb(0,0,0)\" stroke-width=\"1\"></svg:line>\r\n",
       "<svg:line x1=\"108.95\" y1=\"123.12\" x2=\"111.61\" y2=\"130.60\" stroke=\"rgb(0,0,255)\" stroke-width=\"1\"></svg:line>\r\n",
       "<svg:line x1=\"96.20\" y1=\"149.98\" x2=\"95.84\" y2=\"172.09\" stroke=\"rgb(0,0,0)\" stroke-width=\"1\"></svg:line>\r\n",
       "<svg:line x1=\"95.84\" y1=\"172.09\" x2=\"87.96\" y2=\"175.73\" stroke=\"rgb(0,0,0)\" stroke-width=\"1\"></svg:line>\r\n",
       "<svg:line x1=\"87.96\" y1=\"175.73\" x2=\"80.07\" y2=\"179.37\" stroke=\"rgb(255,0,0)\" stroke-width=\"1\"></svg:line>\r\n",
       "<svg:line x1=\"95.84\" y1=\"172.09\" x2=\"102.27\" y2=\"177.39\" stroke=\"rgb(0,0,0)\" stroke-width=\"1\"></svg:line>\r\n",
       "<svg:line x1=\"102.27\" y1=\"177.39\" x2=\"108.70\" y2=\"182.69\" stroke=\"rgb(0,0,255)\" stroke-width=\"1\"></svg:line>\r\n",
       "<svg:line x1=\"122.17\" y1=\"184.20\" x2=\"128.35\" y2=\"182.90\" stroke=\"rgb(0,0,255)\" stroke-width=\"1\"></svg:line>\r\n",
       "<svg:line x1=\"128.35\" y1=\"182.90\" x2=\"134.54\" y2=\"181.59\" stroke=\"rgb(0,0,0)\" stroke-width=\"1\"></svg:line>\r\n",
       "<svg:line x1=\"134.54\" y1=\"181.59\" x2=\"146.70\" y2=\"200.06\" stroke=\"rgb(0,0,0)\" stroke-width=\"1\"></svg:line>\r\n",
       "<svg:line x1=\"139.38\" y1=\"181.05\" x2=\"149.11\" y2=\"195.83\" stroke=\"rgb(0,0,0)\" stroke-width=\"1\"></svg:line>\r\n",
       "<svg:line x1=\"146.70\" y1=\"200.06\" x2=\"143.22\" y2=\"207.00\" stroke=\"rgb(0,0,0)\" stroke-width=\"1\"></svg:line>\r\n",
       "<svg:line x1=\"143.22\" y1=\"207.00\" x2=\"139.73\" y2=\"213.94\" stroke=\"rgb(255,0,0)\" stroke-width=\"1\"></svg:line>\r\n",
       "<svg:line x1=\"146.70\" y1=\"200.06\" x2=\"168.77\" y2=\"198.76\" stroke=\"rgb(0,0,0)\" stroke-width=\"1\"></svg:line>\r\n",
       "<svg:line x1=\"168.77\" y1=\"198.76\" x2=\"180.93\" y2=\"217.23\" stroke=\"rgb(0,0,0)\" stroke-width=\"1\"></svg:line>\r\n",
       "<svg:line x1=\"168.77\" y1=\"198.76\" x2=\"178.69\" y2=\"179.00\" stroke=\"rgb(0,0,0)\" stroke-width=\"1\"></svg:line>\r\n",
       "<svg:line x1=\"165.89\" y1=\"194.84\" x2=\"173.82\" y2=\"179.03\" stroke=\"rgb(0,0,0)\" stroke-width=\"1\"></svg:line>\r\n",
       "<svg:line x1=\"178.69\" y1=\"179.00\" x2=\"187.53\" y2=\"178.48\" stroke=\"rgb(0,0,0)\" stroke-width=\"1\"></svg:line>\r\n",
       "<svg:line x1=\"187.53\" y1=\"178.48\" x2=\"196.36\" y2=\"177.96\" stroke=\"rgb(255,0,0)\" stroke-width=\"1\"></svg:line>\r\n",
       "<svg:polygon fill=\"rgb(0,0,0)\" stroke=\"none\" stroke-width=\"0\" points=\"210.68,157.94 200.81,170.37 206.62,173.28 210.68,157.94\"></svg:polygon>\r\n",
       "<svg:line x1=\"210.68\" y1=\"157.94\" x2=\"219.52\" y2=\"157.42\" stroke=\"rgb(0,0,0)\" stroke-width=\"1\"></svg:line>\r\n",
       "<svg:line x1=\"219.52\" y1=\"157.42\" x2=\"228.36\" y2=\"156.90\" stroke=\"rgb(255,0,0)\" stroke-width=\"1\"></svg:line>\r\n",
       "<svg:line x1=\"235.71\" y1=\"150.77\" x2=\"239.19\" y2=\"143.82\" stroke=\"rgb(255,0,0)\" stroke-width=\"1\"></svg:line>\r\n",
       "<svg:line x1=\"239.19\" y1=\"143.82\" x2=\"242.67\" y2=\"136.88\" stroke=\"rgb(0,0,0)\" stroke-width=\"1\"></svg:line>\r\n",
       "<svg:line x1=\"242.67\" y1=\"136.88\" x2=\"242.67\" y2=\"136.88\" stroke=\"rgb(0,0,0)\" stroke-width=\"1\"></svg:line>\r\n",
       "<svg:line x1=\"246.66\" y1=\"137.23\" x2=\"246.59\" y2=\"136.07\" stroke=\"rgb(0,0,0)\" stroke-width=\"1\"></svg:line>\r\n",
       "<svg:line x1=\"250.64\" y1=\"137.58\" x2=\"250.51\" y2=\"135.26\" stroke=\"rgb(0,0,0)\" stroke-width=\"1\"></svg:line>\r\n",
       "<svg:line x1=\"254.63\" y1=\"137.93\" x2=\"254.42\" y2=\"134.44\" stroke=\"rgb(0,0,0)\" stroke-width=\"1\"></svg:line>\r\n",
       "<svg:line x1=\"258.61\" y1=\"138.28\" x2=\"258.34\" y2=\"133.63\" stroke=\"rgb(0,0,0)\" stroke-width=\"1\"></svg:line>\r\n",
       "<svg:line x1=\"262.60\" y1=\"138.63\" x2=\"262.26\" y2=\"132.82\" stroke=\"rgb(0,0,0)\" stroke-width=\"1\"></svg:line>\r\n",
       "<svg:line x1=\"264.94\" y1=\"138.83\" x2=\"264.56\" y2=\"132.34\" stroke=\"rgb(0,0,0)\" stroke-width=\"1\"></svg:line>\r\n",
       "<svg:line x1=\"242.67\" y1=\"136.88\" x2=\"230.52\" y2=\"118.41\" stroke=\"rgb(0,0,0)\" stroke-width=\"1\"></svg:line>\r\n",
       "<svg:polygon fill=\"rgb(0,0,0)\" stroke=\"none\" stroke-width=\"0\" points=\"230.52,118.41 240.39,105.99 234.58,103.07 230.52,118.41\"></svg:polygon>\r\n",
       "<svg:line x1=\"236.56\" y1=\"92.77\" x2=\"232.42\" y2=\"86.47\" stroke=\"rgb(0,0,255)\" stroke-width=\"1\"></svg:line>\r\n",
       "<svg:line x1=\"232.42\" y1=\"86.47\" x2=\"228.27\" y2=\"80.18\" stroke=\"rgb(0,0,0)\" stroke-width=\"1\"></svg:line>\r\n",
       "<svg:line x1=\"230.52\" y1=\"118.41\" x2=\"208.44\" y2=\"119.71\" stroke=\"rgb(0,0,0)\" stroke-width=\"1\"></svg:line>\r\n",
       "<svg:polygon fill=\"rgb(0,0,0)\" stroke=\"none\" stroke-width=\"0\" points=\"208.44,119.71 188.19,110.26 186.32,116.49 208.44,119.71\"></svg:polygon>\r\n",
       "<svg:line x1=\"208.44\" y1=\"119.71\" x2=\"209.38\" y2=\"111.66\" stroke=\"rgb(0,0,0)\" stroke-width=\"1\"></svg:line>\r\n",
       "<svg:line x1=\"209.38\" y1=\"111.66\" x2=\"210.32\" y2=\"103.62\" stroke=\"rgb(255,0,0)\" stroke-width=\"1\"></svg:line>\r\n",
       "<svg:line x1=\"208.44\" y1=\"119.71\" x2=\"198.52\" y2=\"139.47\" stroke=\"rgb(0,0,0)\" stroke-width=\"1\"></svg:line>\r\n",
       "<svg:line x1=\"198.52\" y1=\"139.47\" x2=\"198.52\" y2=\"139.47\" stroke=\"rgb(0,0,0)\" stroke-width=\"1\"></svg:line>\r\n",
       "<svg:line x1=\"194.55\" y1=\"138.98\" x2=\"194.64\" y2=\"140.42\" stroke=\"rgb(0,0,0)\" stroke-width=\"1\"></svg:line>\r\n",
       "<svg:line x1=\"190.58\" y1=\"138.50\" x2=\"190.75\" y2=\"141.37\" stroke=\"rgb(0,0,0)\" stroke-width=\"1\"></svg:line>\r\n",
       "<svg:line x1=\"186.61\" y1=\"138.01\" x2=\"186.87\" y2=\"142.31\" stroke=\"rgb(0,0,0)\" stroke-width=\"1\"></svg:line>\r\n",
       "<svg:line x1=\"182.64\" y1=\"137.52\" x2=\"182.98\" y2=\"143.26\" stroke=\"rgb(0,0,0)\" stroke-width=\"1\"></svg:line>\r\n",
       "<svg:line x1=\"180.56\" y1=\"137.27\" x2=\"180.95\" y2=\"143.76\" stroke=\"rgb(0,0,0)\" stroke-width=\"1\"></svg:line>\r\n",
       "<svg:line x1=\"178.69\" y1=\"179.00\" x2=\"166.53\" y2=\"160.53\" stroke=\"rgb(0,0,0)\" stroke-width=\"1\"></svg:line>\r\n",
       "<svg:line x1=\"166.53\" y1=\"160.53\" x2=\"144.46\" y2=\"161.82\" stroke=\"rgb(0,0,0)\" stroke-width=\"1\"></svg:line>\r\n",
       "<svg:line x1=\"164.58\" y1=\"164.99\" x2=\"146.92\" y2=\"166.02\" stroke=\"rgb(0,0,0)\" stroke-width=\"1\"></svg:line>\r\n",
       "<svg:line x1=\"144.46\" y1=\"161.82\" x2=\"135.19\" y2=\"141.75\" stroke=\"rgb(0,0,0)\" stroke-width=\"1\"></svg:line>\r\n",
       "<svg:line x1=\"136.86\" y1=\"143.13\" x2=\"141.69\" y2=\"137.27\" stroke=\"rgb(0,0,0)\" stroke-width=\"1\"></svg:line>\r\n",
       "<svg:line x1=\"141.69\" y1=\"137.27\" x2=\"146.52\" y2=\"131.41\" stroke=\"rgb(255,0,0)\" stroke-width=\"1\"></svg:line>\r\n",
       "<svg:line x1=\"133.52\" y1=\"140.37\" x2=\"138.35\" y2=\"134.51\" stroke=\"rgb(0,0,0)\" stroke-width=\"1\"></svg:line>\r\n",
       "<svg:line x1=\"138.35\" y1=\"134.51\" x2=\"143.18\" y2=\"128.65\" stroke=\"rgb(255,0,0)\" stroke-width=\"1\"></svg:line>\r\n",
       "<svg:line x1=\"109.51\" y1=\"139.72\" x2=\"102.85\" y2=\"144.85\" stroke=\"rgb(0,0,255)\" stroke-width=\"1\"></svg:line>\r\n",
       "<svg:line x1=\"102.85\" y1=\"144.85\" x2=\"96.20\" y2=\"149.98\" stroke=\"rgb(0,0,0)\" stroke-width=\"1\"></svg:line>\r\n",
       "<svg:line x1=\"135.19\" y1=\"141.75\" x2=\"126.55\" y2=\"139.63\" stroke=\"rgb(0,0,0)\" stroke-width=\"1\"></svg:line>\r\n",
       "<svg:line x1=\"126.55\" y1=\"139.63\" x2=\"117.92\" y2=\"137.51\" stroke=\"rgb(0,0,255)\" stroke-width=\"1\"></svg:line>\r\n",
       "<svg:line x1=\"144.46\" y1=\"161.82\" x2=\"134.54\" y2=\"181.59\" stroke=\"rgb(0,0,0)\" stroke-width=\"1\"></svg:line>\r\n",
       "<svg:line x1=\"198.52\" y1=\"139.47\" x2=\"210.68\" y2=\"157.94\" stroke=\"rgb(0,0,0)\" stroke-width=\"1\"></svg:line>\r\n",
       "</svg:svg>"
      ],
      "text/plain": [
       "<IPython.core.display.SVG object>"
      ]
     },
     "metadata": {},
     "output_type": "display_data"
    }
   ],
   "source": [
    "from IPython.display import SVG, display\n",
    "def show_svg(file):\n",
    "    display(SVG(filename = file))\n",
    "    \n",
    "show_svg(filename)"
   ]
  },
  {
   "cell_type": "code",
   "execution_count": null,
   "metadata": {},
   "outputs": [],
   "source": []
  },
  {
   "cell_type": "markdown",
   "metadata": {},
   "source": [
    "## Quick test about merging fingerprints... probably won't work"
   ]
  },
  {
   "cell_type": "code",
   "execution_count": 126,
   "metadata": {},
   "outputs": [
    {
     "data": {
      "text/plain": [
       "[377, 85, 85, 85, 255, 255, 169, 169]"
      ]
     },
     "execution_count": 126,
     "metadata": {},
     "output_type": "execute_result"
    }
   ],
   "source": [
    "[np.sum(x) for x in fingerprint_matches]"
   ]
  },
  {
   "cell_type": "code",
   "execution_count": 141,
   "metadata": {},
   "outputs": [
    {
     "data": {
      "text/plain": [
       "array([0.3, 0.4, 0.2, 0.3, 0. , 0.6, 0.1, 0.3, 0.4, 0.3, 0.2, 0.3, 0.6,\n",
       "       0. , 0. , 0.2, 0.2, 0.1, 0.1, 0.2, 0.1, 0. , 0.1, 0.2, 0.8, 0.3,\n",
       "       0.1, 0.3, 0.3, 0.2, 0.2, 0. , 0.3, 0. , 0. , 0.4, 0. , 0.1, 0.2,\n",
       "       0.2, 0.2, 0.5, 0.1, 0.1, 0.2, 0. , 0.2, 0.5, 0.2, 0.3, 0.4, 0. ,\n",
       "       0.2, 0.1, 0.1, 0. , 0.4, 0. , 0.6, 0.4, 0. , 0.2, 0.2, 0.2, 0.3,\n",
       "       0.2, 0.5, 0.2, 0.5, 0.4, 0.2, 0.4, 0.3, 0. , 0. , 0.3, 0.1, 0.2,\n",
       "       0. , 0.4])"
      ]
     },
     "execution_count": 141,
     "metadata": {},
     "output_type": "execute_result"
    }
   ],
   "source": [
    "fingerprint_merged = np.mean(fingerprint_matches, axis =0)\n",
    "fingerprint_merged[:80]"
   ]
  },
  {
   "cell_type": "code",
   "execution_count": 142,
   "metadata": {},
   "outputs": [
    {
     "data": {
      "text/plain": [
       "[1380, 803, 503, 251]"
      ]
     },
     "execution_count": 142,
     "metadata": {},
     "output_type": "execute_result"
    }
   ],
   "source": [
    "[np.sum(fingerprint_merged>x) for x in [0.1, 0.2, 0.3, 0.4]]"
   ]
  },
  {
   "cell_type": "code",
   "execution_count": 143,
   "metadata": {},
   "outputs": [
    {
     "data": {
      "text/plain": [
       "0.2946666666666667"
      ]
     },
     "execution_count": 143,
     "metadata": {},
     "output_type": "execute_result"
    }
   ],
   "source": [
    "np.mean(fingerprint_merged[fingerprint_merged>0])"
   ]
  },
  {
   "cell_type": "code",
   "execution_count": 148,
   "metadata": {},
   "outputs": [
    {
     "data": {
      "text/plain": [
       "array([1, 1, 0, 1, 0, 1, 0, 1, 1, 1, 0, 1, 1, 0, 0, 0, 0, 0, 0, 0, 0, 0,\n",
       "       0, 0, 1, 1, 0, 1, 1, 0, 0, 0, 1, 0, 0, 1, 0, 0, 0, 0, 0, 1, 0, 0,\n",
       "       0, 0, 0, 1, 0, 1, 1, 0, 0, 0, 0, 0, 1, 0, 1, 1, 0, 0, 0, 0, 1, 0,\n",
       "       1, 0, 1, 1, 0, 1, 1, 0, 0, 1, 0, 0, 0, 1])"
      ]
     },
     "execution_count": 148,
     "metadata": {},
     "output_type": "execute_result"
    }
   ],
   "source": [
    "fingerprint_merged_bit = 1*(fingerprint_merged > 0.2)\n",
    "fingerprint_merged_bit[:80]"
   ]
  },
  {
   "cell_type": "code",
   "execution_count": 149,
   "metadata": {},
   "outputs": [
    {
     "data": {
      "text/plain": [
       "array([[0.15462869, 0.15432649]])"
      ]
     },
     "execution_count": 149,
     "metadata": {},
     "output_type": "execute_result"
    }
   ],
   "source": [
    "MS_sim_classic.mol_sim_matrix(fingerprint_query,\n",
    "                                           [fingerprint_merged_bit, fingerprint_matches[0]],\n",
    "                                           method = 'jaccard',\n",
    "                                           filename = None,\n",
    "                                           max_size = 1000,\n",
    "                                           print_progress = False)"
   ]
  }
 ],
 "metadata": {
  "kernelspec": {
   "display_name": "Python 3",
   "language": "python",
   "name": "python3"
  },
  "language_info": {
   "codemirror_mode": {
    "name": "ipython",
    "version": 3
   },
   "file_extension": ".py",
   "mimetype": "text/x-python",
   "name": "python",
   "nbconvert_exporter": "python",
   "pygments_lexer": "ipython3",
   "version": "3.6.8"
  }
 },
 "nbformat": 4,
 "nbformat_minor": 2
}
