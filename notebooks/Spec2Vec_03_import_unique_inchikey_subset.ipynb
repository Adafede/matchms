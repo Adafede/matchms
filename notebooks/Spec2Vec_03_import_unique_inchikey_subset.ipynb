{
 "cells": [
  {
   "cell_type": "code",
   "execution_count": 1,
   "metadata": {},
   "outputs": [],
   "source": [
    "# Locations\n",
    "ROOT = \"C:\\\\OneDrive - Netherlands eScience Center\\\\Project_Wageningen_iOMEGA\"\n",
    "PATH_MS_DATA = ROOT + \"\\\\Data\\\\GNPS_all\\\\\"\n",
    "PATH_SAVE_MODEL = ROOT + \"\\\\Spec2Vec\\\\models_trained\\\\\"\n",
    "PATH_SAVE_DATA = ROOT + \"\\\\Spec2Vec\\\\data\\\\\"\n",
    "PATH_SPEC2VEC = ROOT + \"\\\\Spec2Vec\\\\code\\\\\""
   ]
  },
  {
   "cell_type": "code",
   "execution_count": 2,
   "metadata": {},
   "outputs": [],
   "source": [
    "import numpy as np\n",
    "import sys\n",
    "sys.path.insert(0, PATH_SPEC2VEC)\n",
    "\n",
    "import helper_functions as functions\n",
    "import MS_functions"
   ]
  },
  {
   "cell_type": "markdown",
   "metadata": {},
   "source": [
    "## Import unique-inchi subset"
   ]
  },
  {
   "cell_type": "code",
   "execution_count": 3,
   "metadata": {},
   "outputs": [
    {
     "name": "stdout",
     "output_type": "stream",
     "text": [
      "Could not find file  C:\\OneDrive - Netherlands eScience Center\\Project_Wageningen_iOMEGA\\Data\\GNPS_all\\filtered_data_uniqueInchikey_minpeak10_loss500_2dec_exp001.json\n",
      "Data will be imported from  C:\\OneDrive - Netherlands eScience Center\\Project_Wageningen_iOMEGA\\Data\\GNPS_all\\MS_data_allGNPS_uniqueInchikey14_191101.mgf\n"
     ]
    },
    {
     "name": "stderr",
     "output_type": "stream",
     "text": [
      "C:\\Users\\FlorianHuber\\Anaconda3\\envs\\SeSiMe\\lib\\site-packages\\scipy\\optimize\\minpack.py:787: OptimizeWarning: Covariance of the parameters could not be estimated\n",
      "  category=OptimizeWarning)\n",
      "C:\\OneDrive - Netherlands eScience Center\\Project_Wageningen_iOMEGA\\Spec2Vec\\code\\MS_functions.py:372: RuntimeWarning: overflow encountered in multiply\n",
      "  return a*np.exp(-b*x)\n",
      "C:\\Users\\FlorianHuber\\Anaconda3\\envs\\SeSiMe\\lib\\site-packages\\scipy\\optimize\\minpack.py:780: RuntimeWarning: overflow encountered in multiply\n",
      "  pcov = pcov * s_sq\n"
     ]
    },
    {
     "name": "stdout",
     "output_type": "stream",
     "text": [
      "Unclear TypeError for  100  peaks. Use mean intensity as threshold.\n",
      "[] and y:  []\n",
      "RuntimeError for  123  peaks. Use mean intensity as threshold.\n",
      "RuntimeError for  114  peaks. Use mean intensity as threshold.\n",
      "RuntimeError for  77  peaks. Use mean intensity as threshold.\n",
      "RuntimeError for  54  peaks. Use mean intensity as threshold.\n",
      "RuntimeError for  180  peaks. Use mean intensity as threshold.\n",
      "RuntimeError for  287  peaks. Use mean intensity as threshold.\n",
      "Unclear TypeError for  301  peaks. Use mean intensity as threshold.\n",
      "[1.403703] and y:  [33]\n",
      "Take  10992 spectra out of  12813 .\n",
      "  Created documents for  1200  of  10992  spectra.No losses detected for:  1221 1430\n",
      "No losses detected for:  1241 1450\n",
      "  Created documents for  1500  of  10992  spectra.No losses detected for:  1538 1793\n",
      "  Created documents for  1600  of  10992  spectra.No losses detected for:  1665 1932\n",
      "  Created documents for  1700  of  10992  spectra.No losses detected for:  1753 2020\n",
      "No losses detected for:  1773 2040\n",
      "  Created documents for  1900  of  10992  spectra.No losses detected for:  1992 2269\n",
      "  Created documents for  2300  of  10992  spectra.No losses detected for:  2348 2634\n",
      "No losses detected for:  2368 2654\n",
      "  Created documents for  2400  of  10992  spectra.No losses detected for:  2430 2717\n",
      "  Created documents for  4800  of  10992  spectra.No losses detected for:  4866 5334\n",
      "  Created documents for  5000  of  10992  spectra.No losses detected for:  5089 5573\n",
      "  Created documents for  5100  of  10992  spectra.No losses detected for:  5104 5590\n",
      "No losses detected for:  5108 5594\n",
      "  Created documents for  5900  of  10992  spectra.No losses detected for:  5975 6471\n",
      "No losses detected for:  5986 6482\n",
      "  Created documents for  6000  of  10992  spectra.No losses detected for:  6010 6506\n",
      "No losses detected for:  6012 6508\n",
      "No losses detected for:  6044 6540\n",
      "No losses detected for:  6052 6548\n",
      "No losses detected for:  6098 6594\n",
      "  Created documents for  6100  of  10992  spectra.No losses detected for:  6164 6660\n",
      "  Created documents for  6200  of  10992  spectra.No losses detected for:  6202 6698\n",
      "No losses detected for:  6262 6758\n",
      "  Created documents for  6300  of  10992  spectra.No losses detected for:  6311 6807\n",
      "No losses detected for:  6382 6878\n",
      "  Created documents for  6600  of  10992  spectra.No losses detected for:  6654 7150\n",
      "  Created documents for  6800  of  10992  spectra.No losses detected for:  6832 7328\n",
      "No losses detected for:  6842 7338\n",
      "  Created documents for  7000  of  10992  spectra.No losses detected for:  7015 7511\n",
      "No losses detected for:  7023 7519\n",
      "No losses detected for:  7047 7543\n",
      "No losses detected for:  7070 7566\n",
      "  Created documents for  7700  of  10992  spectra.No losses detected for:  7716 8212\n",
      "  Created documents for  9000  of  10992  spectra.No losses detected for:  9062 9902\n",
      "  Created documents for  9900  of  10992  spectra.No losses detected for:  9921 11076\n",
      "No losses detected for:  9954 11151\n",
      "No losses detected for:  9984 11194\n",
      "No losses detected for:  9989 11199\n",
      "No losses detected for:  9993 11203\n",
      "  Created documents for  10000  of  10992  spectra.No losses detected for:  10002 11216\n",
      "No losses detected for:  10005 11220\n",
      "No losses detected for:  10094 11341\n",
      "  Created documents for  10100  of  10992  spectra.No losses detected for:  10127 11386\n",
      "  Created documents for  10300  of  10992  spectra.No losses detected for:  10315 11883\n",
      "No losses detected for:  10322 11890\n",
      "No losses detected for:  10347 11915\n",
      "  Created documents for  10400  of  10992  spectra.No losses detected for:  10428 11996\n",
      "No losses detected for:  10431 11999\n",
      "No losses detected for:  10498 12066\n",
      "  Created documents for  10500  of  10992  spectra.No losses detected for:  10505 12073\n",
      "No losses detected for:  10547 12115\n",
      "No losses detected for:  10550 12118\n",
      "No losses detected for:  10552 12120\n",
      "No losses detected for:  10555 12123\n",
      "No losses detected for:  10559 12127\n",
      "No losses detected for:  10563 12131\n",
      "No losses detected for:  10579 12147\n",
      "No losses detected for:  10583 12151\n",
      "  Created documents for  10600  of  10992  spectra.No losses detected for:  10614 12182\n",
      "No losses detected for:  10627 12195\n",
      "No losses detected for:  10645 12213\n",
      "No losses detected for:  10680 12248\n",
      "No losses detected for:  10683 12251\n",
      "No losses detected for:  10687 12255\n",
      "No losses detected for:  10690 12258\n",
      "  Created documents for  10700  of  10992  spectra.No losses detected for:  10783 12351\n",
      "  Created documents for  10800  of  10992  spectra.No losses detected for:  10835 12403\n",
      "No losses detected for:  10872 12440\n",
      "No losses detected for:  10874 12442\n",
      "No losses detected for:  10882 12450\n",
      "No losses detected for:  10883 12451\n",
      "No losses detected for:  10884 12452\n",
      "No losses detected for:  10888 12456\n",
      "  Created documents for  10900  of  10992  spectra.No losses detected for:  10955 12741\n",
      "No losses detected for:  10961 12747\n",
      "No losses detected for:  10962 12749\n",
      "No losses detected for:  10964 12751\n",
      "No losses detected for:  10966 12753\n",
      "No losses detected for:  10974 12763\n",
      "  Created documents for  10992  of  10992  spectra."
     ]
    }
   ],
   "source": [
    "# Import & filter data from unique inchikey dataset\n",
    "file_json = PATH_MS_DATA + \"filtered_data_uniqueInchikey_minpeak10_loss500_2dec_exp001.json\"\n",
    "file_mgf = ROOT + \"\\\\Data\\\\GNPS_all\\\\\" + \"MS_data_allGNPS_uniqueInchikey14_191101.mgf\"\n",
    "\n",
    "spectra, spectra_dict, MS_documents, MS_documents_intensity, spectra_metadata = MS_functions.load_MGF_data(file_mgf = file_mgf,\n",
    "                                                           file_json = file_json,\n",
    "                                                           num_decimals = 2,\n",
    "                                                           min_frag = 0.0, max_frag = 1000.0,\n",
    "                                                           min_loss = 5.0, max_loss = 500.0,\n",
    "                                                           min_intensity_perc = 0,\n",
    "                                                           exp_intensity_filter = 0.01,\n",
    "                                                           peaks_per_mz = 15/200,\n",
    "                                                           min_peaks = 10,\n",
    "                                                           max_peaks = None,\n",
    "                                                           peak_loss_words = ['peak_', 'loss_'])"
   ]
  },
  {
   "cell_type": "code",
   "execution_count": 5,
   "metadata": {},
   "outputs": [
    {
     "name": "stdout",
     "output_type": "stream",
     "text": [
      "Number of imported spectra: 10992\n"
     ]
    }
   ],
   "source": [
    "print(\"Number of imported spectra:\", len(spectra))"
   ]
  },
  {
   "cell_type": "code",
   "execution_count": 45,
   "metadata": {},
   "outputs": [
    {
     "data": {
      "text/plain": [
       "'\"InChI=1S/C26H43NO5/c1-15(4-7-22(30)27-14-23(31)32)18-5-6-19-24-20(9-11-26(18,19)3)25(2)10-8-17(28)12-16(25)13-21(24)29/h15-21,24,28-29H,4-14H2,1-3H3,(H,27,30)(H,31,32)/t15?,16-,17+,18+,19-,20-,21+,24-,25?,26?/m0/s1\"'"
      ]
     },
     "execution_count": 45,
     "metadata": {},
     "output_type": "execute_result"
    }
   ],
   "source": [
    "spectra[0].inchi"
   ]
  },
  {
   "cell_type": "markdown",
   "metadata": {},
   "source": [
    "## Calculate molecular fingerprints"
   ]
  },
  {
   "cell_type": "code",
   "execution_count": 7,
   "metadata": {},
   "outputs": [
    {
     "data": {
      "text/plain": [
       "['ecfp0',\n",
       " 'ecfp10',\n",
       " 'ecfp2',\n",
       " 'ecfp4',\n",
       " 'ecfp6',\n",
       " 'ecfp8',\n",
       " 'fp2',\n",
       " 'fp3',\n",
       " 'fp4',\n",
       " 'maccs']"
      ]
     },
     "execution_count": 7,
     "metadata": {},
     "output_type": "execute_result"
    }
   ],
   "source": [
    "from openbabel import openbabel as ob\n",
    "from openbabel import pybel\n",
    "pybel.fps"
   ]
  },
  {
   "cell_type": "code",
   "execution_count": 45,
   "metadata": {},
   "outputs": [],
   "source": [
    "def mol_fingerprints(spectra_dict, \n",
    "                     method = \"ecfp6\"):\n",
    "    \"\"\" Calculate molecule fingerprints based on given inchi or smiles (using RDkit).\n",
    "    \n",
    "    Output: exclude_IDs list with spectra that had no inchi or smiles or problems when deriving fingerprint\n",
    "    \n",
    "    Args:\n",
    "    --------\n",
    "    spectra_dict: dict\n",
    "        Dictionary containing all spectrum objects information (peaks, losses, metadata...).\n",
    "    method: str\n",
    "        Determine method for deriving molecular fingerprints. Supported choices from openbabel are 'ecfp0',\n",
    "        'ecfp10', 'ecfp2', 'ecfp4', 'ecfp6', 'ecfp8', 'fp2', 'fp3', 'fp4', 'maccs'. (see \"pybel.fps\")\n",
    "    \"\"\"\n",
    "    \n",
    "    # If spectra is given as a dictionary\n",
    "    keys = []\n",
    "    exclude_IDs = []\n",
    "    molecules = []\n",
    "    \n",
    "    for key, value in spectra_dict.items():\n",
    "        mol = 0\n",
    "        if \"inchi\" in value[\"metadata\"] and len(value[\"metadata\"][\"inchi\"]) > 12:\n",
    "            inchi = value[\"metadata\"][\"inchi\"]\n",
    "            if inchi.split('InChI=')[-1][0] == '1':  # only select right format\n",
    "                mol = 1\n",
    "                keys.append(key) \n",
    "                try:\n",
    "                    mol = pybel.readstring(\"inchi\", inchi) \n",
    "                except:\n",
    "                    print(key, ' ---- ')\n",
    "                    print('error handling inchi:', inchi)\n",
    "                    mol = 0\n",
    "\n",
    "        if \"smiles\" in value and mol == 0:  # Smiles but no InChikey or inchi handling failed\n",
    "            keys.append(key) \n",
    "            smiles = value[\"metadata\"][\"smiles\"]\n",
    "            if len(smiles) > 5:\n",
    "                try:\n",
    "                    mol = pybel.readstring(\"smi\", smiles)\n",
    "                    if len(mol.atoms)>2:\n",
    "                        print('Molecule found using smiles:', smiles)\n",
    "                except:\n",
    "                    print('error handling smiles:', smiles)\n",
    "                    mol = 0\n",
    "    \n",
    "        if mol == 0: #or mol == 1:\n",
    "            print(\"No smiles found for spectra \", key, \".\")\n",
    "            mol = ''\n",
    "            molecules.append(mol)\n",
    "            exclude_IDs.append(int(value[\"id\"]))\n",
    "        \n",
    "        #\"\"\"  \n",
    "        else:\n",
    "            #mol = ''\n",
    "            molecules.append(mol)\n",
    "\n",
    "        \n",
    "    fingerprints = []\n",
    "    for i in range(len(molecules)):\n",
    "        if molecules[i] is None:\n",
    "            print(\"Problem with molecule \" + str(spectra_dict[keys[i]][\"id\"]))\n",
    "            fp = 0\n",
    "            exclude_IDs.append(int(spectra_dict[keys[i]][\"id\"]))\n",
    "        else:\n",
    "            try:\n",
    "                fp = molecules[i].calcfp(method)\n",
    "                #if len(fp.bits) > 1:\n",
    "                #    print(\"Created fingerprint.\")\n",
    "            except:\n",
    "                fp = 0\n",
    "                exclude_IDs.append(int(spectra_dict[keys[i]][\"id\"]))\n",
    "\n",
    "        fingerprints.append(fp)\n",
    "    \n",
    "    return molecules, fingerprints, exclude_IDs"
   ]
  },
  {
   "cell_type": "code",
   "execution_count": null,
   "metadata": {},
   "outputs": [],
   "source": [
    "inchi_control = 'InChI=1S/C26H32O9/c1-11-13-8-17(27)35-22(3,4)14(13)9-16-24(6)15(11)10-23(5)18-19(33-20(23)28)32-12(2)26(30,34-16)25(18,24)21(29)31-7/h8-9,11-12,15-16,18-19,30H,10H2,1-7H3/t11-,12-,15-,16+,18+,19+,23+,24+,25-,26+/m0/s1'\n",
    "inchi_notwork = 'InChI=1S/C26H32O9/c1-11-13-8-17(27)35-22(3,4)14(13)9-16-24(6)15(11)10-23(5)18-19(33-20(23)28)32-12(2)26(30,34-16)25(18,24)21(29)31-7/h8-9,11-12,15-16,18-19,30H,10H2,1-7H3/t11-,12-,15-,16+,18+,19+,23+,24+,25-,26+/m0/s1'"
   ]
  },
  {
   "cell_type": "code",
   "execution_count": 41,
   "metadata": {},
   "outputs": [
    {
     "data": {
      "text/plain": [
       "2"
      ]
     },
     "execution_count": 41,
     "metadata": {},
     "output_type": "execute_result"
    }
   ],
   "source": [
    "mol = pybel.readstring(\"smi\", 'cc') \n",
    "len(mol.atoms)"
   ]
  },
  {
   "cell_type": "code",
   "execution_count": 41,
   "metadata": {},
   "outputs": [
    {
     "data": {
      "text/plain": [
       "{'id': 1791,\n",
       " 'filename': [],\n",
       " 'peaks': [[56.832417, 1112.615723],\n",
       "  [81.32457, 1466.502075],\n",
       "  [72.909615, 1483.507202],\n",
       "  [112.597542, 1542.089233],\n",
       "  [80.953026, 1575.963013],\n",
       "  [59.029915, 1601.985596],\n",
       "  [92.100334, 1698.112793],\n",
       "  [72.762817, 1716.799927],\n",
       "  [362.978729, 1749.238525],\n",
       "  [91.053925, 1769.755493],\n",
       "  [101.059532, 1776.271851],\n",
       "  [90.976517, 1851.651001],\n",
       "  [81.069901, 1894.630005],\n",
       "  [303.023285, 1897.45166],\n",
       "  [52.064011, 1950.487183],\n",
       "  [69.07032, 2042.015503],\n",
       "  [145.254257, 2128.078857],\n",
       "  [72.765762, 2131.506348],\n",
       "  [264.13739, 2348.274658],\n",
       "  [143.036865, 2352.503174],\n",
       "  [116.04953, 2394.674805],\n",
       "  [123.116287, 2413.346191],\n",
       "  [347.26828, 2416.842041],\n",
       "  [345.19693, 2525.523926],\n",
       "  [186.482788, 2695.491699],\n",
       "  [97.101097, 2744.726074],\n",
       "  [329.244995, 2843.077148],\n",
       "  [97.064804, 3111.710205],\n",
       "  [55.054802, 3179.731934],\n",
       "  [95.085739, 3394.924072],\n",
       "  [125.09623, 3518.343506],\n",
       "  [85.065071, 3534.494629],\n",
       "  [204.119598, 5719.601562],\n",
       "  [145.046951, 6424.220703],\n",
       "  [242.152756, 6619.716797],\n",
       "  [302.020203, 7070.927246],\n",
       "  [89.060127, 7478.191406],\n",
       "  [113.060165, 8156.351562],\n",
       "  [222.129425, 9135.871094],\n",
       "  [80.948196, 9850.220703],\n",
       "  [87.060959, 10009.581055],\n",
       "  [105.070908, 11983.862305],\n",
       "  [328.203644, 12536.535156],\n",
       "  [346.147797, 13143.169922],\n",
       "  [112.099594, 14508.657227],\n",
       "  [67.054985, 16847.664062],\n",
       "  [83.086205, 23545.636719],\n",
       "  [144.044937, 192764.09375],\n",
       "  [249.111282, 193609.953125],\n",
       "  [347.219391, 287740.59375],\n",
       "  [346.215332, 2474206.5],\n",
       "  [248.107361, 2555096.75]],\n",
       " 'precursor_mz': 346.21701,\n",
       " 'parent_mz': 345.20973354800924,\n",
       " 'metadata': {'title': 'XLR11 N-(4-HYDROXYPENTYL)',\n",
       "  'libraryquality': '3',\n",
       "  'smiles': 'CC1(C(C1(C)C)C(=O)C2=CN(C3=CC=CC=C32)CCCC(CF)O)C',\n",
       "  'inchikey': 'MDPXVRYUGDTVIS-UHFFFAOYSA-N',\n",
       "  'inchi': '\"InChI=1S/C21H28FNO2/c1-20(2)19(21(20,3)4)18(25)16-13-23(11-7-8-14(24)12-22)17-10-6-5-9-15(16)17/h5-6,9-10,13-14,19,24H,7-8,11-12H2,1-4H\"',\n",
       "  'pepmass': [346.21701, None],\n",
       "  'charge': 1,\n",
       "  'mslevel': '2',\n",
       "  'source_instrument': 'LC-ESI-Orbitrap',\n",
       "  'filename': 'f.Francesca90/rette droga triplicata/file convertiti/180813_MIX60-100PPB.mzXML;',\n",
       "  'seq': '*..*',\n",
       "  'notes': '',\n",
       "  'ionmode': 'Positive',\n",
       "  'organism': 'GNPS-LIBRARY',\n",
       "  'name': 'XLR11 N-(4-HYDROXYPENTYL) M+H',\n",
       "  'spectrumid': 'CCMSLIB00004722158',\n",
       "  'activation': 'CID',\n",
       "  'instrument': 'ion trap',\n",
       "  'scans': '1972',\n",
       "  'precursormass': 346.21701,\n",
       "  'parentintensity': None,\n",
       "  'parentmass': 345.20973354800924,\n",
       "  'singlechargeprecursormass': 346.21701},\n",
       " 'family': None,\n",
       " 'annotations': [],\n",
       " 'smiles': 'CC1(C(C1(C)C)C(=O)C2=CN(C3=CC=CC=C32)CCCC(CF)O)C',\n",
       " 'inchi': '\"InChI=1S/C21H28FNO2/c1-20(2)19(21(20,3)4)18(25)16-13-23(11-7-8-14(24)12-22)17-10-6-5-9-15(16)17/h5-6,9-10,13-14,19,24H,7-8,11-12H2,1-4H\"',\n",
       " 'PROTON_MASS': 1.00727645199076,\n",
       " 'min_frag': 0.0,\n",
       " 'max_frag': 1000.0,\n",
       " 'min_loss': 5.0,\n",
       " 'max_loss': 500.0,\n",
       " 'min_intensity_perc': 0,\n",
       " 'exp_intensity_filter': 0.01,\n",
       " 'peaks_per_mz': 0.075,\n",
       " 'min_peaks': 35,\n",
       " 'max_peaks': None,\n",
       " 'merge_energies': True,\n",
       " 'merge_ppm': 10,\n",
       " 'replace': 'max',\n",
       " 'n_peaks': 52,\n",
       " 'losses': [[289.384593, 1112.615723],\n",
       "  [264.89244, 1466.502075],\n",
       "  [273.30739500000004, 1483.507202],\n",
       "  [233.619468, 1542.089233],\n",
       "  [265.26398400000005, 1575.963013],\n",
       "  [287.187095, 1601.985596],\n",
       "  [254.116676, 1698.112793],\n",
       "  [273.45419300000003, 1716.799927],\n",
       "  [255.16308500000002, 1769.755493],\n",
       "  [245.15747800000003, 1776.271851],\n",
       "  [255.24049300000001, 1851.651001],\n",
       "  [265.147109, 1894.630005],\n",
       "  [43.19372500000003, 1897.45166],\n",
       "  [294.152999, 1950.487183],\n",
       "  [277.14669000000004, 2042.015503],\n",
       "  [200.96275300000002, 2128.078857],\n",
       "  [273.451248, 2131.506348],\n",
       "  [82.07962000000003, 2348.274658],\n",
       "  [203.180145, 2352.503174],\n",
       "  [230.16748, 2394.674805],\n",
       "  [223.10072300000002, 2413.346191],\n",
       "  [159.73422200000002, 2695.491699],\n",
       "  [249.11591300000003, 2744.726074],\n",
       "  [16.972015, 2843.077148],\n",
       "  [249.15220600000004, 3111.710205],\n",
       "  [291.162208, 3179.731934],\n",
       "  [251.13127100000003, 3394.924072],\n",
       "  [221.12078000000002, 3518.343506],\n",
       "  [261.151939, 3534.494629],\n",
       "  [142.09741200000002, 5719.601562],\n",
       "  [201.170059, 6424.220703],\n",
       "  [104.064254, 6619.716797],\n",
       "  [44.196807000000035, 7070.927246],\n",
       "  [257.156883, 7478.191406],\n",
       "  [233.15684500000003, 8156.351562],\n",
       "  [124.08758500000002, 9135.871094],\n",
       "  [265.268814, 9850.220703],\n",
       "  [259.15605100000005, 10009.581055],\n",
       "  [241.146102, 11983.862305],\n",
       "  [18.01336600000002, 12536.535156],\n",
       "  [234.11741600000002, 14508.657227],\n",
       "  [279.162025, 16847.664062],\n",
       "  [263.130805, 23545.636719],\n",
       "  [202.172073, 192764.09375],\n",
       "  [97.10572800000003, 193609.953125],\n",
       "  [98.10964900000002, 2555096.75]]}"
      ]
     },
     "execution_count": 41,
     "metadata": {},
     "output_type": "execute_result"
    }
   ],
   "source": [
    "spectra_dict['1791']"
   ]
  },
  {
   "cell_type": "code",
   "execution_count": 46,
   "metadata": {},
   "outputs": [
    {
     "name": "stdout",
     "output_type": "stream",
     "text": [
      "Molecule found using smiles: C1[C@@H]([C@H](O[C@H]1N2C3=C(C(=O)N=C(N3)N)NC2=O)CO)O\n",
      "1973  ---- \n",
      "error handling inchi: \"InChI=1S/C18H15NO5/c20-13-7-5-12(6-8-13)3-1-2-4-17(22)19-16-10-9-14(21)11-15(16)18(23)24/h1-11,20-21H,(H,19,22)(H,23,24)/b3-1,4-2+\"\n",
      "Molecule found using smiles: OC1=CC=C(/C=C/C=C/C(NC2=CC=C(O)C=C2C(O)=O)=O)C=C1\n",
      "2042  ---- \n",
      "error handling inchi: \"InChI=1S/C16H17NO3/c18-16(17-9-3-4-10-17)6-2-1-5-13-7-8-14-15(11-13)20-12-19-14/h1-2,5-8,11H,3-4,9-10,12H2/b5-1,6-2+\"\n",
      "Molecule found using smiles: O=C(N1CCCC1)/C=C/C=C/C2=CC=C3OCOC3=C2\n",
      "2106  ---- \n",
      "error handling inchi: \"InChI=1S/C11H11Br2N5O/c12-7-4-8(18-9(7)13)10(19)15-3-1-2-6-5-16-11(14)17-6/h1-2,4-5,18H,3H2,(H,15,19)(H3,14,16,17)/b2-1\"\n",
      "Molecule found using smiles: C1=C(NC(=C1Br)Br)C(=O)NCC=CC2=CN=C(N2)N\n",
      "2765  ---- \n",
      "error handling inchi: \"InChI=1S/C29H45ClN6O9S/c\"\n",
      "Molecule found using smiles: CC[C@H](C)[C@@H](NC(=O)C(O)Cc1ccc(O)c(Cl)c1)C(=O)N1C2CC(CCC2CC1C(=O)NCCCCNC(=N)N)OS(=O)(=O)O\n",
      "2826  ---- \n",
      "error handling inchi: \"InChI=1S/C20H22O8/c21-10-16-17(24)18(25)19(26)20(28-16)27-15-8-12(7-14(23)9-15)2-1-11-3-5-13(22)6-4-11/h1-9,16-26H,10H2/b2-1/t16-,17-,18+,19-,20-/m1/s1\"\n",
      "Molecule found using smiles: OC[C@H]1O[C@@H](Oc2cc(O)cc(/C=C/c3ccc(O)cc3)c2)[C@H](O)[C@@H](O)[C@@H]1O\n",
      "2899  ---- \n",
      "error handling inchi: \"InChI=1S/C14H12O3/c15-12-5-3-10(4-6-12)1-2-11-7-13(16)9-14(17)8-11/h1-9,15-17H/b2-1\"\n",
      "Molecule found using smiles: Oc1ccc(/C=C/c2cc(O)cc(O)c2)cc1\n",
      "4988  ---- \n",
      "error handling inchi: \"InChI=1S/C28H22O6/c29-20-7-2-16(3-8-20)1-4-18-11-24(33)15-25-26(18)27(19-12-22(31)14-23(32)13-19)28(34-25)17-5-9-21(30)10-6-17/h1-15,27-33H/b4-1/t27-,28-/m0/s1\"\n",
      "Molecule found using smiles: OC1=CC=C(\\C=C\\C2=CC(O)=CC3=C2[C@@H]([C@@H](O3)C4=CC=C(O)C=C4)C5=CC(O)=CC(O)=C5)C=C1\n",
      "5371  ---- \n",
      "error handling inchi: \"InChI=1S/C16H18O10/c17-5-11-13(20)14(21)15(22)16(26-11)25-8-4-10-9(23-6-24-10)3-7(8)1-2-12(18)19/h1-4,11,13-17,20-22H,5-6H2,(H,18,19)/b2-1/t11-,13-,14+,15-,16-/m1/s1\"\n",
      "Molecule found using smiles: OC[C@H]1O[C@@H](OC2=CC3=C(OCO3)C=C2\\C=C\\C(O)=O)[C@H](O)[C@@H](O)[C@@H]1O\n",
      "5376  ---- \n",
      "error handling inchi: \"InChI=1S/C26H32O14/c27-9-17-19(31)21(33)23(35)25(39-17)37-14-4-3-12(16(30)8-14)2-1-11-5-13(29)7-15(6-11)38-26-24(36)22(34)20(32)18(10-28)40-26/h1-8,17-36H,9-10H2/b2-1\"\n",
      "Molecule found using smiles: OCC1OC(OC2=CC(=C(C=C2)\\C=C\\C3=CC(=CC(=C3)OC4OC(CO)C(O)C(O)C4O)O)O)C(O)C(O)C1O\n",
      "5873  ---- \n",
      "error handling inchi: \"InChI=1S/C14H12O4/c15-11-4-3-10(14(18)8-11)2-1-9-5-12(16)7-13(17)6-9/h1-8,15-18H/b2-1\"\n",
      "Molecule found using smiles: OC1=CC(O)=C(\\C=C\\C2=CC(O)=CC(O)=C2)C=C1\n",
      "6418  ---- \n",
      "error handling inchi: \"InChI=1S/C15H17NO4/c17-9-3-1-2-4-14(10-15(19)20)16-13-7-5-12(11-18)6-8-13/h1-8,11,14,16-17H,9-10H2,(H,19,20)/b3-1,4-2+\"\n",
      "Molecule found using smiles: OC\\C=C\\C=C\\C(CC(O)=O)NC1=CC=C(C=O)C=C1\n",
      "6467  ---- \n",
      "error handling inchi: \"InChI=1S/C13H14O4/c14-5-3-1-2-4-11-7-9-6-10(15)8-12(16)13(9)17-11/h1-4,6,8,11,14-16H,5,7H2/b3-1,4-2+/t11-/m0/s1\"\n",
      "Molecule found using smiles: OC\\C=C\\C=C\\[C@H]1CC2=C(O1)C(=CC(=C2)O)O\n",
      "7368  ---- \n",
      "error handling inchi: \"InChI=1S/C15H20O7/c16-8-11-12(18)13(19)14(20)15(22-11)21-7-1-2-9-3-5-10(17)6-4-9/h1-6,11-20H,7-8H2/b2-1/t11-,12-,13+,14-,15-/m1/s1\"\n",
      "Molecule found using smiles: OC[C@H]1O[C@@H](OC/C=C/C2=CC=C(O)C=C2)[C@H](O)[C@@H](O)[C@@H]1O\n",
      "7623  ---- \n",
      "error handling inchi: \"InChI=1S/C21H25N3O2S.C4H4O4/c25-14-16-26-15-13-23-9-11-24(12-10-23)21-17-5-1-3-7-19(17)27-20-8-4-2-6-18(20)22-21;5-3(6)1-2-4(7)8/h1-8,25H,9-16H2;1-2H,(H,5,6)(H,7,8)/b;2-1\"\n",
      "Molecule found using smiles: OCCOCCN1CCN(CC1)C2=Nc3ccccc3Sc4ccccc24.OC(=O)/C=C/C(=O)O\n",
      "7711  ---- \n",
      "error handling inchi: \"InChI=1S/C19H24N2O4.C4H4O4.H2O/c1-13(9-14-3-6-16(25-2)7-4-14)20-11-19(24)15-5-8-18(23)17(10-15)21-12-22;5-3(6)1-2-4(7)8;/h3-8,10,12-13,19-20,23-24H,9,11H2,1-2H3,(H,21,22);1-2H,(H,5,6)(H,7,8);1H2/p-2/b;2-1;\"\n",
      "Molecule found using smiles: COc1ccc(CC(C)NCC(O)c2ccc(O)c(NC=O)c2)cc1.O.[O-]C(=O)/C=C/C(=O)[O-]\n",
      "7937  ---- \n",
      "error handling inchi: \"InChI=1S/C11H15BrN2.C4H4O4/c1-8(13)7-14-5-4-9-2-3-10(12)6-11(9)14;5-3(6)1-2-4(7)8/h2-3,6,8H,4-5,7,13H2,1H3;1-2H,(H,5,6)(H,7,8)/b;2-1/t8-;/m0./s1\"\n",
      "Molecule found using smiles: C[C@H](N)CN1CCc2ccc(Br)cc12.OC(=O)/C=C/C(=O)O\n",
      "8027  ---- \n",
      "error handling inchi: \"InChI=1S/C28H47NO4S.C4H4O4/c1-8-26(6)17-22(33-23(31)18-34-16-15-29(9-2)10-3)27(7)19(4)11-13-28(20(5)25(26)32)14-12-21(30)24(27)28;5-3(6)1-2-4(7)8/h8,19-20,22,24-25,32H,1,9-18H2,2-7H3;1-2H,(H,5,6)(H,7,8)/b;2-1/t19?,20-,22+,24-,25-,26+,27-,28-;/m0./s1\"\n",
      "Molecule found using smiles: CCN(CC)CCSCC(=O)O[C@@H]1C[C@@](C)(C=C)[C@@H](O)[C@H](C)[C@@]2(CCC(=O)[C@H]23)CCC(C)[C@]31C.OC(=O)/C=C/C(=O)O\n",
      "8167  ---- \n",
      "error handling inchi: \"InChI=1S/C16H25N3O5.C4H4O4/c20-13-1-3-15(4-2-13)24-12-14(21)11-17-5-6-18-16(22)19-7-9-23-10-8-19;5-3(6)1-2-4(7)8/h1-4,14,17,20-21H,5-12H2,(H,18,22);1-2H,(H,5,6)(H,7,8)/p-2/b;2-1\"\n",
      "Molecule found using smiles: OC(CNCCNC(=O)N1CCOCC1)COc2ccc(O)cc2.[O-]C(=O)/C=C/C(=O)[O-]\n",
      "8370  ---- \n",
      "error handling inchi: \"InChI=1S/C21H26ClNO.C4H4O4/c1-21(17-7-4-3-5-8-17,18-10-12-19(22)13-11-18)24-16-14-20-9-6-15-23(20)2;5-3(6)1-2-4(7)8/h3-5,7-8,10-13,20H,6,9,14-16H2,1-2H3;1-2H,(H,5,6)(H,7,8)/p-2/b;2-1/t20-,21-;/m1./s1\"\n",
      "Molecule found using smiles: CN1CCC[C@@H]1CCO[C@](C)(c2ccccc2)c3ccc(Cl)cc3.[O-]C(=O)/C=C/C(=O)[O-]\n",
      "8769  ---- \n",
      "error handling inchi: \"InChI=1S/C18H31NO4.C4H4O4/c1-14(2)19-11-17(20)13-23-18-7-5-16(6-8-18)12-21-9-10-22-15(3)4;5-3(6)1-2-4(7)8/h5-8,14-15,17,19-20H,9-13H2,1-4H3;1-2H,(H,5,6)(H,7,8)/b;2-1\"\n",
      "Molecule found using smiles: C1(=C(C=CC(=C1)OCC(O)CNC(C)C)COCCOC(C)C).OC(/C=C/C(O)=O)=O\n",
      "8843  ---- \n",
      "error handling inchi: \"InChI=1S/2C21H25N3O2S.C4H4O4/c2*25-14-16-26-15-13-23-9-11-24(12-10-23)21-17-5-1-3-7-19(17)27-20-8-4-2-6-18(20)22-21;5-3(6)1-2-4(7)8/h2*1-8,25H,9-16H2;1-2H,(H,5,6)(H,7,8)/b;;2-1\"\n",
      "Molecule found using smiles: C1(=CC=C2C(=C1)N=C(C3=C(S2)C=CC=C3)N4CCN(CC4)CCOCCO).OC(/C=C/C(O)=O)=O.C56=C(C=CC=C5)N=C(C7=C(S6)C=CC=C7)N8CCN(CC8)CCOCCO\n",
      "8878  ---- \n",
      "error handling inchi: \"InChI=1S/2C19H24N2O4.C4H4O4/c2*1-13(9-14-3-6-16(25-2)7-4-14)20-11-19(24)15-5-8-18(23)17(10-15)21-12-22;5-3(6)1-2-4(7)8/h2*3-8,10,12-13,19-20,23-24H,9,11H2,1-2H3,(H,21,22);1-2H,(H,5,6)(H,7,8)/b;;2-1/t2*13-,19+;/m00./s1\"\n",
      "Molecule found using smiles: C1(=C(C=CC(=C1)C[C@@H](NC[C@H](C2=CC=C(C(=C2)NC(=O)[H])O)O)C)OC).C3(=C(C=CC(=C3)C[C@@H](NC[C@H](C4=CC=C(C(=C4)NC(=O)[H])O)O)C)OC).OC(/C=C/C(O)=O)=O\n",
      "8907  ---- \n",
      "error handling inchi: \"InChI=1S/2C20H36N2O3S.C4H4O4/c2*1-4-6-7-8-9-16-22(5-2)17-10-11-20(23)18-12-14-19(15-13-18)21-26(3,24)25;5-3(6)1-2-4(7)8/h2*12-15,20-21,23H,4-11,16-17H2,1-3H3;1-2H,(H,5,6)(H,7,8)/b;;2-1\"\n",
      "Molecule found using smiles: CS(=O)(=O)NC1(C=CC(=CC=1)C(CCCN(CCCCCCC)CC)O).C(/C=C/C(=O)O)(=O)O.CS(=O)(=O)NC2C=CC(=CC=2)C(CCCN(CCCCCCC)CC)O\n",
      "8958  ---- \n",
      "error handling inchi: \"InChI=1S/C24H28N2O3.C4H4O4/c1-3-14-9-16-11-18(12-17(16)10-15(14)4-2)25-13-22(28)19-5-7-21(27)24-20(19)6-8-23(29)26-24;5-3(6)1-2-4(7)8/h5-10,18,22,25,27-28H,3-4,11-13H2,1-2H3,(H,26,29);1-2H,(H,5,6)(H,7,8)/b;2-1/t22-;/m0./s1\"\n",
      "Molecule found using smiles: N1(C(C=CC2C(=CC=C(C1=2)O)[C@H](CNC3CC4C=C(C(=CC(C3)=4)CC)CC)O)=O).C(/C(=O)O)=C\\C(=O)O\n",
      "11955  ---- \n",
      "error handling inchi: \"InChI=1S/C15H20O7/c16-7-1-2-9-3-5-10(6-4-9)21-15-14(20)13(19)12(18)11(8-17)22-15/h1-6,11-20H,7-8H2/b2-1/t11-,12-,13+,14-,15-/m1/s1\"\n",
      "Molecule found using smiles: C(=C\\c1ccc(cc1)O[C@H]1[C@@H]([C@H]([C@@H]([C@@H](CO)O1)O)O)O)/CO\n",
      "12374  ---- \n",
      "error handling inchi: \"InChI=1S/C16H14O3/c11812781513(912)14(17)1016(1915)115324611/h29,16H,10H2,1H3\"\n",
      "No smiles found for spectra  12374 .\n"
     ]
    }
   ],
   "source": [
    "molecules_ob, fingerprints_ecfp6, exclude_IDs_ob = mol_fingerprints(spectra_dict, \n",
    "                                                                    method = \"ecfp6\")"
   ]
  },
  {
   "cell_type": "code",
   "execution_count": 47,
   "metadata": {},
   "outputs": [
    {
     "data": {
      "text/plain": [
       "2"
      ]
     },
     "execution_count": 47,
     "metadata": {},
     "output_type": "execute_result"
    }
   ],
   "source": [
    "exclude_ob = [np.where(np.array(spectra_metadata)[:,1] == x)[0][0] for x in exclude_IDs_ob]\n",
    "len(exclude_ob)"
   ]
  },
  {
   "cell_type": "markdown",
   "metadata": {},
   "source": [
    "## note: only 2 fingerprints could not been made\n",
    "Those spectra will be ignored for the rest of the analysis."
   ]
  },
  {
   "cell_type": "code",
   "execution_count": null,
   "metadata": {},
   "outputs": [],
   "source": []
  }
 ],
 "metadata": {
  "kernelspec": {
   "display_name": "Python 3",
   "language": "python",
   "name": "python3"
  },
  "language_info": {
   "codemirror_mode": {
    "name": "ipython",
    "version": 3
   },
   "file_extension": ".py",
   "mimetype": "text/x-python",
   "name": "python",
   "nbconvert_exporter": "python",
   "pygments_lexer": "ipython3",
   "version": "3.6.8"
  }
 },
 "nbformat": 4,
 "nbformat_minor": 2
}
