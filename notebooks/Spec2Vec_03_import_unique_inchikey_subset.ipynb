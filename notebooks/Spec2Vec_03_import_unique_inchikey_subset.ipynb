{
 "cells": [
  {
   "cell_type": "code",
   "execution_count": 1,
   "metadata": {},
   "outputs": [],
   "source": [
    "# Locations\n",
    "ROOT = \"C:\\\\OneDrive - Netherlands eScience Center\\\\Project_Wageningen_iOMEGA\"\n",
    "PATH_MS_DATA = ROOT + \"\\\\Data\\\\GNPS_all\\\\\"\n",
    "PATH_SAVE_MODEL = ROOT + \"\\\\Spec2Vec\\\\models_trained\\\\\"\n",
    "PATH_SAVE_DATA = ROOT + \"\\\\Spec2Vec\\\\data\\\\\"\n",
    "PATH_SPEC2VEC = ROOT + \"\\\\Spec2Vec\\\\code\\\\\""
   ]
  },
  {
   "cell_type": "code",
   "execution_count": 2,
   "metadata": {},
   "outputs": [],
   "source": [
    "import numpy as np\n",
    "import sys\n",
    "sys.path.insert(0, PATH_SPEC2VEC)\n",
    "\n",
    "import helper_functions as functions\n",
    "import MS_functions"
   ]
  },
  {
   "cell_type": "markdown",
   "metadata": {},
   "source": [
    "## Import unique-inchi subset"
   ]
  },
  {
   "cell_type": "code",
   "execution_count": 3,
   "metadata": {},
   "outputs": [
    {
     "name": "stdout",
     "output_type": "stream",
     "text": [
      "Spectra json file found and loaded.\n"
     ]
    }
   ],
   "source": [
    "# Import & filter data from unique inchikey dataset\n",
    "file_json = PATH_MS_DATA + \"filtered_data_uniqueInchikey_minpeak10_loss500_2dec_exp001.json\"\n",
    "file_mgf = ROOT + \"\\\\Data\\\\GNPS_all\\\\\" + \"MS_data_allGNPS_uniqueInchikey14_191101.mgf\"\n",
    "\n",
    "spectra, spectra_dict, MS_documents, MS_documents_intensity, spectra_metadata = MS_functions.load_MGF_data(file_mgf = file_mgf,\n",
    "                                                           file_json = file_json,\n",
    "                                                           num_decimals = 2,\n",
    "                                                           min_frag = 0.0, max_frag = 1000.0,\n",
    "                                                           min_loss = 5.0, max_loss = 500.0,\n",
    "                                                           min_intensity_perc = 0,\n",
    "                                                           exp_intensity_filter = 0.01,\n",
    "                                                           peaks_per_mz = 15/200,\n",
    "                                                           min_peaks = 10,\n",
    "                                                           max_peaks = None,\n",
    "                                                           peak_loss_words = ['peak_', 'loss_'])"
   ]
  },
  {
   "cell_type": "code",
   "execution_count": 4,
   "metadata": {},
   "outputs": [
    {
     "name": "stdout",
     "output_type": "stream",
     "text": [
      "Number of imported spectra: 10992\n"
     ]
    }
   ],
   "source": [
    "print(\"Number of imported spectra:\", len(spectra))"
   ]
  },
  {
   "cell_type": "code",
   "execution_count": 5,
   "metadata": {},
   "outputs": [
    {
     "data": {
      "text/plain": [
       "'\"InChI=1S/C24H40O5/c1-13(4-7-21(28)29)16-5-6-17-22-18(12-20(27)24(16,17)3)23(2)9-8-15(25)10-14(23)11-19(22)26/h13-20,22,25-27H,4-12H2,1-3H3,(H,28,29)/t13?,14-,15+,16+,17-,18-,19+,20-,22-,23?,24?/m0/s1\"'"
      ]
     },
     "execution_count": 5,
     "metadata": {},
     "output_type": "execute_result"
    }
   ],
   "source": [
    "spectra[0].inchi"
   ]
  },
  {
   "cell_type": "markdown",
   "metadata": {},
   "source": [
    "## Calculate molecular fingerprints"
   ]
  },
  {
   "cell_type": "code",
   "execution_count": 6,
   "metadata": {},
   "outputs": [
    {
     "name": "stdout",
     "output_type": "stream",
     "text": [
      "Molecule found using smiles: C1[C@@H]([C@H](O[C@H]1N2C3=C(C(=O)N=C(N3)N)NC2=O)CO)O\n",
      "Error while handling inchi: \"InChI=1S/C18H15NO5/c20-13-7-5-12(6-8-13)3-1-2-4-17(22)19-16-10-9-14(21)11-15(16)18(23)24/h1-11,20-21H,(H,19,22)(H,23,24)/b3-1,4-2+\"\n",
      "Molecule found using smiles: OC1=CC=C(/C=C/C=C/C(NC2=CC=C(O)C=C2C(O)=O)=O)C=C1\n",
      "Error while handling inchi: \"InChI=1S/C16H17NO3/c18-16(17-9-3-4-10-17)6-2-1-5-13-7-8-14-15(11-13)20-12-19-14/h1-2,5-8,11H,3-4,9-10,12H2/b5-1,6-2+\"\n",
      "Molecule found using smiles: O=C(N1CCCC1)/C=C/C=C/C2=CC=C3OCOC3=C2\n",
      "Error while handling inchi: \"InChI=1S/C11H11Br2N5O/c12-7-4-8(18-9(7)13)10(19)15-3-1-2-6-5-16-11(14)17-6/h1-2,4-5,18H,3H2,(H,15,19)(H3,14,16,17)/b2-1\"\n",
      "Molecule found using smiles: C1=C(NC(=C1Br)Br)C(=O)NCC=CC2=CN=C(N2)N\n",
      "Error while handling inchi: \"InChI=1S/C29H45ClN6O9S/c\"\n",
      "Molecule found using smiles: CC[C@H](C)[C@@H](NC(=O)C(O)Cc1ccc(O)c(Cl)c1)C(=O)N1C2CC(CCC2CC1C(=O)NCCCCNC(=N)N)OS(=O)(=O)O\n",
      "Error while handling inchi: \"InChI=1S/C20H22O8/c21-10-16-17(24)18(25)19(26)20(28-16)27-15-8-12(7-14(23)9-15)2-1-11-3-5-13(22)6-4-11/h1-9,16-26H,10H2/b2-1/t16-,17-,18+,19-,20-/m1/s1\"\n",
      "Molecule found using smiles: OC[C@H]1O[C@@H](Oc2cc(O)cc(/C=C/c3ccc(O)cc3)c2)[C@H](O)[C@@H](O)[C@@H]1O\n",
      "Error while handling inchi: \"InChI=1S/C14H12O3/c15-12-5-3-10(4-6-12)1-2-11-7-13(16)9-14(17)8-11/h1-9,15-17H/b2-1\"\n",
      "Molecule found using smiles: Oc1ccc(/C=C/c2cc(O)cc(O)c2)cc1\n",
      "Error while handling inchi: \"InChI=1S/C28H22O6/c29-20-7-2-16(3-8-20)1-4-18-11-24(33)15-25-26(18)27(19-12-22(31)14-23(32)13-19)28(34-25)17-5-9-21(30)10-6-17/h1-15,27-33H/b4-1/t27-,28-/m0/s1\"\n",
      "Molecule found using smiles: OC1=CC=C(\\C=C\\C2=CC(O)=CC3=C2[C@@H]([C@@H](O3)C4=CC=C(O)C=C4)C5=CC(O)=CC(O)=C5)C=C1\n",
      "Error while handling inchi: \"InChI=1S/C16H18O10/c17-5-11-13(20)14(21)15(22)16(26-11)25-8-4-10-9(23-6-24-10)3-7(8)1-2-12(18)19/h1-4,11,13-17,20-22H,5-6H2,(H,18,19)/b2-1/t11-,13-,14+,15-,16-/m1/s1\"\n",
      "Molecule found using smiles: OC[C@H]1O[C@@H](OC2=CC3=C(OCO3)C=C2\\C=C\\C(O)=O)[C@H](O)[C@@H](O)[C@@H]1O\n",
      "Error while handling inchi: \"InChI=1S/C26H32O14/c27-9-17-19(31)21(33)23(35)25(39-17)37-14-4-3-12(16(30)8-14)2-1-11-5-13(29)7-15(6-11)38-26-24(36)22(34)20(32)18(10-28)40-26/h1-8,17-36H,9-10H2/b2-1\"\n",
      "Molecule found using smiles: OCC1OC(OC2=CC(=C(C=C2)\\C=C\\C3=CC(=CC(=C3)OC4OC(CO)C(O)C(O)C4O)O)O)C(O)C(O)C1O\n",
      "Error while handling inchi: \"InChI=1S/C14H12O4/c15-11-4-3-10(14(18)8-11)2-1-9-5-12(16)7-13(17)6-9/h1-8,15-18H/b2-1\"\n",
      "Molecule found using smiles: OC1=CC(O)=C(\\C=C\\C2=CC(O)=CC(O)=C2)C=C1\n",
      "Error while handling inchi: \"InChI=1S/C15H17NO4/c17-9-3-1-2-4-14(10-15(19)20)16-13-7-5-12(11-18)6-8-13/h1-8,11,14,16-17H,9-10H2,(H,19,20)/b3-1,4-2+\"\n",
      "Molecule found using smiles: OC\\C=C\\C=C\\C(CC(O)=O)NC1=CC=C(C=O)C=C1\n",
      "Error while handling inchi: \"InChI=1S/C13H14O4/c14-5-3-1-2-4-11-7-9-6-10(15)8-12(16)13(9)17-11/h1-4,6,8,11,14-16H,5,7H2/b3-1,4-2+/t11-/m0/s1\"\n",
      "Molecule found using smiles: OC\\C=C\\C=C\\[C@H]1CC2=C(O1)C(=CC(=C2)O)O\n",
      "Error while handling inchi: \"InChI=1S/C15H20O7/c16-8-11-12(18)13(19)14(20)15(22-11)21-7-1-2-9-3-5-10(17)6-4-9/h1-6,11-20H,7-8H2/b2-1/t11-,12-,13+,14-,15-/m1/s1\"\n",
      "Molecule found using smiles: OC[C@H]1O[C@@H](OC/C=C/C2=CC=C(O)C=C2)[C@H](O)[C@@H](O)[C@@H]1O\n",
      "Error while handling inchi: \"InChI=1S/C21H25N3O2S.C4H4O4/c25-14-16-26-15-13-23-9-11-24(12-10-23)21-17-5-1-3-7-19(17)27-20-8-4-2-6-18(20)22-21;5-3(6)1-2-4(7)8/h1-8,25H,9-16H2;1-2H,(H,5,6)(H,7,8)/b;2-1\"\n",
      "Molecule found using smiles: OCCOCCN1CCN(CC1)C2=Nc3ccccc3Sc4ccccc24.OC(=O)/C=C/C(=O)O\n",
      "Error while handling inchi: \"InChI=1S/C19H24N2O4.C4H4O4.H2O/c1-13(9-14-3-6-16(25-2)7-4-14)20-11-19(24)15-5-8-18(23)17(10-15)21-12-22;5-3(6)1-2-4(7)8;/h3-8,10,12-13,19-20,23-24H,9,11H2,1-2H3,(H,21,22);1-2H,(H,5,6)(H,7,8);1H2/p-2/b;2-1;\"\n",
      "Molecule found using smiles: COc1ccc(CC(C)NCC(O)c2ccc(O)c(NC=O)c2)cc1.O.[O-]C(=O)/C=C/C(=O)[O-]\n",
      "Error while handling inchi: \"InChI=1S/C11H15BrN2.C4H4O4/c1-8(13)7-14-5-4-9-2-3-10(12)6-11(9)14;5-3(6)1-2-4(7)8/h2-3,6,8H,4-5,7,13H2,1H3;1-2H,(H,5,6)(H,7,8)/b;2-1/t8-;/m0./s1\"\n",
      "Molecule found using smiles: C[C@H](N)CN1CCc2ccc(Br)cc12.OC(=O)/C=C/C(=O)O\n",
      "Error while handling inchi: \"InChI=1S/C28H47NO4S.C4H4O4/c1-8-26(6)17-22(33-23(31)18-34-16-15-29(9-2)10-3)27(7)19(4)11-13-28(20(5)25(26)32)14-12-21(30)24(27)28;5-3(6)1-2-4(7)8/h8,19-20,22,24-25,32H,1,9-18H2,2-7H3;1-2H,(H,5,6)(H,7,8)/b;2-1/t19?,20-,22+,24-,25-,26+,27-,28-;/m0./s1\"\n",
      "Molecule found using smiles: CCN(CC)CCSCC(=O)O[C@@H]1C[C@@](C)(C=C)[C@@H](O)[C@H](C)[C@@]2(CCC(=O)[C@H]23)CCC(C)[C@]31C.OC(=O)/C=C/C(=O)O\n",
      "Error while handling inchi: \"InChI=1S/C16H25N3O5.C4H4O4/c20-13-1-3-15(4-2-13)24-12-14(21)11-17-5-6-18-16(22)19-7-9-23-10-8-19;5-3(6)1-2-4(7)8/h1-4,14,17,20-21H,5-12H2,(H,18,22);1-2H,(H,5,6)(H,7,8)/p-2/b;2-1\"\n",
      "Molecule found using smiles: OC(CNCCNC(=O)N1CCOCC1)COc2ccc(O)cc2.[O-]C(=O)/C=C/C(=O)[O-]\n",
      "Error while handling inchi: \"InChI=1S/C21H26ClNO.C4H4O4/c1-21(17-7-4-3-5-8-17,18-10-12-19(22)13-11-18)24-16-14-20-9-6-15-23(20)2;5-3(6)1-2-4(7)8/h3-5,7-8,10-13,20H,6,9,14-16H2,1-2H3;1-2H,(H,5,6)(H,7,8)/p-2/b;2-1/t20-,21-;/m1./s1\"\n",
      "Molecule found using smiles: CN1CCC[C@@H]1CCO[C@](C)(c2ccccc2)c3ccc(Cl)cc3.[O-]C(=O)/C=C/C(=O)[O-]\n",
      "Error while handling inchi: \"InChI=1S/C18H31NO4.C4H4O4/c1-14(2)19-11-17(20)13-23-18-7-5-16(6-8-18)12-21-9-10-22-15(3)4;5-3(6)1-2-4(7)8/h5-8,14-15,17,19-20H,9-13H2,1-4H3;1-2H,(H,5,6)(H,7,8)/b;2-1\"\n",
      "Molecule found using smiles: C1(=C(C=CC(=C1)OCC(O)CNC(C)C)COCCOC(C)C).OC(/C=C/C(O)=O)=O\n",
      "Error while handling inchi: \"InChI=1S/2C21H25N3O2S.C4H4O4/c2*25-14-16-26-15-13-23-9-11-24(12-10-23)21-17-5-1-3-7-19(17)27-20-8-4-2-6-18(20)22-21;5-3(6)1-2-4(7)8/h2*1-8,25H,9-16H2;1-2H,(H,5,6)(H,7,8)/b;;2-1\"\n",
      "Molecule found using smiles: C1(=CC=C2C(=C1)N=C(C3=C(S2)C=CC=C3)N4CCN(CC4)CCOCCO).OC(/C=C/C(O)=O)=O.C56=C(C=CC=C5)N=C(C7=C(S6)C=CC=C7)N8CCN(CC8)CCOCCO\n",
      "Error while handling inchi: \"InChI=1S/2C19H24N2O4.C4H4O4/c2*1-13(9-14-3-6-16(25-2)7-4-14)20-11-19(24)15-5-8-18(23)17(10-15)21-12-22;5-3(6)1-2-4(7)8/h2*3-8,10,12-13,19-20,23-24H,9,11H2,1-2H3,(H,21,22);1-2H,(H,5,6)(H,7,8)/b;;2-1/t2*13-,19+;/m00./s1\"\n",
      "Molecule found using smiles: C1(=C(C=CC(=C1)C[C@@H](NC[C@H](C2=CC=C(C(=C2)NC(=O)[H])O)O)C)OC).C3(=C(C=CC(=C3)C[C@@H](NC[C@H](C4=CC=C(C(=C4)NC(=O)[H])O)O)C)OC).OC(/C=C/C(O)=O)=O\n",
      "Error while handling inchi: \"InChI=1S/2C20H36N2O3S.C4H4O4/c2*1-4-6-7-8-9-16-22(5-2)17-10-11-20(23)18-12-14-19(15-13-18)21-26(3,24)25;5-3(6)1-2-4(7)8/h2*12-15,20-21,23H,4-11,16-17H2,1-3H3;1-2H,(H,5,6)(H,7,8)/b;;2-1\"\n",
      "Molecule found using smiles: CS(=O)(=O)NC1(C=CC(=CC=1)C(CCCN(CCCCCCC)CC)O).C(/C=C/C(=O)O)(=O)O.CS(=O)(=O)NC2C=CC(=CC=2)C(CCCN(CCCCCCC)CC)O\n",
      "Error while handling inchi: \"InChI=1S/C24H28N2O3.C4H4O4/c1-3-14-9-16-11-18(12-17(16)10-15(14)4-2)25-13-22(28)19-5-7-21(27)24-20(19)6-8-23(29)26-24;5-3(6)1-2-4(7)8/h5-10,18,22,25,27-28H,3-4,11-13H2,1-2H3,(H,26,29);1-2H,(H,5,6)(H,7,8)/b;2-1/t22-;/m0./s1\"\n",
      "Molecule found using smiles: N1(C(C=CC2C(=CC=C(C1=2)O)[C@H](CNC3CC4C=C(C(=CC(C3)=4)CC)CC)O)=O).C(/C(=O)O)=C\\C(=O)O\n",
      "Error while handling inchi: \"InChI=1S/C15H20O7/c16-7-1-2-9-3-5-10(6-4-9)21-15-14(20)13(19)12(18)11(8-17)22-15/h1-6,11-20H,7-8H2/b2-1/t11-,12-,13+,14-,15-/m1/s1\"\n",
      "Molecule found using smiles: C(=C\\c1ccc(cc1)O[C@H]1[C@@H]([C@H]([C@@H]([C@@H](CO)O1)O)O)O)/CO\n",
      "Error while handling inchi: \"InChI=1S/C16H14O3/c11812781513(912)14(17)1016(1915)115324611/h29,16H,10H2,1H3\"\n",
      "Problem with molecule.\n"
     ]
    }
   ],
   "source": [
    "for spec in spectra:\n",
    "    spec.get_fingerprint(type=\"ecfp6\")"
   ]
  },
  {
   "cell_type": "code",
   "execution_count": 12,
   "metadata": {},
   "outputs": [
    {
     "name": "stdout",
     "output_type": "stream",
     "text": [
      "fingerprint_type: ecfp6\n",
      "fingerprint_bits: \n",
      " [13, 20, 36, 45, 140, 176, 183, 367, 391, 418, 517, 534, 591, 643, 650, 652, 700, 934, 1009, 1043, 1066, 1069, 1078, 1134, 1171, 1173, 1200, 1221, 1256, 1294, 1331, 1348, 1379, 1448, 1484, 1547, 1575, 1628, 1636, 1640, 1733, 1795, 1812, 1862, 1905, 1956, 2035, 2080, 2143, 2321, 2346, 2361, 2487, 2553, 2591, 2613, 2711, 2719, 2803, 2887, 2914, 2970, 2971, 3040, 3172, 3196, 3222, 3277, 3312, 3323, 3332, 3346, 3449, 3463, 3464, 3467, 3527, 3587, 3605, 3634, 3643, 3649, 3715, 3801, 3914, 4091]\n"
     ]
    }
   ],
   "source": [
    "print('fingerprint_type:', spectra[0].fingerprint_type)\n",
    "print('fingerprint_bits: \\n', spectra[0].fingerprint.bits)"
   ]
  },
  {
   "cell_type": "code",
   "execution_count": 14,
   "metadata": {},
   "outputs": [
    {
     "data": {
      "text/plain": [
       "1"
      ]
     },
     "execution_count": 14,
     "metadata": {},
     "output_type": "execute_result"
    }
   ],
   "source": [
    "exclude_IDs = []\n",
    "for i, spec in enumerate(spectra):\n",
    "    if spec.fingerprint is None:\n",
    "        exclude_IDs.append(i)\n",
    "        \n",
    "len(exclude_IDs)"
   ]
  },
  {
   "cell_type": "markdown",
   "metadata": {},
   "source": [
    "## Note: only 1 fingerprints could not been made\n",
    "This spectra will be ignored for the rest of the analysis."
   ]
  },
  {
   "cell_type": "code",
   "execution_count": 5,
   "metadata": {},
   "outputs": [
    {
     "ename": "NameError",
     "evalue": "name 'exclude_IDs' is not defined",
     "output_type": "error",
     "traceback": [
      "\u001b[1;31m---------------------------------------------------------------------------\u001b[0m",
      "\u001b[1;31mNameError\u001b[0m                                 Traceback (most recent call last)",
      "\u001b[1;32m<ipython-input-5-806aa738206a>\u001b[0m in \u001b[0;36m<module>\u001b[1;34m\u001b[0m\n\u001b[0;32m      1\u001b[0m \u001b[1;31m# Get list of all fingerprints\u001b[0m\u001b[1;33m\u001b[0m\u001b[1;33m\u001b[0m\u001b[1;33m\u001b[0m\u001b[0m\n\u001b[1;32m----> 2\u001b[1;33m \u001b[0mfingerprints\u001b[0m \u001b[1;33m=\u001b[0m \u001b[1;33m[\u001b[0m\u001b[0mspectra\u001b[0m\u001b[1;33m[\u001b[0m\u001b[0mi\u001b[0m\u001b[1;33m]\u001b[0m\u001b[1;33m.\u001b[0m\u001b[0mfingerprint\u001b[0m \u001b[1;32mfor\u001b[0m \u001b[0mi\u001b[0m \u001b[1;32min\u001b[0m \u001b[0mrange\u001b[0m\u001b[1;33m(\u001b[0m\u001b[0mlen\u001b[0m\u001b[1;33m(\u001b[0m\u001b[0mspectra\u001b[0m\u001b[1;33m)\u001b[0m\u001b[1;33m)\u001b[0m \u001b[1;32mif\u001b[0m \u001b[0mi\u001b[0m \u001b[1;32mnot\u001b[0m \u001b[1;32min\u001b[0m \u001b[0mexclude_IDs\u001b[0m\u001b[1;33m]\u001b[0m\u001b[1;33m\u001b[0m\u001b[1;33m\u001b[0m\u001b[0m\n\u001b[0m",
      "\u001b[1;32m<ipython-input-5-806aa738206a>\u001b[0m in \u001b[0;36m<listcomp>\u001b[1;34m(.0)\u001b[0m\n\u001b[0;32m      1\u001b[0m \u001b[1;31m# Get list of all fingerprints\u001b[0m\u001b[1;33m\u001b[0m\u001b[1;33m\u001b[0m\u001b[1;33m\u001b[0m\u001b[0m\n\u001b[1;32m----> 2\u001b[1;33m \u001b[0mfingerprints\u001b[0m \u001b[1;33m=\u001b[0m \u001b[1;33m[\u001b[0m\u001b[0mspectra\u001b[0m\u001b[1;33m[\u001b[0m\u001b[0mi\u001b[0m\u001b[1;33m]\u001b[0m\u001b[1;33m.\u001b[0m\u001b[0mfingerprint\u001b[0m \u001b[1;32mfor\u001b[0m \u001b[0mi\u001b[0m \u001b[1;32min\u001b[0m \u001b[0mrange\u001b[0m\u001b[1;33m(\u001b[0m\u001b[0mlen\u001b[0m\u001b[1;33m(\u001b[0m\u001b[0mspectra\u001b[0m\u001b[1;33m)\u001b[0m\u001b[1;33m)\u001b[0m \u001b[1;32mif\u001b[0m \u001b[0mi\u001b[0m \u001b[1;32mnot\u001b[0m \u001b[1;32min\u001b[0m \u001b[0mexclude_IDs\u001b[0m\u001b[1;33m]\u001b[0m\u001b[1;33m\u001b[0m\u001b[1;33m\u001b[0m\u001b[0m\n\u001b[0m",
      "\u001b[1;31mNameError\u001b[0m: name 'exclude_IDs' is not defined"
     ]
    }
   ],
   "source": [
    "# Get list of all fingerprints\n",
    "fingerprints = [spectra[i].fingerprint for i in range(len(spectra)) if i not in exclude_IDs]"
   ]
  },
  {
   "cell_type": "code",
   "execution_count": 16,
   "metadata": {},
   "outputs": [
    {
     "data": {
      "text/plain": [
       "10991"
      ]
     },
     "execution_count": 16,
     "metadata": {},
     "output_type": "execute_result"
    }
   ],
   "source": [
    "len(fingerprints)"
   ]
  },
  {
   "cell_type": "code",
   "execution_count": 128,
   "metadata": {},
   "outputs": [
    {
     "data": {
      "text/plain": [
       "'C[C@H](CCC(=O)O)[C@H]1CC[C@@H]2[C@@]1([C@H](C[C@H]3[C@H]2[C@@H](C[C@H]4[C@@]3(CC[C@H](C4)O)C)O)O)C'"
      ]
     },
     "execution_count": 128,
     "metadata": {},
     "output_type": "execute_result"
    }
   ],
   "source": [
    "import MS_similarity_classical as MS_sim_classic\n",
    "\n",
    "filename = PATH_SAVE_DATA + 'MS_data_allGNPS_uniqueInchikey14_191101_mol_sim_matrix.npy'\n",
    "MS_sim_classic.mol_sim_matrix(fingerprints,\n",
    "                               fingerprints,\n",
    "                               method = 'jaccard',\n",
    "                               filename = None)"
   ]
  },
  {
   "cell_type": "code",
   "execution_count": null,
   "metadata": {},
   "outputs": [],
   "source": []
  },
  {
   "cell_type": "markdown",
   "metadata": {},
   "source": [
    "### Test (novel) modified cosine score functions"
   ]
  },
  {
   "cell_type": "code",
   "execution_count": 6,
   "metadata": {},
   "outputs": [],
   "source": [
    "import MS_similarity_classical as MS_sim_classic"
   ]
  },
  {
   "cell_type": "markdown",
   "metadata": {},
   "source": [
    "### Now there is 3 ways to compute the modified cosine scores.\n",
    "1. Greedy method (mostly taken from Simon)\n",
    "2. Greedy method + some parts compiled using Numba.\n",
    "3. More precise Hungarian algorithm + using Numba."
   ]
  },
  {
   "cell_type": "code",
   "execution_count": 7,
   "metadata": {},
   "outputs": [
    {
     "name": "stdout",
     "output_type": "stream",
     "text": [
      "Calculate pairwise scores by  4 number of workers.\n",
      "  Calculated MolNet for pair  283 -- 285 . (  100.0  % done).\n",
      "----------------------------------------\n",
      "Wall time: 14.9 s\n"
     ]
    }
   ],
   "source": [
    "%%time\n",
    "modcos_sim, modcos_matches = MS_sim_classic.cosine_score_matrix(spectra[:300], \n",
    "                  tol = 0.005, \n",
    "                  max_mz = 1000.0, \n",
    "                  min_intens = 0,\n",
    "                  mass_shifting = True,\n",
    "                  method='greedy', #'hungarian',\n",
    "                  num_workers = 4,\n",
    "                  filename = None, #'testing_molent_new.npy',\n",
    "                  safety_points = None)\n",
    "\n",
    "print('\\n' + 40 * '-')"
   ]
  },
  {
   "cell_type": "code",
   "execution_count": 8,
   "metadata": {},
   "outputs": [
    {
     "name": "stdout",
     "output_type": "stream",
     "text": [
      "Calculate pairwise scores by  4 number of workers.\n",
      "  Calculated MolNet for pair  283 -- 285 . (  100.0  % done). -- 294 . (  95.56  % done). -- 277 . (  97.78  % done).\n",
      "----------------------------------------\n",
      "Wall time: 7.02 s\n"
     ]
    }
   ],
   "source": [
    "%%time\n",
    "modcos_sim_greedy, modcos_matches_greedy = MS_sim_classic.cosine_score_matrix(spectra[:300], \n",
    "                  tol = 0.005,\n",
    "                  max_mz = 1000.0, \n",
    "                  min_intens = 0,\n",
    "                  mass_shifting = True,\n",
    "                  method='greedy-numba', \n",
    "                  num_workers = 4,\n",
    "                  filename = None, #'testing_molent_new.npy',\n",
    "                  safety_points = None)\n",
    "\n",
    "print('\\n' + 40 * '-')"
   ]
  },
  {
   "cell_type": "code",
   "execution_count": 9,
   "metadata": {},
   "outputs": [
    {
     "name": "stdout",
     "output_type": "stream",
     "text": [
      "Calculate pairwise scores by  4 number of workers.\n",
      "  Calculated MolNet for pair  283 -- 285 . (  100.0  % done).209 -- 244 . (  91.11  % done).\n",
      "----------------------------------------\n",
      "Wall time: 7.49 s\n"
     ]
    }
   ],
   "source": [
    "%%time\n",
    "modcos_sim, modcos_matches = MS_sim_classic.cosine_score_matrix(spectra[:300], \n",
    "                  tol = 0.005, \n",
    "                  max_mz = 1000.0, \n",
    "                  min_intens = 0,\n",
    "                  mass_shifting = True,\n",
    "                  method='hungarian', \n",
    "                  num_workers = 4,\n",
    "                  filename = None, #'testing_molent_new.npy',\n",
    "                  safety_points = None)\n",
    "\n",
    "print('\\n' + 40 * '-')"
   ]
  },
  {
   "cell_type": "code",
   "execution_count": 35,
   "metadata": {},
   "outputs": [],
   "source": [
    "import numba\n",
    "\n",
    "@numba.njit\n",
    "def find_pairs_numba(spec1, spec2, tol, shift=0):\n",
    "    \n",
    "    matching_pairs = []\n",
    "    spec2lowpos = 0\n",
    "    spec2length = len(spec2)\n",
    "    \n",
    "    for idx in range(len(spec1)):\n",
    "        intensity = spec1[idx,1]\n",
    "        matches = np.where((np.abs(spec2[:,0] - spec1[idx,0]) <= tol))[0]\n",
    "        for match in matches:\n",
    "            matching_pairs.append((idx, match, intensity*spec2[match][1]))\n",
    "                  \n",
    "    return matching_pairs "
   ]
  },
  {
   "cell_type": "code",
   "execution_count": 32,
   "metadata": {},
   "outputs": [
    {
     "data": {
      "text/plain": [
       "array([0], dtype=int64)"
      ]
     },
     "execution_count": 32,
     "metadata": {},
     "output_type": "execute_result"
    }
   ],
   "source": [
    "np.where((np.abs(spec2[:,0] - spec1[0,0]) <= 1))[0]"
   ]
  },
  {
   "cell_type": "code",
   "execution_count": 29,
   "metadata": {},
   "outputs": [
    {
     "data": {
      "text/plain": [
       "(43, 2)"
      ]
     },
     "execution_count": 29,
     "metadata": {},
     "output_type": "execute_result"
    }
   ],
   "source": [
    "spec1.shape"
   ]
  },
  {
   "cell_type": "code",
   "execution_count": 38,
   "metadata": {},
   "outputs": [],
   "source": [
    "ID1, ID2 = 11, 11\n",
    "max_mz = 1000.0\n",
    "tol = 0.005\n",
    "\n",
    "spec1 = np.array(spectra[ID1].peaks, dtype=float)\n",
    "spec1 = spec1[spec1[:,0] < max_mz,:]\n",
    "spec2 = np.array(spectra[ID2].peaks, dtype=float)\n",
    "spec2 = spec2[spec2[:,0] < max_mz,:]\n",
    "mass_shift = spectra[ID1].parent_mz - spectra[ID2].parent_mz"
   ]
  },
  {
   "cell_type": "code",
   "execution_count": 39,
   "metadata": {},
   "outputs": [
    {
     "name": "stdout",
     "output_type": "stream",
     "text": [
      "18.1 µs ± 1.35 µs per loop (mean ± std. dev. of 7 runs, 100000 loops each)\n"
     ]
    }
   ],
   "source": [
    "%%timeit\n",
    "find_pairs_numba(spec1, spec2, tol=0.5, shift=0)"
   ]
  },
  {
   "cell_type": "code",
   "execution_count": 40,
   "metadata": {},
   "outputs": [
    {
     "name": "stdout",
     "output_type": "stream",
     "text": [
      "260 µs ± 15.4 µs per loop (mean ± std. dev. of 7 runs, 10000 loops each)\n"
     ]
    }
   ],
   "source": [
    "%%timeit\n",
    "MS_sim_classic.find_pairs(spec1, spec2, tol=0.5, shift=0)"
   ]
  },
  {
   "cell_type": "code",
   "execution_count": 11,
   "metadata": {},
   "outputs": [
    {
     "data": {
      "text/plain": [
       "(1.0000000000000169, 0.005606114500545465)"
      ]
     },
     "execution_count": 11,
     "metadata": {},
     "output_type": "execute_result"
    }
   ],
   "source": [
    "modcos_sim.max(), modcos_sim.mean()"
   ]
  },
  {
   "cell_type": "code",
   "execution_count": 10,
   "metadata": {},
   "outputs": [
    {
     "data": {
      "text/plain": [
       "<matplotlib.image.AxesImage at 0x20facb3d0f0>"
      ]
     },
     "execution_count": 10,
     "metadata": {},
     "output_type": "execute_result"
    },
    {
     "data": {
      "image/png": "[encoded data removed]",
      "text/plain": [
       "<Figure size 288x288 with 1 Axes>"
      ]
     },
     "metadata": {
      "needs_background": "light"
     },
     "output_type": "display_data"
    }
   ],
   "source": [
    "from matplotlib import pyplot as plt\n",
    "plt.matshow(modcos_sim)"
   ]
  },
  {
   "cell_type": "markdown",
   "metadata": {},
   "source": [
    "#### Check difference between greedy and hungarian computation:"
   ]
  },
  {
   "cell_type": "code",
   "execution_count": 12,
   "metadata": {},
   "outputs": [
    {
     "data": {
      "text/plain": [
       "<matplotlib.image.AxesImage at 0x20facd25128>"
      ]
     },
     "execution_count": 12,
     "metadata": {},
     "output_type": "execute_result"
    },
    {
     "data": {
      "image/png": "[encoded data removed]",
      "text/plain": [
       "<Figure size 288x288 with 1 Axes>"
      ]
     },
     "metadata": {
      "needs_background": "light"
     },
     "output_type": "display_data"
    }
   ],
   "source": [
    "plt.matshow(modcos_sim[:30,:30])"
   ]
  },
  {
   "cell_type": "code",
   "execution_count": 13,
   "metadata": {},
   "outputs": [
    {
     "data": {
      "text/plain": [
       "<matplotlib.image.AxesImage at 0x20facbdfa90>"
      ]
     },
     "execution_count": 13,
     "metadata": {},
     "output_type": "execute_result"
    },
    {
     "data": {
      "image/png": "[encoded data removed]",
      "text/plain": [
       "<Figure size 288x288 with 1 Axes>"
      ]
     },
     "metadata": {
      "needs_background": "light"
     },
     "output_type": "display_data"
    }
   ],
   "source": [
    "plt.matshow(modcos_sim_greedy[:30,:30])"
   ]
  },
  {
   "cell_type": "code",
   "execution_count": 15,
   "metadata": {},
   "outputs": [
    {
     "data": {
      "text/plain": [
       "(1.554312234475219e-14, -2.5646151868841116e-14)"
      ]
     },
     "execution_count": 15,
     "metadata": {},
     "output_type": "execute_result"
    }
   ],
   "source": [
    "mat_diff = modcos_sim_greedy - modcos_sim\n",
    "mat_diff.max(), mat_diff.min()"
   ]
  },
  {
   "cell_type": "code",
   "execution_count": 38,
   "metadata": {},
   "outputs": [
    {
     "data": {
      "text/plain": [
       "43"
      ]
     },
     "execution_count": 38,
     "metadata": {},
     "output_type": "execute_result"
    }
   ],
   "source": [
    "len(spec2)"
   ]
  },
  {
   "cell_type": "code",
   "execution_count": 34,
   "metadata": {},
   "outputs": [
    {
     "data": {
      "text/plain": [
       "[(0, 0, 0.005711945270327823),\n",
       " (1, 1, 0.005963110124961088),\n",
       " (1, 2, 0.006562410853444521),\n",
       " (1, 3, 0.006576162137383214),\n",
       " (1, 4, 0.0067580928764651845),\n",
       " (1, 5, 0.006904640473042604),\n",
       " (6, 6, 0.008583131194994629),\n",
       " (7, 7, 0.008827307220811261),\n",
       " (7, 8, 0.009009600831163615),\n",
       " (7, 9, 0.00942078356669407),\n",
       " (7, 10, 0.010309699215347199),\n",
       " (7, 11, 0.010378820157935644),\n",
       " (7, 12, 0.010728077698582621),\n",
       " (7, 13, 0.010910483211706049),\n",
       " (14, 14, 0.01439197414770924),\n",
       " (14, 15, 0.01560141476560653),\n",
       " (14, 16, 0.015612376093040852),\n",
       " (14, 17, 0.015651156636889953),\n",
       " (14, 18, 0.01643851087964116),\n",
       " (14, 19, 0.017111207493009994),\n",
       " (14, 20, 0.017504551002037343),\n",
       " (14, 21, 0.01866535455770376),\n",
       " (14, 22, 0.01935672446554984),\n",
       " (14, 23, 0.019970409537740614),\n",
       " (14, 24, 0.02056851758402706),\n",
       " (14, 25, 0.02062143354612389),\n",
       " (14, 26, 0.022039846155336485),\n",
       " (14, 27, 0.02248077422622141),\n",
       " (14, 28, 0.022503799137480095),\n",
       " (14, 29, 0.022645969800946682),\n",
       " (14, 30, 0.023155492919303244),\n",
       " (14, 31, 0.023496041665447498),\n",
       " (14, 32, 0.027336930602462502),\n",
       " (14, 33, 0.031431807987454624),\n",
       " (14, 34, 0.034332885569582396),\n",
       " (14, 35, 0.03832333947171422),\n",
       " (14, 36, 0.04393946080327303),\n",
       " (14, 37, 0.04439489681391461),\n",
       " (14, 38, 0.046317058455482604),\n",
       " (14, 39, 0.07105619783167832),\n",
       " (14, 40, 0.08582801029693395),\n",
       " (14, 41, 0.10324480434031838),\n",
       " (14, 42, 0.11996655428788992)]"
      ]
     },
     "execution_count": 34,
     "metadata": {},
     "output_type": "execute_result"
    }
   ],
   "source": [
    "MS_sim_classic.find_pairs(spec1, spec2, tol)"
   ]
  },
  {
   "cell_type": "markdown",
   "metadata": {},
   "source": [
    "### Test with cosine scores"
   ]
  },
  {
   "cell_type": "code",
   "execution_count": 11,
   "metadata": {},
   "outputs": [
    {
     "name": "stdout",
     "output_type": "stream",
     "text": [
      "Calculate pairwise scores by  4 number of workers.\n",
      "  Calculated MolNet for pair  283 -- 285 . (  100.0  % done).2 . (  11.11  % done).\n",
      "----------------------------------------\n",
      "Wall time: 7.19 s\n"
     ]
    }
   ],
   "source": [
    "%%time\n",
    "cos_sim, cos_matches = MS_sim_classic.cosine_score_matrix(spectra[:300], \n",
    "                  tol = 0.1, \n",
    "                  max_mz = 1000.0, \n",
    "                  min_intens = 0,\n",
    "                  mass_shifting = False,\n",
    "                  method='greedy', \n",
    "                  num_workers = 4,\n",
    "                  filename = None, #'testing_molent_new.npy',\n",
    "                  safety_points = None)\n",
    "\n",
    "print('\\n' + 40 * '-')"
   ]
  },
  {
   "cell_type": "code",
   "execution_count": 12,
   "metadata": {},
   "outputs": [
    {
     "name": "stdout",
     "output_type": "stream",
     "text": [
      "Calculate pairwise scores by  4 number of workers.\n",
      "  Calculated MolNet for pair  283 -- 285 . (  100.0  % done).-- 190 . (  8.89  % done).. (  42.22  % done).. (  51.11  % done).\n",
      "----------------------------------------\n",
      "Wall time: 5.28 s\n"
     ]
    }
   ],
   "source": [
    "%%time\n",
    "cos_sim, cos_matches = MS_sim_classic.cosine_score_matrix(spectra[:300], \n",
    "                  tol = 0.1, \n",
    "                  max_mz = 1000.0, \n",
    "                  min_intens = 0,\n",
    "                  mass_shifting = False,\n",
    "                  method='greedy-numba', \n",
    "                  num_workers = 4,\n",
    "                  filename = None, #'testing_molent_new.npy',\n",
    "                  safety_points = None)\n",
    "\n",
    "print('\\n' + 40 * '-')"
   ]
  },
  {
   "cell_type": "code",
   "execution_count": 13,
   "metadata": {},
   "outputs": [
    {
     "data": {
      "text/plain": [
       "<matplotlib.image.AxesImage at 0x247e62f14e0>"
      ]
     },
     "execution_count": 13,
     "metadata": {},
     "output_type": "execute_result"
    },
    {
     "data": {
      "image/png": "[encoded data removed]",
      "text/plain": [
       "<Figure size 288x288 with 1 Axes>"
      ]
     },
     "metadata": {
      "needs_background": "light"
     },
     "output_type": "display_data"
    }
   ],
   "source": [
    "plt.matshow(cos_sim)"
   ]
  }
 ],
 "metadata": {
  "kernelspec": {
   "display_name": "Python 3",
   "language": "python",
   "name": "python3"
  },
  "language_info": {
   "codemirror_mode": {
    "name": "ipython",
    "version": 3
   },
   "file_extension": ".py",
   "mimetype": "text/x-python",
   "name": "python",
   "nbconvert_exporter": "python",
   "pygments_lexer": "ipython3",
   "version": "3.6.8"
  }
 },
 "nbformat": 4,
 "nbformat_minor": 2
}
