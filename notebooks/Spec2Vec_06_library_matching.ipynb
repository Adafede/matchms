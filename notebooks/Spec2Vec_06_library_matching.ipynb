{
 "cells": [
  {
   "cell_type": "markdown",
   "metadata": {},
   "source": [
    "# Spec2Vec - library matching\n",
    "One very important use case for a spectral similariy measure is libarary matching.  \n",
    "This means matching previously unseen/unknown spectra to known, annotated sepctra in a larger library."
   ]
  },
  {
   "cell_type": "code",
   "execution_count": 1,
   "metadata": {},
   "outputs": [],
   "source": [
    "# Locations\n",
    "ROOT = \"C:\\\\OneDrive - Netherlands eScience Center\\\\Project_Wageningen_iOMEGA\"\n",
    "PATH_SPEC2VEC = ROOT + \"\\\\Spec2Vec\\\\code\\\\\"\n",
    "PATH_MS_DATA = ROOT + \"\\\\Data\\\\GNPS_all\\\\\"\n",
    "PATH_SAVE_MODEL = ROOT + \"\\\\Spec2Vec\\\\models_trained\\\\\"\n",
    "PATH_COMPUTED = ROOT + \"\\\\Spec2Vec\\\\computed_results\\\\\"\n",
    "PATH_OUTPUT = ROOT + \"\\\\Spec2Vec\\\\output_plots\\\\\""
   ]
  },
  {
   "cell_type": "code",
   "execution_count": 2,
   "metadata": {},
   "outputs": [],
   "source": [
    "import numpy as np\n",
    "import sys\n",
    "sys.path.insert(0, PATH_SPEC2VEC)"
   ]
  },
  {
   "cell_type": "code",
   "execution_count": 3,
   "metadata": {},
   "outputs": [],
   "source": [
    "import helper_functions as functions\n",
    "import MS_functions\n",
    "import MS_similarity_classical as MS_sim_classic\n",
    "from similarity_measure import SimilarityMeasures\n",
    "from plotting_functions import plot_precentile\n",
    "\n",
    "from scipy import spatial"
   ]
  },
  {
   "cell_type": "markdown",
   "metadata": {},
   "source": [
    "### Load filtered allGNPS_positive dataset OR:  Import& filter allGNPS_positive dataset"
   ]
  },
  {
   "cell_type": "code",
   "execution_count": 4,
   "metadata": {},
   "outputs": [
    {
     "name": "stdout",
     "output_type": "stream",
     "text": [
      "Spectra json file found and loaded.\n"
     ]
    }
   ],
   "source": [
    "file_json = PATH_MS_DATA + \"allGNPS_positive_minmax_10_1000_2dec_exp08_191115.json\"\n",
    "file_mgf = ROOT + \"\\\\Data\\\\GNPS_all\\\\\" + \"allGNPS_positive_191106.mgf\"\n",
    "\n",
    "spectra, spectra_dict, MS_documents, MS_documents_intensity, spectra_metadata = MS_functions.load_MGF_data(file_mgf = file_mgf,\n",
    "                                                           file_json = file_json,\n",
    "                                                           num_decimals = 2,\n",
    "                                                           min_frag = 0.0, max_frag = 1000.0,\n",
    "                                                           min_loss = 5.0, max_loss = 500.0,\n",
    "                                                           min_intensity_perc = 0,\n",
    "                                                           exp_intensity_filter = 0.8,\n",
    "                                                           min_keep_peaks_0 = 10,\n",
    "                                                           min_keep_peaks_per_mz = 20/200,\n",
    "                                                           min_peaks = 10,\n",
    "                                                           max_peaks = 1000,\n",
    "                                                           peak_loss_words = ['peak_', 'loss_'])"
   ]
  },
  {
   "cell_type": "code",
   "execution_count": 5,
   "metadata": {},
   "outputs": [
    {
     "data": {
      "text/html": [
       "<div>\n",
       "<style scoped>\n",
       "    .dataframe tbody tr th:only-of-type {\n",
       "        vertical-align: middle;\n",
       "    }\n",
       "\n",
       "    .dataframe tbody tr th {\n",
       "        vertical-align: top;\n",
       "    }\n",
       "\n",
       "    .dataframe thead th {\n",
       "        text-align: right;\n",
       "    }\n",
       "</style>\n",
       "<table border=\"1\" class=\"dataframe\">\n",
       "  <thead>\n",
       "    <tr style=\"text-align: right;\">\n",
       "      <th></th>\n",
       "      <th>doc_ID</th>\n",
       "      <th>gnps_ID</th>\n",
       "      <th>name</th>\n",
       "      <th>title</th>\n",
       "      <th>precursor_mz</th>\n",
       "      <th>num_peaks_losses</th>\n",
       "      <th>inchi</th>\n",
       "      <th>inchikey</th>\n",
       "      <th>smiles</th>\n",
       "      <th>charge</th>\n",
       "    </tr>\n",
       "  </thead>\n",
       "  <tbody>\n",
       "    <tr>\n",
       "      <th>0</th>\n",
       "      <td>0</td>\n",
       "      <td>CCMSLIB00005435503</td>\n",
       "      <td>chenodeoxycholic acid M-H2O+H</td>\n",
       "      <td>NaN</td>\n",
       "      <td>375.290</td>\n",
       "      <td>93</td>\n",
       "      <td>\"InChI=1S/C24H40O4/c1-14(4-7-21(27)28)17-5-6-1...</td>\n",
       "      <td>RUDATBOHQWOJDD-GYHJSIKNSA-N</td>\n",
       "      <td>C[C@H](CCC(=O)O)[C@H]1CC[C@@H]2[C@@]1(CC[C@H]3...</td>\n",
       "      <td>1</td>\n",
       "    </tr>\n",
       "    <tr>\n",
       "      <th>1</th>\n",
       "      <td>1</td>\n",
       "      <td>CCMSLIB00005435504</td>\n",
       "      <td>chenodeoxycholic acid 2M+H</td>\n",
       "      <td>NaN</td>\n",
       "      <td>785.593</td>\n",
       "      <td>101</td>\n",
       "      <td>\"InChI=1S/C24H40O4/c1-14(4-7-21(27)28)17-5-6-1...</td>\n",
       "      <td>RUDATBOHQWOJDD-PODLAYBOSA-N</td>\n",
       "      <td>C[C@H](CCC(=O)O)[C@H]1CC[C@@H]2[C@@]1(CC[C@H]3...</td>\n",
       "      <td>1</td>\n",
       "    </tr>\n",
       "    <tr>\n",
       "      <th>2</th>\n",
       "      <td>2</td>\n",
       "      <td>CCMSLIB00005435505</td>\n",
       "      <td>chenodeoxycholic acid 2M+Na</td>\n",
       "      <td>NaN</td>\n",
       "      <td>807.575</td>\n",
       "      <td>21</td>\n",
       "      <td>\"InChI=1S/C24H40O4/c1-14(4-7-21(27)28)17-5-6-1...</td>\n",
       "      <td>RUDATBOHQWOJDD-PODLAYBOSA-N</td>\n",
       "      <td>C[C@H](CCC(=O)O)[C@H]1CC[C@@H]2[C@@]1(CC[C@H]3...</td>\n",
       "      <td>1</td>\n",
       "    </tr>\n",
       "    <tr>\n",
       "      <th>3</th>\n",
       "      <td>3</td>\n",
       "      <td>CCMSLIB00005435506</td>\n",
       "      <td>cholic acid M+Na</td>\n",
       "      <td>NaN</td>\n",
       "      <td>431.277</td>\n",
       "      <td>35</td>\n",
       "      <td>\"InChI=1S/C24H40O5/c1-13(4-7-21(28)29)16-5-6-1...</td>\n",
       "      <td>BHQCQFFYRZLCQQ-IHELEQLESA-N</td>\n",
       "      <td>C[C@H](CCC(=O)O)[C@H]1CC[C@@H]2[C@@]1([C@H](C[...</td>\n",
       "      <td>1</td>\n",
       "    </tr>\n",
       "    <tr>\n",
       "      <th>4</th>\n",
       "      <td>4</td>\n",
       "      <td>CCMSLIB00005435507</td>\n",
       "      <td>deoxycholic acid M-H2O+H</td>\n",
       "      <td>NaN</td>\n",
       "      <td>375.289</td>\n",
       "      <td>157</td>\n",
       "      <td>\"InChI=1S/C24H40O4/c1-14(4-9-22(27)28)18-7-8-1...</td>\n",
       "      <td>KXGVEGMKQFWNSR-BKAWJTANSA-N</td>\n",
       "      <td>C[C@H](CCC(=O)O)[C@H]1CC[C@@H]2[C@@]1([C@H](C[...</td>\n",
       "      <td>1</td>\n",
       "    </tr>\n",
       "  </tbody>\n",
       "</table>\n",
       "</div>"
      ],
      "text/plain": [
       "   doc_ID             gnps_ID                           name title  \\\n",
       "0       0  CCMSLIB00005435503  chenodeoxycholic acid M-H2O+H   NaN   \n",
       "1       1  CCMSLIB00005435504     chenodeoxycholic acid 2M+H   NaN   \n",
       "2       2  CCMSLIB00005435505    chenodeoxycholic acid 2M+Na   NaN   \n",
       "3       3  CCMSLIB00005435506               cholic acid M+Na   NaN   \n",
       "4       4  CCMSLIB00005435507       deoxycholic acid M-H2O+H   NaN   \n",
       "\n",
       "   precursor_mz  num_peaks_losses  \\\n",
       "0       375.290                93   \n",
       "1       785.593               101   \n",
       "2       807.575                21   \n",
       "3       431.277                35   \n",
       "4       375.289               157   \n",
       "\n",
       "                                               inchi  \\\n",
       "0  \"InChI=1S/C24H40O4/c1-14(4-7-21(27)28)17-5-6-1...   \n",
       "1  \"InChI=1S/C24H40O4/c1-14(4-7-21(27)28)17-5-6-1...   \n",
       "2  \"InChI=1S/C24H40O4/c1-14(4-7-21(27)28)17-5-6-1...   \n",
       "3  \"InChI=1S/C24H40O5/c1-13(4-7-21(28)29)16-5-6-1...   \n",
       "4  \"InChI=1S/C24H40O4/c1-14(4-9-22(27)28)18-7-8-1...   \n",
       "\n",
       "                      inchikey  \\\n",
       "0  RUDATBOHQWOJDD-GYHJSIKNSA-N   \n",
       "1  RUDATBOHQWOJDD-PODLAYBOSA-N   \n",
       "2  RUDATBOHQWOJDD-PODLAYBOSA-N   \n",
       "3  BHQCQFFYRZLCQQ-IHELEQLESA-N   \n",
       "4  KXGVEGMKQFWNSR-BKAWJTANSA-N   \n",
       "\n",
       "                                              smiles  charge  \n",
       "0  C[C@H](CCC(=O)O)[C@H]1CC[C@@H]2[C@@]1(CC[C@H]3...       1  \n",
       "1  C[C@H](CCC(=O)O)[C@H]1CC[C@@H]2[C@@]1(CC[C@H]3...       1  \n",
       "2  C[C@H](CCC(=O)O)[C@H]1CC[C@@H]2[C@@]1(CC[C@H]3...       1  \n",
       "3  C[C@H](CCC(=O)O)[C@H]1CC[C@@H]2[C@@]1([C@H](C[...       1  \n",
       "4  C[C@H](CCC(=O)O)[C@H]1CC[C@@H]2[C@@]1([C@H](C[...       1  "
      ]
     },
     "execution_count": 5,
     "metadata": {},
     "output_type": "execute_result"
    }
   ],
   "source": [
    "spectra_metadata.head()"
   ]
  },
  {
   "cell_type": "markdown",
   "metadata": {},
   "source": [
    "### Evaluate inchikey occurences"
   ]
  },
  {
   "cell_type": "code",
   "execution_count": 29,
   "metadata": {},
   "outputs": [
    {
     "data": {
      "text/plain": [
       "(50195,)"
      ]
     },
     "execution_count": 29,
     "metadata": {},
     "output_type": "execute_result"
    }
   ],
   "source": [
    "inchikeys_pd = spectra_metadata['inchikey'][spectra_metadata['inchikey'].notnull()]\n",
    "inchikeys_pd.shape"
   ]
  },
  {
   "cell_type": "code",
   "execution_count": 139,
   "metadata": {},
   "outputs": [
    {
     "data": {
      "text/plain": [
       "90216    CCQDWIRWKWIUKK\n",
       "90217    RPVIQWDFJPYNJM\n",
       "90218    BXEZTCOKOLHMKY\n",
       "90219    BXEZTCOKOLHMKY\n",
       "90220    PVXPPJIGRGXGCY\n",
       "90221    ATEFPOUAMCWAQS\n",
       "90222    ILEDWLMCKZNDJK\n",
       "90223    ILEDWLMCKZNDJK\n",
       "90224    NCJNNMWJQIKYLO\n",
       "90225    LNCLTICCQWMCNS\n",
       "Name: inchikey, dtype: object"
      ]
     },
     "execution_count": 139,
     "metadata": {},
     "output_type": "execute_result"
    }
   ],
   "source": [
    "inchikeys_pd.str[:14][-10:]"
   ]
  },
  {
   "cell_type": "markdown",
   "metadata": {},
   "source": [
    "### Get inchikey (first 14 letters) occurences"
   ]
  },
  {
   "cell_type": "code",
   "execution_count": 64,
   "metadata": {},
   "outputs": [
    {
     "data": {
      "text/plain": [
       "PFTAWBLQPZVEMU    63\n",
       "KMPWYEUPVWOPIM    57\n",
       "MPDGHEJMBKOTSU    49\n",
       "TZBJGXHYKVUXJN    46\n",
       "DFPMSGMNTNDNHN    46\n",
       "RYYVLZVUVIJVGH    45\n",
       "LJOQGZACKSYWCH    45\n",
       "OXGUCUVFOIWWQJ    45\n",
       "LOUPRKONTZGTKE    43\n",
       "HPNSFSBZBAHARI    43\n",
       "Name: inchikey, dtype: int64"
      ]
     },
     "execution_count": 64,
     "metadata": {},
     "output_type": "execute_result"
    }
   ],
   "source": [
    "inchikeys_pd.str[:14].value_counts()[:10]"
   ]
  },
  {
   "cell_type": "markdown",
   "metadata": {},
   "source": [
    "### Plot histogram of inchikey occurences"
   ]
  },
  {
   "cell_type": "code",
   "execution_count": 67,
   "metadata": {},
   "outputs": [
    {
     "data": {
      "text/plain": [
       "Text(0, 0.5, 'Number of inchikeys with respective number of occurences')"
      ]
     },
     "execution_count": 67,
     "metadata": {},
     "output_type": "execute_result"
    },
    {
     "data": {
      "image/png": "[encoded data removed]",
      "text/plain": [
       "<Figure size 864x432 with 1 Axes>"
      ]
     },
     "metadata": {
      "needs_background": "light"
     },
     "output_type": "display_data"
    }
   ],
   "source": [
    "from matplotlib import pyplot as plt\n",
    "plt.figure(figsize=(12,6))\n",
    "plt.hist(inchikeys_pd.str[:14].value_counts(), 62)\n",
    "plt.xlabel('Number of occurences of inchikey')\n",
    "plt.ylabel('Number of inchikeys with respective number of occurences')"
   ]
  },
  {
   "cell_type": "markdown",
   "metadata": {},
   "source": [
    "## Select spectra to simulate libarary matching"
   ]
  },
  {
   "cell_type": "code",
   "execution_count": 83,
   "metadata": {},
   "outputs": [
    {
     "data": {
      "text/plain": [
       "FRNDILDQFSAXAR    2\n",
       "HPSWAEGGWLOOKT    2\n",
       "JCHUCLMYSKXMOY    2\n",
       "RYBXJAJHOPCXHS    2\n",
       "DNTDOBSIBZKFCP    2\n",
       "Name: inchikey, dtype: int64"
      ]
     },
     "execution_count": 83,
     "metadata": {},
     "output_type": "execute_result"
    }
   ],
   "source": [
    "suitable_inchikeys = inchikeys_pd.str[:14].value_counts()[inchikeys_pd.str[:14].value_counts().values > 1]\n",
    "suitable_inchikeys.tail()"
   ]
  },
  {
   "cell_type": "code",
   "execution_count": 99,
   "metadata": {},
   "outputs": [
    {
     "name": "stdout",
     "output_type": "stream",
     "text": [
      "Number of spectra with inchikeys that exist >1 times: 5998\n"
     ]
    }
   ],
   "source": [
    "print(\"Number of spectra with inchikeys that exist >1 times:\", suitable_inchikeys.shape[0])"
   ]
  },
  {
   "cell_type": "markdown",
   "metadata": {},
   "source": [
    "### Randomly select 500 inchikeys that exist >1 times in the dataset"
   ]
  },
  {
   "cell_type": "code",
   "execution_count": 97,
   "metadata": {},
   "outputs": [
    {
     "data": {
      "text/plain": [
       "array(['WUADCCWRTIWANL', 'SLSIBLKBHNKZTB', 'QFZISQBFEIXWDM',\n",
       "       'RONZAEMNMFQXRA', 'YFGYUFNIOHWBOB', 'DFFWZNDCNBOKDI',\n",
       "       'HVHUQDDJNAABOF', 'JEQWQKAKFXGXKA', 'SVVDSOGSSNNTFJ',\n",
       "       'QDEYKGKBMCIYCT', 'SRPHMISUTWFFKJ', 'CFJLERBDXYGARW',\n",
       "       'ZCKITOSCNKNMMO', 'FCLRMHVOEFMMCX', 'HHJTWTPUPVQKNA',\n",
       "       'PPWHTZKZQNXVAE', 'FOYHNROGBXVLLX', 'SATIISJKSAELDC',\n",
       "       'VEVZSMAEJFVWIL', 'ACWBBAGYTKWBCD', 'JHAXQRDTTACRKJ',\n",
       "       'QIUYUYOXCGBABP', 'QHMTXANCGGJZRX', 'ZJMZZNVGNSWOOM',\n",
       "       'KHWHODOWEXOYIJ', 'FOJARNPMBSAHNV', 'CTTHWASMBLQOFR',\n",
       "       'OKBWVJGQTFYYQA', 'ULGZDMOVFRHVEP', 'COCNDHOPIHDTHK',\n",
       "       'WYEMLYFITZORAB', 'DPXWHZUTDZONDB', 'CNEWEMXPRRKCTL',\n",
       "       'YJRLSCDUYLRBIZ', 'ICMGLRUYEQNHPF', 'HCJXEOFLVIFFDG',\n",
       "       'TUGAUFMQYWZJAB', 'WRXVPTMENPZUIZ', 'VLGUKBMOYDQZNE',\n",
       "       'VQHYUBJDKHMCEY', 'SEBIKDIMAPSUBY', 'OXKMZIABKYHLAR',\n",
       "       'YDOTUXAWKBPQJW', 'XBLHNZRXAORYAC', 'VKYKSIONXSXAKP',\n",
       "       'ZONXEWIGPLHXNT', 'KFEUJDWYNGMDBV', 'NFINSJKQOBJWEB',\n",
       "       'MDMCODCJMHTFIZ', 'PGOOBECODWQEAB', 'CYHOMWAPJJPNMW',\n",
       "       'CFAJIMXUZRPYDP', 'RPHNSADJHUEKRG', 'WNANPKYNOALKIV',\n",
       "       'TVHDZSRRHQKNEZ', 'RSDDHGSKLOSQFK', 'PAJLATPQDCJPHT',\n",
       "       'SYBLQDYULNRQHI', 'OTGQIQQTPXJQRG', 'QUVGEKPNSCFQIR',\n",
       "       'XZPCFZLGAZNCOI', 'AHUAGKUYEMQHTH', 'JHSPCUHPSIUQRB',\n",
       "       'PMCAXNOWFFQTHM', 'SFAOCCXTEHOWEV', 'PDIJXNGNSUILEE',\n",
       "       'OMQADRGFMLGFJF', 'DKEXFJVMVGETOO', 'AHTRGGWSBFOEEG',\n",
       "       'YUVKUEAFAVKILW', 'ZMZWVJLMOBCSEP', 'FKMMWCMRFJRLIO',\n",
       "       'ROQRBGPOJLWCGH', 'LUZUAYAKZLCOCQ', 'KYVUMEGNMQDSHO',\n",
       "       'NERNKRPBSOBEHC', 'IKIIZLYTISPENI', 'ZQYUKJFJPJDMMR',\n",
       "       'WPXATJMWMPFBJS', 'NBMKJKDGKREAPL', 'SKOYDNZXMHBVBB',\n",
       "       'NVKNRXOMCYTFJF', 'BHHRYVYZZQIPGU', 'LWJQXNNLBXWBCY',\n",
       "       'QWCRAEMEVRGPNT', 'ZBPAHEUAJMCLRD', 'NOCZJUUWDACQEY',\n",
       "       'QJALTHDWQWOLLT', 'YLKFQDKSCLMOGF', 'PHEDXBVPIONUQT',\n",
       "       'IVENSCMCQBJAKW', 'HYAFETHFCAUJAY', 'JBNMHJLAARQCFY',\n",
       "       'JGWDBQRLOBLTHU', 'NLSKTRPDDPYIMQ', 'LZJRNLRASBVRRX',\n",
       "       'FURUXTVZLHCCNA', 'HBZNVZIRJWODIB', 'RTATXGUCZHCSNG',\n",
       "       'IAOZJIPTCAWIRG', 'KLBQZWRITKRQQV', 'ROBVIMPUHSLWNV',\n",
       "       'RGLPHKBIBOUYQQ', 'NHYZSWZDJSUGSF', 'SMOHLDSEWHACKE',\n",
       "       'KBOJOGQFRVVWBH', 'JNKVBUQSDAHKDQ', 'AKMKWHBDPUOPSK',\n",
       "       'XUKUURHRXDUEBC', 'XIGAUIHYSDTJHW', 'NQRYJNQNLNOLGT',\n",
       "       'BCGKTBJHEZXJFM', 'NILQLFBWTXNUOE', 'RLFWWDJHLFCNIJ',\n",
       "       'OXNYNKGAOAFFBD', 'KJBDTBUYUDRWMT', 'XUYPXLNMDZIRQH',\n",
       "       'CZFFBEXEKNGXKS', 'CNQCBOHTKBVCFM', 'FIAAVMJLAGNUKW',\n",
       "       'LCDBRGPJMWXDGF', 'IQAMTZLKUHMPPE', 'GPKJTRJOBQGKQK',\n",
       "       'PTXIWVJSAQPKEY', 'LBVPDFGFLMFDPI', 'MYKUKUCHPMASKF',\n",
       "       'XRCPVTIMWPBGBZ', 'FRSRMZNTUGSNRW', 'AUVVAXYIELKVAI',\n",
       "       'BTGVTHAIJREEMO', 'HBXKSXMNNGHBEA', 'VBFXAALSKCTOAO',\n",
       "       'DYARIVMCYYQNNQ', 'IYETZZCWLLUHIJ', 'MXPXAZNVQUWDFH',\n",
       "       'JQMQKOQOLPGBBE', 'MVFGUOIZUNYYSO', 'ZDXPYRJPNDTMRX',\n",
       "       'OLBNOBQOQZRLMP', 'XMHIUKTWLZUKEX', 'FNYLWPVRPXGIIP',\n",
       "       'DCOPUUMXTXDBNB', 'NNJVILVZKWQKPM', 'HXNFUBHNUDHIGC',\n",
       "       'QUVRUINWOFZNJL', 'FMEUWIKCSICJBO', 'HRYLQFBHBWLLLL',\n",
       "       'GIWDXQUHEWOAQO', 'SHZKQBHERIJWAO', 'JWYUFVNJZUSCSM',\n",
       "       'ZEXQVPRPMQVOFT', 'JGGRFKDDIGORCC', 'DPJZYONMQLGZJE',\n",
       "       'BUCORZSTKDOEKQ', 'CCLQKVKJOGVQLU', 'GTLYLWQDKQVONL',\n",
       "       'RIZMRRKBZQXFOY', 'UIDGLYUNOUKLBM', 'MIQMVCTWXSPFSC',\n",
       "       'DSMWJDJWYGMEBO', 'JHEDYGILOIBOTL', 'ISLYVROQSJYFAZ',\n",
       "       'GMMLNKINDDUDCF', 'KNCNSYQYJUBLPW', 'LCQFYEBJTAIMPC',\n",
       "       'JXDYKVIHCLTXOP', 'LZMUZSFHEIXIJR', 'AFOLBAYDTRBYBA',\n",
       "       'WTQWDNIIFGEBSZ', 'MCWXGJITAZMZEV', 'RZCJYMOBWVJQGV',\n",
       "       'DBABZHXKTCFAPX', 'JBFBTBFJYNNYPW', 'GHVNFZFCNZKVNT',\n",
       "       'KQRYTIJIWAGUQB', 'YLMAHDNUQAMNNX', 'RTFKMVMUZLBFEW',\n",
       "       'ZEJXENDZTYVXDP', 'LKJPSUCKSLORMF', 'CJPQIRJHIZUAQP',\n",
       "       'VEJMLLWTNKQWKM', 'BOLGBOZCCGUULF', 'AHBXXEZLRFCZSF',\n",
       "       'SRXKIZXIRHMPFW', 'YJXRPXBRYBCYRH', 'QSLMDECMDJKHMQ',\n",
       "       'XMGQYMWWDOXHJM', 'LXOPDEDFRXZTNO', 'HPSILLNWMJOWNM',\n",
       "       'ZZORFUFYDOWNEF', 'HQUQLFOMPYWACS', 'NTEIYTQTTHYBTI',\n",
       "       'XLCYXINIUJNTPF', 'HEFNNWSXXWATRW', 'LCGTWRLJTMHIQZ',\n",
       "       'MTYBVLBBQPTSAU', 'HILBWEPXZDMOAE', 'OGHYZHNTIINXEO',\n",
       "       'BWSQDEWKZUMVIG', 'MPAKYMOQGZITTQ', 'WYKYKTKDBLFHCY',\n",
       "       'BJMXBTRNBWZGEQ', 'JLIDBLDQVAYHNE', 'SYGWGHVTLUBCEM',\n",
       "       'SBUJHOSQTJFQJX', 'ARBHXJXXVVHMET', 'SGKRLCUYIXIAHR',\n",
       "       'UYVBMGULWGRDQT', 'AQCKKGIVKOHRLM', 'SYFJYRUTNACAQV',\n",
       "       'DCYOADKBABEMIQ', 'JZFPYUNJRRFVQU', 'ITVGXXMINPYUHD',\n",
       "       'JLSKPBDKNIXMBS', 'LJEJBLOFFDLRIH', 'JMUOPRSXUVOHFE',\n",
       "       'YUXUTEAAGHFKKH', 'BEHHXVQQPLISNN', 'FGANMDNHTVJAHL',\n",
       "       'MOOFYEJFXBSZGE', 'PWZDJIUQHUGFRJ', 'ZFMSMUAANRJZFM',\n",
       "       'HRUASHPCEMXOMR', 'JFZSDNLQDTYVEE', 'RYBXJAJHOPCXHS',\n",
       "       'UFEODZBUAFNAEU', 'XAIPTRIXGHTTNT', 'DEIYFTQMQPDXOT',\n",
       "       'NWUWYYSKZYIQAE', 'KSGXQBZTULBEEQ', 'RSNBAEGFNZIXPM',\n",
       "       'JFQBNOIJWROZGE', 'GLUUGHFHXGJENI', 'UTWYSZSEHYRTLP',\n",
       "       'STECJAGHUSJQJN', 'GFMGOVRWOOAPMN', 'PHXATPHONSXBIL',\n",
       "       'GBYDSYPGGDKWGZ', 'BUOADWXGPJXKRM', 'NPOJQCVWMSKXDN',\n",
       "       'ZDTDTQOXWAEZGP', 'RNQBLQALVMHBKH', 'DCTLJGWMHPGCOS',\n",
       "       'QRPLZGZHJABGRS', 'CDTMPWYDQKWYFT', 'NYHBQMYGNKIUIF',\n",
       "       'XJQPQKLURWNAAH', 'YURJSTAIMNSZAE', 'QJAPFSSVKIZTMR',\n",
       "       'FHIJMQWMMZEFBL', 'WPCVRWVBBXIRMA', 'KKOLMSSIDZXPLS',\n",
       "       'SUBDBMMJDZJVOS', 'RZILCCPWPBTYDO', 'MTCOVRSZCNNQLP',\n",
       "       'FDSDTBUPSURDBL', 'CZCOHVXNUPVUBC', 'NETSQGRTUNRXEO',\n",
       "       'BAUXUWNOTMKKET', 'GOENIMGKWNZVDA', 'QCQACYPNQZJHQN',\n",
       "       'PKKZJBBNWQFEBZ', 'MNLRQHMNZILYPY', 'CSWIKHNSBZVWNQ',\n",
       "       'YRRKLBAKDXSTNC', 'GODSXGJMZIRXOG', 'RGHNJXZEOKUKBD',\n",
       "       'QKEJRKXVLGOJMB', 'ONCZDRURRATYFI', 'AWJUIBRHMBBTKR',\n",
       "       'WJXSYUJKJSOJOG', 'PECYZEOJVXMISF', 'UGWAFWFSLCHCJD',\n",
       "       'RSWGJHLUYNHPMX', 'AHTPATJNIAFOLR', 'HEYZWPRKKUGDCR',\n",
       "       'JLSVDPQAIKFBTO', 'ZPEADZHVGOCGKH', 'LLSRPENMALNOFW',\n",
       "       'MRBLTWPEPGRXQN', 'OBFDSOYVKVRFGY', 'QLFZZSKTJWDQOS',\n",
       "       'MTOYSSPTNNWDSB', 'KKSYAZCUYVRKML', 'ZRJBHWIHUMBLCN',\n",
       "       'IYGKIJUHLXBVCF', 'BQAWIDAQBDWCGH', 'ALPIUWBZQOROIJ',\n",
       "       'IRIAEXORFWYRCZ', 'RQOFTLFCRJDAJR', 'FONHTANVJZLRTJ',\n",
       "       'DUQSSEQKLJQACA', 'OEBRKCOSUFCWJD', 'ZFXXVVRQQNCNDM',\n",
       "       'GIUVFWDLNFDKHT', 'ADVGKWPZRIDURE', 'PBZRRADJWNBPNY',\n",
       "       'SNPPWIUOZRMYNY', 'FOWZPEXPOVXJSN', 'FJLBFSROUSIWMA',\n",
       "       'MSKAFRMBWXTPHY', 'NDDAHWYSQHTHNT', 'DGMPVYSXXIOGJY',\n",
       "       'DUDGAPSRYCQPBG', 'UWHZIFQPPBDJPM', 'UUFAJPMQSFXDFR',\n",
       "       'PHMGTWLYHMQYHV', 'FYGDTMLNYKFZSV', 'NJMQSVWMCODQIP',\n",
       "       'CXQWRCVTCMQVQX', 'URDNHJIVMYZFRT', 'FALZOOWSJAQSFX',\n",
       "       'QUCQEUCGKKTEBI', 'UUVWYPNAQBNQJQ', 'KVQVEJPIQHNLTM',\n",
       "       'GOYZKWCPWBKPIG', 'BMBSGGZMJQTQSO', 'WFXFYZULCQKPIP',\n",
       "       'ISRUGXGCCGIOQO', 'BEZZFPOZAYTVHN', 'WYZSLJFHERMCAN',\n",
       "       'SAEFXOJAEDXDBM', 'JNZBACSLMIGXCA', 'RJKCKKDSSSRYCB',\n",
       "       'ODGKTDLGCWUSEC', 'VSOOBQALJVLTBH', 'ZTUKZKYDJMGJDC',\n",
       "       'FXLASALIDJKUIQ', 'DIAQQISRBBDJIM', 'VZPAURMDJZOGHU',\n",
       "       'WJNRPILHGGKWCK', 'DBGIVFWFUFKIQN', 'RWCVSDKDFSVZNF',\n",
       "       'BGDKAVGWHJFAGW', 'OWCRARVHWCCRAG', 'XEQDVQKKHOQZEP',\n",
       "       'NENPYTRHICXVCS', 'TZOHVRDKXUMVIU', 'FJLGEFLZQAZZCD',\n",
       "       'BVIAOQMSVZHOJM', 'COVZYZSDYWQREU', 'GIKJADRKBZHVCY',\n",
       "       'KKZJGLLVHKMTCM', 'FQZYTYWMLGAPFJ', 'BXLAVJWSFYZDPF',\n",
       "       'YDAVVXOXSSFVPF', 'MPCAJMNYNOGXPB', 'LMILVXQXGKTFSZ',\n",
       "       'RJWJHRPNHPHBRN', 'NJGWOFRZMQRKHT', 'DWRKFAJEBUWTQM',\n",
       "       'RNKMOGIPOMVCHO', 'WCGUUGGRBIKTOS', 'UDDKTZFKFIZQAW',\n",
       "       'JJWITJNSXCXULM', 'VNLOLXSJMINBIS', 'MUGQOWYFWURKCM',\n",
       "       'YTFVRYKNXDADBI', 'XKKFNYKNDDHAQC', 'XMAYWYJOQHXEEK',\n",
       "       'WOPKDKPJTJHLPB', 'SFNQVDIXXKZSCB', 'QGLZXHRNAYXIBU',\n",
       "       'HAVWRBANWNTOJX', 'NSRJSISNDPOJOP', 'RJFAYQIBOAGBLC',\n",
       "       'JOZKFWLRHCDGJA', 'OYIFNHCXNCRBQI', 'ROCUOVBWAWAQFD',\n",
       "       'RMOGWMIKYWRTKW', 'SYEZZRGTJNNHEL', 'FFTVPQUHLQBXQZ',\n",
       "       'CXVGEDCSTKKODG', 'IINDQALFBNRRJE', 'UNAANXDKBXWMLN',\n",
       "       'DPBOXKYWJVXMAW', 'KUAZQDVKQLNFPE', 'FYZYXYLPBWLLGI',\n",
       "       'LKKDASYGWYYFIK', 'XFLTYUCKJRFDOU', 'UXSACQOOWZMGSE',\n",
       "       'CJGRGYBLAHPYOM', 'PGERTGWKXFAEFR', 'ANNNBEZJTNCXHY',\n",
       "       'QBTPSJBCRQLPLW', 'GZSOSUNBTXMUFQ', 'IYRMWMYZSQPJKC',\n",
       "       'VIHRKOVEWCGJQP', 'GWYFCOCPABKNJV', 'IVOMOUWHDPKRLL',\n",
       "       'AWKLBIOQCIORSB', 'RRVIAQKBTUQODI', 'DYMYDSWEIIXYNX',\n",
       "       'VMTHPSSNJFUGBF', 'SIVAITYPYQQYAP', 'JTLPHVAPUJVXEJ',\n",
       "       'ILRCGYURZSFMEG', 'ACRIYYKEWCXQOS', 'CZYPGTRKJFYXLT',\n",
       "       'AXNXSFBKZQIMPF', 'ZGNUJHGCJSHIQU', 'JRFZSUMZAUHNSL',\n",
       "       'CRVXJSNSTGEXDX', 'HHJUWIANJFBDHT', 'DEDOPGXGGQYYMW',\n",
       "       'LHNFRFAOVVPESM', 'ACYXDIZTQDLTCB', 'NOFGKTVEZONBCG',\n",
       "       'PQTBTIFWAXVEPB', 'FUBVFOMIYZMXCB', 'AVFIYMSJDDGDBQ',\n",
       "       'OWQNWJPLMHWHSM', 'FYVKHLSOIIPVEH', 'GYPNBQUSNIBSGD',\n",
       "       'JFIXKFSJCQNGEK', 'YLIUZRWENFNXMA', 'UNBRKDKAWYKMIV',\n",
       "       'OCQMNDCGKQJTNY', 'LBZMXGLPRHGPRE', 'BNQSTAOJRULKNX',\n",
       "       'ZVIWXYIZIRJDPV', 'WYVVKGNFXHOCQV', 'TXCAFRVNHJUDMI',\n",
       "       'GKQGIQVSMCHAFX', 'FJYFQXJJSFYJQV', 'IHJCXVZDYSXXFT',\n",
       "       'DNTGGZPQPQTDQF', 'NGMQJZCKXKTQID', 'LBTABPSJONFLPO',\n",
       "       'FOAPBJMMOXYHAN', 'RQZAXGRLVPAYTJ', 'PUQIRTNPJRFRCZ',\n",
       "       'YFBPRJGDJKVWAH', 'XRUAMQHLDNCEHM', 'MNHVNIJQQRJYDH',\n",
       "       'FILAAKXJIYRSAW', 'XAFFBHRHOULDSM', 'BGKIISXUCXQGJO',\n",
       "       'MRWXACSTFXYYMV', 'LMXZVISHHDYBFW', 'HHFGRBVNICWEBY',\n",
       "       'ZOOGRGPOEVQQDX', 'XRWVZSPWRNDJNS', 'RKWVKFFFOYCNSI',\n",
       "       'SGKBPTZDIUXCMW', 'NZESEVTYUVXOTC', 'JEKOGXYPZLTPCU',\n",
       "       'QJVVGCSWIOLQDG', 'DLYVTEULDNMQAR', 'ZLPLFUBVEZVYDX',\n",
       "       'VAPVFWUBNBLVMB', 'XZNUGFQTQHRASN', 'ZSSDQYBHZQJKGP',\n",
       "       'VOVIALXJUBGFJZ', 'VSJKWCGYPAHWDS', 'SBGBAZQAEOWGFT',\n",
       "       'XIHUXEHAQPSMTF', 'ZOCTZZQDDXGIRB', 'UWTOESDPWKUNBD',\n",
       "       'VOXXWSYKYCBWHO', 'WBDMFFSFFQSHFV', 'YCGPBVPZHGYLBK',\n",
       "       'CMUOOPXNBJLJQK', 'CXOIAIBSUNQVID', 'LFXMHSJWYXKODM',\n",
       "       'OXBVVUPTVONEJO', 'KQQLSXWIDDTWRR', 'APGIPIWYVRPJKL',\n",
       "       'WCMUUYZSUQJWRX', 'BQPRWZCEKZLBHL', 'MXZXIBZNZUOHER',\n",
       "       'PHKSUFCCGLWIMC', 'HIMXGTXNXJYFGB', 'UDCDOJQOXWCCSD',\n",
       "       'RFVMVHYMAGKNDK', 'GEOCVSMCLVIOEV', 'OUBDJJFZUQGQLU',\n",
       "       'DMQLFAQJZUWLKV', 'MFIXKYXSBNIMPX', 'QXJKBPAVAHBARF',\n",
       "       'HYVHGKDHDRBYPY', 'NWBJYWHLCVSVIJ', 'RTNGMIUMJUOABT',\n",
       "       'HMJJWFFZRCLIDN', 'JVVXZOOGOGPDRZ', 'QNSISMOIISIICW',\n",
       "       'HYXITZLLTYIPOF', 'OWBTYPJTUOEWEK', 'RCINICONZNJXQF',\n",
       "       'CHHLANXNIQPKBE', 'WBBCTOKMKWQACG', 'DQCKKXVULJGBQN',\n",
       "       'DBXFAPJCZABTDR', 'SDUQYLNIPVEERB', 'TYZROVQLWOKYKF',\n",
       "       'PGRWPWIGJLNDHN', 'TWBPWBPGNQWFSJ', 'VPGIGLKLCFOWDN',\n",
       "       'XCQNRWMPPLJRCM', 'TZJALUIVHRYQQB'], dtype=object)"
      ]
     },
     "execution_count": 97,
     "metadata": {},
     "output_type": "execute_result"
    }
   ],
   "source": [
    "num_spectra = 500\n",
    "\n",
    "np.random.seed(42) # to make it reproducible\n",
    "selection = np.random.choice(suitable_inchikeys.shape[0], num_spectra, replace=False)\n",
    "selected_inchikeys = suitable_inchikeys.index.values[selection]\n",
    "selected_inchikeys"
   ]
  },
  {
   "cell_type": "code",
   "execution_count": 101,
   "metadata": {},
   "outputs": [
    {
     "data": {
      "text/plain": [
       "2     135\n",
       "3      62\n",
       "12     38\n",
       "4      32\n",
       "13     30\n",
       "14     30\n",
       "6      21\n",
       "5      19\n",
       "15     19\n",
       "8      17\n",
       "10     16\n",
       "16     13\n",
       "7      12\n",
       "9      11\n",
       "11     11\n",
       "17      7\n",
       "18      6\n",
       "20      4\n",
       "26      3\n",
       "19      2\n",
       "41      2\n",
       "40      1\n",
       "22      1\n",
       "23      1\n",
       "24      1\n",
       "25      1\n",
       "28      1\n",
       "29      1\n",
       "31      1\n",
       "33      1\n",
       "34      1\n",
       "Name: inchikey, dtype: int64"
      ]
     },
     "execution_count": 101,
     "metadata": {},
     "output_type": "execute_result"
    }
   ],
   "source": [
    "suitable_inchikeys[selection].value_counts()"
   ]
  },
  {
   "cell_type": "markdown",
   "metadata": {},
   "source": [
    "### Randomly pick one spectra for each of the chosen inchikeys"
   ]
  },
  {
   "cell_type": "code",
   "execution_count": 155,
   "metadata": {},
   "outputs": [],
   "source": [
    "selected_spectra = []\n",
    "\n",
    "np.random.seed(42) # to make it reproducible\n",
    "for inchikey in selected_inchikeys:\n",
    "    matches = inchikeys_pd[inchikeys_pd.str[:14] == inchikey].index.values\n",
    "    selected_spectra.append(int(np.random.choice(matches,1)[0]))"
   ]
  },
  {
   "cell_type": "code",
   "execution_count": 160,
   "metadata": {},
   "outputs": [
    {
     "data": {
      "text/plain": [
       "24243    CCMSLIB00000205651\n",
       "23687    CCMSLIB00000204756\n",
       "9034     CCMSLIB00000847642\n",
       "33806    CCMSLIB00000568985\n",
       "26281    CCMSLIB00000210444\n",
       "25033    CCMSLIB00000207076\n",
       "3892     CCMSLIB00000478551\n",
       "12170    CCMSLIB00000853571\n",
       "27736    CCMSLIB00000215049\n",
       "56096    CCMSLIB00004717755\n",
       "13427    CCMSLIB00000856142\n",
       "54927    CCMSLIB00004716202\n",
       "49914    CCMSLIB00004709935\n",
       "3629     CCMSLIB00000424996\n",
       "32835    CCMSLIB00000567362\n",
       "14733    CCMSLIB00000086026\n",
       "28632    CCMSLIB00000217859\n",
       "4161     CCMSLIB00000579202\n",
       "34976    CCMSLIB00004684723\n",
       "30653    CCMSLIB00000223246\n",
       "10981    CCMSLIB00000850979\n",
       "10294    CCMSLIB00000848990\n",
       "929      CCMSLIB00001058413\n",
       "25870    CCMSLIB00000208841\n",
       "8590     CCMSLIB00000846925\n",
       "32072    CCMSLIB00000563347\n",
       "32322    CCMSLIB00000566366\n",
       "47912    CCMSLIB00004707432\n",
       "22444    CCMSLIB00000078218\n",
       "29309    CCMSLIB00000219482\n",
       "                ...        \n",
       "48274    CCMSLIB00004707884\n",
       "11825    CCMSLIB00000852872\n",
       "23590    CCMSLIB00000427244\n",
       "25706    CCMSLIB00000208463\n",
       "13062    CCMSLIB00000855396\n",
       "14671    CCMSLIB00000085964\n",
       "10329    CCMSLIB00000849027\n",
       "12041    CCMSLIB00000853312\n",
       "53870    CCMSLIB00004714881\n",
       "34756    CCMSLIB00000572900\n",
       "9922     CCMSLIB00000848594\n",
       "28447    CCMSLIB00000217411\n",
       "53301    CCMSLIB00004714168\n",
       "37735    CCMSLIB00004693827\n",
       "23745    CCMSLIB00000204891\n",
       "49072    CCMSLIB00004708883\n",
       "55626    CCMSLIB00004717075\n",
       "23163    CCMSLIB00000425929\n",
       "52374    CCMSLIB00004713010\n",
       "2597     CCMSLIB00000072158\n",
       "35454    CCMSLIB00004688319\n",
       "26667    CCMSLIB00000211776\n",
       "22689    CCMSLIB00000078465\n",
       "26095    CCMSLIB00000209848\n",
       "33239    CCMSLIB00000567978\n",
       "8513     CCMSLIB00000846760\n",
       "31385    CCMSLIB00000841484\n",
       "39066    CCMSLIB00004695576\n",
       "9131     CCMSLIB00000847745\n",
       "30706    CCMSLIB00000223357\n",
       "Name: gnps_ID, Length: 500, dtype: object"
      ]
     },
     "execution_count": 160,
     "metadata": {},
     "output_type": "execute_result"
    }
   ],
   "source": [
    "# Show gnps IDs for selected spectra\n",
    "spectra_metadata[\"gnps_ID\"][selected_spectra]"
   ]
  },
  {
   "cell_type": "code",
   "execution_count": 158,
   "metadata": {},
   "outputs": [
    {
     "data": {
      "text/plain": [
       "(89910, 500)"
      ]
     },
     "execution_count": 158,
     "metadata": {},
     "output_type": "execute_result"
    }
   ],
   "source": [
    "max(selected_spectra), len(selected_spectra)"
   ]
  },
  {
   "cell_type": "markdown",
   "metadata": {},
   "source": [
    "## Train new Spec2Vec model on dataset without the selected spectra"
   ]
  },
  {
   "cell_type": "code",
   "execution_count": 161,
   "metadata": {},
   "outputs": [
    {
     "name": "stdout",
     "output_type": "stream",
     "text": [
      "Modified corpus consists of 89726 documents.\n",
      "Preprocess documents...\n",
      "Number of unique words:  145574\n",
      "No saved word2vec model found with given filename!\n",
      "Calculating new word2vec model...\n",
      " Epoch 1 of 15.Change in loss after epoch 1: 6925468.5\n",
      " Epoch 2 of 15.Change in loss after epoch 2: 5008829.5\n",
      " Epoch 3 of 15.Change in loss after epoch 3: 4572261.0\n",
      " Epoch 4 of 15.Change in loss after epoch 4: 3649753.0\n",
      " Epoch 5 of 15.Change in loss after epoch 5: 3527970.0\n",
      " Epoch 6 of 15.Change in loss after epoch 6: 3411248.0\n",
      " Epoch 7 of 15.Change in loss after epoch 7: 3346984.0\n",
      " Epoch 8 of 15.Change in loss after epoch 8: 3169194.0\n",
      " Epoch 9 of 15.Change in loss after epoch 9: 1936760.0\n",
      " Epoch 10 of 15.Change in loss after epoch 10: 1917888.0\n",
      "Saving model with name: C:\\OneDrive - Netherlands eScience Center\\Project_Wageningen_iOMEGA\\Spec2Vec\\models_trained\\S2V_allGNPS_pos_librarymatching_d300_w500_neg5_minmax10_1000_dec2_exp08_iter_10.model\n",
      " Epoch 11 of 15.Change in loss after epoch 11: 1880228.0\n",
      " Epoch 12 of 15.Change in loss after epoch 12: 1808336.0\n",
      " Epoch 13 of 15.Change in loss after epoch 13: 1789492.0\n",
      " Epoch 14 of 15.Change in loss after epoch 14: 1778080.0\n",
      " Epoch 15 of 15.Change in loss after epoch 15: 1763484.0\n",
      "Saving model with name: C:\\OneDrive - Netherlands eScience Center\\Project_Wageningen_iOMEGA\\Spec2Vec\\models_trained\\S2V_allGNPS_pos_librarymatching_d300_w500_neg5_minmax10_1000_dec2_exp08_iter_15.model\n",
      "Learning rate droped from 0.025 to 0.021250479236787554\n"
     ]
    }
   ],
   "source": [
    "# Remove selected spectra from corpus\n",
    "MS_documents_removedpart = [MS_documents[x] for x in range(len(MS_documents)) if x not in selected_spectra]   \n",
    "print(\"Modified corpus consists of\", len(MS_documents_removedpart), \"documents.\")\n",
    "\n",
    "MS_measure = SimilarityMeasures(MS_documents_removedpart)\n",
    "MS_measure.preprocess_documents(1, min_frequency = 2, create_stopwords = False)\n",
    "print(\"Number of unique words: \", len(MS_measure.dictionary))\n",
    "\n",
    "# Train new model based on reduced corpus\n",
    "file_model_word2vec = PATH_SAVE_MODEL + 'S2V_allGNPS_pos_librarymatching_d300_w500_neg5_minmax10_1000_dec2_exp08.model'\n",
    "MS_measure.build_model_word2vec(file_model_word2vec, sg=0, negative=5, size=300, window=500, \n",
    "                             min_count=1, workers=4, iterations= [10,5], \n",
    "                             use_stored_model=True)\n",
    "print(\"Learning rate droped from\", MS_measure.model_word2vec.alpha, \"to\", MS_measure.model_word2vec.min_alpha_yet_reached)\n"
   ]
  },
  {
   "cell_type": "markdown",
   "metadata": {},
   "source": [
    "## Calculate Spec2Vec spectra vectors for all library spectra"
   ]
  },
  {
   "cell_type": "code",
   "execution_count": 166,
   "metadata": {},
   "outputs": [
    {
     "name": "stdout",
     "output_type": "stream",
     "text": [
      "All 'words' of the given documents were found in the trained word2vec model.\n",
      "  Calculated centroid vectors for  89726  of  89726  documents.documents.89726  documents.89726  documents.  documents. 2730  of  89726  documents.3700  of  89726  documents.4290  of  89726  documents.89726  documents. 89726  documents.  documents. 8310  of  89726  documents. 89726  documents.9520  of  89726  documents.89726  documents.  documents. Calculated centroid vectors for  11370  of  89726  documents.  documents. 12530  of  89726  documents.  documents. 13360  of  89726  documents. 89726  documents.89726  documents. Calculated centroid vectors for  14420  of  89726  documents.  documents.89726  documents. Calculated centroid vectors for  17120  of  89726  documents. of  89726  documents.89726  documents. 89726  documents. 22150  of  89726  documents. documents. of  89726  documents. Calculated centroid vectors for  26270  of  89726  documents. 89726  documents.  documents. Calculated centroid vectors for  29790  of  89726  documents. 33570  of  89726  documents. of  89726  documents.89726  documents.89726  documents. 89726  documents.  documents.37540  of  89726  documents.  of  89726  documents.39030  of  89726  documents.39220  of  89726  documents.39690  of  89726  documents.39890  of  89726  documents. 40030  of  89726  documents. of  89726  documents.40330  of  89726  documents.89726  documents.89726  documents. 89726  documents. of  89726  documents.89726  documents.89726  documents. 41970  of  89726  documents.  of  89726  documents.  of  89726  documents.  documents. 89726  documents.45490  of  89726  documents.45630  of  89726  documents. Calculated centroid vectors for  45850  of  89726  documents.  of  89726  documents. 89726  documents. of  89726  documents. of  89726  documents.  of  89726  documents. 89726  documents. 89726  documents.  of  89726  documents. 52460  of  89726  documents.52670  of  89726  documents.  documents. 53760  of  89726  documents. 89726  documents. 89726  documents. documents.55510  of  89726  documents. 89726  documents.  of  89726  documents. documents.57070  of  89726  documents.  of  89726  documents.89726  documents.58720  of  89726  documents.  documents.  documents.62730  of  89726  documents.63230  of  89726  documents.89726  documents.  documents.70360  of  89726  documents.72530  of  89726  documents. of  89726  documents. 89726  documents.89726  documents.  documents. documents. Calculated centroid vectors for  81020  of  89726  documents. 89726  documents.  documents.89726  documents. 89726  documents.85110  of  89726  documents.85680  of  89726  documents.  documents.89726  documents.89726  documents. documents."
     ]
    }
   ],
   "source": [
    "MS_library.get_vectors_centroid(method = 'ignore', \n",
    "                                             extra_weights = None, \n",
    "                                             tfidf_weighted = False, \n",
    "                                             weight_method = 'sqrt', \n",
    "                                             tfidf_model = None,\n",
    "                                             extra_epochs = 1)"
   ]
  },
  {
   "cell_type": "code",
   "execution_count": 167,
   "metadata": {},
   "outputs": [
    {
     "data": {
      "text/plain": [
       "89726"
      ]
     },
     "execution_count": 167,
     "metadata": {},
     "output_type": "execute_result"
    }
   ],
   "source": [
    "MS_library.vectors_centroid.shape[0], "
   ]
  },
  {
   "cell_type": "code",
   "execution_count": 169,
   "metadata": {},
   "outputs": [
    {
     "data": {
      "text/plain": [
       "(89726, 10)"
      ]
     },
     "execution_count": 169,
     "metadata": {},
     "output_type": "execute_result"
    }
   ],
   "source": [
    "library_spectra_IDs = [x for x in range(len(spectra)) if x not in selected_spectra]\n",
    "library_spectra_metadata = spectra_metadata.loc[library_spectra_IDs]\n",
    "\n",
    "library_spectra_metadata.shape"
   ]
  },
  {
   "cell_type": "code",
   "execution_count": 170,
   "metadata": {},
   "outputs": [
    {
     "data": {
      "text/plain": [
       "array([375.29 , 785.593, 807.575, ..., 177.019, 769.156, 799.172])"
      ]
     },
     "execution_count": 170,
     "metadata": {},
     "output_type": "execute_result"
    }
   ],
   "source": [
    "library_spectra_metadata['precursor_mz'].values"
   ]
  },
  {
   "cell_type": "code",
   "execution_count": 179,
   "metadata": {},
   "outputs": [
    {
     "data": {
      "text/plain": [
       "500"
      ]
     },
     "execution_count": 179,
     "metadata": {},
     "output_type": "execute_result"
    }
   ],
   "source": [
    "spectra_unkown = [spectra[x] for x in selected_spectra]\n",
    "len(spectra_unkown)"
   ]
  },
  {
   "cell_type": "code",
   "execution_count": 177,
   "metadata": {},
   "outputs": [
    {
     "data": {
      "text/plain": [
       "334.139"
      ]
     },
     "execution_count": 177,
     "metadata": {},
     "output_type": "execute_result"
    }
   ],
   "source": [
    "spectra[20000].precursor_mz"
   ]
  },
  {
   "cell_type": "code",
   "execution_count": 190,
   "metadata": {},
   "outputs": [],
   "source": [
    "def library_matching(spectra, \n",
    "                     MS_library, \n",
    "                     library_spectra_metadata, \n",
    "                     method = 'precursor_mz',\n",
    "                     mz_ppm = 10,\n",
    "                    spectra_vectors = None):\n",
    "    \"\"\"\n",
    "    Args:\n",
    "    --------\n",
    "    \"\"\"\n",
    "    mass_matches = []\n",
    "        \n",
    "    if method == 'Spec2Vec' or method == 'Spec2Vec_mz':\n",
    "        #Check if Spec2Vec vectors are present for library\n",
    "        if len(MS_library.vectors_centroid) == 0:\n",
    "            print(\"Apparently Spec2Vec spectra vectors have not yet been derived for library data.\")\n",
    "            print(\"Spec2Vec spectra vectors will be calculated using default parameters.\")\n",
    "            MS_library.get_vectors_centroid(method = 'ignore', \n",
    "                                             extra_weights = None, \n",
    "                                             tfidf_weighted = False, \n",
    "                                             weight_method = 'sqrt', \n",
    "                                             tfidf_model = None,\n",
    "                                             extra_epochs = 1)\n",
    "        else:\n",
    "            print(\"Spec2Vec spectra vectors found for library data.\")\n",
    "        \n",
    "        if spectra_vectors is None:\n",
    "            spectra_vectors = vectorize_spectra(spectra_unkown,\n",
    "                          MS_library,\n",
    "                          num_decimals = 2,\n",
    "                          min_loss = 5.0, \n",
    "                          max_loss = 500.0,\n",
    "                          peak_loss_words = ['peak_', 'loss_'],\n",
    "                          extra_weights = True)\n",
    "        M_spec2vec_similairies = 1 - spatial.distance.cdist(MS_library.vectors_centroid, spectra_vectors, 'cosine')\n",
    "                  \n",
    "    if method == 'precursor_mz' or method == 'Spec2Vec_mz':\n",
    "        if MS_library.vectors_centroid.shape[0] != MS_library.vectors_centroid.shape[0]:\n",
    "            print(\"Warning! Number of found Spec2Vec spectral vectors does not agree with library metadata dimension.\")\n",
    "                  \n",
    "        library_masses = library_spectra_metadata['precursor_mz'].values\n",
    "        library_masses_tol = library_masses * mz_ppm/1e6\n",
    "        \n",
    "        # Get precursor mz for query spectra\n",
    "        precursor_mz_query = []\n",
    "\n",
    "        for spec in spectra:\n",
    "            mass = spec.precursor_mz\n",
    "            #precursor_mz_query += mass\n",
    "            mass_matches.append(np.where(((library_masses + library_masses_tol) > mass) & ((library_masses - library_masses_tol) < mass))[0])\n",
    "    \n",
    "    return mass_matches\n",
    "        "
   ]
  },
  {
   "cell_type": "code",
   "execution_count": 191,
   "metadata": {},
   "outputs": [
    {
     "name": "stdout",
     "output_type": "stream",
     "text": [
      "285.076\n",
      "260.092\n",
      "343.211\n",
      "266.165\n",
      "239.15\n"
     ]
    }
   ],
   "source": [
    "mass_matches = library_matching(spectra_unkown[:5], \n",
    "                     MS_library, \n",
    "                     library_spectra_metadata, \n",
    "                     method = 'precursor_mz',\n",
    "                     mz_ppm = 10)"
   ]
  },
  {
   "cell_type": "code",
   "execution_count": 192,
   "metadata": {},
   "outputs": [
    {
     "data": {
      "text/plain": [
       "[array([  292,  3114,  3726,  3752,  4435,  7159,  7368,  7443,  7450,\n",
       "         7790,  8233,  8920,  9584, 10013, 10035, 10205, 13282, 13510,\n",
       "        14787, 14832, 14866, 15789, 15926, 16142, 16505, 16549, 16777,\n",
       "        16895, 17166, 17391, 17483, 18200, 18425, 18695, 18769, 19293,\n",
       "        19945, 23421, 23617, 23621, 23652, 24024, 24025, 24026, 29907,\n",
       "        29908, 29909, 30070, 30071, 30072, 30073, 35529, 35530, 35531,\n",
       "        38674, 38675, 38676, 44348, 44349, 44350, 45445, 45446, 45447,\n",
       "        45487, 45488, 45489, 45818, 45819, 45820, 46000, 46001, 46002,\n",
       "        46027, 46028, 46029, 46119, 46120, 46121, 54631, 54632, 54633,\n",
       "        55885, 55886, 55887, 55906, 55907, 55908, 56295, 56296, 56297,\n",
       "        56680, 56681, 56682], dtype=int64),\n",
       " array([ 6673, 11543, 23484, 36914, 36915, 36916], dtype=int64),\n",
       " array([14682, 57756, 57757, 57758], dtype=int64),\n",
       " array([ 6106,  6270, 13650, 13782, 13915, 22418, 33170, 33175, 33237,\n",
       "        33268, 33329, 33454, 34471], dtype=int64),\n",
       " array([  152,   840,   895,  1357, 13904, 15122, 15303, 26035, 26036,\n",
       "        26037, 26038, 26039, 26040, 26041, 30487, 30488, 31204],\n",
       "       dtype=int64)]"
      ]
     },
     "execution_count": 192,
     "metadata": {},
     "output_type": "execute_result"
    }
   ],
   "source": [
    "mass_matches"
   ]
  },
  {
   "cell_type": "code",
   "execution_count": 196,
   "metadata": {},
   "outputs": [
    {
     "data": {
      "text/html": [
       "<div>\n",
       "<style scoped>\n",
       "    .dataframe tbody tr th:only-of-type {\n",
       "        vertical-align: middle;\n",
       "    }\n",
       "\n",
       "    .dataframe tbody tr th {\n",
       "        vertical-align: top;\n",
       "    }\n",
       "\n",
       "    .dataframe thead th {\n",
       "        text-align: right;\n",
       "    }\n",
       "</style>\n",
       "<table border=\"1\" class=\"dataframe\">\n",
       "  <thead>\n",
       "    <tr style=\"text-align: right;\">\n",
       "      <th></th>\n",
       "      <th>doc_ID</th>\n",
       "      <th>gnps_ID</th>\n",
       "      <th>name</th>\n",
       "      <th>title</th>\n",
       "      <th>precursor_mz</th>\n",
       "      <th>num_peaks_losses</th>\n",
       "      <th>inchi</th>\n",
       "      <th>inchikey</th>\n",
       "      <th>smiles</th>\n",
       "      <th>charge</th>\n",
       "    </tr>\n",
       "  </thead>\n",
       "  <tbody>\n",
       "    <tr>\n",
       "      <th>6158</th>\n",
       "      <td>6158</td>\n",
       "      <td>CCMSLIB00000079235</td>\n",
       "      <td>Mirtazapine aka \"2-methyl-1,2,3,4,10,14b-hexah...</td>\n",
       "      <td>Mirtazapine aka \"2-methyl-1,2,3,4,10,14b-hexah...</td>\n",
       "      <td>266.165</td>\n",
       "      <td>66</td>\n",
       "      <td>\"InChI=1S/C17H19N3/c1-19-9-10-20-16(12-19)15-7...</td>\n",
       "      <td>RONZAEMNMFQXRA-UHFFFAOYSA-N</td>\n",
       "      <td>CN1CCN2C(C1)c3ccccc3Cc4cccnc24</td>\n",
       "      <td>1</td>\n",
       "    </tr>\n",
       "    <tr>\n",
       "      <th>6328</th>\n",
       "      <td>6328</td>\n",
       "      <td>CCMSLIB00000077088</td>\n",
       "      <td>mirtazapine [M+H]</td>\n",
       "      <td>NaN</td>\n",
       "      <td>266.167</td>\n",
       "      <td>76</td>\n",
       "      <td>\"InChI=1S/C17H19N3/c1-19-9-10-20-16(12-19)15-7...</td>\n",
       "      <td>RONZAEMNMFQXRA-INIZCTEOSA-N</td>\n",
       "      <td>CN1CCN2[C@@H](C1)c1ccccc1Cc1cccnc21</td>\n",
       "      <td>1</td>\n",
       "    </tr>\n",
       "    <tr>\n",
       "      <th>13826</th>\n",
       "      <td>13826</td>\n",
       "      <td>CCMSLIB00000085118</td>\n",
       "      <td>MLS001148180-01!ANTAZOLINE PHOSPHATE M+H</td>\n",
       "      <td>MLS001148180-01!ANTAZOLINE PHOSPHATE</td>\n",
       "      <td>266.167</td>\n",
       "      <td>70</td>\n",
       "      <td>\"InChI=1S/C17H19N3.H3O4P/c1-3-7-15(8-4-1)13-20...</td>\n",
       "      <td>DUIGUKRYYAGJAF-UHFFFAOYSA-N</td>\n",
       "      <td>C(N(Cc1ccccc1)c2ccccc2)C3=NCCN3.OP(=O)(O)O</td>\n",
       "      <td>1</td>\n",
       "    </tr>\n",
       "    <tr>\n",
       "      <th>13958</th>\n",
       "      <td>13958</td>\n",
       "      <td>CCMSLIB00000085250</td>\n",
       "      <td>MLS002153486-01! M+H</td>\n",
       "      <td>MLS002153486-01!</td>\n",
       "      <td>266.165</td>\n",
       "      <td>1596</td>\n",
       "      <td>\"InChI=1S/C17H19N3.ClH/c1-3-7-15(8-4-1)13-20(1...</td>\n",
       "      <td>SWKDMSRRIBZZAY-UHFFFAOYSA-N</td>\n",
       "      <td>C(N(Cc1ccccc1)c2ccccc2)C3=NCCN3.Cl</td>\n",
       "      <td>1</td>\n",
       "    </tr>\n",
       "    <tr>\n",
       "      <th>14093</th>\n",
       "      <td>14093</td>\n",
       "      <td>CCMSLIB00000085385</td>\n",
       "      <td>MLS001165757-01!mirtazapine M+H</td>\n",
       "      <td>MLS001165757-01!mirtazapine</td>\n",
       "      <td>266.167</td>\n",
       "      <td>1989</td>\n",
       "      <td>\"InChI=1S/C17H19N3/c1-19-9-10-20-16(12-19)15-7...</td>\n",
       "      <td>RONZAEMNMFQXRA-INIZCTEOSA-N</td>\n",
       "      <td>CN1CCN2[C@@H](C1)c3ccccc3Cc4cccnc24</td>\n",
       "      <td>1</td>\n",
       "    </tr>\n",
       "    <tr>\n",
       "      <th>22613</th>\n",
       "      <td>22613</td>\n",
       "      <td>CCMSLIB00000078388</td>\n",
       "      <td>\"Mirtazapine (Remeron, Avanza)\" [M+H]</td>\n",
       "      <td>\"Mirtazapine (Remeron, Avanza)\"</td>\n",
       "      <td>266.165</td>\n",
       "      <td>67</td>\n",
       "      <td>\"InChI=1S/C17H19N3/c1-19-9-10-20-16(12-19)15-7...</td>\n",
       "      <td>RONZAEMNMFQXRA-UHFFFAOYSA-N</td>\n",
       "      <td>C1C2=C(N3C(C4=C1C=CC=C4)CN(CC3)C)N=CC=C2</td>\n",
       "      <td>1</td>\n",
       "    </tr>\n",
       "    <tr>\n",
       "      <th>33495</th>\n",
       "      <td>33495</td>\n",
       "      <td>CCMSLIB00000568453</td>\n",
       "      <td>MoNA:902194 2-Methyl-1,2,3,4,10,14b-hexahydrop...</td>\n",
       "      <td>MoNA:902194 2-Methyl-1,2,3,4,10,14b-hexahydrop...</td>\n",
       "      <td>266.165</td>\n",
       "      <td>106</td>\n",
       "      <td>\"InChI=1S/C17H19N3/c1-19-9-10-20-16(12-19)15-7...</td>\n",
       "      <td>RONZAEMNMFQXRA-UHFFFAOYSA-N</td>\n",
       "      <td>CN1CCN2C(C1)c1ccccc1Cc1cccnc21</td>\n",
       "      <td>1</td>\n",
       "    </tr>\n",
       "    <tr>\n",
       "      <th>33500</th>\n",
       "      <td>33500</td>\n",
       "      <td>CCMSLIB00000568461</td>\n",
       "      <td>MoNA:905686 2-Methyl-1,2,3,4,10,14b-hexahydrop...</td>\n",
       "      <td>MoNA:905686 2-Methyl-1,2,3,4,10,14b-hexahydrop...</td>\n",
       "      <td>266.165</td>\n",
       "      <td>62</td>\n",
       "      <td>\"InChI=1S/C17H19N3/c1-19-9-10-20-16(12-19)15-7...</td>\n",
       "      <td>RONZAEMNMFQXRA-UHFFFAOYSA-N</td>\n",
       "      <td>CN1CCN2C(C1)c1ccccc1Cc1cccnc21</td>\n",
       "      <td>1</td>\n",
       "    </tr>\n",
       "    <tr>\n",
       "      <th>33565</th>\n",
       "      <td>33565</td>\n",
       "      <td>CCMSLIB00000568578</td>\n",
       "      <td>MoNA:885026 2-Methyl-1,2,3,4,10,14b-hexahydrop...</td>\n",
       "      <td>MoNA:885026 2-Methyl-1,2,3,4,10,14b-hexahydrop...</td>\n",
       "      <td>266.165</td>\n",
       "      <td>90</td>\n",
       "      <td>\"InChI=1S/C17H19N3/c1-19-9-10-20-16(12-19)15-7...</td>\n",
       "      <td>RONZAEMNMFQXRA-UHFFFAOYSA-N</td>\n",
       "      <td>CN1CCN2C(C1)c1ccccc1Cc1cccnc21</td>\n",
       "      <td>1</td>\n",
       "    </tr>\n",
       "    <tr>\n",
       "      <th>33596</th>\n",
       "      <td>33596</td>\n",
       "      <td>CCMSLIB00000568631</td>\n",
       "      <td>MoNA:883998 2-Methyl-1,2,3,4,10,14b-hexahydrop...</td>\n",
       "      <td>MoNA:883998 2-Methyl-1,2,3,4,10,14b-hexahydrop...</td>\n",
       "      <td>266.165</td>\n",
       "      <td>70</td>\n",
       "      <td>\"InChI=1S/C17H19N3/c1-19-9-10-20-16(12-19)15-7...</td>\n",
       "      <td>RONZAEMNMFQXRA-UHFFFAOYSA-N</td>\n",
       "      <td>CN1CCN2C(C1)c1ccccc1Cc1cccnc21</td>\n",
       "      <td>1</td>\n",
       "    </tr>\n",
       "    <tr>\n",
       "      <th>33657</th>\n",
       "      <td>33657</td>\n",
       "      <td>CCMSLIB00000568725</td>\n",
       "      <td>MoNA:887258 2-Methyl-1,2,3,4,10,14b-hexahydrop...</td>\n",
       "      <td>MoNA:887258 2-Methyl-1,2,3,4,10,14b-hexahydrop...</td>\n",
       "      <td>266.165</td>\n",
       "      <td>88</td>\n",
       "      <td>\"InChI=1S/C17H19N3/c1-19-9-10-20-16(12-19)15-7...</td>\n",
       "      <td>RONZAEMNMFQXRA-UHFFFAOYSA-N</td>\n",
       "      <td>CN1CCN2C(C1)c1ccccc1Cc1cccnc21</td>\n",
       "      <td>1</td>\n",
       "    </tr>\n",
       "    <tr>\n",
       "      <th>33782</th>\n",
       "      <td>33782</td>\n",
       "      <td>CCMSLIB00000568947</td>\n",
       "      <td>MoNA:885018 2-Methyl-1,2,3,4,10,14b-hexahydrop...</td>\n",
       "      <td>MoNA:885018 2-Methyl-1,2,3,4,10,14b-hexahydrop...</td>\n",
       "      <td>266.165</td>\n",
       "      <td>118</td>\n",
       "      <td>\"InChI=1S/C17H19N3/c1-19-9-10-20-16(12-19)15-7...</td>\n",
       "      <td>RONZAEMNMFQXRA-UHFFFAOYSA-N</td>\n",
       "      <td>CN1CCN2C(C1)c1ccccc1Cc1cccnc21</td>\n",
       "      <td>1</td>\n",
       "    </tr>\n",
       "    <tr>\n",
       "      <th>34811</th>\n",
       "      <td>34811</td>\n",
       "      <td>CCMSLIB00000573011</td>\n",
       "      <td>MoNA:884459 2-Methyl-1,2,3,4,10,14b-hexahydrop...</td>\n",
       "      <td>MoNA:884459 2-Methyl-1,2,3,4,10,14b-hexahydrop...</td>\n",
       "      <td>266.165</td>\n",
       "      <td>72</td>\n",
       "      <td>\"InChI=1S/C17H19N3/c1-19-9-10-20-16(12-19)15-7...</td>\n",
       "      <td>RONZAEMNMFQXRA-UHFFFAOYSA-N</td>\n",
       "      <td>CN1CCN2C(C1)c1ccccc1Cc1cccnc21</td>\n",
       "      <td>1</td>\n",
       "    </tr>\n",
       "  </tbody>\n",
       "</table>\n",
       "</div>"
      ],
      "text/plain": [
       "       doc_ID             gnps_ID  \\\n",
       "6158     6158  CCMSLIB00000079235   \n",
       "6328     6328  CCMSLIB00000077088   \n",
       "13826   13826  CCMSLIB00000085118   \n",
       "13958   13958  CCMSLIB00000085250   \n",
       "14093   14093  CCMSLIB00000085385   \n",
       "22613   22613  CCMSLIB00000078388   \n",
       "33495   33495  CCMSLIB00000568453   \n",
       "33500   33500  CCMSLIB00000568461   \n",
       "33565   33565  CCMSLIB00000568578   \n",
       "33596   33596  CCMSLIB00000568631   \n",
       "33657   33657  CCMSLIB00000568725   \n",
       "33782   33782  CCMSLIB00000568947   \n",
       "34811   34811  CCMSLIB00000573011   \n",
       "\n",
       "                                                    name  \\\n",
       "6158   Mirtazapine aka \"2-methyl-1,2,3,4,10,14b-hexah...   \n",
       "6328                                   mirtazapine [M+H]   \n",
       "13826           MLS001148180-01!ANTAZOLINE PHOSPHATE M+H   \n",
       "13958                               MLS002153486-01! M+H   \n",
       "14093                    MLS001165757-01!mirtazapine M+H   \n",
       "22613              \"Mirtazapine (Remeron, Avanza)\" [M+H]   \n",
       "33495  MoNA:902194 2-Methyl-1,2,3,4,10,14b-hexahydrop...   \n",
       "33500  MoNA:905686 2-Methyl-1,2,3,4,10,14b-hexahydrop...   \n",
       "33565  MoNA:885026 2-Methyl-1,2,3,4,10,14b-hexahydrop...   \n",
       "33596  MoNA:883998 2-Methyl-1,2,3,4,10,14b-hexahydrop...   \n",
       "33657  MoNA:887258 2-Methyl-1,2,3,4,10,14b-hexahydrop...   \n",
       "33782  MoNA:885018 2-Methyl-1,2,3,4,10,14b-hexahydrop...   \n",
       "34811  MoNA:884459 2-Methyl-1,2,3,4,10,14b-hexahydrop...   \n",
       "\n",
       "                                                   title  precursor_mz  \\\n",
       "6158   Mirtazapine aka \"2-methyl-1,2,3,4,10,14b-hexah...       266.165   \n",
       "6328                                                 NaN       266.167   \n",
       "13826               MLS001148180-01!ANTAZOLINE PHOSPHATE       266.167   \n",
       "13958                                   MLS002153486-01!       266.165   \n",
       "14093                        MLS001165757-01!mirtazapine       266.167   \n",
       "22613                    \"Mirtazapine (Remeron, Avanza)\"       266.165   \n",
       "33495  MoNA:902194 2-Methyl-1,2,3,4,10,14b-hexahydrop...       266.165   \n",
       "33500  MoNA:905686 2-Methyl-1,2,3,4,10,14b-hexahydrop...       266.165   \n",
       "33565  MoNA:885026 2-Methyl-1,2,3,4,10,14b-hexahydrop...       266.165   \n",
       "33596  MoNA:883998 2-Methyl-1,2,3,4,10,14b-hexahydrop...       266.165   \n",
       "33657  MoNA:887258 2-Methyl-1,2,3,4,10,14b-hexahydrop...       266.165   \n",
       "33782  MoNA:885018 2-Methyl-1,2,3,4,10,14b-hexahydrop...       266.165   \n",
       "34811  MoNA:884459 2-Methyl-1,2,3,4,10,14b-hexahydrop...       266.165   \n",
       "\n",
       "       num_peaks_losses                                              inchi  \\\n",
       "6158                 66  \"InChI=1S/C17H19N3/c1-19-9-10-20-16(12-19)15-7...   \n",
       "6328                 76  \"InChI=1S/C17H19N3/c1-19-9-10-20-16(12-19)15-7...   \n",
       "13826                70  \"InChI=1S/C17H19N3.H3O4P/c1-3-7-15(8-4-1)13-20...   \n",
       "13958              1596  \"InChI=1S/C17H19N3.ClH/c1-3-7-15(8-4-1)13-20(1...   \n",
       "14093              1989  \"InChI=1S/C17H19N3/c1-19-9-10-20-16(12-19)15-7...   \n",
       "22613                67  \"InChI=1S/C17H19N3/c1-19-9-10-20-16(12-19)15-7...   \n",
       "33495               106  \"InChI=1S/C17H19N3/c1-19-9-10-20-16(12-19)15-7...   \n",
       "33500                62  \"InChI=1S/C17H19N3/c1-19-9-10-20-16(12-19)15-7...   \n",
       "33565                90  \"InChI=1S/C17H19N3/c1-19-9-10-20-16(12-19)15-7...   \n",
       "33596                70  \"InChI=1S/C17H19N3/c1-19-9-10-20-16(12-19)15-7...   \n",
       "33657                88  \"InChI=1S/C17H19N3/c1-19-9-10-20-16(12-19)15-7...   \n",
       "33782               118  \"InChI=1S/C17H19N3/c1-19-9-10-20-16(12-19)15-7...   \n",
       "34811                72  \"InChI=1S/C17H19N3/c1-19-9-10-20-16(12-19)15-7...   \n",
       "\n",
       "                          inchikey  \\\n",
       "6158   RONZAEMNMFQXRA-UHFFFAOYSA-N   \n",
       "6328   RONZAEMNMFQXRA-INIZCTEOSA-N   \n",
       "13826  DUIGUKRYYAGJAF-UHFFFAOYSA-N   \n",
       "13958  SWKDMSRRIBZZAY-UHFFFAOYSA-N   \n",
       "14093  RONZAEMNMFQXRA-INIZCTEOSA-N   \n",
       "22613  RONZAEMNMFQXRA-UHFFFAOYSA-N   \n",
       "33495  RONZAEMNMFQXRA-UHFFFAOYSA-N   \n",
       "33500  RONZAEMNMFQXRA-UHFFFAOYSA-N   \n",
       "33565  RONZAEMNMFQXRA-UHFFFAOYSA-N   \n",
       "33596  RONZAEMNMFQXRA-UHFFFAOYSA-N   \n",
       "33657  RONZAEMNMFQXRA-UHFFFAOYSA-N   \n",
       "33782  RONZAEMNMFQXRA-UHFFFAOYSA-N   \n",
       "34811  RONZAEMNMFQXRA-UHFFFAOYSA-N   \n",
       "\n",
       "                                           smiles  charge  \n",
       "6158               CN1CCN2C(C1)c3ccccc3Cc4cccnc24       1  \n",
       "6328          CN1CCN2[C@@H](C1)c1ccccc1Cc1cccnc21       1  \n",
       "13826  C(N(Cc1ccccc1)c2ccccc2)C3=NCCN3.OP(=O)(O)O       1  \n",
       "13958          C(N(Cc1ccccc1)c2ccccc2)C3=NCCN3.Cl       1  \n",
       "14093         CN1CCN2[C@@H](C1)c3ccccc3Cc4cccnc24       1  \n",
       "22613    C1C2=C(N3C(C4=C1C=CC=C4)CN(CC3)C)N=CC=C2       1  \n",
       "33495              CN1CCN2C(C1)c1ccccc1Cc1cccnc21       1  \n",
       "33500              CN1CCN2C(C1)c1ccccc1Cc1cccnc21       1  \n",
       "33565              CN1CCN2C(C1)c1ccccc1Cc1cccnc21       1  \n",
       "33596              CN1CCN2C(C1)c1ccccc1Cc1cccnc21       1  \n",
       "33657              CN1CCN2C(C1)c1ccccc1Cc1cccnc21       1  \n",
       "33782              CN1CCN2C(C1)c1ccccc1Cc1cccnc21       1  \n",
       "34811              CN1CCN2C(C1)c1ccccc1Cc1cccnc21       1  "
      ]
     },
     "execution_count": 196,
     "metadata": {},
     "output_type": "execute_result"
    }
   ],
   "source": [
    "library_spectra_metadata.iloc[mass_matches[3]]"
   ]
  },
  {
   "cell_type": "code",
   "execution_count": 212,
   "metadata": {},
   "outputs": [],
   "source": [
    "from gensim import corpora\n",
    "\n",
    "def vectorize_spectra(spectra,\n",
    "                      MS_library,\n",
    "                      num_decimals = 2,\n",
    "                      min_loss = 5.0, \n",
    "                      max_loss = 500.0,\n",
    "                      peak_loss_words = ['peak_', 'loss_'],\n",
    "                      extra_weights = True,\n",
    "                     weight_method = 'sqrt'):\n",
    "    \n",
    "    # Make document of spectrum\n",
    "    MS_documents, MS_documents_intensity, _ = MS_functions.create_MS_documents(spectra, \n",
    "                                                         num_decimals, \n",
    "                                                         peak_loss_words, \n",
    "                                                         min_loss, max_loss)\n",
    "    \n",
    "    corpus = [[word.lower() for word in document] for document in MS_documents]\n",
    "    \n",
    "    # Check if all words are included in trained word2vec model\n",
    "    dictionary = corpora.Dictionary(corpus)\n",
    "    \n",
    "    dictionary_lst = [dictionary[x] for x in dictionary]\n",
    "    test_vocab = []\n",
    "    for i, word in enumerate(dictionary_lst):                \n",
    "        if word not in MS_library.model_word2vec.wv.vocab:\n",
    "            test_vocab.append((i, word))\n",
    "            \n",
    "    if len(test_vocab) > 0:\n",
    "        print(\"Not all 'words' of the given documents are present in the trained word2vec model!\")\n",
    "        print(len(test_vocab), \" out of \", len(dictionary), \" 'words' were not found in the word2vec model.\")\n",
    "        print(\"'Words'missing in the pretrained word2vec model will be ignored.\")\n",
    "\n",
    "        _, missing_vocab = zip(*test_vocab)\n",
    "        print(\"Removing missing 'words' from corpus...\")\n",
    "        # Update corpus and BOW-corpus\n",
    "        corpus = [[word for word in document if word not in missing_vocab] for document in corpus]\n",
    "        bow_corpus = [dictionary.doc2bow(text) for text in corpus]\n",
    "    \n",
    "    vector_size = MS_library.model_word2vec.wv.vector_size\n",
    "    vectors_centroid = []\n",
    "        \n",
    "    for i in range(len(bow_corpus)):\n",
    "        if (i+1) % 10 == 0 or i == len(bow_corpus)-1:  # show progress\n",
    "            print('\\r', ' Calculated centroid vectors for ', i+1, ' of ', len(bow_corpus), ' documents.', end=\"\")\n",
    "\n",
    "        document = [dictionary[x[0]] for x in bow_corpus[i]]\n",
    "        if extra_weights:\n",
    "            document_weight = [MS_documents_intensity[i][MS_documents[i].index(dictionary[x[0]])] for x in bow_corpus[i]]\n",
    "            document_weight = np.array(document_weight)/np.max(document_weight)  # normalize\n",
    "            if len(document_weight) == 0:\n",
    "                print(\"Something might have gone wrong with: \", i)\n",
    "                np.ones((len(document)))\n",
    "            elif weight_method == 'sqrt':\n",
    "                document_weight = np.sqrt(document_weight)  # idea: take sqrt to make huge intensity differences less severe\n",
    "            elif weight_method is None:\n",
    "                pass\n",
    "            else:\n",
    "                print(\"Unkown weight adding method.\")\n",
    "        else:\n",
    "            document_weight = np.ones((len(document)))\n",
    "        if len(document) > 0:\n",
    "            term1 = MS_library.model_word2vec.wv[document]\n",
    "            #if tfidf_weighted:\n",
    "                #term2 = np.array(list(zip(*MS_library.tfidf[self.bow_corpus[i]]))[1])\n",
    "            #else:\n",
    "            term2 = np.ones((len(document)))\n",
    "\n",
    "            term1 = term1 * np.tile(document_weight, (vector_size,1)).T\n",
    "            weighted_docvector = np.sum((term1.T * term2).T, axis=0)\n",
    "        else:\n",
    "            weighted_docvector = np.zeros((MS_library.model_word2vec.vector_size))\n",
    "        vectors_centroid.append(weighted_docvector)\n",
    "\n",
    "    return np.array(vectors_centroid)      "
   ]
  },
  {
   "cell_type": "code",
   "execution_count": 213,
   "metadata": {},
   "outputs": [
    {
     "name": "stdout",
     "output_type": "stream",
     "text": [
      "  Created documents for  500  of  500  spectra.Not all 'words' of the given documents are present in the trained word2vec model!\n",
      "19  out of  42413  'words' were not found in the word2vec model.\n",
      "'Words'missing in the pretrained word2vec model will be ignored.\n",
      "Removing missing 'words' from corpus...\n",
      "  Calculated centroid vectors for  500  of  500  documents. of  500  documents."
     ]
    }
   ],
   "source": [
    "spectra_vectors = vectorize_spectra(spectra_unkown,\n",
    "                      MS_library,\n",
    "                      num_decimals = 2,\n",
    "                      min_loss = 5.0, \n",
    "                      max_loss = 500.0,\n",
    "                      peak_loss_words = ['peak_', 'loss_'],\n",
    "                      extra_weights = True)"
   ]
  },
  {
   "cell_type": "code",
   "execution_count": 220,
   "metadata": {},
   "outputs": [
    {
     "data": {
      "text/plain": [
       "((10, 300), (89726, 300))"
      ]
     },
     "execution_count": 220,
     "metadata": {},
     "output_type": "execute_result"
    }
   ],
   "source": [
    "spectra_vectors[:10,:].shape, MS_library.vectors_centroid.shape"
   ]
  },
  {
   "cell_type": "code",
   "execution_count": 221,
   "metadata": {},
   "outputs": [],
   "source": [
    "from scipy import spatial\n",
    "M_spec2vec_similairies = 1 - spatial.distance.cdist(MS_library.vectors_centroid, spectra_vectors[:10,:], 'cosine')"
   ]
  },
  {
   "cell_type": "code",
   "execution_count": 222,
   "metadata": {},
   "outputs": [
    {
     "data": {
      "text/plain": [
       "(89726, 10)"
      ]
     },
     "execution_count": 222,
     "metadata": {},
     "output_type": "execute_result"
    }
   ],
   "source": [
    "M_spec2vec_similairies.shape"
   ]
  }
 ],
 "metadata": {
  "kernelspec": {
   "display_name": "Python 3",
   "language": "python",
   "name": "python3"
  },
  "language_info": {
   "codemirror_mode": {
    "name": "ipython",
    "version": 3
   },
   "file_extension": ".py",
   "mimetype": "text/x-python",
   "name": "python",
   "nbconvert_exporter": "python",
   "pygments_lexer": "ipython3",
   "version": "3.6.8"
  }
 },
 "nbformat": 4,
 "nbformat_minor": 2
}
