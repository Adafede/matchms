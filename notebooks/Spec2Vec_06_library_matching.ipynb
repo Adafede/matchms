{
 "cells": [
  {
   "cell_type": "markdown",
   "metadata": {},
   "source": [
    "# Spec2Vec - library matching\n",
    "One very important use case for a spectral similariy measure is libarary matching.  \n",
    "This means matching previously unseen/unknown spectra to known, annotated sepctra in a larger library.\n",
    "\n",
    "## Sketch idea:\n",
    "1000 spectra are seleted and removed from the allGNPS_positive dataset.  \n",
    "Selection is made based on:  \n",
    "1. 1000 inchikeys which occur >1 times are selected randomly.\n",
    "2. For each of those inchikeys one spectrum is selected randomly."
   ]
  },
  {
   "cell_type": "markdown",
   "metadata": {},
   "source": [
    "### Importing, initializing..."
   ]
  },
  {
   "cell_type": "code",
   "execution_count": 1,
   "metadata": {},
   "outputs": [],
   "source": [
    "# Locations\n",
    "ROOT = \"C:\\\\OneDrive - Netherlands eScience Center\\\\Project_Wageningen_iOMEGA\"\n",
    "PATH_SPEC2VEC = ROOT + \"\\\\Spec2Vec\\\\code\\\\\"\n",
    "PATH_MS_DATA = ROOT + \"\\\\Data\\\\GNPS_all\\\\\"\n",
    "PATH_SAVE_MODEL = ROOT + \"\\\\Spec2Vec\\\\models_trained\\\\\"\n",
    "PATH_COMPUTED = ROOT + \"\\\\Spec2Vec\\\\computed_results\\\\\"\n",
    "PATH_OUTPUT = ROOT + \"\\\\Spec2Vec\\\\output_plots\\\\\""
   ]
  },
  {
   "cell_type": "code",
   "execution_count": 2,
   "metadata": {},
   "outputs": [],
   "source": [
    "import numpy as np\n",
    "import sys\n",
    "sys.path.insert(0, PATH_SPEC2VEC)"
   ]
  },
  {
   "cell_type": "code",
   "execution_count": 3,
   "metadata": {},
   "outputs": [],
   "source": [
    "import helper_functions as functions\n",
    "import MS_functions\n",
    "import MS_similarity_classical as MS_sim_classic\n",
    "from similarity_measure import SimilarityMeasures\n",
    "from plotting_functions import plot_precentile\n",
    "\n",
    "from scipy import spatial"
   ]
  },
  {
   "cell_type": "markdown",
   "metadata": {},
   "source": [
    "### Load filtered allGNPS_positive dataset OR:  Import& filter allGNPS_positive dataset"
   ]
  },
  {
   "cell_type": "code",
   "execution_count": 4,
   "metadata": {},
   "outputs": [
    {
     "name": "stdout",
     "output_type": "stream",
     "text": [
      "Spectra json file found and loaded.\n"
     ]
    }
   ],
   "source": [
    "file_json = PATH_MS_DATA + \"allGNPS_positive_minmax_10_1000_2dec_exp08_191115.json\"\n",
    "file_mgf = ROOT + \"\\\\Data\\\\GNPS_all\\\\\" + \"allGNPS_positive_191106.mgf\"\n",
    "\n",
    "spectra, spectra_dict, MS_documents, MS_documents_intensity, spectra_metadata = MS_functions.load_MGF_data(file_mgf = file_mgf,\n",
    "                                                           file_json = file_json,\n",
    "                                                           num_decimals = 2,\n",
    "                                                           min_frag = 0.0, max_frag = 1000.0,\n",
    "                                                           min_loss = 5.0, max_loss = 500.0,\n",
    "                                                           min_intensity_perc = 0,\n",
    "                                                           exp_intensity_filter = 0.8,\n",
    "                                                           min_keep_peaks_0 = 10,\n",
    "                                                           min_keep_peaks_per_mz = 20/200,\n",
    "                                                           min_peaks = 10,\n",
    "                                                           max_peaks = 1000,\n",
    "                                                           peak_loss_words = ['peak_', 'loss_'])"
   ]
  },
  {
   "cell_type": "code",
   "execution_count": 5,
   "metadata": {},
   "outputs": [
    {
     "data": {
      "text/html": [
       "<div>\n",
       "<style scoped>\n",
       "    .dataframe tbody tr th:only-of-type {\n",
       "        vertical-align: middle;\n",
       "    }\n",
       "\n",
       "    .dataframe tbody tr th {\n",
       "        vertical-align: top;\n",
       "    }\n",
       "\n",
       "    .dataframe thead th {\n",
       "        text-align: right;\n",
       "    }\n",
       "</style>\n",
       "<table border=\"1\" class=\"dataframe\">\n",
       "  <thead>\n",
       "    <tr style=\"text-align: right;\">\n",
       "      <th></th>\n",
       "      <th>doc_ID</th>\n",
       "      <th>gnps_ID</th>\n",
       "      <th>name</th>\n",
       "      <th>title</th>\n",
       "      <th>precursor_mz</th>\n",
       "      <th>num_peaks_losses</th>\n",
       "      <th>inchi</th>\n",
       "      <th>inchikey</th>\n",
       "      <th>smiles</th>\n",
       "      <th>charge</th>\n",
       "    </tr>\n",
       "  </thead>\n",
       "  <tbody>\n",
       "    <tr>\n",
       "      <th>0</th>\n",
       "      <td>0</td>\n",
       "      <td>CCMSLIB00005435503</td>\n",
       "      <td>chenodeoxycholic acid M-H2O+H</td>\n",
       "      <td>NaN</td>\n",
       "      <td>375.290</td>\n",
       "      <td>93</td>\n",
       "      <td>\"InChI=1S/C24H40O4/c1-14(4-7-21(27)28)17-5-6-1...</td>\n",
       "      <td>RUDATBOHQWOJDD-GYHJSIKNSA-N</td>\n",
       "      <td>C[C@H](CCC(=O)O)[C@H]1CC[C@@H]2[C@@]1(CC[C@H]3...</td>\n",
       "      <td>1</td>\n",
       "    </tr>\n",
       "    <tr>\n",
       "      <th>1</th>\n",
       "      <td>1</td>\n",
       "      <td>CCMSLIB00005435504</td>\n",
       "      <td>chenodeoxycholic acid 2M+H</td>\n",
       "      <td>NaN</td>\n",
       "      <td>785.593</td>\n",
       "      <td>101</td>\n",
       "      <td>\"InChI=1S/C24H40O4/c1-14(4-7-21(27)28)17-5-6-1...</td>\n",
       "      <td>RUDATBOHQWOJDD-PODLAYBOSA-N</td>\n",
       "      <td>C[C@H](CCC(=O)O)[C@H]1CC[C@@H]2[C@@]1(CC[C@H]3...</td>\n",
       "      <td>1</td>\n",
       "    </tr>\n",
       "    <tr>\n",
       "      <th>2</th>\n",
       "      <td>2</td>\n",
       "      <td>CCMSLIB00005435505</td>\n",
       "      <td>chenodeoxycholic acid 2M+Na</td>\n",
       "      <td>NaN</td>\n",
       "      <td>807.575</td>\n",
       "      <td>21</td>\n",
       "      <td>\"InChI=1S/C24H40O4/c1-14(4-7-21(27)28)17-5-6-1...</td>\n",
       "      <td>RUDATBOHQWOJDD-PODLAYBOSA-N</td>\n",
       "      <td>C[C@H](CCC(=O)O)[C@H]1CC[C@@H]2[C@@]1(CC[C@H]3...</td>\n",
       "      <td>1</td>\n",
       "    </tr>\n",
       "    <tr>\n",
       "      <th>3</th>\n",
       "      <td>3</td>\n",
       "      <td>CCMSLIB00005435506</td>\n",
       "      <td>cholic acid M+Na</td>\n",
       "      <td>NaN</td>\n",
       "      <td>431.277</td>\n",
       "      <td>35</td>\n",
       "      <td>\"InChI=1S/C24H40O5/c1-13(4-7-21(28)29)16-5-6-1...</td>\n",
       "      <td>BHQCQFFYRZLCQQ-IHELEQLESA-N</td>\n",
       "      <td>C[C@H](CCC(=O)O)[C@H]1CC[C@@H]2[C@@]1([C@H](C[...</td>\n",
       "      <td>1</td>\n",
       "    </tr>\n",
       "    <tr>\n",
       "      <th>4</th>\n",
       "      <td>4</td>\n",
       "      <td>CCMSLIB00005435507</td>\n",
       "      <td>deoxycholic acid M-H2O+H</td>\n",
       "      <td>NaN</td>\n",
       "      <td>375.289</td>\n",
       "      <td>157</td>\n",
       "      <td>\"InChI=1S/C24H40O4/c1-14(4-9-22(27)28)18-7-8-1...</td>\n",
       "      <td>KXGVEGMKQFWNSR-BKAWJTANSA-N</td>\n",
       "      <td>C[C@H](CCC(=O)O)[C@H]1CC[C@@H]2[C@@]1([C@H](C[...</td>\n",
       "      <td>1</td>\n",
       "    </tr>\n",
       "  </tbody>\n",
       "</table>\n",
       "</div>"
      ],
      "text/plain": [
       "   doc_ID             gnps_ID                           name title  \\\n",
       "0       0  CCMSLIB00005435503  chenodeoxycholic acid M-H2O+H   NaN   \n",
       "1       1  CCMSLIB00005435504     chenodeoxycholic acid 2M+H   NaN   \n",
       "2       2  CCMSLIB00005435505    chenodeoxycholic acid 2M+Na   NaN   \n",
       "3       3  CCMSLIB00005435506               cholic acid M+Na   NaN   \n",
       "4       4  CCMSLIB00005435507       deoxycholic acid M-H2O+H   NaN   \n",
       "\n",
       "   precursor_mz  num_peaks_losses  \\\n",
       "0       375.290                93   \n",
       "1       785.593               101   \n",
       "2       807.575                21   \n",
       "3       431.277                35   \n",
       "4       375.289               157   \n",
       "\n",
       "                                               inchi  \\\n",
       "0  \"InChI=1S/C24H40O4/c1-14(4-7-21(27)28)17-5-6-1...   \n",
       "1  \"InChI=1S/C24H40O4/c1-14(4-7-21(27)28)17-5-6-1...   \n",
       "2  \"InChI=1S/C24H40O4/c1-14(4-7-21(27)28)17-5-6-1...   \n",
       "3  \"InChI=1S/C24H40O5/c1-13(4-7-21(28)29)16-5-6-1...   \n",
       "4  \"InChI=1S/C24H40O4/c1-14(4-9-22(27)28)18-7-8-1...   \n",
       "\n",
       "                      inchikey  \\\n",
       "0  RUDATBOHQWOJDD-GYHJSIKNSA-N   \n",
       "1  RUDATBOHQWOJDD-PODLAYBOSA-N   \n",
       "2  RUDATBOHQWOJDD-PODLAYBOSA-N   \n",
       "3  BHQCQFFYRZLCQQ-IHELEQLESA-N   \n",
       "4  KXGVEGMKQFWNSR-BKAWJTANSA-N   \n",
       "\n",
       "                                              smiles  charge  \n",
       "0  C[C@H](CCC(=O)O)[C@H]1CC[C@@H]2[C@@]1(CC[C@H]3...       1  \n",
       "1  C[C@H](CCC(=O)O)[C@H]1CC[C@@H]2[C@@]1(CC[C@H]3...       1  \n",
       "2  C[C@H](CCC(=O)O)[C@H]1CC[C@@H]2[C@@]1(CC[C@H]3...       1  \n",
       "3  C[C@H](CCC(=O)O)[C@H]1CC[C@@H]2[C@@]1([C@H](C[...       1  \n",
       "4  C[C@H](CCC(=O)O)[C@H]1CC[C@@H]2[C@@]1([C@H](C[...       1  "
      ]
     },
     "execution_count": 5,
     "metadata": {},
     "output_type": "execute_result"
    }
   ],
   "source": [
    "spectra_metadata.head()"
   ]
  },
  {
   "cell_type": "markdown",
   "metadata": {},
   "source": [
    "## Evaluate inchikey occurences\n",
    "\n",
    "### Get all inchikeys from metadata table. Only look at first 14 characters."
   ]
  },
  {
   "cell_type": "code",
   "execution_count": 6,
   "metadata": {},
   "outputs": [
    {
     "data": {
      "text/plain": [
       "(50195,)"
      ]
     },
     "execution_count": 6,
     "metadata": {},
     "output_type": "execute_result"
    }
   ],
   "source": [
    "inchikeys_pd = spectra_metadata['inchikey'][spectra_metadata['inchikey'].notnull()]\n",
    "inchikeys_pd.shape"
   ]
  },
  {
   "cell_type": "code",
   "execution_count": 7,
   "metadata": {},
   "outputs": [
    {
     "data": {
      "text/plain": [
       "90216    CCQDWIRWKWIUKK\n",
       "90217    RPVIQWDFJPYNJM\n",
       "90218    BXEZTCOKOLHMKY\n",
       "90219    BXEZTCOKOLHMKY\n",
       "90220    PVXPPJIGRGXGCY\n",
       "90221    ATEFPOUAMCWAQS\n",
       "90222    ILEDWLMCKZNDJK\n",
       "90223    ILEDWLMCKZNDJK\n",
       "90224    NCJNNMWJQIKYLO\n",
       "90225    LNCLTICCQWMCNS\n",
       "Name: inchikey, dtype: object"
      ]
     },
     "execution_count": 7,
     "metadata": {},
     "output_type": "execute_result"
    }
   ],
   "source": [
    "inchikeys_pd.str[:14][-10:]"
   ]
  },
  {
   "cell_type": "markdown",
   "metadata": {},
   "source": [
    "### Get number of occurences for all inchikey (first 14 letters)"
   ]
  },
  {
   "cell_type": "code",
   "execution_count": 8,
   "metadata": {},
   "outputs": [
    {
     "data": {
      "text/plain": [
       "PFTAWBLQPZVEMU    63\n",
       "KMPWYEUPVWOPIM    57\n",
       "MPDGHEJMBKOTSU    49\n",
       "DFPMSGMNTNDNHN    46\n",
       "TZBJGXHYKVUXJN    46\n",
       "OXGUCUVFOIWWQJ    45\n",
       "LJOQGZACKSYWCH    45\n",
       "RYYVLZVUVIJVGH    45\n",
       "HPNSFSBZBAHARI    43\n",
       "QEVHRUUCFGRFIF    43\n",
       "Name: inchikey, dtype: int64"
      ]
     },
     "execution_count": 8,
     "metadata": {},
     "output_type": "execute_result"
    }
   ],
   "source": [
    "inchikeys_pd.str[:14].value_counts()[:10]"
   ]
  },
  {
   "cell_type": "markdown",
   "metadata": {},
   "source": [
    "### Plot histogram of inchikey occurences"
   ]
  },
  {
   "cell_type": "code",
   "execution_count": 9,
   "metadata": {},
   "outputs": [
    {
     "data": {
      "text/plain": [
       "Text(0, 0.5, 'Number of inchikeys with respective number of occurences')"
      ]
     },
     "execution_count": 9,
     "metadata": {},
     "output_type": "execute_result"
    },
    {
     "data": {
      "image/png": "[encoded data removed]",
      "text/plain": [
       "<Figure size 864x432 with 1 Axes>"
      ]
     },
     "metadata": {
      "needs_background": "light"
     },
     "output_type": "display_data"
    }
   ],
   "source": [
    "from matplotlib import pyplot as plt\n",
    "plt.figure(figsize=(12,6))\n",
    "plt.hist(inchikeys_pd.str[:14].value_counts(), 62)\n",
    "plt.xlabel('Number of occurences of inchikey')\n",
    "plt.ylabel('Number of inchikeys with respective number of occurences')"
   ]
  },
  {
   "cell_type": "markdown",
   "metadata": {},
   "source": [
    "## Select spectra to simulate libarary matching"
   ]
  },
  {
   "cell_type": "code",
   "execution_count": 10,
   "metadata": {},
   "outputs": [
    {
     "data": {
      "text/html": [
       "<div>\n",
       "<style scoped>\n",
       "    .dataframe tbody tr th:only-of-type {\n",
       "        vertical-align: middle;\n",
       "    }\n",
       "\n",
       "    .dataframe tbody tr th {\n",
       "        vertical-align: top;\n",
       "    }\n",
       "\n",
       "    .dataframe thead th {\n",
       "        text-align: right;\n",
       "    }\n",
       "</style>\n",
       "<table border=\"1\" class=\"dataframe\">\n",
       "  <thead>\n",
       "    <tr style=\"text-align: right;\">\n",
       "      <th></th>\n",
       "      <th>inchikey14</th>\n",
       "      <th>occurences</th>\n",
       "    </tr>\n",
       "  </thead>\n",
       "  <tbody>\n",
       "    <tr>\n",
       "      <th>0</th>\n",
       "      <td>PFTAWBLQPZVEMU</td>\n",
       "      <td>63</td>\n",
       "    </tr>\n",
       "    <tr>\n",
       "      <th>1</th>\n",
       "      <td>KMPWYEUPVWOPIM</td>\n",
       "      <td>57</td>\n",
       "    </tr>\n",
       "    <tr>\n",
       "      <th>2</th>\n",
       "      <td>MPDGHEJMBKOTSU</td>\n",
       "      <td>49</td>\n",
       "    </tr>\n",
       "    <tr>\n",
       "      <th>4</th>\n",
       "      <td>TZBJGXHYKVUXJN</td>\n",
       "      <td>46</td>\n",
       "    </tr>\n",
       "    <tr>\n",
       "      <th>3</th>\n",
       "      <td>DFPMSGMNTNDNHN</td>\n",
       "      <td>46</td>\n",
       "    </tr>\n",
       "    <tr>\n",
       "      <th>7</th>\n",
       "      <td>RYYVLZVUVIJVGH</td>\n",
       "      <td>45</td>\n",
       "    </tr>\n",
       "    <tr>\n",
       "      <th>5</th>\n",
       "      <td>OXGUCUVFOIWWQJ</td>\n",
       "      <td>45</td>\n",
       "    </tr>\n",
       "    <tr>\n",
       "      <th>6</th>\n",
       "      <td>LJOQGZACKSYWCH</td>\n",
       "      <td>45</td>\n",
       "    </tr>\n",
       "    <tr>\n",
       "      <th>11</th>\n",
       "      <td>REFJWTPEDVJJIY</td>\n",
       "      <td>43</td>\n",
       "    </tr>\n",
       "    <tr>\n",
       "      <th>9</th>\n",
       "      <td>QEVHRUUCFGRFIF</td>\n",
       "      <td>43</td>\n",
       "    </tr>\n",
       "    <tr>\n",
       "      <th>10</th>\n",
       "      <td>LOUPRKONTZGTKE</td>\n",
       "      <td>43</td>\n",
       "    </tr>\n",
       "    <tr>\n",
       "      <th>8</th>\n",
       "      <td>HPNSFSBZBAHARI</td>\n",
       "      <td>43</td>\n",
       "    </tr>\n",
       "    <tr>\n",
       "      <th>12</th>\n",
       "      <td>QGXBDMJGAMFCBF</td>\n",
       "      <td>42</td>\n",
       "    </tr>\n",
       "    <tr>\n",
       "      <th>13</th>\n",
       "      <td>RKUNBYITZUJHSG</td>\n",
       "      <td>41</td>\n",
       "    </tr>\n",
       "    <tr>\n",
       "      <th>15</th>\n",
       "      <td>RCINICONZNJXQF</td>\n",
       "      <td>41</td>\n",
       "    </tr>\n",
       "  </tbody>\n",
       "</table>\n",
       "</div>"
      ],
      "text/plain": [
       "        inchikey14  occurences\n",
       "0   PFTAWBLQPZVEMU          63\n",
       "1   KMPWYEUPVWOPIM          57\n",
       "2   MPDGHEJMBKOTSU          49\n",
       "4   TZBJGXHYKVUXJN          46\n",
       "3   DFPMSGMNTNDNHN          46\n",
       "7   RYYVLZVUVIJVGH          45\n",
       "5   OXGUCUVFOIWWQJ          45\n",
       "6   LJOQGZACKSYWCH          45\n",
       "11  REFJWTPEDVJJIY          43\n",
       "9   QEVHRUUCFGRFIF          43\n",
       "10  LOUPRKONTZGTKE          43\n",
       "8   HPNSFSBZBAHARI          43\n",
       "12  QGXBDMJGAMFCBF          42\n",
       "13  RKUNBYITZUJHSG          41\n",
       "15  RCINICONZNJXQF          41"
      ]
     },
     "execution_count": 10,
     "metadata": {},
     "output_type": "execute_result"
    }
   ],
   "source": [
    "import pandas as pd\n",
    "\n",
    "suitable_inchikeys = pd.DataFrame(inchikeys_pd.str[:14].value_counts()[inchikeys_pd.str[:14].value_counts().values > 1])\n",
    "suitable_inchikeys.reset_index(level=suitable_inchikeys.index.names, inplace=True)\n",
    "suitable_inchikeys.columns = (['inchikey14', 'occurences'])\n",
    "\n",
    "# Important: sort values to make it reproducible (same occurences have random order otherwise!)\n",
    "suitable_inchikeys = suitable_inchikeys.sort_values(['occurences', 'inchikey14'], ascending=False)\n",
    "suitable_inchikeys.head(15)"
   ]
  },
  {
   "cell_type": "code",
   "execution_count": 11,
   "metadata": {},
   "outputs": [
    {
     "name": "stdout",
     "output_type": "stream",
     "text": [
      "Number of spectra with inchikeys that exist >1 times: 5998\n"
     ]
    }
   ],
   "source": [
    "print(\"Number of spectra with inchikeys that exist >1 times:\", suitable_inchikeys.shape[0])"
   ]
  },
  {
   "cell_type": "markdown",
   "metadata": {},
   "source": [
    "### Randomly select 1000 inchikeys that exist >1 times in the dataset"
   ]
  },
  {
   "cell_type": "code",
   "execution_count": 12,
   "metadata": {},
   "outputs": [
    {
     "name": "stdout",
     "output_type": "stream",
     "text": [
      "[  84 2409 4996  346   79  994 4951 4078 3940 1870 4463  752 1747 3651\n",
      " 1235 5426 3161 5606 3307 3194 5365 3235  530 1580 3921]\n"
     ]
    },
    {
     "data": {
      "text/plain": [
       "array(['COLNVLDHVKWLRT', 'NOCJXYPHIIZEHN', 'PILWRMVFWRVMAP',\n",
       "       'TVKGYMYAOVADOP', 'YFGYUFNIOHWBOB', 'DHVXMTMJTVCPBB',\n",
       "       'QAUDHOGPLBDVAX', 'HUSISCNTLUEZCN', 'LVTJOONKWUXEFR',\n",
       "       'XDRYMKDFEDOLFX', 'XTQOUVPIWQGVEJ', 'SUAPQGLGNKUSLY',\n",
       "       'HGVAHYJMDVROLE', 'VJLVPUFVTPJHDI', 'NRQCIBSGSINRCF',\n",
       "       'JCHUCLMYSKXMOY', 'AEMOLEFTQBMNLQ', 'GQZDMSIXKBSDIE',\n",
       "       'OTCCIMWXFLJLIA', 'YFGBQHOOROIVKG', 'KBJKWXDTUOJWAI',\n",
       "       'VCKUSRYTPJJLNI', 'OJDSCNUKKOKOQJ', 'PYMYPHUHKUWMLA',\n",
       "       'MDJRZSNPHZEMJH'], dtype=object)"
      ]
     },
     "execution_count": 12,
     "metadata": {},
     "output_type": "execute_result"
    }
   ],
   "source": [
    "num_spectra = 1000\n",
    "\n",
    "np.random.seed(42) # to make it reproducible\n",
    "selection = np.random.choice(suitable_inchikeys.shape[0], num_spectra, replace=False)\n",
    "print(selection[:25])\n",
    "selected_inchikeys = suitable_inchikeys['inchikey14'].values[selection]\n",
    "selected_inchikeys[:25]"
   ]
  },
  {
   "cell_type": "markdown",
   "metadata": {},
   "source": [
    "### Randomly pick one spectra for each of the chosen inchikeys"
   ]
  },
  {
   "cell_type": "code",
   "execution_count": 13,
   "metadata": {},
   "outputs": [],
   "source": [
    "selected_spectra = []\n",
    "\n",
    "np.random.seed(42) # to make it reproducible\n",
    "for inchikey in selected_inchikeys:\n",
    "    matches = inchikeys_pd[inchikeys_pd.str[:14] == inchikey].index.values\n",
    "    selected_spectra.append(int(np.random.choice(matches,1)[0]))"
   ]
  },
  {
   "cell_type": "code",
   "execution_count": 14,
   "metadata": {},
   "outputs": [
    {
     "data": {
      "text/plain": [
       "24236    CCMSLIB00000205644\n",
       "33851    CCMSLIB00000569056\n",
       "12382    CCMSLIB00000853997\n",
       "39733    CCMSLIB00004696408\n",
       "26281    CCMSLIB00000210444\n",
       "43418    CCMSLIB00004701023\n",
       "8396     CCMSLIB00000846515\n",
       "11820    CCMSLIB00000852861\n",
       "13423    CCMSLIB00000856134\n",
       "30103    CCMSLIB00000221327\n",
       "Name: gnps_ID, dtype: object"
      ]
     },
     "execution_count": 14,
     "metadata": {},
     "output_type": "execute_result"
    }
   ],
   "source": [
    "# Show gnps IDs for selected spectra\n",
    "spectra_metadata[\"gnps_ID\"][selected_spectra][:10]"
   ]
  },
  {
   "cell_type": "markdown",
   "metadata": {},
   "source": [
    "## Train new Spec2Vec model on dataset without the selected spectra"
   ]
  },
  {
   "cell_type": "code",
   "execution_count": null,
   "metadata": {},
   "outputs": [],
   "source": [
    "# Remove selected spectra from corpus\n",
    "MS_docs_removedpart = [MS_documents[x] for x in range(len(MS_documents)) if x not in selected_spectra]\n",
    "MS_docs_intensity_removedpart = [MS_documents_intensity[x] for x in range(len(MS_documents)) if x not in selected_spectra]   \n",
    "print(\"Modified corpus consists of\", len(MS_docs_removedpart), \"documents.\")\n",
    "\n",
    "MS_library = SimilarityMeasures(MS_docs_removedpart, MS_docs_intensity_removedpart)\n",
    "MS_library.preprocess_documents(1, min_frequency = 2, create_stopwords = False)\n",
    "print(\"Number of unique words: \", len(MS_library.dictionary))\n",
    "\n",
    "# Train new model based on reduced corpus\n",
    "file_model_word2vec = PATH_SAVE_MODEL + 'S2V_allGNPS_pos_librarymatching_d300_w500_neg5_minmax10_1000_dec2_exp08.model'\n",
    "MS_library.build_model_word2vec(file_model_word2vec, sg=0, negative=5, size=300, window=500, \n",
    "                             min_count=1, workers=4, iterations= [10,5], \n",
    "                             use_stored_model=True)\n",
    "print(\"Learning rate droped from\", MS_library.model_word2vec.alpha, \"to\", MS_library.model_word2vec.min_alpha_yet_reached)"
   ]
  },
  {
   "cell_type": "markdown",
   "metadata": {},
   "source": [
    "### or load already trained model..."
   ]
  },
  {
   "cell_type": "code",
   "execution_count": 17,
   "metadata": {},
   "outputs": [
    {
     "name": "stdout",
     "output_type": "stream",
     "text": [
      "Modified corpus consists of 89726 documents.\n",
      "Preprocess documents...\n",
      "Number of unique words:  145580\n",
      "Load stored word2vec model ...\n"
     ]
    }
   ],
   "source": [
    "# Remove selected spectra from corpus\n",
    "MS_docs_removedpart = [MS_documents[x] for x in range(len(MS_documents)) if x not in selected_spectra]\n",
    "MS_docs_intensity_removedpart = [MS_documents_intensity[x] for x in range(len(MS_documents)) if x not in selected_spectra]   \n",
    "print(\"Modified corpus consists of\", len(MS_docs_removedpart), \"documents.\")\n",
    "\n",
    "MS_library = SimilarityMeasures(MS_docs_removedpart, MS_docs_intensity_removedpart)\n",
    "MS_library.preprocess_documents(1, min_frequency = 2, create_stopwords = False)\n",
    "print(\"Number of unique words: \", len(MS_library.dictionary))\n",
    "\n",
    "# Train new model based on reduced corpus\n",
    "file_model_word2vec = PATH_SAVE_MODEL + 'S2V_allGNPS_pos_librarymatching_d300_w500_neg5_minmax10_1000_dec2_exp08_iter_15.model'\n",
    "MS_library.build_model_word2vec(file_model_word2vec, sg=0, negative=5, size=300, window=500, \n",
    "                             min_count=1, workers=4, iterations= [10,5], \n",
    "                             use_stored_model=True)\n"
   ]
  },
  {
   "cell_type": "markdown",
   "metadata": {},
   "source": [
    "## Calculate Spec2Vec spectra vectors for all library spectra"
   ]
  },
  {
   "cell_type": "code",
   "execution_count": 18,
   "metadata": {},
   "outputs": [
    {
     "name": "stdout",
     "output_type": "stream",
     "text": [
      "All 'words' of the given documents were found in the trained word2vec model.\n",
      "  Calculated centroid vectors for  89226  of  89226  documents.89226  documents.  of  89226  documents. 3840  of  89226  documents. documents.  documents. 5890  of  89226  documents.  documents. documents.89226  documents. of  89226  documents. 89226  documents. documents. of  89226  documents.89226  documents. 89226  documents.89226  documents.  documents. Calculated centroid vectors for  17100  of  89226  documents.89226  documents.89226  documents. documents.  of  89226  documents. 89226  documents.  of  89226  documents. Calculated centroid vectors for  23360  of  89226  documents. of  89226  documents. of  89226  documents. of  89226  documents.  documents. of  89226  documents. 31250  of  89226  documents. of  89226  documents. 89226  documents. Calculated centroid vectors for  34670  of  89226  documents. documents. of  89226  documents. 89226  documents.  documents. documents.89226  documents.89226  documents.  documents.38130  of  89226  documents.89226  documents. documents. documents. 89226  documents. of  89226  documents.89226  documents.  of  89226  documents.89226  documents. of  89226  documents. documents. Calculated centroid vectors for  42500  of  89226  documents. 89226  documents. of  89226  documents.  of  89226  documents.  of  89226  documents. of  89226  documents. 89226  documents.89226  documents.46430  of  89226  documents.  documents.89226  documents.  documents.89226  documents. documents. documents.89226  documents.  of  89226  documents. documents.  documents. documents.89226  documents.89226  documents.  documents. of  89226  documents. 89226  documents. documents. 61170  of  89226  documents. documents.  documents.68220  of  89226  documents.89226  documents.89226  documents. of  89226  documents. Calculated centroid vectors for  71250  of  89226  documents.89226  documents.71960  of  89226  documents. Calculated centroid vectors for  72140  of  89226  documents.  documents.  documents. 89226  documents. documents. documents. 89226  documents. documents. 89226  documents. of  89226  documents.83770  of  89226  documents.  documents. 86840  of  89226  documents.  documents."
     ]
    }
   ],
   "source": [
    "MS_library.get_vectors_centroid(method = 'ignore', \n",
    "                                 tfidf_weighted = False, \n",
    "                                 weighting_power = 0.5, \n",
    "                                 tfidf_model = None,\n",
    "                                 extra_epochs = 1)"
   ]
  },
  {
   "cell_type": "markdown",
   "metadata": {},
   "source": [
    "---\n",
    "### Save MS_library object with S2V model and calculated spectra vectors\n",
    "This will save the entire SimilarityMeasures class object: MS_library."
   ]
  },
  {
   "cell_type": "code",
   "execution_count": 20,
   "metadata": {},
   "outputs": [],
   "source": [
    "MS_library.save(PATH_COMPUTED + 'MS_library_matching_unkown_spectra_191127.obj')"
   ]
  },
  {
   "cell_type": "markdown",
   "metadata": {},
   "source": [
    "---\n",
    "### Or load MS_library object if already processed before..."
   ]
  },
  {
   "cell_type": "code",
   "execution_count": 17,
   "metadata": {},
   "outputs": [],
   "source": [
    "MS_library = SimilarityMeasures([])\n",
    "MS_library.load(PATH_COMPUTED + 'MS_library_matching_unkown_spectra_191127.obj')"
   ]
  },
  {
   "cell_type": "markdown",
   "metadata": {},
   "source": [
    "### Create library data by removing selected spectra"
   ]
  },
  {
   "cell_type": "code",
   "execution_count": 18,
   "metadata": {},
   "outputs": [
    {
     "data": {
      "text/plain": [
       "(89226, 10)"
      ]
     },
     "execution_count": 18,
     "metadata": {},
     "output_type": "execute_result"
    }
   ],
   "source": [
    "library_spectra_IDs = [x for x in range(len(spectra)) if x not in selected_spectra]\n",
    "library_spectra_metadata = spectra_metadata.loc[library_spectra_IDs]\n",
    "\n",
    "library_spectra_metadata.shape"
   ]
  },
  {
   "cell_type": "code",
   "execution_count": 19,
   "metadata": {},
   "outputs": [
    {
     "name": "stdout",
     "output_type": "stream",
     "text": [
      "Number of 'unknown' spectra: 1000\n",
      "Number of reference spectra in library: 89226\n"
     ]
    }
   ],
   "source": [
    "spectra_unknown = [spectra[x] for x in selected_spectra]\n",
    "spectra_library = [spectra[x] for x in range(len(spectra)) if x not in selected_spectra]\n",
    "print(\"Number of 'unknown' spectra:\", len(spectra_unknown))\n",
    "print(\"Number of reference spectra in library:\", len(spectra_library))"
   ]
  },
  {
   "cell_type": "markdown",
   "metadata": {},
   "source": [
    "### Define function for library matching (to be moved to core code...)"
   ]
  },
  {
   "cell_type": "code",
   "execution_count": 15,
   "metadata": {},
   "outputs": [],
   "source": [
    "def library_matching(spectra_query, \n",
    "                     spectra_library,\n",
    "                     library_spectra_metadata, \n",
    "                     MS_library, \n",
    "                     top_n = 10,\n",
    "                     mz_ppm = 10,\n",
    "                     spectra_vectors = None,\n",
    "                     ignore_non_annotated = True,\n",
    "                     cosine_tol = 0.005):\n",
    "    \"\"\"\n",
    "    Function to select potential spectra matches.\n",
    "    Suitable candidates will be selected by 1) top_n Spec2Vec similarity, and 2) same precursor mass \n",
    "    (within given mz_ppm tolerance(s)). \n",
    "    For later matching routines, additional scores (cosine, modified cosine) are added as well.\n",
    "    \n",
    "    Args:\n",
    "    --------\n",
    "    \"\"\"\n",
    "    \n",
    "    # Check input data\n",
    "    if len(spectra_library) != library_spectra_metadata.shape[0]:\n",
    "        print(\"Warning! Library spectra metadata input does not match given library spectra.\")\n",
    "    if len(spectra_library) != len(MS_library.corpus):\n",
    "        print(\"Warning! Library spectra input does not match dimension of given MS_library object.\")\n",
    "    if MS_library.vectors_centroid.shape[0] != library_spectra_metadata.shape[0]:\n",
    "        print(\"Warning! Number of found Spec2Vec spectral vectors does not agree with library metadata dimension.\")\n",
    "    if spectra_vectors is None:\n",
    "        print(\"No Spec2Vec spectra vectors found for query data. Please do so using the vectorize_spectra() function\")\n",
    "\n",
    "    \n",
    "    # Initializations\n",
    "    found_matches = []\n",
    "    S2V_matches = []\n",
    "    \n",
    "    if ignore_non_annotated:\n",
    "        # Get array of all IDs for spectra with smiles\n",
    "        annotated_spectra_IDs = np.where(library_spectra_metadata['smiles'].isna().values == False)[0]\n",
    "    \n",
    "    # --------------------------------------------------------------------------\n",
    "    # 1. Search for top-n Spec2Vec matches -------------------------------------\n",
    "    # --------------------------------------------------------------------------\n",
    "    \n",
    "    #Check if Spec2Vec vectors are present for library\n",
    "    if len(MS_library.vectors_centroid) == 0:\n",
    "        print(\"Apparently Spec2Vec spectra vectors have not yet been derived for library data.\")\n",
    "        print(\"Spec2Vec spectra vectors will be calculated using default parameters.\")\n",
    "        MS_library.get_vectors_centroid(method = 'ignore', \n",
    "                                         extra_weights = None, \n",
    "                                         tfidf_weighted = False, \n",
    "                                         weight_method = 'sqrt', \n",
    "                                         tfidf_model = None,\n",
    "                                         extra_epochs = 1)\n",
    "    else:\n",
    "        print(\"Spec2Vec spectra vectors found for library data.\")\n",
    "\n",
    "    if ignore_non_annotated:\n",
    "        library_vectors = MS_library.vectors_centroid[annotated_spectra_IDs]\n",
    "    else:\n",
    "        library_vectors = MS_library.vectors_centroid\n",
    "    M_spec2vec_similairies = 1 - spatial.distance.cdist(library_vectors, spectra_vectors, 'cosine')\n",
    "\n",
    "    # Select top_n similarity values:\n",
    "    Top_n = np.argpartition(M_spec2vec_similairies, -top_n, axis=0)[-top_n:,:]\n",
    "\n",
    "    # Sort selected values by order\n",
    "    for i in range(len(spectra_query)):\n",
    "        Top_n_sorted = Top_n[:,i][np.argsort(M_spec2vec_similairies[Top_n[:,i],i])][::-1]\n",
    "        if ignore_non_annotated:\n",
    "            Top_n_corrected_IDs = annotated_spectra_IDs[Top_n_sorted]\n",
    "        else:\n",
    "            Top_n_corrected_IDs = Top_n_sorted\n",
    "\n",
    "        S2V_match = list(zip(Top_n_corrected_IDs, M_spec2vec_similairies[Top_n_sorted,i]))\n",
    "        S2V_matches.append(S2V_match)\n",
    "                  \n",
    "    # --------------------------------------------------------------------------\n",
    "    # 2. Search for precursor mz based matches --------------------------------\n",
    "    # --------------------------------------------------------------------------\n",
    "    if ignore_non_annotated:\n",
    "        library_masses = library_spectra_metadata['precursor_mz'].values[annotated_spectra_IDs]\n",
    "    else:\n",
    "        library_masses = library_spectra_metadata['precursor_mz'].values\n",
    "        \n",
    "    if not isinstance(mz_ppm, list):\n",
    "        mz_ppm = [mz_ppm]\n",
    "    mz_ppm = sorted(mz_ppm)[::-1]\n",
    "    \n",
    "    mass_matches_ppms = []\n",
    "    for ppm in mz_ppm:\n",
    "        library_masses_tol = library_masses * ppm/1e6\n",
    "        mass_matches = []\n",
    "            \n",
    "        # Get precursor mz for query spectra\n",
    "        precursor_mz_query = []\n",
    "\n",
    "        for spec in spectra_query:\n",
    "            mass = spec.precursor_mz\n",
    "            mass_match = np.where(((library_masses + library_masses_tol) > mass) & \n",
    "                                  ((library_masses - library_masses_tol) < mass))[0]\n",
    "            if ignore_non_annotated:\n",
    "                mass_matches.append(annotated_spectra_IDs[mass_match])\n",
    "            else:\n",
    "                mass_matches.append(mass_match)\n",
    "        mass_matches_ppms.append(mass_matches)\n",
    "    \n",
    "    # --------------------------------------------------------------------------\n",
    "    # 3. Combine found matches -------------------------------------------------\n",
    "    # --------------------------------------------------------------------------\n",
    "    for i in range(len(spectra_query)):\n",
    "        IDs = list(mass_matches_ppms[0][i])\n",
    "        mass_match_lst = len(mass_matches_ppms[0][i]) * [1]\n",
    "        s2v_match_lst = len(mass_matches_ppms[0][i]) * [0]\n",
    "        \n",
    "        # Add Spec2Vec top_n matches to list\n",
    "        a, _ = list(zip(*S2V_matches[i]))\n",
    "        for match in a:\n",
    "            if match in IDs:\n",
    "                s2v_match_lst[IDs.index(match)] = 1\n",
    "            else:\n",
    "                IDs.append(match)\n",
    "                mass_match_lst.append(0)\n",
    "                s2v_match_lst.append(1)\n",
    "                \n",
    "        # Add Spec2Vec scores for all entries\n",
    "        # And calculate if found inchikey is a match\n",
    "        inchikey_match = []\n",
    "        s2v_score_lst = []\n",
    "        for m, idx in enumerate(IDs):\n",
    "            #if s2v_match_lst[m] == 0:\n",
    "            if ignore_non_annotated:\n",
    "                idx_uncorrected = int(np.where(annotated_spectra_IDs == idx)[0])\n",
    "                s2v_score_lst.append(M_spec2vec_similairies[idx_uncorrected,i])\n",
    "            else:\n",
    "                s2v_score_lst.append(M_spec2vec_similairies[idx,i])\n",
    "                \n",
    "            inchikey_match.append(1 * (spectra_library[idx].inchikey[:14] == spectra_query[i].inchikey[:14]))\n",
    "        matches_df = pd.DataFrame(list(zip(IDs, mass_match_lst, s2v_match_lst, s2v_score_lst, inchikey_match)),\n",
    "                                       columns = ['spectra_ID', \n",
    "                                                  'mass_match'+ str(int(mz_ppm[0])) + 'ppm', \n",
    "                                                  'S2V_top_n', 'S2V_similarity', 'inchikey_match'])\n",
    "        # Add mass matches from other ppms (if given)\n",
    "        for m, ppm in enumerate(mz_ppm[1:]):\n",
    "            col_name = 'mass_match_' + str(int(ppm)) + 'ppm'\n",
    "            matches_df[col_name] = 0\n",
    "            matches_df.loc[matches_df['spectra_ID'].isin(mass_matches_ppms[m+1][i]), col_name] = 1        \n",
    "        \n",
    "        found_matches.append(matches_df) \n",
    "    \n",
    "    # --------------------------------------------------------------------------\n",
    "    # 4. Add additonal similarity measures (cosine + mod.cosine) ---------------\n",
    "    # --------------------------------------------------------------------------   \n",
    "    for i in range(len(spectra_query)): \n",
    "        cosine_scores = []\n",
    "        for j in found_matches[i]['spectra_ID']:\n",
    "            cosine_score = cosine_check(spectra_query[i],\n",
    "                                        spectra_library[j],\n",
    "                                        tol = cosine_tol,\n",
    "                                        mod_cosine = False)\n",
    "            cosine_scores.append(cosine_score)\n",
    "        a, b = list(zip(*cosine_scores))\n",
    "        found_matches[i]['cosine_score'] = a\n",
    "        found_matches[i]['cosine_matches'] = b\n",
    "                \n",
    "    for i in range(len(spectra_query)): \n",
    "        cosine_scores = []\n",
    "        for j in found_matches[i]['spectra_ID']:\n",
    "            cosine_score = cosine_check(spectra_query[i],\n",
    "                                        spectra_library[j],\n",
    "                                        tol = cosine_tol,\n",
    "                                        mod_cosine = True)\n",
    "            cosine_scores.append(cosine_score)\n",
    "        a, b = list(zip(*cosine_scores))\n",
    "        found_matches[i]['modcosine_score'] = a\n",
    "        found_matches[i]['modcosine_matches'] = b\n",
    "                \n",
    "    return found_matches\n",
    "\n",
    "\n",
    "def cosine_check(spectra1,\n",
    "                 spectra2,\n",
    "                 tol = 0.005,\n",
    "                 mod_cosine = False):\n",
    "\n",
    "    if mod_cosine:\n",
    "        mass_shift = spectra1.parent_mz - spectra2.parent_mz\n",
    "    else:\n",
    "        mass_shift = None\n",
    "    spec1 = np.array(spectra1.peaks, dtype=float)\n",
    "    spec2 = np.array(spectra2.peaks, dtype=float)\n",
    "    cosine_score = MS_sim_classic.cosine_score_greedy(spec1, \n",
    "                                                    spec2,\n",
    "                                                    mass_shift = mass_shift,\n",
    "                                                    tol = tol, \n",
    "                                                    min_intens = 0,\n",
    "                                                    use_numba = True)\n",
    "    return (cosine_score[0], len(cosine_score[1]))\n",
    "        "
   ]
  },
  {
   "cell_type": "markdown",
   "metadata": {},
   "source": [
    "### Calculate Spec2Vec spectra vector for query spectra"
   ]
  },
  {
   "cell_type": "code",
   "execution_count": 20,
   "metadata": {},
   "outputs": [
    {
     "name": "stdout",
     "output_type": "stream",
     "text": [
      "  Created documents for  1000  of  1000  spectra.\n",
      " ----------------------------------------\n",
      "Not all 'words' of the given documents are present in the trained word2vec model!\n",
      "23  out of  58468  'words' were not found in the word2vec model.\n",
      "'Words'missing in the pretrained word2vec model will be ignored.\n",
      "Removing missing 'words' from corpus...\n",
      "----- Deriving Spec2Vec spectra vectors -----\n",
      "  Calculated Spec2Vec spectra vectors for  1000  of  1000  documents.50  of  1000  documents. 1000  documents.1000  documents. of  1000  documents."
     ]
    }
   ],
   "source": [
    "spectra_vectors = MS_functions.vectorize_spectra(spectra_unknown,\n",
    "                                                  MS_library,\n",
    "                                                  num_decimals = 2,\n",
    "                                                  min_loss = 5.0, \n",
    "                                                  max_loss = 500.0,\n",
    "                                                  peak_loss_words = ['peak_', 'loss_'],\n",
    "                                                  weighting_power = 0.5)"
   ]
  },
  {
   "cell_type": "markdown",
   "metadata": {},
   "source": [
    "---\n",
    "## Search for spectra matches in library\n",
    "This search will select all (annotated) spectra in the library for: \n",
    "+ same parent mass (within 10ppm)\n",
    "+ top-n (here: top-10) Spec2Vec similarity scores\n",
    "\n",
    "Then, between the query spectra and the found library spectra we also calculate:\n",
    "+ cosine score (tol = 0.05)\n",
    "+ modified cosine score (tol = 0.05)"
   ]
  },
  {
   "cell_type": "code",
   "execution_count": 21,
   "metadata": {},
   "outputs": [
    {
     "name": "stdout",
     "output_type": "stream",
     "text": [
      "Spec2Vec spectra vectors found for library data.\n"
     ]
    }
   ],
   "source": [
    "found_matches = library_matching(spectra_unknown, \n",
    "                                  spectra_library,\n",
    "                                  library_spectra_metadata, \n",
    "                                  MS_library, \n",
    "                                  top_n = 10,\n",
    "                                  mz_ppm = [2, 10, 50],\n",
    "                                  spectra_vectors = spectra_vectors,\n",
    "                                  ignore_non_annotated = True,\n",
    "                                  cosine_tol = 0.05)"
   ]
  },
  {
   "cell_type": "code",
   "execution_count": 22,
   "metadata": {},
   "outputs": [
    {
     "name": "stdout",
     "output_type": "stream",
     "text": [
      "Searched matches for 1000 query spectra.\n"
     ]
    }
   ],
   "source": [
    "print(\"Searched matches for\", len(found_matches), \"query spectra.\")"
   ]
  },
  {
   "cell_type": "markdown",
   "metadata": {},
   "source": [
    "## Inspect detected potential matches:"
   ]
  },
  {
   "cell_type": "code",
   "execution_count": 23,
   "metadata": {},
   "outputs": [
    {
     "data": {
      "text/html": [
       "<div>\n",
       "<style scoped>\n",
       "    .dataframe tbody tr th:only-of-type {\n",
       "        vertical-align: middle;\n",
       "    }\n",
       "\n",
       "    .dataframe tbody tr th {\n",
       "        vertical-align: top;\n",
       "    }\n",
       "\n",
       "    .dataframe thead th {\n",
       "        text-align: right;\n",
       "    }\n",
       "</style>\n",
       "<table border=\"1\" class=\"dataframe\">\n",
       "  <thead>\n",
       "    <tr style=\"text-align: right;\">\n",
       "      <th></th>\n",
       "      <th>spectra_ID</th>\n",
       "      <th>mass_match50ppm</th>\n",
       "      <th>S2V_top_n</th>\n",
       "      <th>S2V_similarity</th>\n",
       "      <th>inchikey_match</th>\n",
       "      <th>mass_match_10ppm</th>\n",
       "      <th>mass_match_2ppm</th>\n",
       "      <th>cosine_score</th>\n",
       "      <th>cosine_matches</th>\n",
       "      <th>modcosine_score</th>\n",
       "      <th>modcosine_matches</th>\n",
       "    </tr>\n",
       "  </thead>\n",
       "  <tbody>\n",
       "    <tr>\n",
       "      <th>0</th>\n",
       "      <td>8175</td>\n",
       "      <td>1</td>\n",
       "      <td>0</td>\n",
       "      <td>-0.000192</td>\n",
       "      <td>0</td>\n",
       "      <td>1</td>\n",
       "      <td>1</td>\n",
       "      <td>0.000353</td>\n",
       "      <td>5</td>\n",
       "      <td>0.000353</td>\n",
       "      <td>5</td>\n",
       "    </tr>\n",
       "    <tr>\n",
       "      <th>1</th>\n",
       "      <td>23318</td>\n",
       "      <td>1</td>\n",
       "      <td>0</td>\n",
       "      <td>0.067495</td>\n",
       "      <td>0</td>\n",
       "      <td>0</td>\n",
       "      <td>0</td>\n",
       "      <td>0.000188</td>\n",
       "      <td>1</td>\n",
       "      <td>0.000224</td>\n",
       "      <td>2</td>\n",
       "    </tr>\n",
       "    <tr>\n",
       "      <th>2</th>\n",
       "      <td>23320</td>\n",
       "      <td>1</td>\n",
       "      <td>0</td>\n",
       "      <td>0.059382</td>\n",
       "      <td>0</td>\n",
       "      <td>0</td>\n",
       "      <td>0</td>\n",
       "      <td>0.000644</td>\n",
       "      <td>1</td>\n",
       "      <td>0.000713</td>\n",
       "      <td>2</td>\n",
       "    </tr>\n",
       "    <tr>\n",
       "      <th>3</th>\n",
       "      <td>23326</td>\n",
       "      <td>1</td>\n",
       "      <td>0</td>\n",
       "      <td>0.087791</td>\n",
       "      <td>0</td>\n",
       "      <td>0</td>\n",
       "      <td>0</td>\n",
       "      <td>0.007117</td>\n",
       "      <td>3</td>\n",
       "      <td>0.007997</td>\n",
       "      <td>4</td>\n",
       "    </tr>\n",
       "    <tr>\n",
       "      <th>4</th>\n",
       "      <td>48044</td>\n",
       "      <td>1</td>\n",
       "      <td>0</td>\n",
       "      <td>0.774591</td>\n",
       "      <td>1</td>\n",
       "      <td>1</td>\n",
       "      <td>1</td>\n",
       "      <td>0.835294</td>\n",
       "      <td>75</td>\n",
       "      <td>0.835294</td>\n",
       "      <td>75</td>\n",
       "    </tr>\n",
       "    <tr>\n",
       "      <th>5</th>\n",
       "      <td>48045</td>\n",
       "      <td>1</td>\n",
       "      <td>0</td>\n",
       "      <td>0.587870</td>\n",
       "      <td>1</td>\n",
       "      <td>1</td>\n",
       "      <td>1</td>\n",
       "      <td>0.525393</td>\n",
       "      <td>59</td>\n",
       "      <td>0.525393</td>\n",
       "      <td>59</td>\n",
       "    </tr>\n",
       "    <tr>\n",
       "      <th>6</th>\n",
       "      <td>54058</td>\n",
       "      <td>1</td>\n",
       "      <td>0</td>\n",
       "      <td>0.774712</td>\n",
       "      <td>0</td>\n",
       "      <td>0</td>\n",
       "      <td>0</td>\n",
       "      <td>0.764032</td>\n",
       "      <td>55</td>\n",
       "      <td>0.764032</td>\n",
       "      <td>55</td>\n",
       "    </tr>\n",
       "    <tr>\n",
       "      <th>7</th>\n",
       "      <td>54059</td>\n",
       "      <td>1</td>\n",
       "      <td>1</td>\n",
       "      <td>0.830396</td>\n",
       "      <td>0</td>\n",
       "      <td>0</td>\n",
       "      <td>0</td>\n",
       "      <td>0.949104</td>\n",
       "      <td>56</td>\n",
       "      <td>0.949104</td>\n",
       "      <td>56</td>\n",
       "    </tr>\n",
       "    <tr>\n",
       "      <th>8</th>\n",
       "      <td>54060</td>\n",
       "      <td>1</td>\n",
       "      <td>0</td>\n",
       "      <td>0.596053</td>\n",
       "      <td>0</td>\n",
       "      <td>0</td>\n",
       "      <td>0</td>\n",
       "      <td>0.499366</td>\n",
       "      <td>50</td>\n",
       "      <td>0.499366</td>\n",
       "      <td>50</td>\n",
       "    </tr>\n",
       "    <tr>\n",
       "      <th>9</th>\n",
       "      <td>54996</td>\n",
       "      <td>0</td>\n",
       "      <td>1</td>\n",
       "      <td>0.834848</td>\n",
       "      <td>0</td>\n",
       "      <td>0</td>\n",
       "      <td>0</td>\n",
       "      <td>0.934928</td>\n",
       "      <td>47</td>\n",
       "      <td>0.936301</td>\n",
       "      <td>50</td>\n",
       "    </tr>\n",
       "    <tr>\n",
       "      <th>10</th>\n",
       "      <td>54247</td>\n",
       "      <td>0</td>\n",
       "      <td>1</td>\n",
       "      <td>0.834806</td>\n",
       "      <td>0</td>\n",
       "      <td>0</td>\n",
       "      <td>0</td>\n",
       "      <td>0.810324</td>\n",
       "      <td>28</td>\n",
       "      <td>0.812729</td>\n",
       "      <td>31</td>\n",
       "    </tr>\n",
       "    <tr>\n",
       "      <th>11</th>\n",
       "      <td>35205</td>\n",
       "      <td>0</td>\n",
       "      <td>1</td>\n",
       "      <td>0.830425</td>\n",
       "      <td>0</td>\n",
       "      <td>0</td>\n",
       "      <td>0</td>\n",
       "      <td>0.801843</td>\n",
       "      <td>17</td>\n",
       "      <td>0.802807</td>\n",
       "      <td>20</td>\n",
       "    </tr>\n",
       "    <tr>\n",
       "      <th>12</th>\n",
       "      <td>57624</td>\n",
       "      <td>0</td>\n",
       "      <td>1</td>\n",
       "      <td>0.830331</td>\n",
       "      <td>0</td>\n",
       "      <td>0</td>\n",
       "      <td>0</td>\n",
       "      <td>0.771341</td>\n",
       "      <td>29</td>\n",
       "      <td>0.772927</td>\n",
       "      <td>37</td>\n",
       "    </tr>\n",
       "    <tr>\n",
       "      <th>13</th>\n",
       "      <td>35458</td>\n",
       "      <td>0</td>\n",
       "      <td>1</td>\n",
       "      <td>0.827776</td>\n",
       "      <td>0</td>\n",
       "      <td>0</td>\n",
       "      <td>0</td>\n",
       "      <td>0.949082</td>\n",
       "      <td>34</td>\n",
       "      <td>0.950873</td>\n",
       "      <td>39</td>\n",
       "    </tr>\n",
       "    <tr>\n",
       "      <th>14</th>\n",
       "      <td>36213</td>\n",
       "      <td>0</td>\n",
       "      <td>1</td>\n",
       "      <td>0.825271</td>\n",
       "      <td>0</td>\n",
       "      <td>0</td>\n",
       "      <td>0</td>\n",
       "      <td>0.862755</td>\n",
       "      <td>29</td>\n",
       "      <td>0.861194</td>\n",
       "      <td>27</td>\n",
       "    </tr>\n",
       "    <tr>\n",
       "      <th>15</th>\n",
       "      <td>45796</td>\n",
       "      <td>0</td>\n",
       "      <td>1</td>\n",
       "      <td>0.823570</td>\n",
       "      <td>0</td>\n",
       "      <td>0</td>\n",
       "      <td>0</td>\n",
       "      <td>0.909965</td>\n",
       "      <td>12</td>\n",
       "      <td>0.909965</td>\n",
       "      <td>12</td>\n",
       "    </tr>\n",
       "    <tr>\n",
       "      <th>16</th>\n",
       "      <td>45070</td>\n",
       "      <td>0</td>\n",
       "      <td>1</td>\n",
       "      <td>0.821892</td>\n",
       "      <td>0</td>\n",
       "      <td>0</td>\n",
       "      <td>0</td>\n",
       "      <td>0.867732</td>\n",
       "      <td>28</td>\n",
       "      <td>0.867158</td>\n",
       "      <td>27</td>\n",
       "    </tr>\n",
       "    <tr>\n",
       "      <th>17</th>\n",
       "      <td>35541</td>\n",
       "      <td>0</td>\n",
       "      <td>1</td>\n",
       "      <td>0.817552</td>\n",
       "      <td>0</td>\n",
       "      <td>0</td>\n",
       "      <td>0</td>\n",
       "      <td>0.860887</td>\n",
       "      <td>35</td>\n",
       "      <td>0.862569</td>\n",
       "      <td>37</td>\n",
       "    </tr>\n",
       "  </tbody>\n",
       "</table>\n",
       "</div>"
      ],
      "text/plain": [
       "    spectra_ID  mass_match50ppm  S2V_top_n  S2V_similarity  inchikey_match  \\\n",
       "0         8175                1          0       -0.000192               0   \n",
       "1        23318                1          0        0.067495               0   \n",
       "2        23320                1          0        0.059382               0   \n",
       "3        23326                1          0        0.087791               0   \n",
       "4        48044                1          0        0.774591               1   \n",
       "5        48045                1          0        0.587870               1   \n",
       "6        54058                1          0        0.774712               0   \n",
       "7        54059                1          1        0.830396               0   \n",
       "8        54060                1          0        0.596053               0   \n",
       "9        54996                0          1        0.834848               0   \n",
       "10       54247                0          1        0.834806               0   \n",
       "11       35205                0          1        0.830425               0   \n",
       "12       57624                0          1        0.830331               0   \n",
       "13       35458                0          1        0.827776               0   \n",
       "14       36213                0          1        0.825271               0   \n",
       "15       45796                0          1        0.823570               0   \n",
       "16       45070                0          1        0.821892               0   \n",
       "17       35541                0          1        0.817552               0   \n",
       "\n",
       "    mass_match_10ppm  mass_match_2ppm  cosine_score  cosine_matches  \\\n",
       "0                  1                1      0.000353               5   \n",
       "1                  0                0      0.000188               1   \n",
       "2                  0                0      0.000644               1   \n",
       "3                  0                0      0.007117               3   \n",
       "4                  1                1      0.835294              75   \n",
       "5                  1                1      0.525393              59   \n",
       "6                  0                0      0.764032              55   \n",
       "7                  0                0      0.949104              56   \n",
       "8                  0                0      0.499366              50   \n",
       "9                  0                0      0.934928              47   \n",
       "10                 0                0      0.810324              28   \n",
       "11                 0                0      0.801843              17   \n",
       "12                 0                0      0.771341              29   \n",
       "13                 0                0      0.949082              34   \n",
       "14                 0                0      0.862755              29   \n",
       "15                 0                0      0.909965              12   \n",
       "16                 0                0      0.867732              28   \n",
       "17                 0                0      0.860887              35   \n",
       "\n",
       "    modcosine_score  modcosine_matches  \n",
       "0          0.000353                  5  \n",
       "1          0.000224                  2  \n",
       "2          0.000713                  2  \n",
       "3          0.007997                  4  \n",
       "4          0.835294                 75  \n",
       "5          0.525393                 59  \n",
       "6          0.764032                 55  \n",
       "7          0.949104                 56  \n",
       "8          0.499366                 50  \n",
       "9          0.936301                 50  \n",
       "10         0.812729                 31  \n",
       "11         0.802807                 20  \n",
       "12         0.772927                 37  \n",
       "13         0.950873                 39  \n",
       "14         0.861194                 27  \n",
       "15         0.909965                 12  \n",
       "16         0.867158                 27  \n",
       "17         0.862569                 37  "
      ]
     },
     "execution_count": 23,
     "metadata": {},
     "output_type": "execute_result"
    }
   ],
   "source": [
    "found_matches[12]"
   ]
  },
  {
   "cell_type": "code",
   "execution_count": 395,
   "metadata": {},
   "outputs": [
    {
     "data": {
      "text/plain": [
       "'TVKGYMYAOVADOP'"
      ]
     },
     "execution_count": 395,
     "metadata": {},
     "output_type": "execute_result"
    }
   ],
   "source": [
    "ID = 3\n",
    "idx = found_matches[ID][(found_matches[ID]['mass_match'] == 1)]['spectra_ID'].values\n",
    "inchikeys14 = pd.Series(library_spectra_metadata.iloc[idx]['inchikey'].str[:14])\n",
    "inchikeys14.value_counts().index[0]"
   ]
  },
  {
   "cell_type": "markdown",
   "metadata": {},
   "source": [
    "## More extensive run through different scenarios:"
   ]
  },
  {
   "cell_type": "code",
   "execution_count": 24,
   "metadata": {},
   "outputs": [],
   "source": [
    "test0_true_false = []\n",
    "test1_true_false = []\n",
    "test2_true_false = []\n",
    "test3_true_false = []\n",
    "test4_true_false = []\n",
    "\n",
    "for ID in range(len(spectra_unknown)):\n",
    "    \n",
    "    # Scenario 0: mass + sort by frequency\n",
    "    df_select = found_matches[ID][found_matches[ID]['mass_match_10ppm'] == 1]\n",
    "    if df_select.shape[0] > 0:\n",
    "        # Find most frequent inchikey among mass matches\n",
    "        idx = found_matches[ID][(found_matches[ID]['mass_match_10ppm'] == 1)]['spectra_ID'].values\n",
    "        inchikeys14 = pd.Series(library_spectra_metadata.iloc[idx]['inchikey'].str[:14])\n",
    "        best_bet = 1 * (inchikeys14.value_counts().index[0] == spectra_unknown[ID].inchikey[:14])        \n",
    "    else:\n",
    "        best_bet = -1 # meaning: not found\n",
    "    test0_true_false.append(best_bet)\n",
    "    \n",
    "    # Scenario 1: mass + sort by mod.cos\n",
    "    df_select = found_matches[ID][(found_matches[ID]['mass_match_10ppm'] == 1)]\n",
    "    if df_select.shape[0] > 0:\n",
    "        best_bet = df_select.sort_values(by=['modcosine_score'], ascending=False).iloc[0].inchikey_match\n",
    "    else:\n",
    "        best_bet = -1 # meaning: not found\n",
    "    test1_true_false.append(best_bet)\n",
    "    \n",
    "    # Scenario 2: mass + sort by Spec2Vec\n",
    "    df_select = found_matches[ID][(found_matches[ID]['mass_match_10ppm'] == 1)]\n",
    "    if df_select.shape[0] > 0:\n",
    "        best_bet = df_select.sort_values(by=['S2V_similarity'], ascending=False).iloc[0].inchikey_match\n",
    "    else:\n",
    "        best_bet = -1 # meaning: not found\n",
    "    test2_true_false.append(best_bet)\n",
    "    \n",
    "    # Scenario 3: mass + Spec2Vec + mod.cosine\n",
    "    df_select = found_matches[ID][(found_matches[ID]['mass_match_10ppm'] == 1) \n",
    "                                  & (found_matches[ID]['S2V_top_n'] > 0)\n",
    "                                  & (found_matches[ID]['modcosine_score'] > 0.5)]\n",
    "    if df_select.shape[0] > 0:\n",
    "        best_bet = df_select.sort_values(by=['S2V_similarity', 'modcosine_score'], ascending=False).iloc[0].inchikey_match\n",
    "    else:\n",
    "        best_bet = -1 # meaning: not found\n",
    "    test3_true_false.append(best_bet)  \n",
    "    \n",
    "    # Scenario 4: mass + Spec2Vec + mod.cosine\n",
    "    df_select = found_matches[ID][(found_matches[ID]['mass_match_10ppm'] == 1) \n",
    "                                  & ((found_matches[ID]['S2V_similarity'] > 0.5) |(found_matches[ID]['modcosine_score'] > 0.5))]\n",
    "    if df_select.shape[0] > 0:\n",
    "        best_bet = df_select.sort_values(by=['S2V_similarity', 'modcosine_score'], ascending=False).iloc[0].inchikey_match\n",
    "    else:\n",
    "        df_select = found_matches[ID][(found_matches[ID]['S2V_top_n'] > 0) \n",
    "                              & (found_matches[ID]['S2V_similarity'] > 0.8)]\n",
    "        if df_select.shape[0] > 0:\n",
    "            best_bet = df_select.sort_values(by=['S2V_similarity', 'modcosine_score'], ascending=False).iloc[0].inchikey_match\n",
    "        else:\n",
    "            best_bet = -1 # meaning: not found\n",
    "\n",
    "    test4_true_false.append(best_bet)\n",
    "\n",
    "# Make arrays from lists:\n",
    "test0_arr = np.array(test0_true_false)\n",
    "test1_arr = np.array(test1_true_false)\n",
    "test2_arr = np.array(test2_true_false)\n",
    "test3_arr = np.array(test3_true_false)\n",
    "test4_arr = np.array(test4_true_false)"
   ]
  },
  {
   "cell_type": "code",
   "execution_count": 25,
   "metadata": {},
   "outputs": [
    {
     "name": "stdout",
     "output_type": "stream",
     "text": [
      "Scenario 0 found matches: 398  --- nothing detected for:  92\n",
      "Scenario 1 found matches: 594  --- nothing detected for:  92\n",
      "Scenario 2 found matches: 623  --- nothing detected for:  92\n",
      "Scenario 3 found matches: 468  --- nothing detected for:  422\n",
      "Scenario 4 found matches: 602  --- nothing detected for:  218\n"
     ]
    }
   ],
   "source": [
    "print(\"Scenario 0 found matches:\", np.sum(test0_arr == 1), \" --- nothing detected for: \", np.sum(test0_arr == -1))\n",
    "print(\"Scenario 1 found matches:\", np.sum(test1_arr == 1), \" --- nothing detected for: \", np.sum(test1_arr == -1))\n",
    "print(\"Scenario 2 found matches:\", np.sum(test2_arr == 1), \" --- nothing detected for: \", np.sum(test2_arr == -1))\n",
    "print(\"Scenario 3 found matches:\", np.sum(test3_arr == 1), \" --- nothing detected for: \", np.sum(test3_arr == -1))\n",
    "print(\"Scenario 4 found matches:\", np.sum(test4_arr == 1), \" --- nothing detected for: \", np.sum(test4_arr == -1))"
   ]
  },
  {
   "cell_type": "markdown",
   "metadata": {},
   "source": [
    "## Plot key results\n",
    "Compare different search procedures by plotting the true matches (unknown spectra matched to correct inchikey), the false matches (matched to other than the correct inchikey), or no matches found (method could not find a suitable match)."
   ]
  },
  {
   "cell_type": "code",
   "execution_count": 26,
   "metadata": {},
   "outputs": [
    {
     "data": {
      "text/plain": [
       "Text(0.5, 1.0, 'Spectral library matching comparison (>1 matching inchikey in library)')"
      ]
     },
     "execution_count": 26,
     "metadata": {},
     "output_type": "execute_result"
    },
    {
     "data": {
      "image/png": "[encoded data removed]",
      "text/plain": [
       "<Figure size 432x288 with 1 Axes>"
      ]
     },
     "metadata": {},
     "output_type": "display_data"
    }
   ],
   "source": [
    "plt.style.use('ggplot')\n",
    "\n",
    "ylabels = ['mass + most frequent inchikey',\n",
    "          'mass + mod.cosine', \n",
    "          'mass + Spec2Vec',\n",
    "          'mass + Spec2Vec + mod.cosine',\n",
    "          'mass + Spec2Vec Scenario 2']#,'mass + Spec2Vec + mod.cosine -> mass + Spec2Vec (2 steps)']\n",
    "xlabels = ['true matches', 'false matches', 'no matches found']\n",
    "          #'mass + mod.cosine \\n + as backup: Spec2Vec + mod.cosine']\n",
    "data = np.array([[np.sum(test0_arr == 1), np.sum(test0_arr == 0), np.sum(test0_arr == -1)],\n",
    "                [np.sum(test1_arr == 1), np.sum(test1_arr == 0), np.sum(test1_arr == -1)],\n",
    "               [np.sum(test2_arr == 1), np.sum(test2_arr == 0), np.sum(test2_arr == -1)],\n",
    "               [np.sum(test3_arr == 1), np.sum(test3_arr == 0), np.sum(test3_arr == -1)],\n",
    "                [np.sum(test4_arr == 1), np.sum(test4_arr == 0), np.sum(test4_arr == -1)]])\n",
    "  \n",
    "dataframe = pd.DataFrame(data, columns=xlabels, index=ylabels)\n",
    "\n",
    "ax = dataframe.sort_values(by=['false matches'], ascending=True).plot.barh(stacked=True, edgecolor='none')\n",
    "\n",
    "horiz_offset = 1.03\n",
    "vert_offset = 1.\n",
    "ax.legend(bbox_to_anchor=(horiz_offset, vert_offset))\n",
    "plt.xlabel('Number of spectra')\n",
    "plt.title('Spectral library matching comparison (>1 matching inchikey in library)')"
   ]
  },
  {
   "cell_type": "code",
   "execution_count": 59,
   "metadata": {},
   "outputs": [
    {
     "data": {
      "text/html": [
       "<div>\n",
       "<style scoped>\n",
       "    .dataframe tbody tr th:only-of-type {\n",
       "        vertical-align: middle;\n",
       "    }\n",
       "\n",
       "    .dataframe tbody tr th {\n",
       "        vertical-align: top;\n",
       "    }\n",
       "\n",
       "    .dataframe thead th {\n",
       "        text-align: right;\n",
       "    }\n",
       "</style>\n",
       "<table border=\"1\" class=\"dataframe\">\n",
       "  <thead>\n",
       "    <tr style=\"text-align: right;\">\n",
       "      <th></th>\n",
       "      <th>true matches</th>\n",
       "      <th>false matches</th>\n",
       "      <th>no matches found</th>\n",
       "    </tr>\n",
       "  </thead>\n",
       "  <tbody>\n",
       "    <tr>\n",
       "      <th>mass + most frequent inchikey</th>\n",
       "      <td>397</td>\n",
       "      <td>511</td>\n",
       "      <td>92</td>\n",
       "    </tr>\n",
       "    <tr>\n",
       "      <th>mass + mod.cosine</th>\n",
       "      <td>594</td>\n",
       "      <td>314</td>\n",
       "      <td>92</td>\n",
       "    </tr>\n",
       "    <tr>\n",
       "      <th>mass + Spec2Vec</th>\n",
       "      <td>623</td>\n",
       "      <td>285</td>\n",
       "      <td>92</td>\n",
       "    </tr>\n",
       "    <tr>\n",
       "      <th>mass + Spec2Vec + mod.cosine</th>\n",
       "      <td>468</td>\n",
       "      <td>110</td>\n",
       "      <td>422</td>\n",
       "    </tr>\n",
       "    <tr>\n",
       "      <th>mass + Spec2Vec Scenario 2</th>\n",
       "      <td>602</td>\n",
       "      <td>180</td>\n",
       "      <td>218</td>\n",
       "    </tr>\n",
       "  </tbody>\n",
       "</table>\n",
       "</div>"
      ],
      "text/plain": [
       "                               true matches  false matches  no matches found\n",
       "mass + most frequent inchikey           397            511                92\n",
       "mass + mod.cosine                       594            314                92\n",
       "mass + Spec2Vec                         623            285                92\n",
       "mass + Spec2Vec + mod.cosine            468            110               422\n",
       "mass + Spec2Vec Scenario 2              602            180               218"
      ]
     },
     "execution_count": 59,
     "metadata": {},
     "output_type": "execute_result"
    }
   ],
   "source": [
    "dataframe"
   ]
  },
  {
   "cell_type": "markdown",
   "metadata": {},
   "source": [
    "# Applying classical machine-learning to library matching"
   ]
  },
  {
   "cell_type": "markdown",
   "metadata": {},
   "source": [
    "## 1. Linear regression model\n",
    "### Prepare trainings data"
   ]
  },
  {
   "cell_type": "code",
   "execution_count": 27,
   "metadata": {},
   "outputs": [
    {
     "data": {
      "text/plain": [
       "((25758, 9), (25758,))"
      ]
     },
     "execution_count": 27,
     "metadata": {},
     "output_type": "execute_result"
    }
   ],
   "source": [
    "X_data = found_matches[0].drop(columns= ['spectra_ID', 'inchikey_match'])\n",
    "y_data = found_matches[0]['inchikey_match']\n",
    "for matches_pd in found_matches[1:]:\n",
    "    X_data = pd.concat([X_data, matches_pd.drop(columns= ['spectra_ID', 'inchikey_match'])], axis=0)\n",
    "    y_data = pd.concat([y_data, matches_pd['inchikey_match']], axis=0)\n",
    "\n",
    "X_data.shape, y_data.shape"
   ]
  },
  {
   "cell_type": "code",
   "execution_count": 28,
   "metadata": {},
   "outputs": [
    {
     "data": {
      "text/html": [
       "<div>\n",
       "<style scoped>\n",
       "    .dataframe tbody tr th:only-of-type {\n",
       "        vertical-align: middle;\n",
       "    }\n",
       "\n",
       "    .dataframe tbody tr th {\n",
       "        vertical-align: top;\n",
       "    }\n",
       "\n",
       "    .dataframe thead th {\n",
       "        text-align: right;\n",
       "    }\n",
       "</style>\n",
       "<table border=\"1\" class=\"dataframe\">\n",
       "  <thead>\n",
       "    <tr style=\"text-align: right;\">\n",
       "      <th></th>\n",
       "      <th>mass_match50ppm</th>\n",
       "      <th>S2V_top_n</th>\n",
       "      <th>S2V_similarity</th>\n",
       "      <th>mass_match_10ppm</th>\n",
       "      <th>mass_match_2ppm</th>\n",
       "      <th>cosine_score</th>\n",
       "      <th>cosine_matches</th>\n",
       "      <th>modcosine_score</th>\n",
       "      <th>modcosine_matches</th>\n",
       "    </tr>\n",
       "  </thead>\n",
       "  <tbody>\n",
       "    <tr>\n",
       "      <th>0</th>\n",
       "      <td>1</td>\n",
       "      <td>0</td>\n",
       "      <td>-0.032902</td>\n",
       "      <td>1</td>\n",
       "      <td>1</td>\n",
       "      <td>0.322122</td>\n",
       "      <td>1</td>\n",
       "      <td>0.322122</td>\n",
       "      <td>1</td>\n",
       "    </tr>\n",
       "    <tr>\n",
       "      <th>1</th>\n",
       "      <td>1</td>\n",
       "      <td>1</td>\n",
       "      <td>0.968521</td>\n",
       "      <td>0</td>\n",
       "      <td>0</td>\n",
       "      <td>0.995873</td>\n",
       "      <td>5</td>\n",
       "      <td>0.995873</td>\n",
       "      <td>5</td>\n",
       "    </tr>\n",
       "    <tr>\n",
       "      <th>2</th>\n",
       "      <td>1</td>\n",
       "      <td>0</td>\n",
       "      <td>0.674959</td>\n",
       "      <td>1</td>\n",
       "      <td>1</td>\n",
       "      <td>0.655109</td>\n",
       "      <td>5</td>\n",
       "      <td>0.655109</td>\n",
       "      <td>5</td>\n",
       "    </tr>\n",
       "    <tr>\n",
       "      <th>3</th>\n",
       "      <td>1</td>\n",
       "      <td>1</td>\n",
       "      <td>0.912094</td>\n",
       "      <td>1</td>\n",
       "      <td>1</td>\n",
       "      <td>0.985430</td>\n",
       "      <td>5</td>\n",
       "      <td>0.985430</td>\n",
       "      <td>5</td>\n",
       "    </tr>\n",
       "    <tr>\n",
       "      <th>4</th>\n",
       "      <td>1</td>\n",
       "      <td>0</td>\n",
       "      <td>0.052670</td>\n",
       "      <td>1</td>\n",
       "      <td>0</td>\n",
       "      <td>0.985079</td>\n",
       "      <td>1</td>\n",
       "      <td>0.985079</td>\n",
       "      <td>1</td>\n",
       "    </tr>\n",
       "  </tbody>\n",
       "</table>\n",
       "</div>"
      ],
      "text/plain": [
       "   mass_match50ppm  S2V_top_n  S2V_similarity  mass_match_10ppm  \\\n",
       "0                1          0       -0.032902                 1   \n",
       "1                1          1        0.968521                 0   \n",
       "2                1          0        0.674959                 1   \n",
       "3                1          1        0.912094                 1   \n",
       "4                1          0        0.052670                 1   \n",
       "\n",
       "   mass_match_2ppm  cosine_score  cosine_matches  modcosine_score  \\\n",
       "0                1      0.322122               1         0.322122   \n",
       "1                0      0.995873               5         0.995873   \n",
       "2                1      0.655109               5         0.655109   \n",
       "3                1      0.985430               5         0.985430   \n",
       "4                0      0.985079               1         0.985079   \n",
       "\n",
       "   modcosine_matches  \n",
       "0                  1  \n",
       "1                  5  \n",
       "2                  5  \n",
       "3                  5  \n",
       "4                  1  "
      ]
     },
     "execution_count": 28,
     "metadata": {},
     "output_type": "execute_result"
    }
   ],
   "source": [
    "X_data.head()"
   ]
  },
  {
   "cell_type": "code",
   "execution_count": 29,
   "metadata": {},
   "outputs": [],
   "source": [
    "from sklearn.model_selection import train_test_split \n",
    "from sklearn.linear_model import LinearRegression\n",
    "from sklearn import metrics"
   ]
  },
  {
   "cell_type": "code",
   "execution_count": 30,
   "metadata": {},
   "outputs": [],
   "source": [
    "X_train, X_test, y_train, y_test = train_test_split(X_data, y_data, test_size=0.2, random_state=0)"
   ]
  },
  {
   "cell_type": "code",
   "execution_count": 31,
   "metadata": {},
   "outputs": [
    {
     "data": {
      "text/plain": [
       "LinearRegression(copy_X=True, fit_intercept=True, n_jobs=None,\n",
       "         normalize=False)"
      ]
     },
     "execution_count": 31,
     "metadata": {},
     "output_type": "execute_result"
    }
   ],
   "source": [
    "regressor = LinearRegression()  \n",
    "regressor.fit(X_train, y_train) #training the algorithm"
   ]
  },
  {
   "cell_type": "code",
   "execution_count": 32,
   "metadata": {},
   "outputs": [],
   "source": [
    "y_pred = regressor.predict(X_test)"
   ]
  },
  {
   "cell_type": "code",
   "execution_count": 33,
   "metadata": {},
   "outputs": [
    {
     "data": {
      "text/html": [
       "<div>\n",
       "<style scoped>\n",
       "    .dataframe tbody tr th:only-of-type {\n",
       "        vertical-align: middle;\n",
       "    }\n",
       "\n",
       "    .dataframe tbody tr th {\n",
       "        vertical-align: top;\n",
       "    }\n",
       "\n",
       "    .dataframe thead th {\n",
       "        text-align: right;\n",
       "    }\n",
       "</style>\n",
       "<table border=\"1\" class=\"dataframe\">\n",
       "  <thead>\n",
       "    <tr style=\"text-align: right;\">\n",
       "      <th></th>\n",
       "      <th>Actual</th>\n",
       "      <th>Predicted</th>\n",
       "    </tr>\n",
       "  </thead>\n",
       "  <tbody>\n",
       "    <tr>\n",
       "      <th>3</th>\n",
       "      <td>0</td>\n",
       "      <td>0.012017</td>\n",
       "    </tr>\n",
       "    <tr>\n",
       "      <th>41</th>\n",
       "      <td>0</td>\n",
       "      <td>-0.018274</td>\n",
       "    </tr>\n",
       "    <tr>\n",
       "      <th>12</th>\n",
       "      <td>0</td>\n",
       "      <td>0.084194</td>\n",
       "    </tr>\n",
       "    <tr>\n",
       "      <th>7</th>\n",
       "      <td>0</td>\n",
       "      <td>0.135964</td>\n",
       "    </tr>\n",
       "    <tr>\n",
       "      <th>11</th>\n",
       "      <td>0</td>\n",
       "      <td>0.056774</td>\n",
       "    </tr>\n",
       "    <tr>\n",
       "      <th>0</th>\n",
       "      <td>0</td>\n",
       "      <td>0.003939</td>\n",
       "    </tr>\n",
       "    <tr>\n",
       "      <th>12</th>\n",
       "      <td>0</td>\n",
       "      <td>-0.025573</td>\n",
       "    </tr>\n",
       "    <tr>\n",
       "      <th>19</th>\n",
       "      <td>0</td>\n",
       "      <td>-0.003655</td>\n",
       "    </tr>\n",
       "    <tr>\n",
       "      <th>9</th>\n",
       "      <td>0</td>\n",
       "      <td>-0.021697</td>\n",
       "    </tr>\n",
       "    <tr>\n",
       "      <th>35</th>\n",
       "      <td>0</td>\n",
       "      <td>0.208355</td>\n",
       "    </tr>\n",
       "  </tbody>\n",
       "</table>\n",
       "</div>"
      ],
      "text/plain": [
       "    Actual  Predicted\n",
       "3        0   0.012017\n",
       "41       0  -0.018274\n",
       "12       0   0.084194\n",
       "7        0   0.135964\n",
       "11       0   0.056774\n",
       "0        0   0.003939\n",
       "12       0  -0.025573\n",
       "19       0  -0.003655\n",
       "9        0  -0.021697\n",
       "35       0   0.208355"
      ]
     },
     "execution_count": 33,
     "metadata": {},
     "output_type": "execute_result"
    }
   ],
   "source": [
    "df = pd.DataFrame({'Actual': y_test, 'Predicted': y_pred})\n",
    "df[:10]"
   ]
  },
  {
   "cell_type": "code",
   "execution_count": 35,
   "metadata": {},
   "outputs": [
    {
     "name": "stdout",
     "output_type": "stream",
     "text": [
      "4444 297 129 282\n"
     ]
    }
   ],
   "source": [
    "print(np.sum((df.Actual == 0) * (df.Predicted < 0.5)), \n",
    "    np.sum((df.Actual == 1) * (df.Predicted >= 0.5)), \n",
    "    np.sum((df.Actual == 0) * (df.Predicted >= 0.5)), \n",
    "    np.sum((df.Actual == 1) * (df.Predicted < 0.5)))"
   ]
  },
  {
   "cell_type": "code",
   "execution_count": 36,
   "metadata": {},
   "outputs": [
    {
     "data": {
      "text/html": [
       "<div>\n",
       "<style scoped>\n",
       "    .dataframe tbody tr th:only-of-type {\n",
       "        vertical-align: middle;\n",
       "    }\n",
       "\n",
       "    .dataframe tbody tr th {\n",
       "        vertical-align: top;\n",
       "    }\n",
       "\n",
       "    .dataframe thead th {\n",
       "        text-align: right;\n",
       "    }\n",
       "</style>\n",
       "<table border=\"1\" class=\"dataframe\">\n",
       "  <thead>\n",
       "    <tr style=\"text-align: right;\">\n",
       "      <th></th>\n",
       "      <th>Coefficient</th>\n",
       "    </tr>\n",
       "  </thead>\n",
       "  <tbody>\n",
       "    <tr>\n",
       "      <th>mass_match50ppm</th>\n",
       "      <td>0.403333</td>\n",
       "    </tr>\n",
       "    <tr>\n",
       "      <th>S2V_top_n</th>\n",
       "      <td>0.319750</td>\n",
       "    </tr>\n",
       "    <tr>\n",
       "      <th>S2V_similarity</th>\n",
       "      <td>0.182197</td>\n",
       "    </tr>\n",
       "    <tr>\n",
       "      <th>mass_match_10ppm</th>\n",
       "      <td>0.033506</td>\n",
       "    </tr>\n",
       "    <tr>\n",
       "      <th>mass_match_2ppm</th>\n",
       "      <td>0.155313</td>\n",
       "    </tr>\n",
       "    <tr>\n",
       "      <th>cosine_score</th>\n",
       "      <td>0.095087</td>\n",
       "    </tr>\n",
       "    <tr>\n",
       "      <th>cosine_matches</th>\n",
       "      <td>-0.000157</td>\n",
       "    </tr>\n",
       "    <tr>\n",
       "      <th>modcosine_score</th>\n",
       "      <td>0.003636</td>\n",
       "    </tr>\n",
       "    <tr>\n",
       "      <th>modcosine_matches</th>\n",
       "      <td>0.000266</td>\n",
       "    </tr>\n",
       "  </tbody>\n",
       "</table>\n",
       "</div>"
      ],
      "text/plain": [
       "                   Coefficient\n",
       "mass_match50ppm       0.403333\n",
       "S2V_top_n             0.319750\n",
       "S2V_similarity        0.182197\n",
       "mass_match_10ppm      0.033506\n",
       "mass_match_2ppm       0.155313\n",
       "cosine_score          0.095087\n",
       "cosine_matches       -0.000157\n",
       "modcosine_score       0.003636\n",
       "modcosine_matches     0.000266"
      ]
     },
     "execution_count": 36,
     "metadata": {},
     "output_type": "execute_result"
    }
   ],
   "source": [
    "coeff_df = pd.DataFrame(regressor.coef_, X_data.columns, columns=['Coefficient'])  \n",
    "coeff_df"
   ]
  },
  {
   "cell_type": "code",
   "execution_count": 37,
   "metadata": {},
   "outputs": [
    {
     "data": {
      "text/plain": [
       "<matplotlib.collections.PathCollection at 0x12399c4b278>"
      ]
     },
     "execution_count": 37,
     "metadata": {},
     "output_type": "execute_result"
    },
    {
     "data": {
      "image/png": "[encoded data removed]",
      "text/plain": [
       "<Figure size 432x288 with 1 Axes>"
      ]
     },
     "metadata": {},
     "output_type": "display_data"
    }
   ],
   "source": [
    "plt.scatter(x=regressor.coef_, y=X_data.columns)"
   ]
  },
  {
   "cell_type": "code",
   "execution_count": 55,
   "metadata": {},
   "outputs": [],
   "source": [
    "X_data_effect = X_data.copy()\n",
    "X_data_effect.iloc[:,:] = X_data.iloc[:,:] * regressor.coef_"
   ]
  },
  {
   "cell_type": "markdown",
   "metadata": {},
   "source": [
    "## Effect plot"
   ]
  },
  {
   "cell_type": "code",
   "execution_count": 57,
   "metadata": {},
   "outputs": [
    {
     "data": {
      "text/plain": [
       "(-0.1, 0.5)"
      ]
     },
     "execution_count": 57,
     "metadata": {},
     "output_type": "execute_result"
    },
    {
     "data": {
      "image/png": "[encoded data removed]",
      "text/plain": [
       "<Figure size 1008x504 with 1 Axes>"
      ]
     },
     "metadata": {},
     "output_type": "display_data"
    }
   ],
   "source": [
    "import seaborn as sns\n",
    "plt.figure(figsize=(14,7))\n",
    "sns.boxplot(data=X_data_effect,\n",
    "            whis=\"range\", palette=\"vlag\", orient='h')\n",
    "plt.xlim(-0.1,0.5)"
   ]
  },
  {
   "cell_type": "markdown",
   "metadata": {},
   "source": [
    "## 2. Decision tree"
   ]
  },
  {
   "cell_type": "code",
   "execution_count": 74,
   "metadata": {},
   "outputs": [],
   "source": [
    "from sklearn.model_selection import cross_val_score\n",
    "from sklearn.tree import DecisionTreeClassifier\n",
    "ML_model_DT = DecisionTreeClassifier(random_state=0)#, max_depth = 10)\n",
    "\n",
    "#cross_val_score(clf, iris.data, iris.target, cv=10)"
   ]
  },
  {
   "cell_type": "code",
   "execution_count": 75,
   "metadata": {},
   "outputs": [
    {
     "data": {
      "text/plain": [
       "DecisionTreeClassifier(class_weight=None, criterion='gini', max_depth=None,\n",
       "            max_features=None, max_leaf_nodes=None,\n",
       "            min_impurity_decrease=0.0, min_impurity_split=None,\n",
       "            min_samples_leaf=1, min_samples_split=2,\n",
       "            min_weight_fraction_leaf=0.0, presort=False, random_state=0,\n",
       "            splitter='best')"
      ]
     },
     "execution_count": 75,
     "metadata": {},
     "output_type": "execute_result"
    }
   ],
   "source": [
    "ML_model_DT.fit(X_train, y_train)"
   ]
  },
  {
   "cell_type": "code",
   "execution_count": 76,
   "metadata": {},
   "outputs": [],
   "source": [
    "y_pred = ML_model_DT.predict(X_test)"
   ]
  },
  {
   "cell_type": "code",
   "execution_count": 77,
   "metadata": {},
   "outputs": [
    {
     "name": "stdout",
     "output_type": "stream",
     "text": [
      "4249 326 324 253\n"
     ]
    },
    {
     "name": "stderr",
     "output_type": "stream",
     "text": [
      "C:\\Users\\FlorianHuber\\Anaconda3\\envs\\SeSiMe\\lib\\site-packages\\pandas\\core\\computation\\expressions.py:183: UserWarning: evaluating in Python space because the '*' operator is not supported by numexpr for the bool dtype, use '&' instead\n",
      "  .format(op=op_str, alt_op=unsupported[op_str]))\n"
     ]
    }
   ],
   "source": [
    "df = pd.DataFrame({'Actual': y_test, 'Predicted': y_pred})\n",
    "\n",
    "print(np.sum((df.Actual == 0) * (df.Predicted == 0)), \n",
    "    np.sum((df.Actual == 1) * (df.Predicted == 1)), \n",
    "    np.sum((df.Actual == 0) * (df.Predicted == 1)), \n",
    "    np.sum((df.Actual == 1) * (df.Predicted == 0)))"
   ]
  },
  {
   "cell_type": "code",
   "execution_count": 78,
   "metadata": {},
   "outputs": [
    {
     "data": {
      "text/html": [
       "<div>\n",
       "<style scoped>\n",
       "    .dataframe tbody tr th:only-of-type {\n",
       "        vertical-align: middle;\n",
       "    }\n",
       "\n",
       "    .dataframe tbody tr th {\n",
       "        vertical-align: top;\n",
       "    }\n",
       "\n",
       "    .dataframe thead th {\n",
       "        text-align: right;\n",
       "    }\n",
       "</style>\n",
       "<table border=\"1\" class=\"dataframe\">\n",
       "  <thead>\n",
       "    <tr style=\"text-align: right;\">\n",
       "      <th></th>\n",
       "      <th>Feature importance</th>\n",
       "    </tr>\n",
       "  </thead>\n",
       "  <tbody>\n",
       "    <tr>\n",
       "      <th>mass_match50ppm</th>\n",
       "      <td>0.10</td>\n",
       "    </tr>\n",
       "    <tr>\n",
       "      <th>S2V_top_n</th>\n",
       "      <td>11.63</td>\n",
       "    </tr>\n",
       "    <tr>\n",
       "      <th>S2V_similarity</th>\n",
       "      <td>24.17</td>\n",
       "    </tr>\n",
       "    <tr>\n",
       "      <th>mass_match_10ppm</th>\n",
       "      <td>1.53</td>\n",
       "    </tr>\n",
       "    <tr>\n",
       "      <th>mass_match_2ppm</th>\n",
       "      <td>18.82</td>\n",
       "    </tr>\n",
       "    <tr>\n",
       "      <th>cosine_score</th>\n",
       "      <td>14.78</td>\n",
       "    </tr>\n",
       "    <tr>\n",
       "      <th>cosine_matches</th>\n",
       "      <td>7.98</td>\n",
       "    </tr>\n",
       "    <tr>\n",
       "      <th>modcosine_score</th>\n",
       "      <td>13.60</td>\n",
       "    </tr>\n",
       "    <tr>\n",
       "      <th>modcosine_matches</th>\n",
       "      <td>7.38</td>\n",
       "    </tr>\n",
       "  </tbody>\n",
       "</table>\n",
       "</div>"
      ],
      "text/plain": [
       "                   Feature importance\n",
       "mass_match50ppm                  0.10\n",
       "S2V_top_n                       11.63\n",
       "S2V_similarity                  24.17\n",
       "mass_match_10ppm                 1.53\n",
       "mass_match_2ppm                 18.82\n",
       "cosine_score                    14.78\n",
       "cosine_matches                   7.98\n",
       "modcosine_score                 13.60\n",
       "modcosine_matches                7.38"
      ]
     },
     "execution_count": 78,
     "metadata": {},
     "output_type": "execute_result"
    }
   ],
   "source": [
    "feature_importance = pd.DataFrame(100*np.round(ML_model_DT.feature_importances_,4), X_data.columns, columns=['Feature importance'])  \n",
    "feature_importance"
   ]
  },
  {
   "cell_type": "code",
   "execution_count": 79,
   "metadata": {},
   "outputs": [
    {
     "data": {
      "text/plain": [
       "<matplotlib.collections.PathCollection at 0x12335d16278>"
      ]
     },
     "execution_count": 79,
     "metadata": {},
     "output_type": "execute_result"
    },
    {
     "data": {
      "image/png": "[encoded data removed]",
      "text/plain": [
       "<Figure size 432x288 with 1 Axes>"
      ]
     },
     "metadata": {},
     "output_type": "display_data"
    }
   ],
   "source": [
    "plt.scatter(x=ML_model_DT.feature_importances_, y=X_data.columns)"
   ]
  },
  {
   "cell_type": "code",
   "execution_count": 62,
   "metadata": {},
   "outputs": [],
   "source": [
    "# import export_graphviz \n",
    "from sklearn.tree import export_graphviz  \n",
    "  \n",
    "# export the decision tree to a tree.dot file \n",
    "# for visualizing the plot elsewhere\n",
    "export_graphviz(ML_model_DT, max_depth = 3, out_file ='tree3.dot', feature_names = X_data.columns)  \n",
    "\n",
    "# --> than go to http://www.webgraphviz.com/ and add tree.dot file"
   ]
  },
  {
   "cell_type": "code",
   "execution_count": 63,
   "metadata": {},
   "outputs": [
    {
     "data": {
      "image/png": "[encoded data removed]",
      "text/plain": [
       "<IPython.core.display.Image object>"
      ]
     },
     "execution_count": 63,
     "metadata": {},
     "output_type": "execute_result"
    }
   ],
   "source": [
    "from IPython.display import Image\n",
    "Image(\"Screenshot_2019-12-02 Webgraphviz.png\")"
   ]
  },
  {
   "cell_type": "code",
   "execution_count": 80,
   "metadata": {},
   "outputs": [],
   "source": [
    "testLR_true_false = [] # linear regression\n",
    "testML_true_false = []\n",
    "\n",
    "for ID in range(len(spectra_unknown)):\n",
    "    \n",
    "    # Scenario ML - linear regression\n",
    "    predictions = regressor.predict(found_matches[ID].drop(columns= ['spectra_ID', 'inchikey_match']))\n",
    "    spectraIDs = found_matches[ID]['spectra_ID'][predictions.argmax()]\n",
    "    #spectraIDs = found_matches[ID][IDs == 1]['spectra_ID'].values.tolist()\n",
    "    inchikeys14 = library_spectra_metadata.iloc[spectraIDs]['inchikey'][:14]\n",
    "    if len(inchikeys14) > 0:\n",
    "        best_bet = 1 * (inchikeys14 == spectra_unknown[ID].inchikey[:14])        \n",
    "    else:\n",
    "        best_bet = -1 # meaning: not found\n",
    "\n",
    "    testLR_true_false.append(best_bet)\n",
    "    \n",
    "    # Scenario ML - decision tree\n",
    "    IDs = ML_model_DT.predict(found_matches[ID].drop(columns= ['spectra_ID', 'inchikey_match']))\n",
    "    spectraIDs = found_matches[ID][IDs == 1]['spectra_ID'].values.tolist()\n",
    "    inchikeys14 = pd.Series(library_spectra_metadata.iloc[spectraIDs]['inchikey'].str[:14])\n",
    "    if inchikeys14.shape[0] > 0:\n",
    "        best_bet = 1 * (inchikeys14.value_counts().index[0] == spectra_unknown[ID].inchikey[:14])        \n",
    "    else:\n",
    "        best_bet = -1 # meaning: not found\n",
    "\n",
    "    testML_true_false.append(best_bet)\n",
    "    \n",
    "# Make arrays from lists:\n",
    "testLR_arr = np.array(testLR_true_false)\n",
    "testML_arr = np.array(testML_true_false)"
   ]
  },
  {
   "cell_type": "code",
   "execution_count": 81,
   "metadata": {},
   "outputs": [
    {
     "name": "stdout",
     "output_type": "stream",
     "text": [
      "Linear regression found matches: 660  --- nothing detected for:  0\n",
      "ML found matches: 767  --- nothing detected for:  163\n"
     ]
    }
   ],
   "source": [
    "print(\"Linear regression found matches:\", np.sum(testLR_arr == 1), \" --- nothing detected for: \", np.sum(testLR_arr == -1))\n",
    "print(\"ML found matches:\", np.sum(testML_arr == 1), \" --- nothing detected for: \", np.sum(testML_arr == -1))"
   ]
  },
  {
   "cell_type": "code",
   "execution_count": null,
   "metadata": {},
   "outputs": [],
   "source": []
  },
  {
   "cell_type": "code",
   "execution_count": 82,
   "metadata": {},
   "outputs": [
    {
     "data": {
      "text/plain": [
       "Text(0.5, 1.0, 'Spectral library matching comparison (>1 matching inchikey in library)')"
      ]
     },
     "execution_count": 82,
     "metadata": {},
     "output_type": "execute_result"
    },
    {
     "data": {
      "image/png": "[encoded data removed]",
      "text/plain": [
       "<Figure size 432x288 with 1 Axes>"
      ]
     },
     "metadata": {},
     "output_type": "display_data"
    }
   ],
   "source": [
    "plt.style.use('ggplot')\n",
    "\n",
    "ylabels = ['mass + most frequent inchikey',\n",
    "          'mass + mod.cosine', \n",
    "          'mass + Spec2Vec',\n",
    "          'mass + Spec2Vec + mod.cosine',\n",
    "          'mass + Spec2Vec Scenario 2',\n",
    "           #'linear regression model',\n",
    "          'decision tree + most frequent']\n",
    "xlabels = ['true matches', 'false matches', 'no matches found']\n",
    "          #'mass + mod.cosine \\n + as backup: Spec2Vec + mod.cosine']\n",
    "data = np.array([[np.sum(test0_arr == 1), np.sum(test0_arr == 0), np.sum(test0_arr == -1)],\n",
    "                [np.sum(test1_arr == 1), np.sum(test1_arr == 0), np.sum(test1_arr == -1)],\n",
    "               [np.sum(test2_arr == 1), np.sum(test2_arr == 0), np.sum(test2_arr == -1)],\n",
    "               [np.sum(test3_arr == 1), np.sum(test3_arr == 0), np.sum(test3_arr == -1)],\n",
    "                [np.sum(test4_arr == 1), np.sum(test4_arr == 0), np.sum(test4_arr == -1)],\n",
    "                 #[np.sum(testLR_arr == 1), np.sum(testLR_arr == 0), np.sum(testLR_arr == -1)],\n",
    "                 [np.sum(testML_arr == 1), np.sum(testML_arr == 0), np.sum(testML_arr == -1)]])\n",
    "  \n",
    "dataframe = pd.DataFrame(data, columns=xlabels, index=ylabels)\n",
    "\n",
    "ax = dataframe.sort_values(by=['false matches'], ascending=True).plot.barh(stacked=True, edgecolor='none')\n",
    "\n",
    "horiz_offset = 1.03\n",
    "vert_offset = 1.\n",
    "ax.legend(bbox_to_anchor=(horiz_offset, vert_offset))\n",
    "plt.xlabel('Number of spectra')\n",
    "plt.title('Spectral library matching comparison (>1 matching inchikey in library)')"
   ]
  },
  {
   "cell_type": "markdown",
   "metadata": {},
   "source": [
    "# Compare to case when multiple copies of the same inchikey are present in library"
   ]
  },
  {
   "cell_type": "code",
   "execution_count": 83,
   "metadata": {},
   "outputs": [
    {
     "data": {
      "text/html": [
       "<div>\n",
       "<style scoped>\n",
       "    .dataframe tbody tr th:only-of-type {\n",
       "        vertical-align: middle;\n",
       "    }\n",
       "\n",
       "    .dataframe tbody tr th {\n",
       "        vertical-align: top;\n",
       "    }\n",
       "\n",
       "    .dataframe thead th {\n",
       "        text-align: right;\n",
       "    }\n",
       "</style>\n",
       "<table border=\"1\" class=\"dataframe\">\n",
       "  <thead>\n",
       "    <tr style=\"text-align: right;\">\n",
       "      <th></th>\n",
       "      <th>inchikey14</th>\n",
       "      <th>occurences</th>\n",
       "    </tr>\n",
       "  </thead>\n",
       "  <tbody>\n",
       "    <tr>\n",
       "      <th>2956</th>\n",
       "      <td>ALGDHWVALRSLBT</td>\n",
       "      <td>5</td>\n",
       "    </tr>\n",
       "    <tr>\n",
       "      <th>3122</th>\n",
       "      <td>AKGWUHIOEVNNPC</td>\n",
       "      <td>5</td>\n",
       "    </tr>\n",
       "    <tr>\n",
       "      <th>3015</th>\n",
       "      <td>AFSDNFLWKVMVRB</td>\n",
       "      <td>5</td>\n",
       "    </tr>\n",
       "    <tr>\n",
       "      <th>2964</th>\n",
       "      <td>AEMOLEFTQBMNLQ</td>\n",
       "      <td>5</td>\n",
       "    </tr>\n",
       "    <tr>\n",
       "      <th>2993</th>\n",
       "      <td>ACGDKVXYNVEAGU</td>\n",
       "      <td>5</td>\n",
       "    </tr>\n",
       "  </tbody>\n",
       "</table>\n",
       "</div>"
      ],
      "text/plain": [
       "          inchikey14  occurences\n",
       "2956  ALGDHWVALRSLBT           5\n",
       "3122  AKGWUHIOEVNNPC           5\n",
       "3015  AFSDNFLWKVMVRB           5\n",
       "2964  AEMOLEFTQBMNLQ           5\n",
       "2993  ACGDKVXYNVEAGU           5"
      ]
     },
     "execution_count": 83,
     "metadata": {},
     "output_type": "execute_result"
    }
   ],
   "source": [
    "min_occurences = 5\n",
    "\n",
    "suitable_inchikeys = pd.DataFrame(inchikeys_pd.str[:14].value_counts()[inchikeys_pd.str[:14].value_counts().values >= min_occurences])\n",
    "suitable_inchikeys.reset_index(level=suitable_inchikeys.index.names, inplace=True)\n",
    "suitable_inchikeys.columns = (['inchikey14', 'occurences'])\n",
    "\n",
    "# Important: sort values to make it reproducible (same occurences have random order otherwise!)\n",
    "suitable_inchikeys = suitable_inchikeys.sort_values(['occurences', 'inchikey14'], ascending=False)\n",
    "suitable_inchikeys.tail(5)"
   ]
  },
  {
   "cell_type": "code",
   "execution_count": 84,
   "metadata": {},
   "outputs": [
    {
     "name": "stdout",
     "output_type": "stream",
     "text": [
      "Number of spectra with inchikeys that exist >= 5 times: 3163\n"
     ]
    }
   ],
   "source": [
    "print(\"Number of spectra with inchikeys that exist >=\", min_occurences, \"times:\", suitable_inchikeys.shape[0])"
   ]
  },
  {
   "cell_type": "markdown",
   "metadata": {},
   "source": [
    "### Randomly select 1000 inchikeys that exist >=5 times in the dataset"
   ]
  },
  {
   "cell_type": "code",
   "execution_count": 85,
   "metadata": {},
   "outputs": [
    {
     "name": "stdout",
     "output_type": "stream",
     "text": [
      "[2755  346  170  354 1556  761  408 1011  557 2726 3121 2875 2215 2847\n",
      " 2838 2418 2710 2689 1672 1330 1264 1820  450  927  463]\n"
     ]
    },
    {
     "data": {
      "text/plain": [
       "array(['QIGBRXMKCJKVMJ', 'TVKGYMYAOVADOP', 'DYKFCLLONBREIL',\n",
       "       'RONZAEMNMFQXRA', 'RCKDDMWGRIYLCN', 'RYVGCUJETSKZDU',\n",
       "       'GPFVBJYXFRIOFB', 'CDYGRHOHQUXDMN', 'LOFYFDPXORJJEE',\n",
       "       'UJVLDDZCTMKXJK', 'DHWRNDJOGMTCPB', 'DZVIFFMYEULLBY',\n",
       "       'PVXVWWANJIWJOO', 'HPZJMUBDEAMBFI', 'ITVGXXMINPYUHD',\n",
       "       'MHGMSAFPNAKIRZ', 'VLGUKBMOYDQZNE', 'XQVWYOYUZDUNRW',\n",
       "       'LJKAKWDUZRJNPJ', 'IHGAMZBDEOTTEW', 'MHVJRKBZMUDEEV',\n",
       "       'CVXGFPPAIUELDV', 'XZZNDPSIHUTMOC', 'IOMBMOCSWVAYQU',\n",
       "       'WGLRJONCGNNMKL'], dtype=object)"
      ]
     },
     "execution_count": 85,
     "metadata": {},
     "output_type": "execute_result"
    }
   ],
   "source": [
    "num_spectra = 1000\n",
    "\n",
    "np.random.seed(42) # to make it reproducible\n",
    "selection = np.random.choice(suitable_inchikeys.shape[0], num_spectra, replace=False)\n",
    "print(selection[:25])\n",
    "selected_inchikeys = suitable_inchikeys['inchikey14'].values[selection]\n",
    "selected_inchikeys[:25]"
   ]
  },
  {
   "cell_type": "markdown",
   "metadata": {},
   "source": [
    "### Randomly pick one spectra for each of the chosen inchikeys"
   ]
  },
  {
   "cell_type": "code",
   "execution_count": 86,
   "metadata": {},
   "outputs": [],
   "source": [
    "selected_spectra = []\n",
    "\n",
    "np.random.seed(42) # to make it reproducible\n",
    "for inchikey in selected_inchikeys:\n",
    "    matches = inchikeys_pd[inchikeys_pd.str[:14] == inchikey].index.values\n",
    "    selected_spectra.append(int(np.random.choice(matches,1)[0]))"
   ]
  },
  {
   "cell_type": "code",
   "execution_count": 87,
   "metadata": {},
   "outputs": [
    {
     "data": {
      "text/plain": [
       "36190    CCMSLIB00004691682\n",
       "39731    CCMSLIB00004696406\n",
       "32682    CCMSLIB00000567060\n",
       "33565    CCMSLIB00000568578\n",
       "49155    CCMSLIB00004708987\n",
       "42559    CCMSLIB00004699948\n",
       "41802    CCMSLIB00004699002\n",
       "51066    CCMSLIB00004711375\n",
       "48929    CCMSLIB00004708704\n",
       "32139    CCMSLIB00000564922\n",
       "Name: gnps_ID, dtype: object"
      ]
     },
     "execution_count": 87,
     "metadata": {},
     "output_type": "execute_result"
    }
   ],
   "source": [
    "# Show gnps IDs for selected spectra\n",
    "spectra_metadata[\"gnps_ID\"][selected_spectra][:10]"
   ]
  },
  {
   "cell_type": "markdown",
   "metadata": {},
   "source": [
    "## Train new Spec2Vec model on dataset without the selected spectra"
   ]
  },
  {
   "cell_type": "code",
   "execution_count": 173,
   "metadata": {},
   "outputs": [
    {
     "name": "stdout",
     "output_type": "stream",
     "text": [
      "Modified corpus consists of 89226 documents.\n",
      "Preprocess documents...\n",
      "Number of unique words:  145575\n",
      "No saved word2vec model found with given filename!\n",
      "Calculating new word2vec model...\n",
      " Epoch 1 of 15.Change in loss after epoch 1: 6903055.5\n",
      " Epoch 2 of 15.Change in loss after epoch 2: 5018393.5\n",
      " Epoch 3 of 15.Change in loss after epoch 3: 4603321.0\n",
      " Epoch 4 of 15.Change in loss after epoch 4: 3739040.0\n",
      " Epoch 5 of 15.Change in loss after epoch 5: 3354822.0\n",
      " Epoch 6 of 15.Change in loss after epoch 6: 3342098.0\n",
      " Epoch 7 of 15.Change in loss after epoch 7: 3328456.0\n",
      " Epoch 8 of 15.Change in loss after epoch 8: 3245080.0\n",
      " Epoch 9 of 15.Change in loss after epoch 9: 1897702.0\n",
      " Epoch 10 of 15.Change in loss after epoch 10: 1907112.0\n",
      "Saving model with name: C:\\OneDrive - Netherlands eScience Center\\Project_Wageningen_iOMEGA\\Spec2Vec\\models_trained\\S2V_allGNPS_pos_libmatching_occ5_d300_w500_neg5_minmax10_1000_dec2_exp08_iter_10.model\n",
      " Epoch 11 of 15.Change in loss after epoch 11: 1851244.0\n",
      " Epoch 12 of 15.Change in loss after epoch 12: 1807132.0\n",
      " Epoch 13 of 15.Change in loss after epoch 13: 1734504.0\n",
      " Epoch 14 of 15.Change in loss after epoch 14: 1754896.0\n",
      " Epoch 15 of 15.Change in loss after epoch 15: 1773476.0\n",
      "Saving model with name: C:\\OneDrive - Netherlands eScience Center\\Project_Wageningen_iOMEGA\\Spec2Vec\\models_trained\\S2V_allGNPS_pos_libmatching_occ5_d300_w500_neg5_minmax10_1000_dec2_exp08_iter_15.model\n",
      "Learning rate droped from 0.025 to 0.02125014569744245\n"
     ]
    }
   ],
   "source": [
    "# Remove selected spectra from corpus\n",
    "MS_docs_removedpart = [MS_documents[x] for x in range(len(MS_documents)) if x not in selected_spectra]\n",
    "MS_docs_intensity_removedpart = [MS_documents_intensity[x] for x in range(len(MS_documents)) if x not in selected_spectra]   \n",
    "print(\"Modified corpus consists of\", len(MS_docs_removedpart), \"documents.\")\n",
    "\n",
    "MS_library = SimilarityMeasures(MS_docs_removedpart, MS_docs_intensity_removedpart)\n",
    "MS_library.preprocess_documents(1, min_frequency = 2, create_stopwords = False)\n",
    "print(\"Number of unique words: \", len(MS_library.dictionary))\n",
    "\n",
    "# Train new model based on reduced corpus\n",
    "file_model_word2vec = PATH_SAVE_MODEL + 'S2V_allGNPS_pos_libmatching_occ5_d300_w500_neg5_minmax10_1000_dec2_exp08.model'\n",
    "MS_library.build_model_word2vec(file_model_word2vec, sg=0, negative=5, size=300, window=500, \n",
    "                             min_count=1, workers=4, iterations= [10,5], \n",
    "                             use_stored_model=True)\n",
    "print(\"Learning rate droped from\", MS_library.model_word2vec.alpha, \"to\", MS_library.model_word2vec.min_alpha_yet_reached)"
   ]
  },
  {
   "cell_type": "markdown",
   "metadata": {},
   "source": [
    "### Calculate Spec2Vec spectra vectors for all library spectra"
   ]
  },
  {
   "cell_type": "code",
   "execution_count": 174,
   "metadata": {},
   "outputs": [
    {
     "name": "stdout",
     "output_type": "stream",
     "text": [
      "All 'words' of the given documents were found in the trained word2vec model.\n",
      "  Calculated centroid vectors for  89226  of  89226  documents.89226  documents.  documents.  documents. 89226  documents.  of  89226  documents. of  89226  documents. of  89226  documents. documents. 89226  documents.89226  documents.  documents. of  89226  documents. 89226  documents. documents.89226  documents.89226  documents. of  89226  documents. documents.19280  of  89226  documents.  documents. of  89226  documents. documents. documents.  documents. documents.  documents. 89226  documents. 89226  documents. documents.  documents. documents. documents.  documents.89226  documents.89226  documents.  documents.  of  89226  documents. 89226  documents. of  89226  documents. of  89226  documents. of  89226  documents.  documents.  of  89226  documents. 89226  documents.47190  of  89226  documents. 89226  documents. documents.89226  documents. documents.  of  89226  documents.  of  89226  documents.89226  documents.  documents. of  89226  documents. of  89226  documents.  documents.  documents.  of  89226  documents. 89226  documents.  of  89226  documents. of  89226  documents. 89226  documents.  of  89226  documents. of  89226  documents. documents.  documents. 89226  documents. 89226  documents.89226  documents. documents.  documents. documents. 89226  documents.  of  89226  documents.89226  documents. of  89226  documents. of  89226  documents.  documents. 81320  of  89226  documents. of  89226  documents.83480  of  89226  documents. of  89226  documents."
     ]
    }
   ],
   "source": [
    "MS_library.get_vectors_centroid(method = 'ignore', \n",
    "                                 tfidf_weighted = False, \n",
    "                                 weighting_power = 0.5, \n",
    "                                 tfidf_model = None,\n",
    "                                 extra_epochs = 0)"
   ]
  },
  {
   "cell_type": "markdown",
   "metadata": {},
   "source": [
    "---\n",
    "### Save MS_library object with S2V model and calculated spectra vectors\n",
    "This will save the entire SimilarityMeasures class object: MS_library."
   ]
  },
  {
   "cell_type": "code",
   "execution_count": 175,
   "metadata": {},
   "outputs": [],
   "source": [
    "MS_library.save(PATH_COMPUTED + 'MS_library_matching_unkown_spectra_191129.obj')"
   ]
  },
  {
   "cell_type": "markdown",
   "metadata": {},
   "source": [
    "---\n",
    "### Or load MS_library object if already processed before..."
   ]
  },
  {
   "cell_type": "code",
   "execution_count": 88,
   "metadata": {},
   "outputs": [],
   "source": [
    "MS_library = SimilarityMeasures([])\n",
    "MS_library.load(PATH_COMPUTED + 'MS_library_matching_unkown_spectra_191129.obj')"
   ]
  },
  {
   "cell_type": "markdown",
   "metadata": {},
   "source": [
    "### Create library data by removing selected spectra"
   ]
  },
  {
   "cell_type": "code",
   "execution_count": 89,
   "metadata": {},
   "outputs": [
    {
     "data": {
      "text/plain": [
       "(89226, 10)"
      ]
     },
     "execution_count": 89,
     "metadata": {},
     "output_type": "execute_result"
    }
   ],
   "source": [
    "library_spectra_IDs = [x for x in range(len(spectra)) if x not in selected_spectra]\n",
    "library_spectra_metadata = spectra_metadata.loc[library_spectra_IDs]\n",
    "\n",
    "library_spectra_metadata.shape"
   ]
  },
  {
   "cell_type": "code",
   "execution_count": 90,
   "metadata": {},
   "outputs": [
    {
     "name": "stdout",
     "output_type": "stream",
     "text": [
      "Number of 'unknown' spectra: 1000\n",
      "Number of reference spectra in library: 89226\n"
     ]
    }
   ],
   "source": [
    "spectra_unknown = [spectra[x] for x in selected_spectra]\n",
    "spectra_library = [spectra[x] for x in range(len(spectra)) if x not in selected_spectra]\n",
    "print(\"Number of 'unknown' spectra:\", len(spectra_unknown))\n",
    "print(\"Number of reference spectra in library:\", len(spectra_library))"
   ]
  },
  {
   "cell_type": "markdown",
   "metadata": {},
   "source": [
    "### Calculate Spec2Vec spectra vector for query spectra"
   ]
  },
  {
   "cell_type": "code",
   "execution_count": 91,
   "metadata": {},
   "outputs": [
    {
     "name": "stdout",
     "output_type": "stream",
     "text": [
      "  Created documents for  1000  of  1000  spectra.\n",
      " ----------------------------------------\n",
      "Not all 'words' of the given documents are present in the trained word2vec model!\n",
      "20  out of  53763  'words' were not found in the word2vec model.\n",
      "'Words'missing in the pretrained word2vec model will be ignored.\n",
      "Removing missing 'words' from corpus...\n",
      "----- Deriving Spec2Vec spectra vectors -----\n",
      "  Calculated Spec2Vec spectra vectors for  1000  of  1000  documents. documents.  documents."
     ]
    }
   ],
   "source": [
    "spectra_vectors = MS_functions.vectorize_spectra(spectra_unknown,\n",
    "                                                  MS_library,\n",
    "                                                  num_decimals = 2,\n",
    "                                                  min_loss = 5.0, \n",
    "                                                  max_loss = 500.0,\n",
    "                                                  peak_loss_words = ['peak_', 'loss_'],\n",
    "                                                  weighting_power = 0.5)"
   ]
  },
  {
   "cell_type": "markdown",
   "metadata": {},
   "source": [
    "### Find potential matches"
   ]
  },
  {
   "cell_type": "code",
   "execution_count": 99,
   "metadata": {},
   "outputs": [
    {
     "name": "stdout",
     "output_type": "stream",
     "text": [
      "Spec2Vec spectra vectors found for library data.\n"
     ]
    }
   ],
   "source": [
    "found_matches = library_matching(spectra_unknown, \n",
    "                                  spectra_library,\n",
    "                                  library_spectra_metadata, \n",
    "                                  MS_library, \n",
    "                                  top_n = 10,\n",
    "                                  mz_ppm = [2, 10, 50],\n",
    "                                  spectra_vectors = spectra_vectors,\n",
    "                                  ignore_non_annotated = True,\n",
    "                                  cosine_tol = 0.05)"
   ]
  },
  {
   "cell_type": "code",
   "execution_count": 100,
   "metadata": {},
   "outputs": [
    {
     "data": {
      "text/html": [
       "<div>\n",
       "<style scoped>\n",
       "    .dataframe tbody tr th:only-of-type {\n",
       "        vertical-align: middle;\n",
       "    }\n",
       "\n",
       "    .dataframe tbody tr th {\n",
       "        vertical-align: top;\n",
       "    }\n",
       "\n",
       "    .dataframe thead th {\n",
       "        text-align: right;\n",
       "    }\n",
       "</style>\n",
       "<table border=\"1\" class=\"dataframe\">\n",
       "  <thead>\n",
       "    <tr style=\"text-align: right;\">\n",
       "      <th></th>\n",
       "      <th>spectra_ID</th>\n",
       "      <th>mass_match50ppm</th>\n",
       "      <th>S2V_top_n</th>\n",
       "      <th>S2V_similarity</th>\n",
       "      <th>inchikey_match</th>\n",
       "      <th>mass_match_10ppm</th>\n",
       "      <th>mass_match_2ppm</th>\n",
       "      <th>cosine_score</th>\n",
       "      <th>cosine_matches</th>\n",
       "      <th>modcosine_score</th>\n",
       "      <th>modcosine_matches</th>\n",
       "    </tr>\n",
       "  </thead>\n",
       "  <tbody>\n",
       "    <tr>\n",
       "      <th>0</th>\n",
       "      <td>3825</td>\n",
       "      <td>1</td>\n",
       "      <td>0</td>\n",
       "      <td>0.025486</td>\n",
       "      <td>0</td>\n",
       "      <td>0</td>\n",
       "      <td>0</td>\n",
       "      <td>0.022395</td>\n",
       "      <td>8</td>\n",
       "      <td>0.022395</td>\n",
       "      <td>8</td>\n",
       "    </tr>\n",
       "    <tr>\n",
       "      <th>1</th>\n",
       "      <td>6124</td>\n",
       "      <td>1</td>\n",
       "      <td>0</td>\n",
       "      <td>0.084811</td>\n",
       "      <td>0</td>\n",
       "      <td>0</td>\n",
       "      <td>0</td>\n",
       "      <td>0.076694</td>\n",
       "      <td>3</td>\n",
       "      <td>0.076694</td>\n",
       "      <td>3</td>\n",
       "    </tr>\n",
       "    <tr>\n",
       "      <th>2</th>\n",
       "      <td>10447</td>\n",
       "      <td>1</td>\n",
       "      <td>0</td>\n",
       "      <td>0.343548</td>\n",
       "      <td>0</td>\n",
       "      <td>0</td>\n",
       "      <td>0</td>\n",
       "      <td>0.203843</td>\n",
       "      <td>35</td>\n",
       "      <td>0.203843</td>\n",
       "      <td>35</td>\n",
       "    </tr>\n",
       "    <tr>\n",
       "      <th>3</th>\n",
       "      <td>11181</td>\n",
       "      <td>1</td>\n",
       "      <td>0</td>\n",
       "      <td>0.058822</td>\n",
       "      <td>0</td>\n",
       "      <td>0</td>\n",
       "      <td>0</td>\n",
       "      <td>0.031580</td>\n",
       "      <td>22</td>\n",
       "      <td>0.031580</td>\n",
       "      <td>22</td>\n",
       "    </tr>\n",
       "    <tr>\n",
       "      <th>4</th>\n",
       "      <td>11591</td>\n",
       "      <td>1</td>\n",
       "      <td>0</td>\n",
       "      <td>0.125912</td>\n",
       "      <td>0</td>\n",
       "      <td>0</td>\n",
       "      <td>0</td>\n",
       "      <td>0.097298</td>\n",
       "      <td>33</td>\n",
       "      <td>0.097298</td>\n",
       "      <td>33</td>\n",
       "    </tr>\n",
       "    <tr>\n",
       "      <th>5</th>\n",
       "      <td>14243</td>\n",
       "      <td>1</td>\n",
       "      <td>0</td>\n",
       "      <td>0.090944</td>\n",
       "      <td>0</td>\n",
       "      <td>0</td>\n",
       "      <td>0</td>\n",
       "      <td>0.001525</td>\n",
       "      <td>31</td>\n",
       "      <td>0.001545</td>\n",
       "      <td>36</td>\n",
       "    </tr>\n",
       "    <tr>\n",
       "      <th>6</th>\n",
       "      <td>22279</td>\n",
       "      <td>1</td>\n",
       "      <td>0</td>\n",
       "      <td>0.081800</td>\n",
       "      <td>0</td>\n",
       "      <td>0</td>\n",
       "      <td>0</td>\n",
       "      <td>0.094880</td>\n",
       "      <td>11</td>\n",
       "      <td>0.094897</td>\n",
       "      <td>13</td>\n",
       "    </tr>\n",
       "    <tr>\n",
       "      <th>7</th>\n",
       "      <td>23661</td>\n",
       "      <td>1</td>\n",
       "      <td>0</td>\n",
       "      <td>0.073963</td>\n",
       "      <td>0</td>\n",
       "      <td>0</td>\n",
       "      <td>0</td>\n",
       "      <td>0.050907</td>\n",
       "      <td>3</td>\n",
       "      <td>0.050907</td>\n",
       "      <td>3</td>\n",
       "    </tr>\n",
       "    <tr>\n",
       "      <th>8</th>\n",
       "      <td>24534</td>\n",
       "      <td>1</td>\n",
       "      <td>0</td>\n",
       "      <td>0.114404</td>\n",
       "      <td>0</td>\n",
       "      <td>0</td>\n",
       "      <td>0</td>\n",
       "      <td>0.090502</td>\n",
       "      <td>3</td>\n",
       "      <td>0.090502</td>\n",
       "      <td>3</td>\n",
       "    </tr>\n",
       "    <tr>\n",
       "      <th>9</th>\n",
       "      <td>24535</td>\n",
       "      <td>1</td>\n",
       "      <td>0</td>\n",
       "      <td>0.098063</td>\n",
       "      <td>0</td>\n",
       "      <td>0</td>\n",
       "      <td>0</td>\n",
       "      <td>0.103186</td>\n",
       "      <td>10</td>\n",
       "      <td>0.103186</td>\n",
       "      <td>10</td>\n",
       "    </tr>\n",
       "    <tr>\n",
       "      <th>10</th>\n",
       "      <td>24536</td>\n",
       "      <td>1</td>\n",
       "      <td>0</td>\n",
       "      <td>0.050021</td>\n",
       "      <td>0</td>\n",
       "      <td>0</td>\n",
       "      <td>0</td>\n",
       "      <td>0.034021</td>\n",
       "      <td>10</td>\n",
       "      <td>0.034021</td>\n",
       "      <td>10</td>\n",
       "    </tr>\n",
       "    <tr>\n",
       "      <th>11</th>\n",
       "      <td>31460</td>\n",
       "      <td>1</td>\n",
       "      <td>0</td>\n",
       "      <td>0.082898</td>\n",
       "      <td>0</td>\n",
       "      <td>0</td>\n",
       "      <td>0</td>\n",
       "      <td>0.102279</td>\n",
       "      <td>28</td>\n",
       "      <td>0.102318</td>\n",
       "      <td>29</td>\n",
       "    </tr>\n",
       "    <tr>\n",
       "      <th>12</th>\n",
       "      <td>31515</td>\n",
       "      <td>1</td>\n",
       "      <td>0</td>\n",
       "      <td>0.120678</td>\n",
       "      <td>0</td>\n",
       "      <td>0</td>\n",
       "      <td>0</td>\n",
       "      <td>0.104766</td>\n",
       "      <td>18</td>\n",
       "      <td>0.104963</td>\n",
       "      <td>19</td>\n",
       "    </tr>\n",
       "    <tr>\n",
       "      <th>13</th>\n",
       "      <td>31593</td>\n",
       "      <td>1</td>\n",
       "      <td>0</td>\n",
       "      <td>0.045940</td>\n",
       "      <td>0</td>\n",
       "      <td>0</td>\n",
       "      <td>0</td>\n",
       "      <td>0.000285</td>\n",
       "      <td>5</td>\n",
       "      <td>0.000285</td>\n",
       "      <td>5</td>\n",
       "    </tr>\n",
       "    <tr>\n",
       "      <th>14</th>\n",
       "      <td>36022</td>\n",
       "      <td>1</td>\n",
       "      <td>0</td>\n",
       "      <td>0.148060</td>\n",
       "      <td>0</td>\n",
       "      <td>0</td>\n",
       "      <td>0</td>\n",
       "      <td>0.095478</td>\n",
       "      <td>8</td>\n",
       "      <td>0.095478</td>\n",
       "      <td>8</td>\n",
       "    </tr>\n",
       "    <tr>\n",
       "      <th>15</th>\n",
       "      <td>36023</td>\n",
       "      <td>1</td>\n",
       "      <td>0</td>\n",
       "      <td>0.075508</td>\n",
       "      <td>0</td>\n",
       "      <td>0</td>\n",
       "      <td>0</td>\n",
       "      <td>0.115782</td>\n",
       "      <td>23</td>\n",
       "      <td>0.115782</td>\n",
       "      <td>23</td>\n",
       "    </tr>\n",
       "    <tr>\n",
       "      <th>16</th>\n",
       "      <td>37332</td>\n",
       "      <td>1</td>\n",
       "      <td>0</td>\n",
       "      <td>0.148052</td>\n",
       "      <td>0</td>\n",
       "      <td>0</td>\n",
       "      <td>0</td>\n",
       "      <td>0.095045</td>\n",
       "      <td>8</td>\n",
       "      <td>0.095045</td>\n",
       "      <td>8</td>\n",
       "    </tr>\n",
       "    <tr>\n",
       "      <th>17</th>\n",
       "      <td>37333</td>\n",
       "      <td>1</td>\n",
       "      <td>0</td>\n",
       "      <td>0.140776</td>\n",
       "      <td>0</td>\n",
       "      <td>0</td>\n",
       "      <td>0</td>\n",
       "      <td>0.095180</td>\n",
       "      <td>9</td>\n",
       "      <td>0.095180</td>\n",
       "      <td>9</td>\n",
       "    </tr>\n",
       "    <tr>\n",
       "      <th>18</th>\n",
       "      <td>37334</td>\n",
       "      <td>1</td>\n",
       "      <td>0</td>\n",
       "      <td>0.089174</td>\n",
       "      <td>0</td>\n",
       "      <td>0</td>\n",
       "      <td>0</td>\n",
       "      <td>0.115729</td>\n",
       "      <td>20</td>\n",
       "      <td>0.115729</td>\n",
       "      <td>20</td>\n",
       "    </tr>\n",
       "    <tr>\n",
       "      <th>19</th>\n",
       "      <td>37784</td>\n",
       "      <td>1</td>\n",
       "      <td>0</td>\n",
       "      <td>0.347102</td>\n",
       "      <td>0</td>\n",
       "      <td>0</td>\n",
       "      <td>0</td>\n",
       "      <td>0.159003</td>\n",
       "      <td>75</td>\n",
       "      <td>0.159009</td>\n",
       "      <td>75</td>\n",
       "    </tr>\n",
       "    <tr>\n",
       "      <th>20</th>\n",
       "      <td>37785</td>\n",
       "      <td>1</td>\n",
       "      <td>0</td>\n",
       "      <td>0.323008</td>\n",
       "      <td>0</td>\n",
       "      <td>0</td>\n",
       "      <td>0</td>\n",
       "      <td>0.213028</td>\n",
       "      <td>75</td>\n",
       "      <td>0.213059</td>\n",
       "      <td>76</td>\n",
       "    </tr>\n",
       "    <tr>\n",
       "      <th>21</th>\n",
       "      <td>37786</td>\n",
       "      <td>1</td>\n",
       "      <td>0</td>\n",
       "      <td>0.312265</td>\n",
       "      <td>0</td>\n",
       "      <td>0</td>\n",
       "      <td>0</td>\n",
       "      <td>0.174763</td>\n",
       "      <td>58</td>\n",
       "      <td>0.174763</td>\n",
       "      <td>58</td>\n",
       "    </tr>\n",
       "    <tr>\n",
       "      <th>22</th>\n",
       "      <td>47892</td>\n",
       "      <td>1</td>\n",
       "      <td>0</td>\n",
       "      <td>0.285028</td>\n",
       "      <td>0</td>\n",
       "      <td>0</td>\n",
       "      <td>0</td>\n",
       "      <td>0.192630</td>\n",
       "      <td>67</td>\n",
       "      <td>0.192693</td>\n",
       "      <td>68</td>\n",
       "    </tr>\n",
       "    <tr>\n",
       "      <th>23</th>\n",
       "      <td>47893</td>\n",
       "      <td>1</td>\n",
       "      <td>0</td>\n",
       "      <td>0.322521</td>\n",
       "      <td>0</td>\n",
       "      <td>0</td>\n",
       "      <td>0</td>\n",
       "      <td>0.188099</td>\n",
       "      <td>57</td>\n",
       "      <td>0.188099</td>\n",
       "      <td>57</td>\n",
       "    </tr>\n",
       "    <tr>\n",
       "      <th>24</th>\n",
       "      <td>47894</td>\n",
       "      <td>1</td>\n",
       "      <td>0</td>\n",
       "      <td>0.295331</td>\n",
       "      <td>0</td>\n",
       "      <td>0</td>\n",
       "      <td>0</td>\n",
       "      <td>0.154377</td>\n",
       "      <td>50</td>\n",
       "      <td>0.154562</td>\n",
       "      <td>51</td>\n",
       "    </tr>\n",
       "    <tr>\n",
       "      <th>25</th>\n",
       "      <td>48385</td>\n",
       "      <td>1</td>\n",
       "      <td>1</td>\n",
       "      <td>0.690019</td>\n",
       "      <td>1</td>\n",
       "      <td>1</td>\n",
       "      <td>1</td>\n",
       "      <td>0.263305</td>\n",
       "      <td>106</td>\n",
       "      <td>0.263305</td>\n",
       "      <td>106</td>\n",
       "    </tr>\n",
       "    <tr>\n",
       "      <th>26</th>\n",
       "      <td>48386</td>\n",
       "      <td>1</td>\n",
       "      <td>1</td>\n",
       "      <td>0.782549</td>\n",
       "      <td>1</td>\n",
       "      <td>1</td>\n",
       "      <td>1</td>\n",
       "      <td>0.802760</td>\n",
       "      <td>62</td>\n",
       "      <td>0.802760</td>\n",
       "      <td>62</td>\n",
       "    </tr>\n",
       "    <tr>\n",
       "      <th>27</th>\n",
       "      <td>54330</td>\n",
       "      <td>1</td>\n",
       "      <td>0</td>\n",
       "      <td>-0.029228</td>\n",
       "      <td>0</td>\n",
       "      <td>0</td>\n",
       "      <td>0</td>\n",
       "      <td>0.095809</td>\n",
       "      <td>6</td>\n",
       "      <td>0.096288</td>\n",
       "      <td>8</td>\n",
       "    </tr>\n",
       "    <tr>\n",
       "      <th>28</th>\n",
       "      <td>54331</td>\n",
       "      <td>1</td>\n",
       "      <td>0</td>\n",
       "      <td>-0.081240</td>\n",
       "      <td>0</td>\n",
       "      <td>0</td>\n",
       "      <td>0</td>\n",
       "      <td>0.030026</td>\n",
       "      <td>8</td>\n",
       "      <td>0.030321</td>\n",
       "      <td>9</td>\n",
       "    </tr>\n",
       "    <tr>\n",
       "      <th>29</th>\n",
       "      <td>54332</td>\n",
       "      <td>1</td>\n",
       "      <td>0</td>\n",
       "      <td>-0.033798</td>\n",
       "      <td>0</td>\n",
       "      <td>0</td>\n",
       "      <td>0</td>\n",
       "      <td>0.020884</td>\n",
       "      <td>21</td>\n",
       "      <td>0.020884</td>\n",
       "      <td>21</td>\n",
       "    </tr>\n",
       "    <tr>\n",
       "      <th>30</th>\n",
       "      <td>54692</td>\n",
       "      <td>1</td>\n",
       "      <td>0</td>\n",
       "      <td>0.310137</td>\n",
       "      <td>0</td>\n",
       "      <td>1</td>\n",
       "      <td>0</td>\n",
       "      <td>0.091837</td>\n",
       "      <td>57</td>\n",
       "      <td>0.091837</td>\n",
       "      <td>57</td>\n",
       "    </tr>\n",
       "    <tr>\n",
       "      <th>31</th>\n",
       "      <td>54693</td>\n",
       "      <td>1</td>\n",
       "      <td>0</td>\n",
       "      <td>0.297751</td>\n",
       "      <td>0</td>\n",
       "      <td>1</td>\n",
       "      <td>0</td>\n",
       "      <td>0.085145</td>\n",
       "      <td>58</td>\n",
       "      <td>0.085145</td>\n",
       "      <td>58</td>\n",
       "    </tr>\n",
       "    <tr>\n",
       "      <th>32</th>\n",
       "      <td>54694</td>\n",
       "      <td>1</td>\n",
       "      <td>0</td>\n",
       "      <td>0.262728</td>\n",
       "      <td>0</td>\n",
       "      <td>1</td>\n",
       "      <td>0</td>\n",
       "      <td>0.110267</td>\n",
       "      <td>50</td>\n",
       "      <td>0.110267</td>\n",
       "      <td>50</td>\n",
       "    </tr>\n",
       "    <tr>\n",
       "      <th>33</th>\n",
       "      <td>56661</td>\n",
       "      <td>1</td>\n",
       "      <td>1</td>\n",
       "      <td>0.624771</td>\n",
       "      <td>0</td>\n",
       "      <td>1</td>\n",
       "      <td>1</td>\n",
       "      <td>0.148754</td>\n",
       "      <td>65</td>\n",
       "      <td>0.148754</td>\n",
       "      <td>65</td>\n",
       "    </tr>\n",
       "    <tr>\n",
       "      <th>34</th>\n",
       "      <td>56662</td>\n",
       "      <td>1</td>\n",
       "      <td>0</td>\n",
       "      <td>0.318581</td>\n",
       "      <td>0</td>\n",
       "      <td>1</td>\n",
       "      <td>1</td>\n",
       "      <td>0.099004</td>\n",
       "      <td>11</td>\n",
       "      <td>0.099004</td>\n",
       "      <td>11</td>\n",
       "    </tr>\n",
       "    <tr>\n",
       "      <th>35</th>\n",
       "      <td>56663</td>\n",
       "      <td>1</td>\n",
       "      <td>0</td>\n",
       "      <td>0.338781</td>\n",
       "      <td>0</td>\n",
       "      <td>1</td>\n",
       "      <td>1</td>\n",
       "      <td>0.190295</td>\n",
       "      <td>11</td>\n",
       "      <td>0.190295</td>\n",
       "      <td>11</td>\n",
       "    </tr>\n",
       "    <tr>\n",
       "      <th>36</th>\n",
       "      <td>56926</td>\n",
       "      <td>1</td>\n",
       "      <td>0</td>\n",
       "      <td>0.601852</td>\n",
       "      <td>0</td>\n",
       "      <td>1</td>\n",
       "      <td>0</td>\n",
       "      <td>0.519709</td>\n",
       "      <td>76</td>\n",
       "      <td>0.519709</td>\n",
       "      <td>76</td>\n",
       "    </tr>\n",
       "    <tr>\n",
       "      <th>37</th>\n",
       "      <td>56927</td>\n",
       "      <td>1</td>\n",
       "      <td>1</td>\n",
       "      <td>0.639381</td>\n",
       "      <td>0</td>\n",
       "      <td>1</td>\n",
       "      <td>0</td>\n",
       "      <td>0.729050</td>\n",
       "      <td>69</td>\n",
       "      <td>0.729050</td>\n",
       "      <td>69</td>\n",
       "    </tr>\n",
       "    <tr>\n",
       "      <th>38</th>\n",
       "      <td>56928</td>\n",
       "      <td>1</td>\n",
       "      <td>0</td>\n",
       "      <td>0.579388</td>\n",
       "      <td>0</td>\n",
       "      <td>1</td>\n",
       "      <td>0</td>\n",
       "      <td>0.474728</td>\n",
       "      <td>51</td>\n",
       "      <td>0.474728</td>\n",
       "      <td>51</td>\n",
       "    </tr>\n",
       "    <tr>\n",
       "      <th>39</th>\n",
       "      <td>49654</td>\n",
       "      <td>0</td>\n",
       "      <td>1</td>\n",
       "      <td>0.677215</td>\n",
       "      <td>0</td>\n",
       "      <td>0</td>\n",
       "      <td>0</td>\n",
       "      <td>0.561164</td>\n",
       "      <td>53</td>\n",
       "      <td>0.561325</td>\n",
       "      <td>54</td>\n",
       "    </tr>\n",
       "    <tr>\n",
       "      <th>40</th>\n",
       "      <td>49653</td>\n",
       "      <td>0</td>\n",
       "      <td>1</td>\n",
       "      <td>0.664056</td>\n",
       "      <td>0</td>\n",
       "      <td>0</td>\n",
       "      <td>0</td>\n",
       "      <td>0.311945</td>\n",
       "      <td>62</td>\n",
       "      <td>0.328101</td>\n",
       "      <td>62</td>\n",
       "    </tr>\n",
       "    <tr>\n",
       "      <th>41</th>\n",
       "      <td>50001</td>\n",
       "      <td>0</td>\n",
       "      <td>1</td>\n",
       "      <td>0.635759</td>\n",
       "      <td>0</td>\n",
       "      <td>0</td>\n",
       "      <td>0</td>\n",
       "      <td>0.381685</td>\n",
       "      <td>31</td>\n",
       "      <td>0.386093</td>\n",
       "      <td>33</td>\n",
       "    </tr>\n",
       "    <tr>\n",
       "      <th>42</th>\n",
       "      <td>49512</td>\n",
       "      <td>0</td>\n",
       "      <td>1</td>\n",
       "      <td>0.628190</td>\n",
       "      <td>0</td>\n",
       "      <td>0</td>\n",
       "      <td>0</td>\n",
       "      <td>0.350903</td>\n",
       "      <td>24</td>\n",
       "      <td>0.352269</td>\n",
       "      <td>28</td>\n",
       "    </tr>\n",
       "    <tr>\n",
       "      <th>43</th>\n",
       "      <td>54198</td>\n",
       "      <td>0</td>\n",
       "      <td>1</td>\n",
       "      <td>0.625385</td>\n",
       "      <td>0</td>\n",
       "      <td>0</td>\n",
       "      <td>0</td>\n",
       "      <td>0.306351</td>\n",
       "      <td>28</td>\n",
       "      <td>0.311270</td>\n",
       "      <td>27</td>\n",
       "    </tr>\n",
       "    <tr>\n",
       "      <th>44</th>\n",
       "      <td>54200</td>\n",
       "      <td>0</td>\n",
       "      <td>1</td>\n",
       "      <td>0.619858</td>\n",
       "      <td>0</td>\n",
       "      <td>0</td>\n",
       "      <td>0</td>\n",
       "      <td>0.364625</td>\n",
       "      <td>25</td>\n",
       "      <td>0.365391</td>\n",
       "      <td>25</td>\n",
       "    </tr>\n",
       "  </tbody>\n",
       "</table>\n",
       "</div>"
      ],
      "text/plain": [
       "    spectra_ID  mass_match50ppm  S2V_top_n  S2V_similarity  inchikey_match  \\\n",
       "0         3825                1          0        0.025486               0   \n",
       "1         6124                1          0        0.084811               0   \n",
       "2        10447                1          0        0.343548               0   \n",
       "3        11181                1          0        0.058822               0   \n",
       "4        11591                1          0        0.125912               0   \n",
       "5        14243                1          0        0.090944               0   \n",
       "6        22279                1          0        0.081800               0   \n",
       "7        23661                1          0        0.073963               0   \n",
       "8        24534                1          0        0.114404               0   \n",
       "9        24535                1          0        0.098063               0   \n",
       "10       24536                1          0        0.050021               0   \n",
       "11       31460                1          0        0.082898               0   \n",
       "12       31515                1          0        0.120678               0   \n",
       "13       31593                1          0        0.045940               0   \n",
       "14       36022                1          0        0.148060               0   \n",
       "15       36023                1          0        0.075508               0   \n",
       "16       37332                1          0        0.148052               0   \n",
       "17       37333                1          0        0.140776               0   \n",
       "18       37334                1          0        0.089174               0   \n",
       "19       37784                1          0        0.347102               0   \n",
       "20       37785                1          0        0.323008               0   \n",
       "21       37786                1          0        0.312265               0   \n",
       "22       47892                1          0        0.285028               0   \n",
       "23       47893                1          0        0.322521               0   \n",
       "24       47894                1          0        0.295331               0   \n",
       "25       48385                1          1        0.690019               1   \n",
       "26       48386                1          1        0.782549               1   \n",
       "27       54330                1          0       -0.029228               0   \n",
       "28       54331                1          0       -0.081240               0   \n",
       "29       54332                1          0       -0.033798               0   \n",
       "30       54692                1          0        0.310137               0   \n",
       "31       54693                1          0        0.297751               0   \n",
       "32       54694                1          0        0.262728               0   \n",
       "33       56661                1          1        0.624771               0   \n",
       "34       56662                1          0        0.318581               0   \n",
       "35       56663                1          0        0.338781               0   \n",
       "36       56926                1          0        0.601852               0   \n",
       "37       56927                1          1        0.639381               0   \n",
       "38       56928                1          0        0.579388               0   \n",
       "39       49654                0          1        0.677215               0   \n",
       "40       49653                0          1        0.664056               0   \n",
       "41       50001                0          1        0.635759               0   \n",
       "42       49512                0          1        0.628190               0   \n",
       "43       54198                0          1        0.625385               0   \n",
       "44       54200                0          1        0.619858               0   \n",
       "\n",
       "    mass_match_10ppm  mass_match_2ppm  cosine_score  cosine_matches  \\\n",
       "0                  0                0      0.022395               8   \n",
       "1                  0                0      0.076694               3   \n",
       "2                  0                0      0.203843              35   \n",
       "3                  0                0      0.031580              22   \n",
       "4                  0                0      0.097298              33   \n",
       "5                  0                0      0.001525              31   \n",
       "6                  0                0      0.094880              11   \n",
       "7                  0                0      0.050907               3   \n",
       "8                  0                0      0.090502               3   \n",
       "9                  0                0      0.103186              10   \n",
       "10                 0                0      0.034021              10   \n",
       "11                 0                0      0.102279              28   \n",
       "12                 0                0      0.104766              18   \n",
       "13                 0                0      0.000285               5   \n",
       "14                 0                0      0.095478               8   \n",
       "15                 0                0      0.115782              23   \n",
       "16                 0                0      0.095045               8   \n",
       "17                 0                0      0.095180               9   \n",
       "18                 0                0      0.115729              20   \n",
       "19                 0                0      0.159003              75   \n",
       "20                 0                0      0.213028              75   \n",
       "21                 0                0      0.174763              58   \n",
       "22                 0                0      0.192630              67   \n",
       "23                 0                0      0.188099              57   \n",
       "24                 0                0      0.154377              50   \n",
       "25                 1                1      0.263305             106   \n",
       "26                 1                1      0.802760              62   \n",
       "27                 0                0      0.095809               6   \n",
       "28                 0                0      0.030026               8   \n",
       "29                 0                0      0.020884              21   \n",
       "30                 1                0      0.091837              57   \n",
       "31                 1                0      0.085145              58   \n",
       "32                 1                0      0.110267              50   \n",
       "33                 1                1      0.148754              65   \n",
       "34                 1                1      0.099004              11   \n",
       "35                 1                1      0.190295              11   \n",
       "36                 1                0      0.519709              76   \n",
       "37                 1                0      0.729050              69   \n",
       "38                 1                0      0.474728              51   \n",
       "39                 0                0      0.561164              53   \n",
       "40                 0                0      0.311945              62   \n",
       "41                 0                0      0.381685              31   \n",
       "42                 0                0      0.350903              24   \n",
       "43                 0                0      0.306351              28   \n",
       "44                 0                0      0.364625              25   \n",
       "\n",
       "    modcosine_score  modcosine_matches  \n",
       "0          0.022395                  8  \n",
       "1          0.076694                  3  \n",
       "2          0.203843                 35  \n",
       "3          0.031580                 22  \n",
       "4          0.097298                 33  \n",
       "5          0.001545                 36  \n",
       "6          0.094897                 13  \n",
       "7          0.050907                  3  \n",
       "8          0.090502                  3  \n",
       "9          0.103186                 10  \n",
       "10         0.034021                 10  \n",
       "11         0.102318                 29  \n",
       "12         0.104963                 19  \n",
       "13         0.000285                  5  \n",
       "14         0.095478                  8  \n",
       "15         0.115782                 23  \n",
       "16         0.095045                  8  \n",
       "17         0.095180                  9  \n",
       "18         0.115729                 20  \n",
       "19         0.159009                 75  \n",
       "20         0.213059                 76  \n",
       "21         0.174763                 58  \n",
       "22         0.192693                 68  \n",
       "23         0.188099                 57  \n",
       "24         0.154562                 51  \n",
       "25         0.263305                106  \n",
       "26         0.802760                 62  \n",
       "27         0.096288                  8  \n",
       "28         0.030321                  9  \n",
       "29         0.020884                 21  \n",
       "30         0.091837                 57  \n",
       "31         0.085145                 58  \n",
       "32         0.110267                 50  \n",
       "33         0.148754                 65  \n",
       "34         0.099004                 11  \n",
       "35         0.190295                 11  \n",
       "36         0.519709                 76  \n",
       "37         0.729050                 69  \n",
       "38         0.474728                 51  \n",
       "39         0.561325                 54  \n",
       "40         0.328101                 62  \n",
       "41         0.386093                 33  \n",
       "42         0.352269                 28  \n",
       "43         0.311270                 27  \n",
       "44         0.365391                 25  "
      ]
     },
     "execution_count": 100,
     "metadata": {},
     "output_type": "execute_result"
    }
   ],
   "source": [
    "found_matches[4]"
   ]
  },
  {
   "cell_type": "code",
   "execution_count": 101,
   "metadata": {},
   "outputs": [],
   "source": [
    "test0_true_false = []\n",
    "test1_true_false = []\n",
    "test2_true_false = []\n",
    "test3_true_false = []\n",
    "test4_true_false = []\n",
    "\n",
    "for ID in range(len(spectra_unknown)):\n",
    "    \n",
    "    # Scenario 0: mass + sort by frequency\n",
    "    df_select = found_matches[ID][found_matches[ID]['mass_match_10ppm'] == 1]\n",
    "    if df_select.shape[0] > 0:\n",
    "        # Find most frequent inchikey among mass matches\n",
    "        idx = found_matches[ID][(found_matches[ID]['mass_match_10ppm'] == 1)]['spectra_ID'].values\n",
    "        inchikeys14 = pd.Series(library_spectra_metadata.iloc[idx]['inchikey'].str[:14])\n",
    "        best_bet = 1 * (inchikeys14.value_counts().index[0] == spectra_unknown[ID].inchikey[:14])        \n",
    "    else:\n",
    "        best_bet = -1 # meaning: not found\n",
    "    test0_true_false.append(best_bet)\n",
    "    \n",
    "    # Scenario 1: mass + sort by mod.cos\n",
    "    df_select = found_matches[ID][(found_matches[ID]['mass_match_10ppm'] == 1)]\n",
    "    if df_select.shape[0] > 0:\n",
    "        best_bet = df_select.sort_values(by=['modcosine_score'], ascending=False).iloc[0].inchikey_match\n",
    "    else:\n",
    "        best_bet = -1 # meaning: not found\n",
    "    test1_true_false.append(best_bet)\n",
    "    \n",
    "    # Scenario 2: mass + sort by Spec2Vec\n",
    "    df_select = found_matches[ID][(found_matches[ID]['mass_match_10ppm'] == 1)]\n",
    "    if df_select.shape[0] > 0:\n",
    "        best_bet = df_select.sort_values(by=['S2V_similarity'], ascending=False).iloc[0].inchikey_match\n",
    "    else:\n",
    "        best_bet = -1 # meaning: not found\n",
    "    test2_true_false.append(best_bet)\n",
    "    \n",
    "    # Scenario 3: mass + Spec2Vec + mod.cosine\n",
    "    df_select = found_matches[ID][(found_matches[ID]['mass_match_10ppm'] == 1) \n",
    "                                  & (found_matches[ID]['S2V_top_n'] > 0)\n",
    "                                  & (found_matches[ID]['modcosine_score'] > 0.5)]\n",
    "    if df_select.shape[0] > 0:\n",
    "        best_bet = df_select.sort_values(by=['S2V_similarity', 'modcosine_score'], ascending=False).iloc[0].inchikey_match\n",
    "    else:\n",
    "        best_bet = -1 # meaning: not found\n",
    "    test3_true_false.append(best_bet)  \n",
    "    \n",
    "    # Scenario 4: mass + Spec2Vec + mod.cosine\n",
    "    df_select = found_matches[ID][(found_matches[ID]['mass_match_10ppm'] == 1) \n",
    "                                  & ((found_matches[ID]['S2V_similarity'] > 0.5) |(found_matches[ID]['modcosine_score'] > 0.5))]\n",
    "    if df_select.shape[0] > 0:\n",
    "        best_bet = df_select.sort_values(by=['S2V_similarity', 'modcosine_score'], ascending=False).iloc[0].inchikey_match\n",
    "    else:\n",
    "        df_select = found_matches[ID][(found_matches[ID]['S2V_top_n'] > 0) \n",
    "                              & (found_matches[ID]['S2V_similarity'] > 0.8)]\n",
    "        if df_select.shape[0] > 0:\n",
    "            best_bet = df_select.sort_values(by=['S2V_similarity', 'modcosine_score'], ascending=False).iloc[0].inchikey_match\n",
    "        else:\n",
    "            best_bet = -1 # meaning: not found\n",
    "\n",
    "    test4_true_false.append(best_bet)\n",
    "\n",
    "# Make arrays from lists:\n",
    "test0_arr = np.array(test0_true_false)\n",
    "test1_arr = np.array(test1_true_false)\n",
    "test2_arr = np.array(test2_true_false)\n",
    "test3_arr = np.array(test3_true_false)\n",
    "test4_arr = np.array(test4_true_false)"
   ]
  },
  {
   "cell_type": "code",
   "execution_count": 102,
   "metadata": {},
   "outputs": [
    {
     "name": "stdout",
     "output_type": "stream",
     "text": [
      "Scenario 0 found matches: 556  --- nothing detected for:  18\n",
      "Scenario 1 found matches: 809  --- nothing detected for:  18\n",
      "Scenario 2 found matches: 835  --- nothing detected for:  18\n",
      "Scenario 3 found matches: 638  --- nothing detected for:  259\n",
      "Scenario 4 found matches: 784  --- nothing detected for:  81\n"
     ]
    }
   ],
   "source": [
    "print(\"Scenario 0 found matches:\", np.sum(test0_arr == 1), \" --- nothing detected for: \", np.sum(test0_arr == -1))\n",
    "print(\"Scenario 1 found matches:\", np.sum(test1_arr == 1), \" --- nothing detected for: \", np.sum(test1_arr == -1))\n",
    "print(\"Scenario 2 found matches:\", np.sum(test2_arr == 1), \" --- nothing detected for: \", np.sum(test2_arr == -1))\n",
    "print(\"Scenario 3 found matches:\", np.sum(test3_arr == 1), \" --- nothing detected for: \", np.sum(test3_arr == -1))\n",
    "print(\"Scenario 4 found matches:\", np.sum(test4_arr == 1), \" --- nothing detected for: \", np.sum(test4_arr == -1))"
   ]
  },
  {
   "cell_type": "markdown",
   "metadata": {},
   "source": [
    "## Plot key results\n",
    "Compare different search procedures by plotting the true matches (unknown spectra matched to correct inchikey), the false matches (matched to other than the correct inchikey), or no matches found (method could not find a suitable match)."
   ]
  },
  {
   "cell_type": "code",
   "execution_count": 103,
   "metadata": {},
   "outputs": [
    {
     "data": {
      "text/plain": [
       "Text(0.5, 1.0, 'Spectral library matching comparison (>3 matching inchikey in library)')"
      ]
     },
     "execution_count": 103,
     "metadata": {},
     "output_type": "execute_result"
    },
    {
     "data": {
      "image/png": "[encoded data removed]",
      "text/plain": [
       "<Figure size 432x288 with 1 Axes>"
      ]
     },
     "metadata": {},
     "output_type": "display_data"
    }
   ],
   "source": [
    "ylabels = ['mass + most frequent inchikey',\n",
    "          'mass + mod.cosine', \n",
    "          'mass + Spec2Vec',\n",
    "          'mass + Spec2Vec + mod.cosine',\n",
    "          'mass + Spec2Vec Scenario 2']#,'mass + Spec2Vec + mod.cosine -> mass + Spec2Vec (2 steps)']\n",
    "xlabels = ['true matches', 'false matches', 'no matches found']\n",
    "          #'mass + mod.cosine \\n + as backup: Spec2Vec + mod.cosine']\n",
    "data = np.array([[np.sum(test0_arr == 1), np.sum(test0_arr == 0), np.sum(test0_arr == -1)],\n",
    "                [np.sum(test1_arr == 1), np.sum(test1_arr == 0), np.sum(test1_arr == -1)],\n",
    "               [np.sum(test2_arr == 1), np.sum(test2_arr == 0), np.sum(test2_arr == -1)],\n",
    "               [np.sum(test3_arr == 1), np.sum(test3_arr == 0), np.sum(test3_arr == -1)],\n",
    "                [np.sum(test4_arr == 1), np.sum(test4_arr == 0), np.sum(test4_arr == -1)]])\n",
    "  \n",
    "dataframe = pd.DataFrame(data, columns=xlabels, index=ylabels)\n",
    "\n",
    "ax = dataframe.sort_values(by=['false matches'], ascending=True).plot.barh(stacked=True, edgecolor='none')\n",
    "\n",
    "horiz_offset = 1.03\n",
    "vert_offset = 1.\n",
    "ax.legend(bbox_to_anchor=(horiz_offset, vert_offset))\n",
    "plt.xlabel('Number of spectra')\n",
    "plt.title('Spectral library matching comparison (>3 matching inchikey in library)')"
   ]
  },
  {
   "cell_type": "code",
   "execution_count": null,
   "metadata": {},
   "outputs": [],
   "source": []
  },
  {
   "cell_type": "code",
   "execution_count": 104,
   "metadata": {},
   "outputs": [],
   "source": [
    "testLR_true_false = [] # linear regression\n",
    "testML_true_false = []\n",
    "\n",
    "for ID in range(len(spectra_unknown)):\n",
    "    \n",
    "    # Scenario ML - linear regression\n",
    "    predictions = regressor.predict(found_matches[ID].drop(columns= ['spectra_ID', 'inchikey_match']))\n",
    "    spectraIDs = found_matches[ID]['spectra_ID'][predictions.argmax()]\n",
    "    #spectraIDs = found_matches[ID][IDs == 1]['spectra_ID'].values.tolist()\n",
    "    inchikeys14 = library_spectra_metadata.iloc[spectraIDs]['inchikey'][:14]\n",
    "    if len(inchikeys14) > 0:\n",
    "        best_bet = 1 * (inchikeys14 == spectra_unknown[ID].inchikey[:14])        \n",
    "    else:\n",
    "        best_bet = -1 # meaning: not found\n",
    "\n",
    "    testLR_true_false.append(best_bet)\n",
    "    \n",
    "    # Scenario ML - decision tree\n",
    "    IDs = ML_model_DT.predict(found_matches[ID].drop(columns= ['spectra_ID', 'inchikey_match']))\n",
    "    spectraIDs = found_matches[ID][IDs == 1]['spectra_ID'].values.tolist()\n",
    "    inchikeys14 = pd.Series(library_spectra_metadata.iloc[spectraIDs]['inchikey'].str[:14])\n",
    "    if inchikeys14.shape[0] > 0:\n",
    "        best_bet = 1 * (inchikeys14.value_counts().index[0] == spectra_unknown[ID].inchikey[:14])        \n",
    "    else:\n",
    "        best_bet = -1 # meaning: not found\n",
    "\n",
    "    testML_true_false.append(best_bet)\n",
    "    \n",
    "# Make arrays from lists:\n",
    "testLR_arr = np.array(testLR_true_false)\n",
    "testML_arr = np.array(testML_true_false)"
   ]
  },
  {
   "cell_type": "code",
   "execution_count": 105,
   "metadata": {},
   "outputs": [
    {
     "name": "stdout",
     "output_type": "stream",
     "text": [
      "Linear regression found matches: 840  --- nothing detected for:  0\n",
      "ML found matches: 618  --- nothing detected for:  67\n"
     ]
    }
   ],
   "source": [
    "print(\"Linear regression found matches:\", np.sum(testLR_arr == 1), \" --- nothing detected for: \", np.sum(testLR_arr == -1))\n",
    "print(\"ML found matches:\", np.sum(testML_arr == 1), \" --- nothing detected for: \", np.sum(testML_arr == -1))"
   ]
  },
  {
   "cell_type": "code",
   "execution_count": null,
   "metadata": {},
   "outputs": [],
   "source": []
  },
  {
   "cell_type": "code",
   "execution_count": 108,
   "metadata": {},
   "outputs": [
    {
     "data": {
      "text/plain": [
       "Text(0.5, 1.0, 'Spectral library matching comparison (>3 matching inchikey in library)')"
      ]
     },
     "execution_count": 108,
     "metadata": {},
     "output_type": "execute_result"
    },
    {
     "data": {
      "image/png": "[encoded data removed]",
      "text/plain": [
       "<Figure size 432x288 with 1 Axes>"
      ]
     },
     "metadata": {},
     "output_type": "display_data"
    }
   ],
   "source": [
    "plt.style.use('ggplot')\n",
    "\n",
    "ylabels = ['mass + most frequent inchikey',\n",
    "          'mass + mod.cosine', \n",
    "          'mass + Spec2Vec',\n",
    "          'mass + Spec2Vec + mod.cosine',\n",
    "          'mass + Spec2Vec Scenario 2',\n",
    "          'linear regression model',\n",
    "          'decision tree + most frequent']\n",
    "xlabels = ['true matches', 'false matches', 'no matches found']\n",
    "          #'mass + mod.cosine \\n + as backup: Spec2Vec + mod.cosine']\n",
    "data = np.array([[np.sum(test0_arr == 1), np.sum(test0_arr == 0), np.sum(test0_arr == -1)],\n",
    "                [np.sum(test1_arr == 1), np.sum(test1_arr == 0), np.sum(test1_arr == -1)],\n",
    "               [np.sum(test2_arr == 1), np.sum(test2_arr == 0), np.sum(test2_arr == -1)],\n",
    "               [np.sum(test3_arr == 1), np.sum(test3_arr == 0), np.sum(test3_arr == -1)],\n",
    "                [np.sum(test4_arr == 1), np.sum(test4_arr == 0), np.sum(test4_arr == -1)],\n",
    "                 [np.sum(testLR_arr == 1), np.sum(testLR_arr == 0), np.sum(testLR_arr == -1)],\n",
    "                 [np.sum(testML_arr == 1), np.sum(testML_arr == 0), np.sum(testML_arr == -1)]])\n",
    "  \n",
    "dataframe = pd.DataFrame(data, columns=xlabels, index=ylabels)\n",
    "\n",
    "ax = dataframe.sort_values(by=['false matches'], ascending=True).plot.barh(stacked=True, edgecolor='none')\n",
    "\n",
    "horiz_offset = 1.03\n",
    "vert_offset = 1.\n",
    "ax.legend(bbox_to_anchor=(horiz_offset, vert_offset))\n",
    "plt.xlabel('Number of spectra')\n",
    "plt.title('Spectral library matching comparison (>3 matching inchikey in library)')"
   ]
  }
 ],
 "metadata": {
  "kernelspec": {
   "display_name": "Python 3",
   "language": "python",
   "name": "python3"
  },
  "language_info": {
   "codemirror_mode": {
    "name": "ipython",
    "version": 3
   },
   "file_extension": ".py",
   "mimetype": "text/x-python",
   "name": "python",
   "nbconvert_exporter": "python",
   "pygments_lexer": "ipython3",
   "version": "3.6.8"
  }
 },
 "nbformat": 4,
 "nbformat_minor": 2
}
