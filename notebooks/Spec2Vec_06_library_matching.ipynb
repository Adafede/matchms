{
 "cells": [
  {
   "cell_type": "markdown",
   "metadata": {},
   "source": [
    "# Spec2Vec - library matching\n",
    "One very important use case for a spectral similariy measure is libarary matching.  \n",
    "This means matching previously unseen/unknown spectra to known, annotated sepctra in a larger library.\n",
    "\n",
    "## Sketch idea:\n",
    "1000 spectra are seleted and removed from the allGNPS_positive dataset.  \n",
    "Selection is made based on:  \n",
    "1. 1000 inchikeys which occur >1 times are selected randomly.\n",
    "2. For each of those inchikeys one spectrum is selected randomly."
   ]
  },
  {
   "cell_type": "code",
   "execution_count": 1,
   "metadata": {},
   "outputs": [],
   "source": [
    "# Locations\n",
    "ROOT = \"C:\\\\OneDrive - Netherlands eScience Center\\\\Project_Wageningen_iOMEGA\"\n",
    "PATH_SPEC2VEC = ROOT + \"\\\\Spec2Vec\\\\code\\\\\"\n",
    "PATH_MS_DATA = ROOT + \"\\\\Data\\\\GNPS_all\\\\\"\n",
    "PATH_SAVE_MODEL = ROOT + \"\\\\Spec2Vec\\\\models_trained\\\\\"\n",
    "PATH_COMPUTED = ROOT + \"\\\\Spec2Vec\\\\computed_results\\\\\"\n",
    "PATH_OUTPUT = ROOT + \"\\\\Spec2Vec\\\\output_plots\\\\\""
   ]
  },
  {
   "cell_type": "code",
   "execution_count": 2,
   "metadata": {},
   "outputs": [],
   "source": [
    "import numpy as np\n",
    "import sys\n",
    "sys.path.insert(0, PATH_SPEC2VEC)"
   ]
  },
  {
   "cell_type": "code",
   "execution_count": 3,
   "metadata": {},
   "outputs": [],
   "source": [
    "import helper_functions as functions\n",
    "import MS_functions\n",
    "import MS_similarity_classical as MS_sim_classic\n",
    "from similarity_measure import SimilarityMeasures\n",
    "from plotting_functions import plot_precentile\n",
    "\n",
    "from scipy import spatial"
   ]
  },
  {
   "cell_type": "markdown",
   "metadata": {},
   "source": [
    "### Load filtered allGNPS_positive dataset OR:  Import& filter allGNPS_positive dataset"
   ]
  },
  {
   "cell_type": "code",
   "execution_count": 4,
   "metadata": {},
   "outputs": [
    {
     "name": "stdout",
     "output_type": "stream",
     "text": [
      "Spectra json file found and loaded.\n"
     ]
    }
   ],
   "source": [
    "file_json = PATH_MS_DATA + \"allGNPS_positive_minmax_10_1000_2dec_exp08_191115.json\"\n",
    "file_mgf = ROOT + \"\\\\Data\\\\GNPS_all\\\\\" + \"allGNPS_positive_191106.mgf\"\n",
    "\n",
    "spectra, spectra_dict, MS_documents, MS_documents_intensity, spectra_metadata = MS_functions.load_MGF_data(file_mgf = file_mgf,\n",
    "                                                           file_json = file_json,\n",
    "                                                           num_decimals = 2,\n",
    "                                                           min_frag = 0.0, max_frag = 1000.0,\n",
    "                                                           min_loss = 5.0, max_loss = 500.0,\n",
    "                                                           min_intensity_perc = 0,\n",
    "                                                           exp_intensity_filter = 0.8,\n",
    "                                                           min_keep_peaks_0 = 10,\n",
    "                                                           min_keep_peaks_per_mz = 20/200,\n",
    "                                                           min_peaks = 10,\n",
    "                                                           max_peaks = 1000,\n",
    "                                                           peak_loss_words = ['peak_', 'loss_'])"
   ]
  },
  {
   "cell_type": "code",
   "execution_count": 5,
   "metadata": {},
   "outputs": [
    {
     "data": {
      "text/html": [
       "<div>\n",
       "<style scoped>\n",
       "    .dataframe tbody tr th:only-of-type {\n",
       "        vertical-align: middle;\n",
       "    }\n",
       "\n",
       "    .dataframe tbody tr th {\n",
       "        vertical-align: top;\n",
       "    }\n",
       "\n",
       "    .dataframe thead th {\n",
       "        text-align: right;\n",
       "    }\n",
       "</style>\n",
       "<table border=\"1\" class=\"dataframe\">\n",
       "  <thead>\n",
       "    <tr style=\"text-align: right;\">\n",
       "      <th></th>\n",
       "      <th>doc_ID</th>\n",
       "      <th>gnps_ID</th>\n",
       "      <th>name</th>\n",
       "      <th>title</th>\n",
       "      <th>precursor_mz</th>\n",
       "      <th>num_peaks_losses</th>\n",
       "      <th>inchi</th>\n",
       "      <th>inchikey</th>\n",
       "      <th>smiles</th>\n",
       "      <th>charge</th>\n",
       "    </tr>\n",
       "  </thead>\n",
       "  <tbody>\n",
       "    <tr>\n",
       "      <th>0</th>\n",
       "      <td>0</td>\n",
       "      <td>CCMSLIB00005435503</td>\n",
       "      <td>chenodeoxycholic acid M-H2O+H</td>\n",
       "      <td>NaN</td>\n",
       "      <td>375.290</td>\n",
       "      <td>93</td>\n",
       "      <td>\"InChI=1S/C24H40O4/c1-14(4-7-21(27)28)17-5-6-1...</td>\n",
       "      <td>RUDATBOHQWOJDD-GYHJSIKNSA-N</td>\n",
       "      <td>C[C@H](CCC(=O)O)[C@H]1CC[C@@H]2[C@@]1(CC[C@H]3...</td>\n",
       "      <td>1</td>\n",
       "    </tr>\n",
       "    <tr>\n",
       "      <th>1</th>\n",
       "      <td>1</td>\n",
       "      <td>CCMSLIB00005435504</td>\n",
       "      <td>chenodeoxycholic acid 2M+H</td>\n",
       "      <td>NaN</td>\n",
       "      <td>785.593</td>\n",
       "      <td>101</td>\n",
       "      <td>\"InChI=1S/C24H40O4/c1-14(4-7-21(27)28)17-5-6-1...</td>\n",
       "      <td>RUDATBOHQWOJDD-PODLAYBOSA-N</td>\n",
       "      <td>C[C@H](CCC(=O)O)[C@H]1CC[C@@H]2[C@@]1(CC[C@H]3...</td>\n",
       "      <td>1</td>\n",
       "    </tr>\n",
       "    <tr>\n",
       "      <th>2</th>\n",
       "      <td>2</td>\n",
       "      <td>CCMSLIB00005435505</td>\n",
       "      <td>chenodeoxycholic acid 2M+Na</td>\n",
       "      <td>NaN</td>\n",
       "      <td>807.575</td>\n",
       "      <td>21</td>\n",
       "      <td>\"InChI=1S/C24H40O4/c1-14(4-7-21(27)28)17-5-6-1...</td>\n",
       "      <td>RUDATBOHQWOJDD-PODLAYBOSA-N</td>\n",
       "      <td>C[C@H](CCC(=O)O)[C@H]1CC[C@@H]2[C@@]1(CC[C@H]3...</td>\n",
       "      <td>1</td>\n",
       "    </tr>\n",
       "    <tr>\n",
       "      <th>3</th>\n",
       "      <td>3</td>\n",
       "      <td>CCMSLIB00005435506</td>\n",
       "      <td>cholic acid M+Na</td>\n",
       "      <td>NaN</td>\n",
       "      <td>431.277</td>\n",
       "      <td>35</td>\n",
       "      <td>\"InChI=1S/C24H40O5/c1-13(4-7-21(28)29)16-5-6-1...</td>\n",
       "      <td>BHQCQFFYRZLCQQ-IHELEQLESA-N</td>\n",
       "      <td>C[C@H](CCC(=O)O)[C@H]1CC[C@@H]2[C@@]1([C@H](C[...</td>\n",
       "      <td>1</td>\n",
       "    </tr>\n",
       "    <tr>\n",
       "      <th>4</th>\n",
       "      <td>4</td>\n",
       "      <td>CCMSLIB00005435507</td>\n",
       "      <td>deoxycholic acid M-H2O+H</td>\n",
       "      <td>NaN</td>\n",
       "      <td>375.289</td>\n",
       "      <td>157</td>\n",
       "      <td>\"InChI=1S/C24H40O4/c1-14(4-9-22(27)28)18-7-8-1...</td>\n",
       "      <td>KXGVEGMKQFWNSR-BKAWJTANSA-N</td>\n",
       "      <td>C[C@H](CCC(=O)O)[C@H]1CC[C@@H]2[C@@]1([C@H](C[...</td>\n",
       "      <td>1</td>\n",
       "    </tr>\n",
       "  </tbody>\n",
       "</table>\n",
       "</div>"
      ],
      "text/plain": [
       "   doc_ID             gnps_ID                           name title  \\\n",
       "0       0  CCMSLIB00005435503  chenodeoxycholic acid M-H2O+H   NaN   \n",
       "1       1  CCMSLIB00005435504     chenodeoxycholic acid 2M+H   NaN   \n",
       "2       2  CCMSLIB00005435505    chenodeoxycholic acid 2M+Na   NaN   \n",
       "3       3  CCMSLIB00005435506               cholic acid M+Na   NaN   \n",
       "4       4  CCMSLIB00005435507       deoxycholic acid M-H2O+H   NaN   \n",
       "\n",
       "   precursor_mz  num_peaks_losses  \\\n",
       "0       375.290                93   \n",
       "1       785.593               101   \n",
       "2       807.575                21   \n",
       "3       431.277                35   \n",
       "4       375.289               157   \n",
       "\n",
       "                                               inchi  \\\n",
       "0  \"InChI=1S/C24H40O4/c1-14(4-7-21(27)28)17-5-6-1...   \n",
       "1  \"InChI=1S/C24H40O4/c1-14(4-7-21(27)28)17-5-6-1...   \n",
       "2  \"InChI=1S/C24H40O4/c1-14(4-7-21(27)28)17-5-6-1...   \n",
       "3  \"InChI=1S/C24H40O5/c1-13(4-7-21(28)29)16-5-6-1...   \n",
       "4  \"InChI=1S/C24H40O4/c1-14(4-9-22(27)28)18-7-8-1...   \n",
       "\n",
       "                      inchikey  \\\n",
       "0  RUDATBOHQWOJDD-GYHJSIKNSA-N   \n",
       "1  RUDATBOHQWOJDD-PODLAYBOSA-N   \n",
       "2  RUDATBOHQWOJDD-PODLAYBOSA-N   \n",
       "3  BHQCQFFYRZLCQQ-IHELEQLESA-N   \n",
       "4  KXGVEGMKQFWNSR-BKAWJTANSA-N   \n",
       "\n",
       "                                              smiles  charge  \n",
       "0  C[C@H](CCC(=O)O)[C@H]1CC[C@@H]2[C@@]1(CC[C@H]3...       1  \n",
       "1  C[C@H](CCC(=O)O)[C@H]1CC[C@@H]2[C@@]1(CC[C@H]3...       1  \n",
       "2  C[C@H](CCC(=O)O)[C@H]1CC[C@@H]2[C@@]1(CC[C@H]3...       1  \n",
       "3  C[C@H](CCC(=O)O)[C@H]1CC[C@@H]2[C@@]1([C@H](C[...       1  \n",
       "4  C[C@H](CCC(=O)O)[C@H]1CC[C@@H]2[C@@]1([C@H](C[...       1  "
      ]
     },
     "execution_count": 5,
     "metadata": {},
     "output_type": "execute_result"
    }
   ],
   "source": [
    "spectra_metadata.head()"
   ]
  },
  {
   "cell_type": "markdown",
   "metadata": {},
   "source": [
    "### Evaluate inchikey occurences"
   ]
  },
  {
   "cell_type": "code",
   "execution_count": 7,
   "metadata": {},
   "outputs": [
    {
     "data": {
      "text/plain": [
       "(50195,)"
      ]
     },
     "execution_count": 7,
     "metadata": {},
     "output_type": "execute_result"
    }
   ],
   "source": [
    "inchikeys_pd = spectra_metadata['inchikey'][spectra_metadata['inchikey'].notnull()]\n",
    "inchikeys_pd.shape"
   ]
  },
  {
   "cell_type": "code",
   "execution_count": 8,
   "metadata": {},
   "outputs": [
    {
     "data": {
      "text/plain": [
       "90216    CCQDWIRWKWIUKK\n",
       "90217    RPVIQWDFJPYNJM\n",
       "90218    BXEZTCOKOLHMKY\n",
       "90219    BXEZTCOKOLHMKY\n",
       "90220    PVXPPJIGRGXGCY\n",
       "90221    ATEFPOUAMCWAQS\n",
       "90222    ILEDWLMCKZNDJK\n",
       "90223    ILEDWLMCKZNDJK\n",
       "90224    NCJNNMWJQIKYLO\n",
       "90225    LNCLTICCQWMCNS\n",
       "Name: inchikey, dtype: object"
      ]
     },
     "execution_count": 8,
     "metadata": {},
     "output_type": "execute_result"
    }
   ],
   "source": [
    "inchikeys_pd.str[:14][-10:]"
   ]
  },
  {
   "cell_type": "markdown",
   "metadata": {},
   "source": [
    "### Get inchikey (first 14 letters) occurences"
   ]
  },
  {
   "cell_type": "code",
   "execution_count": 9,
   "metadata": {},
   "outputs": [
    {
     "data": {
      "text/plain": [
       "PFTAWBLQPZVEMU    63\n",
       "KMPWYEUPVWOPIM    57\n",
       "MPDGHEJMBKOTSU    49\n",
       "TZBJGXHYKVUXJN    46\n",
       "DFPMSGMNTNDNHN    46\n",
       "LJOQGZACKSYWCH    45\n",
       "RYYVLZVUVIJVGH    45\n",
       "OXGUCUVFOIWWQJ    45\n",
       "QEVHRUUCFGRFIF    43\n",
       "LOUPRKONTZGTKE    43\n",
       "Name: inchikey, dtype: int64"
      ]
     },
     "execution_count": 9,
     "metadata": {},
     "output_type": "execute_result"
    }
   ],
   "source": [
    "inchikeys_pd.str[:14].value_counts()[:10]"
   ]
  },
  {
   "cell_type": "markdown",
   "metadata": {},
   "source": [
    "### Plot histogram of inchikey occurences"
   ]
  },
  {
   "cell_type": "code",
   "execution_count": 10,
   "metadata": {},
   "outputs": [
    {
     "data": {
      "text/plain": [
       "Text(0, 0.5, 'Number of inchikeys with respective number of occurences')"
      ]
     },
     "execution_count": 10,
     "metadata": {},
     "output_type": "execute_result"
    },
    {
     "data": {
      "image/png": "[encoded data removed]",
      "text/plain": [
       "<Figure size 864x432 with 1 Axes>"
      ]
     },
     "metadata": {
      "needs_background": "light"
     },
     "output_type": "display_data"
    }
   ],
   "source": [
    "from matplotlib import pyplot as plt\n",
    "plt.figure(figsize=(12,6))\n",
    "plt.hist(inchikeys_pd.str[:14].value_counts(), 62)\n",
    "plt.xlabel('Number of occurences of inchikey')\n",
    "plt.ylabel('Number of inchikeys with respective number of occurences')"
   ]
  },
  {
   "cell_type": "markdown",
   "metadata": {},
   "source": [
    "## Select spectra to simulate libarary matching"
   ]
  },
  {
   "cell_type": "code",
   "execution_count": 11,
   "metadata": {},
   "outputs": [
    {
     "data": {
      "text/html": [
       "<div>\n",
       "<style scoped>\n",
       "    .dataframe tbody tr th:only-of-type {\n",
       "        vertical-align: middle;\n",
       "    }\n",
       "\n",
       "    .dataframe tbody tr th {\n",
       "        vertical-align: top;\n",
       "    }\n",
       "\n",
       "    .dataframe thead th {\n",
       "        text-align: right;\n",
       "    }\n",
       "</style>\n",
       "<table border=\"1\" class=\"dataframe\">\n",
       "  <thead>\n",
       "    <tr style=\"text-align: right;\">\n",
       "      <th></th>\n",
       "      <th>inchikey14</th>\n",
       "      <th>occurences</th>\n",
       "    </tr>\n",
       "  </thead>\n",
       "  <tbody>\n",
       "    <tr>\n",
       "      <th>0</th>\n",
       "      <td>PFTAWBLQPZVEMU</td>\n",
       "      <td>63</td>\n",
       "    </tr>\n",
       "    <tr>\n",
       "      <th>1</th>\n",
       "      <td>KMPWYEUPVWOPIM</td>\n",
       "      <td>57</td>\n",
       "    </tr>\n",
       "    <tr>\n",
       "      <th>2</th>\n",
       "      <td>MPDGHEJMBKOTSU</td>\n",
       "      <td>49</td>\n",
       "    </tr>\n",
       "    <tr>\n",
       "      <th>3</th>\n",
       "      <td>TZBJGXHYKVUXJN</td>\n",
       "      <td>46</td>\n",
       "    </tr>\n",
       "    <tr>\n",
       "      <th>4</th>\n",
       "      <td>DFPMSGMNTNDNHN</td>\n",
       "      <td>46</td>\n",
       "    </tr>\n",
       "    <tr>\n",
       "      <th>6</th>\n",
       "      <td>RYYVLZVUVIJVGH</td>\n",
       "      <td>45</td>\n",
       "    </tr>\n",
       "    <tr>\n",
       "      <th>7</th>\n",
       "      <td>OXGUCUVFOIWWQJ</td>\n",
       "      <td>45</td>\n",
       "    </tr>\n",
       "    <tr>\n",
       "      <th>5</th>\n",
       "      <td>LJOQGZACKSYWCH</td>\n",
       "      <td>45</td>\n",
       "    </tr>\n",
       "    <tr>\n",
       "      <th>10</th>\n",
       "      <td>REFJWTPEDVJJIY</td>\n",
       "      <td>43</td>\n",
       "    </tr>\n",
       "    <tr>\n",
       "      <th>8</th>\n",
       "      <td>QEVHRUUCFGRFIF</td>\n",
       "      <td>43</td>\n",
       "    </tr>\n",
       "    <tr>\n",
       "      <th>9</th>\n",
       "      <td>LOUPRKONTZGTKE</td>\n",
       "      <td>43</td>\n",
       "    </tr>\n",
       "    <tr>\n",
       "      <th>11</th>\n",
       "      <td>HPNSFSBZBAHARI</td>\n",
       "      <td>43</td>\n",
       "    </tr>\n",
       "    <tr>\n",
       "      <th>12</th>\n",
       "      <td>QGXBDMJGAMFCBF</td>\n",
       "      <td>42</td>\n",
       "    </tr>\n",
       "    <tr>\n",
       "      <th>14</th>\n",
       "      <td>RKUNBYITZUJHSG</td>\n",
       "      <td>41</td>\n",
       "    </tr>\n",
       "    <tr>\n",
       "      <th>13</th>\n",
       "      <td>RCINICONZNJXQF</td>\n",
       "      <td>41</td>\n",
       "    </tr>\n",
       "  </tbody>\n",
       "</table>\n",
       "</div>"
      ],
      "text/plain": [
       "        inchikey14  occurences\n",
       "0   PFTAWBLQPZVEMU          63\n",
       "1   KMPWYEUPVWOPIM          57\n",
       "2   MPDGHEJMBKOTSU          49\n",
       "3   TZBJGXHYKVUXJN          46\n",
       "4   DFPMSGMNTNDNHN          46\n",
       "6   RYYVLZVUVIJVGH          45\n",
       "7   OXGUCUVFOIWWQJ          45\n",
       "5   LJOQGZACKSYWCH          45\n",
       "10  REFJWTPEDVJJIY          43\n",
       "8   QEVHRUUCFGRFIF          43\n",
       "9   LOUPRKONTZGTKE          43\n",
       "11  HPNSFSBZBAHARI          43\n",
       "12  QGXBDMJGAMFCBF          42\n",
       "14  RKUNBYITZUJHSG          41\n",
       "13  RCINICONZNJXQF          41"
      ]
     },
     "execution_count": 11,
     "metadata": {},
     "output_type": "execute_result"
    }
   ],
   "source": [
    "import pandas as pd\n",
    "\n",
    "suitable_inchikeys = pd.DataFrame(inchikeys_pd.str[:14].value_counts()[inchikeys_pd.str[:14].value_counts().values > 1])\n",
    "suitable_inchikeys.reset_index(level=suitable_inchikeys.index.names, inplace=True)\n",
    "suitable_inchikeys.columns = (['inchikey14', 'occurences'])\n",
    "\n",
    "# Important: sort values to make it reproducible (same occurences have random order otherwise!)\n",
    "suitable_inchikeys = suitable_inchikeys.sort_values(['occurences', 'inchikey14'], ascending=False)\n",
    "suitable_inchikeys.head(15)"
   ]
  },
  {
   "cell_type": "code",
   "execution_count": 12,
   "metadata": {},
   "outputs": [
    {
     "name": "stdout",
     "output_type": "stream",
     "text": [
      "Number of spectra with inchikeys that exist >1 times: 5998\n"
     ]
    }
   ],
   "source": [
    "print(\"Number of spectra with inchikeys that exist >1 times:\", suitable_inchikeys.shape[0])"
   ]
  },
  {
   "cell_type": "markdown",
   "metadata": {},
   "source": [
    "### Randomly select 1000 inchikeys that exist >1 times in the dataset"
   ]
  },
  {
   "cell_type": "code",
   "execution_count": 13,
   "metadata": {},
   "outputs": [
    {
     "name": "stdout",
     "output_type": "stream",
     "text": [
      "[  84 2409 4996  346   79  994 4951 4078 3940 1870 4463  752 1747 3651\n",
      " 1235 5426 3161 5606 3307 3194 5365 3235  530 1580 3921]\n"
     ]
    },
    {
     "data": {
      "text/plain": [
       "array(['COLNVLDHVKWLRT', 'NOCJXYPHIIZEHN', 'PILWRMVFWRVMAP',\n",
       "       'TVKGYMYAOVADOP', 'YFGYUFNIOHWBOB', 'DHVXMTMJTVCPBB',\n",
       "       'QAUDHOGPLBDVAX', 'HUSISCNTLUEZCN', 'LVTJOONKWUXEFR',\n",
       "       'XDRYMKDFEDOLFX', 'XTQOUVPIWQGVEJ', 'SUAPQGLGNKUSLY',\n",
       "       'HGVAHYJMDVROLE', 'VJLVPUFVTPJHDI', 'NRQCIBSGSINRCF',\n",
       "       'JCHUCLMYSKXMOY', 'AEMOLEFTQBMNLQ', 'GQZDMSIXKBSDIE',\n",
       "       'OTCCIMWXFLJLIA', 'YFGBQHOOROIVKG', 'KBJKWXDTUOJWAI',\n",
       "       'VCKUSRYTPJJLNI', 'OJDSCNUKKOKOQJ', 'PYMYPHUHKUWMLA',\n",
       "       'MDJRZSNPHZEMJH', 'URECVIHFNYVHHN', 'IXBQSRWSVIBXNC',\n",
       "       'RYEFFICCPKWYML', 'VVRNYAJXAUQHEN', 'BJRNKVDFDLYUGJ',\n",
       "       'BAWFJGJZGIEFAR', 'VHNBSWKVDGABEV', 'PPRFIMGXDRYLGD',\n",
       "       'YPHMISFOHDHNIV', 'ZUXABONWMNSFBN', 'IJEHYEVNWOYGMS',\n",
       "       'SSQAXSNCMRBPGJ', 'ZVLQJRXSGVAHOI', 'KIOWCVBPJXEJLN',\n",
       "       'HVAFPBRUOUYMQM', 'LDYBFSGEBHSTOQ', 'FXGOBECSEIQDAS',\n",
       "       'QVSFEOQJKPOOHP', 'VDUIGYAPSXCJFC', 'CHXSDKWBSFDZEU',\n",
       "       'MGHSCXCFVZJHPT', 'PWDXABLHFDFFEB', 'LOTLMZWGLBOKFL',\n",
       "       'JRJBWKJICGFLDP', 'HLFSDGLLUJUHTE', 'OHXPGWPVLFPUSM',\n",
       "       'XLOPRKKSAJMMEW', 'RIVNVLITMUKUQK', 'JLSIEPYLSSNFSK',\n",
       "       'FZALQGCQQJLGKE', 'XMGQYMWWDOXHJM', 'DAEAPNUQQAICNR',\n",
       "       'MKLSDOYALQNPMS', 'YMUOZXZDDBRJEP', 'RROGHRHLBLVQSG',\n",
       "       'QPTBIDGWTVNLQQ', 'IUCHKMAZAWJNBJ', 'QNAYBMKLOCPYGJ',\n",
       "       'DQQCCKFZJNINST', 'BVEVSYQMQABMQM', 'ITPDYQOUSLNIHG',\n",
       "       'VJVXQSFKTVUEFY', 'YPUPRVWRYDPGCW', 'YRRAGUMVDQQZIY',\n",
       "       'GRTOGORTSDXSFK', 'MHJYRHBCBPGGHL', 'LUHMMHZLDLBAKX',\n",
       "       'IMABPJDBODVJSN', 'QZUDEXAHKXCIDG', 'XVPVYSHSGBUSAR',\n",
       "       'IZQSVPBOUDKVDZ', 'DBUOUVZMYWYRRI', 'DJYDCIUMNXZSBH',\n",
       "       'OYFJQPXVCSSHAI', 'HFCYZXMHUIHAQI', 'HFJFXXDHVWLIKX',\n",
       "       'FFXYBQSGDXRLHS', 'UMKWAHOXPWRVRW', 'KJPAOKCLRDGPMI',\n",
       "       'BMFPATPGMGPSGR', 'LGZSMXJRMTYABD', 'ZOMSMJKLGFBRBS',\n",
       "       'HZSAJDVWZRBGIF', 'MKSVFGKWZLUTTO', 'IQVNEKKDSLOHHK',\n",
       "       'POJWUDADGALRAB', 'GDBQQVLCIARPGH', 'JZUFKLXOESDKRF',\n",
       "       'NNPPLRJHBQPBAQ', 'CZOSTDZGCCEZTJ', 'NPVUMVVTBDKDDD',\n",
       "       'WSORODGWGUUOBO', 'MWYHLEQJTQJHSS', 'RTATXGUCZHCSNG',\n",
       "       'FOINLJRVEBYARJ'], dtype=object)"
      ]
     },
     "execution_count": 13,
     "metadata": {},
     "output_type": "execute_result"
    }
   ],
   "source": [
    "num_spectra = 1000\n",
    "\n",
    "np.random.seed(42) # to make it reproducible\n",
    "selection = np.random.choice(suitable_inchikeys.shape[0], num_spectra, replace=False)\n",
    "print(selection[:25])\n",
    "selected_inchikeys = suitable_inchikeys['inchikey14'].values[selection]\n",
    "selected_inchikeys[:100]"
   ]
  },
  {
   "cell_type": "markdown",
   "metadata": {},
   "source": [
    "### Randomly pick one spectra for each of the chosen inchikeys"
   ]
  },
  {
   "cell_type": "code",
   "execution_count": 14,
   "metadata": {},
   "outputs": [],
   "source": [
    "selected_spectra = []\n",
    "\n",
    "np.random.seed(42) # to make it reproducible\n",
    "for inchikey in selected_inchikeys:\n",
    "    matches = inchikeys_pd[inchikeys_pd.str[:14] == inchikey].index.values\n",
    "    selected_spectra.append(int(np.random.choice(matches,1)[0]))"
   ]
  },
  {
   "cell_type": "code",
   "execution_count": 15,
   "metadata": {},
   "outputs": [
    {
     "data": {
      "text/plain": [
       "24236    CCMSLIB00000205644\n",
       "33851    CCMSLIB00000569056\n",
       "12382    CCMSLIB00000853997\n",
       "39733    CCMSLIB00004696408\n",
       "26281    CCMSLIB00000210444\n",
       "43418    CCMSLIB00004701023\n",
       "8396     CCMSLIB00000846515\n",
       "11820    CCMSLIB00000852861\n",
       "13423    CCMSLIB00000856134\n",
       "30103    CCMSLIB00000221327\n",
       "Name: gnps_ID, dtype: object"
      ]
     },
     "execution_count": 15,
     "metadata": {},
     "output_type": "execute_result"
    }
   ],
   "source": [
    "# Show gnps IDs for selected spectra\n",
    "spectra_metadata[\"gnps_ID\"][selected_spectra][:10]"
   ]
  },
  {
   "cell_type": "markdown",
   "metadata": {},
   "source": [
    "## Train new Spec2Vec model on dataset without the selected spectra"
   ]
  },
  {
   "cell_type": "code",
   "execution_count": 17,
   "metadata": {},
   "outputs": [
    {
     "name": "stdout",
     "output_type": "stream",
     "text": [
      "Modified corpus consists of 89226 documents.\n",
      "Number of unique words:  145572\n",
      "Learning rate droped from 0.025 to 0.021250355837984444\n"
     ]
    }
   ],
   "source": [
    "# Remove selected spectra from corpus\n",
    "MS_docs_removedpart = [MS_documents[x] for x in range(len(MS_documents)) if x not in selected_spectra]\n",
    "MS_docs_intensity_removedpart = [MS_documents_intensity[x] for x in range(len(MS_documents)) if x not in selected_spectra]   \n",
    "print(\"Modified corpus consists of\", len(MS_docs_removedpart), \"documents.\")\n",
    "\n",
    "MS_library = SimilarityMeasures(MS_docs_removedpart, MS_docs_intensity_removedpart)\n",
    "MS_library.preprocess_documents(1, min_frequency = 2, create_stopwords = False)\n",
    "print(\"Number of unique words: \", len(MS_library.dictionary))\n",
    "\n",
    "# Train new model based on reduced corpus\n",
    "file_model_word2vec = PATH_SAVE_MODEL + 'S2V_allGNPS_pos_librarymatching_d300_w500_neg5_minmax10_1000_dec2_exp08.model'\n",
    "MS_library.build_model_word2vec(file_model_word2vec, sg=0, negative=5, size=300, window=500, \n",
    "                             min_count=1, workers=4, iterations= [10,5], \n",
    "                             use_stored_model=True)\n",
    "print(\"Learning rate droped from\", MS_library.model_word2vec.alpha, \"to\", MS_library.model_word2vec.min_alpha_yet_reached)"
   ]
  },
  {
   "cell_type": "markdown",
   "metadata": {},
   "source": [
    "### or load already trained model..."
   ]
  },
  {
   "cell_type": "code",
   "execution_count": 17,
   "metadata": {},
   "outputs": [
    {
     "name": "stdout",
     "output_type": "stream",
     "text": [
      "Modified corpus consists of 89726 documents.\n",
      "Preprocess documents...\n",
      "Number of unique words:  145580\n",
      "Load stored word2vec model ...\n"
     ]
    }
   ],
   "source": [
    "# Remove selected spectra from corpus\n",
    "MS_docs_removedpart = [MS_documents[x] for x in range(len(MS_documents)) if x not in selected_spectra]\n",
    "MS_docs_intensity_removedpart = [MS_documents_intensity[x] for x in range(len(MS_documents)) if x not in selected_spectra]   \n",
    "print(\"Modified corpus consists of\", len(MS_docs_removedpart), \"documents.\")\n",
    "\n",
    "MS_library = SimilarityMeasures(MS_docs_removedpart, MS_docs_intensity_removedpart)\n",
    "MS_library.preprocess_documents(1, min_frequency = 2, create_stopwords = False)\n",
    "print(\"Number of unique words: \", len(MS_library.dictionary))\n",
    "\n",
    "# Train new model based on reduced corpus\n",
    "file_model_word2vec = PATH_SAVE_MODEL + 'S2V_allGNPS_pos_librarymatching_d300_w500_neg5_minmax10_1000_dec2_exp08_iter_15.model'\n",
    "MS_library.build_model_word2vec(file_model_word2vec, sg=0, negative=5, size=300, window=500, \n",
    "                             min_count=1, workers=4, iterations= [10,5], \n",
    "                             use_stored_model=True)\n"
   ]
  },
  {
   "cell_type": "markdown",
   "metadata": {},
   "source": [
    "## Calculate Spec2Vec spectra vectors for all library spectra"
   ]
  },
  {
   "cell_type": "code",
   "execution_count": 18,
   "metadata": {},
   "outputs": [
    {
     "name": "stdout",
     "output_type": "stream",
     "text": [
      "All 'words' of the given documents were found in the trained word2vec model.\n",
      "  Calculated centroid vectors for  89226  of  89226  documents.89226  documents.  of  89226  documents. 3840  of  89226  documents. documents.  documents. 5890  of  89226  documents.  documents. documents.89226  documents. of  89226  documents. 89226  documents. documents. of  89226  documents.89226  documents. 89226  documents.89226  documents.  documents. Calculated centroid vectors for  17100  of  89226  documents.89226  documents.89226  documents. documents.  of  89226  documents. 89226  documents.  of  89226  documents. Calculated centroid vectors for  23360  of  89226  documents. of  89226  documents. of  89226  documents. of  89226  documents.  documents. of  89226  documents. 31250  of  89226  documents. of  89226  documents. 89226  documents. Calculated centroid vectors for  34670  of  89226  documents. documents. of  89226  documents. 89226  documents.  documents. documents.89226  documents.89226  documents.  documents.38130  of  89226  documents.89226  documents. documents. documents. 89226  documents. of  89226  documents.89226  documents.  of  89226  documents.89226  documents. of  89226  documents. documents. Calculated centroid vectors for  42500  of  89226  documents. 89226  documents. of  89226  documents.  of  89226  documents.  of  89226  documents. of  89226  documents. 89226  documents.89226  documents.46430  of  89226  documents.  documents.89226  documents.  documents.89226  documents. documents. documents.89226  documents.  of  89226  documents. documents.  documents. documents.89226  documents.89226  documents.  documents. of  89226  documents. 89226  documents. documents. 61170  of  89226  documents. documents.  documents.68220  of  89226  documents.89226  documents.89226  documents. of  89226  documents. Calculated centroid vectors for  71250  of  89226  documents.89226  documents.71960  of  89226  documents. Calculated centroid vectors for  72140  of  89226  documents.  documents.  documents. 89226  documents. documents. documents. 89226  documents. documents. 89226  documents. of  89226  documents.83770  of  89226  documents.  documents. 86840  of  89226  documents.  documents."
     ]
    }
   ],
   "source": [
    "MS_library.get_vectors_centroid(method = 'ignore', \n",
    "                                 tfidf_weighted = False, \n",
    "                                 weighting_power = 0.5, \n",
    "                                 tfidf_model = None,\n",
    "                                 extra_epochs = 1)"
   ]
  },
  {
   "cell_type": "markdown",
   "metadata": {},
   "source": [
    "---\n",
    "### Save MS_library object with S2V model and calculated spectra vectors\n",
    "This will save the entire SimilarityMeasures class object: MS_library."
   ]
  },
  {
   "cell_type": "code",
   "execution_count": 20,
   "metadata": {},
   "outputs": [],
   "source": [
    "MS_library.save(PATH_COMPUTED + 'MS_library_matching_unkown_spectra_191127.obj')"
   ]
  },
  {
   "cell_type": "markdown",
   "metadata": {},
   "source": [
    "---\n",
    "### Or load MS_library object if already processed before..."
   ]
  },
  {
   "cell_type": "code",
   "execution_count": 16,
   "metadata": {},
   "outputs": [],
   "source": [
    "MS_library = SimilarityMeasures([])\n",
    "MS_library.load(PATH_COMPUTED + 'MS_library_matching_unkown_spectra_191127.obj')"
   ]
  },
  {
   "cell_type": "markdown",
   "metadata": {},
   "source": [
    "### Create library data by removing selected spectra"
   ]
  },
  {
   "cell_type": "code",
   "execution_count": 17,
   "metadata": {},
   "outputs": [
    {
     "data": {
      "text/plain": [
       "(89226, 10)"
      ]
     },
     "execution_count": 17,
     "metadata": {},
     "output_type": "execute_result"
    }
   ],
   "source": [
    "library_spectra_IDs = [x for x in range(len(spectra)) if x not in selected_spectra]\n",
    "library_spectra_metadata = spectra_metadata.loc[library_spectra_IDs]\n",
    "\n",
    "library_spectra_metadata.shape"
   ]
  },
  {
   "cell_type": "code",
   "execution_count": 18,
   "metadata": {},
   "outputs": [
    {
     "name": "stdout",
     "output_type": "stream",
     "text": [
      "Number of 'unknown' spectra: 1000\n",
      "Number of reference spectra in library: 89226\n"
     ]
    }
   ],
   "source": [
    "spectra_unknown = [spectra[x] for x in selected_spectra]\n",
    "spectra_library = [spectra[x] for x in range(len(spectra)) if x not in selected_spectra]\n",
    "print(\"Number of 'unknown' spectra:\", len(spectra_unknown))\n",
    "print(\"Number of reference spectra in library:\", len(spectra_library))"
   ]
  },
  {
   "cell_type": "code",
   "execution_count": 61,
   "metadata": {},
   "outputs": [],
   "source": [
    "def library_matching(spectra_query, \n",
    "                     spectra_library,\n",
    "                     library_spectra_metadata, \n",
    "                     MS_library, \n",
    "                     top_n = 10,\n",
    "                     method = 'precursor_mz',\n",
    "                     mz_ppm = 10,\n",
    "                     spectra_vectors = None,\n",
    "                     ignore_non_annotated = True,\n",
    "                     extra_cosine_check = True,\n",
    "                     extra_modcosine_check = True,\n",
    "                     cosine_tol = 0.005):\n",
    "    \"\"\"\n",
    "    Args:\n",
    "    --------\n",
    "    \"\"\"\n",
    "    \n",
    "    # Check input data\n",
    "    if len(spectra_library) != library_spectra_metadata.shape[0]:\n",
    "        print(\"Warning! Library spectra metadata input does not match given library spectra.\")\n",
    "    if len(spectra_library) != len(MS_library.corpus):\n",
    "        print(\"Warning! Library spectra input does not match dimension of given MS_library object.\")\n",
    "    \n",
    "    # Initializations\n",
    "    found_matches = []\n",
    "    #for i in range(len(spectra_query)):\n",
    "    #    found_matches[str(i)].append(np.array)\n",
    "    \n",
    "    \n",
    "    mass_matches = []\n",
    "    mass_cosine_matches = []\n",
    "    mass_modcosine_matches = []\n",
    "    S2V_matches = []\n",
    "    S2V_scores = []\n",
    "    multiple_matches = []\n",
    "    \n",
    "    if ignore_non_annotated:\n",
    "        # Get array of all IDs for spectra with smiles\n",
    "        annotated_spectra_IDs = np.where(library_spectra_metadata['smiles'].isna().values == False)[0]\n",
    "    \n",
    "    # --------------------------------------------------------------------------\n",
    "    # 1. Search for Spec2Vec based matches -------------------------------------\n",
    "    # --------------------------------------------------------------------------\n",
    "    if method == 'Spec2Vec' or method == 'Spec2Vec_mz':\n",
    "        #Check if Spec2Vec vectors are present for library\n",
    "        if len(MS_library.vectors_centroid) == 0:\n",
    "            print(\"Apparently Spec2Vec spectra vectors have not yet been derived for library data.\")\n",
    "            print(\"Spec2Vec spectra vectors will be calculated using default parameters.\")\n",
    "            MS_library.get_vectors_centroid(method = 'ignore', \n",
    "                                             extra_weights = None, \n",
    "                                             tfidf_weighted = False, \n",
    "                                             weight_method = 'sqrt', \n",
    "                                             tfidf_model = None,\n",
    "                                             extra_epochs = 1)\n",
    "        else:\n",
    "            print(\"Spec2Vec spectra vectors found for library data.\")\n",
    "        \n",
    "        if spectra_vectors is None:\n",
    "            print(\"No Spec2Vec spectra vectors found for query data. Will be calculated...\")\n",
    "            spectra_vectors = MS_functions.vectorize_spectra(spectra_unknown,\n",
    "                                                              MS_library,\n",
    "                                                              num_decimals = 2,\n",
    "                                                              min_loss = 5.0, \n",
    "                                                              max_loss = 500.0,\n",
    "                                                              peak_loss_words = ['peak_', 'loss_'],\n",
    "                                                              weighting_power = 0.5)\n",
    "            \n",
    "        if ignore_non_annotated:\n",
    "            library_vectors = MS_library.vectors_centroid[annotated_spectra_IDs]\n",
    "        else:\n",
    "            library_vectors = MS_library.vectors_centroid\n",
    "        M_spec2vec_similairies = 1 - spatial.distance.cdist(library_vectors, spectra_vectors, 'cosine')\n",
    "        \n",
    "        # Select top_n similarity values:\n",
    "        Top_n = np.argpartition(M_spec2vec_similairies, -top_n, axis=0)[-top_n:,:]\n",
    "        \n",
    "        # Sort selected values by order\n",
    "        for i in range(len(spectra_query)):\n",
    "            Top_n_sorted = Top_n[:,i][np.argsort(M_spec2vec_similairies[Top_n[:,i],i])][::-1]\n",
    "            if ignore_non_annotated:\n",
    "                Top_n_corrected_IDs = annotated_spectra_IDs[Top_n_sorted]\n",
    "            else:\n",
    "                Top_n_corrected_IDs = Top_n_sorted\n",
    "                \n",
    "            S2V_match = list(zip(Top_n_corrected_IDs, M_spec2vec_similairies[Top_n_sorted,i]))\n",
    "            S2V_matches.append(S2V_match)\n",
    "                  \n",
    "    # --------------------------------------------------------------------------\n",
    "    # 2. Search for precursror mz based matches --------------------------------\n",
    "    # --------------------------------------------------------------------------\n",
    "    if method == 'precursor_mz' or method == 'Spec2Vec_mz':\n",
    "        if MS_library.vectors_centroid.shape[0] != MS_library.vectors_centroid.shape[0]:\n",
    "            print(\"Warning! Number of found Spec2Vec spectral vectors does not agree with library metadata dimension.\")\n",
    "        \n",
    "        if ignore_non_annotated:\n",
    "            library_masses = library_spectra_metadata['precursor_mz'].values[annotated_spectra_IDs]\n",
    "        else:\n",
    "            library_masses = library_spectra_metadata['precursor_mz'].values\n",
    "        library_masses_tol = library_masses * mz_ppm/1e6\n",
    "        \n",
    "        # Get precursor mz for query spectra\n",
    "        precursor_mz_query = []\n",
    "\n",
    "        for spec in spectra_query:\n",
    "            mass = spec.precursor_mz\n",
    "            mass_match = np.where(((library_masses + library_masses_tol) > mass) & \n",
    "                                  ((library_masses - library_masses_tol) < mass))[0]\n",
    "            if ignore_non_annotated:\n",
    "                mass_matches.append(annotated_spectra_IDs[mass_match])\n",
    "            else:\n",
    "                mass_matches.append(mass_match)\n",
    "    \n",
    "    # --------------------------------------------------------------------------\n",
    "    # 3. Combine found matches -------------------------------------------------\n",
    "    # --------------------------------------------------------------------------\n",
    "    for i in range(len(spectra_query)):\n",
    "        IDs = list(mass_matches[i])\n",
    "        mass_match_lst = len(mass_matches[i]) * [1]\n",
    "        s2v_match_lst = len(mass_matches[i]) * [0]\n",
    "        \n",
    "        # Add Spec2Vec top_n matches to list\n",
    "        a, _ = list(zip(*S2V_matches[i]))\n",
    "        for match in a:\n",
    "            if match in IDs:\n",
    "                s2v_match_lst[IDs.index(match)] = 1\n",
    "            else:\n",
    "                IDs.append(match)\n",
    "                mass_match_lst.append(0)\n",
    "                s2v_match_lst.append(1)\n",
    "                \n",
    "        # Add Spec2Vec scores for non top_n entries (those only based on mass matches)\n",
    "        # And calculate if found inchikey is a match\n",
    "        inchikey_match = []\n",
    "        s2v_score_lst = []\n",
    "        for m, idx in enumerate(IDs):\n",
    "            #if s2v_match_lst[m] == 0:\n",
    "            if ignore_non_annotated:\n",
    "                idx_uncorrected = int(np.where(annotated_spectra_IDs == idx)[0])\n",
    "                s2v_score_lst.append(M_spec2vec_similairies[idx_uncorrected,i])\n",
    "            else:\n",
    "                s2v_score_lst.append(M_spec2vec_similairies[idx,i])\n",
    "                \n",
    "            inchikey_match.append(1 * (spectra_library[idx].inchikey[:14] == spectra_query[i].inchikey[:14]))\n",
    "        matches_df = pd.DataFrame(list(zip(IDs, mass_match_lst, s2v_match_lst, s2v_score_lst, inchikey_match)),\n",
    "                                       columns = ['spectra_ID', 'mass_match', 'S2V_top_n', 'S2V_similarity', 'inchikey_match'])\n",
    "        found_matches.append(matches_df) \n",
    "    \n",
    "    def intersection(lst1, lst2): \n",
    "        return list(set(lst1) & set(lst2)) \n",
    "    \n",
    "    #if method == 'Spec2Vec_mz':\n",
    "    #    for i in range(len(spectra_query)): \n",
    "    #        a,_ = list(zip(*S2V_matches[i]))\n",
    "    #        multiple_matches.append(intersection(list(mass_matches[i]), a))\n",
    "            \n",
    "    if extra_cosine_check:        \n",
    "        for i in range(len(spectra_query)): \n",
    "            cosine_scores = []\n",
    "            for j in found_matches[i]['spectra_ID']:\n",
    "                cosine_score = cosine_check(spectra_query[i],\n",
    "                                            spectra_library[j],\n",
    "                                            tol = cosine_tol,\n",
    "                                            mod_cosine = False)\n",
    "                cosine_scores.append(cosine_score)\n",
    "            a, b = list(zip(*cosine_scores))\n",
    "            found_matches[i]['cosine_score'] = a\n",
    "            found_matches[i]['cosine_matches'] = b\n",
    "                \n",
    "    if extra_modcosine_check:\n",
    "        for i in range(len(spectra_query)): \n",
    "            cosine_scores = []\n",
    "            for j in found_matches[i]['spectra_ID']:\n",
    "                cosine_score = cosine_check(spectra_query[i],\n",
    "                                            spectra_library[j],\n",
    "                                            tol = cosine_tol,\n",
    "                                            mod_cosine = True)\n",
    "                cosine_scores.append(cosine_score)\n",
    "            a, b = list(zip(*cosine_scores))\n",
    "            found_matches[i]['modcosine_score'] = a\n",
    "            found_matches[i]['modcosine_matches'] = b\n",
    "                \n",
    "    return found_matches\n",
    "\n",
    "\n",
    "def cosine_check(spectra1,\n",
    "                 spectra2,\n",
    "                 tol = 0.005,\n",
    "                 mod_cosine = False):\n",
    "\n",
    "    if mod_cosine:\n",
    "        mass_shift = spectra1.parent_mz - spectra2.parent_mz\n",
    "    else:\n",
    "        mass_shift = None\n",
    "    spec1 = np.array(spectra1.peaks, dtype=float)\n",
    "    spec2 = np.array(spectra2.peaks, dtype=float)\n",
    "    cosine_score = MS_sim_classic.cosine_score_greedy(spec1, \n",
    "                                                    spec2,\n",
    "                                                    mass_shift = mass_shift,\n",
    "                                                    tol = tol, \n",
    "                                                    min_intens = 0,\n",
    "                                                    use_numba = True)\n",
    "    return (cosine_score[0], len(cosine_score[1]))\n",
    "        "
   ]
  },
  {
   "cell_type": "markdown",
   "metadata": {},
   "source": [
    "### Calculate Spec2Vec spectra vector for query spectra"
   ]
  },
  {
   "cell_type": "code",
   "execution_count": 20,
   "metadata": {},
   "outputs": [
    {
     "name": "stdout",
     "output_type": "stream",
     "text": [
      "  Created documents for  1000  of  1000  spectra.\n",
      " ----------------------------------------\n",
      "Not all 'words' of the given documents are present in the trained word2vec model!\n",
      "23  out of  58468  'words' were not found in the word2vec model.\n",
      "'Words'missing in the pretrained word2vec model will be ignored.\n",
      "Removing missing 'words' from corpus...\n",
      "----- Deriving Spec2Vec spectra vectors -----\n",
      "  Calculated Spec2Vec spectra vectors for  1000  of  1000  documents.1000  documents.370  of  1000  documents."
     ]
    }
   ],
   "source": [
    "spectra_vectors = MS_functions.vectorize_spectra(spectra_unknown,\n",
    "                                                  MS_library,\n",
    "                                                  num_decimals = 2,\n",
    "                                                  min_loss = 5.0, \n",
    "                                                  max_loss = 500.0,\n",
    "                                                  peak_loss_words = ['peak_', 'loss_'],\n",
    "                                                  weighting_power = 0.5)"
   ]
  },
  {
   "cell_type": "markdown",
   "metadata": {},
   "source": [
    "---\n",
    "## Search for spectra matches in library\n",
    "This search will select all (annotated) spectra in the library for: \n",
    "+ same parent mass (within 10ppm)\n",
    "+ top-n (here: top-10) Spec2Vec similarity scores\n",
    "\n",
    "Then, between the query spectra and the found library spectra we also calculate:\n",
    "+ cosine score (tol = 0.05)\n",
    "+ modified cosine score (tol = 0.05)"
   ]
  },
  {
   "cell_type": "code",
   "execution_count": 62,
   "metadata": {},
   "outputs": [
    {
     "name": "stdout",
     "output_type": "stream",
     "text": [
      "Spec2Vec spectra vectors found for library data.\n"
     ]
    }
   ],
   "source": [
    "found_matches = library_matching(spectra_unknown, \n",
    "                                  spectra_library,\n",
    "                                  library_spectra_metadata, \n",
    "                                  MS_library, \n",
    "                                  top_n = 10,\n",
    "                                  method = 'Spec2Vec_mz',\n",
    "                                  mz_ppm = 10,\n",
    "                                  spectra_vectors = spectra_vectors,\n",
    "                                  ignore_non_annotated = True,\n",
    "                                  extra_cosine_check = True,\n",
    "                                  extra_modcosine_check = True,\n",
    "                                  cosine_tol = 0.05)"
   ]
  },
  {
   "cell_type": "code",
   "execution_count": 34,
   "metadata": {},
   "outputs": [
    {
     "name": "stdout",
     "output_type": "stream",
     "text": [
      "Searched matches for 1000 query spectra.\n"
     ]
    }
   ],
   "source": [
    "print(\"Searched matches for\", len(found_matches), \"query spectra.\")"
   ]
  },
  {
   "cell_type": "markdown",
   "metadata": {},
   "source": [
    "## Inspect detected potential matches:"
   ]
  },
  {
   "cell_type": "code",
   "execution_count": 63,
   "metadata": {},
   "outputs": [
    {
     "data": {
      "text/html": [
       "<div>\n",
       "<style scoped>\n",
       "    .dataframe tbody tr th:only-of-type {\n",
       "        vertical-align: middle;\n",
       "    }\n",
       "\n",
       "    .dataframe tbody tr th {\n",
       "        vertical-align: top;\n",
       "    }\n",
       "\n",
       "    .dataframe thead th {\n",
       "        text-align: right;\n",
       "    }\n",
       "</style>\n",
       "<table border=\"1\" class=\"dataframe\">\n",
       "  <thead>\n",
       "    <tr style=\"text-align: right;\">\n",
       "      <th></th>\n",
       "      <th>spectra_ID</th>\n",
       "      <th>mass_match</th>\n",
       "      <th>S2V_top_n</th>\n",
       "      <th>S2V_similarity</th>\n",
       "      <th>inchikey_match</th>\n",
       "      <th>cosine_score</th>\n",
       "      <th>cosine_matches</th>\n",
       "      <th>modcosine_score</th>\n",
       "      <th>modcosine_matches</th>\n",
       "    </tr>\n",
       "  </thead>\n",
       "  <tbody>\n",
       "    <tr>\n",
       "      <th>0</th>\n",
       "      <td>150</td>\n",
       "      <td>1</td>\n",
       "      <td>1</td>\n",
       "      <td>0.876603</td>\n",
       "      <td>1</td>\n",
       "      <td>0.752878</td>\n",
       "      <td>14</td>\n",
       "      <td>0.752878</td>\n",
       "      <td>14</td>\n",
       "    </tr>\n",
       "    <tr>\n",
       "      <th>1</th>\n",
       "      <td>833</td>\n",
       "      <td>1</td>\n",
       "      <td>1</td>\n",
       "      <td>0.918743</td>\n",
       "      <td>1</td>\n",
       "      <td>0.918311</td>\n",
       "      <td>12</td>\n",
       "      <td>0.918311</td>\n",
       "      <td>12</td>\n",
       "    </tr>\n",
       "    <tr>\n",
       "      <th>2</th>\n",
       "      <td>886</td>\n",
       "      <td>1</td>\n",
       "      <td>0</td>\n",
       "      <td>0.724667</td>\n",
       "      <td>1</td>\n",
       "      <td>0.702079</td>\n",
       "      <td>15</td>\n",
       "      <td>0.702079</td>\n",
       "      <td>15</td>\n",
       "    </tr>\n",
       "    <tr>\n",
       "      <th>3</th>\n",
       "      <td>1344</td>\n",
       "      <td>1</td>\n",
       "      <td>0</td>\n",
       "      <td>0.676492</td>\n",
       "      <td>1</td>\n",
       "      <td>0.908049</td>\n",
       "      <td>14</td>\n",
       "      <td>0.908049</td>\n",
       "      <td>14</td>\n",
       "    </tr>\n",
       "    <tr>\n",
       "      <th>4</th>\n",
       "      <td>13720</td>\n",
       "      <td>1</td>\n",
       "      <td>0</td>\n",
       "      <td>0.108649</td>\n",
       "      <td>0</td>\n",
       "      <td>0.015535</td>\n",
       "      <td>12</td>\n",
       "      <td>0.015535</td>\n",
       "      <td>12</td>\n",
       "    </tr>\n",
       "    <tr>\n",
       "      <th>5</th>\n",
       "      <td>25799</td>\n",
       "      <td>1</td>\n",
       "      <td>1</td>\n",
       "      <td>0.913059</td>\n",
       "      <td>1</td>\n",
       "      <td>0.736004</td>\n",
       "      <td>12</td>\n",
       "      <td>0.736004</td>\n",
       "      <td>12</td>\n",
       "    </tr>\n",
       "    <tr>\n",
       "      <th>6</th>\n",
       "      <td>25800</td>\n",
       "      <td>1</td>\n",
       "      <td>1</td>\n",
       "      <td>0.928948</td>\n",
       "      <td>1</td>\n",
       "      <td>0.993039</td>\n",
       "      <td>13</td>\n",
       "      <td>0.993039</td>\n",
       "      <td>13</td>\n",
       "    </tr>\n",
       "    <tr>\n",
       "      <th>7</th>\n",
       "      <td>25801</td>\n",
       "      <td>1</td>\n",
       "      <td>1</td>\n",
       "      <td>0.913904</td>\n",
       "      <td>1</td>\n",
       "      <td>0.893397</td>\n",
       "      <td>12</td>\n",
       "      <td>0.893397</td>\n",
       "      <td>12</td>\n",
       "    </tr>\n",
       "    <tr>\n",
       "      <th>8</th>\n",
       "      <td>25802</td>\n",
       "      <td>1</td>\n",
       "      <td>0</td>\n",
       "      <td>0.875254</td>\n",
       "      <td>1</td>\n",
       "      <td>0.859900</td>\n",
       "      <td>12</td>\n",
       "      <td>0.859900</td>\n",
       "      <td>12</td>\n",
       "    </tr>\n",
       "    <tr>\n",
       "      <th>9</th>\n",
       "      <td>25803</td>\n",
       "      <td>1</td>\n",
       "      <td>1</td>\n",
       "      <td>0.920073</td>\n",
       "      <td>1</td>\n",
       "      <td>0.754115</td>\n",
       "      <td>12</td>\n",
       "      <td>0.754115</td>\n",
       "      <td>12</td>\n",
       "    </tr>\n",
       "    <tr>\n",
       "      <th>10</th>\n",
       "      <td>25804</td>\n",
       "      <td>1</td>\n",
       "      <td>1</td>\n",
       "      <td>0.909840</td>\n",
       "      <td>1</td>\n",
       "      <td>0.891469</td>\n",
       "      <td>14</td>\n",
       "      <td>0.891469</td>\n",
       "      <td>14</td>\n",
       "    </tr>\n",
       "    <tr>\n",
       "      <th>11</th>\n",
       "      <td>25805</td>\n",
       "      <td>1</td>\n",
       "      <td>1</td>\n",
       "      <td>0.884339</td>\n",
       "      <td>1</td>\n",
       "      <td>0.859753</td>\n",
       "      <td>14</td>\n",
       "      <td>0.859753</td>\n",
       "      <td>14</td>\n",
       "    </tr>\n",
       "    <tr>\n",
       "      <th>12</th>\n",
       "      <td>30223</td>\n",
       "      <td>1</td>\n",
       "      <td>1</td>\n",
       "      <td>0.889769</td>\n",
       "      <td>1</td>\n",
       "      <td>0.821519</td>\n",
       "      <td>15</td>\n",
       "      <td>0.821519</td>\n",
       "      <td>15</td>\n",
       "    </tr>\n",
       "    <tr>\n",
       "      <th>13</th>\n",
       "      <td>30224</td>\n",
       "      <td>1</td>\n",
       "      <td>0</td>\n",
       "      <td>0.874405</td>\n",
       "      <td>1</td>\n",
       "      <td>0.888838</td>\n",
       "      <td>14</td>\n",
       "      <td>0.888838</td>\n",
       "      <td>14</td>\n",
       "    </tr>\n",
       "    <tr>\n",
       "      <th>14</th>\n",
       "      <td>30927</td>\n",
       "      <td>1</td>\n",
       "      <td>1</td>\n",
       "      <td>0.876603</td>\n",
       "      <td>1</td>\n",
       "      <td>0.752878</td>\n",
       "      <td>14</td>\n",
       "      <td>0.752878</td>\n",
       "      <td>14</td>\n",
       "    </tr>\n",
       "  </tbody>\n",
       "</table>\n",
       "</div>"
      ],
      "text/plain": [
       "    spectra_ID  mass_match  S2V_top_n  S2V_similarity  inchikey_match  \\\n",
       "0          150           1          1        0.876603               1   \n",
       "1          833           1          1        0.918743               1   \n",
       "2          886           1          0        0.724667               1   \n",
       "3         1344           1          0        0.676492               1   \n",
       "4        13720           1          0        0.108649               0   \n",
       "5        25799           1          1        0.913059               1   \n",
       "6        25800           1          1        0.928948               1   \n",
       "7        25801           1          1        0.913904               1   \n",
       "8        25802           1          0        0.875254               1   \n",
       "9        25803           1          1        0.920073               1   \n",
       "10       25804           1          1        0.909840               1   \n",
       "11       25805           1          1        0.884339               1   \n",
       "12       30223           1          1        0.889769               1   \n",
       "13       30224           1          0        0.874405               1   \n",
       "14       30927           1          1        0.876603               1   \n",
       "\n",
       "    cosine_score  cosine_matches  modcosine_score  modcosine_matches  \n",
       "0       0.752878              14         0.752878                 14  \n",
       "1       0.918311              12         0.918311                 12  \n",
       "2       0.702079              15         0.702079                 15  \n",
       "3       0.908049              14         0.908049                 14  \n",
       "4       0.015535              12         0.015535                 12  \n",
       "5       0.736004              12         0.736004                 12  \n",
       "6       0.993039              13         0.993039                 13  \n",
       "7       0.893397              12         0.893397                 12  \n",
       "8       0.859900              12         0.859900                 12  \n",
       "9       0.754115              12         0.754115                 12  \n",
       "10      0.891469              14         0.891469                 14  \n",
       "11      0.859753              14         0.859753                 14  \n",
       "12      0.821519              15         0.821519                 15  \n",
       "13      0.888838              14         0.888838                 14  \n",
       "14      0.752878              14         0.752878                 14  "
      ]
     },
     "execution_count": 63,
     "metadata": {},
     "output_type": "execute_result"
    }
   ],
   "source": [
    "found_matches[4]"
   ]
  },
  {
   "cell_type": "code",
   "execution_count": 395,
   "metadata": {},
   "outputs": [
    {
     "data": {
      "text/plain": [
       "'TVKGYMYAOVADOP'"
      ]
     },
     "execution_count": 395,
     "metadata": {},
     "output_type": "execute_result"
    }
   ],
   "source": [
    "ID = 3\n",
    "idx = found_matches[ID][(found_matches[ID]['mass_match'] == 1)]['spectra_ID'].values\n",
    "inchikeys14 = pd.Series(library_spectra_metadata.iloc[idx]['inchikey'].str[:14])\n",
    "inchikeys14.value_counts().index[0]"
   ]
  },
  {
   "cell_type": "code",
   "execution_count": 379,
   "metadata": {},
   "outputs": [
    {
     "data": {
      "text/html": [
       "<div>\n",
       "<style scoped>\n",
       "    .dataframe tbody tr th:only-of-type {\n",
       "        vertical-align: middle;\n",
       "    }\n",
       "\n",
       "    .dataframe tbody tr th {\n",
       "        vertical-align: top;\n",
       "    }\n",
       "\n",
       "    .dataframe thead th {\n",
       "        text-align: right;\n",
       "    }\n",
       "</style>\n",
       "<table border=\"1\" class=\"dataframe\">\n",
       "  <thead>\n",
       "    <tr style=\"text-align: right;\">\n",
       "      <th></th>\n",
       "      <th>spectra_ID</th>\n",
       "      <th>mass_match</th>\n",
       "      <th>S2V_similarity</th>\n",
       "      <th>inchikey_match</th>\n",
       "      <th>cosine_score</th>\n",
       "      <th>cosine_matches</th>\n",
       "      <th>modcosine_score</th>\n",
       "      <th>modcosine_matches</th>\n",
       "    </tr>\n",
       "  </thead>\n",
       "  <tbody>\n",
       "  </tbody>\n",
       "</table>\n",
       "</div>"
      ],
      "text/plain": [
       "Empty DataFrame\n",
       "Columns: [spectra_ID, mass_match, S2V_similarity, inchikey_match, cosine_score, cosine_matches, modcosine_score, modcosine_matches]\n",
       "Index: []"
      ]
     },
     "execution_count": 379,
     "metadata": {},
     "output_type": "execute_result"
    }
   ],
   "source": [
    "ID = 20\n",
    "found_matches[ID][(found_matches[ID]['mass_match'] == 1) & (found_matches[ID]['modcosine_score'] > 0.5)]                                                   \n"
   ]
  },
  {
   "cell_type": "code",
   "execution_count": 314,
   "metadata": {},
   "outputs": [
    {
     "data": {
      "text/html": [
       "<div>\n",
       "<style scoped>\n",
       "    .dataframe tbody tr th:only-of-type {\n",
       "        vertical-align: middle;\n",
       "    }\n",
       "\n",
       "    .dataframe tbody tr th {\n",
       "        vertical-align: top;\n",
       "    }\n",
       "\n",
       "    .dataframe thead th {\n",
       "        text-align: right;\n",
       "    }\n",
       "</style>\n",
       "<table border=\"1\" class=\"dataframe\">\n",
       "  <thead>\n",
       "    <tr style=\"text-align: right;\">\n",
       "      <th></th>\n",
       "      <th>spectra_ID</th>\n",
       "      <th>mass_match</th>\n",
       "      <th>S2V_similarity</th>\n",
       "      <th>inchikey_match</th>\n",
       "      <th>cosine_score</th>\n",
       "      <th>cosine_matches</th>\n",
       "      <th>modcosine_score</th>\n",
       "      <th>modcosine_matches</th>\n",
       "    </tr>\n",
       "  </thead>\n",
       "  <tbody>\n",
       "    <tr>\n",
       "      <th>0</th>\n",
       "      <td>57471</td>\n",
       "      <td>1</td>\n",
       "      <td>0.971922</td>\n",
       "      <td>1</td>\n",
       "      <td>0.894199</td>\n",
       "      <td>79</td>\n",
       "      <td>0.894199</td>\n",
       "      <td>79</td>\n",
       "    </tr>\n",
       "    <tr>\n",
       "      <th>1</th>\n",
       "      <td>57472</td>\n",
       "      <td>1</td>\n",
       "      <td>0.939726</td>\n",
       "      <td>1</td>\n",
       "      <td>0.677221</td>\n",
       "      <td>73</td>\n",
       "      <td>0.677221</td>\n",
       "      <td>73</td>\n",
       "    </tr>\n",
       "    <tr>\n",
       "      <th>2</th>\n",
       "      <td>57503</td>\n",
       "      <td>0</td>\n",
       "      <td>0.733260</td>\n",
       "      <td>0</td>\n",
       "      <td>0.571838</td>\n",
       "      <td>63</td>\n",
       "      <td>0.571804</td>\n",
       "      <td>62</td>\n",
       "    </tr>\n",
       "    <tr>\n",
       "      <th>3</th>\n",
       "      <td>57504</td>\n",
       "      <td>0</td>\n",
       "      <td>0.721446</td>\n",
       "      <td>0</td>\n",
       "      <td>0.559973</td>\n",
       "      <td>66</td>\n",
       "      <td>0.559973</td>\n",
       "      <td>66</td>\n",
       "    </tr>\n",
       "    <tr>\n",
       "      <th>4</th>\n",
       "      <td>57236</td>\n",
       "      <td>0</td>\n",
       "      <td>0.716691</td>\n",
       "      <td>0</td>\n",
       "      <td>0.503513</td>\n",
       "      <td>60</td>\n",
       "      <td>0.504526</td>\n",
       "      <td>67</td>\n",
       "    </tr>\n",
       "    <tr>\n",
       "      <th>6</th>\n",
       "      <td>57609</td>\n",
       "      <td>0</td>\n",
       "      <td>0.697292</td>\n",
       "      <td>0</td>\n",
       "      <td>0.538801</td>\n",
       "      <td>60</td>\n",
       "      <td>0.550556</td>\n",
       "      <td>66</td>\n",
       "    </tr>\n",
       "    <tr>\n",
       "      <th>8</th>\n",
       "      <td>57612</td>\n",
       "      <td>0</td>\n",
       "      <td>0.646124</td>\n",
       "      <td>0</td>\n",
       "      <td>0.566095</td>\n",
       "      <td>47</td>\n",
       "      <td>0.573376</td>\n",
       "      <td>61</td>\n",
       "    </tr>\n",
       "  </tbody>\n",
       "</table>\n",
       "</div>"
      ],
      "text/plain": [
       "   spectra_ID  mass_match  S2V_similarity  inchikey_match  cosine_score  \\\n",
       "0       57471           1        0.971922               1      0.894199   \n",
       "1       57472           1        0.939726               1      0.677221   \n",
       "2       57503           0        0.733260               0      0.571838   \n",
       "3       57504           0        0.721446               0      0.559973   \n",
       "4       57236           0        0.716691               0      0.503513   \n",
       "6       57609           0        0.697292               0      0.538801   \n",
       "8       57612           0        0.646124               0      0.566095   \n",
       "\n",
       "   cosine_matches  modcosine_score  modcosine_matches  \n",
       "0              79         0.894199                 79  \n",
       "1              73         0.677221                 73  \n",
       "2              63         0.571804                 62  \n",
       "3              66         0.559973                 66  \n",
       "4              60         0.504526                 67  \n",
       "6              60         0.550556                 66  \n",
       "8              47         0.573376                 61  "
      ]
     },
     "execution_count": 314,
     "metadata": {},
     "output_type": "execute_result"
    }
   ],
   "source": [
    "ID = 55\n",
    "found_matches[ID][(found_matches[ID]['S2V_similarity'] >0) & (found_matches[ID]['modcosine_score'] > 0.5)]"
   ]
  },
  {
   "cell_type": "code",
   "execution_count": 330,
   "metadata": {},
   "outputs": [
    {
     "name": "stdout",
     "output_type": "stream",
     "text": [
      "best bet:  0.0\n"
     ]
    },
    {
     "data": {
      "text/html": [
       "<div>\n",
       "<style scoped>\n",
       "    .dataframe tbody tr th:only-of-type {\n",
       "        vertical-align: middle;\n",
       "    }\n",
       "\n",
       "    .dataframe tbody tr th {\n",
       "        vertical-align: top;\n",
       "    }\n",
       "\n",
       "    .dataframe thead th {\n",
       "        text-align: right;\n",
       "    }\n",
       "</style>\n",
       "<table border=\"1\" class=\"dataframe\">\n",
       "  <thead>\n",
       "    <tr style=\"text-align: right;\">\n",
       "      <th></th>\n",
       "      <th>spectra_ID</th>\n",
       "      <th>mass_match</th>\n",
       "      <th>S2V_similarity</th>\n",
       "      <th>inchikey_match</th>\n",
       "      <th>cosine_score</th>\n",
       "      <th>cosine_matches</th>\n",
       "      <th>modcosine_score</th>\n",
       "      <th>modcosine_matches</th>\n",
       "    </tr>\n",
       "  </thead>\n",
       "  <tbody>\n",
       "    <tr>\n",
       "      <th>0</th>\n",
       "      <td>12269</td>\n",
       "      <td>0</td>\n",
       "      <td>0.619149</td>\n",
       "      <td>0</td>\n",
       "      <td>0.000733</td>\n",
       "      <td>3</td>\n",
       "      <td>0.996540</td>\n",
       "      <td>34</td>\n",
       "    </tr>\n",
       "    <tr>\n",
       "      <th>5</th>\n",
       "      <td>10310</td>\n",
       "      <td>0</td>\n",
       "      <td>0.559409</td>\n",
       "      <td>0</td>\n",
       "      <td>0.000006</td>\n",
       "      <td>3</td>\n",
       "      <td>0.992639</td>\n",
       "      <td>27</td>\n",
       "    </tr>\n",
       "  </tbody>\n",
       "</table>\n",
       "</div>"
      ],
      "text/plain": [
       "   spectra_ID  mass_match  S2V_similarity  inchikey_match  cosine_score  \\\n",
       "0       12269           0        0.619149               0      0.000733   \n",
       "5       10310           0        0.559409               0      0.000006   \n",
       "\n",
       "   cosine_matches  modcosine_score  modcosine_matches  \n",
       "0               3         0.996540                 34  \n",
       "5               3         0.992639                 27  "
      ]
     },
     "execution_count": 330,
     "metadata": {},
     "output_type": "execute_result"
    }
   ],
   "source": [
    "ID = 59\n",
    "df_select = found_matches[ID][(found_matches[ID]['S2V_similarity'] >0) & (found_matches[ID]['modcosine_score'] > 0.5)]\n",
    "print(\"best bet: \", df_select.sort_values(by=['S2V_similarity', 'modcosine_score'], ascending=False).iloc[0].inchikey_match)\n",
    "df_select.sort_values(by=['S2V_similarity', 'modcosine_score'], ascending=False).head()\n"
   ]
  },
  {
   "cell_type": "markdown",
   "metadata": {},
   "source": [
    "## More extensive run through different scenarios:"
   ]
  },
  {
   "cell_type": "code",
   "execution_count": 118,
   "metadata": {},
   "outputs": [],
   "source": [
    "test0_true_false = []\n",
    "test1_true_false = []\n",
    "test2_true_false = []\n",
    "test3_true_false = []\n",
    "test4_true_false = []\n",
    "test5_true_false = []\n",
    "test6_true_false = []\n",
    "test7_true_false = []\n",
    "\n",
    "for ID in range(len(spectra_unknown)):\n",
    "    \n",
    "    # Scenario 0: mass + sort by frequency\n",
    "    df_select = found_matches[ID][found_matches[ID]['mass_match'] == 1]\n",
    "    if df_select.shape[0] > 0:\n",
    "        # Find most frequent inchikey among mass matches\n",
    "        idx = found_matches[ID][(found_matches[ID]['mass_match'] == 1)]['spectra_ID'].values\n",
    "        inchikeys14 = pd.Series(library_spectra_metadata.iloc[idx]['inchikey'].str[:14])\n",
    "        best_bet = 1 * (inchikeys14.value_counts().index[0] == spectra_unknown[ID].inchikey[:14])        \n",
    "    else:\n",
    "        best_bet = -1 # meaning: not found\n",
    "    test0_true_false.append(best_bet)\n",
    "    \n",
    "    # Scenario 1: mass + sort by mod.cos\n",
    "    df_select = found_matches[ID][(found_matches[ID]['mass_match'] == 1)]\n",
    "    if df_select.shape[0] > 0:\n",
    "        best_bet = df_select.sort_values(by=['modcosine_score'], ascending=False).iloc[0].inchikey_match\n",
    "    else:\n",
    "        best_bet = -1 # meaning: not found\n",
    "    test1_true_false.append(best_bet)\n",
    "    \n",
    "    # Scenario 2: mass + sort by Spec2Vec\n",
    "    df_select = found_matches[ID][(found_matches[ID]['mass_match'] == 1)]\n",
    "    if df_select.shape[0] > 0:\n",
    "        best_bet = df_select.sort_values(by=['S2V_similarity'], ascending=False).iloc[0].inchikey_match\n",
    "    else:\n",
    "        best_bet = -1 # meaning: not found\n",
    "    test2_true_false.append(best_bet)\n",
    "    \n",
    "    # Scenario 3:Spec2Vec + mod.cosine\n",
    "    df_select = found_matches[ID][(found_matches[ID]['S2V_similarity'] > 0.7) | (found_matches[ID]['modcosine_score'] > 0.7)]\n",
    "    if df_select.shape[0] > 0:\n",
    "        best_bet = df_select.sort_values(by=['mass_match', 'S2V_similarity', 'modcosine_score'], ascending=False).iloc[0].inchikey_match\n",
    "    else:\n",
    "        best_bet = -1 # meaning: not found\n",
    "    test3_true_false.append(best_bet)\n",
    "    \n",
    "        \n",
    "    # Scenario 4: mass + Spec2Vec top_n sort by S2V + modcos\n",
    "    df_select = found_matches[ID][(found_matches[ID]['mass_match'] == 1) & (found_matches[ID]['S2V_top_n'] > 0)]\n",
    "    if df_select.shape[0] > 0:\n",
    "        best_bet = df_select.sort_values(by=['S2V_similarity', 'modcosine_score'], ascending=False).iloc[0].inchikey_match\n",
    "    else:\n",
    "        best_bet = -1 # meaning: not found\n",
    "    test4_true_false.append(best_bet)\n",
    "    \n",
    "    \n",
    "    # Scenario 5: mass + Spec2Vec + mod.cosine\n",
    "    df_select = found_matches[ID][(found_matches[ID]['mass_match'] == 1) \n",
    "                                  & (found_matches[ID]['S2V_top_n'] > 0)\n",
    "                                  & (found_matches[ID]['modcosine_score'] > 0.5)]\n",
    "    if df_select.shape[0] > 0:\n",
    "        best_bet = df_select.sort_values(by=['S2V_similarity', 'modcosine_score'], ascending=False).iloc[0].inchikey_match\n",
    "    else:\n",
    "        best_bet = -1 # meaning: not found\n",
    "    test5_true_false.append(best_bet)\n",
    "    \n",
    "    \n",
    "    # Scenario 6: mass + Spec2Vec + mod.cosine + backup\n",
    "    df_select = found_matches[ID][(found_matches[ID]['mass_match'] == 1) \n",
    "                                  & (found_matches[ID]['S2V_top_n'] > 0)\n",
    "                                  & (found_matches[ID]['modcosine_score'] > 0.5)]\n",
    "    if df_select.shape[0] > 0:\n",
    "        best_bet = df_select.sort_values(by=['S2V_similarity', 'modcosine_score'], ascending=False).iloc[0].inchikey_match\n",
    "    else: # no fitting masses found --> switch to backup plan\n",
    "        df_select = found_matches[ID][(found_matches[ID]['S2V_similarity'] > 0.7) & (found_matches[ID]['mass_match'] == 1)]\n",
    "        if df_select.shape[0] > 0: \n",
    "            best_bet = df_select.sort_values(by=['S2V_similarity', 'modcosine_score'], ascending=False).iloc[0].inchikey_match\n",
    "        else:\n",
    "            best_bet = -1 # meaning: not found\n",
    "    test6_true_false.append(best_bet)\n",
    "    \n",
    "    \n",
    "    # Scenario 7: mass + mod.cosine AND as backup: Spec2Vec + mod.cosine\n",
    "    df_select = found_matches[ID][(found_matches[ID]['mass_match'] == 1) \n",
    "                                  & ((found_matches[ID]['modcosine_score'] > 0.5) | (found_matches[ID]['S2V_similarity'] > 0.7))]\n",
    "    if df_select.shape[0] > 0: \n",
    "        best_bet = df_select.sort_values(by=['mass_match', 'modcosine_score'], ascending=False).iloc[0].inchikey_match\n",
    "    else: # no fitting masses found --> switch to backup plan\n",
    "        df_select = found_matches[ID][(found_matches[ID]['S2V_similarity'] > 0.7) | (found_matches[ID]['modcosine_score'] > 0.7)]\n",
    "        if df_select.shape[0] > 0: \n",
    "            best_bet = df_select.sort_values(by=['S2V_similarity', 'modcosine_score'], ascending=False).iloc[0].inchikey_match\n",
    "        else:\n",
    "            best_bet = -1 # meaning: not found\n",
    "    test7_true_false.append(best_bet)\n",
    "\n",
    "# Make arrays from lists:\n",
    "test0_arr = np.array(test0_true_false)\n",
    "test1_arr = np.array(test1_true_false)\n",
    "test2_arr = np.array(test2_true_false)\n",
    "test3_arr = np.array(test3_true_false)\n",
    "test4_arr = np.array(test4_true_false)\n",
    "test5_arr = np.array(test5_true_false)\n",
    "test6_arr = np.array(test6_true_false)\n",
    "test7_arr = np.array(test7_true_false)"
   ]
  },
  {
   "cell_type": "code",
   "execution_count": 100,
   "metadata": {},
   "outputs": [
    {
     "name": "stdout",
     "output_type": "stream",
     "text": [
      "Scenario 0 found matches: 395  --- nothing detected for:  92\n",
      "Scenario 1 found matches: 594  --- nothing detected for:  92\n",
      "Scenario 2 found matches: 623  --- nothing detected for:  92\n",
      "Scenario 3 found matches: 572  --- nothing detected for:  119\n",
      "Scenario 4 found matches: 554  --- nothing detected for:  313\n",
      "Scenario 5 found matches: 468  --- nothing detected for:  422\n",
      "Scenario 6 found matches: 530  --- nothing detected for:  351\n",
      "Scenario 7 found matches: 568  --- nothing detected for:  102\n"
     ]
    }
   ],
   "source": [
    "print(\"Scenario 0 found matches:\", np.sum(test0_arr == 1), \" --- nothing detected for: \", np.sum(test0_arr == -1))\n",
    "print(\"Scenario 1 found matches:\", np.sum(test1_arr == 1), \" --- nothing detected for: \", np.sum(test1_arr == -1))\n",
    "print(\"Scenario 2 found matches:\", np.sum(test2_arr == 1), \" --- nothing detected for: \", np.sum(test2_arr == -1))\n",
    "print(\"Scenario 3 found matches:\", np.sum(test3_arr == 1), \" --- nothing detected for: \", np.sum(test3_arr == -1))\n",
    "print(\"Scenario 4 found matches:\", np.sum(test4_arr == 1), \" --- nothing detected for: \", np.sum(test4_arr == -1))\n",
    "print(\"Scenario 5 found matches:\", np.sum(test5_arr == 1), \" --- nothing detected for: \", np.sum(test5_arr == -1))\n",
    "print(\"Scenario 6 found matches:\", np.sum(test6_arr == 1), \" --- nothing detected for: \", np.sum(test6_arr == -1))\n",
    "print(\"Scenario 7 found matches:\", np.sum(test7_arr == 1), \" --- nothing detected for: \", np.sum(test7_arr == -1))"
   ]
  },
  {
   "cell_type": "code",
   "execution_count": 103,
   "metadata": {},
   "outputs": [
    {
     "data": {
      "text/html": [
       "<div>\n",
       "<style scoped>\n",
       "    .dataframe tbody tr th:only-of-type {\n",
       "        vertical-align: middle;\n",
       "    }\n",
       "\n",
       "    .dataframe tbody tr th {\n",
       "        vertical-align: top;\n",
       "    }\n",
       "\n",
       "    .dataframe thead th {\n",
       "        text-align: right;\n",
       "    }\n",
       "</style>\n",
       "<table border=\"1\" class=\"dataframe\">\n",
       "  <thead>\n",
       "    <tr style=\"text-align: right;\">\n",
       "      <th></th>\n",
       "      <th>true matches</th>\n",
       "      <th>false matches</th>\n",
       "      <th>no matches</th>\n",
       "    </tr>\n",
       "  </thead>\n",
       "  <tbody>\n",
       "    <tr>\n",
       "      <th>0</th>\n",
       "      <td>395</td>\n",
       "      <td>513</td>\n",
       "      <td>92</td>\n",
       "    </tr>\n",
       "    <tr>\n",
       "      <th>1</th>\n",
       "      <td>594</td>\n",
       "      <td>314</td>\n",
       "      <td>92</td>\n",
       "    </tr>\n",
       "    <tr>\n",
       "      <th>2</th>\n",
       "      <td>623</td>\n",
       "      <td>285</td>\n",
       "      <td>92</td>\n",
       "    </tr>\n",
       "    <tr>\n",
       "      <th>3</th>\n",
       "      <td>468</td>\n",
       "      <td>110</td>\n",
       "      <td>422</td>\n",
       "    </tr>\n",
       "  </tbody>\n",
       "</table>\n",
       "</div>"
      ],
      "text/plain": [
       "   true matches  false matches  no matches\n",
       "0           395            513          92\n",
       "1           594            314          92\n",
       "2           623            285          92\n",
       "3           468            110         422"
      ]
     },
     "execution_count": 103,
     "metadata": {},
     "output_type": "execute_result"
    }
   ],
   "source": [
    "dataframe"
   ]
  },
  {
   "cell_type": "code",
   "execution_count": 117,
   "metadata": {},
   "outputs": [
    {
     "name": "stdout",
     "output_type": "stream",
     "text": [
      "Scenario test found matches: 732  --- nothing detected for:  120\n"
     ]
    }
   ],
   "source": [
    "test_true_false = []\n",
    "\n",
    "for ID in range(len(spectra_unknown)):  \n",
    "    \n",
    "    # Scenario 0: mass + Spec2Vec + mod.cosine\n",
    "    df_select = found_matches[ID][(found_matches[ID]['mass_match'] == 1) \n",
    "                                  & (found_matches[ID]['S2V_top_n'] > 0)\n",
    "                                  & (found_matches[ID]['modcosine_score'] > 0.5)]\n",
    "    if df_select.shape[0] > 0:\n",
    "        df_select = found_matches[ID][(found_matches[ID]['mass_match'] == 1) \n",
    "                              & (found_matches[ID]['S2V_similarity'] > 0.7)]\n",
    "        if df_select.shape[0] > 0:\n",
    "            best_bet = df_select.sort_values(by=['S2V_similarity', 'modcosine_score'], ascending=False).iloc[0].inchikey_match\n",
    "        else:\n",
    "            best_bet = -1 # meaning: not found\n",
    "    test_true_false.append(best_bet)\n",
    "    \n",
    "    \n",
    "\n",
    "# Make arrays from lists:\n",
    "test_arr = np.array(test_true_false)\n",
    "print(\"Scenario test found matches:\", np.sum(test_arr == 1), \" --- nothing detected for: \", np.sum(test_arr == -1))"
   ]
  },
  {
   "cell_type": "code",
   "execution_count": 120,
   "metadata": {},
   "outputs": [
    {
     "data": {
      "text/plain": [
       "Text(0.5, 0, 'Number of spectra')"
      ]
     },
     "execution_count": 120,
     "metadata": {},
     "output_type": "execute_result"
    },
    {
     "data": {
      "image/png": "[encoded data removed]",
      "text/plain": [
       "<Figure size 432x288 with 1 Axes>"
      ]
     },
     "metadata": {},
     "output_type": "display_data"
    }
   ],
   "source": [
    "ylabels = ['mass + most frequent inchikey',\n",
    "          'mass + mod.cosine', \n",
    "          'mass + Spec2Vec',\n",
    "          'mass + Spec2Vec + mod.cosine',\n",
    "          'mass + Spec2Vec + mod.cosine -> 2 steps']\n",
    "xlabels = ['true matches', 'false matches', 'no matches']\n",
    "          #'mass + mod.cosine \\n + as backup: Spec2Vec + mod.cosine']\n",
    "data = np.array([[np.sum(test0_arr == 1), np.sum(test0_arr == 0), np.sum(test0_arr == -1)],\n",
    "                [np.sum(test1_arr == 1), np.sum(test1_arr == 0), np.sum(test1_arr == -1)],\n",
    "               [np.sum(test2_arr == 1), np.sum(test2_arr == 0), np.sum(test2_arr == -1)],\n",
    "               [np.sum(test5_arr == 1), np.sum(test5_arr == 0), np.sum(test5_arr == -1)],\n",
    "                [np.sum(test_arr == 1), np.sum(test_arr == 0), np.sum(test_arr == -1)]])\n",
    "  \n",
    "dataframe = pd.DataFrame(data, columns=xlabels, index=ylabels)\n",
    "\n",
    "ax = dataframe.plot.barh(stacked=True, edgecolor='none')\n",
    "\n",
    "horiz_offset = 1.03\n",
    "vert_offset = 1.\n",
    "ax.legend(bbox_to_anchor=(horiz_offset, vert_offset))\n",
    "plt.xlabel('Number of spectra')\n"
   ]
  },
  {
   "cell_type": "code",
   "execution_count": null,
   "metadata": {},
   "outputs": [],
   "source": [
    "labels = ['mass + most frequent inchikey',\n",
    "          'mass + mod.cosine', \n",
    "          'mass + Spec2Vec',\n",
    "          'Spec2Vec + mod.cosine', \n",
    "          'mass + mod.cosine \\n + as backup: Spec2Vec + mod.cosine', \n",
    "          ]\n",
    "data = [np.sum(test0_arr == 1),\n",
    "        np.sum(test1_arr == 1),\n",
    "       np.sum(test7_arr == 1),\n",
    "       np.sum(test5_arr == 1)]\n",
    "\n",
    "plt.style.use('ggplot')\n",
    "\n",
    "fig, ax = plt.subplots(figsize=(10,5))\n",
    "\n",
    "ax.barh(labels, data, align='center')\n",
    "ax.set_yticks(labels)\n",
    "ax.set_yticklabels(labels, fontsize= 14)\n",
    "ax.invert_yaxis()  # labels read top-to-bottom\n",
    "ax.set_xlabel('Numbar of true positives')\n",
    "ax.set_title('Library matching tests')\n",
    "plt.xlim(0, 1000)\n"
   ]
  },
  {
   "cell_type": "code",
   "execution_count": null,
   "metadata": {},
   "outputs": [],
   "source": []
  }
 ],
 "metadata": {
  "kernelspec": {
   "display_name": "Python 3",
   "language": "python",
   "name": "python3"
  },
  "language_info": {
   "codemirror_mode": {
    "name": "ipython",
    "version": 3
   },
   "file_extension": ".py",
   "mimetype": "text/x-python",
   "name": "python",
   "nbconvert_exporter": "python",
   "pygments_lexer": "ipython3",
   "version": "3.6.8"
  }
 },
 "nbformat": 4,
 "nbformat_minor": 2
}
